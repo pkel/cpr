{
 "cells": [
  {
   "cell_type": "code",
   "execution_count": 1,
   "id": "f05b6a5c-0f6b-48ed-8744-e67d2f9eed41",
   "metadata": {},
   "outputs": [],
   "source": [
    "import gymnasium as gym\n",
    "import numpy as np\n",
    "import pandas as pd\n",
    "import seaborn as sns"
   ]
  },
  {
   "cell_type": "code",
   "execution_count": 2,
   "id": "d8ff0b52-4432-4d69-8857-9b8b63c04019",
   "metadata": {},
   "outputs": [],
   "source": [
    "horizon = 25\n",
    "alpha = 0.42\n",
    "env = gym.make(\"cpr_gym_rs:Nakamoto-v0\", alpha=alpha, horizon=horizon)"
   ]
  },
  {
   "cell_type": "code",
   "execution_count": 3,
   "id": "17a01e23-a264-415c-a42a-76ec4406e904",
   "metadata": {},
   "outputs": [
    {
     "data": {
      "text/html": [
       "<div>\n",
       "<style scoped>\n",
       "    .dataframe tbody tr th:only-of-type {\n",
       "        vertical-align: middle;\n",
       "    }\n",
       "\n",
       "    .dataframe tbody tr th {\n",
       "        vertical-align: top;\n",
       "    }\n",
       "\n",
       "    .dataframe thead th {\n",
       "        text-align: right;\n",
       "    }\n",
       "</style>\n",
       "<table border=\"1\" class=\"dataframe\">\n",
       "  <thead>\n",
       "    <tr style=\"text-align: right;\">\n",
       "      <th></th>\n",
       "      <th>policy</th>\n",
       "      <th>steps</th>\n",
       "      <th>progress</th>\n",
       "      <th>reward_attacker</th>\n",
       "      <th>reward_defender</th>\n",
       "      <th>rewrite</th>\n",
       "      <th>time</th>\n",
       "    </tr>\n",
       "  </thead>\n",
       "  <tbody>\n",
       "    <tr>\n",
       "      <th>0</th>\n",
       "      <td>do-nothing</td>\n",
       "      <td>70</td>\n",
       "      <td>43.0</td>\n",
       "      <td>0.0</td>\n",
       "      <td>43.0</td>\n",
       "      <td>0</td>\n",
       "      <td>70</td>\n",
       "    </tr>\n",
       "    <tr>\n",
       "      <th>1</th>\n",
       "      <td>do-nothing</td>\n",
       "      <td>19</td>\n",
       "      <td>10.0</td>\n",
       "      <td>0.0</td>\n",
       "      <td>10.0</td>\n",
       "      <td>0</td>\n",
       "      <td>19</td>\n",
       "    </tr>\n",
       "    <tr>\n",
       "      <th>2</th>\n",
       "      <td>do-nothing</td>\n",
       "      <td>4</td>\n",
       "      <td>3.0</td>\n",
       "      <td>0.0</td>\n",
       "      <td>3.0</td>\n",
       "      <td>0</td>\n",
       "      <td>4</td>\n",
       "    </tr>\n",
       "    <tr>\n",
       "      <th>3</th>\n",
       "      <td>do-nothing</td>\n",
       "      <td>12</td>\n",
       "      <td>6.0</td>\n",
       "      <td>0.0</td>\n",
       "      <td>6.0</td>\n",
       "      <td>0</td>\n",
       "      <td>12</td>\n",
       "    </tr>\n",
       "    <tr>\n",
       "      <th>4</th>\n",
       "      <td>do-nothing</td>\n",
       "      <td>101</td>\n",
       "      <td>60.0</td>\n",
       "      <td>0.0</td>\n",
       "      <td>60.0</td>\n",
       "      <td>0</td>\n",
       "      <td>101</td>\n",
       "    </tr>\n",
       "    <tr>\n",
       "      <th>...</th>\n",
       "      <td>...</td>\n",
       "      <td>...</td>\n",
       "      <td>...</td>\n",
       "      <td>...</td>\n",
       "      <td>...</td>\n",
       "      <td>...</td>\n",
       "      <td>...</td>\n",
       "    </tr>\n",
       "    <tr>\n",
       "      <th>1820</th>\n",
       "      <td>selfish-mining</td>\n",
       "      <td>24</td>\n",
       "      <td>10.0</td>\n",
       "      <td>8.0</td>\n",
       "      <td>2.0</td>\n",
       "      <td>2</td>\n",
       "      <td>15</td>\n",
       "    </tr>\n",
       "    <tr>\n",
       "      <th>1821</th>\n",
       "      <td>selfish-mining</td>\n",
       "      <td>161</td>\n",
       "      <td>53.0</td>\n",
       "      <td>39.0</td>\n",
       "      <td>14.0</td>\n",
       "      <td>12</td>\n",
       "      <td>81</td>\n",
       "    </tr>\n",
       "    <tr>\n",
       "      <th>1822</th>\n",
       "      <td>selfish-mining</td>\n",
       "      <td>26</td>\n",
       "      <td>11.0</td>\n",
       "      <td>6.0</td>\n",
       "      <td>5.0</td>\n",
       "      <td>1</td>\n",
       "      <td>15</td>\n",
       "    </tr>\n",
       "    <tr>\n",
       "      <th>1823</th>\n",
       "      <td>selfish-mining</td>\n",
       "      <td>51</td>\n",
       "      <td>20.0</td>\n",
       "      <td>8.0</td>\n",
       "      <td>12.0</td>\n",
       "      <td>3</td>\n",
       "      <td>26</td>\n",
       "    </tr>\n",
       "    <tr>\n",
       "      <th>1824</th>\n",
       "      <td>selfish-mining</td>\n",
       "      <td>9</td>\n",
       "      <td>4.0</td>\n",
       "      <td>4.0</td>\n",
       "      <td>0.0</td>\n",
       "      <td>1</td>\n",
       "      <td>6</td>\n",
       "    </tr>\n",
       "  </tbody>\n",
       "</table>\n",
       "<p>1825 rows × 7 columns</p>\n",
       "</div>"
      ],
      "text/plain": [
       "              policy  steps  progress  reward_attacker  reward_defender  \\\n",
       "0         do-nothing     70      43.0              0.0             43.0   \n",
       "1         do-nothing     19      10.0              0.0             10.0   \n",
       "2         do-nothing      4       3.0              0.0              3.0   \n",
       "3         do-nothing     12       6.0              0.0              6.0   \n",
       "4         do-nothing    101      60.0              0.0             60.0   \n",
       "...              ...    ...       ...              ...              ...   \n",
       "1820  selfish-mining     24      10.0              8.0              2.0   \n",
       "1821  selfish-mining    161      53.0             39.0             14.0   \n",
       "1822  selfish-mining     26      11.0              6.0              5.0   \n",
       "1823  selfish-mining     51      20.0              8.0             12.0   \n",
       "1824  selfish-mining      9       4.0              4.0              0.0   \n",
       "\n",
       "      rewrite  time  \n",
       "0           0    70  \n",
       "1           0    19  \n",
       "2           0     4  \n",
       "3           0    12  \n",
       "4           0   101  \n",
       "...       ...   ...  \n",
       "1820        2    15  \n",
       "1821       12    81  \n",
       "1822        1    15  \n",
       "1823        3    26  \n",
       "1824        1     6  \n",
       "\n",
       "[1825 rows x 7 columns]"
      ]
     },
     "execution_count": 3,
     "metadata": {},
     "output_type": "execute_result"
    }
   ],
   "source": [
    "def do_nothing_policy(o):\n",
    "    return env.unwrapped.encode_action_continue()\n",
    "\n",
    "\n",
    "def selfish_mining_policy(o):\n",
    "    assert o.shape == (3,)\n",
    "    a = o[0]\n",
    "    h = o[1]\n",
    "    if h > a:\n",
    "        return env.unwrapped.encode_action_consider(0)  # adopt\n",
    "    if a == 1 and h == 1:\n",
    "        return env.unwrapped.encode_action_release(0)  # match\n",
    "    if h == a - 1 and h >= 1:\n",
    "        return env.unwrapped.encode_action_release(0)  # override\n",
    "    return env.unwrapped.encode_action_continue()  # continue / wait\n",
    "\n",
    "\n",
    "_ = env.reset()\n",
    "_, _, _, _, info = env.step(env.unwrapped.encode_action_continue())\n",
    "keys = sorted(info.keys())\n",
    "\n",
    "\n",
    "def simulate(policy, label):\n",
    "    episodes = []\n",
    "\n",
    "    def ep_dict():\n",
    "        d = dict(steps=0)\n",
    "        for k in keys:\n",
    "            d[k] = 0\n",
    "        return d\n",
    "\n",
    "    def acc_dict(d, info):\n",
    "        d[\"steps\"] += 1\n",
    "        for k in keys:\n",
    "            d[k] += info[k]\n",
    "\n",
    "    ep = ep_dict()\n",
    "    obs, info = env.reset()\n",
    "    for i in range(50000):\n",
    "        a = policy(obs)\n",
    "        obs, r, term, trunc, info = env.step(a)\n",
    "        acc_dict(ep, info)\n",
    "        if term or trunc:\n",
    "            episodes.append(dict(policy=label) | ep)\n",
    "            ep = ep_dict()\n",
    "            obs, info = env.reset()\n",
    "\n",
    "    return episodes\n",
    "\n",
    "\n",
    "episodes = pd.DataFrame(\n",
    "    simulate(do_nothing_policy, \"do-nothing\")\n",
    "    + simulate(selfish_mining_policy, \"selfish-mining\")\n",
    ")\n",
    "episodes"
   ]
  },
  {
   "cell_type": "code",
   "execution_count": 4,
   "id": "8af89f9f-3ed6-4509-a4ed-06f43f3b2e12",
   "metadata": {},
   "outputs": [
    {
     "data": {
      "text/plain": [
       "(25, 26.18849315068493)"
      ]
     },
     "execution_count": 4,
     "metadata": {},
     "output_type": "execute_result"
    }
   ],
   "source": [
    "horizon, episodes.progress.mean()"
   ]
  },
  {
   "cell_type": "code",
   "execution_count": 5,
   "id": "a71d91be-e31d-45a5-90bb-1e385beaa16e",
   "metadata": {},
   "outputs": [
    {
     "data": {
      "text/plain": [
       "<seaborn.axisgrid.FacetGrid at 0x7facd3157f40>"
      ]
     },
     "execution_count": 5,
     "metadata": {},
     "output_type": "execute_result"
    },
    {
     "data": {
      "image/png": "[encoded data removed]",
      "text/plain": [
       "<Figure size 646.75x500 with 1 Axes>"
      ]
     },
     "metadata": {},
     "output_type": "display_data"
    }
   ],
   "source": [
    "sns.relplot(data=episodes, x=\"progress\", y=\"reward_attacker\", hue=\"policy\")"
   ]
  },
  {
   "cell_type": "code",
   "execution_count": 6,
   "id": "8f7a6416-3dd8-434c-89bb-28206a1d59a9",
   "metadata": {},
   "outputs": [
    {
     "name": "stdout",
     "output_type": "stream",
     "text": [
      "do-nothing 0.42 0.1298366294067068\n",
      "selfish-mining 0.42 0.5646802627569943\n"
     ]
    }
   ],
   "source": [
    "for policy in episodes.policy.unique():\n",
    "    subset = episodes.query(f\"policy == '{policy}'\")\n",
    "    print(policy, alpha, (subset.reward_attacker / subset.progress).mean())"
   ]
  }
 ],
 "metadata": {
  "kernelspec": {
   "display_name": "Python 3 (ipykernel)",
   "language": "python",
   "name": "python3"
  },
  "language_info": {
   "codemirror_mode": {
    "name": "ipython",
    "version": 3
   },
   "file_extension": ".py",
   "mimetype": "text/x-python",
   "name": "python",
   "nbconvert_exporter": "python",
   "pygments_lexer": "ipython3",
   "version": "3.9.19"
  }
 },
 "nbformat": 4,
 "nbformat_minor": 5
}
