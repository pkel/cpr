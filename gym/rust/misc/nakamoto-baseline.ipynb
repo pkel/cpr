{
 "cells": [
  {
   "cell_type": "code",
   "execution_count": 1,
   "id": "f05b6a5c-0f6b-48ed-8744-e67d2f9eed41",
   "metadata": {},
   "outputs": [],
   "source": [
    "import gymnasium as gym"
   ]
  },
  {
   "cell_type": "code",
   "execution_count": 2,
   "id": "d8ff0b52-4432-4d69-8857-9b8b63c04019",
   "metadata": {},
   "outputs": [],
   "source": [
    "env = gym.make(\"cpr_gym_rs:Nakamoto-v0\")"
   ]
  },
  {
   "cell_type": "code",
   "execution_count": 3,
   "id": "a22d1a17-4303-48a9-8c8e-603a89e5fc73",
   "metadata": {},
   "outputs": [],
   "source": [
    "def policy(o):\n",
    "    assert o.shape == (3,)\n",
    "    a = o[0]\n",
    "    h = o[1]\n",
    "    if h > a:\n",
    "        return [0.0]  # consider / adopt\n",
    "    if a == 1 and h == 1:\n",
    "        return [-0.5]  # release / match\n",
    "    if h == a - 1 and h >= 1:\n",
    "        return [-0.5]  # release / override\n",
    "    return [0.0]  # continure / wait"
   ]
  },
  {
   "cell_type": "code",
   "execution_count": 4,
   "id": "b8299019-2c83-4298-b80b-075f05c66a45",
   "metadata": {},
   "outputs": [],
   "source": [
    "ep_rew = []\n",
    "ep_len = []\n",
    "ep_prg = []\n",
    "\n",
    "acc_rew = 0.0\n",
    "acc_len = 0\n",
    "acc_prg = 0\n",
    "obs, info = env.reset()\n",
    "for i in range(10000):\n",
    "    a = policy(obs)\n",
    "    obs, r, term, trunc, info = env.step(a)\n",
    "    acc_rew += r\n",
    "    acc_len += 1\n",
    "    acc_prg += info[\"progress\"]\n",
    "    if term or trunc:\n",
    "        ep_rew.append(acc_rew)\n",
    "        ep_len.append(acc_len)\n",
    "        ep_prg.append(acc_prg)\n",
    "        acc_rew = 0.0\n",
    "        acc_len = 0\n",
    "        acc_prg = 0\n",
    "        obs, info = env.reset()"
   ]
  },
  {
   "cell_type": "code",
   "execution_count": 5,
   "id": "38382a50-b1ef-4546-8d77-d6ef3e40e6b5",
   "metadata": {},
   "outputs": [
    {
     "name": "stdout",
     "output_type": "stream",
     "text": [
      "[0.0, 0.0, 6.0, 98.0, 0.0, 1.0, 9.0, 24.0, 10.0, 4.0]\n",
      "[1000, 1000, 1000, 1000, 1000, 1000, 1000, 1000, 1000, 1000]\n",
      "[0.0, 0.0, 6.0, 98.0, 0.0, 1.0, 9.0, 24.0, 10.0, 4.0]\n"
     ]
    }
   ],
   "source": [
    "print(ep_rew)\n",
    "print(ep_len)\n",
    "print(ep_prg)"
   ]
  },
  {
   "cell_type": "code",
   "execution_count": null,
   "id": "66aac3c3-4d01-4fc6-b1f9-f75f35a2515a",
   "metadata": {},
   "outputs": [],
   "source": []
  }
 ],
 "metadata": {
  "kernelspec": {
   "display_name": "Python 3 (ipykernel)",
   "language": "python",
   "name": "python3"
  },
  "language_info": {
   "codemirror_mode": {
    "name": "ipython",
    "version": 3
   },
   "file_extension": ".py",
   "mimetype": "text/x-python",
   "name": "python",
   "nbconvert_exporter": "python",
   "pygments_lexer": "ipython3",
   "version": "3.9.19"
  }
 },
 "nbformat": 4,
 "nbformat_minor": 5
}
