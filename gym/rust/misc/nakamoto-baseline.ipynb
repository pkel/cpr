{
 "cells": [
  {
   "cell_type": "code",
   "execution_count": 1,
   "id": "f05b6a5c-0f6b-48ed-8744-e67d2f9eed41",
   "metadata": {},
   "outputs": [],
   "source": [
    "import gymnasium as gym\n",
    "import numpy as np\n",
    "import pandas as pd\n",
    "import seaborn as sns"
   ]
  },
  {
   "cell_type": "code",
   "execution_count": 2,
   "id": "d8ff0b52-4432-4d69-8857-9b8b63c04019",
   "metadata": {},
   "outputs": [],
   "source": [
    "horizon = 25\n",
    "alpha = 0.42\n",
    "env = gym.make(\"cpr_gym_rs:Nakamoto-v0\", alpha=alpha, horizon=horizon)"
   ]
  },
  {
   "cell_type": "code",
   "execution_count": 3,
   "id": "5cf14e83-33e4-4e09-92d8-aec96a2c1899",
   "metadata": {},
   "outputs": [
    {
     "name": "stdout",
     "output_type": "stream",
     "text": [
      "continue_ Continue\n",
      "release Release(255)\n",
      "consider Consider(255)\n"
     ]
    }
   ],
   "source": [
    "act = dict(\n",
    "    continue_=[0.0],\n",
    "    release=[-1.0],\n",
    "    consider=[1.0],\n",
    ")\n",
    "for k, v in act.items():\n",
    "    print(k, env.unwrapped.describe_action(v))"
   ]
  },
  {
   "cell_type": "code",
   "execution_count": 4,
   "id": "17a01e23-a264-415c-a42a-76ec4406e904",
   "metadata": {},
   "outputs": [
    {
     "data": {
      "text/html": [
       "<div>\n",
       "<style scoped>\n",
       "    .dataframe tbody tr th:only-of-type {\n",
       "        vertical-align: middle;\n",
       "    }\n",
       "\n",
       "    .dataframe tbody tr th {\n",
       "        vertical-align: top;\n",
       "    }\n",
       "\n",
       "    .dataframe thead th {\n",
       "        text-align: right;\n",
       "    }\n",
       "</style>\n",
       "<table border=\"1\" class=\"dataframe\">\n",
       "  <thead>\n",
       "    <tr style=\"text-align: right;\">\n",
       "      <th></th>\n",
       "      <th>policy</th>\n",
       "      <th>steps</th>\n",
       "      <th>progress</th>\n",
       "      <th>reward_attacker</th>\n",
       "      <th>reward_defender</th>\n",
       "      <th>rewrite</th>\n",
       "      <th>time</th>\n",
       "    </tr>\n",
       "  </thead>\n",
       "  <tbody>\n",
       "    <tr>\n",
       "      <th>0</th>\n",
       "      <td>do-nothing</td>\n",
       "      <td>7</td>\n",
       "      <td>5.0</td>\n",
       "      <td>0.0</td>\n",
       "      <td>5.0</td>\n",
       "      <td>0</td>\n",
       "      <td>7</td>\n",
       "    </tr>\n",
       "    <tr>\n",
       "      <th>1</th>\n",
       "      <td>do-nothing</td>\n",
       "      <td>76</td>\n",
       "      <td>39.0</td>\n",
       "      <td>0.0</td>\n",
       "      <td>39.0</td>\n",
       "      <td>0</td>\n",
       "      <td>76</td>\n",
       "    </tr>\n",
       "    <tr>\n",
       "      <th>2</th>\n",
       "      <td>do-nothing</td>\n",
       "      <td>9</td>\n",
       "      <td>5.0</td>\n",
       "      <td>5.0</td>\n",
       "      <td>0.0</td>\n",
       "      <td>3</td>\n",
       "      <td>9</td>\n",
       "    </tr>\n",
       "    <tr>\n",
       "      <th>3</th>\n",
       "      <td>do-nothing</td>\n",
       "      <td>28</td>\n",
       "      <td>15.0</td>\n",
       "      <td>0.0</td>\n",
       "      <td>15.0</td>\n",
       "      <td>0</td>\n",
       "      <td>28</td>\n",
       "    </tr>\n",
       "    <tr>\n",
       "      <th>4</th>\n",
       "      <td>do-nothing</td>\n",
       "      <td>30</td>\n",
       "      <td>17.0</td>\n",
       "      <td>0.0</td>\n",
       "      <td>17.0</td>\n",
       "      <td>0</td>\n",
       "      <td>30</td>\n",
       "    </tr>\n",
       "    <tr>\n",
       "      <th>...</th>\n",
       "      <td>...</td>\n",
       "      <td>...</td>\n",
       "      <td>...</td>\n",
       "      <td>...</td>\n",
       "      <td>...</td>\n",
       "      <td>...</td>\n",
       "      <td>...</td>\n",
       "    </tr>\n",
       "    <tr>\n",
       "      <th>1916</th>\n",
       "      <td>selfish-mining</td>\n",
       "      <td>31</td>\n",
       "      <td>14.0</td>\n",
       "      <td>6.0</td>\n",
       "      <td>8.0</td>\n",
       "      <td>0</td>\n",
       "      <td>18</td>\n",
       "    </tr>\n",
       "    <tr>\n",
       "      <th>1917</th>\n",
       "      <td>selfish-mining</td>\n",
       "      <td>106</td>\n",
       "      <td>42.0</td>\n",
       "      <td>29.0</td>\n",
       "      <td>13.0</td>\n",
       "      <td>14</td>\n",
       "      <td>65</td>\n",
       "    </tr>\n",
       "    <tr>\n",
       "      <th>1918</th>\n",
       "      <td>selfish-mining</td>\n",
       "      <td>28</td>\n",
       "      <td>13.0</td>\n",
       "      <td>4.0</td>\n",
       "      <td>9.0</td>\n",
       "      <td>0</td>\n",
       "      <td>16</td>\n",
       "    </tr>\n",
       "    <tr>\n",
       "      <th>1919</th>\n",
       "      <td>selfish-mining</td>\n",
       "      <td>37</td>\n",
       "      <td>17.0</td>\n",
       "      <td>8.0</td>\n",
       "      <td>9.0</td>\n",
       "      <td>1</td>\n",
       "      <td>23</td>\n",
       "    </tr>\n",
       "    <tr>\n",
       "      <th>1920</th>\n",
       "      <td>selfish-mining</td>\n",
       "      <td>75</td>\n",
       "      <td>31.0</td>\n",
       "      <td>18.0</td>\n",
       "      <td>13.0</td>\n",
       "      <td>4</td>\n",
       "      <td>44</td>\n",
       "    </tr>\n",
       "  </tbody>\n",
       "</table>\n",
       "<p>1921 rows × 7 columns</p>\n",
       "</div>"
      ],
      "text/plain": [
       "              policy  steps  progress  reward_attacker  reward_defender  \\\n",
       "0         do-nothing      7       5.0              0.0              5.0   \n",
       "1         do-nothing     76      39.0              0.0             39.0   \n",
       "2         do-nothing      9       5.0              5.0              0.0   \n",
       "3         do-nothing     28      15.0              0.0             15.0   \n",
       "4         do-nothing     30      17.0              0.0             17.0   \n",
       "...              ...    ...       ...              ...              ...   \n",
       "1916  selfish-mining     31      14.0              6.0              8.0   \n",
       "1917  selfish-mining    106      42.0             29.0             13.0   \n",
       "1918  selfish-mining     28      13.0              4.0              9.0   \n",
       "1919  selfish-mining     37      17.0              8.0              9.0   \n",
       "1920  selfish-mining     75      31.0             18.0             13.0   \n",
       "\n",
       "      rewrite  time  \n",
       "0           0     7  \n",
       "1           0    76  \n",
       "2           3     9  \n",
       "3           0    28  \n",
       "4           0    30  \n",
       "...       ...   ...  \n",
       "1916        0    18  \n",
       "1917       14    65  \n",
       "1918        0    16  \n",
       "1919        1    23  \n",
       "1920        4    44  \n",
       "\n",
       "[1921 rows x 7 columns]"
      ]
     },
     "execution_count": 4,
     "metadata": {},
     "output_type": "execute_result"
    }
   ],
   "source": [
    "def do_nothing_policy(o):\n",
    "    return act[\"continue_\"]\n",
    "\n",
    "\n",
    "def selfish_mining_policy(o):\n",
    "    assert o.shape == (3,)\n",
    "    a = o[0]\n",
    "    h = o[1]\n",
    "    if h > a:\n",
    "        return act[\"consider\"]  # adopt\n",
    "    if a == 1 and h == 1:\n",
    "        return act[\"release\"]  # match\n",
    "    if h == a - 1 and h >= 1:\n",
    "        return act[\"release\"]  # override\n",
    "    return act[\"continue_\"]  # continue / wait\n",
    "\n",
    "\n",
    "_ = env.reset()\n",
    "_, _, _, _, info = env.step(act[\"continue_\"])\n",
    "keys = sorted(info.keys())\n",
    "\n",
    "\n",
    "def simulate(policy, label):\n",
    "    episodes = []\n",
    "\n",
    "    def ep_dict():\n",
    "        d = dict(steps=0)\n",
    "        for k in keys:\n",
    "            d[k] = 0\n",
    "        return d\n",
    "\n",
    "    def acc_dict(d, info):\n",
    "        d[\"steps\"] += 1\n",
    "        for k in keys:\n",
    "            d[k] += info[k]\n",
    "\n",
    "    ep = ep_dict()\n",
    "    obs, info = env.reset()\n",
    "    for i in range(50000):\n",
    "        a = policy(obs)\n",
    "        obs, r, term, trunc, info = env.step(a)\n",
    "        acc_dict(ep, info)\n",
    "        if term or trunc:\n",
    "            episodes.append(dict(policy=label) | ep)\n",
    "            ep = ep_dict()\n",
    "            obs, info = env.reset()\n",
    "\n",
    "    return episodes\n",
    "\n",
    "\n",
    "episodes = pd.DataFrame(\n",
    "    simulate(do_nothing_policy, \"do-nothing\")\n",
    "    + simulate(selfish_mining_policy, \"selfish-mining\")\n",
    ")\n",
    "episodes"
   ]
  },
  {
   "cell_type": "code",
   "execution_count": 5,
   "id": "8af89f9f-3ed6-4509-a4ed-06f43f3b2e12",
   "metadata": {},
   "outputs": [
    {
     "data": {
      "text/plain": [
       "(25, 26.297241020301925)"
      ]
     },
     "execution_count": 5,
     "metadata": {},
     "output_type": "execute_result"
    }
   ],
   "source": [
    "horizon, episodes.progress.mean()"
   ]
  },
  {
   "cell_type": "code",
   "execution_count": 6,
   "id": "a71d91be-e31d-45a5-90bb-1e385beaa16e",
   "metadata": {},
   "outputs": [
    {
     "data": {
      "text/plain": [
       "<seaborn.axisgrid.FacetGrid at 0x7f82e51dad30>"
      ]
     },
     "execution_count": 6,
     "metadata": {},
     "output_type": "execute_result"
    },
    {
     "data": {
      "image/png": "[encoded data removed]",
      "text/plain": [
       "<Figure size 646.75x500 with 1 Axes>"
      ]
     },
     "metadata": {},
     "output_type": "display_data"
    }
   ],
   "source": [
    "sns.relplot(data=episodes, x=\"progress\", y=\"reward_attacker\", hue=\"policy\")"
   ]
  },
  {
   "cell_type": "code",
   "execution_count": 7,
   "id": "8f7a6416-3dd8-434c-89bb-28206a1d59a9",
   "metadata": {},
   "outputs": [
    {
     "name": "stdout",
     "output_type": "stream",
     "text": [
      "do-nothing 0.42 0.1675438596491228\n",
      "selfish-mining 0.42 0.5710319459086562\n"
     ]
    }
   ],
   "source": [
    "for policy in episodes.policy.unique():\n",
    "    subset = episodes.query(f\"policy == '{policy}'\")\n",
    "    print(policy, alpha, (subset.reward_attacker / subset.progress).mean())"
   ]
  }
 ],
 "metadata": {
  "kernelspec": {
   "display_name": "Python 3 (ipykernel)",
   "language": "python",
   "name": "python3"
  },
  "language_info": {
   "codemirror_mode": {
    "name": "ipython",
    "version": 3
   },
   "file_extension": ".py",
   "mimetype": "text/x-python",
   "name": "python",
   "nbconvert_exporter": "python",
   "pygments_lexer": "ipython3",
   "version": "3.9.19"
  }
 },
 "nbformat": 4,
 "nbformat_minor": 5
}
