{
 "cells": [
  {
   "cell_type": "code",
   "execution_count": 1,
   "id": "49538f60",
   "metadata": {},
   "outputs": [],
   "source": [
    "import seaborn as sns\n",
    "import pandas as pd\n",
    "import numpy as np\n",
    "import gym\n",
    "from ray.rllib.agents.dqn.apex import ApexTrainer"
   ]
  },
  {
   "cell_type": "code",
   "execution_count": 2,
   "id": "ab3b309b",
   "metadata": {},
   "outputs": [],
   "source": [
    "config = {\n",
    "    \"buffer_size\": 1000000,\n",
    "    \"env\": \"cpr_gym:auto-v0\",\n",
    "    \"framework\": \"torch\",\n",
    "    \"num_gpus\": 0,\n",
    "    \"num_workers\": 6,\n",
    "    \"rollout_fragment_length\": 1000,\n",
    "}"
   ]
  },
  {
   "cell_type": "code",
   "execution_count": 3,
   "id": "3ee888a5",
   "metadata": {},
   "outputs": [
    {
     "name": "stderr",
     "output_type": "stream",
     "text": [
      "\u001b[2m\u001b[36m(RolloutWorker pid=58305)\u001b[0m 2022-05-27 14:19:06,656\tWARNING rollout_worker.py:498 -- We've added a module for checking environments that are used in experiments. It will cause your environment to fail if your environment is not set upcorrectly. You can disable check env by setting `disable_env_checking` to True in your experiment config dictionary. You can run the environment checking module standalone by calling ray.rllib.utils.check_env(env).\n",
      "\u001b[2m\u001b[36m(RolloutWorker pid=58303)\u001b[0m 2022-05-27 14:19:07,188\tWARNING rollout_worker.py:498 -- We've added a module for checking environments that are used in experiments. It will cause your environment to fail if your environment is not set upcorrectly. You can disable check env by setting `disable_env_checking` to True in your experiment config dictionary. You can run the environment checking module standalone by calling ray.rllib.utils.check_env(env).\n",
      "\u001b[2m\u001b[36m(RolloutWorker pid=58304)\u001b[0m 2022-05-27 14:19:08,042\tWARNING rollout_worker.py:498 -- We've added a module for checking environments that are used in experiments. It will cause your environment to fail if your environment is not set upcorrectly. You can disable check env by setting `disable_env_checking` to True in your experiment config dictionary. You can run the environment checking module standalone by calling ray.rllib.utils.check_env(env).\n",
      "\u001b[2m\u001b[36m(RolloutWorker pid=58308)\u001b[0m 2022-05-27 14:19:08,485\tWARNING rollout_worker.py:498 -- We've added a module for checking environments that are used in experiments. It will cause your environment to fail if your environment is not set upcorrectly. You can disable check env by setting `disable_env_checking` to True in your experiment config dictionary. You can run the environment checking module standalone by calling ray.rllib.utils.check_env(env).\n",
      "\u001b[2m\u001b[36m(RolloutWorker pid=58307)\u001b[0m 2022-05-27 14:19:08,624\tWARNING rollout_worker.py:498 -- We've added a module for checking environments that are used in experiments. It will cause your environment to fail if your environment is not set upcorrectly. You can disable check env by setting `disable_env_checking` to True in your experiment config dictionary. You can run the environment checking module standalone by calling ray.rllib.utils.check_env(env).\n",
      "\u001b[2m\u001b[36m(RolloutWorker pid=58306)\u001b[0m 2022-05-27 14:19:09,037\tWARNING rollout_worker.py:498 -- We've added a module for checking environments that are used in experiments. It will cause your environment to fail if your environment is not set upcorrectly. You can disable check env by setting `disable_env_checking` to True in your experiment config dictionary. You can run the environment checking module standalone by calling ray.rllib.utils.check_env(env).\n",
      "2022-05-27 14:19:23,053\tINFO trainable.py:152 -- Trainable.setup took 38.587 seconds. If your trainable is slow to initialize, consider setting reuse_actors=True to reduce actor creation overheads.\n",
      "2022-05-27 14:19:23,056\tWARNING util.py:60 -- Install gputil for GPU system monitoring.\n"
     ]
    }
   ],
   "source": [
    "agent = ApexTrainer(config)"
   ]
  },
  {
   "cell_type": "code",
   "execution_count": 4,
   "id": "d60b76dd",
   "metadata": {},
   "outputs": [
    {
     "name": "stderr",
     "output_type": "stream",
     "text": [
      "2022-05-27 14:19:23,257\tINFO trainable.py:534 -- Restored on 192.168.88.100 from checkpoint: /home/patrik/ray_results/default/APEX_cpr_gym:auto-v0_2bdfd_00000_0_2022-05-27_09-11-04/checkpoint_000233/checkpoint-233\n",
      "2022-05-27 14:19:23,264\tINFO trainable.py:543 -- Current state after restoring: {'_iteration': 233, '_timesteps_total': 119296, '_time_total': 7581.517721414566, '_episodes_total': 337868}\n"
     ]
    }
   ],
   "source": [
    "def restore_cp(agent, run, checkpoint):\n",
    "    agent.restore(\n",
    "        \"/home/patrik/ray_results/default/\"\n",
    "        + run\n",
    "        + f\"/checkpoint_{checkpoint:06d}/checkpoint-{checkpoint}\"\n",
    "    )\n",
    "\n",
    "\n",
    "restore_cp(agent, \"APEX_cpr_gym:auto-v0_2bdfd_00000_0_2022-05-27_09-11-04\", 233)"
   ]
  },
  {
   "cell_type": "code",
   "execution_count": 5,
   "id": "c60b8542",
   "metadata": {},
   "outputs": [],
   "source": [
    "alpha = np.arange(0.1, 0.7, 0.1)\n",
    "reward = []\n",
    "for a in alpha:\n",
    "    env = gym.make(\"cpr_gym:auto-v0\", alpha_min=a, alpha_max=a)\n",
    "    l = []\n",
    "    for i in range(50):\n",
    "        obs = env.reset()\n",
    "        done = False\n",
    "        acc = 0\n",
    "        while not done:\n",
    "            obs, r, done, i = env.step(agent.compute_single_action(obs, explore=False))\n",
    "            acc += r\n",
    "        l.append(acc)\n",
    "    reward.append(np.mean(l))\n",
    "d = pd.DataFrame(dict(alpha=alpha, reward=reward))"
   ]
  },
  {
   "cell_type": "code",
   "execution_count": 6,
   "id": "22a9752a",
   "metadata": {},
   "outputs": [
    {
     "data": {
      "text/plain": [
       "<seaborn.axisgrid.FacetGrid at 0x7f0c9884d610>"
      ]
     },
     "execution_count": 6,
     "metadata": {},
     "output_type": "execute_result"
    },
    {
     "data": {
      "image/png": "[encoded data removed]",
      "text/plain": [
       "<Figure size 360x360 with 1 Axes>"
      ]
     },
     "metadata": {
      "needs_background": "light"
     },
     "output_type": "display_data"
    }
   ],
   "source": [
    "sns.relplot(data=d, x=\"alpha\", y=\"reward\")"
   ]
  },
  {
   "cell_type": "code",
   "execution_count": null,
   "id": "92135c7d",
   "metadata": {},
   "outputs": [],
   "source": []
  }
 ],
 "metadata": {
  "kernelspec": {
   "display_name": "Python 3 (ipykernel)",
   "language": "python",
   "name": "python3"
  },
  "language_info": {
   "codemirror_mode": {
    "name": "ipython",
    "version": 3
   },
   "file_extension": ".py",
   "mimetype": "text/x-python",
   "name": "python",
   "nbconvert_exporter": "python",
   "pygments_lexer": "ipython3",
   "version": "3.9.12"
  }
 },
 "nbformat": 4,
 "nbformat_minor": 5
}
