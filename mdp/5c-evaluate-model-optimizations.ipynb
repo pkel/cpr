{
 "cells": [
  {
   "cell_type": "code",
   "execution_count": 1,
   "id": "8bb483ac-b3f9-4c64-ab0d-a0d709a4169d",
   "metadata": {
    "execution": {
     "iopub.execute_input": "2025-01-06T13:07:01.189460Z",
     "iopub.status.busy": "2025-01-06T13:07:01.189154Z",
     "iopub.status.idle": "2025-01-06T13:07:02.005353Z",
     "shell.execute_reply": "2025-01-06T13:07:02.004891Z"
    }
   },
   "outputs": [],
   "source": [
    "import joblib\n",
    "import gzip\n",
    "import pandas\n",
    "import pickle\n",
    "import seaborn\n",
    "import tqdm\n",
    "\n",
    "from lib.models.generic_v0.model import map_params"
   ]
  },
  {
   "cell_type": "code",
   "execution_count": 2,
   "id": "1870d3e0-3b89-4477-8137-badab66fc486",
   "metadata": {
    "execution": {
     "iopub.execute_input": "2025-01-06T13:07:02.008412Z",
     "iopub.status.busy": "2025-01-06T13:07:02.008176Z",
     "iopub.status.idle": "2025-01-06T13:07:02.012160Z",
     "shell.execute_reply": "2025-01-06T13:07:02.011759Z"
    }
   },
   "outputs": [],
   "source": [
    "import sys\n",
    "\n",
    "util_dir = \"./sprint-0-explicit-mdps/\"\n",
    "sys.path.append(util_dir)\n",
    "\n",
    "import util"
   ]
  },
  {
   "cell_type": "code",
   "execution_count": 3,
   "id": "bad9454d-f546-4c66-a6d4-f23ca3351b58",
   "metadata": {
    "execution": {
     "iopub.execute_input": "2025-01-06T13:07:02.013871Z",
     "iopub.status.busy": "2025-01-06T13:07:02.013748Z",
     "iopub.status.idle": "2025-01-06T13:07:02.026784Z",
     "shell.execute_reply": "2025-01-06T13:07:02.026435Z"
    }
   },
   "outputs": [
    {
     "data": {
      "text/html": [
       "<div>\n",
       "<style scoped>\n",
       "    .dataframe tbody tr th:only-of-type {\n",
       "        vertical-align: middle;\n",
       "    }\n",
       "\n",
       "    .dataframe tbody tr th {\n",
       "        vertical-align: top;\n",
       "    }\n",
       "\n",
       "    .dataframe thead th {\n",
       "        text-align: right;\n",
       "    }\n",
       "</style>\n",
       "<table border=\"1\" class=\"dataframe\">\n",
       "  <thead>\n",
       "    <tr style=\"text-align: right;\">\n",
       "      <th></th>\n",
       "      <th>problem</th>\n",
       "      <th>model</th>\n",
       "      <th>force_consider_own</th>\n",
       "      <th>merge_isomorphic</th>\n",
       "      <th>truncate_common_chain</th>\n",
       "      <th>collect_garbage</th>\n",
       "      <th>reward_common_chain</th>\n",
       "      <th>protocol</th>\n",
       "      <th>dag_size_limit</th>\n",
       "      <th>size</th>\n",
       "      <th>time_spent</th>\n",
       "      <th>rss</th>\n",
       "      <th>mdp</th>\n",
       "    </tr>\n",
       "  </thead>\n",
       "  <tbody>\n",
       "    <tr>\n",
       "      <th>0</th>\n",
       "      <td>ref-fc16</td>\n",
       "      <td>fc16sapirshtein</td>\n",
       "      <td>True</td>\n",
       "      <td>True</td>\n",
       "      <td>True</td>\n",
       "      <td>True</td>\n",
       "      <td>True</td>\n",
       "      <td>bitcoin</td>\n",
       "      <td>6</td>\n",
       "      <td>47</td>\n",
       "      <td>0.001538</td>\n",
       "      <td>0.173126</td>\n",
       "      <td>50078494</td>\n",
       "    </tr>\n",
       "    <tr>\n",
       "      <th>1</th>\n",
       "      <td>ref-aft20</td>\n",
       "      <td>aft20barzur</td>\n",
       "      <td>True</td>\n",
       "      <td>True</td>\n",
       "      <td>True</td>\n",
       "      <td>True</td>\n",
       "      <td>True</td>\n",
       "      <td>bitcoin</td>\n",
       "      <td>6</td>\n",
       "      <td>37</td>\n",
       "      <td>0.000903</td>\n",
       "      <td>0.173615</td>\n",
       "      <td>4a16dc21</td>\n",
       "    </tr>\n",
       "    <tr>\n",
       "      <th>2</th>\n",
       "      <td>v1</td>\n",
       "      <td>generic-v1</td>\n",
       "      <td>False</td>\n",
       "      <td>False</td>\n",
       "      <td>True</td>\n",
       "      <td>True</td>\n",
       "      <td>True</td>\n",
       "      <td>bitcoin</td>\n",
       "      <td>6</td>\n",
       "      <td>21327</td>\n",
       "      <td>13.848767</td>\n",
       "      <td>0.340729</td>\n",
       "      <td>416c9f9d</td>\n",
       "    </tr>\n",
       "    <tr>\n",
       "      <th>3</th>\n",
       "      <td>v1</td>\n",
       "      <td>generic-v1</td>\n",
       "      <td>False</td>\n",
       "      <td>False</td>\n",
       "      <td>True</td>\n",
       "      <td>True</td>\n",
       "      <td>True</td>\n",
       "      <td>ethereum_3</td>\n",
       "      <td>6</td>\n",
       "      <td>32961</td>\n",
       "      <td>22.734243</td>\n",
       "      <td>0.439922</td>\n",
       "      <td>71a849a3</td>\n",
       "    </tr>\n",
       "    <tr>\n",
       "      <th>4</th>\n",
       "      <td>v1</td>\n",
       "      <td>generic-v1</td>\n",
       "      <td>False</td>\n",
       "      <td>False</td>\n",
       "      <td>True</td>\n",
       "      <td>True</td>\n",
       "      <td>True</td>\n",
       "      <td>byzantium_3</td>\n",
       "      <td>6</td>\n",
       "      <td>33016</td>\n",
       "      <td>23.472438</td>\n",
       "      <td>0.440613</td>\n",
       "      <td>1945b557</td>\n",
       "    </tr>\n",
       "    <tr>\n",
       "      <th>5</th>\n",
       "      <td>v1</td>\n",
       "      <td>generic-v1</td>\n",
       "      <td>False</td>\n",
       "      <td>False</td>\n",
       "      <td>True</td>\n",
       "      <td>True</td>\n",
       "      <td>True</td>\n",
       "      <td>ghostdag_3</td>\n",
       "      <td>6</td>\n",
       "      <td>46966</td>\n",
       "      <td>36.048500</td>\n",
       "      <td>0.538666</td>\n",
       "      <td>3daa668c</td>\n",
       "    </tr>\n",
       "    <tr>\n",
       "      <th>6</th>\n",
       "      <td>v1</td>\n",
       "      <td>generic-v1</td>\n",
       "      <td>False</td>\n",
       "      <td>False</td>\n",
       "      <td>True</td>\n",
       "      <td>True</td>\n",
       "      <td>True</td>\n",
       "      <td>parallel_3</td>\n",
       "      <td>6</td>\n",
       "      <td>9122</td>\n",
       "      <td>5.335933</td>\n",
       "      <td>0.277988</td>\n",
       "      <td>3f76287b</td>\n",
       "    </tr>\n",
       "    <tr>\n",
       "      <th>7</th>\n",
       "      <td>v1+fc</td>\n",
       "      <td>generic-v1</td>\n",
       "      <td>True</td>\n",
       "      <td>False</td>\n",
       "      <td>True</td>\n",
       "      <td>True</td>\n",
       "      <td>True</td>\n",
       "      <td>bitcoin</td>\n",
       "      <td>6</td>\n",
       "      <td>549</td>\n",
       "      <td>0.246248</td>\n",
       "      <td>0.225689</td>\n",
       "      <td>272a9d97</td>\n",
       "    </tr>\n",
       "    <tr>\n",
       "      <th>8</th>\n",
       "      <td>v1+fc</td>\n",
       "      <td>generic-v1</td>\n",
       "      <td>True</td>\n",
       "      <td>False</td>\n",
       "      <td>True</td>\n",
       "      <td>True</td>\n",
       "      <td>True</td>\n",
       "      <td>ethereum_3</td>\n",
       "      <td>6</td>\n",
       "      <td>1179</td>\n",
       "      <td>0.725096</td>\n",
       "      <td>0.232243</td>\n",
       "      <td>7c8ea98f</td>\n",
       "    </tr>\n",
       "    <tr>\n",
       "      <th>9</th>\n",
       "      <td>v1+fc</td>\n",
       "      <td>generic-v1</td>\n",
       "      <td>True</td>\n",
       "      <td>False</td>\n",
       "      <td>True</td>\n",
       "      <td>True</td>\n",
       "      <td>True</td>\n",
       "      <td>byzantium_3</td>\n",
       "      <td>6</td>\n",
       "      <td>1109</td>\n",
       "      <td>0.753797</td>\n",
       "      <td>0.238491</td>\n",
       "      <td>2022fc5a</td>\n",
       "    </tr>\n",
       "    <tr>\n",
       "      <th>10</th>\n",
       "      <td>v1+fc</td>\n",
       "      <td>generic-v1</td>\n",
       "      <td>True</td>\n",
       "      <td>False</td>\n",
       "      <td>True</td>\n",
       "      <td>True</td>\n",
       "      <td>True</td>\n",
       "      <td>ghostdag_3</td>\n",
       "      <td>6</td>\n",
       "      <td>1527</td>\n",
       "      <td>1.331227</td>\n",
       "      <td>0.238686</td>\n",
       "      <td>1a4473f7</td>\n",
       "    </tr>\n",
       "    <tr>\n",
       "      <th>11</th>\n",
       "      <td>v1+fc</td>\n",
       "      <td>generic-v1</td>\n",
       "      <td>True</td>\n",
       "      <td>False</td>\n",
       "      <td>True</td>\n",
       "      <td>True</td>\n",
       "      <td>True</td>\n",
       "      <td>parallel_3</td>\n",
       "      <td>6</td>\n",
       "      <td>2050</td>\n",
       "      <td>0.988378</td>\n",
       "      <td>0.281898</td>\n",
       "      <td>2b1c8b40</td>\n",
       "    </tr>\n",
       "    <tr>\n",
       "      <th>12</th>\n",
       "      <td>v1+n</td>\n",
       "      <td>generic-v1</td>\n",
       "      <td>False</td>\n",
       "      <td>True</td>\n",
       "      <td>True</td>\n",
       "      <td>True</td>\n",
       "      <td>True</td>\n",
       "      <td>bitcoin</td>\n",
       "      <td>6</td>\n",
       "      <td>5724</td>\n",
       "      <td>5.106710</td>\n",
       "      <td>0.253750</td>\n",
       "      <td>78420391</td>\n",
       "    </tr>\n",
       "    <tr>\n",
       "      <th>13</th>\n",
       "      <td>v1+n</td>\n",
       "      <td>generic-v1</td>\n",
       "      <td>False</td>\n",
       "      <td>True</td>\n",
       "      <td>True</td>\n",
       "      <td>True</td>\n",
       "      <td>True</td>\n",
       "      <td>ethereum_3</td>\n",
       "      <td>6</td>\n",
       "      <td>10293</td>\n",
       "      <td>8.989157</td>\n",
       "      <td>0.267056</td>\n",
       "      <td>6ceb8d14</td>\n",
       "    </tr>\n",
       "    <tr>\n",
       "      <th>14</th>\n",
       "      <td>v1+n</td>\n",
       "      <td>generic-v1</td>\n",
       "      <td>False</td>\n",
       "      <td>True</td>\n",
       "      <td>True</td>\n",
       "      <td>True</td>\n",
       "      <td>True</td>\n",
       "      <td>byzantium_3</td>\n",
       "      <td>6</td>\n",
       "      <td>9879</td>\n",
       "      <td>9.486779</td>\n",
       "      <td>0.263054</td>\n",
       "      <td>4d912e25</td>\n",
       "    </tr>\n",
       "    <tr>\n",
       "      <th>15</th>\n",
       "      <td>v1+n</td>\n",
       "      <td>generic-v1</td>\n",
       "      <td>False</td>\n",
       "      <td>True</td>\n",
       "      <td>True</td>\n",
       "      <td>True</td>\n",
       "      <td>True</td>\n",
       "      <td>ghostdag_3</td>\n",
       "      <td>6</td>\n",
       "      <td>12644</td>\n",
       "      <td>12.745359</td>\n",
       "      <td>0.282391</td>\n",
       "      <td>1919fed8</td>\n",
       "    </tr>\n",
       "    <tr>\n",
       "      <th>16</th>\n",
       "      <td>v1+n</td>\n",
       "      <td>generic-v1</td>\n",
       "      <td>False</td>\n",
       "      <td>True</td>\n",
       "      <td>True</td>\n",
       "      <td>True</td>\n",
       "      <td>True</td>\n",
       "      <td>parallel_3</td>\n",
       "      <td>6</td>\n",
       "      <td>1654</td>\n",
       "      <td>1.417882</td>\n",
       "      <td>0.293205</td>\n",
       "      <td>5b717ac8</td>\n",
       "    </tr>\n",
       "    <tr>\n",
       "      <th>17</th>\n",
       "      <td>v1+fc+n</td>\n",
       "      <td>generic-v1</td>\n",
       "      <td>True</td>\n",
       "      <td>True</td>\n",
       "      <td>True</td>\n",
       "      <td>True</td>\n",
       "      <td>True</td>\n",
       "      <td>bitcoin</td>\n",
       "      <td>6</td>\n",
       "      <td>300</td>\n",
       "      <td>0.217025</td>\n",
       "      <td>0.261185</td>\n",
       "      <td>2ce8a6b1</td>\n",
       "    </tr>\n",
       "    <tr>\n",
       "      <th>18</th>\n",
       "      <td>v1+fc+n</td>\n",
       "      <td>generic-v1</td>\n",
       "      <td>True</td>\n",
       "      <td>True</td>\n",
       "      <td>True</td>\n",
       "      <td>True</td>\n",
       "      <td>True</td>\n",
       "      <td>ethereum_3</td>\n",
       "      <td>6</td>\n",
       "      <td>596</td>\n",
       "      <td>0.465724</td>\n",
       "      <td>0.273193</td>\n",
       "      <td>42c1a98a</td>\n",
       "    </tr>\n",
       "    <tr>\n",
       "      <th>19</th>\n",
       "      <td>v1+fc+n</td>\n",
       "      <td>generic-v1</td>\n",
       "      <td>True</td>\n",
       "      <td>True</td>\n",
       "      <td>True</td>\n",
       "      <td>True</td>\n",
       "      <td>True</td>\n",
       "      <td>byzantium_3</td>\n",
       "      <td>6</td>\n",
       "      <td>572</td>\n",
       "      <td>0.481924</td>\n",
       "      <td>0.279369</td>\n",
       "      <td>3f5e6022</td>\n",
       "    </tr>\n",
       "    <tr>\n",
       "      <th>20</th>\n",
       "      <td>v1+fc+n</td>\n",
       "      <td>generic-v1</td>\n",
       "      <td>True</td>\n",
       "      <td>True</td>\n",
       "      <td>True</td>\n",
       "      <td>True</td>\n",
       "      <td>True</td>\n",
       "      <td>ghostdag_3</td>\n",
       "      <td>6</td>\n",
       "      <td>604</td>\n",
       "      <td>0.599015</td>\n",
       "      <td>0.282322</td>\n",
       "      <td>33379303</td>\n",
       "    </tr>\n",
       "    <tr>\n",
       "      <th>21</th>\n",
       "      <td>v1+fc+n</td>\n",
       "      <td>generic-v1</td>\n",
       "      <td>True</td>\n",
       "      <td>True</td>\n",
       "      <td>True</td>\n",
       "      <td>True</td>\n",
       "      <td>True</td>\n",
       "      <td>parallel_3</td>\n",
       "      <td>6</td>\n",
       "      <td>462</td>\n",
       "      <td>0.339405</td>\n",
       "      <td>0.307892</td>\n",
       "      <td>15680aec</td>\n",
       "    </tr>\n",
       "    <tr>\n",
       "      <th>22</th>\n",
       "      <td>v0+fc+n</td>\n",
       "      <td>generic-v0</td>\n",
       "      <td>True</td>\n",
       "      <td>True</td>\n",
       "      <td>True</td>\n",
       "      <td>True</td>\n",
       "      <td>True</td>\n",
       "      <td>bitcoin</td>\n",
       "      <td>6</td>\n",
       "      <td>501</td>\n",
       "      <td>0.309230</td>\n",
       "      <td>0.281147</td>\n",
       "      <td>4296fbfe</td>\n",
       "    </tr>\n",
       "    <tr>\n",
       "      <th>23</th>\n",
       "      <td>v0</td>\n",
       "      <td>generic-v0</td>\n",
       "      <td>False</td>\n",
       "      <td>False</td>\n",
       "      <td>True</td>\n",
       "      <td>True</td>\n",
       "      <td>True</td>\n",
       "      <td>bitcoin</td>\n",
       "      <td>6</td>\n",
       "      <td>42041</td>\n",
       "      <td>30.574201</td>\n",
       "      <td>0.623821</td>\n",
       "      <td>61fac83a</td>\n",
       "    </tr>\n",
       "  </tbody>\n",
       "</table>\n",
       "</div>"
      ],
      "text/plain": [
       "      problem            model  force_consider_own  merge_isomorphic  \\\n",
       "0    ref-fc16  fc16sapirshtein                True              True   \n",
       "1   ref-aft20      aft20barzur                True              True   \n",
       "2          v1       generic-v1               False             False   \n",
       "3          v1       generic-v1               False             False   \n",
       "4          v1       generic-v1               False             False   \n",
       "5          v1       generic-v1               False             False   \n",
       "6          v1       generic-v1               False             False   \n",
       "7       v1+fc       generic-v1                True             False   \n",
       "8       v1+fc       generic-v1                True             False   \n",
       "9       v1+fc       generic-v1                True             False   \n",
       "10      v1+fc       generic-v1                True             False   \n",
       "11      v1+fc       generic-v1                True             False   \n",
       "12       v1+n       generic-v1               False              True   \n",
       "13       v1+n       generic-v1               False              True   \n",
       "14       v1+n       generic-v1               False              True   \n",
       "15       v1+n       generic-v1               False              True   \n",
       "16       v1+n       generic-v1               False              True   \n",
       "17    v1+fc+n       generic-v1                True              True   \n",
       "18    v1+fc+n       generic-v1                True              True   \n",
       "19    v1+fc+n       generic-v1                True              True   \n",
       "20    v1+fc+n       generic-v1                True              True   \n",
       "21    v1+fc+n       generic-v1                True              True   \n",
       "22    v0+fc+n       generic-v0                True              True   \n",
       "23         v0       generic-v0               False             False   \n",
       "\n",
       "    truncate_common_chain  collect_garbage  reward_common_chain     protocol  \\\n",
       "0                    True             True                 True      bitcoin   \n",
       "1                    True             True                 True      bitcoin   \n",
       "2                    True             True                 True      bitcoin   \n",
       "3                    True             True                 True   ethereum_3   \n",
       "4                    True             True                 True  byzantium_3   \n",
       "5                    True             True                 True   ghostdag_3   \n",
       "6                    True             True                 True   parallel_3   \n",
       "7                    True             True                 True      bitcoin   \n",
       "8                    True             True                 True   ethereum_3   \n",
       "9                    True             True                 True  byzantium_3   \n",
       "10                   True             True                 True   ghostdag_3   \n",
       "11                   True             True                 True   parallel_3   \n",
       "12                   True             True                 True      bitcoin   \n",
       "13                   True             True                 True   ethereum_3   \n",
       "14                   True             True                 True  byzantium_3   \n",
       "15                   True             True                 True   ghostdag_3   \n",
       "16                   True             True                 True   parallel_3   \n",
       "17                   True             True                 True      bitcoin   \n",
       "18                   True             True                 True   ethereum_3   \n",
       "19                   True             True                 True  byzantium_3   \n",
       "20                   True             True                 True   ghostdag_3   \n",
       "21                   True             True                 True   parallel_3   \n",
       "22                   True             True                 True      bitcoin   \n",
       "23                   True             True                 True      bitcoin   \n",
       "\n",
       "    dag_size_limit   size  time_spent       rss       mdp  \n",
       "0                6     47    0.001538  0.173126  50078494  \n",
       "1                6     37    0.000903  0.173615  4a16dc21  \n",
       "2                6  21327   13.848767  0.340729  416c9f9d  \n",
       "3                6  32961   22.734243  0.439922  71a849a3  \n",
       "4                6  33016   23.472438  0.440613  1945b557  \n",
       "5                6  46966   36.048500  0.538666  3daa668c  \n",
       "6                6   9122    5.335933  0.277988  3f76287b  \n",
       "7                6    549    0.246248  0.225689  272a9d97  \n",
       "8                6   1179    0.725096  0.232243  7c8ea98f  \n",
       "9                6   1109    0.753797  0.238491  2022fc5a  \n",
       "10               6   1527    1.331227  0.238686  1a4473f7  \n",
       "11               6   2050    0.988378  0.281898  2b1c8b40  \n",
       "12               6   5724    5.106710  0.253750  78420391  \n",
       "13               6  10293    8.989157  0.267056  6ceb8d14  \n",
       "14               6   9879    9.486779  0.263054  4d912e25  \n",
       "15               6  12644   12.745359  0.282391  1919fed8  \n",
       "16               6   1654    1.417882  0.293205  5b717ac8  \n",
       "17               6    300    0.217025  0.261185  2ce8a6b1  \n",
       "18               6    596    0.465724  0.273193  42c1a98a  \n",
       "19               6    572    0.481924  0.279369  3f5e6022  \n",
       "20               6    604    0.599015  0.282322  33379303  \n",
       "21               6    462    0.339405  0.307892  15680aec  \n",
       "22               6    501    0.309230  0.281147  4296fbfe  \n",
       "23               6  42041   30.574201  0.623821  61fac83a  "
      ]
     },
     "execution_count": 3,
     "metadata": {},
     "output_type": "execute_result"
    }
   ],
   "source": [
    "mdps = pandas.read_pickle(\"5-generated-mdps/fixed.pkl.gz\")\n",
    "mdps"
   ]
  },
  {
   "cell_type": "code",
   "execution_count": 4,
   "id": "4e44c431-4dff-44ef-90d1-e958c0fcf00c",
   "metadata": {
    "execution": {
     "iopub.execute_input": "2025-01-06T13:07:02.028510Z",
     "iopub.status.busy": "2025-01-06T13:07:02.028388Z",
     "iopub.status.idle": "2025-01-06T13:07:02.030808Z",
     "shell.execute_reply": "2025-01-06T13:07:02.030496Z"
    }
   },
   "outputs": [],
   "source": [
    "networks = []\n",
    "# for alpha in range(35, 41, 5):\n",
    "for alpha in range(5, 51, 5):\n",
    "    for gamma in [0.33, 0.66]:\n",
    "        # for gamma in [0, 0.5, 1]:\n",
    "        networks.append(dict(alpha=alpha / 100, gamma=gamma))\n",
    "# pandas.DataFrame(networks)"
   ]
  },
  {
   "cell_type": "code",
   "execution_count": 5,
   "id": "4827932e-ffef-4664-919d-34f1e65af554",
   "metadata": {
    "execution": {
     "iopub.execute_input": "2025-01-06T13:07:02.032344Z",
     "iopub.status.busy": "2025-01-06T13:07:02.032225Z",
     "iopub.status.idle": "2025-01-06T13:07:02.034213Z",
     "shell.execute_reply": "2025-01-06T13:07:02.033910Z"
    }
   },
   "outputs": [],
   "source": [
    "horizon = 100\n",
    "stop_delta = (\n",
    "    0.0001  # value iteration stops when no value estimate changes more than this value\n",
    ")"
   ]
  },
  {
   "cell_type": "code",
   "execution_count": 6,
   "id": "d07ad519-dbb0-4c4e-99b1-c06a18d68f79",
   "metadata": {
    "execution": {
     "iopub.execute_input": "2025-01-06T13:07:02.035799Z",
     "iopub.status.busy": "2025-01-06T13:07:02.035677Z",
     "iopub.status.idle": "2025-01-06T15:33:16.172641Z",
     "shell.execute_reply": "2025-01-06T15:33:16.172061Z"
    }
   },
   "outputs": [
    {
     "name": "stderr",
     "output_type": "stream",
     "text": [
      "\r",
      "  0%|                                                   | 0/480 [00:00<?, ?it/s]"
     ]
    },
    {
     "name": "stderr",
     "output_type": "stream",
     "text": [
      "\r",
      "  0%|                                           | 1/480 [00:00<04:37,  1.73it/s]"
     ]
    },
    {
     "name": "stderr",
     "output_type": "stream",
     "text": [
      "\r",
      "  1%|▎                                          | 3/480 [00:03<10:03,  1.27s/it]"
     ]
    },
    {
     "name": "stderr",
     "output_type": "stream",
     "text": [
      "\r",
      "  1%|▎                                          | 4/480 [00:09<23:34,  2.97s/it]"
     ]
    },
    {
     "name": "stderr",
     "output_type": "stream",
     "text": [
      "\r",
      "  1%|▍                                          | 5/480 [00:15<29:31,  3.73s/it]"
     ]
    },
    {
     "name": "stderr",
     "output_type": "stream",
     "text": [
      "\r",
      "  1%|▌                                          | 6/480 [00:21<37:25,  4.74s/it]"
     ]
    },
    {
     "name": "stderr",
     "output_type": "stream",
     "text": [
      "\r",
      "  1%|▋                                          | 7/480 [00:34<57:29,  7.29s/it]"
     ]
    },
    {
     "name": "stderr",
     "output_type": "stream",
     "text": [
      "\r",
      "  2%|▋                                        | 8/480 [00:51<1:19:24, 10.09s/it]"
     ]
    },
    {
     "name": "stderr",
     "output_type": "stream",
     "text": [
      "\r",
      "  2%|▊                                        | 9/480 [01:10<1:42:01, 13.00s/it]"
     ]
    },
    {
     "name": "stderr",
     "output_type": "stream",
     "text": [
      "\r",
      "  2%|▊                                       | 10/480 [01:45<2:34:56, 19.78s/it]"
     ]
    },
    {
     "name": "stderr",
     "output_type": "stream",
     "text": [
      "\r",
      "  2%|▉                                       | 11/480 [02:01<2:25:41, 18.64s/it]"
     ]
    },
    {
     "name": "stderr",
     "output_type": "stream",
     "text": [
      "\r",
      "  2%|█                                       | 12/480 [02:10<2:02:27, 15.70s/it]"
     ]
    },
    {
     "name": "stderr",
     "output_type": "stream",
     "text": [
      "\r",
      "  3%|█                                       | 13/480 [02:12<1:29:30, 11.50s/it]"
     ]
    },
    {
     "name": "stderr",
     "output_type": "stream",
     "text": [
      "\r",
      "  3%|█▏                                      | 14/480 [02:15<1:09:40,  8.97s/it]"
     ]
    },
    {
     "name": "stderr",
     "output_type": "stream",
     "text": [
      "\r",
      "  3%|█▎                                        | 15/480 [02:18<55:09,  7.12s/it]"
     ]
    },
    {
     "name": "stderr",
     "output_type": "stream",
     "text": [
      "\r",
      "  3%|█▍                                        | 16/480 [02:18<39:30,  5.11s/it]"
     ]
    },
    {
     "name": "stderr",
     "output_type": "stream",
     "text": [
      "\r",
      "  4%|█▍                                        | 17/480 [02:21<34:05,  4.42s/it]"
     ]
    },
    {
     "name": "stderr",
     "output_type": "stream",
     "text": [
      "\r",
      "  4%|█▌                                        | 18/480 [02:23<26:36,  3.46s/it]"
     ]
    },
    {
     "name": "stderr",
     "output_type": "stream",
     "text": [
      "\r",
      "  4%|█▋                                        | 19/480 [02:26<25:49,  3.36s/it]"
     ]
    },
    {
     "name": "stderr",
     "output_type": "stream",
     "text": [
      "\r",
      "  4%|█▊                                        | 20/480 [02:26<18:35,  2.43s/it]"
     ]
    },
    {
     "name": "stderr",
     "output_type": "stream",
     "text": [
      "\r",
      "  4%|█▊                                        | 21/480 [02:26<13:34,  1.77s/it]"
     ]
    },
    {
     "name": "stderr",
     "output_type": "stream",
     "text": [
      "\r",
      "  5%|█▉                                        | 22/480 [02:44<50:21,  6.60s/it]"
     ]
    },
    {
     "name": "stderr",
     "output_type": "stream",
     "text": [
      "\r",
      "  5%|█▉                                      | 23/480 [02:56<1:03:07,  8.29s/it]"
     ]
    },
    {
     "name": "stderr",
     "output_type": "stream",
     "text": [
      "\r",
      "  5%|██                                        | 24/480 [03:03<59:02,  7.77s/it]"
     ]
    },
    {
     "name": "stderr",
     "output_type": "stream",
     "text": [
      "\r",
      "  5%|██                                      | 25/480 [03:29<1:41:22, 13.37s/it]"
     ]
    },
    {
     "name": "stderr",
     "output_type": "stream",
     "text": [
      "\r",
      "  5%|██▏                                     | 26/480 [04:22<3:10:54, 25.23s/it]"
     ]
    },
    {
     "name": "stderr",
     "output_type": "stream",
     "text": [
      "\r",
      "  6%|██▎                                     | 27/480 [04:25<2:19:59, 18.54s/it]"
     ]
    },
    {
     "name": "stderr",
     "output_type": "stream",
     "text": [
      "\r",
      "  6%|██▎                                     | 28/480 [04:31<1:51:01, 14.74s/it]"
     ]
    },
    {
     "name": "stderr",
     "output_type": "stream",
     "text": [
      "\r",
      "  6%|██▍                                     | 29/480 [04:36<1:29:36, 11.92s/it]"
     ]
    },
    {
     "name": "stderr",
     "output_type": "stream",
     "text": [
      "\r",
      "  6%|██▌                                     | 30/480 [04:41<1:12:47,  9.70s/it]"
     ]
    },
    {
     "name": "stderr",
     "output_type": "stream",
     "text": [
      "\r",
      "  6%|██▋                                       | 31/480 [04:44<58:44,  7.85s/it]"
     ]
    },
    {
     "name": "stderr",
     "output_type": "stream",
     "text": [
      "\r",
      "  7%|██▋                                     | 32/480 [04:53<1:01:32,  8.24s/it]"
     ]
    },
    {
     "name": "stderr",
     "output_type": "stream",
     "text": [
      "\r",
      "  7%|██▊                                     | 33/480 [05:22<1:46:53, 14.35s/it]"
     ]
    },
    {
     "name": "stderr",
     "output_type": "stream",
     "text": [
      "\r",
      "  7%|██▊                                     | 34/480 [05:46<2:08:39, 17.31s/it]"
     ]
    },
    {
     "name": "stderr",
     "output_type": "stream",
     "text": [
      "\r",
      "  7%|██▉                                     | 35/480 [05:48<1:33:40, 12.63s/it]"
     ]
    },
    {
     "name": "stderr",
     "output_type": "stream",
     "text": [
      "\r",
      "  8%|███                                     | 36/480 [05:54<1:19:03, 10.68s/it]"
     ]
    },
    {
     "name": "stderr",
     "output_type": "stream",
     "text": [
      "\r",
      "  8%|███▏                                      | 37/480 [05:56<59:14,  8.02s/it]"
     ]
    },
    {
     "name": "stderr",
     "output_type": "stream",
     "text": [
      "\r",
      "  8%|███▎                                      | 38/480 [05:57<44:24,  6.03s/it]"
     ]
    },
    {
     "name": "stderr",
     "output_type": "stream",
     "text": [
      "\r",
      "  8%|███▍                                      | 39/480 [05:59<34:56,  4.75s/it]"
     ]
    },
    {
     "name": "stderr",
     "output_type": "stream",
     "text": [
      "\r",
      "  8%|███▌                                      | 40/480 [06:00<26:40,  3.64s/it]"
     ]
    },
    {
     "name": "stderr",
     "output_type": "stream",
     "text": [
      "\r",
      "  9%|███▌                                      | 41/480 [06:02<22:52,  3.13s/it]"
     ]
    },
    {
     "name": "stderr",
     "output_type": "stream",
     "text": [
      "\r",
      "  9%|███▋                                      | 42/480 [06:03<18:14,  2.50s/it]"
     ]
    },
    {
     "name": "stderr",
     "output_type": "stream",
     "text": [
      "\r",
      "  9%|███▊                                      | 43/480 [06:06<18:56,  2.60s/it]"
     ]
    },
    {
     "name": "stderr",
     "output_type": "stream",
     "text": [
      "\r",
      "  9%|███▊                                      | 44/480 [06:06<13:50,  1.90s/it]"
     ]
    },
    {
     "name": "stderr",
     "output_type": "stream",
     "text": [
      "\r",
      "  9%|███▉                                      | 45/480 [06:07<10:15,  1.42s/it]"
     ]
    },
    {
     "name": "stderr",
     "output_type": "stream",
     "text": [
      "\r",
      " 10%|████                                      | 46/480 [06:14<24:09,  3.34s/it]"
     ]
    },
    {
     "name": "stderr",
     "output_type": "stream",
     "text": [
      "\r",
      " 10%|████                                      | 47/480 [06:32<55:22,  7.67s/it]"
     ]
    },
    {
     "name": "stderr",
     "output_type": "stream",
     "text": [
      "\r",
      " 10%|████                                    | 48/480 [06:45<1:05:40,  9.12s/it]"
     ]
    },
    {
     "name": "stderr",
     "output_type": "stream",
     "text": [
      "\r",
      " 10%|████                                    | 49/480 [08:47<5:09:42, 43.11s/it]"
     ]
    },
    {
     "name": "stderr",
     "output_type": "stream",
     "text": [
      "\r",
      " 10%|████▏                                   | 50/480 [09:48<5:48:14, 48.59s/it]"
     ]
    },
    {
     "name": "stderr",
     "output_type": "stream",
     "text": [
      "\r",
      " 11%|████▎                                   | 51/480 [09:52<4:10:20, 35.01s/it]"
     ]
    },
    {
     "name": "stderr",
     "output_type": "stream",
     "text": [
      "\r",
      " 11%|████▎                                   | 52/480 [09:52<2:55:15, 24.57s/it]"
     ]
    },
    {
     "name": "stderr",
     "output_type": "stream",
     "text": [
      "\r",
      " 11%|████▍                                   | 53/480 [09:57<2:12:08, 18.57s/it]"
     ]
    },
    {
     "name": "stderr",
     "output_type": "stream",
     "text": [
      "\r",
      " 11%|████▌                                   | 54/480 [09:58<1:35:09, 13.40s/it]"
     ]
    },
    {
     "name": "stderr",
     "output_type": "stream",
     "text": [
      "\r",
      " 11%|████▌                                   | 55/480 [09:59<1:08:15,  9.64s/it]"
     ]
    },
    {
     "name": "stderr",
     "output_type": "stream",
     "text": [
      "\r",
      " 12%|████▋                                   | 56/480 [10:05<1:00:51,  8.61s/it]"
     ]
    },
    {
     "name": "stderr",
     "output_type": "stream",
     "text": [
      "\r",
      " 12%|████▉                                     | 57/480 [10:12<57:10,  8.11s/it]"
     ]
    },
    {
     "name": "stderr",
     "output_type": "stream",
     "text": [
      "\r",
      " 12%|████▊                                   | 58/480 [10:40<1:38:37, 14.02s/it]"
     ]
    },
    {
     "name": "stderr",
     "output_type": "stream",
     "text": [
      "\r",
      " 12%|████▉                                   | 59/480 [10:43<1:15:23, 10.74s/it]"
     ]
    },
    {
     "name": "stderr",
     "output_type": "stream",
     "text": [
      "\r",
      " 12%|█████▎                                    | 60/480 [10:44<55:40,  7.95s/it]"
     ]
    },
    {
     "name": "stderr",
     "output_type": "stream",
     "text": [
      "\r",
      " 13%|█████▎                                    | 61/480 [10:46<43:10,  6.18s/it]"
     ]
    },
    {
     "name": "stderr",
     "output_type": "stream",
     "text": [
      "\r",
      " 13%|█████▍                                    | 62/480 [10:50<38:43,  5.56s/it]"
     ]
    },
    {
     "name": "stderr",
     "output_type": "stream",
     "text": [
      "\r",
      " 13%|█████▌                                    | 63/480 [10:54<33:48,  4.86s/it]"
     ]
    },
    {
     "name": "stderr",
     "output_type": "stream",
     "text": [
      "\r",
      " 13%|█████▌                                    | 64/480 [10:54<24:19,  3.51s/it]"
     ]
    },
    {
     "name": "stderr",
     "output_type": "stream",
     "text": [
      "\r",
      " 14%|█████▋                                    | 65/480 [10:57<22:54,  3.31s/it]"
     ]
    },
    {
     "name": "stderr",
     "output_type": "stream",
     "text": [
      "\r",
      " 14%|█████▊                                    | 66/480 [10:57<17:04,  2.48s/it]"
     ]
    },
    {
     "name": "stderr",
     "output_type": "stream",
     "text": [
      "\r",
      " 14%|█████▊                                    | 67/480 [11:01<19:36,  2.85s/it]"
     ]
    },
    {
     "name": "stderr",
     "output_type": "stream",
     "text": [
      "\r",
      " 14%|█████▉                                    | 68/480 [11:01<14:15,  2.08s/it]"
     ]
    },
    {
     "name": "stderr",
     "output_type": "stream",
     "text": [
      "\r",
      " 14%|██████                                    | 69/480 [11:02<10:27,  1.53s/it]"
     ]
    },
    {
     "name": "stderr",
     "output_type": "stream",
     "text": [
      "\r",
      " 15%|██████▏                                   | 70/480 [11:11<27:25,  4.01s/it]"
     ]
    },
    {
     "name": "stderr",
     "output_type": "stream",
     "text": [
      "\r",
      " 15%|██████▏                                   | 71/480 [11:12<20:29,  3.01s/it]"
     ]
    },
    {
     "name": "stderr",
     "output_type": "stream",
     "text": [
      "\r",
      " 15%|██████                                  | 72/480 [11:48<1:28:27, 13.01s/it]"
     ]
    },
    {
     "name": "stderr",
     "output_type": "stream",
     "text": [
      "\r",
      " 15%|██████                                  | 73/480 [13:35<4:38:38, 41.08s/it]"
     ]
    },
    {
     "name": "stderr",
     "output_type": "stream",
     "text": [
      "\r",
      " 15%|██████▏                                 | 74/480 [14:06<4:16:49, 37.95s/it]"
     ]
    },
    {
     "name": "stderr",
     "output_type": "stream",
     "text": [
      "\r",
      " 16%|██████▎                                 | 75/480 [14:09<3:05:51, 27.54s/it]"
     ]
    },
    {
     "name": "stderr",
     "output_type": "stream",
     "text": [
      "\r",
      " 16%|██████▎                                 | 76/480 [14:16<2:24:51, 21.51s/it]"
     ]
    },
    {
     "name": "stderr",
     "output_type": "stream",
     "text": [
      "\r",
      " 16%|██████▍                                 | 77/480 [14:23<1:53:45, 16.94s/it]"
     ]
    },
    {
     "name": "stderr",
     "output_type": "stream",
     "text": [
      "\r",
      " 16%|██████▌                                 | 78/480 [14:30<1:35:14, 14.21s/it]"
     ]
    },
    {
     "name": "stderr",
     "output_type": "stream",
     "text": [
      "\r",
      " 16%|██████▌                                 | 79/480 [14:32<1:09:24, 10.39s/it]"
     ]
    },
    {
     "name": "stderr",
     "output_type": "stream",
     "text": [
      "\r",
      " 17%|███████                                   | 81/480 [14:45<57:10,  8.60s/it]"
     ]
    },
    {
     "name": "stderr",
     "output_type": "stream",
     "text": [
      "\r",
      " 17%|███████▏                                  | 82/480 [14:55<59:48,  9.02s/it]"
     ]
    },
    {
     "name": "stderr",
     "output_type": "stream",
     "text": [
      "\r",
      " 17%|██████▉                                 | 83/480 [15:15<1:17:29, 11.71s/it]"
     ]
    },
    {
     "name": "stderr",
     "output_type": "stream",
     "text": [
      "\r",
      " 18%|███████                                 | 84/480 [15:25<1:15:05, 11.38s/it]"
     ]
    },
    {
     "name": "stderr",
     "output_type": "stream",
     "text": [
      "\r",
      " 18%|███████▍                                  | 85/480 [15:27<57:46,  8.78s/it]"
     ]
    },
    {
     "name": "stderr",
     "output_type": "stream",
     "text": [
      "\r",
      " 18%|███████▌                                  | 86/480 [15:31<48:11,  7.34s/it]"
     ]
    },
    {
     "name": "stderr",
     "output_type": "stream",
     "text": [
      "\r",
      " 18%|███████▌                                  | 87/480 [15:34<40:14,  6.14s/it]"
     ]
    },
    {
     "name": "stderr",
     "output_type": "stream",
     "text": [
      "\r",
      " 18%|███████▋                                  | 88/480 [15:37<34:34,  5.29s/it]"
     ]
    },
    {
     "name": "stderr",
     "output_type": "stream",
     "text": [
      "\r",
      " 19%|███████▊                                  | 89/480 [15:39<27:00,  4.14s/it]"
     ]
    },
    {
     "name": "stderr",
     "output_type": "stream",
     "text": [
      "\r",
      " 19%|███████▉                                  | 90/480 [15:41<22:39,  3.49s/it]"
     ]
    },
    {
     "name": "stderr",
     "output_type": "stream",
     "text": [
      "\r",
      " 19%|███████▉                                  | 91/480 [15:42<18:25,  2.84s/it]"
     ]
    },
    {
     "name": "stderr",
     "output_type": "stream",
     "text": [
      "\r",
      " 19%|████████                                  | 92/480 [15:42<13:27,  2.08s/it]"
     ]
    },
    {
     "name": "stderr",
     "output_type": "stream",
     "text": [
      "\r",
      " 19%|████████▏                                 | 93/480 [15:42<09:55,  1.54s/it]"
     ]
    },
    {
     "name": "stderr",
     "output_type": "stream",
     "text": [
      "\r",
      " 20%|████████▏                                 | 94/480 [15:43<07:52,  1.22s/it]"
     ]
    },
    {
     "name": "stderr",
     "output_type": "stream",
     "text": [
      "\r",
      " 20%|████████▎                                 | 95/480 [15:54<26:15,  4.09s/it]"
     ]
    },
    {
     "name": "stderr",
     "output_type": "stream",
     "text": [
      "\r",
      " 20%|████████▍                                 | 96/480 [16:04<37:12,  5.81s/it]"
     ]
    },
    {
     "name": "stderr",
     "output_type": "stream",
     "text": [
      "\r",
      " 20%|████████                                | 97/480 [18:31<5:07:17, 48.14s/it]"
     ]
    },
    {
     "name": "stderr",
     "output_type": "stream",
     "text": [
      "\r",
      " 20%|████████▏                               | 98/480 [19:34<5:34:34, 52.55s/it]"
     ]
    },
    {
     "name": "stderr",
     "output_type": "stream",
     "text": [
      "\r",
      " 21%|████████▎                               | 99/480 [19:35<3:56:07, 37.19s/it]"
     ]
    },
    {
     "name": "stderr",
     "output_type": "stream",
     "text": [
      "\r",
      " 21%|████████▏                              | 100/480 [19:38<2:50:23, 26.90s/it]"
     ]
    },
    {
     "name": "stderr",
     "output_type": "stream",
     "text": [
      "\r",
      " 21%|████████▏                              | 101/480 [19:44<2:10:09, 20.61s/it]"
     ]
    },
    {
     "name": "stderr",
     "output_type": "stream",
     "text": [
      "\r",
      " 21%|████████▎                              | 102/480 [19:45<1:32:49, 14.73s/it]"
     ]
    },
    {
     "name": "stderr",
     "output_type": "stream",
     "text": [
      "\r",
      " 21%|████████▎                              | 103/480 [19:52<1:18:26, 12.48s/it]"
     ]
    },
    {
     "name": "stderr",
     "output_type": "stream",
     "text": [
      "\r",
      " 22%|████████▍                              | 104/480 [19:57<1:04:59, 10.37s/it]"
     ]
    },
    {
     "name": "stderr",
     "output_type": "stream",
     "text": [
      "\r",
      " 22%|████████▉                                | 105/480 [19:59<47:37,  7.62s/it]"
     ]
    },
    {
     "name": "stderr",
     "output_type": "stream",
     "text": [
      "\r",
      " 22%|████████▌                              | 106/480 [20:22<1:16:54, 12.34s/it]"
     ]
    },
    {
     "name": "stderr",
     "output_type": "stream",
     "text": [
      "\r",
      " 22%|████████▋                              | 107/480 [20:26<1:00:59,  9.81s/it]"
     ]
    },
    {
     "name": "stderr",
     "output_type": "stream",
     "text": [
      "\r",
      " 22%|████████▊                              | 108/480 [20:37<1:03:04, 10.17s/it]"
     ]
    },
    {
     "name": "stderr",
     "output_type": "stream",
     "text": [
      "\r",
      " 23%|█████████▎                               | 109/480 [20:39<47:39,  7.71s/it]"
     ]
    },
    {
     "name": "stderr",
     "output_type": "stream",
     "text": [
      "\r",
      " 23%|█████████▍                               | 110/480 [20:39<33:31,  5.44s/it]"
     ]
    },
    {
     "name": "stderr",
     "output_type": "stream",
     "text": [
      "\r",
      " 23%|█████████▍                               | 111/480 [20:42<29:34,  4.81s/it]"
     ]
    },
    {
     "name": "stderr",
     "output_type": "stream",
     "text": [
      "\r",
      " 23%|█████████▌                               | 112/480 [20:43<21:45,  3.55s/it]"
     ]
    },
    {
     "name": "stderr",
     "output_type": "stream",
     "text": [
      "\r",
      " 24%|█████████▋                               | 113/480 [20:46<20:42,  3.39s/it]"
     ]
    },
    {
     "name": "stderr",
     "output_type": "stream",
     "text": [
      "\r",
      " 24%|█████████▋                               | 114/480 [20:47<15:46,  2.59s/it]"
     ]
    },
    {
     "name": "stderr",
     "output_type": "stream",
     "text": [
      "\r",
      " 24%|█████████▊                               | 115/480 [20:51<18:37,  3.06s/it]"
     ]
    },
    {
     "name": "stderr",
     "output_type": "stream",
     "text": [
      "\r",
      " 24%|█████████▉                               | 116/480 [20:51<13:34,  2.24s/it]"
     ]
    },
    {
     "name": "stderr",
     "output_type": "stream",
     "text": [
      "\r",
      " 24%|█████████▉                               | 117/480 [20:51<09:57,  1.64s/it]"
     ]
    },
    {
     "name": "stderr",
     "output_type": "stream",
     "text": [
      "\r",
      " 25%|██████████                               | 118/480 [21:01<24:50,  4.12s/it]"
     ]
    },
    {
     "name": "stderr",
     "output_type": "stream",
     "text": [
      "\r",
      " 25%|██████████▏                              | 119/480 [21:14<41:09,  6.84s/it]"
     ]
    },
    {
     "name": "stderr",
     "output_type": "stream",
     "text": [
      "\r",
      " 25%|█████████▊                             | 120/480 [21:39<1:13:01, 12.17s/it]"
     ]
    },
    {
     "name": "stderr",
     "output_type": "stream",
     "text": [
      "\r",
      " 25%|█████████▊                             | 121/480 [23:41<4:30:37, 45.23s/it]"
     ]
    },
    {
     "name": "stderr",
     "output_type": "stream",
     "text": [
      "\r",
      " 25%|█████████▉                             | 122/480 [24:47<5:05:38, 51.22s/it]"
     ]
    },
    {
     "name": "stderr",
     "output_type": "stream",
     "text": [
      "\r",
      " 26%|█████████▉                             | 123/480 [24:48<3:36:15, 36.35s/it]"
     ]
    },
    {
     "name": "stderr",
     "output_type": "stream",
     "text": [
      "\r",
      " 26%|██████████                             | 124/480 [24:50<2:34:16, 26.00s/it]"
     ]
    },
    {
     "name": "stderr",
     "output_type": "stream",
     "text": [
      "\r",
      " 26%|██████████▏                            | 125/480 [24:56<1:57:44, 19.90s/it]"
     ]
    },
    {
     "name": "stderr",
     "output_type": "stream",
     "text": [
      "\r",
      " 26%|██████████▏                            | 126/480 [24:56<1:23:11, 14.10s/it]"
     ]
    },
    {
     "name": "stderr",
     "output_type": "stream",
     "text": [
      "\r",
      " 26%|██████████▎                            | 127/480 [24:58<1:01:02, 10.37s/it]"
     ]
    },
    {
     "name": "stderr",
     "output_type": "stream",
     "text": [
      "\r",
      " 27%|██████████▉                              | 128/480 [25:05<54:13,  9.24s/it]"
     ]
    },
    {
     "name": "stderr",
     "output_type": "stream",
     "text": [
      "\r",
      " 27%|███████████                              | 129/480 [25:11<49:13,  8.41s/it]"
     ]
    },
    {
     "name": "stderr",
     "output_type": "stream",
     "text": [
      "\r",
      " 27%|███████████                              | 130/480 [25:13<37:59,  6.51s/it]"
     ]
    },
    {
     "name": "stderr",
     "output_type": "stream",
     "text": [
      "\r",
      " 27%|██████████▋                            | 131/480 [25:44<1:19:47, 13.72s/it]"
     ]
    },
    {
     "name": "stderr",
     "output_type": "stream",
     "text": [
      "\r",
      " 28%|██████████▋                            | 132/480 [25:55<1:15:40, 13.05s/it]"
     ]
    },
    {
     "name": "stderr",
     "output_type": "stream",
     "text": [
      "\r",
      " 28%|███████████▎                             | 133/480 [25:57<56:35,  9.79s/it]"
     ]
    },
    {
     "name": "stderr",
     "output_type": "stream",
     "text": [
      "\r",
      " 28%|███████████▍                             | 134/480 [26:01<46:33,  8.07s/it]"
     ]
    },
    {
     "name": "stderr",
     "output_type": "stream",
     "text": [
      "\r",
      " 28%|███████████▌                             | 135/480 [26:04<37:18,  6.49s/it]"
     ]
    },
    {
     "name": "stderr",
     "output_type": "stream",
     "text": [
      "\r",
      " 28%|███████████▌                             | 136/480 [26:05<27:00,  4.71s/it]"
     ]
    },
    {
     "name": "stderr",
     "output_type": "stream",
     "text": [
      "\r",
      " 29%|███████████▋                             | 137/480 [26:08<24:06,  4.22s/it]"
     ]
    },
    {
     "name": "stderr",
     "output_type": "stream",
     "text": [
      "\r",
      " 29%|███████████▊                             | 138/480 [26:09<18:56,  3.32s/it]"
     ]
    },
    {
     "name": "stderr",
     "output_type": "stream",
     "text": [
      "\r",
      " 29%|███████████▊                             | 139/480 [26:13<20:30,  3.61s/it]"
     ]
    },
    {
     "name": "stderr",
     "output_type": "stream",
     "text": [
      "\r",
      " 29%|███████████▉                             | 140/480 [26:14<14:48,  2.61s/it]"
     ]
    },
    {
     "name": "stderr",
     "output_type": "stream",
     "text": [
      "\r",
      " 29%|████████████                             | 141/480 [26:14<10:47,  1.91s/it]"
     ]
    },
    {
     "name": "stderr",
     "output_type": "stream",
     "text": [
      "\r",
      " 30%|████████████▏                            | 142/480 [26:16<10:36,  1.88s/it]"
     ]
    },
    {
     "name": "stderr",
     "output_type": "stream",
     "text": [
      "\r",
      " 30%|████████████▏                            | 143/480 [26:20<15:13,  2.71s/it]"
     ]
    },
    {
     "name": "stderr",
     "output_type": "stream",
     "text": [
      "\r",
      " 30%|████████████▎                            | 144/480 [26:28<22:58,  4.10s/it]"
     ]
    },
    {
     "name": "stderr",
     "output_type": "stream",
     "text": [
      "\r",
      " 30%|███████████▊                           | 145/480 [29:17<4:59:27, 53.63s/it]"
     ]
    },
    {
     "name": "stderr",
     "output_type": "stream",
     "text": [
      "\r",
      " 30%|███████████▊                           | 146/480 [30:10<4:57:21, 53.42s/it]"
     ]
    },
    {
     "name": "stderr",
     "output_type": "stream",
     "text": [
      "\r",
      " 31%|███████████▉                           | 147/480 [30:13<3:33:29, 38.47s/it]"
     ]
    },
    {
     "name": "stderr",
     "output_type": "stream",
     "text": [
      "\r",
      " 31%|████████████                           | 148/480 [30:22<2:42:59, 29.46s/it]"
     ]
    },
    {
     "name": "stderr",
     "output_type": "stream",
     "text": [
      "\r",
      " 31%|████████████                           | 149/480 [30:28<2:03:03, 22.31s/it]"
     ]
    },
    {
     "name": "stderr",
     "output_type": "stream",
     "text": [
      "\r",
      " 31%|████████████▏                          | 150/480 [30:29<1:28:06, 16.02s/it]"
     ]
    },
    {
     "name": "stderr",
     "output_type": "stream",
     "text": [
      "\r",
      " 31%|████████████▎                          | 151/480 [30:36<1:13:27, 13.40s/it]"
     ]
    },
    {
     "name": "stderr",
     "output_type": "stream",
     "text": [
      "\r",
      " 32%|████████████▎                          | 152/480 [30:43<1:03:04, 11.54s/it]"
     ]
    },
    {
     "name": "stderr",
     "output_type": "stream",
     "text": [
      "\r",
      " 32%|████████████▍                          | 153/480 [31:02<1:14:31, 13.68s/it]"
     ]
    },
    {
     "name": "stderr",
     "output_type": "stream",
     "text": [
      "\r",
      " 32%|█████████████▏                           | 154/480 [31:06<58:57, 10.85s/it]"
     ]
    },
    {
     "name": "stderr",
     "output_type": "stream",
     "text": [
      "\r",
      " 32%|█████████████▏                           | 155/480 [31:08<44:22,  8.19s/it]"
     ]
    },
    {
     "name": "stderr",
     "output_type": "stream",
     "text": [
      "\r",
      " 32%|█████████████▎                           | 156/480 [31:20<50:27,  9.34s/it]"
     ]
    },
    {
     "name": "stderr",
     "output_type": "stream",
     "text": [
      "\r",
      " 33%|█████████████▍                           | 157/480 [31:22<38:39,  7.18s/it]"
     ]
    },
    {
     "name": "stderr",
     "output_type": "stream",
     "text": [
      "\r",
      " 33%|█████████████▍                           | 158/480 [31:26<32:41,  6.09s/it]"
     ]
    },
    {
     "name": "stderr",
     "output_type": "stream",
     "text": [
      "\r",
      " 33%|█████████████▌                           | 159/480 [31:27<23:59,  4.48s/it]"
     ]
    },
    {
     "name": "stderr",
     "output_type": "stream",
     "text": [
      "\r",
      " 33%|█████████████▋                           | 160/480 [31:30<21:35,  4.05s/it]"
     ]
    },
    {
     "name": "stderr",
     "output_type": "stream",
     "text": [
      "\r",
      " 34%|█████████████▊                           | 161/480 [31:31<16:35,  3.12s/it]"
     ]
    },
    {
     "name": "stderr",
     "output_type": "stream",
     "text": [
      "\r",
      " 34%|█████████████▊                           | 162/480 [31:34<16:30,  3.11s/it]"
     ]
    },
    {
     "name": "stderr",
     "output_type": "stream",
     "text": [
      "\r",
      " 34%|█████████████▉                           | 163/480 [31:36<14:37,  2.77s/it]"
     ]
    },
    {
     "name": "stderr",
     "output_type": "stream",
     "text": [
      "\r",
      " 34%|██████████████                           | 164/480 [31:36<10:40,  2.03s/it]"
     ]
    },
    {
     "name": "stderr",
     "output_type": "stream",
     "text": [
      "\r",
      " 34%|██████████████                           | 165/480 [31:36<07:51,  1.50s/it]"
     ]
    },
    {
     "name": "stderr",
     "output_type": "stream",
     "text": [
      "\r",
      " 35%|██████████████▏                          | 166/480 [32:10<57:43, 11.03s/it]"
     ]
    },
    {
     "name": "stderr",
     "output_type": "stream",
     "text": [
      "\r",
      " 35%|██████████████▎                          | 167/480 [32:10<41:15,  7.91s/it]"
     ]
    },
    {
     "name": "stderr",
     "output_type": "stream",
     "text": [
      "\r",
      " 35%|██████████████▎                          | 168/480 [32:29<58:41, 11.29s/it]"
     ]
    },
    {
     "name": "stderr",
     "output_type": "stream",
     "text": [
      "\r",
      " 35%|█████████████▋                         | 169/480 [34:32<3:51:49, 44.73s/it]"
     ]
    },
    {
     "name": "stderr",
     "output_type": "stream",
     "text": [
      "\r",
      " 35%|█████████████▊                         | 170/480 [35:38<4:24:04, 51.11s/it]"
     ]
    },
    {
     "name": "stderr",
     "output_type": "stream",
     "text": [
      "\r",
      " 36%|█████████████▉                         | 171/480 [35:42<3:10:03, 36.90s/it]"
     ]
    },
    {
     "name": "stderr",
     "output_type": "stream",
     "text": [
      "\r",
      " 36%|█████████████▉                         | 172/480 [35:50<2:25:45, 28.39s/it]"
     ]
    },
    {
     "name": "stderr",
     "output_type": "stream",
     "text": [
      "\r",
      " 36%|██████████████                         | 173/480 [35:57<1:51:56, 21.88s/it]"
     ]
    },
    {
     "name": "stderr",
     "output_type": "stream",
     "text": [
      "\r",
      " 36%|██████████████▏                        | 174/480 [36:06<1:31:18, 17.90s/it]"
     ]
    },
    {
     "name": "stderr",
     "output_type": "stream",
     "text": [
      "\r",
      " 36%|██████████████▏                        | 175/480 [36:15<1:18:12, 15.39s/it]"
     ]
    },
    {
     "name": "stderr",
     "output_type": "stream",
     "text": [
      "\r",
      " 37%|███████████████                          | 176/480 [36:17<57:07, 11.28s/it]"
     ]
    },
    {
     "name": "stderr",
     "output_type": "stream",
     "text": [
      "\r",
      " 37%|███████████████                          | 177/480 [36:20<45:03,  8.92s/it]"
     ]
    },
    {
     "name": "stderr",
     "output_type": "stream",
     "text": [
      "\r",
      " 37%|██████████████▍                        | 178/480 [36:59<1:30:20, 17.95s/it]"
     ]
    },
    {
     "name": "stderr",
     "output_type": "stream",
     "text": [
      "\r",
      " 37%|██████████████▌                        | 179/480 [37:04<1:10:11, 13.99s/it]"
     ]
    },
    {
     "name": "stderr",
     "output_type": "stream",
     "text": [
      "\r",
      " 38%|██████████████▋                        | 180/480 [37:15<1:05:51, 13.17s/it]"
     ]
    },
    {
     "name": "stderr",
     "output_type": "stream",
     "text": [
      "\r",
      " 38%|███████████████▍                         | 181/480 [37:16<47:36,  9.55s/it]"
     ]
    },
    {
     "name": "stderr",
     "output_type": "stream",
     "text": [
      "\r",
      " 38%|███████████████▌                         | 182/480 [37:18<35:08,  7.08s/it]"
     ]
    },
    {
     "name": "stderr",
     "output_type": "stream",
     "text": [
      "\r",
      " 38%|███████████████▋                         | 183/480 [37:21<29:43,  6.01s/it]"
     ]
    },
    {
     "name": "stderr",
     "output_type": "stream",
     "text": [
      "\r",
      " 38%|███████████████▋                         | 184/480 [37:22<21:30,  4.36s/it]"
     ]
    },
    {
     "name": "stderr",
     "output_type": "stream",
     "text": [
      "\r",
      " 39%|███████████████▊                         | 185/480 [37:25<19:28,  3.96s/it]"
     ]
    },
    {
     "name": "stderr",
     "output_type": "stream",
     "text": [
      "\r",
      " 39%|███████████████▉                         | 186/480 [37:25<14:30,  2.96s/it]"
     ]
    },
    {
     "name": "stderr",
     "output_type": "stream",
     "text": [
      "\r",
      " 39%|███████████████▉                         | 187/480 [37:30<16:04,  3.29s/it]"
     ]
    },
    {
     "name": "stderr",
     "output_type": "stream",
     "text": [
      "\r",
      " 39%|████████████████                         | 188/480 [37:30<11:39,  2.40s/it]"
     ]
    },
    {
     "name": "stderr",
     "output_type": "stream",
     "text": [
      "\r",
      " 39%|████████████████▏                        | 189/480 [37:30<08:30,  1.76s/it]"
     ]
    },
    {
     "name": "stderr",
     "output_type": "stream",
     "text": [
      "\r",
      " 40%|████████████████▏                        | 190/480 [37:32<09:20,  1.93s/it]"
     ]
    },
    {
     "name": "stderr",
     "output_type": "stream",
     "text": [
      "\r",
      " 40%|████████████████▎                        | 191/480 [37:46<25:42,  5.34s/it]"
     ]
    },
    {
     "name": "stderr",
     "output_type": "stream",
     "text": [
      "\r",
      " 40%|███████████████▌                       | 192/480 [38:21<1:08:05, 14.19s/it]"
     ]
    },
    {
     "name": "stderr",
     "output_type": "stream",
     "text": [
      "\r",
      " 40%|███████████████▋                       | 193/480 [40:40<4:07:05, 51.66s/it]"
     ]
    },
    {
     "name": "stderr",
     "output_type": "stream",
     "text": [
      "\r",
      " 40%|███████████████▊                       | 194/480 [41:48<4:30:01, 56.65s/it]"
     ]
    },
    {
     "name": "stderr",
     "output_type": "stream",
     "text": [
      "\r",
      " 41%|███████████████▊                       | 195/480 [41:51<3:13:03, 40.65s/it]"
     ]
    },
    {
     "name": "stderr",
     "output_type": "stream",
     "text": [
      "\r",
      " 41%|███████████████▉                       | 196/480 [41:52<2:16:09, 28.76s/it]"
     ]
    },
    {
     "name": "stderr",
     "output_type": "stream",
     "text": [
      "\r",
      " 41%|████████████████                       | 197/480 [42:00<1:45:28, 22.36s/it]"
     ]
    },
    {
     "name": "stderr",
     "output_type": "stream",
     "text": [
      "\r",
      " 41%|████████████████                       | 198/480 [42:00<1:14:33, 15.86s/it]"
     ]
    },
    {
     "name": "stderr",
     "output_type": "stream",
     "text": [
      "\r",
      " 41%|████████████████▏                      | 199/480 [42:08<1:03:05, 13.47s/it]"
     ]
    },
    {
     "name": "stderr",
     "output_type": "stream",
     "text": [
      "\r",
      " 42%|█████████████████                        | 200/480 [42:15<53:56, 11.56s/it]"
     ]
    },
    {
     "name": "stderr",
     "output_type": "stream",
     "text": [
      "\r",
      " 42%|█████████████████▏                       | 201/480 [42:30<58:18, 12.54s/it]"
     ]
    },
    {
     "name": "stderr",
     "output_type": "stream",
     "text": [
      "\r",
      " 42%|████████████████▍                      | 202/480 [42:46<1:02:59, 13.60s/it]"
     ]
    },
    {
     "name": "stderr",
     "output_type": "stream",
     "text": [
      "\r",
      " 42%|████████████████▍                      | 203/480 [42:59<1:01:33, 13.34s/it]"
     ]
    },
    {
     "name": "stderr",
     "output_type": "stream",
     "text": [
      "\r",
      " 42%|████████████████▌                      | 204/480 [43:12<1:00:51, 13.23s/it]"
     ]
    },
    {
     "name": "stderr",
     "output_type": "stream",
     "text": [
      "\r",
      " 43%|█████████████████▌                       | 205/480 [43:14<45:27,  9.92s/it]"
     ]
    },
    {
     "name": "stderr",
     "output_type": "stream",
     "text": [
      "\r",
      " 43%|█████████████████▌                       | 206/480 [43:19<37:57,  8.31s/it]"
     ]
    },
    {
     "name": "stderr",
     "output_type": "stream",
     "text": [
      "\r",
      " 43%|█████████████████▋                       | 207/480 [43:22<30:45,  6.76s/it]"
     ]
    },
    {
     "name": "stderr",
     "output_type": "stream",
     "text": [
      "\r",
      " 43%|█████████████████▊                       | 208/480 [43:23<22:27,  4.95s/it]"
     ]
    },
    {
     "name": "stderr",
     "output_type": "stream",
     "text": [
      "\r",
      " 44%|█████████████████▊                       | 209/480 [43:26<20:02,  4.44s/it]"
     ]
    },
    {
     "name": "stderr",
     "output_type": "stream",
     "text": [
      "\r",
      " 44%|█████████████████▉                       | 210/480 [43:26<14:49,  3.29s/it]"
     ]
    },
    {
     "name": "stderr",
     "output_type": "stream",
     "text": [
      "\r",
      " 44%|██████████████████                       | 211/480 [43:31<16:12,  3.62s/it]"
     ]
    },
    {
     "name": "stderr",
     "output_type": "stream",
     "text": [
      "\r",
      " 44%|██████████████████                       | 212/480 [43:31<11:47,  2.64s/it]"
     ]
    },
    {
     "name": "stderr",
     "output_type": "stream",
     "text": [
      "\r",
      " 44%|██████████████████▏                      | 213/480 [43:32<08:35,  1.93s/it]"
     ]
    },
    {
     "name": "stderr",
     "output_type": "stream",
     "text": [
      "\r",
      " 45%|██████████████████▎                      | 214/480 [43:43<20:57,  4.73s/it]"
     ]
    },
    {
     "name": "stderr",
     "output_type": "stream",
     "text": [
      "\r",
      " 45%|██████████████████▎                      | 215/480 [43:54<28:59,  6.56s/it]"
     ]
    },
    {
     "name": "stderr",
     "output_type": "stream",
     "text": [
      "\r",
      " 45%|██████████████████▍                      | 216/480 [44:12<43:50,  9.97s/it]"
     ]
    },
    {
     "name": "stderr",
     "output_type": "stream",
     "text": [
      "\r",
      " 45%|█████████████████▋                     | 217/480 [47:18<4:35:50, 62.93s/it]"
     ]
    },
    {
     "name": "stderr",
     "output_type": "stream",
     "text": [
      "\r",
      " 45%|█████████████████▋                     | 218/480 [48:26<4:41:54, 64.56s/it]"
     ]
    },
    {
     "name": "stderr",
     "output_type": "stream",
     "text": [
      "\r",
      " 46%|█████████████████▊                     | 219/480 [48:30<3:21:46, 46.38s/it]"
     ]
    },
    {
     "name": "stderr",
     "output_type": "stream",
     "text": [
      "\r",
      " 46%|█████████████████▉                     | 220/480 [48:31<2:21:26, 32.64s/it]"
     ]
    },
    {
     "name": "stderr",
     "output_type": "stream",
     "text": [
      "\r",
      " 46%|█████████████████▉                     | 221/480 [48:33<1:40:50, 23.36s/it]"
     ]
    },
    {
     "name": "stderr",
     "output_type": "stream",
     "text": [
      "\r",
      " 46%|██████████████████                     | 222/480 [48:39<1:18:06, 18.16s/it]"
     ]
    },
    {
     "name": "stderr",
     "output_type": "stream",
     "text": [
      "\r",
      " 46%|███████████████████                      | 223/480 [48:39<55:13, 12.89s/it]"
     ]
    },
    {
     "name": "stderr",
     "output_type": "stream",
     "text": [
      "\r",
      " 47%|███████████████████▏                     | 224/480 [48:41<41:20,  9.69s/it]"
     ]
    },
    {
     "name": "stderr",
     "output_type": "stream",
     "text": [
      "\r",
      " 47%|███████████████████▏                     | 225/480 [48:55<45:38, 10.74s/it]"
     ]
    },
    {
     "name": "stderr",
     "output_type": "stream",
     "text": [
      "\r",
      " 47%|███████████████████▎                     | 226/480 [49:07<47:48, 11.29s/it]"
     ]
    },
    {
     "name": "stderr",
     "output_type": "stream",
     "text": [
      "\r",
      " 47%|███████████████████▍                     | 227/480 [49:11<38:29,  9.13s/it]"
     ]
    },
    {
     "name": "stderr",
     "output_type": "stream",
     "text": [
      "\r",
      " 48%|███████████████████▍                     | 228/480 [49:24<42:32, 10.13s/it]"
     ]
    },
    {
     "name": "stderr",
     "output_type": "stream",
     "text": [
      "\r",
      " 48%|███████████████████▌                     | 229/480 [49:26<32:53,  7.86s/it]"
     ]
    },
    {
     "name": "stderr",
     "output_type": "stream",
     "text": [
      "\r",
      " 48%|███████████████████▋                     | 230/480 [49:31<29:01,  6.97s/it]"
     ]
    },
    {
     "name": "stderr",
     "output_type": "stream",
     "text": [
      "\r",
      " 48%|███████████████████▋                     | 231/480 [49:36<26:08,  6.30s/it]"
     ]
    },
    {
     "name": "stderr",
     "output_type": "stream",
     "text": [
      "\r",
      " 48%|███████████████████▊                     | 232/480 [49:40<22:40,  5.48s/it]"
     ]
    },
    {
     "name": "stderr",
     "output_type": "stream",
     "text": [
      "\r",
      " 49%|███████████████████▉                     | 233/480 [49:40<16:47,  4.08s/it]"
     ]
    },
    {
     "name": "stderr",
     "output_type": "stream",
     "text": [
      "\r",
      " 49%|███████████████████▉                     | 234/480 [49:43<15:12,  3.71s/it]"
     ]
    },
    {
     "name": "stderr",
     "output_type": "stream",
     "text": [
      "\r",
      " 49%|████████████████████                     | 235/480 [49:45<13:20,  3.27s/it]"
     ]
    },
    {
     "name": "stderr",
     "output_type": "stream",
     "text": [
      "\r",
      " 49%|████████████████████▏                    | 236/480 [49:46<09:41,  2.38s/it]"
     ]
    },
    {
     "name": "stderr",
     "output_type": "stream",
     "text": [
      "\r",
      " 49%|████████████████████▏                    | 237/480 [49:46<07:04,  1.75s/it]"
     ]
    },
    {
     "name": "stderr",
     "output_type": "stream",
     "text": [
      "\r",
      " 50%|████████████████████▎                    | 238/480 [50:18<44:10, 10.95s/it]"
     ]
    },
    {
     "name": "stderr",
     "output_type": "stream",
     "text": [
      "\r",
      " 50%|████████████████████▍                    | 239/480 [50:22<34:57,  8.70s/it]"
     ]
    },
    {
     "name": "stderr",
     "output_type": "stream",
     "text": [
      "\r",
      " 50%|████████████████████▌                    | 240/480 [50:35<39:34,  9.89s/it]"
     ]
    },
    {
     "name": "stderr",
     "output_type": "stream",
     "text": [
      "\r",
      " 50%|███████████████████▌                   | 241/480 [53:05<3:26:55, 51.95s/it]"
     ]
    },
    {
     "name": "stderr",
     "output_type": "stream",
     "text": [
      "\r",
      " 50%|███████████████████▋                   | 242/480 [54:19<3:53:12, 58.79s/it]"
     ]
    },
    {
     "name": "stderr",
     "output_type": "stream",
     "text": [
      "\r",
      " 51%|███████████████████▋                   | 243/480 [54:23<2:47:01, 42.28s/it]"
     ]
    },
    {
     "name": "stderr",
     "output_type": "stream",
     "text": [
      "\r",
      " 51%|███████████████████▊                   | 244/480 [54:33<2:08:17, 32.62s/it]"
     ]
    },
    {
     "name": "stderr",
     "output_type": "stream",
     "text": [
      "\r",
      " 51%|███████████████████▉                   | 245/480 [54:37<1:33:50, 23.96s/it]"
     ]
    },
    {
     "name": "stderr",
     "output_type": "stream",
     "text": [
      "\r",
      " 51%|███████████████████▉                   | 246/480 [54:40<1:09:13, 17.75s/it]"
     ]
    },
    {
     "name": "stderr",
     "output_type": "stream",
     "text": [
      "\r",
      " 51%|█████████████████████                    | 247/480 [54:45<54:02, 13.92s/it]"
     ]
    },
    {
     "name": "stderr",
     "output_type": "stream",
     "text": [
      "\r",
      " 52%|█████████████████████▏                   | 248/480 [54:46<38:32,  9.97s/it]"
     ]
    },
    {
     "name": "stderr",
     "output_type": "stream",
     "text": [
      "\r",
      " 52%|█████████████████████▎                   | 249/480 [54:56<38:25,  9.98s/it]"
     ]
    },
    {
     "name": "stderr",
     "output_type": "stream",
     "text": [
      "\r",
      " 52%|████████████████████▎                  | 250/480 [55:37<1:14:07, 19.34s/it]"
     ]
    },
    {
     "name": "stderr",
     "output_type": "stream",
     "text": [
      "\r",
      " 52%|████████████████████▍                  | 251/480 [56:00<1:18:17, 20.51s/it]"
     ]
    },
    {
     "name": "stderr",
     "output_type": "stream",
     "text": [
      "\r",
      " 52%|████████████████████▍                  | 252/480 [56:12<1:08:00, 17.90s/it]"
     ]
    },
    {
     "name": "stderr",
     "output_type": "stream",
     "text": [
      "\r",
      " 53%|█████████████████████▌                   | 253/480 [56:15<50:02, 13.23s/it]"
     ]
    },
    {
     "name": "stderr",
     "output_type": "stream",
     "text": [
      "\r",
      " 53%|█████████████████████▋                   | 254/480 [56:15<35:02,  9.30s/it]"
     ]
    },
    {
     "name": "stderr",
     "output_type": "stream",
     "text": [
      "\r",
      " 53%|█████████████████████▊                   | 255/480 [56:18<27:48,  7.41s/it]"
     ]
    },
    {
     "name": "stderr",
     "output_type": "stream",
     "text": [
      "\r",
      " 53%|█████████████████████▊                   | 256/480 [56:18<20:14,  5.42s/it]"
     ]
    },
    {
     "name": "stderr",
     "output_type": "stream",
     "text": [
      "\r",
      " 54%|█████████████████████▉                   | 257/480 [56:19<15:10,  4.08s/it]"
     ]
    },
    {
     "name": "stderr",
     "output_type": "stream",
     "text": [
      "\r",
      " 54%|██████████████████████                   | 258/480 [56:22<12:52,  3.48s/it]"
     ]
    },
    {
     "name": "stderr",
     "output_type": "stream",
     "text": [
      "\r",
      " 54%|██████████████████████                   | 259/480 [56:22<09:51,  2.68s/it]"
     ]
    },
    {
     "name": "stderr",
     "output_type": "stream",
     "text": [
      "\r",
      " 54%|██████████████████████▏                  | 260/480 [56:23<07:19,  2.00s/it]"
     ]
    },
    {
     "name": "stderr",
     "output_type": "stream",
     "text": [
      "\r",
      " 54%|██████████████████████▎                  | 261/480 [56:23<05:31,  1.51s/it]"
     ]
    },
    {
     "name": "stderr",
     "output_type": "stream",
     "text": [
      "\r",
      " 55%|██████████████████████▍                  | 262/480 [56:25<05:52,  1.62s/it]"
     ]
    },
    {
     "name": "stderr",
     "output_type": "stream",
     "text": [
      "\r",
      " 55%|██████████████████████▍                  | 263/480 [56:36<16:30,  4.56s/it]"
     ]
    },
    {
     "name": "stderr",
     "output_type": "stream",
     "text": [
      "\r",
      " 55%|██████████████████████▌                  | 264/480 [57:07<44:37, 12.40s/it]"
     ]
    },
    {
     "name": "stderr",
     "output_type": "stream",
     "text": [
      "\r",
      " 55%|████████████████████▍                | 265/480 [1:00:48<4:28:43, 74.99s/it]"
     ]
    },
    {
     "name": "stderr",
     "output_type": "stream",
     "text": [
      "\r",
      " 55%|████████████████████▌                | 266/480 [1:01:48<4:11:15, 70.45s/it]"
     ]
    },
    {
     "name": "stderr",
     "output_type": "stream",
     "text": [
      "\r",
      " 56%|████████████████████▌                | 267/480 [1:01:54<3:01:03, 51.00s/it]"
     ]
    },
    {
     "name": "stderr",
     "output_type": "stream",
     "text": [
      "\r",
      " 56%|████████████████████▋                | 268/480 [1:02:03<2:16:01, 38.50s/it]"
     ]
    },
    {
     "name": "stderr",
     "output_type": "stream",
     "text": [
      "\r",
      " 56%|████████████████████▋                | 269/480 [1:02:08<1:40:35, 28.60s/it]"
     ]
    },
    {
     "name": "stderr",
     "output_type": "stream",
     "text": [
      "\r",
      " 56%|████████████████████▊                | 270/480 [1:02:12<1:13:20, 20.95s/it]"
     ]
    },
    {
     "name": "stderr",
     "output_type": "stream",
     "text": [
      "\r",
      " 56%|██████████████████████                 | 271/480 [1:02:17<56:46, 16.30s/it]"
     ]
    },
    {
     "name": "stderr",
     "output_type": "stream",
     "text": [
      "\r",
      " 57%|██████████████████████                 | 272/480 [1:02:18<40:50, 11.78s/it]"
     ]
    },
    {
     "name": "stderr",
     "output_type": "stream",
     "text": [
      "\r",
      " 57%|██████████████████████▏                | 273/480 [1:02:23<33:15,  9.64s/it]"
     ]
    },
    {
     "name": "stderr",
     "output_type": "stream",
     "text": [
      "\r",
      " 57%|██████████████████████▎                | 274/480 [1:02:25<25:39,  7.47s/it]"
     ]
    },
    {
     "name": "stderr",
     "output_type": "stream",
     "text": [
      "\r",
      " 57%|██████████████████████▎                | 275/480 [1:02:37<30:18,  8.87s/it]"
     ]
    },
    {
     "name": "stderr",
     "output_type": "stream",
     "text": [
      "\r",
      " 57%|██████████████████████▍                | 276/480 [1:02:51<34:51, 10.25s/it]"
     ]
    },
    {
     "name": "stderr",
     "output_type": "stream",
     "text": [
      "\r",
      " 58%|██████████████████████▌                | 277/480 [1:02:54<27:17,  8.07s/it]"
     ]
    },
    {
     "name": "stderr",
     "output_type": "stream",
     "text": [
      "\r",
      " 58%|██████████████████████▌                | 278/480 [1:03:00<24:46,  7.36s/it]"
     ]
    },
    {
     "name": "stderr",
     "output_type": "stream",
     "text": [
      "\r",
      " 58%|██████████████████████▋                | 279/480 [1:03:04<21:29,  6.42s/it]"
     ]
    },
    {
     "name": "stderr",
     "output_type": "stream",
     "text": [
      "\r",
      " 58%|██████████████████████▊                | 280/480 [1:03:08<18:41,  5.61s/it]"
     ]
    },
    {
     "name": "stderr",
     "output_type": "stream",
     "text": [
      "\r",
      " 59%|██████████████████████▊                | 281/480 [1:03:11<16:18,  4.92s/it]"
     ]
    },
    {
     "name": "stderr",
     "output_type": "stream",
     "text": [
      "\r",
      " 59%|██████████████████████▉                | 282/480 [1:03:16<16:49,  5.10s/it]"
     ]
    },
    {
     "name": "stderr",
     "output_type": "stream",
     "text": [
      "\r",
      " 59%|██████████████████████▉                | 283/480 [1:03:27<22:23,  6.82s/it]"
     ]
    },
    {
     "name": "stderr",
     "output_type": "stream",
     "text": [
      "\r",
      " 59%|███████████████████████                | 284/480 [1:03:28<15:58,  4.89s/it]"
     ]
    },
    {
     "name": "stderr",
     "output_type": "stream",
     "text": [
      "\r",
      " 59%|███████████████████████▏               | 285/480 [1:03:28<11:25,  3.51s/it]"
     ]
    },
    {
     "name": "stderr",
     "output_type": "stream",
     "text": [
      "\r",
      " 60%|███████████████████████▏               | 286/480 [1:03:53<32:07,  9.94s/it]"
     ]
    },
    {
     "name": "stderr",
     "output_type": "stream",
     "text": [
      "\r",
      " 60%|███████████████████████▎               | 287/480 [1:04:01<29:59,  9.33s/it]"
     ]
    },
    {
     "name": "stderr",
     "output_type": "stream",
     "text": [
      "\r",
      " 60%|███████████████████████▍               | 288/480 [1:04:09<28:53,  9.03s/it]"
     ]
    },
    {
     "name": "stderr",
     "output_type": "stream",
     "text": [
      "\r",
      " 60%|██████████████████████▎              | 289/480 [1:07:41<3:42:59, 70.05s/it]"
     ]
    },
    {
     "name": "stderr",
     "output_type": "stream",
     "text": [
      "\r",
      " 60%|██████████████████████▎              | 290/480 [1:08:29<3:20:18, 63.26s/it]"
     ]
    },
    {
     "name": "stderr",
     "output_type": "stream",
     "text": [
      "\r",
      " 61%|██████████████████████▍              | 291/480 [1:08:34<2:24:01, 45.72s/it]"
     ]
    },
    {
     "name": "stderr",
     "output_type": "stream",
     "text": [
      "\r",
      " 61%|██████████████████████▌              | 292/480 [1:08:44<1:50:16, 35.19s/it]"
     ]
    },
    {
     "name": "stderr",
     "output_type": "stream",
     "text": [
      "\r",
      " 61%|██████████████████████▌              | 293/480 [1:08:52<1:24:22, 27.07s/it]"
     ]
    },
    {
     "name": "stderr",
     "output_type": "stream",
     "text": [
      "\r",
      " 61%|██████████████████████▋              | 294/480 [1:09:00<1:05:28, 21.12s/it]"
     ]
    },
    {
     "name": "stderr",
     "output_type": "stream",
     "text": [
      "\r",
      " 61%|███████████████████████▉               | 295/480 [1:09:01<46:47, 15.18s/it]"
     ]
    },
    {
     "name": "stderr",
     "output_type": "stream",
     "text": [
      "\r",
      " 62%|████████████████████████               | 296/480 [1:09:02<33:21, 10.88s/it]"
     ]
    },
    {
     "name": "stderr",
     "output_type": "stream",
     "text": [
      "\r",
      " 62%|████████████████████████▏              | 297/480 [1:09:16<36:12, 11.87s/it]"
     ]
    },
    {
     "name": "stderr",
     "output_type": "stream",
     "text": [
      "\r",
      " 62%|████████████████████████▏              | 298/480 [1:09:52<57:30, 18.96s/it]"
     ]
    },
    {
     "name": "stderr",
     "output_type": "stream",
     "text": [
      "\r",
      " 62%|████████████████████████▎              | 299/480 [1:10:11<57:27, 19.05s/it]"
     ]
    },
    {
     "name": "stderr",
     "output_type": "stream",
     "text": [
      "\r",
      " 62%|████████████████████████▍              | 300/480 [1:10:15<43:49, 14.61s/it]"
     ]
    },
    {
     "name": "stderr",
     "output_type": "stream",
     "text": [
      "\r",
      " 63%|████████████████████████▍              | 301/480 [1:10:18<33:14, 11.14s/it]"
     ]
    },
    {
     "name": "stderr",
     "output_type": "stream",
     "text": [
      "\r",
      " 63%|████████████████████████▌              | 302/480 [1:10:23<27:33,  9.29s/it]"
     ]
    },
    {
     "name": "stderr",
     "output_type": "stream",
     "text": [
      "\r",
      " 63%|████████████████████████▌              | 303/480 [1:10:25<21:13,  7.19s/it]"
     ]
    },
    {
     "name": "stderr",
     "output_type": "stream",
     "text": [
      "\r",
      " 63%|████████████████████████▋              | 304/480 [1:10:27<16:24,  5.60s/it]"
     ]
    },
    {
     "name": "stderr",
     "output_type": "stream",
     "text": [
      "\r",
      " 64%|████████████████████████▊              | 305/480 [1:10:29<13:08,  4.51s/it]"
     ]
    },
    {
     "name": "stderr",
     "output_type": "stream",
     "text": [
      "\r",
      " 64%|████████████████████████▊              | 306/480 [1:10:31<10:41,  3.69s/it]"
     ]
    },
    {
     "name": "stderr",
     "output_type": "stream",
     "text": [
      "\r",
      " 64%|████████████████████████▉              | 307/480 [1:10:35<10:59,  3.81s/it]"
     ]
    },
    {
     "name": "stderr",
     "output_type": "stream",
     "text": [
      "\r",
      " 64%|█████████████████████████              | 308/480 [1:10:36<08:03,  2.81s/it]"
     ]
    },
    {
     "name": "stderr",
     "output_type": "stream",
     "text": [
      "\r",
      " 64%|█████████████████████████              | 309/480 [1:10:36<05:55,  2.08s/it]"
     ]
    },
    {
     "name": "stderr",
     "output_type": "stream",
     "text": [
      "\r",
      " 65%|█████████████████████████▏             | 310/480 [1:10:45<11:55,  4.21s/it]"
     ]
    },
    {
     "name": "stderr",
     "output_type": "stream",
     "text": [
      "\r",
      " 65%|█████████████████████████▎             | 311/480 [1:11:04<24:26,  8.68s/it]"
     ]
    },
    {
     "name": "stderr",
     "output_type": "stream",
     "text": [
      "\r",
      " 65%|█████████████████████████▎             | 312/480 [1:11:30<38:43, 13.83s/it]"
     ]
    },
    {
     "name": "stderr",
     "output_type": "stream",
     "text": [
      "\r",
      " 65%|████████████████████████▏            | 313/480 [1:15:15<3:34:42, 77.14s/it]"
     ]
    },
    {
     "name": "stderr",
     "output_type": "stream",
     "text": [
      "\r",
      " 65%|████████████████████████▏            | 314/480 [1:16:36<3:37:01, 78.44s/it]"
     ]
    },
    {
     "name": "stderr",
     "output_type": "stream",
     "text": [
      "\r",
      " 66%|████████████████████████▎            | 315/480 [1:16:42<2:35:21, 56.49s/it]"
     ]
    },
    {
     "name": "stderr",
     "output_type": "stream",
     "text": [
      "\r",
      " 66%|████████████████████████▎            | 316/480 [1:16:46<1:51:17, 40.72s/it]"
     ]
    },
    {
     "name": "stderr",
     "output_type": "stream",
     "text": [
      "\r",
      " 66%|████████████████████████▍            | 317/480 [1:16:53<1:23:13, 30.63s/it]"
     ]
    },
    {
     "name": "stderr",
     "output_type": "stream",
     "text": [
      "\r",
      " 66%|█████████████████████████▊             | 318/480 [1:16:55<59:32, 22.05s/it]"
     ]
    },
    {
     "name": "stderr",
     "output_type": "stream",
     "text": [
      "\r",
      " 66%|█████████████████████████▉             | 319/480 [1:17:02<47:03, 17.54s/it]"
     ]
    },
    {
     "name": "stderr",
     "output_type": "stream",
     "text": [
      "\r",
      " 67%|██████████████████████████             | 320/480 [1:17:10<39:21, 14.76s/it]"
     ]
    },
    {
     "name": "stderr",
     "output_type": "stream",
     "text": [
      "\r",
      " 67%|██████████████████████████             | 321/480 [1:17:12<29:07, 10.99s/it]"
     ]
    },
    {
     "name": "stderr",
     "output_type": "stream",
     "text": [
      "\r",
      " 67%|██████████████████████████▏            | 322/480 [1:17:14<21:25,  8.14s/it]"
     ]
    },
    {
     "name": "stderr",
     "output_type": "stream",
     "text": [
      "\r",
      " 67%|██████████████████████████▏            | 323/480 [1:17:45<39:35, 15.13s/it]"
     ]
    },
    {
     "name": "stderr",
     "output_type": "stream",
     "text": [
      "\r",
      " 68%|██████████████████████████▎            | 324/480 [1:18:00<38:52, 14.95s/it]"
     ]
    },
    {
     "name": "stderr",
     "output_type": "stream",
     "text": [
      "\r",
      " 68%|██████████████████████████▍            | 325/480 [1:18:03<29:25, 11.39s/it]"
     ]
    },
    {
     "name": "stderr",
     "output_type": "stream",
     "text": [
      "\r",
      " 68%|██████████████████████████▍            | 326/480 [1:18:08<24:24,  9.51s/it]"
     ]
    },
    {
     "name": "stderr",
     "output_type": "stream",
     "text": [
      "\r",
      " 68%|██████████████████████████▌            | 327/480 [1:18:12<20:21,  7.99s/it]"
     ]
    },
    {
     "name": "stderr",
     "output_type": "stream",
     "text": [
      "\r",
      " 68%|██████████████████████████▋            | 328/480 [1:18:17<17:23,  6.87s/it]"
     ]
    },
    {
     "name": "stderr",
     "output_type": "stream",
     "text": [
      "\r",
      " 69%|██████████████████████████▋            | 329/480 [1:18:18<12:51,  5.11s/it]"
     ]
    },
    {
     "name": "stderr",
     "output_type": "stream",
     "text": [
      "\r",
      " 69%|██████████████████████████▊            | 330/480 [1:18:20<11:02,  4.42s/it]"
     ]
    },
    {
     "name": "stderr",
     "output_type": "stream",
     "text": [
      "\r",
      " 69%|██████████████████████████▉            | 331/480 [1:18:24<10:13,  4.12s/it]"
     ]
    },
    {
     "name": "stderr",
     "output_type": "stream",
     "text": [
      "\r",
      " 69%|██████████████████████████▉            | 332/480 [1:18:24<07:25,  3.01s/it]"
     ]
    },
    {
     "name": "stderr",
     "output_type": "stream",
     "text": [
      "\r",
      " 69%|███████████████████████████            | 333/480 [1:18:24<05:23,  2.20s/it]"
     ]
    },
    {
     "name": "stderr",
     "output_type": "stream",
     "text": [
      "\r",
      " 70%|███████████████████████████▏           | 334/480 [1:18:52<23:47,  9.77s/it]"
     ]
    },
    {
     "name": "stderr",
     "output_type": "stream",
     "text": [
      "\r",
      " 70%|███████████████████████████▏           | 335/480 [1:18:52<16:42,  6.91s/it]"
     ]
    },
    {
     "name": "stderr",
     "output_type": "stream",
     "text": [
      "\r",
      " 70%|███████████████████████████▎           | 336/480 [1:19:12<26:14, 10.94s/it]"
     ]
    },
    {
     "name": "stderr",
     "output_type": "stream",
     "text": [
      "\r",
      " 70%|█████████████████████████▉           | 337/480 [1:22:57<2:58:31, 74.90s/it]"
     ]
    },
    {
     "name": "stderr",
     "output_type": "stream",
     "text": [
      "\r",
      " 70%|██████████████████████████           | 338/480 [1:24:24<3:05:54, 78.55s/it]"
     ]
    },
    {
     "name": "stderr",
     "output_type": "stream",
     "text": [
      "\r",
      " 71%|██████████████████████████▏          | 339/480 [1:24:29<2:13:05, 56.64s/it]"
     ]
    },
    {
     "name": "stderr",
     "output_type": "stream",
     "text": [
      "\r",
      " 71%|██████████████████████████▏          | 340/480 [1:24:34<1:35:48, 41.06s/it]"
     ]
    },
    {
     "name": "stderr",
     "output_type": "stream",
     "text": [
      "\r",
      " 71%|██████████████████████████▎          | 341/480 [1:24:39<1:10:07, 30.27s/it]"
     ]
    },
    {
     "name": "stderr",
     "output_type": "stream",
     "text": [
      "\r",
      " 71%|███████████████████████████▊           | 342/480 [1:24:42<51:04, 22.20s/it]"
     ]
    },
    {
     "name": "stderr",
     "output_type": "stream",
     "text": [
      "\r",
      " 71%|███████████████████████████▊           | 343/480 [1:24:49<40:12, 17.61s/it]"
     ]
    },
    {
     "name": "stderr",
     "output_type": "stream",
     "text": [
      "\r",
      " 72%|███████████████████████████▉           | 344/480 [1:24:58<33:44, 14.89s/it]"
     ]
    },
    {
     "name": "stderr",
     "output_type": "stream",
     "text": [
      "\r",
      " 72%|████████████████████████████           | 345/480 [1:25:10<31:25, 13.96s/it]"
     ]
    },
    {
     "name": "stderr",
     "output_type": "stream",
     "text": [
      "\r",
      " 72%|████████████████████████████           | 346/480 [1:25:16<25:53, 11.59s/it]"
     ]
    },
    {
     "name": "stderr",
     "output_type": "stream",
     "text": [
      "\r",
      " 72%|████████████████████████████▏          | 347/480 [1:25:57<45:12, 20.40s/it]"
     ]
    },
    {
     "name": "stderr",
     "output_type": "stream",
     "text": [
      "\r",
      " 72%|████████████████████████████▎          | 348/480 [1:26:05<36:39, 16.66s/it]"
     ]
    },
    {
     "name": "stderr",
     "output_type": "stream",
     "text": [
      "\r",
      " 73%|████████████████████████████▎          | 349/480 [1:26:08<27:25, 12.56s/it]"
     ]
    },
    {
     "name": "stderr",
     "output_type": "stream",
     "text": [
      "\r",
      " 73%|████████████████████████████▍          | 350/480 [1:26:12<21:53, 10.10s/it]"
     ]
    },
    {
     "name": "stderr",
     "output_type": "stream",
     "text": [
      "\r",
      " 73%|████████████████████████████▌          | 351/480 [1:26:13<15:46,  7.34s/it]"
     ]
    },
    {
     "name": "stderr",
     "output_type": "stream",
     "text": [
      "\r",
      " 73%|████████████████████████████▌          | 352/480 [1:26:16<13:18,  6.23s/it]"
     ]
    },
    {
     "name": "stderr",
     "output_type": "stream",
     "text": [
      "\r",
      " 74%|████████████████████████████▋          | 353/480 [1:26:17<09:29,  4.48s/it]"
     ]
    },
    {
     "name": "stderr",
     "output_type": "stream",
     "text": [
      "\r",
      " 74%|████████████████████████████▊          | 354/480 [1:26:21<09:10,  4.37s/it]"
     ]
    },
    {
     "name": "stderr",
     "output_type": "stream",
     "text": [
      "\r",
      " 74%|████████████████████████████▊          | 355/480 [1:26:23<07:49,  3.75s/it]"
     ]
    },
    {
     "name": "stderr",
     "output_type": "stream",
     "text": [
      "\r",
      " 74%|████████████████████████████▉          | 356/480 [1:26:24<05:42,  2.76s/it]"
     ]
    },
    {
     "name": "stderr",
     "output_type": "stream",
     "text": [
      "\r",
      " 74%|█████████████████████████████          | 357/480 [1:26:24<04:11,  2.04s/it]"
     ]
    },
    {
     "name": "stderr",
     "output_type": "stream",
     "text": [
      "\r",
      " 75%|█████████████████████████████          | 358/480 [1:26:50<18:44,  9.22s/it]"
     ]
    },
    {
     "name": "stderr",
     "output_type": "stream",
     "text": [
      "\r",
      " 75%|█████████████████████████████▏         | 359/480 [1:26:56<16:37,  8.24s/it]"
     ]
    },
    {
     "name": "stderr",
     "output_type": "stream",
     "text": [
      "\r",
      " 75%|█████████████████████████████▎         | 360/480 [1:27:10<19:54,  9.95s/it]"
     ]
    },
    {
     "name": "stderr",
     "output_type": "stream",
     "text": [
      "\r",
      " 75%|███████████████████████████▊         | 361/480 [1:31:27<2:46:50, 84.13s/it]"
     ]
    },
    {
     "name": "stderr",
     "output_type": "stream",
     "text": [
      "\r",
      " 75%|███████████████████████████▉         | 362/480 [1:32:49<2:44:16, 83.53s/it]"
     ]
    },
    {
     "name": "stderr",
     "output_type": "stream",
     "text": [
      "\r",
      " 76%|███████████████████████████▉         | 363/480 [1:32:54<1:56:27, 59.72s/it]"
     ]
    },
    {
     "name": "stderr",
     "output_type": "stream",
     "text": [
      "\r",
      " 76%|████████████████████████████         | 364/480 [1:32:55<1:21:51, 42.34s/it]"
     ]
    },
    {
     "name": "stderr",
     "output_type": "stream",
     "text": [
      "\r",
      " 76%|████████████████████████████▏        | 365/480 [1:33:04<1:01:41, 32.19s/it]"
     ]
    },
    {
     "name": "stderr",
     "output_type": "stream",
     "text": [
      "\r",
      " 76%|█████████████████████████████▋         | 366/480 [1:33:04<42:54, 22.58s/it]"
     ]
    },
    {
     "name": "stderr",
     "output_type": "stream",
     "text": [
      "\r",
      " 76%|█████████████████████████████▊         | 367/480 [1:33:08<32:01, 17.00s/it]"
     ]
    },
    {
     "name": "stderr",
     "output_type": "stream",
     "text": [
      "\r",
      " 77%|█████████████████████████████▉         | 368/480 [1:33:14<25:19, 13.57s/it]"
     ]
    },
    {
     "name": "stderr",
     "output_type": "stream",
     "text": [
      "\r",
      " 77%|█████████████████████████████▉         | 369/480 [1:33:19<20:44, 11.21s/it]"
     ]
    },
    {
     "name": "stderr",
     "output_type": "stream",
     "text": [
      "\r",
      " 77%|██████████████████████████████         | 370/480 [1:34:07<40:28, 22.08s/it]"
     ]
    },
    {
     "name": "stderr",
     "output_type": "stream",
     "text": [
      "\r",
      " 77%|██████████████████████████████▏        | 371/480 [1:34:23<37:07, 20.44s/it]"
     ]
    },
    {
     "name": "stderr",
     "output_type": "stream",
     "text": [
      "\r",
      " 78%|██████████████████████████████▏        | 372/480 [1:34:32<30:24, 16.89s/it]"
     ]
    },
    {
     "name": "stderr",
     "output_type": "stream",
     "text": [
      "\r",
      " 78%|██████████████████████████████▎        | 373/480 [1:34:35<22:53, 12.84s/it]"
     ]
    },
    {
     "name": "stderr",
     "output_type": "stream",
     "text": [
      "\r",
      " 78%|██████████████████████████████▍        | 374/480 [1:34:38<17:32,  9.93s/it]"
     ]
    },
    {
     "name": "stderr",
     "output_type": "stream",
     "text": [
      "\r",
      " 78%|██████████████████████████████▍        | 375/480 [1:34:41<13:21,  7.63s/it]"
     ]
    },
    {
     "name": "stderr",
     "output_type": "stream",
     "text": [
      "\r",
      " 78%|██████████████████████████████▌        | 376/480 [1:34:43<10:30,  6.06s/it]"
     ]
    },
    {
     "name": "stderr",
     "output_type": "stream",
     "text": [
      "\r",
      " 79%|██████████████████████████████▋        | 377/480 [1:34:45<08:15,  4.81s/it]"
     ]
    },
    {
     "name": "stderr",
     "output_type": "stream",
     "text": [
      "\r",
      " 79%|██████████████████████████████▋        | 378/480 [1:34:48<07:02,  4.14s/it]"
     ]
    },
    {
     "name": "stderr",
     "output_type": "stream",
     "text": [
      "\r",
      " 79%|██████████████████████████████▊        | 379/480 [1:34:52<07:02,  4.18s/it]"
     ]
    },
    {
     "name": "stderr",
     "output_type": "stream",
     "text": [
      "\r",
      " 79%|██████████████████████████████▉        | 380/480 [1:34:52<05:06,  3.06s/it]"
     ]
    },
    {
     "name": "stderr",
     "output_type": "stream",
     "text": [
      "\r",
      " 79%|██████████████████████████████▉        | 381/480 [1:34:53<03:41,  2.24s/it]"
     ]
    },
    {
     "name": "stderr",
     "output_type": "stream",
     "text": [
      "\r",
      " 80%|███████████████████████████████        | 382/480 [1:35:03<07:50,  4.80s/it]"
     ]
    },
    {
     "name": "stderr",
     "output_type": "stream",
     "text": [
      "\r",
      " 80%|███████████████████████████████        | 383/480 [1:35:23<15:11,  9.40s/it]"
     ]
    },
    {
     "name": "stderr",
     "output_type": "stream",
     "text": [
      "\r",
      " 80%|███████████████████████████████▏       | 384/480 [1:35:51<23:40, 14.80s/it]"
     ]
    },
    {
     "name": "stderr",
     "output_type": "stream",
     "text": [
      "\r",
      " 80%|█████████████████████████████▋       | 385/480 [1:39:48<2:09:02, 81.50s/it]"
     ]
    },
    {
     "name": "stderr",
     "output_type": "stream",
     "text": [
      "\r",
      " 80%|█████████████████████████████▊       | 386/480 [1:41:28<2:16:08, 86.90s/it]"
     ]
    },
    {
     "name": "stderr",
     "output_type": "stream",
     "text": [
      "\r",
      " 81%|█████████████████████████████▊       | 387/480 [1:41:28<1:34:29, 60.96s/it]"
     ]
    },
    {
     "name": "stderr",
     "output_type": "stream",
     "text": [
      "\r",
      " 81%|█████████████████████████████▉       | 388/480 [1:41:33<1:07:38, 44.11s/it]"
     ]
    },
    {
     "name": "stderr",
     "output_type": "stream",
     "text": [
      "\r",
      " 81%|███████████████████████████████▌       | 389/480 [1:41:39<49:36, 32.71s/it]"
     ]
    },
    {
     "name": "stderr",
     "output_type": "stream",
     "text": [
      "\r",
      " 81%|███████████████████████████████▋       | 390/480 [1:41:42<35:44, 23.83s/it]"
     ]
    },
    {
     "name": "stderr",
     "output_type": "stream",
     "text": [
      "\r",
      " 81%|███████████████████████████████▊       | 391/480 [1:41:49<28:03, 18.91s/it]"
     ]
    },
    {
     "name": "stderr",
     "output_type": "stream",
     "text": [
      "\r",
      " 82%|███████████████████████████████▊       | 392/480 [1:41:58<23:10, 15.80s/it]"
     ]
    },
    {
     "name": "stderr",
     "output_type": "stream",
     "text": [
      "\r",
      " 82%|███████████████████████████████▉       | 393/480 [1:42:10<21:27, 14.80s/it]"
     ]
    },
    {
     "name": "stderr",
     "output_type": "stream",
     "text": [
      "\r",
      " 82%|████████████████████████████████       | 394/480 [1:42:13<16:06, 11.24s/it]"
     ]
    },
    {
     "name": "stderr",
     "output_type": "stream",
     "text": [
      "\r",
      " 82%|████████████████████████████████       | 395/480 [1:42:41<22:48, 16.10s/it]"
     ]
    },
    {
     "name": "stderr",
     "output_type": "stream",
     "text": [
      "\r",
      " 82%|████████████████████████████████▏      | 396/480 [1:42:58<23:05, 16.50s/it]"
     ]
    },
    {
     "name": "stderr",
     "output_type": "stream",
     "text": [
      "\r",
      " 83%|████████████████████████████████▎      | 397/480 [1:43:01<17:15, 12.48s/it]"
     ]
    },
    {
     "name": "stderr",
     "output_type": "stream",
     "text": [
      "\r",
      " 83%|████████████████████████████████▎      | 398/480 [1:43:07<14:06, 10.33s/it]"
     ]
    },
    {
     "name": "stderr",
     "output_type": "stream",
     "text": [
      "\r",
      " 83%|████████████████████████████████▍      | 399/480 [1:43:11<11:35,  8.59s/it]"
     ]
    },
    {
     "name": "stderr",
     "output_type": "stream",
     "text": [
      "\r",
      " 83%|████████████████████████████████▌      | 400/480 [1:43:12<08:16,  6.20s/it]"
     ]
    },
    {
     "name": "stderr",
     "output_type": "stream",
     "text": [
      "\r",
      " 84%|████████████████████████████████▌      | 401/480 [1:43:16<07:23,  5.62s/it]"
     ]
    },
    {
     "name": "stderr",
     "output_type": "stream",
     "text": [
      "\r",
      " 84%|████████████████████████████████▋      | 403/480 [1:43:23<05:48,  4.52s/it]"
     ]
    },
    {
     "name": "stderr",
     "output_type": "stream",
     "text": [
      "\r",
      " 84%|████████████████████████████████▊      | 404/480 [1:43:23<04:27,  3.52s/it]"
     ]
    },
    {
     "name": "stderr",
     "output_type": "stream",
     "text": [
      "\r",
      " 84%|████████████████████████████████▉      | 405/480 [1:43:23<03:21,  2.69s/it]"
     ]
    },
    {
     "name": "stderr",
     "output_type": "stream",
     "text": [
      "\r",
      " 85%|████████████████████████████████▉      | 406/480 [1:43:59<14:19, 11.61s/it]"
     ]
    },
    {
     "name": "stderr",
     "output_type": "stream",
     "text": [
      "\r",
      " 85%|█████████████████████████████████      | 407/480 [1:44:00<10:41,  8.79s/it]"
     ]
    },
    {
     "name": "stderr",
     "output_type": "stream",
     "text": [
      "\r",
      " 85%|█████████████████████████████████▏     | 408/480 [1:44:19<14:03, 11.71s/it]"
     ]
    },
    {
     "name": "stderr",
     "output_type": "stream",
     "text": [
      "\r",
      " 85%|███████████████████████████████▌     | 409/480 [1:48:49<1:42:27, 86.58s/it]"
     ]
    },
    {
     "name": "stderr",
     "output_type": "stream",
     "text": [
      "\r",
      " 85%|███████████████████████████████▌     | 410/480 [1:50:26<1:44:18, 89.40s/it]"
     ]
    },
    {
     "name": "stderr",
     "output_type": "stream",
     "text": [
      "\r",
      " 86%|███████████████████████████████▋     | 411/480 [1:50:28<1:13:25, 63.85s/it]"
     ]
    },
    {
     "name": "stderr",
     "output_type": "stream",
     "text": [
      "\r",
      " 86%|█████████████████████████████████▍     | 412/480 [1:50:33<52:21, 46.20s/it]"
     ]
    },
    {
     "name": "stderr",
     "output_type": "stream",
     "text": [
      "\r",
      " 86%|█████████████████████████████████▌     | 413/480 [1:50:40<38:32, 34.51s/it]"
     ]
    },
    {
     "name": "stderr",
     "output_type": "stream",
     "text": [
      "\r",
      " 86%|█████████████████████████████████▋     | 414/480 [1:50:42<27:23, 24.89s/it]"
     ]
    },
    {
     "name": "stderr",
     "output_type": "stream",
     "text": [
      "\r",
      " 86%|█████████████████████████████████▋     | 415/480 [1:50:50<21:27, 19.81s/it]"
     ]
    },
    {
     "name": "stderr",
     "output_type": "stream",
     "text": [
      "\r",
      " 87%|█████████████████████████████████▊     | 416/480 [1:50:52<15:27, 14.49s/it]"
     ]
    },
    {
     "name": "stderr",
     "output_type": "stream",
     "text": [
      "\r",
      " 87%|█████████████████████████████████▉     | 417/480 [1:50:59<12:49, 12.22s/it]"
     ]
    },
    {
     "name": "stderr",
     "output_type": "stream",
     "text": [
      "\r",
      " 87%|█████████████████████████████████▉     | 418/480 [1:51:42<22:14, 21.52s/it]"
     ]
    },
    {
     "name": "stderr",
     "output_type": "stream",
     "text": [
      "\r",
      " 87%|██████████████████████████████████     | 419/480 [1:52:18<26:12, 25.77s/it]"
     ]
    },
    {
     "name": "stderr",
     "output_type": "stream",
     "text": [
      "\r",
      " 88%|██████████████████████████████████▏    | 420/480 [1:52:21<19:10, 19.17s/it]"
     ]
    },
    {
     "name": "stderr",
     "output_type": "stream",
     "text": [
      "\r",
      " 88%|██████████████████████████████████▏    | 421/480 [1:52:26<14:26, 14.68s/it]"
     ]
    },
    {
     "name": "stderr",
     "output_type": "stream",
     "text": [
      "\r",
      " 88%|██████████████████████████████████▎    | 422/480 [1:52:31<11:37, 12.03s/it]"
     ]
    },
    {
     "name": "stderr",
     "output_type": "stream",
     "text": [
      "\r",
      " 88%|██████████████████████████████████▎    | 423/480 [1:52:35<08:56,  9.40s/it]"
     ]
    },
    {
     "name": "stderr",
     "output_type": "stream",
     "text": [
      "\r",
      " 88%|██████████████████████████████████▍    | 424/480 [1:52:37<06:38,  7.11s/it]"
     ]
    },
    {
     "name": "stderr",
     "output_type": "stream",
     "text": [
      "\r",
      " 89%|██████████████████████████████████▌    | 425/480 [1:52:39<05:11,  5.67s/it]"
     ]
    },
    {
     "name": "stderr",
     "output_type": "stream",
     "text": [
      "\r",
      " 89%|██████████████████████████████████▌    | 426/480 [1:52:40<03:59,  4.44s/it]"
     ]
    },
    {
     "name": "stderr",
     "output_type": "stream",
     "text": [
      "\r",
      " 89%|██████████████████████████████████▋    | 427/480 [1:52:46<04:10,  4.73s/it]"
     ]
    },
    {
     "name": "stderr",
     "output_type": "stream",
     "text": [
      "\r",
      " 89%|██████████████████████████████████▊    | 428/480 [1:52:46<03:02,  3.50s/it]"
     ]
    },
    {
     "name": "stderr",
     "output_type": "stream",
     "text": [
      "\r",
      " 89%|██████████████████████████████████▊    | 429/480 [1:52:47<02:10,  2.56s/it]"
     ]
    },
    {
     "name": "stderr",
     "output_type": "stream",
     "text": [
      "\r",
      " 90%|██████████████████████████████████▉    | 430/480 [1:52:53<03:02,  3.64s/it]"
     ]
    },
    {
     "name": "stderr",
     "output_type": "stream",
     "text": [
      "\r",
      " 90%|███████████████████████████████████    | 431/480 [1:53:15<07:25,  9.08s/it]"
     ]
    },
    {
     "name": "stderr",
     "output_type": "stream",
     "text": [
      "\r",
      " 90%|███████████████████████████████████    | 432/480 [1:53:29<08:33, 10.70s/it]"
     ]
    },
    {
     "name": "stderr",
     "output_type": "stream",
     "text": [
      "\r",
      " 90%|█████████████████████████████████▍   | 433/480 [1:57:57<1:08:41, 87.69s/it]"
     ]
    },
    {
     "name": "stderr",
     "output_type": "stream",
     "text": [
      "\r",
      " 90%|█████████████████████████████████▍   | 434/480 [1:59:41<1:11:03, 92.68s/it]"
     ]
    },
    {
     "name": "stderr",
     "output_type": "stream",
     "text": [
      "\r",
      " 91%|███████████████████████████████████▎   | 435/480 [1:59:42<48:51, 65.15s/it]"
     ]
    },
    {
     "name": "stderr",
     "output_type": "stream",
     "text": [
      "\r",
      " 91%|███████████████████████████████████▍   | 436/480 [1:59:47<34:31, 47.08s/it]"
     ]
    },
    {
     "name": "stderr",
     "output_type": "stream",
     "text": [
      "\r",
      " 91%|███████████████████████████████████▌   | 437/480 [1:59:53<24:54, 34.75s/it]"
     ]
    },
    {
     "name": "stderr",
     "output_type": "stream",
     "text": [
      "\r",
      " 91%|███████████████████████████████████▌   | 438/480 [1:59:56<17:44, 25.35s/it]"
     ]
    },
    {
     "name": "stderr",
     "output_type": "stream",
     "text": [
      "\r",
      " 91%|███████████████████████████████████▋   | 439/480 [2:00:00<12:53, 18.87s/it]"
     ]
    },
    {
     "name": "stderr",
     "output_type": "stream",
     "text": [
      "\r",
      " 92%|███████████████████████████████████▊   | 440/480 [2:00:03<09:22, 14.07s/it]"
     ]
    },
    {
     "name": "stderr",
     "output_type": "stream",
     "text": [
      "\r",
      " 92%|███████████████████████████████████▊   | 441/480 [2:00:14<08:39, 13.33s/it]"
     ]
    },
    {
     "name": "stderr",
     "output_type": "stream",
     "text": [
      "\r",
      " 92%|███████████████████████████████████▉   | 442/480 [2:01:13<17:00, 26.87s/it]"
     ]
    },
    {
     "name": "stderr",
     "output_type": "stream",
     "text": [
      "\r",
      " 92%|███████████████████████████████████▉   | 443/480 [2:01:18<12:38, 20.50s/it]"
     ]
    },
    {
     "name": "stderr",
     "output_type": "stream",
     "text": [
      "\r",
      " 92%|████████████████████████████████████   | 444/480 [2:01:25<09:44, 16.22s/it]"
     ]
    },
    {
     "name": "stderr",
     "output_type": "stream",
     "text": [
      "\r",
      " 93%|████████████████████████████████████▏  | 445/480 [2:01:28<07:11, 12.34s/it]"
     ]
    },
    {
     "name": "stderr",
     "output_type": "stream",
     "text": [
      "\r",
      " 93%|████████████████████████████████████▏  | 446/480 [2:01:34<05:52, 10.37s/it]"
     ]
    },
    {
     "name": "stderr",
     "output_type": "stream",
     "text": [
      "\r",
      " 93%|████████████████████████████████████▎  | 447/480 [2:01:38<04:38,  8.43s/it]"
     ]
    },
    {
     "name": "stderr",
     "output_type": "stream",
     "text": [
      "\r",
      " 93%|████████████████████████████████████▍  | 448/480 [2:01:39<03:26,  6.45s/it]"
     ]
    },
    {
     "name": "stderr",
     "output_type": "stream",
     "text": [
      "\r",
      " 94%|████████████████████████████████████▍  | 449/480 [2:01:43<02:48,  5.43s/it]"
     ]
    },
    {
     "name": "stderr",
     "output_type": "stream",
     "text": [
      "\r",
      " 94%|████████████████████████████████████▌  | 450/480 [2:01:44<02:05,  4.17s/it]"
     ]
    },
    {
     "name": "stderr",
     "output_type": "stream",
     "text": [
      "\r",
      " 94%|████████████████████████████████████▋  | 451/480 [2:01:50<02:15,  4.67s/it]"
     ]
    },
    {
     "name": "stderr",
     "output_type": "stream",
     "text": [
      "\r",
      " 94%|████████████████████████████████████▋  | 452/480 [2:01:50<01:35,  3.42s/it]"
     ]
    },
    {
     "name": "stderr",
     "output_type": "stream",
     "text": [
      "\r",
      " 94%|████████████████████████████████████▊  | 453/480 [2:01:50<01:07,  2.50s/it]"
     ]
    },
    {
     "name": "stderr",
     "output_type": "stream",
     "text": [
      "\r",
      " 95%|████████████████████████████████████▉  | 454/480 [2:02:08<02:58,  6.87s/it]"
     ]
    },
    {
     "name": "stderr",
     "output_type": "stream",
     "text": [
      "\r",
      " 95%|████████████████████████████████████▉  | 455/480 [2:02:32<05:00, 12.03s/it]"
     ]
    },
    {
     "name": "stderr",
     "output_type": "stream",
     "text": [
      "\r",
      " 95%|█████████████████████████████████████  | 456/480 [2:03:02<06:59, 17.50s/it]"
     ]
    },
    {
     "name": "stderr",
     "output_type": "stream",
     "text": [
      "\r",
      " 95%|█████████████████████████████████████▏ | 457/480 [2:07:39<36:33, 95.37s/it]"
     ]
    },
    {
     "name": "stderr",
     "output_type": "stream",
     "text": [
      "\r",
      " 95%|█████████████████████████████████████▏ | 458/480 [2:09:00<33:23, 91.09s/it]"
     ]
    },
    {
     "name": "stderr",
     "output_type": "stream",
     "text": [
      "\r",
      " 96%|█████████████████████████████████████▎ | 459/480 [2:09:06<22:55, 65.50s/it]"
     ]
    },
    {
     "name": "stderr",
     "output_type": "stream",
     "text": [
      "\r",
      " 96%|█████████████████████████████████████▍ | 460/480 [2:09:18<16:28, 49.45s/it]"
     ]
    },
    {
     "name": "stderr",
     "output_type": "stream",
     "text": [
      "\r",
      " 96%|█████████████████████████████████████▍ | 461/480 [2:09:27<11:49, 37.32s/it]"
     ]
    },
    {
     "name": "stderr",
     "output_type": "stream",
     "text": [
      "\r",
      " 96%|█████████████████████████████████████▌ | 462/480 [2:09:27<07:50, 26.16s/it]"
     ]
    },
    {
     "name": "stderr",
     "output_type": "stream",
     "text": [
      "\r",
      " 96%|█████████████████████████████████████▌ | 463/480 [2:09:27<05:13, 18.41s/it]"
     ]
    },
    {
     "name": "stderr",
     "output_type": "stream",
     "text": [
      "\r",
      " 97%|█████████████████████████████████████▋ | 464/480 [2:09:38<04:15, 15.99s/it]"
     ]
    },
    {
     "name": "stderr",
     "output_type": "stream",
     "text": [
      "\r",
      " 97%|█████████████████████████████████████▊ | 465/480 [2:09:45<03:19, 13.28s/it]"
     ]
    },
    {
     "name": "stderr",
     "output_type": "stream",
     "text": [
      "\r",
      " 97%|█████████████████████████████████████▊ | 466/480 [2:10:25<04:57, 21.28s/it]"
     ]
    },
    {
     "name": "stderr",
     "output_type": "stream",
     "text": [
      "\r",
      " 97%|█████████████████████████████████████▉ | 467/480 [2:10:56<05:18, 24.46s/it]"
     ]
    },
    {
     "name": "stderr",
     "output_type": "stream",
     "text": [
      "\r",
      " 98%|██████████████████████████████████████ | 468/480 [2:11:15<04:32, 22.71s/it]"
     ]
    },
    {
     "name": "stderr",
     "output_type": "stream",
     "text": [
      "\r",
      " 98%|██████████████████████████████████████ | 469/480 [2:11:19<03:06, 16.94s/it]"
     ]
    },
    {
     "name": "stderr",
     "output_type": "stream",
     "text": [
      "\r",
      " 98%|██████████████████████████████████████▏| 470/480 [2:11:24<02:15, 13.52s/it]"
     ]
    },
    {
     "name": "stderr",
     "output_type": "stream",
     "text": [
      "\r",
      " 98%|██████████████████████████████████████▎| 471/480 [2:11:29<01:38, 10.93s/it]"
     ]
    },
    {
     "name": "stderr",
     "output_type": "stream",
     "text": [
      "\r",
      " 98%|██████████████████████████████████████▎| 472/480 [2:11:34<01:12,  9.07s/it]"
     ]
    },
    {
     "name": "stderr",
     "output_type": "stream",
     "text": [
      "\r",
      " 99%|██████████████████████████████████████▍| 473/480 [2:11:39<00:55,  7.90s/it]"
     ]
    },
    {
     "name": "stderr",
     "output_type": "stream",
     "text": [
      "\r",
      " 99%|██████████████████████████████████████▌| 474/480 [2:11:40<00:34,  5.76s/it]"
     ]
    },
    {
     "name": "stderr",
     "output_type": "stream",
     "text": [
      "\r",
      " 99%|██████████████████████████████████████▌| 475/480 [2:11:46<00:29,  5.90s/it]"
     ]
    },
    {
     "name": "stderr",
     "output_type": "stream",
     "text": [
      "\r",
      " 99%|██████████████████████████████████████▋| 476/480 [2:12:11<00:46, 11.67s/it]"
     ]
    },
    {
     "name": "stderr",
     "output_type": "stream",
     "text": [
      "\r",
      " 99%|██████████████████████████████████████▊| 477/480 [2:12:12<00:25,  8.51s/it]"
     ]
    },
    {
     "name": "stderr",
     "output_type": "stream",
     "text": [
      "\r",
      "100%|██████████████████████████████████████▊| 478/480 [2:12:16<00:14,  7.00s/it]"
     ]
    },
    {
     "name": "stderr",
     "output_type": "stream",
     "text": [
      "\r",
      "100%|█████████████████████████████████████▉| 479/480 [2:19:02<02:06, 126.95s/it]"
     ]
    },
    {
     "name": "stderr",
     "output_type": "stream",
     "text": [
      "\r",
      "100%|██████████████████████████████████████| 480/480 [2:26:13<00:00, 217.90s/it]"
     ]
    },
    {
     "name": "stderr",
     "output_type": "stream",
     "text": [
      "\r",
      "100%|███████████████████████████████████████| 480/480 [2:26:13<00:00, 18.28s/it]"
     ]
    },
    {
     "name": "stderr",
     "output_type": "stream",
     "text": [
      "\n"
     ]
    },
    {
     "data": {
      "text/html": [
       "<div>\n",
       "<style scoped>\n",
       "    .dataframe tbody tr th:only-of-type {\n",
       "        vertical-align: middle;\n",
       "    }\n",
       "\n",
       "    .dataframe tbody tr th {\n",
       "        vertical-align: top;\n",
       "    }\n",
       "\n",
       "    .dataframe thead th {\n",
       "        text-align: right;\n",
       "    }\n",
       "</style>\n",
       "<table border=\"1\" class=\"dataframe\">\n",
       "  <thead>\n",
       "    <tr style=\"text-align: right;\">\n",
       "      <th></th>\n",
       "      <th>problem</th>\n",
       "      <th>model</th>\n",
       "      <th>force_consider_own</th>\n",
       "      <th>merge_isomorphic</th>\n",
       "      <th>truncate_common_chain</th>\n",
       "      <th>collect_garbage</th>\n",
       "      <th>reward_common_chain</th>\n",
       "      <th>protocol</th>\n",
       "      <th>dag_size_limit</th>\n",
       "      <th>size</th>\n",
       "      <th>...</th>\n",
       "      <th>vi_time</th>\n",
       "      <th>vi_max_value</th>\n",
       "      <th>ss_reachable</th>\n",
       "      <th>ss_nonzero</th>\n",
       "      <th>ss_time</th>\n",
       "      <th>pe_iter</th>\n",
       "      <th>ptrev</th>\n",
       "      <th>rpp</th>\n",
       "      <th>time</th>\n",
       "      <th>vi_steady_value</th>\n",
       "    </tr>\n",
       "  </thead>\n",
       "  <tbody>\n",
       "    <tr>\n",
       "      <th>0</th>\n",
       "      <td>ref-aft20</td>\n",
       "      <td>aft20barzur</td>\n",
       "      <td>True</td>\n",
       "      <td>True</td>\n",
       "      <td>True</td>\n",
       "      <td>True</td>\n",
       "      <td>True</td>\n",
       "      <td>bitcoin</td>\n",
       "      <td>6</td>\n",
       "      <td>37</td>\n",
       "      <td>...</td>\n",
       "      <td>0.183302</td>\n",
       "      <td>9.625739</td>\n",
       "      <td>13</td>\n",
       "      <td>13</td>\n",
       "      <td>0.055014</td>\n",
       "      <td>2</td>\n",
       "      <td>0.024750</td>\n",
       "      <td>0.050000</td>\n",
       "      <td>0.239126</td>\n",
       "      <td>4.939711</td>\n",
       "    </tr>\n",
       "    <tr>\n",
       "      <th>1</th>\n",
       "      <td>ref-fc16</td>\n",
       "      <td>fc16sapirshtein</td>\n",
       "      <td>True</td>\n",
       "      <td>True</td>\n",
       "      <td>True</td>\n",
       "      <td>True</td>\n",
       "      <td>True</td>\n",
       "      <td>bitcoin</td>\n",
       "      <td>6</td>\n",
       "      <td>47</td>\n",
       "      <td>...</td>\n",
       "      <td>0.193454</td>\n",
       "      <td>9.653684</td>\n",
       "      <td>15</td>\n",
       "      <td>15</td>\n",
       "      <td>0.047375</td>\n",
       "      <td>2</td>\n",
       "      <td>0.049500</td>\n",
       "      <td>0.050000</td>\n",
       "      <td>0.242305</td>\n",
       "      <td>4.940165</td>\n",
       "    </tr>\n",
       "    <tr>\n",
       "      <th>2</th>\n",
       "      <td>v1+fc</td>\n",
       "      <td>generic-v1</td>\n",
       "      <td>True</td>\n",
       "      <td>False</td>\n",
       "      <td>True</td>\n",
       "      <td>True</td>\n",
       "      <td>True</td>\n",
       "      <td>bitcoin</td>\n",
       "      <td>6</td>\n",
       "      <td>549</td>\n",
       "      <td>...</td>\n",
       "      <td>2.922894</td>\n",
       "      <td>9.452998</td>\n",
       "      <td>5</td>\n",
       "      <td>5</td>\n",
       "      <td>0.001068</td>\n",
       "      <td>2</td>\n",
       "      <td>0.024750</td>\n",
       "      <td>0.050000</td>\n",
       "      <td>2.932980</td>\n",
       "      <td>4.940214</td>\n",
       "    </tr>\n",
       "    <tr>\n",
       "      <th>3</th>\n",
       "      <td>v1+fc</td>\n",
       "      <td>generic-v1</td>\n",
       "      <td>True</td>\n",
       "      <td>False</td>\n",
       "      <td>True</td>\n",
       "      <td>True</td>\n",
       "      <td>True</td>\n",
       "      <td>ethereum_3</td>\n",
       "      <td>6</td>\n",
       "      <td>1179</td>\n",
       "      <td>...</td>\n",
       "      <td>6.148843</td>\n",
       "      <td>9.683072</td>\n",
       "      <td>170</td>\n",
       "      <td>170</td>\n",
       "      <td>0.004253</td>\n",
       "      <td>2</td>\n",
       "      <td>0.024233</td>\n",
       "      <td>0.052591</td>\n",
       "      <td>6.172071</td>\n",
       "      <td>5.210661</td>\n",
       "    </tr>\n",
       "    <tr>\n",
       "      <th>4</th>\n",
       "      <td>v1+fc</td>\n",
       "      <td>generic-v1</td>\n",
       "      <td>True</td>\n",
       "      <td>False</td>\n",
       "      <td>True</td>\n",
       "      <td>True</td>\n",
       "      <td>True</td>\n",
       "      <td>byzantium_3</td>\n",
       "      <td>6</td>\n",
       "      <td>1109</td>\n",
       "      <td>...</td>\n",
       "      <td>5.232705</td>\n",
       "      <td>9.847424</td>\n",
       "      <td>5</td>\n",
       "      <td>5</td>\n",
       "      <td>0.001035</td>\n",
       "      <td>2</td>\n",
       "      <td>0.024750</td>\n",
       "      <td>0.050000</td>\n",
       "      <td>5.252043</td>\n",
       "      <td>4.940214</td>\n",
       "    </tr>\n",
       "    <tr>\n",
       "      <th>...</th>\n",
       "      <td>...</td>\n",
       "      <td>...</td>\n",
       "      <td>...</td>\n",
       "      <td>...</td>\n",
       "      <td>...</td>\n",
       "      <td>...</td>\n",
       "      <td>...</td>\n",
       "      <td>...</td>\n",
       "      <td>...</td>\n",
       "      <td>...</td>\n",
       "      <td>...</td>\n",
       "      <td>...</td>\n",
       "      <td>...</td>\n",
       "      <td>...</td>\n",
       "      <td>...</td>\n",
       "      <td>...</td>\n",
       "      <td>...</td>\n",
       "      <td>...</td>\n",
       "      <td>...</td>\n",
       "      <td>...</td>\n",
       "      <td>...</td>\n",
       "    </tr>\n",
       "    <tr>\n",
       "      <th>475</th>\n",
       "      <td>v1+n</td>\n",
       "      <td>generic-v1</td>\n",
       "      <td>False</td>\n",
       "      <td>True</td>\n",
       "      <td>True</td>\n",
       "      <td>True</td>\n",
       "      <td>True</td>\n",
       "      <td>ethereum_3</td>\n",
       "      <td>6</td>\n",
       "      <td>10293</td>\n",
       "      <td>...</td>\n",
       "      <td>152.900283</td>\n",
       "      <td>87.836049</td>\n",
       "      <td>186</td>\n",
       "      <td>186</td>\n",
       "      <td>0.004036</td>\n",
       "      <td>2</td>\n",
       "      <td>0.194125</td>\n",
       "      <td>0.861063</td>\n",
       "      <td>153.069348</td>\n",
       "      <td>84.820546</td>\n",
       "    </tr>\n",
       "    <tr>\n",
       "      <th>476</th>\n",
       "      <td>v1+n</td>\n",
       "      <td>generic-v1</td>\n",
       "      <td>False</td>\n",
       "      <td>True</td>\n",
       "      <td>True</td>\n",
       "      <td>True</td>\n",
       "      <td>True</td>\n",
       "      <td>ghostdag_3</td>\n",
       "      <td>6</td>\n",
       "      <td>12644</td>\n",
       "      <td>...</td>\n",
       "      <td>107.068477</td>\n",
       "      <td>56.874280</td>\n",
       "      <td>128</td>\n",
       "      <td>128</td>\n",
       "      <td>0.002502</td>\n",
       "      <td>2</td>\n",
       "      <td>0.190198</td>\n",
       "      <td>0.560976</td>\n",
       "      <td>107.292039</td>\n",
       "      <td>54.565483</td>\n",
       "    </tr>\n",
       "    <tr>\n",
       "      <th>477</th>\n",
       "      <td>v0</td>\n",
       "      <td>generic-v0</td>\n",
       "      <td>False</td>\n",
       "      <td>False</td>\n",
       "      <td>True</td>\n",
       "      <td>True</td>\n",
       "      <td>True</td>\n",
       "      <td>bitcoin</td>\n",
       "      <td>6</td>\n",
       "      <td>42041</td>\n",
       "      <td>...</td>\n",
       "      <td>1169.216771</td>\n",
       "      <td>67.247173</td>\n",
       "      <td>127</td>\n",
       "      <td>127</td>\n",
       "      <td>0.002609</td>\n",
       "      <td>2</td>\n",
       "      <td>0.182107</td>\n",
       "      <td>0.657496</td>\n",
       "      <td>1171.149323</td>\n",
       "      <td>65.400032</td>\n",
       "    </tr>\n",
       "    <tr>\n",
       "      <th>478</th>\n",
       "      <td>v0</td>\n",
       "      <td>generic-v0</td>\n",
       "      <td>False</td>\n",
       "      <td>False</td>\n",
       "      <td>True</td>\n",
       "      <td>True</td>\n",
       "      <td>True</td>\n",
       "      <td>bitcoin</td>\n",
       "      <td>6</td>\n",
       "      <td>42041</td>\n",
       "      <td>...</td>\n",
       "      <td>1032.341103</td>\n",
       "      <td>68.968838</td>\n",
       "      <td>145</td>\n",
       "      <td>145</td>\n",
       "      <td>0.002393</td>\n",
       "      <td>2</td>\n",
       "      <td>0.181175</td>\n",
       "      <td>0.679094</td>\n",
       "      <td>1034.699929</td>\n",
       "      <td>67.415818</td>\n",
       "    </tr>\n",
       "    <tr>\n",
       "      <th>479</th>\n",
       "      <td>v0</td>\n",
       "      <td>generic-v0</td>\n",
       "      <td>False</td>\n",
       "      <td>False</td>\n",
       "      <td>True</td>\n",
       "      <td>True</td>\n",
       "      <td>True</td>\n",
       "      <td>bitcoin</td>\n",
       "      <td>6</td>\n",
       "      <td>42041</td>\n",
       "      <td>...</td>\n",
       "      <td>866.691329</td>\n",
       "      <td>76.617109</td>\n",
       "      <td>145</td>\n",
       "      <td>145</td>\n",
       "      <td>0.002377</td>\n",
       "      <td>2</td>\n",
       "      <td>0.199260</td>\n",
       "      <td>0.757443</td>\n",
       "      <td>868.546230</td>\n",
       "      <td>75.229200</td>\n",
       "    </tr>\n",
       "  </tbody>\n",
       "</table>\n",
       "<p>480 rows × 32 columns</p>\n",
       "</div>"
      ],
      "text/plain": [
       "       problem            model  force_consider_own  merge_isomorphic  \\\n",
       "0    ref-aft20      aft20barzur                True              True   \n",
       "1     ref-fc16  fc16sapirshtein                True              True   \n",
       "2        v1+fc       generic-v1                True             False   \n",
       "3        v1+fc       generic-v1                True             False   \n",
       "4        v1+fc       generic-v1                True             False   \n",
       "..         ...              ...                 ...               ...   \n",
       "475       v1+n       generic-v1               False              True   \n",
       "476       v1+n       generic-v1               False              True   \n",
       "477         v0       generic-v0               False             False   \n",
       "478         v0       generic-v0               False             False   \n",
       "479         v0       generic-v0               False             False   \n",
       "\n",
       "     truncate_common_chain  collect_garbage  reward_common_chain     protocol  \\\n",
       "0                     True             True                 True      bitcoin   \n",
       "1                     True             True                 True      bitcoin   \n",
       "2                     True             True                 True      bitcoin   \n",
       "3                     True             True                 True   ethereum_3   \n",
       "4                     True             True                 True  byzantium_3   \n",
       "..                     ...              ...                  ...          ...   \n",
       "475                   True             True                 True   ethereum_3   \n",
       "476                   True             True                 True   ghostdag_3   \n",
       "477                   True             True                 True      bitcoin   \n",
       "478                   True             True                 True      bitcoin   \n",
       "479                   True             True                 True      bitcoin   \n",
       "\n",
       "     dag_size_limit   size  ...      vi_time  vi_max_value ss_reachable  \\\n",
       "0                 6     37  ...     0.183302      9.625739           13   \n",
       "1                 6     47  ...     0.193454      9.653684           15   \n",
       "2                 6    549  ...     2.922894      9.452998            5   \n",
       "3                 6   1179  ...     6.148843      9.683072          170   \n",
       "4                 6   1109  ...     5.232705      9.847424            5   \n",
       "..              ...    ...  ...          ...           ...          ...   \n",
       "475               6  10293  ...   152.900283     87.836049          186   \n",
       "476               6  12644  ...   107.068477     56.874280          128   \n",
       "477               6  42041  ...  1169.216771     67.247173          127   \n",
       "478               6  42041  ...  1032.341103     68.968838          145   \n",
       "479               6  42041  ...   866.691329     76.617109          145   \n",
       "\n",
       "     ss_nonzero   ss_time  pe_iter     ptrev       rpp         time  \\\n",
       "0            13  0.055014        2  0.024750  0.050000     0.239126   \n",
       "1            15  0.047375        2  0.049500  0.050000     0.242305   \n",
       "2             5  0.001068        2  0.024750  0.050000     2.932980   \n",
       "3           170  0.004253        2  0.024233  0.052591     6.172071   \n",
       "4             5  0.001035        2  0.024750  0.050000     5.252043   \n",
       "..          ...       ...      ...       ...       ...          ...   \n",
       "475         186  0.004036        2  0.194125  0.861063   153.069348   \n",
       "476         128  0.002502        2  0.190198  0.560976   107.292039   \n",
       "477         127  0.002609        2  0.182107  0.657496  1171.149323   \n",
       "478         145  0.002393        2  0.181175  0.679094  1034.699929   \n",
       "479         145  0.002377        2  0.199260  0.757443   868.546230   \n",
       "\n",
       "    vi_steady_value  \n",
       "0          4.939711  \n",
       "1          4.940165  \n",
       "2          4.940214  \n",
       "3          5.210661  \n",
       "4          4.940214  \n",
       "..              ...  \n",
       "475       84.820546  \n",
       "476       54.565483  \n",
       "477       65.400032  \n",
       "478       67.415818  \n",
       "479       75.229200  \n",
       "\n",
       "[480 rows x 32 columns]"
      ]
     },
     "execution_count": 6,
     "metadata": {},
     "output_type": "execute_result"
    }
   ],
   "source": [
    "def optimize(network, idx, row):\n",
    "    with gzip.open(f\"5-generated-mdps/mdp-{row.mdp}.pkl.gz\", \"rb\") as f:\n",
    "        emdp = pickle.load(f)\n",
    "        emdp = map_params(emdp, **network)\n",
    "        oae = util.optimize_and_evaluate(emdp, eps=stop_delta, horizon=horizon)\n",
    "        return row.to_dict() | dict(horizon=horizon) | network | oae\n",
    "\n",
    "\n",
    "def generate_jobs():\n",
    "    for network in networks:\n",
    "        for idx, row in mdps.iterrows():\n",
    "            # if row['size'] > 1000:\n",
    "            #    continue\n",
    "            yield joblib.delayed(optimize)(network, idx, row)\n",
    "\n",
    "\n",
    "jobs = list(generate_jobs())\n",
    "generate_solutions = joblib.Parallel(return_as=\"generator_unordered\", n_jobs=6)(jobs)\n",
    "with_progress = tqdm.tqdm(generate_solutions, total=len(jobs))\n",
    "df = pandas.DataFrame(with_progress)\n",
    "df.to_pickle(\"5-value-iterations.pkl.gz\")\n",
    "df"
   ]
  },
  {
   "cell_type": "markdown",
   "id": "1c97c594-e608-47aa-84bf-e2ce21f375bf",
   "metadata": {},
   "source": [
    "# Reward per progress, source model, steady state"
   ]
  },
  {
   "cell_type": "code",
   "execution_count": 7,
   "id": "9cab8316-952f-45b3-8004-a9326bca7cb5",
   "metadata": {
    "execution": {
     "iopub.execute_input": "2025-01-06T15:33:16.174912Z",
     "iopub.status.busy": "2025-01-06T15:33:16.174744Z",
     "iopub.status.idle": "2025-01-06T15:33:18.441366Z",
     "shell.execute_reply": "2025-01-06T15:33:18.440858Z"
    }
   },
   "outputs": [
    {
     "data": {
      "text/plain": [
       "<seaborn.axisgrid.FacetGrid at 0x7f476c9c4be0>"
      ]
     },
     "execution_count": 7,
     "metadata": {},
     "output_type": "execute_result"
    },
    {
     "data": {
      "image/png": "[encoded data removed]",
      "text/plain": [
       "<Figure size 2611.75x1000 with 10 Axes>"
      ]
     },
     "metadata": {},
     "output_type": "display_data"
    }
   ],
   "source": [
    "seaborn.relplot(\n",
    "    data=df,\n",
    "    kind=\"line\",\n",
    "    x=\"alpha\",\n",
    "    y=\"rpp\",\n",
    "    col=\"protocol\",\n",
    "    hue=\"problem\",\n",
    "    style=\"problem\",\n",
    "    markers=True,\n",
    "    row=\"gamma\",\n",
    ")"
   ]
  },
  {
   "cell_type": "markdown",
   "id": "e0bb63fc-215b-43f1-a33d-7260f435ed37",
   "metadata": {},
   "source": [
    "# Revenue, PTO model, at source-model steady state"
   ]
  },
  {
   "cell_type": "code",
   "execution_count": 8,
   "id": "aa76d769-756e-4718-a27c-a0359ad096b0",
   "metadata": {
    "execution": {
     "iopub.execute_input": "2025-01-06T15:33:18.443510Z",
     "iopub.status.busy": "2025-01-06T15:33:18.443371Z",
     "iopub.status.idle": "2025-01-06T15:33:20.371994Z",
     "shell.execute_reply": "2025-01-06T15:33:20.371529Z"
    }
   },
   "outputs": [
    {
     "data": {
      "text/plain": [
       "<seaborn.axisgrid.FacetGrid at 0x7f47655cee50>"
      ]
     },
     "execution_count": 8,
     "metadata": {},
     "output_type": "execute_result"
    },
    {
     "data": {
      "image/png": "[encoded data removed]",
      "text/plain": [
       "<Figure size 2611.75x1000 with 10 Axes>"
      ]
     },
     "metadata": {},
     "output_type": "display_data"
    }
   ],
   "source": [
    "seaborn.relplot(\n",
    "    data=df,\n",
    "    kind=\"line\",\n",
    "    x=\"alpha\",\n",
    "    y=\"ptrev\",\n",
    "    col=\"protocol\",\n",
    "    hue=\"problem\",\n",
    "    style=\"problem\",\n",
    "    markers=True,\n",
    "    row=\"gamma\",\n",
    ")"
   ]
  }
 ],
 "metadata": {
  "kernelspec": {
   "display_name": "Python 3 (ipykernel)",
   "language": "python",
   "name": "python3"
  },
  "language_info": {
   "codemirror_mode": {
    "name": "ipython",
    "version": 3
   },
   "file_extension": ".py",
   "mimetype": "text/x-python",
   "name": "python",
   "nbconvert_exporter": "python",
   "pygments_lexer": "ipython3",
   "version": "3.9.21"
  }
 },
 "nbformat": 4,
 "nbformat_minor": 5
}
