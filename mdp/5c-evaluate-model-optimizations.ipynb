{
 "cells": [
  {
   "cell_type": "code",
   "execution_count": 1,
   "id": "8bb483ac-b3f9-4c64-ab0d-a0d709a4169d",
   "metadata": {
    "execution": {
     "iopub.execute_input": "2025-06-21T10:26:25.990896Z",
     "iopub.status.busy": "2025-06-21T10:26:25.990692Z",
     "iopub.status.idle": "2025-06-21T10:26:26.802874Z",
     "shell.execute_reply": "2025-06-21T10:26:26.802371Z"
    }
   },
   "outputs": [],
   "source": [
    "import joblib\n",
    "import gzip\n",
    "import pandas\n",
    "import pickle\n",
    "import seaborn\n",
    "import tqdm\n",
    "\n",
    "from lib.models.generic_v0.model import map_params"
   ]
  },
  {
   "cell_type": "code",
   "execution_count": 2,
   "id": "1870d3e0-3b89-4477-8137-badab66fc486",
   "metadata": {
    "execution": {
     "iopub.execute_input": "2025-06-21T10:26:26.805863Z",
     "iopub.status.busy": "2025-06-21T10:26:26.805643Z",
     "iopub.status.idle": "2025-06-21T10:26:26.809285Z",
     "shell.execute_reply": "2025-06-21T10:26:26.808952Z"
    }
   },
   "outputs": [],
   "source": [
    "import sys\n",
    "\n",
    "util_dir = \"./sprint-0-explicit-mdps/\"\n",
    "sys.path.append(util_dir)\n",
    "\n",
    "import util"
   ]
  },
  {
   "cell_type": "code",
   "execution_count": 3,
   "id": "bad9454d-f546-4c66-a6d4-f23ca3351b58",
   "metadata": {
    "execution": {
     "iopub.execute_input": "2025-06-21T10:26:26.811049Z",
     "iopub.status.busy": "2025-06-21T10:26:26.810893Z",
     "iopub.status.idle": "2025-06-21T10:26:26.824379Z",
     "shell.execute_reply": "2025-06-21T10:26:26.824033Z"
    }
   },
   "outputs": [
    {
     "data": {
      "text/html": [
       "<div>\n",
       "<style scoped>\n",
       "    .dataframe tbody tr th:only-of-type {\n",
       "        vertical-align: middle;\n",
       "    }\n",
       "\n",
       "    .dataframe tbody tr th {\n",
       "        vertical-align: top;\n",
       "    }\n",
       "\n",
       "    .dataframe thead th {\n",
       "        text-align: right;\n",
       "    }\n",
       "</style>\n",
       "<table border=\"1\" class=\"dataframe\">\n",
       "  <thead>\n",
       "    <tr style=\"text-align: right;\">\n",
       "      <th></th>\n",
       "      <th>problem</th>\n",
       "      <th>model</th>\n",
       "      <th>force_consider_own</th>\n",
       "      <th>merge_isomorphic</th>\n",
       "      <th>truncate_common_chain</th>\n",
       "      <th>collect_garbage</th>\n",
       "      <th>reward_common_chain</th>\n",
       "      <th>protocol</th>\n",
       "      <th>dag_size_limit</th>\n",
       "      <th>size</th>\n",
       "      <th>time_spent</th>\n",
       "      <th>rss</th>\n",
       "      <th>mdp</th>\n",
       "    </tr>\n",
       "  </thead>\n",
       "  <tbody>\n",
       "    <tr>\n",
       "      <th>0</th>\n",
       "      <td>v1</td>\n",
       "      <td>generic-v1</td>\n",
       "      <td>False</td>\n",
       "      <td>False</td>\n",
       "      <td>True</td>\n",
       "      <td>True</td>\n",
       "      <td>True</td>\n",
       "      <td>bitcoin</td>\n",
       "      <td>6</td>\n",
       "      <td>21327</td>\n",
       "      <td>12.222814</td>\n",
       "      <td>1.030365</td>\n",
       "      <td>1627bcdb</td>\n",
       "    </tr>\n",
       "    <tr>\n",
       "      <th>1</th>\n",
       "      <td>v1</td>\n",
       "      <td>generic-v1</td>\n",
       "      <td>False</td>\n",
       "      <td>False</td>\n",
       "      <td>True</td>\n",
       "      <td>True</td>\n",
       "      <td>True</td>\n",
       "      <td>ethereum_3</td>\n",
       "      <td>6</td>\n",
       "      <td>32961</td>\n",
       "      <td>24.590825</td>\n",
       "      <td>1.062309</td>\n",
       "      <td>5756a79e</td>\n",
       "    </tr>\n",
       "    <tr>\n",
       "      <th>2</th>\n",
       "      <td>v1</td>\n",
       "      <td>generic-v1</td>\n",
       "      <td>False</td>\n",
       "      <td>False</td>\n",
       "      <td>True</td>\n",
       "      <td>True</td>\n",
       "      <td>True</td>\n",
       "      <td>byzantium_3</td>\n",
       "      <td>6</td>\n",
       "      <td>33016</td>\n",
       "      <td>25.771648</td>\n",
       "      <td>1.063354</td>\n",
       "      <td>64fe1172</td>\n",
       "    </tr>\n",
       "    <tr>\n",
       "      <th>3</th>\n",
       "      <td>v1</td>\n",
       "      <td>generic-v1</td>\n",
       "      <td>False</td>\n",
       "      <td>False</td>\n",
       "      <td>True</td>\n",
       "      <td>True</td>\n",
       "      <td>True</td>\n",
       "      <td>ghostdag_3</td>\n",
       "      <td>6</td>\n",
       "      <td>46966</td>\n",
       "      <td>38.322568</td>\n",
       "      <td>1.018120</td>\n",
       "      <td>2ef7d193</td>\n",
       "    </tr>\n",
       "    <tr>\n",
       "      <th>4</th>\n",
       "      <td>v1</td>\n",
       "      <td>generic-v1</td>\n",
       "      <td>False</td>\n",
       "      <td>False</td>\n",
       "      <td>True</td>\n",
       "      <td>True</td>\n",
       "      <td>True</td>\n",
       "      <td>parallel_3</td>\n",
       "      <td>6</td>\n",
       "      <td>9122</td>\n",
       "      <td>4.753626</td>\n",
       "      <td>0.995956</td>\n",
       "      <td>30890085</td>\n",
       "    </tr>\n",
       "    <tr>\n",
       "      <th>5</th>\n",
       "      <td>v1+n</td>\n",
       "      <td>generic-v1</td>\n",
       "      <td>False</td>\n",
       "      <td>True</td>\n",
       "      <td>True</td>\n",
       "      <td>True</td>\n",
       "      <td>True</td>\n",
       "      <td>bitcoin</td>\n",
       "      <td>6</td>\n",
       "      <td>5724</td>\n",
       "      <td>4.801054</td>\n",
       "      <td>1.013176</td>\n",
       "      <td>65c7c142</td>\n",
       "    </tr>\n",
       "    <tr>\n",
       "      <th>6</th>\n",
       "      <td>v1+n</td>\n",
       "      <td>generic-v1</td>\n",
       "      <td>False</td>\n",
       "      <td>True</td>\n",
       "      <td>True</td>\n",
       "      <td>True</td>\n",
       "      <td>True</td>\n",
       "      <td>ethereum_3</td>\n",
       "      <td>6</td>\n",
       "      <td>10293</td>\n",
       "      <td>8.174692</td>\n",
       "      <td>1.015556</td>\n",
       "      <td>2f839728</td>\n",
       "    </tr>\n",
       "    <tr>\n",
       "      <th>7</th>\n",
       "      <td>v1+n</td>\n",
       "      <td>generic-v1</td>\n",
       "      <td>False</td>\n",
       "      <td>True</td>\n",
       "      <td>True</td>\n",
       "      <td>True</td>\n",
       "      <td>True</td>\n",
       "      <td>byzantium_3</td>\n",
       "      <td>6</td>\n",
       "      <td>9879</td>\n",
       "      <td>8.310380</td>\n",
       "      <td>1.013790</td>\n",
       "      <td>5988be96</td>\n",
       "    </tr>\n",
       "    <tr>\n",
       "      <th>8</th>\n",
       "      <td>v1+n</td>\n",
       "      <td>generic-v1</td>\n",
       "      <td>False</td>\n",
       "      <td>True</td>\n",
       "      <td>True</td>\n",
       "      <td>True</td>\n",
       "      <td>True</td>\n",
       "      <td>ghostdag_3</td>\n",
       "      <td>6</td>\n",
       "      <td>12644</td>\n",
       "      <td>11.287202</td>\n",
       "      <td>0.991020</td>\n",
       "      <td>54fff1d1</td>\n",
       "    </tr>\n",
       "    <tr>\n",
       "      <th>9</th>\n",
       "      <td>v0</td>\n",
       "      <td>generic-v0</td>\n",
       "      <td>False</td>\n",
       "      <td>False</td>\n",
       "      <td>True</td>\n",
       "      <td>True</td>\n",
       "      <td>True</td>\n",
       "      <td>bitcoin</td>\n",
       "      <td>6</td>\n",
       "      <td>42041</td>\n",
       "      <td>28.400720</td>\n",
       "      <td>0.626945</td>\n",
       "      <td>395244b0</td>\n",
       "    </tr>\n",
       "    <tr>\n",
       "      <th>10</th>\n",
       "      <td>ref-fc16</td>\n",
       "      <td>fc16sapirshtein</td>\n",
       "      <td>True</td>\n",
       "      <td>True</td>\n",
       "      <td>True</td>\n",
       "      <td>True</td>\n",
       "      <td>True</td>\n",
       "      <td>bitcoin</td>\n",
       "      <td>6</td>\n",
       "      <td>47</td>\n",
       "      <td>0.001622</td>\n",
       "      <td>0.627365</td>\n",
       "      <td>22e861c5</td>\n",
       "    </tr>\n",
       "    <tr>\n",
       "      <th>11</th>\n",
       "      <td>ref-aft20</td>\n",
       "      <td>aft20barzur</td>\n",
       "      <td>True</td>\n",
       "      <td>True</td>\n",
       "      <td>True</td>\n",
       "      <td>True</td>\n",
       "      <td>True</td>\n",
       "      <td>bitcoin</td>\n",
       "      <td>6</td>\n",
       "      <td>37</td>\n",
       "      <td>0.000896</td>\n",
       "      <td>0.627365</td>\n",
       "      <td>313366ab</td>\n",
       "    </tr>\n",
       "    <tr>\n",
       "      <th>12</th>\n",
       "      <td>v1+fc</td>\n",
       "      <td>generic-v1</td>\n",
       "      <td>True</td>\n",
       "      <td>False</td>\n",
       "      <td>True</td>\n",
       "      <td>True</td>\n",
       "      <td>True</td>\n",
       "      <td>bitcoin</td>\n",
       "      <td>6</td>\n",
       "      <td>549</td>\n",
       "      <td>0.247803</td>\n",
       "      <td>0.627365</td>\n",
       "      <td>5f3f6672</td>\n",
       "    </tr>\n",
       "    <tr>\n",
       "      <th>13</th>\n",
       "      <td>v1+fc</td>\n",
       "      <td>generic-v1</td>\n",
       "      <td>True</td>\n",
       "      <td>False</td>\n",
       "      <td>True</td>\n",
       "      <td>True</td>\n",
       "      <td>True</td>\n",
       "      <td>ethereum_3</td>\n",
       "      <td>6</td>\n",
       "      <td>1179</td>\n",
       "      <td>0.748614</td>\n",
       "      <td>0.627365</td>\n",
       "      <td>1a12089f</td>\n",
       "    </tr>\n",
       "    <tr>\n",
       "      <th>14</th>\n",
       "      <td>v1+fc</td>\n",
       "      <td>generic-v1</td>\n",
       "      <td>True</td>\n",
       "      <td>False</td>\n",
       "      <td>True</td>\n",
       "      <td>True</td>\n",
       "      <td>True</td>\n",
       "      <td>byzantium_3</td>\n",
       "      <td>6</td>\n",
       "      <td>1109</td>\n",
       "      <td>0.672500</td>\n",
       "      <td>0.627365</td>\n",
       "      <td>6cb48494</td>\n",
       "    </tr>\n",
       "    <tr>\n",
       "      <th>15</th>\n",
       "      <td>v1+fc</td>\n",
       "      <td>generic-v1</td>\n",
       "      <td>True</td>\n",
       "      <td>False</td>\n",
       "      <td>True</td>\n",
       "      <td>True</td>\n",
       "      <td>True</td>\n",
       "      <td>ghostdag_3</td>\n",
       "      <td>6</td>\n",
       "      <td>1527</td>\n",
       "      <td>1.431853</td>\n",
       "      <td>0.627365</td>\n",
       "      <td>bca41d48</td>\n",
       "    </tr>\n",
       "    <tr>\n",
       "      <th>16</th>\n",
       "      <td>v1+fc</td>\n",
       "      <td>generic-v1</td>\n",
       "      <td>True</td>\n",
       "      <td>False</td>\n",
       "      <td>True</td>\n",
       "      <td>True</td>\n",
       "      <td>True</td>\n",
       "      <td>parallel_3</td>\n",
       "      <td>6</td>\n",
       "      <td>2050</td>\n",
       "      <td>1.024084</td>\n",
       "      <td>0.627365</td>\n",
       "      <td>5696c6e8</td>\n",
       "    </tr>\n",
       "    <tr>\n",
       "      <th>17</th>\n",
       "      <td>v1+n</td>\n",
       "      <td>generic-v1</td>\n",
       "      <td>False</td>\n",
       "      <td>True</td>\n",
       "      <td>True</td>\n",
       "      <td>True</td>\n",
       "      <td>True</td>\n",
       "      <td>parallel_3</td>\n",
       "      <td>6</td>\n",
       "      <td>1654</td>\n",
       "      <td>1.484021</td>\n",
       "      <td>0.627365</td>\n",
       "      <td>ba72244d</td>\n",
       "    </tr>\n",
       "    <tr>\n",
       "      <th>18</th>\n",
       "      <td>v1+fc+n</td>\n",
       "      <td>generic-v1</td>\n",
       "      <td>True</td>\n",
       "      <td>True</td>\n",
       "      <td>True</td>\n",
       "      <td>True</td>\n",
       "      <td>True</td>\n",
       "      <td>bitcoin</td>\n",
       "      <td>6</td>\n",
       "      <td>300</td>\n",
       "      <td>0.215545</td>\n",
       "      <td>0.627365</td>\n",
       "      <td>17f9e85a</td>\n",
       "    </tr>\n",
       "    <tr>\n",
       "      <th>19</th>\n",
       "      <td>v1+fc+n</td>\n",
       "      <td>generic-v1</td>\n",
       "      <td>True</td>\n",
       "      <td>True</td>\n",
       "      <td>True</td>\n",
       "      <td>True</td>\n",
       "      <td>True</td>\n",
       "      <td>ethereum_3</td>\n",
       "      <td>6</td>\n",
       "      <td>596</td>\n",
       "      <td>0.512849</td>\n",
       "      <td>0.627365</td>\n",
       "      <td>2ca23741</td>\n",
       "    </tr>\n",
       "    <tr>\n",
       "      <th>20</th>\n",
       "      <td>v1+fc+n</td>\n",
       "      <td>generic-v1</td>\n",
       "      <td>True</td>\n",
       "      <td>True</td>\n",
       "      <td>True</td>\n",
       "      <td>True</td>\n",
       "      <td>True</td>\n",
       "      <td>byzantium_3</td>\n",
       "      <td>6</td>\n",
       "      <td>572</td>\n",
       "      <td>0.467768</td>\n",
       "      <td>0.627365</td>\n",
       "      <td>7bb363f2</td>\n",
       "    </tr>\n",
       "    <tr>\n",
       "      <th>21</th>\n",
       "      <td>v1+fc+n</td>\n",
       "      <td>generic-v1</td>\n",
       "      <td>True</td>\n",
       "      <td>True</td>\n",
       "      <td>True</td>\n",
       "      <td>True</td>\n",
       "      <td>True</td>\n",
       "      <td>ghostdag_3</td>\n",
       "      <td>6</td>\n",
       "      <td>604</td>\n",
       "      <td>0.606745</td>\n",
       "      <td>0.627365</td>\n",
       "      <td>39581fd1</td>\n",
       "    </tr>\n",
       "    <tr>\n",
       "      <th>22</th>\n",
       "      <td>v1+fc+n</td>\n",
       "      <td>generic-v1</td>\n",
       "      <td>True</td>\n",
       "      <td>True</td>\n",
       "      <td>True</td>\n",
       "      <td>True</td>\n",
       "      <td>True</td>\n",
       "      <td>parallel_3</td>\n",
       "      <td>6</td>\n",
       "      <td>462</td>\n",
       "      <td>0.335776</td>\n",
       "      <td>0.630161</td>\n",
       "      <td>289c6598</td>\n",
       "    </tr>\n",
       "    <tr>\n",
       "      <th>23</th>\n",
       "      <td>v0+fc+n</td>\n",
       "      <td>generic-v0</td>\n",
       "      <td>True</td>\n",
       "      <td>True</td>\n",
       "      <td>True</td>\n",
       "      <td>True</td>\n",
       "      <td>True</td>\n",
       "      <td>bitcoin</td>\n",
       "      <td>6</td>\n",
       "      <td>501</td>\n",
       "      <td>0.293495</td>\n",
       "      <td>0.630970</td>\n",
       "      <td>684ca840</td>\n",
       "    </tr>\n",
       "  </tbody>\n",
       "</table>\n",
       "</div>"
      ],
      "text/plain": [
       "      problem            model  force_consider_own  merge_isomorphic  \\\n",
       "0          v1       generic-v1               False             False   \n",
       "1          v1       generic-v1               False             False   \n",
       "2          v1       generic-v1               False             False   \n",
       "3          v1       generic-v1               False             False   \n",
       "4          v1       generic-v1               False             False   \n",
       "5        v1+n       generic-v1               False              True   \n",
       "6        v1+n       generic-v1               False              True   \n",
       "7        v1+n       generic-v1               False              True   \n",
       "8        v1+n       generic-v1               False              True   \n",
       "9          v0       generic-v0               False             False   \n",
       "10   ref-fc16  fc16sapirshtein                True              True   \n",
       "11  ref-aft20      aft20barzur                True              True   \n",
       "12      v1+fc       generic-v1                True             False   \n",
       "13      v1+fc       generic-v1                True             False   \n",
       "14      v1+fc       generic-v1                True             False   \n",
       "15      v1+fc       generic-v1                True             False   \n",
       "16      v1+fc       generic-v1                True             False   \n",
       "17       v1+n       generic-v1               False              True   \n",
       "18    v1+fc+n       generic-v1                True              True   \n",
       "19    v1+fc+n       generic-v1                True              True   \n",
       "20    v1+fc+n       generic-v1                True              True   \n",
       "21    v1+fc+n       generic-v1                True              True   \n",
       "22    v1+fc+n       generic-v1                True              True   \n",
       "23    v0+fc+n       generic-v0                True              True   \n",
       "\n",
       "    truncate_common_chain  collect_garbage  reward_common_chain     protocol  \\\n",
       "0                    True             True                 True      bitcoin   \n",
       "1                    True             True                 True   ethereum_3   \n",
       "2                    True             True                 True  byzantium_3   \n",
       "3                    True             True                 True   ghostdag_3   \n",
       "4                    True             True                 True   parallel_3   \n",
       "5                    True             True                 True      bitcoin   \n",
       "6                    True             True                 True   ethereum_3   \n",
       "7                    True             True                 True  byzantium_3   \n",
       "8                    True             True                 True   ghostdag_3   \n",
       "9                    True             True                 True      bitcoin   \n",
       "10                   True             True                 True      bitcoin   \n",
       "11                   True             True                 True      bitcoin   \n",
       "12                   True             True                 True      bitcoin   \n",
       "13                   True             True                 True   ethereum_3   \n",
       "14                   True             True                 True  byzantium_3   \n",
       "15                   True             True                 True   ghostdag_3   \n",
       "16                   True             True                 True   parallel_3   \n",
       "17                   True             True                 True   parallel_3   \n",
       "18                   True             True                 True      bitcoin   \n",
       "19                   True             True                 True   ethereum_3   \n",
       "20                   True             True                 True  byzantium_3   \n",
       "21                   True             True                 True   ghostdag_3   \n",
       "22                   True             True                 True   parallel_3   \n",
       "23                   True             True                 True      bitcoin   \n",
       "\n",
       "    dag_size_limit   size  time_spent       rss       mdp  \n",
       "0                6  21327   12.222814  1.030365  1627bcdb  \n",
       "1                6  32961   24.590825  1.062309  5756a79e  \n",
       "2                6  33016   25.771648  1.063354  64fe1172  \n",
       "3                6  46966   38.322568  1.018120  2ef7d193  \n",
       "4                6   9122    4.753626  0.995956  30890085  \n",
       "5                6   5724    4.801054  1.013176  65c7c142  \n",
       "6                6  10293    8.174692  1.015556  2f839728  \n",
       "7                6   9879    8.310380  1.013790  5988be96  \n",
       "8                6  12644   11.287202  0.991020  54fff1d1  \n",
       "9                6  42041   28.400720  0.626945  395244b0  \n",
       "10               6     47    0.001622  0.627365  22e861c5  \n",
       "11               6     37    0.000896  0.627365  313366ab  \n",
       "12               6    549    0.247803  0.627365  5f3f6672  \n",
       "13               6   1179    0.748614  0.627365  1a12089f  \n",
       "14               6   1109    0.672500  0.627365  6cb48494  \n",
       "15               6   1527    1.431853  0.627365  bca41d48  \n",
       "16               6   2050    1.024084  0.627365  5696c6e8  \n",
       "17               6   1654    1.484021  0.627365  ba72244d  \n",
       "18               6    300    0.215545  0.627365  17f9e85a  \n",
       "19               6    596    0.512849  0.627365  2ca23741  \n",
       "20               6    572    0.467768  0.627365  7bb363f2  \n",
       "21               6    604    0.606745  0.627365  39581fd1  \n",
       "22               6    462    0.335776  0.630161  289c6598  \n",
       "23               6    501    0.293495  0.630970  684ca840  "
      ]
     },
     "execution_count": 3,
     "metadata": {},
     "output_type": "execute_result"
    }
   ],
   "source": [
    "mdps = pandas.read_pickle(\"5-generated-mdps/fixed.pkl.gz\")\n",
    "mdps"
   ]
  },
  {
   "cell_type": "code",
   "execution_count": 4,
   "id": "4e44c431-4dff-44ef-90d1-e958c0fcf00c",
   "metadata": {
    "execution": {
     "iopub.execute_input": "2025-06-21T10:26:26.826240Z",
     "iopub.status.busy": "2025-06-21T10:26:26.826106Z",
     "iopub.status.idle": "2025-06-21T10:26:26.828652Z",
     "shell.execute_reply": "2025-06-21T10:26:26.828321Z"
    }
   },
   "outputs": [],
   "source": [
    "networks = []\n",
    "# for alpha in range(35, 41, 5):\n",
    "for alpha in range(5, 51, 5):\n",
    "    for gamma in [0.33, 0.66]:\n",
    "        # for gamma in [0, 0.5, 1]:\n",
    "        networks.append(dict(alpha=alpha / 100, gamma=gamma))\n",
    "# pandas.DataFrame(networks)"
   ]
  },
  {
   "cell_type": "code",
   "execution_count": 5,
   "id": "4827932e-ffef-4664-919d-34f1e65af554",
   "metadata": {
    "execution": {
     "iopub.execute_input": "2025-06-21T10:26:26.830407Z",
     "iopub.status.busy": "2025-06-21T10:26:26.830276Z",
     "iopub.status.idle": "2025-06-21T10:26:26.832337Z",
     "shell.execute_reply": "2025-06-21T10:26:26.832002Z"
    }
   },
   "outputs": [],
   "source": [
    "horizon = 100\n",
    "stop_delta = (\n",
    "    0.0001  # value iteration stops when no value estimate changes more than this value\n",
    ")"
   ]
  },
  {
   "cell_type": "code",
   "execution_count": 6,
   "id": "d07ad519-dbb0-4c4e-99b1-c06a18d68f79",
   "metadata": {
    "execution": {
     "iopub.execute_input": "2025-06-21T10:26:26.834046Z",
     "iopub.status.busy": "2025-06-21T10:26:26.833906Z",
     "iopub.status.idle": "2025-06-21T12:49:39.638046Z",
     "shell.execute_reply": "2025-06-21T12:49:39.637547Z"
    }
   },
   "outputs": [
    {
     "name": "stderr",
     "output_type": "stream",
     "text": [
      "\r",
      "  0%|                                                                                                                                                                 | 0/480 [00:00<?, ?it/s]"
     ]
    },
    {
     "name": "stderr",
     "output_type": "stream",
     "text": [
      "\r",
      "  0%|▎                                                                                                                                                      | 1/480 [00:38<5:05:50, 38.31s/it]"
     ]
    },
    {
     "name": "stderr",
     "output_type": "stream",
     "text": [
      "\r",
      "  0%|▋                                                                                                                                                      | 2/480 [00:52<3:10:32, 23.92s/it]"
     ]
    },
    {
     "name": "stderr",
     "output_type": "stream",
     "text": [
      "\r",
      "  1%|▉                                                                                                                                                      | 3/480 [01:34<4:15:28, 32.14s/it]"
     ]
    },
    {
     "name": "stderr",
     "output_type": "stream",
     "text": [
      "\r",
      "  1%|█▎                                                                                                                                                     | 4/480 [01:42<3:00:16, 22.72s/it]"
     ]
    },
    {
     "name": "stderr",
     "output_type": "stream",
     "text": [
      "\r",
      "  1%|█▌                                                                                                                                                     | 5/480 [02:17<3:34:27, 27.09s/it]"
     ]
    },
    {
     "name": "stderr",
     "output_type": "stream",
     "text": [
      "\r",
      "  1%|█▉                                                                                                                                                     | 6/480 [02:17<2:21:56, 17.97s/it]"
     ]
    },
    {
     "name": "stderr",
     "output_type": "stream",
     "text": [
      "\r",
      "  1%|██▏                                                                                                                                                    | 7/480 [02:17<1:35:54, 12.17s/it]"
     ]
    },
    {
     "name": "stderr",
     "output_type": "stream",
     "text": [
      "\r",
      "  2%|██▌                                                                                                                                                    | 8/480 [02:20<1:12:30,  9.22s/it]"
     ]
    },
    {
     "name": "stderr",
     "output_type": "stream",
     "text": [
      "\r",
      "  2%|██▊                                                                                                                                                    | 9/480 [02:26<1:03:55,  8.14s/it]"
     ]
    },
    {
     "name": "stderr",
     "output_type": "stream",
     "text": [
      "\r",
      "  2%|███▏                                                                                                                                                    | 10/480 [02:31<56:30,  7.21s/it]"
     ]
    },
    {
     "name": "stderr",
     "output_type": "stream",
     "text": [
      "\r",
      "  2%|███▍                                                                                                                                                    | 11/480 [02:31<39:59,  5.12s/it]"
     ]
    },
    {
     "name": "stderr",
     "output_type": "stream",
     "text": [
      "\r",
      "  2%|███▊                                                                                                                                                    | 12/480 [02:39<46:50,  6.01s/it]"
     ]
    },
    {
     "name": "stderr",
     "output_type": "stream",
     "text": [
      "\r",
      "  3%|████                                                                                                                                                    | 13/480 [02:44<42:34,  5.47s/it]"
     ]
    },
    {
     "name": "stderr",
     "output_type": "stream",
     "text": [
      "\r",
      "  3%|████▍                                                                                                                                                   | 14/480 [02:45<33:43,  4.34s/it]"
     ]
    },
    {
     "name": "stderr",
     "output_type": "stream",
     "text": [
      "\r",
      "  3%|████▊                                                                                                                                                   | 15/480 [02:48<29:35,  3.82s/it]"
     ]
    },
    {
     "name": "stderr",
     "output_type": "stream",
     "text": [
      "\r",
      "  3%|█████                                                                                                                                                   | 16/480 [02:48<21:43,  2.81s/it]"
     ]
    },
    {
     "name": "stderr",
     "output_type": "stream",
     "text": [
      "\r",
      "  4%|█████▍                                                                                                                                                  | 17/480 [02:51<20:43,  2.69s/it]"
     ]
    },
    {
     "name": "stderr",
     "output_type": "stream",
     "text": [
      "\r",
      "  4%|█████▋                                                                                                                                                  | 18/480 [02:51<15:35,  2.02s/it]"
     ]
    },
    {
     "name": "stderr",
     "output_type": "stream",
     "text": [
      "\r",
      "  4%|██████                                                                                                                                                  | 19/480 [02:54<16:45,  2.18s/it]"
     ]
    },
    {
     "name": "stderr",
     "output_type": "stream",
     "text": [
      "\r",
      "  4%|██████▎                                                                                                                                                 | 20/480 [02:55<15:04,  1.97s/it]"
     ]
    },
    {
     "name": "stderr",
     "output_type": "stream",
     "text": [
      "\r",
      "  4%|██████▋                                                                                                                                                 | 21/480 [02:56<12:28,  1.63s/it]"
     ]
    },
    {
     "name": "stderr",
     "output_type": "stream",
     "text": [
      "\r",
      "  5%|██████▉                                                                                                                                                 | 22/480 [03:04<27:33,  3.61s/it]"
     ]
    },
    {
     "name": "stderr",
     "output_type": "stream",
     "text": [
      "\r",
      "  5%|███████▏                                                                                                                                              | 23/480 [03:28<1:13:05,  9.60s/it]"
     ]
    },
    {
     "name": "stderr",
     "output_type": "stream",
     "text": [
      "\r",
      "  5%|███████▌                                                                                                                                              | 24/480 [04:17<2:43:42, 21.54s/it]"
     ]
    },
    {
     "name": "stderr",
     "output_type": "stream",
     "text": [
      "\r",
      "  5%|███████▊                                                                                                                                              | 25/480 [04:53<3:14:34, 25.66s/it]"
     ]
    },
    {
     "name": "stderr",
     "output_type": "stream",
     "text": [
      "\r",
      "  5%|████████▏                                                                                                                                             | 26/480 [05:09<2:53:04, 22.87s/it]"
     ]
    },
    {
     "name": "stderr",
     "output_type": "stream",
     "text": [
      "\r",
      "  6%|████████▍                                                                                                                                             | 27/480 [05:47<3:26:20, 27.33s/it]"
     ]
    },
    {
     "name": "stderr",
     "output_type": "stream",
     "text": [
      "\r",
      "  6%|████████▊                                                                                                                                             | 28/480 [05:51<2:32:58, 20.31s/it]"
     ]
    },
    {
     "name": "stderr",
     "output_type": "stream",
     "text": [
      "\r",
      "  6%|█████████                                                                                                                                             | 29/480 [05:58<2:03:34, 16.44s/it]"
     ]
    },
    {
     "name": "stderr",
     "output_type": "stream",
     "text": [
      "\r",
      "  6%|█████████▍                                                                                                                                            | 30/480 [05:58<1:26:52, 11.58s/it]"
     ]
    },
    {
     "name": "stderr",
     "output_type": "stream",
     "text": [
      "\r",
      "  6%|█████████▋                                                                                                                                            | 31/480 [05:59<1:01:43,  8.25s/it]"
     ]
    },
    {
     "name": "stderr",
     "output_type": "stream",
     "text": [
      "\r",
      "  7%|██████████▏                                                                                                                                             | 32/480 [06:00<46:48,  6.27s/it]"
     ]
    },
    {
     "name": "stderr",
     "output_type": "stream",
     "text": [
      "\r",
      "  7%|██████████▍                                                                                                                                             | 33/480 [06:02<37:15,  5.00s/it]"
     ]
    },
    {
     "name": "stderr",
     "output_type": "stream",
     "text": [
      "\r",
      "  7%|██████████▊                                                                                                                                             | 34/480 [06:06<34:51,  4.69s/it]"
     ]
    },
    {
     "name": "stderr",
     "output_type": "stream",
     "text": [
      "\r",
      "  7%|███████████                                                                                                                                             | 35/480 [06:08<27:13,  3.67s/it]"
     ]
    },
    {
     "name": "stderr",
     "output_type": "stream",
     "text": [
      "\r",
      "  8%|███████████▍                                                                                                                                            | 36/480 [06:13<31:18,  4.23s/it]"
     ]
    },
    {
     "name": "stderr",
     "output_type": "stream",
     "text": [
      "\r",
      "  8%|███████████▋                                                                                                                                            | 37/480 [06:19<35:28,  4.80s/it]"
     ]
    },
    {
     "name": "stderr",
     "output_type": "stream",
     "text": [
      "\r",
      "  8%|████████████                                                                                                                                            | 38/480 [06:21<28:40,  3.89s/it]"
     ]
    },
    {
     "name": "stderr",
     "output_type": "stream",
     "text": [
      "\r",
      "  8%|████████████▎                                                                                                                                           | 39/480 [06:23<23:42,  3.22s/it]"
     ]
    },
    {
     "name": "stderr",
     "output_type": "stream",
     "text": [
      "\r",
      "  8%|████████████▋                                                                                                                                           | 40/480 [06:24<20:01,  2.73s/it]"
     ]
    },
    {
     "name": "stderr",
     "output_type": "stream",
     "text": [
      "\r",
      "  9%|████████████▉                                                                                                                                           | 41/480 [06:26<17:26,  2.38s/it]"
     ]
    },
    {
     "name": "stderr",
     "output_type": "stream",
     "text": [
      "\r",
      "  9%|█████████████▎                                                                                                                                          | 42/480 [06:28<15:48,  2.16s/it]"
     ]
    },
    {
     "name": "stderr",
     "output_type": "stream",
     "text": [
      "\r",
      "  9%|█████████████▌                                                                                                                                          | 43/480 [06:29<14:05,  1.94s/it]"
     ]
    },
    {
     "name": "stderr",
     "output_type": "stream",
     "text": [
      "\r",
      "  9%|█████████████▉                                                                                                                                          | 44/480 [06:31<15:06,  2.08s/it]"
     ]
    },
    {
     "name": "stderr",
     "output_type": "stream",
     "text": [
      "\r",
      "  9%|██████████████▎                                                                                                                                         | 45/480 [06:32<11:16,  1.56s/it]"
     ]
    },
    {
     "name": "stderr",
     "output_type": "stream",
     "text": [
      "\r",
      " 10%|██████████████▌                                                                                                                                         | 46/480 [06:45<35:42,  4.94s/it]"
     ]
    },
    {
     "name": "stderr",
     "output_type": "stream",
     "text": [
      "\r",
      " 10%|██████████████▋                                                                                                                                       | 47/480 [09:02<5:21:57, 44.61s/it]"
     ]
    },
    {
     "name": "stderr",
     "output_type": "stream",
     "text": [
      "\r",
      " 10%|███████████████                                                                                                                                       | 48/480 [09:42<5:10:52, 43.18s/it]"
     ]
    },
    {
     "name": "stderr",
     "output_type": "stream",
     "text": [
      "\r",
      " 10%|███████████████▎                                                                                                                                      | 49/480 [09:52<3:58:22, 33.18s/it]"
     ]
    },
    {
     "name": "stderr",
     "output_type": "stream",
     "text": [
      "\r",
      " 10%|███████████████▋                                                                                                                                      | 50/480 [10:00<3:04:56, 25.80s/it]"
     ]
    },
    {
     "name": "stderr",
     "output_type": "stream",
     "text": [
      "\r",
      " 11%|███████████████▉                                                                                                                                      | 51/480 [10:09<2:27:11, 20.59s/it]"
     ]
    },
    {
     "name": "stderr",
     "output_type": "stream",
     "text": [
      "\r",
      " 11%|████████████████▎                                                                                                                                     | 52/480 [10:23<2:13:46, 18.75s/it]"
     ]
    },
    {
     "name": "stderr",
     "output_type": "stream",
     "text": [
      "\r",
      " 11%|████████████████▌                                                                                                                                     | 53/480 [10:40<2:09:33, 18.21s/it]"
     ]
    },
    {
     "name": "stderr",
     "output_type": "stream",
     "text": [
      "\r",
      " 11%|████████████████▉                                                                                                                                     | 54/480 [10:40<1:31:03, 12.83s/it]"
     ]
    },
    {
     "name": "stderr",
     "output_type": "stream",
     "text": [
      "\r",
      " 11%|█████████████████▏                                                                                                                                    | 55/480 [10:40<1:04:09,  9.06s/it]"
     ]
    },
    {
     "name": "stderr",
     "output_type": "stream",
     "text": [
      "\r",
      " 12%|█████████████████▋                                                                                                                                      | 56/480 [10:44<51:35,  7.30s/it]"
     ]
    },
    {
     "name": "stderr",
     "output_type": "stream",
     "text": [
      "\r",
      " 12%|██████████████████                                                                                                                                      | 57/480 [10:50<50:09,  7.11s/it]"
     ]
    },
    {
     "name": "stderr",
     "output_type": "stream",
     "text": [
      "\r",
      " 12%|██████████████████▎                                                                                                                                     | 58/480 [10:56<47:06,  6.70s/it]"
     ]
    },
    {
     "name": "stderr",
     "output_type": "stream",
     "text": [
      "\r",
      " 12%|██████████████████▋                                                                                                                                     | 59/480 [10:58<36:30,  5.20s/it]"
     ]
    },
    {
     "name": "stderr",
     "output_type": "stream",
     "text": [
      "\r",
      " 12%|███████████████████                                                                                                                                     | 60/480 [10:58<25:45,  3.68s/it]"
     ]
    },
    {
     "name": "stderr",
     "output_type": "stream",
     "text": [
      "\r",
      " 13%|███████████████████▎                                                                                                                                    | 61/480 [11:05<32:32,  4.66s/it]"
     ]
    },
    {
     "name": "stderr",
     "output_type": "stream",
     "text": [
      "\r",
      " 13%|███████████████████▋                                                                                                                                    | 62/480 [11:07<26:42,  3.83s/it]"
     ]
    },
    {
     "name": "stderr",
     "output_type": "stream",
     "text": [
      "\r",
      " 13%|███████████████████▉                                                                                                                                    | 63/480 [11:09<22:27,  3.23s/it]"
     ]
    },
    {
     "name": "stderr",
     "output_type": "stream",
     "text": [
      "\r",
      " 13%|████████████████████▎                                                                                                                                   | 64/480 [11:10<19:14,  2.78s/it]"
     ]
    },
    {
     "name": "stderr",
     "output_type": "stream",
     "text": [
      "\r",
      " 14%|████████████████████▌                                                                                                                                   | 65/480 [11:11<15:49,  2.29s/it]"
     ]
    },
    {
     "name": "stderr",
     "output_type": "stream",
     "text": [
      "\r",
      " 14%|████████████████████▉                                                                                                                                   | 66/480 [11:12<11:39,  1.69s/it]"
     ]
    },
    {
     "name": "stderr",
     "output_type": "stream",
     "text": [
      "\r",
      " 14%|█████████████████████▏                                                                                                                                  | 67/480 [11:13<11:43,  1.70s/it]"
     ]
    },
    {
     "name": "stderr",
     "output_type": "stream",
     "text": [
      "\r",
      " 14%|█████████████████████▌                                                                                                                                  | 68/480 [11:15<10:39,  1.55s/it]"
     ]
    },
    {
     "name": "stderr",
     "output_type": "stream",
     "text": [
      "\r",
      " 14%|█████████████████████▊                                                                                                                                  | 69/480 [11:15<08:31,  1.24s/it]"
     ]
    },
    {
     "name": "stderr",
     "output_type": "stream",
     "text": [
      "\r",
      " 15%|██████████████████████▏                                                                                                                                 | 70/480 [11:16<07:30,  1.10s/it]"
     ]
    },
    {
     "name": "stderr",
     "output_type": "stream",
     "text": [
      "\r",
      " 15%|██████████████████████▏                                                                                                                               | 71/480 [13:47<5:13:47, 46.03s/it]"
     ]
    },
    {
     "name": "stderr",
     "output_type": "stream",
     "text": [
      "\r",
      " 15%|██████████████████████▌                                                                                                                               | 72/480 [13:49<3:43:45, 32.91s/it]"
     ]
    },
    {
     "name": "stderr",
     "output_type": "stream",
     "text": [
      "\r",
      " 15%|██████████████████████▊                                                                                                                               | 73/480 [14:31<4:00:30, 35.46s/it]"
     ]
    },
    {
     "name": "stderr",
     "output_type": "stream",
     "text": [
      "\r",
      " 15%|███████████████████████▏                                                                                                                              | 74/480 [14:33<2:53:14, 25.60s/it]"
     ]
    },
    {
     "name": "stderr",
     "output_type": "stream",
     "text": [
      "\r",
      " 16%|███████████████████████▍                                                                                                                              | 75/480 [14:44<2:23:17, 21.23s/it]"
     ]
    },
    {
     "name": "stderr",
     "output_type": "stream",
     "text": [
      "\r",
      " 16%|███████████████████████▊                                                                                                                              | 76/480 [14:52<1:55:44, 17.19s/it]"
     ]
    },
    {
     "name": "stderr",
     "output_type": "stream",
     "text": [
      "\r",
      " 16%|████████████████████████                                                                                                                              | 77/480 [15:14<2:05:12, 18.64s/it]"
     ]
    },
    {
     "name": "stderr",
     "output_type": "stream",
     "text": [
      "\r",
      " 16%|████████████████████████▍                                                                                                                             | 78/480 [15:14<1:28:06, 13.15s/it]"
     ]
    },
    {
     "name": "stderr",
     "output_type": "stream",
     "text": [
      "\r",
      " 16%|████████████████████████▋                                                                                                                             | 79/480 [15:15<1:02:11,  9.31s/it]"
     ]
    },
    {
     "name": "stderr",
     "output_type": "stream",
     "text": [
      "\r",
      " 17%|█████████████████████████▎                                                                                                                              | 80/480 [15:18<50:04,  7.51s/it]"
     ]
    },
    {
     "name": "stderr",
     "output_type": "stream",
     "text": [
      "\r",
      " 17%|█████████████████████████▋                                                                                                                              | 81/480 [15:25<48:29,  7.29s/it]"
     ]
    },
    {
     "name": "stderr",
     "output_type": "stream",
     "text": [
      "\r",
      " 17%|█████████████████████████▉                                                                                                                              | 82/480 [15:31<45:25,  6.85s/it]"
     ]
    },
    {
     "name": "stderr",
     "output_type": "stream",
     "text": [
      "\r",
      " 17%|██████████████████████████▎                                                                                                                             | 83/480 [15:31<32:09,  4.86s/it]"
     ]
    },
    {
     "name": "stderr",
     "output_type": "stream",
     "text": [
      "\r",
      " 18%|██████████████████████████▌                                                                                                                             | 84/480 [15:37<34:19,  5.20s/it]"
     ]
    },
    {
     "name": "stderr",
     "output_type": "stream",
     "text": [
      "\r",
      " 18%|██████████████████████████▉                                                                                                                             | 85/480 [15:39<28:29,  4.33s/it]"
     ]
    },
    {
     "name": "stderr",
     "output_type": "stream",
     "text": [
      "\r",
      " 18%|███████████████████████████▏                                                                                                                            | 86/480 [15:41<23:47,  3.62s/it]"
     ]
    },
    {
     "name": "stderr",
     "output_type": "stream",
     "text": [
      "\r",
      " 18%|███████████████████████████▌                                                                                                                            | 87/480 [15:45<23:39,  3.61s/it]"
     ]
    },
    {
     "name": "stderr",
     "output_type": "stream",
     "text": [
      "\r",
      " 18%|███████████████████████████▊                                                                                                                            | 88/480 [15:45<17:07,  2.62s/it]"
     ]
    },
    {
     "name": "stderr",
     "output_type": "stream",
     "text": [
      "\r",
      " 19%|████████████████████████████▏                                                                                                                           | 89/480 [15:47<15:37,  2.40s/it]"
     ]
    },
    {
     "name": "stderr",
     "output_type": "stream",
     "text": [
      "\r",
      " 19%|████████████████████████████▌                                                                                                                           | 90/480 [15:48<12:46,  1.97s/it]"
     ]
    },
    {
     "name": "stderr",
     "output_type": "stream",
     "text": [
      "\r",
      " 19%|████████████████████████████▊                                                                                                                           | 91/480 [15:48<09:37,  1.48s/it]"
     ]
    },
    {
     "name": "stderr",
     "output_type": "stream",
     "text": [
      "\r",
      " 19%|█████████████████████████████▏                                                                                                                          | 92/480 [15:50<10:27,  1.62s/it]"
     ]
    },
    {
     "name": "stderr",
     "output_type": "stream",
     "text": [
      "\r",
      " 20%|█████████████████████████████▊                                                                                                                          | 94/480 [15:52<08:26,  1.31s/it]"
     ]
    },
    {
     "name": "stderr",
     "output_type": "stream",
     "text": [
      "\r",
      " 20%|█████████████████████████████▋                                                                                                                        | 95/480 [18:37<4:28:25, 41.83s/it]"
     ]
    },
    {
     "name": "stderr",
     "output_type": "stream",
     "text": [
      "\r",
      " 20%|██████████████████████████████                                                                                                                        | 96/480 [19:27<4:41:46, 44.03s/it]"
     ]
    },
    {
     "name": "stderr",
     "output_type": "stream",
     "text": [
      "\r",
      " 20%|██████████████████████████████▎                                                                                                                       | 97/480 [19:27<3:25:02, 32.12s/it]"
     ]
    },
    {
     "name": "stderr",
     "output_type": "stream",
     "text": [
      "\r",
      " 20%|██████████████████████████████▋                                                                                                                       | 98/480 [19:39<2:47:34, 26.32s/it]"
     ]
    },
    {
     "name": "stderr",
     "output_type": "stream",
     "text": [
      "\r",
      " 21%|██████████████████████████████▉                                                                                                                       | 99/480 [19:59<2:36:31, 24.65s/it]"
     ]
    },
    {
     "name": "stderr",
     "output_type": "stream",
     "text": [
      "\r",
      " 21%|███████████████████████████████                                                                                                                      | 100/480 [20:11<2:12:59, 21.00s/it]"
     ]
    },
    {
     "name": "stderr",
     "output_type": "stream",
     "text": [
      "\r",
      " 21%|███████████████████████████████▎                                                                                                                     | 101/480 [20:13<1:36:48, 15.33s/it]"
     ]
    },
    {
     "name": "stderr",
     "output_type": "stream",
     "text": [
      "\r",
      " 21%|███████████████████████████████▋                                                                                                                     | 102/480 [20:13<1:09:00, 10.95s/it]"
     ]
    },
    {
     "name": "stderr",
     "output_type": "stream",
     "text": [
      "\r",
      " 21%|████████████████████████████████▍                                                                                                                      | 103/480 [20:13<48:55,  7.79s/it]"
     ]
    },
    {
     "name": "stderr",
     "output_type": "stream",
     "text": [
      "\r",
      " 22%|████████████████████████████████▋                                                                                                                      | 104/480 [20:17<41:33,  6.63s/it]"
     ]
    },
    {
     "name": "stderr",
     "output_type": "stream",
     "text": [
      "\r",
      " 22%|█████████████████████████████████                                                                                                                      | 105/480 [20:25<42:58,  6.88s/it]"
     ]
    },
    {
     "name": "stderr",
     "output_type": "stream",
     "text": [
      "\r",
      " 22%|█████████████████████████████████▎                                                                                                                     | 106/480 [20:31<41:32,  6.66s/it]"
     ]
    },
    {
     "name": "stderr",
     "output_type": "stream",
     "text": [
      "\r",
      " 22%|█████████████████████████████████▋                                                                                                                     | 107/480 [20:40<46:04,  7.41s/it]"
     ]
    },
    {
     "name": "stderr",
     "output_type": "stream",
     "text": [
      "\r",
      " 22%|█████████████████████████████████▉                                                                                                                     | 108/480 [20:42<35:40,  5.75s/it]"
     ]
    },
    {
     "name": "stderr",
     "output_type": "stream",
     "text": [
      "\r",
      " 23%|██████████████████████████████████▎                                                                                                                    | 109/480 [20:44<28:21,  4.59s/it]"
     ]
    },
    {
     "name": "stderr",
     "output_type": "stream",
     "text": [
      "\r",
      " 23%|██████████████████████████████████▌                                                                                                                    | 110/480 [20:46<23:33,  3.82s/it]"
     ]
    },
    {
     "name": "stderr",
     "output_type": "stream",
     "text": [
      "\r",
      " 23%|██████████████████████████████████▉                                                                                                                    | 111/480 [20:50<23:45,  3.86s/it]"
     ]
    },
    {
     "name": "stderr",
     "output_type": "stream",
     "text": [
      "\r",
      " 23%|███████████████████████████████████▏                                                                                                                   | 112/480 [20:53<21:51,  3.56s/it]"
     ]
    },
    {
     "name": "stderr",
     "output_type": "stream",
     "text": [
      "\r",
      " 24%|███████████████████████████████████▌                                                                                                                   | 113/480 [20:53<16:04,  2.63s/it]"
     ]
    },
    {
     "name": "stderr",
     "output_type": "stream",
     "text": [
      "\r",
      " 24%|███████████████████████████████████▊                                                                                                                   | 114/480 [20:54<12:16,  2.01s/it]"
     ]
    },
    {
     "name": "stderr",
     "output_type": "stream",
     "text": [
      "\r",
      " 24%|████████████████████████████████████▏                                                                                                                  | 115/480 [20:57<13:31,  2.22s/it]"
     ]
    },
    {
     "name": "stderr",
     "output_type": "stream",
     "text": [
      "\r",
      " 24%|████████████████████████████████████▍                                                                                                                  | 116/480 [20:57<10:29,  1.73s/it]"
     ]
    },
    {
     "name": "stderr",
     "output_type": "stream",
     "text": [
      "\r",
      " 24%|████████████████████████████████████▊                                                                                                                  | 117/480 [20:59<10:05,  1.67s/it]"
     ]
    },
    {
     "name": "stderr",
     "output_type": "stream",
     "text": [
      "\r",
      " 25%|█████████████████████████████████████                                                                                                                  | 118/480 [21:12<31:03,  5.15s/it]"
     ]
    },
    {
     "name": "stderr",
     "output_type": "stream",
     "text": [
      "\r",
      " 25%|████████████████████████████████████▉                                                                                                                | 119/480 [23:47<5:00:46, 49.99s/it]"
     ]
    },
    {
     "name": "stderr",
     "output_type": "stream",
     "text": [
      "\r",
      " 25%|█████████████████████████████████████▎                                                                                                               | 120/480 [23:58<3:50:17, 38.38s/it]"
     ]
    },
    {
     "name": "stderr",
     "output_type": "stream",
     "text": [
      "\r",
      " 25%|█████████████████████████████████████▌                                                                                                               | 121/480 [24:34<3:46:04, 37.79s/it]"
     ]
    },
    {
     "name": "stderr",
     "output_type": "stream",
     "text": [
      "\r",
      " 25%|█████████████████████████████████████▊                                                                                                               | 122/480 [24:42<2:51:41, 28.78s/it]"
     ]
    },
    {
     "name": "stderr",
     "output_type": "stream",
     "text": [
      "\r",
      " 26%|██████████████████████████████████████▏                                                                                                              | 123/480 [24:50<2:13:51, 22.50s/it]"
     ]
    },
    {
     "name": "stderr",
     "output_type": "stream",
     "text": [
      "\r",
      " 26%|██████████████████████████████████████▍                                                                                                              | 124/480 [25:10<2:09:18, 21.79s/it]"
     ]
    },
    {
     "name": "stderr",
     "output_type": "stream",
     "text": [
      "\r",
      " 26%|██████████████████████████████████████▊                                                                                                              | 125/480 [25:29<2:03:26, 20.86s/it]"
     ]
    },
    {
     "name": "stderr",
     "output_type": "stream",
     "text": [
      "\r",
      " 26%|███████████████████████████████████████                                                                                                              | 126/480 [25:29<1:26:39, 14.69s/it]"
     ]
    },
    {
     "name": "stderr",
     "output_type": "stream",
     "text": [
      "\r",
      " 26%|███████████████████████████████████████▍                                                                                                             | 127/480 [25:29<1:00:57, 10.36s/it]"
     ]
    },
    {
     "name": "stderr",
     "output_type": "stream",
     "text": [
      "\r",
      " 27%|████████████████████████████████████████▎                                                                                                              | 128/480 [25:33<49:05,  8.37s/it]"
     ]
    },
    {
     "name": "stderr",
     "output_type": "stream",
     "text": [
      "\r",
      " 27%|████████████████████████████████████████▌                                                                                                              | 129/480 [25:41<47:48,  8.17s/it]"
     ]
    },
    {
     "name": "stderr",
     "output_type": "stream",
     "text": [
      "\r",
      " 27%|████████████████████████████████████████▉                                                                                                              | 130/480 [25:46<42:35,  7.30s/it]"
     ]
    },
    {
     "name": "stderr",
     "output_type": "stream",
     "text": [
      "\r",
      " 27%|█████████████████████████████████████████▏                                                                                                             | 131/480 [25:47<31:13,  5.37s/it]"
     ]
    },
    {
     "name": "stderr",
     "output_type": "stream",
     "text": [
      "\r",
      " 28%|█████████████████████████████████████████▌                                                                                                             | 132/480 [25:50<27:34,  4.75s/it]"
     ]
    },
    {
     "name": "stderr",
     "output_type": "stream",
     "text": [
      "\r",
      " 28%|█████████████████████████████████████████▊                                                                                                             | 133/480 [25:55<27:17,  4.72s/it]"
     ]
    },
    {
     "name": "stderr",
     "output_type": "stream",
     "text": [
      "\r",
      " 28%|██████████████████████████████████████████▏                                                                                                            | 134/480 [25:57<22:59,  3.99s/it]"
     ]
    },
    {
     "name": "stderr",
     "output_type": "stream",
     "text": [
      "\r",
      " 28%|██████████████████████████████████████████▍                                                                                                            | 135/480 [26:01<23:30,  4.09s/it]"
     ]
    },
    {
     "name": "stderr",
     "output_type": "stream",
     "text": [
      "\r",
      " 29%|███████████████████████████████████████████                                                                                                            | 137/480 [26:02<13:00,  2.28s/it]"
     ]
    },
    {
     "name": "stderr",
     "output_type": "stream",
     "text": [
      "\r",
      " 29%|███████████████████████████████████████████▍                                                                                                           | 138/480 [26:03<12:09,  2.13s/it]"
     ]
    },
    {
     "name": "stderr",
     "output_type": "stream",
     "text": [
      "\r",
      " 29%|███████████████████████████████████████████▋                                                                                                           | 139/480 [26:05<10:52,  1.91s/it]"
     ]
    },
    {
     "name": "stderr",
     "output_type": "stream",
     "text": [
      "\r",
      " 29%|████████████████████████████████████████████                                                                                                           | 140/480 [26:05<08:07,  1.43s/it]"
     ]
    },
    {
     "name": "stderr",
     "output_type": "stream",
     "text": [
      "\r",
      " 29%|████████████████████████████████████████████▎                                                                                                          | 141/480 [26:05<06:15,  1.11s/it]"
     ]
    },
    {
     "name": "stderr",
     "output_type": "stream",
     "text": [
      "\r",
      " 30%|████████████████████████████████████████████▋                                                                                                          | 142/480 [26:08<08:56,  1.59s/it]"
     ]
    },
    {
     "name": "stderr",
     "output_type": "stream",
     "text": [
      "\r",
      " 30%|████████████████████████████████████████████▍                                                                                                        | 143/480 [29:00<4:46:13, 50.96s/it]"
     ]
    },
    {
     "name": "stderr",
     "output_type": "stream",
     "text": [
      "\r",
      " 30%|████████████████████████████████████████████▋                                                                                                        | 144/480 [29:54<4:49:58, 51.78s/it]"
     ]
    },
    {
     "name": "stderr",
     "output_type": "stream",
     "text": [
      "\r",
      " 30%|█████████████████████████████████████████████                                                                                                        | 145/480 [30:03<3:38:36, 39.15s/it]"
     ]
    },
    {
     "name": "stderr",
     "output_type": "stream",
     "text": [
      "\r",
      " 30%|█████████████████████████████████████████████▎                                                                                                       | 146/480 [30:06<2:39:14, 28.61s/it]"
     ]
    },
    {
     "name": "stderr",
     "output_type": "stream",
     "text": [
      "\r",
      " 31%|█████████████████████████████████████████████▋                                                                                                       | 147/480 [30:40<2:46:56, 30.08s/it]"
     ]
    },
    {
     "name": "stderr",
     "output_type": "stream",
     "text": [
      "\r",
      " 31%|█████████████████████████████████████████████▉                                                                                                       | 148/480 [30:47<2:08:33, 23.23s/it]"
     ]
    },
    {
     "name": "stderr",
     "output_type": "stream",
     "text": [
      "\r",
      " 31%|██████████████████████████████████████████████▎                                                                                                      | 149/480 [30:50<1:35:08, 17.25s/it]"
     ]
    },
    {
     "name": "stderr",
     "output_type": "stream",
     "text": [
      "\r",
      " 31%|██████████████████████████████████████████████▌                                                                                                      | 150/480 [30:50<1:06:56, 12.17s/it]"
     ]
    },
    {
     "name": "stderr",
     "output_type": "stream",
     "text": [
      "\r",
      " 31%|███████████████████████████████████████████████▌                                                                                                       | 151/480 [30:51<47:12,  8.61s/it]"
     ]
    },
    {
     "name": "stderr",
     "output_type": "stream",
     "text": [
      "\r",
      " 32%|███████████████████████████████████████████████▊                                                                                                       | 152/480 [30:54<39:18,  7.19s/it]"
     ]
    },
    {
     "name": "stderr",
     "output_type": "stream",
     "text": [
      "\r",
      " 32%|████████████████████████████████████████████████▏                                                                                                      | 153/480 [31:03<42:15,  7.75s/it]"
     ]
    },
    {
     "name": "stderr",
     "output_type": "stream",
     "text": [
      "\r",
      " 32%|████████████████████████████████████████████████▍                                                                                                      | 154/480 [31:10<39:53,  7.34s/it]"
     ]
    },
    {
     "name": "stderr",
     "output_type": "stream",
     "text": [
      "\r",
      " 32%|████████████████████████████████████████████████▊                                                                                                      | 155/480 [31:13<33:09,  6.12s/it]"
     ]
    },
    {
     "name": "stderr",
     "output_type": "stream",
     "text": [
      "\r",
      " 32%|█████████████████████████████████████████████████                                                                                                      | 156/480 [31:19<32:45,  6.07s/it]"
     ]
    },
    {
     "name": "stderr",
     "output_type": "stream",
     "text": [
      "\r",
      " 33%|█████████████████████████████████████████████████▍                                                                                                     | 157/480 [31:28<37:05,  6.89s/it]"
     ]
    },
    {
     "name": "stderr",
     "output_type": "stream",
     "text": [
      "\r",
      " 33%|█████████████████████████████████████████████████▋                                                                                                     | 158/480 [31:29<27:26,  5.11s/it]"
     ]
    },
    {
     "name": "stderr",
     "output_type": "stream",
     "text": [
      "\r",
      " 33%|██████████████████████████████████████████████████                                                                                                     | 159/480 [31:30<21:01,  3.93s/it]"
     ]
    },
    {
     "name": "stderr",
     "output_type": "stream",
     "text": [
      "\r",
      " 33%|██████████████████████████████████████████████████▎                                                                                                    | 160/480 [31:31<16:07,  3.02s/it]"
     ]
    },
    {
     "name": "stderr",
     "output_type": "stream",
     "text": [
      "\r",
      " 34%|██████████████████████████████████████████████████▋                                                                                                    | 161/480 [31:33<14:46,  2.78s/it]"
     ]
    },
    {
     "name": "stderr",
     "output_type": "stream",
     "text": [
      "\r",
      " 34%|██████████████████████████████████████████████████▉                                                                                                    | 162/480 [31:33<10:52,  2.05s/it]"
     ]
    },
    {
     "name": "stderr",
     "output_type": "stream",
     "text": [
      "\r",
      " 34%|███████████████████████████████████████████████████▎                                                                                                   | 163/480 [31:35<09:12,  1.74s/it]"
     ]
    },
    {
     "name": "stderr",
     "output_type": "stream",
     "text": [
      "\r",
      " 34%|███████████████████████████████████████████████████▌                                                                                                   | 164/480 [31:37<09:49,  1.86s/it]"
     ]
    },
    {
     "name": "stderr",
     "output_type": "stream",
     "text": [
      "\r",
      " 34%|███████████████████████████████████████████████████▉                                                                                                   | 165/480 [31:38<09:14,  1.76s/it]"
     ]
    },
    {
     "name": "stderr",
     "output_type": "stream",
     "text": [
      "\r",
      " 35%|████████████████████████████████████████████████████▏                                                                                                  | 166/480 [31:58<37:31,  7.17s/it]"
     ]
    },
    {
     "name": "stderr",
     "output_type": "stream",
     "text": [
      "\r",
      " 35%|███████████████████████████████████████████████████▊                                                                                                 | 167/480 [34:34<4:30:54, 51.93s/it]"
     ]
    },
    {
     "name": "stderr",
     "output_type": "stream",
     "text": [
      "\r",
      " 35%|████████████████████████████████████████████████████▏                                                                                                | 168/480 [35:05<3:57:05, 45.59s/it]"
     ]
    },
    {
     "name": "stderr",
     "output_type": "stream",
     "text": [
      "\r",
      " 35%|████████████████████████████████████████████████████▍                                                                                                | 169/480 [35:26<3:18:04, 38.21s/it]"
     ]
    },
    {
     "name": "stderr",
     "output_type": "stream",
     "text": [
      "\r",
      " 35%|████████████████████████████████████████████████████▊                                                                                                | 170/480 [35:41<2:41:14, 31.21s/it]"
     ]
    },
    {
     "name": "stderr",
     "output_type": "stream",
     "text": [
      "\r",
      " 36%|█████████████████████████████████████████████████████                                                                                                | 171/480 [35:52<2:09:40, 25.18s/it]"
     ]
    },
    {
     "name": "stderr",
     "output_type": "stream",
     "text": [
      "\r",
      " 36%|█████████████████████████████████████████████████████▍                                                                                               | 172/480 [36:22<2:15:56, 26.48s/it]"
     ]
    },
    {
     "name": "stderr",
     "output_type": "stream",
     "text": [
      "\r",
      " 36%|█████████████████████████████████████████████████████▋                                                                                               | 173/480 [36:38<1:59:27, 23.35s/it]"
     ]
    },
    {
     "name": "stderr",
     "output_type": "stream",
     "text": [
      "\r",
      " 36%|██████████████████████████████████████████████████████                                                                                               | 174/480 [36:38<1:23:49, 16.44s/it]"
     ]
    },
    {
     "name": "stderr",
     "output_type": "stream",
     "text": [
      "\r",
      " 36%|███████████████████████████████████████████████████████                                                                                                | 175/480 [36:38<59:00, 11.61s/it]"
     ]
    },
    {
     "name": "stderr",
     "output_type": "stream",
     "text": [
      "\r",
      " 37%|███████████████████████████████████████████████████████▎                                                                                               | 176/480 [36:42<47:05,  9.29s/it]"
     ]
    },
    {
     "name": "stderr",
     "output_type": "stream",
     "text": [
      "\r",
      " 37%|███████████████████████████████████████████████████████▋                                                                                               | 177/480 [36:48<41:14,  8.17s/it]"
     ]
    },
    {
     "name": "stderr",
     "output_type": "stream",
     "text": [
      "\r",
      " 37%|███████████████████████████████████████████████████████▉                                                                                               | 178/480 [36:50<32:54,  6.54s/it]"
     ]
    },
    {
     "name": "stderr",
     "output_type": "stream",
     "text": [
      "\r",
      " 37%|████████████████████████████████████████████████████████▎                                                                                              | 179/480 [36:53<26:34,  5.30s/it]"
     ]
    },
    {
     "name": "stderr",
     "output_type": "stream",
     "text": [
      "\r",
      " 38%|████████████████████████████████████████████████████████▋                                                                                              | 180/480 [36:54<20:25,  4.08s/it]"
     ]
    },
    {
     "name": "stderr",
     "output_type": "stream",
     "text": [
      "\r",
      " 38%|████████████████████████████████████████████████████████▉                                                                                              | 181/480 [36:59<21:14,  4.26s/it]"
     ]
    },
    {
     "name": "stderr",
     "output_type": "stream",
     "text": [
      "\r",
      " 38%|█████████████████████████████████████████████████████████▎                                                                                             | 182/480 [37:01<18:09,  3.66s/it]"
     ]
    },
    {
     "name": "stderr",
     "output_type": "stream",
     "text": [
      "\r",
      " 38%|█████████████████████████████████████████████████████████▌                                                                                             | 183/480 [37:06<20:09,  4.07s/it]"
     ]
    },
    {
     "name": "stderr",
     "output_type": "stream",
     "text": [
      "\r",
      " 39%|██████████████████████████████████████████████████████████▏                                                                                            | 185/480 [37:08<13:22,  2.72s/it]"
     ]
    },
    {
     "name": "stderr",
     "output_type": "stream",
     "text": [
      "\r",
      " 39%|██████████████████████████████████████████████████████████▌                                                                                            | 186/480 [37:10<11:29,  2.35s/it]"
     ]
    },
    {
     "name": "stderr",
     "output_type": "stream",
     "text": [
      "\r",
      " 39%|███████████████████████████████████████████████████████████▏                                                                                           | 188/480 [37:12<09:00,  1.85s/it]"
     ]
    },
    {
     "name": "stderr",
     "output_type": "stream",
     "text": [
      "\r",
      " 39%|███████████████████████████████████████████████████████████▍                                                                                           | 189/480 [37:13<07:38,  1.58s/it]"
     ]
    },
    {
     "name": "stderr",
     "output_type": "stream",
     "text": [
      "\r",
      " 40%|███████████████████████████████████████████████████████████▊                                                                                           | 190/480 [37:14<07:45,  1.61s/it]"
     ]
    },
    {
     "name": "stderr",
     "output_type": "stream",
     "text": [
      "\r",
      " 40%|███████████████████████████████████████████████████████████▎                                                                                         | 191/480 [40:18<3:55:23, 48.87s/it]"
     ]
    },
    {
     "name": "stderr",
     "output_type": "stream",
     "text": [
      "\r",
      " 40%|███████████████████████████████████████████████████████████▌                                                                                         | 192/480 [41:12<4:01:17, 50.27s/it]"
     ]
    },
    {
     "name": "stderr",
     "output_type": "stream",
     "text": [
      "\r",
      " 40%|███████████████████████████████████████████████████████████▉                                                                                         | 193/480 [41:20<3:04:31, 38.57s/it]"
     ]
    },
    {
     "name": "stderr",
     "output_type": "stream",
     "text": [
      "\r",
      " 40%|████████████████████████████████████████████████████████████▏                                                                                        | 194/480 [41:26<2:19:02, 29.17s/it]"
     ]
    },
    {
     "name": "stderr",
     "output_type": "stream",
     "text": [
      "\r",
      " 41%|████████████████████████████████████████████████████████████▌                                                                                        | 195/480 [42:02<2:28:07, 31.18s/it]"
     ]
    },
    {
     "name": "stderr",
     "output_type": "stream",
     "text": [
      "\r",
      " 41%|████████████████████████████████████████████████████████████▊                                                                                        | 196/480 [42:12<1:58:48, 25.10s/it]"
     ]
    },
    {
     "name": "stderr",
     "output_type": "stream",
     "text": [
      "\r",
      " 41%|█████████████████████████████████████████████████████████████▏                                                                                       | 197/480 [42:30<1:47:54, 22.88s/it]"
     ]
    },
    {
     "name": "stderr",
     "output_type": "stream",
     "text": [
      "\r",
      " 41%|█████████████████████████████████████████████████████████████▍                                                                                       | 198/480 [42:30<1:16:07, 16.20s/it]"
     ]
    },
    {
     "name": "stderr",
     "output_type": "stream",
     "text": [
      "\r",
      " 41%|██████████████████████████████████████████████████████████████▌                                                                                        | 199/480 [42:30<53:40, 11.46s/it]"
     ]
    },
    {
     "name": "stderr",
     "output_type": "stream",
     "text": [
      "\r",
      " 42%|██████████████████████████████████████████████████████████████▉                                                                                        | 200/480 [42:34<42:36,  9.13s/it]"
     ]
    },
    {
     "name": "stderr",
     "output_type": "stream",
     "text": [
      "\r",
      " 42%|███████████████████████████████████████████████████████████████▏                                                                                       | 201/480 [42:37<34:21,  7.39s/it]"
     ]
    },
    {
     "name": "stderr",
     "output_type": "stream",
     "text": [
      "\r",
      " 42%|███████████████████████████████████████████████████████████████▌                                                                                       | 202/480 [42:42<31:09,  6.72s/it]"
     ]
    },
    {
     "name": "stderr",
     "output_type": "stream",
     "text": [
      "\r",
      " 42%|███████████████████████████████████████████████████████████████▊                                                                                       | 203/480 [42:44<23:36,  5.11s/it]"
     ]
    },
    {
     "name": "stderr",
     "output_type": "stream",
     "text": [
      "\r",
      " 42%|████████████████████████████████████████████████████████████████▏                                                                                      | 204/480 [42:52<28:34,  6.21s/it]"
     ]
    },
    {
     "name": "stderr",
     "output_type": "stream",
     "text": [
      "\r",
      " 43%|████████████████████████████████████████████████████████████████▍                                                                                      | 205/480 [42:56<24:45,  5.40s/it]"
     ]
    },
    {
     "name": "stderr",
     "output_type": "stream",
     "text": [
      "\r",
      " 43%|████████████████████████████████████████████████████████████████▊                                                                                      | 206/480 [42:58<20:14,  4.43s/it]"
     ]
    },
    {
     "name": "stderr",
     "output_type": "stream",
     "text": [
      "\r",
      " 43%|█████████████████████████████████████████████████████████████████                                                                                      | 207/480 [42:59<15:04,  3.31s/it]"
     ]
    },
    {
     "name": "stderr",
     "output_type": "stream",
     "text": [
      "\r",
      " 43%|█████████████████████████████████████████████████████████████████▍                                                                                     | 208/480 [43:02<15:16,  3.37s/it]"
     ]
    },
    {
     "name": "stderr",
     "output_type": "stream",
     "text": [
      "\r",
      " 44%|█████████████████████████████████████████████████████████████████▋                                                                                     | 209/480 [43:03<11:06,  2.46s/it]"
     ]
    },
    {
     "name": "stderr",
     "output_type": "stream",
     "text": [
      "\r",
      " 44%|██████████████████████████████████████████████████████████████████                                                                                     | 210/480 [43:04<10:08,  2.25s/it]"
     ]
    },
    {
     "name": "stderr",
     "output_type": "stream",
     "text": [
      "\r",
      " 44%|██████████████████████████████████████████████████████████████████▍                                                                                    | 211/480 [43:06<09:06,  2.03s/it]"
     ]
    },
    {
     "name": "stderr",
     "output_type": "stream",
     "text": [
      "\r",
      " 44%|██████████████████████████████████████████████████████████████████▋                                                                                    | 212/480 [43:06<06:47,  1.52s/it]"
     ]
    },
    {
     "name": "stderr",
     "output_type": "stream",
     "text": [
      "\r",
      " 44%|███████████████████████████████████████████████████████████████████                                                                                    | 213/480 [43:09<08:54,  2.00s/it]"
     ]
    },
    {
     "name": "stderr",
     "output_type": "stream",
     "text": [
      "\r",
      " 45%|███████████████████████████████████████████████████████████████████▎                                                                                   | 214/480 [43:30<33:16,  7.51s/it]"
     ]
    },
    {
     "name": "stderr",
     "output_type": "stream",
     "text": [
      "\r",
      " 45%|██████████████████████████████████████████████████████████████████▋                                                                                  | 215/480 [46:46<4:43:15, 64.13s/it]"
     ]
    },
    {
     "name": "stderr",
     "output_type": "stream",
     "text": [
      "\r",
      " 45%|███████████████████████████████████████████████████████████████████                                                                                  | 216/480 [46:54<3:27:35, 47.18s/it]"
     ]
    },
    {
     "name": "stderr",
     "output_type": "stream",
     "text": [
      "\r",
      " 45%|███████████████████████████████████████████████████████████████████▎                                                                                 | 217/480 [47:50<3:39:08, 49.99s/it]"
     ]
    },
    {
     "name": "stderr",
     "output_type": "stream",
     "text": [
      "\r",
      " 45%|███████████████████████████████████████████████████████████████████▋                                                                                 | 218/480 [47:53<2:36:32, 35.85s/it]"
     ]
    },
    {
     "name": "stderr",
     "output_type": "stream",
     "text": [
      "\r",
      " 46%|███████████████████████████████████████████████████████████████████▉                                                                                 | 219/480 [47:56<1:52:33, 25.88s/it]"
     ]
    },
    {
     "name": "stderr",
     "output_type": "stream",
     "text": [
      "\r",
      " 46%|████████████████████████████████████████████████████████████████████▎                                                                                | 220/480 [48:22<1:53:22, 26.16s/it]"
     ]
    },
    {
     "name": "stderr",
     "output_type": "stream",
     "text": [
      "\r",
      " 46%|████████████████████████████████████████████████████████████████████▌                                                                                | 221/480 [48:28<1:26:38, 20.07s/it]"
     ]
    },
    {
     "name": "stderr",
     "output_type": "stream",
     "text": [
      "\r",
      " 46%|████████████████████████████████████████████████████████████████████▉                                                                                | 222/480 [48:29<1:00:55, 14.17s/it]"
     ]
    },
    {
     "name": "stderr",
     "output_type": "stream",
     "text": [
      "\r",
      " 46%|██████████████████████████████████████████████████████████████████████▏                                                                                | 223/480 [48:29<42:49, 10.00s/it]"
     ]
    },
    {
     "name": "stderr",
     "output_type": "stream",
     "text": [
      "\r",
      " 47%|██████████████████████████████████████████████████████████████████████▍                                                                                | 224/480 [48:34<36:29,  8.55s/it]"
     ]
    },
    {
     "name": "stderr",
     "output_type": "stream",
     "text": [
      "\r",
      " 47%|██████████████████████████████████████████████████████████████████████▊                                                                                | 225/480 [48:43<37:13,  8.76s/it]"
     ]
    },
    {
     "name": "stderr",
     "output_type": "stream",
     "text": [
      "\r",
      " 47%|███████████████████████████████████████████████████████████████████████                                                                                | 226/480 [48:51<35:23,  8.36s/it]"
     ]
    },
    {
     "name": "stderr",
     "output_type": "stream",
     "text": [
      "\r",
      " 47%|███████████████████████████████████████████████████████████████████████▍                                                                               | 227/480 [49:00<36:37,  8.69s/it]"
     ]
    },
    {
     "name": "stderr",
     "output_type": "stream",
     "text": [
      "\r",
      " 48%|███████████████████████████████████████████████████████████████████████▋                                                                               | 228/480 [49:14<43:23, 10.33s/it]"
     ]
    },
    {
     "name": "stderr",
     "output_type": "stream",
     "text": [
      "\r",
      " 48%|████████████████████████████████████████████████████████████████████████                                                                               | 229/480 [49:15<30:35,  7.31s/it]"
     ]
    },
    {
     "name": "stderr",
     "output_type": "stream",
     "text": [
      "\r",
      " 48%|████████████████████████████████████████████████████████████████████████▎                                                                              | 230/480 [49:18<25:02,  6.01s/it]"
     ]
    },
    {
     "name": "stderr",
     "output_type": "stream",
     "text": [
      "\r",
      " 48%|████████████████████████████████████████████████████████████████████████▋                                                                              | 231/480 [49:22<23:03,  5.55s/it]"
     ]
    },
    {
     "name": "stderr",
     "output_type": "stream",
     "text": [
      "\r",
      " 48%|████████████████████████████████████████████████████████████████████████▉                                                                              | 232/480 [49:23<17:13,  4.17s/it]"
     ]
    },
    {
     "name": "stderr",
     "output_type": "stream",
     "text": [
      "\r",
      " 49%|█████████████████████████████████████████████████████████████████████████▎                                                                             | 233/480 [49:26<15:20,  3.73s/it]"
     ]
    },
    {
     "name": "stderr",
     "output_type": "stream",
     "text": [
      "\r",
      " 49%|█████████████████████████████████████████████████████████████████████████▌                                                                             | 234/480 [49:26<11:23,  2.78s/it]"
     ]
    },
    {
     "name": "stderr",
     "output_type": "stream",
     "text": [
      "\r",
      " 49%|█████████████████████████████████████████████████████████████████████████▉                                                                             | 235/480 [49:27<08:23,  2.05s/it]"
     ]
    },
    {
     "name": "stderr",
     "output_type": "stream",
     "text": [
      "\r",
      " 49%|██████████████████████████████████████████████████████████████████████████▏                                                                            | 236/480 [49:27<06:27,  1.59s/it]"
     ]
    },
    {
     "name": "stderr",
     "output_type": "stream",
     "text": [
      "\r",
      " 49%|██████████████████████████████████████████████████████████████████████████▌                                                                            | 237/480 [49:29<07:06,  1.75s/it]"
     ]
    },
    {
     "name": "stderr",
     "output_type": "stream",
     "text": [
      "\r",
      " 50%|██████████████████████████████████████████████████████████████████████████▊                                                                            | 238/480 [49:31<07:23,  1.83s/it]"
     ]
    },
    {
     "name": "stderr",
     "output_type": "stream",
     "text": [
      "\r",
      " 50%|██████████████████████████████████████████████████████████████████████████▏                                                                          | 239/480 [52:42<3:54:17, 58.33s/it]"
     ]
    },
    {
     "name": "stderr",
     "output_type": "stream",
     "text": [
      "\r",
      " 50%|██████████████████████████████████████████████████████████████████████████▌                                                                          | 240/480 [53:23<3:32:29, 53.12s/it]"
     ]
    },
    {
     "name": "stderr",
     "output_type": "stream",
     "text": [
      "\r",
      " 50%|██████████████████████████████████████████████████████████████████████████▊                                                                          | 241/480 [53:42<2:51:41, 43.10s/it]"
     ]
    },
    {
     "name": "stderr",
     "output_type": "stream",
     "text": [
      "\r",
      " 50%|███████████████████████████████████████████████████████████████████████████                                                                          | 242/480 [53:56<2:16:15, 34.35s/it]"
     ]
    },
    {
     "name": "stderr",
     "output_type": "stream",
     "text": [
      "\r",
      " 51%|███████████████████████████████████████████████████████████████████████████▍                                                                         | 243/480 [54:15<1:56:51, 29.58s/it]"
     ]
    },
    {
     "name": "stderr",
     "output_type": "stream",
     "text": [
      "\r",
      " 51%|███████████████████████████████████████████████████████████████████████████▋                                                                         | 244/480 [54:48<2:00:18, 30.58s/it]"
     ]
    },
    {
     "name": "stderr",
     "output_type": "stream",
     "text": [
      "\r",
      " 51%|████████████████████████████████████████████████████████████████████████████                                                                         | 245/480 [55:11<1:51:06, 28.37s/it]"
     ]
    },
    {
     "name": "stderr",
     "output_type": "stream",
     "text": [
      "\r",
      " 51%|████████████████████████████████████████████████████████████████████████████▎                                                                        | 246/480 [55:11<1:17:48, 19.95s/it]"
     ]
    },
    {
     "name": "stderr",
     "output_type": "stream",
     "text": [
      "\r",
      " 51%|█████████████████████████████████████████████████████████████████████████████▋                                                                         | 247/480 [55:11<54:32, 14.05s/it]"
     ]
    },
    {
     "name": "stderr",
     "output_type": "stream",
     "text": [
      "\r",
      " 52%|██████████████████████████████████████████████████████████████████████████████                                                                         | 248/480 [55:15<41:51, 10.83s/it]"
     ]
    },
    {
     "name": "stderr",
     "output_type": "stream",
     "text": [
      "\r",
      " 52%|██████████████████████████████████████████████████████████████████████████████▎                                                                        | 249/480 [55:15<29:40,  7.71s/it]"
     ]
    },
    {
     "name": "stderr",
     "output_type": "stream",
     "text": [
      "\r",
      " 52%|██████████████████████████████████████████████████████████████████████████████▋                                                                        | 250/480 [55:22<28:24,  7.41s/it]"
     ]
    },
    {
     "name": "stderr",
     "output_type": "stream",
     "text": [
      "\r",
      " 52%|██████████████████████████████████████████████████████████████████████████████▉                                                                        | 251/480 [55:24<21:59,  5.76s/it]"
     ]
    },
    {
     "name": "stderr",
     "output_type": "stream",
     "text": [
      "\r",
      " 52%|███████████████████████████████████████████████████████████████████████████████▎                                                                       | 252/480 [55:28<19:52,  5.23s/it]"
     ]
    },
    {
     "name": "stderr",
     "output_type": "stream",
     "text": [
      "\r",
      " 53%|███████████████████████████████████████████████████████████████████████████████▌                                                                       | 253/480 [55:31<17:57,  4.75s/it]"
     ]
    },
    {
     "name": "stderr",
     "output_type": "stream",
     "text": [
      "\r",
      " 53%|███████████████████████████████████████████████████████████████████████████████▉                                                                       | 254/480 [55:34<15:03,  4.00s/it]"
     ]
    },
    {
     "name": "stderr",
     "output_type": "stream",
     "text": [
      "\r",
      " 53%|████████████████████████████████████████████████████████████████████████████████▏                                                                      | 255/480 [55:38<15:51,  4.23s/it]"
     ]
    },
    {
     "name": "stderr",
     "output_type": "stream",
     "text": [
      "\r",
      " 53%|████████████████████████████████████████████████████████████████████████████████▌                                                                      | 256/480 [55:39<12:16,  3.29s/it]"
     ]
    },
    {
     "name": "stderr",
     "output_type": "stream",
     "text": [
      "\r",
      " 54%|████████████████████████████████████████████████████████████████████████████████▊                                                                      | 257/480 [55:41<10:04,  2.71s/it]"
     ]
    },
    {
     "name": "stderr",
     "output_type": "stream",
     "text": [
      "\r",
      " 54%|█████████████████████████████████████████████████████████████████████████████████▏                                                                     | 258/480 [55:42<08:20,  2.26s/it]"
     ]
    },
    {
     "name": "stderr",
     "output_type": "stream",
     "text": [
      "\r",
      " 54%|█████████████████████████████████████████████████████████████████████████████████▍                                                                     | 259/480 [55:43<07:05,  1.93s/it]"
     ]
    },
    {
     "name": "stderr",
     "output_type": "stream",
     "text": [
      "\r",
      " 54%|█████████████████████████████████████████████████████████████████████████████████▊                                                                     | 260/480 [55:44<06:23,  1.75s/it]"
     ]
    },
    {
     "name": "stderr",
     "output_type": "stream",
     "text": [
      "\r",
      " 54%|██████████████████████████████████████████████████████████████████████████████████                                                                     | 261/480 [55:46<06:12,  1.70s/it]"
     ]
    },
    {
     "name": "stderr",
     "output_type": "stream",
     "text": [
      "\r",
      " 55%|██████████████████████████████████████████████████████████████████████████████████▍                                                                    | 262/480 [55:47<05:16,  1.45s/it]"
     ]
    },
    {
     "name": "stderr",
     "output_type": "stream",
     "text": [
      "\r",
      " 55%|█████████████████████████████████████████████████████████████████████████████████▋                                                                   | 263/480 [59:56<4:33:40, 75.67s/it]"
     ]
    },
    {
     "name": "stderr",
     "output_type": "stream",
     "text": [
      "\r",
      " 55%|████████████████████████████████████████████████████████████████████████████████▊                                                                  | 264/480 [1:00:59<4:18:37, 71.84s/it]"
     ]
    },
    {
     "name": "stderr",
     "output_type": "stream",
     "text": [
      "\r",
      " 55%|█████████████████████████████████████████████████████████████████████████████████▏                                                                 | 265/480 [1:01:06<3:08:05, 52.49s/it]"
     ]
    },
    {
     "name": "stderr",
     "output_type": "stream",
     "text": [
      "\r",
      " 55%|█████████████████████████████████████████████████████████████████████████████████▍                                                                 | 266/480 [1:01:12<2:17:07, 38.45s/it]"
     ]
    },
    {
     "name": "stderr",
     "output_type": "stream",
     "text": [
      "\r",
      " 56%|█████████████████████████████████████████████████████████████████████████████████▊                                                                 | 267/480 [1:01:13<1:36:39, 27.23s/it]"
     ]
    },
    {
     "name": "stderr",
     "output_type": "stream",
     "text": [
      "\r",
      " 56%|██████████████████████████████████████████████████████████████████████████████████                                                                 | 268/480 [1:01:37<1:33:28, 26.45s/it]"
     ]
    },
    {
     "name": "stderr",
     "output_type": "stream",
     "text": [
      "\r",
      " 56%|██████████████████████████████████████████████████████████████████████████████████▍                                                                | 269/480 [1:02:06<1:35:13, 27.08s/it]"
     ]
    },
    {
     "name": "stderr",
     "output_type": "stream",
     "text": [
      "\r",
      " 56%|██████████████████████████████████████████████████████████████████████████████████▋                                                                | 270/480 [1:02:06<1:06:46, 19.08s/it]"
     ]
    },
    {
     "name": "stderr",
     "output_type": "stream",
     "text": [
      "\r",
      " 56%|████████████████████████████████████████████████████████████████████████████████████                                                                 | 271/480 [1:02:07<46:50, 13.45s/it]"
     ]
    },
    {
     "name": "stderr",
     "output_type": "stream",
     "text": [
      "\r",
      " 57%|████████████████████████████████████████████████████████████████████████████████████▍                                                                | 272/480 [1:02:12<37:42, 10.88s/it]"
     ]
    },
    {
     "name": "stderr",
     "output_type": "stream",
     "text": [
      "\r",
      " 57%|████████████████████████████████████████████████████████████████████████████████████▋                                                                | 273/480 [1:02:21<36:11, 10.49s/it]"
     ]
    },
    {
     "name": "stderr",
     "output_type": "stream",
     "text": [
      "\r",
      " 57%|█████████████████████████████████████████████████████████████████████████████████████                                                                | 274/480 [1:02:30<34:18,  9.99s/it]"
     ]
    },
    {
     "name": "stderr",
     "output_type": "stream",
     "text": [
      "\r",
      " 57%|█████████████████████████████████████████████████████████████████████████████████████▎                                                               | 275/480 [1:02:39<32:54,  9.63s/it]"
     ]
    },
    {
     "name": "stderr",
     "output_type": "stream",
     "text": [
      "\r",
      " 57%|█████████████████████████████████████████████████████████████████████████████████████▋                                                               | 276/480 [1:02:44<27:57,  8.22s/it]"
     ]
    },
    {
     "name": "stderr",
     "output_type": "stream",
     "text": [
      "\r",
      " 58%|█████████████████████████████████████████████████████████████████████████████████████▉                                                               | 277/480 [1:02:44<19:52,  5.87s/it]"
     ]
    },
    {
     "name": "stderr",
     "output_type": "stream",
     "text": [
      "\r",
      " 58%|██████████████████████████████████████████████████████████████████████████████████████▎                                                              | 278/480 [1:02:47<16:53,  5.02s/it]"
     ]
    },
    {
     "name": "stderr",
     "output_type": "stream",
     "text": [
      "\r",
      " 58%|██████████████████████████████████████████████████████████████████████████████████████▌                                                              | 279/480 [1:02:52<16:39,  4.97s/it]"
     ]
    },
    {
     "name": "stderr",
     "output_type": "stream",
     "text": [
      "\r",
      " 58%|██████████████████████████████████████████████████████████████████████████████████████▉                                                              | 280/480 [1:02:53<12:29,  3.75s/it]"
     ]
    },
    {
     "name": "stderr",
     "output_type": "stream",
     "text": [
      "\r",
      " 59%|███████████████████████████████████████████████████████████████████████████████████████▏                                                             | 281/480 [1:02:53<09:01,  2.72s/it]"
     ]
    },
    {
     "name": "stderr",
     "output_type": "stream",
     "text": [
      "\r",
      " 59%|███████████████████████████████████████████████████████████████████████████████████████▌                                                             | 282/480 [1:02:56<09:18,  2.82s/it]"
     ]
    },
    {
     "name": "stderr",
     "output_type": "stream",
     "text": [
      "\r",
      " 59%|███████████████████████████████████████████████████████████████████████████████████████▊                                                             | 283/480 [1:02:57<06:45,  2.06s/it]"
     ]
    },
    {
     "name": "stderr",
     "output_type": "stream",
     "text": [
      "\r",
      " 59%|████████████████████████████████████████████████████████████████████████████████████████▍                                                            | 285/480 [1:02:57<04:18,  1.33s/it]"
     ]
    },
    {
     "name": "stderr",
     "output_type": "stream",
     "text": [
      "\r",
      " 60%|████████████████████████████████████████████████████████████████████████████████████████▊                                                            | 286/480 [1:03:02<06:36,  2.04s/it]"
     ]
    },
    {
     "name": "stderr",
     "output_type": "stream",
     "text": [
      "\r",
      " 60%|███████████████████████████████████████████████████████████████████████████████████████▉                                                           | 287/480 [1:06:18<2:49:47, 52.78s/it]"
     ]
    },
    {
     "name": "stderr",
     "output_type": "stream",
     "text": [
      "\r",
      " 60%|████████████████████████████████████████████████████████████████████████████████████████▏                                                          | 288/480 [1:07:07<2:45:34, 51.74s/it]"
     ]
    },
    {
     "name": "stderr",
     "output_type": "stream",
     "text": [
      "\r",
      " 60%|████████████████████████████████████████████████████████████████████████████████████████▌                                                          | 289/480 [1:07:33<2:22:01, 44.61s/it]"
     ]
    },
    {
     "name": "stderr",
     "output_type": "stream",
     "text": [
      "\r",
      " 60%|████████████████████████████████████████████████████████████████████████████████████████▊                                                          | 290/480 [1:07:56<2:01:52, 38.49s/it]"
     ]
    },
    {
     "name": "stderr",
     "output_type": "stream",
     "text": [
      "\r",
      " 61%|█████████████████████████████████████████████████████████████████████████████████████████                                                          | 291/480 [1:08:12<1:41:02, 32.08s/it]"
     ]
    },
    {
     "name": "stderr",
     "output_type": "stream",
     "text": [
      "\r",
      " 61%|█████████████████████████████████████████████████████████████████████████████████████████▍                                                         | 292/480 [1:08:38<1:34:33, 30.18s/it]"
     ]
    },
    {
     "name": "stderr",
     "output_type": "stream",
     "text": [
      "\r",
      " 61%|█████████████████████████████████████████████████████████████████████████████████████████▋                                                         | 293/480 [1:09:20<1:45:07, 33.73s/it]"
     ]
    },
    {
     "name": "stderr",
     "output_type": "stream",
     "text": [
      "\r",
      " 61%|██████████████████████████████████████████████████████████████████████████████████████████                                                         | 294/480 [1:09:21<1:13:57, 23.86s/it]"
     ]
    },
    {
     "name": "stderr",
     "output_type": "stream",
     "text": [
      "\r",
      " 61%|███████████████████████████████████████████████████████████████████████████████████████████▌                                                         | 295/480 [1:09:21<51:56, 16.85s/it]"
     ]
    },
    {
     "name": "stderr",
     "output_type": "stream",
     "text": [
      "\r",
      " 62%|███████████████████████████████████████████████████████████████████████████████████████████▉                                                         | 296/480 [1:09:24<38:36, 12.59s/it]"
     ]
    },
    {
     "name": "stderr",
     "output_type": "stream",
     "text": [
      "\r",
      " 62%|████████████████████████████████████████████████████████████████████████████████████████████▏                                                        | 297/480 [1:09:26<28:56,  9.49s/it]"
     ]
    },
    {
     "name": "stderr",
     "output_type": "stream",
     "text": [
      "\r",
      " 62%|████████████████████████████████████████████████████████████████████████████████████████████▌                                                        | 298/480 [1:09:30<23:39,  7.80s/it]"
     ]
    },
    {
     "name": "stderr",
     "output_type": "stream",
     "text": [
      "\r",
      " 62%|████████████████████████████████████████████████████████████████████████████████████████████▊                                                        | 299/480 [1:09:33<19:11,  6.36s/it]"
     ]
    },
    {
     "name": "stderr",
     "output_type": "stream",
     "text": [
      "\r",
      " 62%|█████████████████████████████████████████████████████████████████████████████████████████████▏                                                       | 300/480 [1:09:33<13:36,  4.54s/it]"
     ]
    },
    {
     "name": "stderr",
     "output_type": "stream",
     "text": [
      "\r",
      " 63%|█████████████████████████████████████████████████████████████████████████████████████████████▍                                                       | 301/480 [1:09:39<15:16,  5.12s/it]"
     ]
    },
    {
     "name": "stderr",
     "output_type": "stream",
     "text": [
      "\r",
      " 63%|█████████████████████████████████████████████████████████████████████████████████████████████▋                                                       | 302/480 [1:09:43<13:31,  4.56s/it]"
     ]
    },
    {
     "name": "stderr",
     "output_type": "stream",
     "text": [
      "\r",
      " 63%|██████████████████████████████████████████████████████████████████████████████████████████████                                                       | 303/480 [1:09:47<13:10,  4.46s/it]"
     ]
    },
    {
     "name": "stderr",
     "output_type": "stream",
     "text": [
      "\r",
      " 63%|██████████████████████████████████████████████████████████████████████████████████████████████▎                                                      | 304/480 [1:09:48<09:45,  3.33s/it]"
     ]
    },
    {
     "name": "stderr",
     "output_type": "stream",
     "text": [
      "\r",
      " 64%|██████████████████████████████████████████████████████████████████████████████████████████████▋                                                      | 305/480 [1:09:48<07:17,  2.50s/it]"
     ]
    },
    {
     "name": "stderr",
     "output_type": "stream",
     "text": [
      "\r",
      " 64%|███████████████████████████████████████████████████████████████████████████████████████████████▎                                                     | 307/480 [1:09:51<05:32,  1.92s/it]"
     ]
    },
    {
     "name": "stderr",
     "output_type": "stream",
     "text": [
      "\r",
      " 64%|███████████████████████████████████████████████████████████████████████████████████████████████▌                                                     | 308/480 [1:09:51<04:39,  1.62s/it]"
     ]
    },
    {
     "name": "stderr",
     "output_type": "stream",
     "text": [
      "\r",
      " 64%|███████████████████████████████████████████████████████████████████████████████████████████████▉                                                     | 309/480 [1:09:52<03:49,  1.34s/it]"
     ]
    },
    {
     "name": "stderr",
     "output_type": "stream",
     "text": [
      "\r",
      " 65%|████████████████████████████████████████████████████████████████████████████████████████████████▏                                                    | 310/480 [1:09:54<04:07,  1.45s/it]"
     ]
    },
    {
     "name": "stderr",
     "output_type": "stream",
     "text": [
      "\r",
      " 65%|███████████████████████████████████████████████████████████████████████████████████████████████▏                                                   | 311/480 [1:14:28<3:39:02, 77.77s/it]"
     ]
    },
    {
     "name": "stderr",
     "output_type": "stream",
     "text": [
      "\r",
      " 65%|███████████████████████████████████████████████████████████████████████████████████████████████▌                                                   | 312/480 [1:15:27<3:22:49, 72.44s/it]"
     ]
    },
    {
     "name": "stderr",
     "output_type": "stream",
     "text": [
      "\r",
      " 65%|███████████████████████████████████████████████████████████████████████████████████████████████▊                                                   | 313/480 [1:15:27<2:23:30, 51.56s/it]"
     ]
    },
    {
     "name": "stderr",
     "output_type": "stream",
     "text": [
      "\r",
      " 65%|████████████████████████████████████████████████████████████████████████████████████████████████▏                                                  | 314/480 [1:15:46<1:56:24, 42.07s/it]"
     ]
    },
    {
     "name": "stderr",
     "output_type": "stream",
     "text": [
      "\r",
      " 66%|████████████████████████████████████████████████████████████████████████████████████████████████▍                                                  | 315/480 [1:16:00<1:32:21, 33.59s/it]"
     ]
    },
    {
     "name": "stderr",
     "output_type": "stream",
     "text": [
      "\r",
      " 66%|████████████████████████████████████████████████████████████████████████████████████████████████▊                                                  | 316/480 [1:16:16<1:17:34, 28.38s/it]"
     ]
    },
    {
     "name": "stderr",
     "output_type": "stream",
     "text": [
      "\r",
      " 66%|█████████████████████████████████████████████████████████████████████████████████████████████████                                                  | 317/480 [1:16:40<1:14:09, 27.29s/it]"
     ]
    },
    {
     "name": "stderr",
     "output_type": "stream",
     "text": [
      "\r",
      " 66%|██████████████████████████████████████████████████████████████████████████████████████████████████▋                                                  | 318/480 [1:16:41<52:03, 19.28s/it]"
     ]
    },
    {
     "name": "stderr",
     "output_type": "stream",
     "text": [
      "\r",
      " 66%|███████████████████████████████████████████████████████████████████████████████████████████████████                                                  | 319/480 [1:16:41<36:32, 13.62s/it]"
     ]
    },
    {
     "name": "stderr",
     "output_type": "stream",
     "text": [
      "\r",
      " 67%|███████████████████████████████████████████████████████████████████████████████████████████████████▎                                                 | 320/480 [1:16:46<29:35, 11.10s/it]"
     ]
    },
    {
     "name": "stderr",
     "output_type": "stream",
     "text": [
      "\r",
      " 67%|███████████████████████████████████████████████████████████████████████████████████████████████████▋                                                 | 321/480 [1:16:56<28:32, 10.77s/it]"
     ]
    },
    {
     "name": "stderr",
     "output_type": "stream",
     "text": [
      "\r",
      " 67%|███████████████████████████████████████████████████████████████████████████████████████████████████▉                                                 | 322/480 [1:17:05<26:26, 10.04s/it]"
     ]
    },
    {
     "name": "stderr",
     "output_type": "stream",
     "text": [
      "\r",
      " 67%|████████████████████████████████████████████████████████████████████████████████████████████████████▎                                                | 323/480 [1:17:14<25:37,  9.79s/it]"
     ]
    },
    {
     "name": "stderr",
     "output_type": "stream",
     "text": [
      "\r",
      " 68%|████████████████████████████████████████████████████████████████████████████████████████████████████▌                                                | 324/480 [1:17:24<25:30,  9.81s/it]"
     ]
    },
    {
     "name": "stderr",
     "output_type": "stream",
     "text": [
      "\r",
      " 68%|████████████████████████████████████████████████████████████████████████████████████████████████████▉                                                | 325/480 [1:17:26<19:09,  7.42s/it]"
     ]
    },
    {
     "name": "stderr",
     "output_type": "stream",
     "text": [
      "\r",
      " 68%|█████████████████████████████████████████████████████████████████████████████████████████████████████▏                                               | 326/480 [1:17:28<15:11,  5.92s/it]"
     ]
    },
    {
     "name": "stderr",
     "output_type": "stream",
     "text": [
      "\r",
      " 68%|█████████████████████████████████████████████████████████████████████████████████████████████████████▌                                               | 327/480 [1:17:29<11:04,  4.34s/it]"
     ]
    },
    {
     "name": "stderr",
     "output_type": "stream",
     "text": [
      "\r",
      " 68%|█████████████████████████████████████████████████████████████████████████████████████████████████████▊                                               | 328/480 [1:17:33<11:06,  4.38s/it]"
     ]
    },
    {
     "name": "stderr",
     "output_type": "stream",
     "text": [
      "\r",
      " 69%|██████████████████████████████████████████████████████████████████████████████████████████████████████▍                                              | 330/480 [1:17:36<07:25,  2.97s/it]"
     ]
    },
    {
     "name": "stderr",
     "output_type": "stream",
     "text": [
      "\r",
      " 69%|██████████████████████████████████████████████████████████████████████████████████████████████████████▋                                              | 331/480 [1:17:37<06:03,  2.44s/it]"
     ]
    },
    {
     "name": "stderr",
     "output_type": "stream",
     "text": [
      "\r",
      " 69%|███████████████████████████████████████████████████████████████████████████████████████████████████████                                              | 332/480 [1:17:37<04:40,  1.90s/it]"
     ]
    },
    {
     "name": "stderr",
     "output_type": "stream",
     "text": [
      "\r",
      " 69%|███████████████████████████████████████████████████████████████████████████████████████████████████████▎                                             | 333/480 [1:17:38<03:47,  1.55s/it]"
     ]
    },
    {
     "name": "stderr",
     "output_type": "stream",
     "text": [
      "\r",
      " 70%|███████████████████████████████████████████████████████████████████████████████████████████████████████▋                                             | 334/480 [1:17:42<05:50,  2.40s/it]"
     ]
    },
    {
     "name": "stderr",
     "output_type": "stream",
     "text": [
      "\r",
      " 70%|██████████████████████████████████████████████████████████████████████████████████████████████████████▌                                            | 335/480 [1:22:09<3:08:26, 77.97s/it]"
     ]
    },
    {
     "name": "stderr",
     "output_type": "stream",
     "text": [
      "\r",
      " 70%|██████████████████████████████████████████████████████████████████████████████████████████████████████▉                                            | 336/480 [1:23:06<2:52:14, 71.77s/it]"
     ]
    },
    {
     "name": "stderr",
     "output_type": "stream",
     "text": [
      "\r",
      " 70%|███████████████████████████████████████████████████████████████████████████████████████████████████████▏                                           | 337/480 [1:23:11<2:04:19, 52.16s/it]"
     ]
    },
    {
     "name": "stderr",
     "output_type": "stream",
     "text": [
      "\r",
      " 70%|███████████████████████████████████████████████████████████████████████████████████████████████████████▌                                           | 338/480 [1:23:33<1:42:22, 43.25s/it]"
     ]
    },
    {
     "name": "stderr",
     "output_type": "stream",
     "text": [
      "\r",
      " 71%|███████████████████████████████████████████████████████████████████████████████████████████████████████▊                                           | 339/480 [1:23:35<1:13:09, 31.13s/it]"
     ]
    },
    {
     "name": "stderr",
     "output_type": "stream",
     "text": [
      "\r",
      " 71%|████████████████████████████████████████████████████████████████████████████████████████████████████████▏                                          | 340/480 [1:24:18<1:20:47, 34.62s/it]"
     ]
    },
    {
     "name": "stderr",
     "output_type": "stream",
     "text": [
      "\r",
      " 71%|████████████████████████████████████████████████████████████████████████████████████████████████████████▍                                          | 341/480 [1:24:41<1:12:01, 31.09s/it]"
     ]
    },
    {
     "name": "stderr",
     "output_type": "stream",
     "text": [
      "\r",
      " 71%|██████████████████████████████████████████████████████████████████████████████████████████████████████████▏                                          | 342/480 [1:24:41<50:25, 21.93s/it]"
     ]
    },
    {
     "name": "stderr",
     "output_type": "stream",
     "text": [
      "\r",
      " 71%|██████████████████████████████████████████████████████████████████████████████████████████████████████████▍                                          | 343/480 [1:24:41<35:17, 15.46s/it]"
     ]
    },
    {
     "name": "stderr",
     "output_type": "stream",
     "text": [
      "\r",
      " 72%|██████████████████████████████████████████████████████████████████████████████████████████████████████████▊                                          | 344/480 [1:24:46<27:54, 12.31s/it]"
     ]
    },
    {
     "name": "stderr",
     "output_type": "stream",
     "text": [
      "\r",
      " 72%|███████████████████████████████████████████████████████████████████████████████████████████████████████████                                          | 345/480 [1:24:56<26:03, 11.58s/it]"
     ]
    },
    {
     "name": "stderr",
     "output_type": "stream",
     "text": [
      "\r",
      " 72%|███████████████████████████████████████████████████████████████████████████████████████████████████████████▍                                         | 346/480 [1:25:05<24:04, 10.78s/it]"
     ]
    },
    {
     "name": "stderr",
     "output_type": "stream",
     "text": [
      "\r",
      " 72%|███████████████████████████████████████████████████████████████████████████████████████████████████████████▋                                         | 347/480 [1:25:12<21:30,  9.70s/it]"
     ]
    },
    {
     "name": "stderr",
     "output_type": "stream",
     "text": [
      "\r",
      " 72%|████████████████████████████████████████████████████████████████████████████████████████████████████████████                                         | 348/480 [1:25:14<16:21,  7.44s/it]"
     ]
    },
    {
     "name": "stderr",
     "output_type": "stream",
     "text": [
      "\r",
      " 73%|████████████████████████████████████████████████████████████████████████████████████████████████████████████▎                                        | 349/480 [1:25:15<11:53,  5.45s/it]"
     ]
    },
    {
     "name": "stderr",
     "output_type": "stream",
     "text": [
      "\r",
      " 73%|████████████████████████████████████████████████████████████████████████████████████████████████████████████▋                                        | 350/480 [1:25:18<10:12,  4.71s/it]"
     ]
    },
    {
     "name": "stderr",
     "output_type": "stream",
     "text": [
      "\r",
      " 73%|████████████████████████████████████████████████████████████████████████████████████████████████████████████▉                                        | 351/480 [1:25:19<07:35,  3.53s/it]"
     ]
    },
    {
     "name": "stderr",
     "output_type": "stream",
     "text": [
      "\r",
      " 73%|█████████████████████████████████████████████████████████████████████████████████████████████████████████████▎                                       | 352/480 [1:25:24<08:29,  3.98s/it]"
     ]
    },
    {
     "name": "stderr",
     "output_type": "stream",
     "text": [
      "\r",
      " 74%|█████████████████████████████████████████████████████████████████████████████████████████████████████████████▉                                       | 354/480 [1:25:27<06:02,  2.87s/it]"
     ]
    },
    {
     "name": "stderr",
     "output_type": "stream",
     "text": [
      "\r",
      " 74%|██████████████████████████████████████████████████████████████████████████████████████████████████████████████▏                                      | 355/480 [1:25:28<04:44,  2.28s/it]"
     ]
    },
    {
     "name": "stderr",
     "output_type": "stream",
     "text": [
      "\r",
      " 74%|██████████████████████████████████████████████████████████████████████████████████████████████████████████████▌                                      | 356/480 [1:25:28<03:42,  1.79s/it]"
     ]
    },
    {
     "name": "stderr",
     "output_type": "stream",
     "text": [
      "\r",
      " 74%|██████████████████████████████████████████████████████████████████████████████████████████████████████████████▊                                      | 357/480 [1:25:30<03:37,  1.77s/it]"
     ]
    },
    {
     "name": "stderr",
     "output_type": "stream",
     "text": [
      "\r",
      " 75%|███████████████████████████████████████████████████████████████████████████████████████████████████████████████▏                                     | 358/480 [1:25:33<04:21,  2.14s/it]"
     ]
    },
    {
     "name": "stderr",
     "output_type": "stream",
     "text": [
      "\r",
      " 75%|█████████████████████████████████████████████████████████████████████████████████████████████████████████████▉                                     | 359/480 [1:30:27<2:52:26, 85.51s/it]"
     ]
    },
    {
     "name": "stderr",
     "output_type": "stream",
     "text": [
      "\r",
      " 75%|██████████████████████████████████████████████████████████████████████████████████████████████████████████████▎                                    | 360/480 [1:31:20<2:32:29, 76.24s/it]"
     ]
    },
    {
     "name": "stderr",
     "output_type": "stream",
     "text": [
      "\r",
      " 75%|██████████████████████████████████████████████████████████████████████████████████████████████████████████████▌                                    | 361/480 [1:31:30<1:52:20, 56.65s/it]"
     ]
    },
    {
     "name": "stderr",
     "output_type": "stream",
     "text": [
      "\r",
      " 75%|██████████████████████████████████████████████████████████████████████████████████████████████████████████████▊                                    | 362/480 [1:31:50<1:30:14, 45.89s/it]"
     ]
    },
    {
     "name": "stderr",
     "output_type": "stream",
     "text": [
      "\r",
      " 76%|███████████████████████████████████████████████████████████████████████████████████████████████████████████████▏                                   | 363/480 [1:32:08<1:13:25, 37.65s/it]"
     ]
    },
    {
     "name": "stderr",
     "output_type": "stream",
     "text": [
      "\r",
      " 76%|███████████████████████████████████████████████████████████████████████████████████████████████████████████████▍                                   | 364/480 [1:32:32<1:05:02, 33.64s/it]"
     ]
    },
    {
     "name": "stderr",
     "output_type": "stream",
     "text": [
      "\r",
      " 76%|█████████████████████████████████████████████████████████████████████████████████████████████████████████████████▎                                   | 365/480 [1:32:42<50:43, 26.46s/it]"
     ]
    },
    {
     "name": "stderr",
     "output_type": "stream",
     "text": [
      "\r",
      " 76%|█████████████████████████████████████████████████████████████████████████████████████████████████████████████████▌                                   | 366/480 [1:32:42<35:31, 18.69s/it]"
     ]
    },
    {
     "name": "stderr",
     "output_type": "stream",
     "text": [
      "\r",
      " 76%|█████████████████████████████████████████████████████████████████████████████████████████████████████████████████▉                                   | 367/480 [1:32:43<24:51, 13.20s/it]"
     ]
    },
    {
     "name": "stderr",
     "output_type": "stream",
     "text": [
      "\r",
      " 77%|██████████████████████████████████████████████████████████████████████████████████████████████████████████████████▏                                  | 368/480 [1:32:48<20:20, 10.89s/it]"
     ]
    },
    {
     "name": "stderr",
     "output_type": "stream",
     "text": [
      "\r",
      " 77%|██████████████████████████████████████████████████████████████████████████████████████████████████████████████████▌                                  | 369/480 [1:32:58<19:41, 10.65s/it]"
     ]
    },
    {
     "name": "stderr",
     "output_type": "stream",
     "text": [
      "\r",
      " 77%|██████████████████████████████████████████████████████████████████████████████████████████████████████████████████▊                                  | 370/480 [1:33:07<18:48, 10.26s/it]"
     ]
    },
    {
     "name": "stderr",
     "output_type": "stream",
     "text": [
      "\r",
      " 77%|███████████████████████████████████████████████████████████████████████████████████████████████████████████████████▏                                 | 371/480 [1:33:17<18:06,  9.97s/it]"
     ]
    },
    {
     "name": "stderr",
     "output_type": "stream",
     "text": [
      "\r",
      " 78%|███████████████████████████████████████████████████████████████████████████████████████████████████████████████████▍                                 | 372/480 [1:33:31<20:23, 11.33s/it]"
     ]
    },
    {
     "name": "stderr",
     "output_type": "stream",
     "text": [
      "\r",
      " 78%|███████████████████████████████████████████████████████████████████████████████████████████████████████████████████▊                                 | 373/480 [1:33:34<15:43,  8.82s/it]"
     ]
    },
    {
     "name": "stderr",
     "output_type": "stream",
     "text": [
      "\r",
      " 78%|████████████████████████████████████████████████████████████████████████████████████████████████████████████████████                                 | 374/480 [1:33:37<12:12,  6.91s/it]"
     ]
    },
    {
     "name": "stderr",
     "output_type": "stream",
     "text": [
      "\r",
      " 78%|████████████████████████████████████████████████████████████████████████████████████████████████████████████████████▍                                | 375/480 [1:33:38<08:54,  5.09s/it]"
     ]
    },
    {
     "name": "stderr",
     "output_type": "stream",
     "text": [
      "\r",
      " 78%|████████████████████████████████████████████████████████████████████████████████████████████████████████████████████▋                                | 376/480 [1:33:42<08:32,  4.92s/it]"
     ]
    },
    {
     "name": "stderr",
     "output_type": "stream",
     "text": [
      "\r",
      " 79%|█████████████████████████████████████████████████████████████████████████████████████████████████████████████████████                                | 377/480 [1:33:42<05:59,  3.49s/it]"
     ]
    },
    {
     "name": "stderr",
     "output_type": "stream",
     "text": [
      "\r",
      " 79%|█████████████████████████████████████████████████████████████████████████████████████████████████████████████████████▎                               | 378/480 [1:33:46<06:04,  3.57s/it]"
     ]
    },
    {
     "name": "stderr",
     "output_type": "stream",
     "text": [
      "\r",
      " 79%|█████████████████████████████████████████████████████████████████████████████████████████████████████████████████████▋                               | 379/480 [1:33:46<04:22,  2.60s/it]"
     ]
    },
    {
     "name": "stderr",
     "output_type": "stream",
     "text": [
      "\r",
      " 79%|█████████████████████████████████████████████████████████████████████████████████████████████████████████████████████▉                               | 380/480 [1:33:47<03:13,  1.93s/it]"
     ]
    },
    {
     "name": "stderr",
     "output_type": "stream",
     "text": [
      "\r",
      " 79%|██████████████████████████████████████████████████████████████████████████████████████████████████████████████████████▎                              | 381/480 [1:33:49<03:26,  2.09s/it]"
     ]
    },
    {
     "name": "stderr",
     "output_type": "stream",
     "text": [
      "\r",
      " 80%|██████████████████████████████████████████████████████████████████████████████████████████████████████████████████████▌                              | 382/480 [1:33:53<04:24,  2.70s/it]"
     ]
    },
    {
     "name": "stderr",
     "output_type": "stream",
     "text": [
      "\r",
      " 80%|█████████████████████████████████████████████████████████████████████████████████████████████████████████████████████▎                             | 383/480 [1:38:34<2:19:17, 86.16s/it]"
     ]
    },
    {
     "name": "stderr",
     "output_type": "stream",
     "text": [
      "\r",
      " 80%|█████████████████████████████████████████████████████████████████████████████████████████████████████████████████████▌                             | 384/480 [1:39:49<2:12:39, 82.91s/it]"
     ]
    },
    {
     "name": "stderr",
     "output_type": "stream",
     "text": [
      "\r",
      " 80%|█████████████████████████████████████████████████████████████████████████████████████████████████████████████████████▉                             | 385/480 [1:39:58<1:35:56, 60.60s/it]"
     ]
    },
    {
     "name": "stderr",
     "output_type": "stream",
     "text": [
      "\r",
      " 80%|██████████████████████████████████████████████████████████████████████████████████████████████████████████████████████▏                            | 386/480 [1:39:59<1:06:43, 42.59s/it]"
     ]
    },
    {
     "name": "stderr",
     "output_type": "stream",
     "text": [
      "\r",
      " 81%|████████████████████████████████████████████████████████████████████████████████████████████████████████████████████████▏                            | 387/480 [1:40:08<50:27, 32.55s/it]"
     ]
    },
    {
     "name": "stderr",
     "output_type": "stream",
     "text": [
      "\r",
      " 81%|██████████████████████████████████████████████████████████████████████████████████████████████████████████████████████▊                            | 388/480 [1:41:05<1:01:04, 39.83s/it]"
     ]
    },
    {
     "name": "stderr",
     "output_type": "stream",
     "text": [
      "\r",
      " 81%|████████████████████████████████████████████████████████████████████████████████████████████████████████████████████████▊                            | 389/480 [1:41:36<56:38, 37.35s/it]"
     ]
    },
    {
     "name": "stderr",
     "output_type": "stream",
     "text": [
      "\r",
      " 81%|█████████████████████████████████████████████████████████████████████████████████████████████████████████████████████████                            | 390/480 [1:41:37<39:25, 26.29s/it]"
     ]
    },
    {
     "name": "stderr",
     "output_type": "stream",
     "text": [
      "\r",
      " 81%|█████████████████████████████████████████████████████████████████████████████████████████████████████████████████████████▎                           | 391/480 [1:41:37<27:26, 18.50s/it]"
     ]
    },
    {
     "name": "stderr",
     "output_type": "stream",
     "text": [
      "\r",
      " 82%|█████████████████████████████████████████████████████████████████████████████████████████████████████████████████████████▋                           | 392/480 [1:41:42<21:14, 14.49s/it]"
     ]
    },
    {
     "name": "stderr",
     "output_type": "stream",
     "text": [
      "\r",
      " 82%|█████████████████████████████████████████████████████████████████████████████████████████████████████████████████████████▉                           | 393/480 [1:41:44<15:47, 10.89s/it]"
     ]
    },
    {
     "name": "stderr",
     "output_type": "stream",
     "text": [
      "\r",
      " 82%|██████████████████████████████████████████████████████████████████████████████████████████████████████████████████████████▎                          | 394/480 [1:41:53<14:33, 10.16s/it]"
     ]
    },
    {
     "name": "stderr",
     "output_type": "stream",
     "text": [
      "\r",
      " 82%|██████████████████████████████████████████████████████████████████████████████████████████████████████████████████████████▌                          | 395/480 [1:41:54<10:39,  7.53s/it]"
     ]
    },
    {
     "name": "stderr",
     "output_type": "stream",
     "text": [
      "\r",
      " 82%|██████████████████████████████████████████████████████████████████████████████████████████████████████████████████████████▉                          | 396/480 [1:41:55<07:26,  5.32s/it]"
     ]
    },
    {
     "name": "stderr",
     "output_type": "stream",
     "text": [
      "\r",
      " 83%|███████████████████████████████████████████████████████████████████████████████████████████████████████████████████████████▏                         | 397/480 [1:42:03<08:34,  6.20s/it]"
     ]
    },
    {
     "name": "stderr",
     "output_type": "stream",
     "text": [
      "\r",
      " 83%|███████████████████████████████████████████████████████████████████████████████████████████████████████████████████████████▌                         | 398/480 [1:42:06<07:12,  5.27s/it]"
     ]
    },
    {
     "name": "stderr",
     "output_type": "stream",
     "text": [
      "\r",
      " 83%|███████████████████████████████████████████████████████████████████████████████████████████████████████████████████████████▊                         | 399/480 [1:42:10<06:37,  4.91s/it]"
     ]
    },
    {
     "name": "stderr",
     "output_type": "stream",
     "text": [
      "\r",
      " 83%|████████████████████████████████████████████████████████████████████████████████████████████████████████████████████████████▏                        | 400/480 [1:42:11<04:56,  3.71s/it]"
     ]
    },
    {
     "name": "stderr",
     "output_type": "stream",
     "text": [
      "\r",
      " 84%|████████████████████████████████████████████████████████████████████████████████████████████████████████████████████████████▍                        | 401/480 [1:42:11<03:37,  2.75s/it]"
     ]
    },
    {
     "name": "stderr",
     "output_type": "stream",
     "text": [
      "\r",
      " 84%|████████████████████████████████████████████████████████████████████████████████████████████████████████████████████████████▊                        | 402/480 [1:42:15<04:06,  3.15s/it]"
     ]
    },
    {
     "name": "stderr",
     "output_type": "stream",
     "text": [
      "\r",
      " 84%|█████████████████████████████████████████████████████████████████████████████████████████████████████████████████████████████                        | 403/480 [1:42:16<02:54,  2.26s/it]"
     ]
    },
    {
     "name": "stderr",
     "output_type": "stream",
     "text": [
      "\r",
      " 84%|█████████████████████████████████████████████████████████████████████████████████████████████████████████████████████████████▍                       | 404/480 [1:42:16<02:14,  1.77s/it]"
     ]
    },
    {
     "name": "stderr",
     "output_type": "stream",
     "text": [
      "\r",
      " 84%|█████████████████████████████████████████████████████████████████████████████████████████████████████████████████████████████▋                       | 405/480 [1:42:17<01:45,  1.40s/it]"
     ]
    },
    {
     "name": "stderr",
     "output_type": "stream",
     "text": [
      "\r",
      " 85%|██████████████████████████████████████████████████████████████████████████████████████████████████████████████████████████████                       | 406/480 [1:42:22<03:05,  2.51s/it]"
     ]
    },
    {
     "name": "stderr",
     "output_type": "stream",
     "text": [
      "\r",
      " 85%|████████████████████████████████████████████████████████████████████████████████████████████████████████████████████████████▋                      | 407/480 [1:47:36<1:56:56, 96.11s/it]"
     ]
    },
    {
     "name": "stderr",
     "output_type": "stream",
     "text": [
      "\r",
      " 85%|████████████████████████████████████████████████████████████████████████████████████████████████████████████████████████████▉                      | 408/480 [1:48:29<1:39:43, 83.10s/it]"
     ]
    },
    {
     "name": "stderr",
     "output_type": "stream",
     "text": [
      "\r",
      " 85%|█████████████████████████████████████████████████████████████████████████████████████████████████████████████████████████████▎                     | 409/480 [1:48:35<1:10:48, 59.84s/it]"
     ]
    },
    {
     "name": "stderr",
     "output_type": "stream",
     "text": [
      "\r",
      " 85%|█████████████████████████████████████████████████████████████████████████████████████████████████████████████████████████████▌                     | 410/480 [1:49:08<1:00:21, 51.73s/it]"
     ]
    },
    {
     "name": "stderr",
     "output_type": "stream",
     "text": [
      "\r",
      " 86%|███████████████████████████████████████████████████████████████████████████████████████████████████████████████████████████████▌                     | 411/480 [1:49:52<56:56, 49.51s/it]"
     ]
    },
    {
     "name": "stderr",
     "output_type": "stream",
     "text": [
      "\r",
      " 86%|███████████████████████████████████████████████████████████████████████████████████████████████████████████████████████████████▉                     | 412/480 [1:49:52<39:26, 34.79s/it]"
     ]
    },
    {
     "name": "stderr",
     "output_type": "stream",
     "text": [
      "\r",
      " 86%|████████████████████████████████████████████████████████████████████████████████████████████████████████████████████████████████▏                    | 413/480 [1:49:58<28:57, 25.93s/it]"
     ]
    },
    {
     "name": "stderr",
     "output_type": "stream",
     "text": [
      "\r",
      " 86%|████████████████████████████████████████████████████████████████████████████████████████████████████████████████████████████████▌                    | 414/480 [1:49:58<20:07, 18.29s/it]"
     ]
    },
    {
     "name": "stderr",
     "output_type": "stream",
     "text": [
      "\r",
      " 86%|████████████████████████████████████████████████████████████████████████████████████████████████████████████████████████████████▊                    | 415/480 [1:49:58<13:59, 12.91s/it]"
     ]
    },
    {
     "name": "stderr",
     "output_type": "stream",
     "text": [
      "\r",
      " 87%|█████████████████████████████████████████████████████████████████████████████████████████████████████████████████████████████████▏                   | 416/480 [1:50:04<11:27, 10.74s/it]"
     ]
    },
    {
     "name": "stderr",
     "output_type": "stream",
     "text": [
      "\r",
      " 87%|█████████████████████████████████████████████████████████████████████████████████████████████████████████████████████████████████▍                   | 417/480 [1:50:15<11:20, 10.80s/it]"
     ]
    },
    {
     "name": "stderr",
     "output_type": "stream",
     "text": [
      "\r",
      " 87%|█████████████████████████████████████████████████████████████████████████████████████████████████████████████████████████████████▊                   | 418/480 [1:50:25<10:49, 10.47s/it]"
     ]
    },
    {
     "name": "stderr",
     "output_type": "stream",
     "text": [
      "\r",
      " 87%|██████████████████████████████████████████████████████████████████████████████████████████████████████████████████████████████████                   | 419/480 [1:50:34<10:23, 10.22s/it]"
     ]
    },
    {
     "name": "stderr",
     "output_type": "stream",
     "text": [
      "\r",
      " 88%|██████████████████████████████████████████████████████████████████████████████████████████████████████████████████████████████████▍                  | 420/480 [1:50:50<11:48, 11.81s/it]"
     ]
    },
    {
     "name": "stderr",
     "output_type": "stream",
     "text": [
      "\r",
      " 88%|██████████████████████████████████████████████████████████████████████████████████████████████████████████████████████████████████▋                  | 421/480 [1:50:53<09:11,  9.34s/it]"
     ]
    },
    {
     "name": "stderr",
     "output_type": "stream",
     "text": [
      "\r",
      " 88%|██████████████████████████████████████████████████████████████████████████████████████████████████████████████████████████████████▉                  | 422/480 [1:50:57<07:18,  7.56s/it]"
     ]
    },
    {
     "name": "stderr",
     "output_type": "stream",
     "text": [
      "\r",
      " 88%|███████████████████████████████████████████████████████████████████████████████████████████████████████████████████████████████████▎                 | 423/480 [1:50:58<05:27,  5.75s/it]"
     ]
    },
    {
     "name": "stderr",
     "output_type": "stream",
     "text": [
      "\r",
      " 88%|███████████████████████████████████████████████████████████████████████████████████████████████████████████████████████████████████▌                 | 424/480 [1:51:03<05:04,  5.43s/it]"
     ]
    },
    {
     "name": "stderr",
     "output_type": "stream",
     "text": [
      "\r",
      " 89%|███████████████████████████████████████████████████████████████████████████████████████████████████████████████████████████████████▉                 | 425/480 [1:51:04<03:40,  4.02s/it]"
     ]
    },
    {
     "name": "stderr",
     "output_type": "stream",
     "text": [
      "\r",
      " 89%|████████████████████████████████████████████████████████████████████████████████████████████████████████████████████████████████████▏                | 426/480 [1:51:07<03:18,  3.67s/it]"
     ]
    },
    {
     "name": "stderr",
     "output_type": "stream",
     "text": [
      "\r",
      " 89%|████████████████████████████████████████████████████████████████████████████████████████████████████████████████████████████████████▌                | 427/480 [1:51:08<02:32,  2.87s/it]"
     ]
    },
    {
     "name": "stderr",
     "output_type": "stream",
     "text": [
      "\r",
      " 89%|█████████████████████████████████████████████████████████████████████████████████████████████████████████████████████████████████████▏               | 429/480 [1:51:13<02:27,  2.88s/it]"
     ]
    },
    {
     "name": "stderr",
     "output_type": "stream",
     "text": [
      "\r",
      " 90%|█████████████████████████████████████████████████████████████████████████████████████████████████████████████████████████████████████▍               | 430/480 [1:51:36<06:23,  7.67s/it]"
     ]
    },
    {
     "name": "stderr",
     "output_type": "stream",
     "text": [
      "\r",
      " 90%|███████████████████████████████████████████████████████████████████████████████████████████████████████████████████████████████████▉               | 431/480 [1:56:17<1:04:39, 79.16s/it]"
     ]
    },
    {
     "name": "stderr",
     "output_type": "stream",
     "text": [
      "\r",
      " 90%|████████████████████████████████████████████████████████████████████████████████████████████████████████████████████████████████████▎              | 432/480 [1:57:32<1:02:33, 78.20s/it]"
     ]
    },
    {
     "name": "stderr",
     "output_type": "stream",
     "text": [
      "\r",
      " 90%|██████████████████████████████████████████████████████████████████████████████████████████████████████████████████████████████████████▍              | 433/480 [1:57:56<49:15, 62.88s/it]"
     ]
    },
    {
     "name": "stderr",
     "output_type": "stream",
     "text": [
      "\r",
      " 90%|██████████████████████████████████████████████████████████████████████████████████████████████████████████████████████████████████████▋              | 434/480 [1:58:00<35:23, 46.17s/it]"
     ]
    },
    {
     "name": "stderr",
     "output_type": "stream",
     "text": [
      "\r",
      " 91%|███████████████████████████████████████████████████████████████████████████████████████████████████████████████████████████████████████              | 435/480 [1:58:51<35:44, 47.65s/it]"
     ]
    },
    {
     "name": "stderr",
     "output_type": "stream",
     "text": [
      "\r",
      " 91%|███████████████████████████████████████████████████████████████████████████████████████████████████████████████████████████████████████▎             | 436/480 [1:58:53<25:02, 34.15s/it]"
     ]
    },
    {
     "name": "stderr",
     "output_type": "stream",
     "text": [
      "\r",
      " 91%|███████████████████████████████████████████████████████████████████████████████████████████████████████████████████████████████████████▋             | 437/480 [1:59:14<21:47, 30.40s/it]"
     ]
    },
    {
     "name": "stderr",
     "output_type": "stream",
     "text": [
      "\r",
      " 91%|███████████████████████████████████████████████████████████████████████████████████████████████████████████████████████████████████████▉             | 438/480 [1:59:15<15:04, 21.53s/it]"
     ]
    },
    {
     "name": "stderr",
     "output_type": "stream",
     "text": [
      "\r",
      " 91%|████████████████████████████████████████████████████████████████████████████████████████████████████████████████████████████████████████▎            | 439/480 [1:59:15<10:23, 15.22s/it]"
     ]
    },
    {
     "name": "stderr",
     "output_type": "stream",
     "text": [
      "\r",
      " 92%|████████████████████████████████████████████████████████████████████████████████████████████████████████████████████████████████████████▌            | 440/480 [1:59:21<08:11, 12.30s/it]"
     ]
    },
    {
     "name": "stderr",
     "output_type": "stream",
     "text": [
      "\r",
      " 92%|████████████████████████████████████████████████████████████████████████████████████████████████████████████████████████████████████████▉            | 441/480 [1:59:32<07:45, 11.93s/it]"
     ]
    },
    {
     "name": "stderr",
     "output_type": "stream",
     "text": [
      "\r",
      " 92%|█████████████████████████████████████████████████████████████████████████████████████████████████████████████████████████████████████████▏           | 442/480 [1:59:41<07:01, 11.09s/it]"
     ]
    },
    {
     "name": "stderr",
     "output_type": "stream",
     "text": [
      "\r",
      " 92%|█████████████████████████████████████████████████████████████████████████████████████████████████████████████████████████████████████████▌           | 443/480 [1:59:51<06:41, 10.86s/it]"
     ]
    },
    {
     "name": "stderr",
     "output_type": "stream",
     "text": [
      "\r",
      " 92%|█████████████████████████████████████████████████████████████████████████████████████████████████████████████████████████████████████████▊           | 444/480 [1:59:51<04:35,  7.64s/it]"
     ]
    },
    {
     "name": "stderr",
     "output_type": "stream",
     "text": [
      "\r",
      " 93%|██████████████████████████████████████████████████████████████████████████████████████████████████████████████████████████████████████████▏          | 445/480 [2:00:08<06:03, 10.38s/it]"
     ]
    },
    {
     "name": "stderr",
     "output_type": "stream",
     "text": [
      "\r",
      " 93%|██████████████████████████████████████████████████████████████████████████████████████████████████████████████████████████████████████████▍          | 446/480 [2:00:09<04:20,  7.66s/it]"
     ]
    },
    {
     "name": "stderr",
     "output_type": "stream",
     "text": [
      "\r",
      " 93%|██████████████████████████████████████████████████████████████████████████████████████████████████████████████████████████████████████████▊          | 447/480 [2:00:11<03:19,  6.03s/it]"
     ]
    },
    {
     "name": "stderr",
     "output_type": "stream",
     "text": [
      "\r",
      " 93%|███████████████████████████████████████████████████████████████████████████████████████████████████████████████████████████████████████████          | 448/480 [2:00:15<02:52,  5.38s/it]"
     ]
    },
    {
     "name": "stderr",
     "output_type": "stream",
     "text": [
      "\r",
      " 94%|███████████████████████████████████████████████████████████████████████████████████████████████████████████████████████████████████████████▍         | 449/480 [2:00:17<02:10,  4.22s/it]"
     ]
    },
    {
     "name": "stderr",
     "output_type": "stream",
     "text": [
      "\r",
      " 94%|███████████████████████████████████████████████████████████████████████████████████████████████████████████████████████████████████████████▋         | 450/480 [2:00:20<01:54,  3.81s/it]"
     ]
    },
    {
     "name": "stderr",
     "output_type": "stream",
     "text": [
      "\r",
      " 94%|███████████████████████████████████████████████████████████████████████████████████████████████████████████████████████████████████████████▉         | 451/480 [2:00:21<01:28,  3.06s/it]"
     ]
    },
    {
     "name": "stderr",
     "output_type": "stream",
     "text": [
      "\r",
      " 94%|████████████████████████████████████████████████████████████████████████████████████████████████████████████████████████████████████████████▎        | 452/480 [2:00:24<01:27,  3.13s/it]"
     ]
    },
    {
     "name": "stderr",
     "output_type": "stream",
     "text": [
      "\r",
      " 94%|████████████████████████████████████████████████████████████████████████████████████████████████████████████████████████████████████████████▌        | 453/480 [2:00:27<01:17,  2.85s/it]"
     ]
    },
    {
     "name": "stderr",
     "output_type": "stream",
     "text": [
      "\r",
      " 95%|████████████████████████████████████████████████████████████████████████████████████████████████████████████████████████████████████████████▉        | 454/480 [2:00:41<02:44,  6.31s/it]"
     ]
    },
    {
     "name": "stderr",
     "output_type": "stream",
     "text": [
      "\r",
      " 95%|█████████████████████████████████████████████████████████████████████████████████████████████████████████████████████████████████████████████▏       | 455/480 [2:05:59<41:37, 99.91s/it]"
     ]
    },
    {
     "name": "stderr",
     "output_type": "stream",
     "text": [
      "\r",
      " 95%|█████████████████████████████████████████████████████████████████████████████████████████████████████████████████████████████████████████████▌       | 456/480 [2:06:54<34:31, 86.32s/it]"
     ]
    },
    {
     "name": "stderr",
     "output_type": "stream",
     "text": [
      "\r",
      " 95%|█████████████████████████████████████████████████████████████████████████████████████████████████████████████████████████████████████████████▊       | 457/480 [2:07:01<24:01, 62.67s/it]"
     ]
    },
    {
     "name": "stderr",
     "output_type": "stream",
     "text": [
      "\r",
      " 95%|██████████████████████████████████████████████████████████████████████████████████████████████████████████████████████████████████████████████▏      | 458/480 [2:07:43<20:39, 56.34s/it]"
     ]
    },
    {
     "name": "stderr",
     "output_type": "stream",
     "text": [
      "\r",
      " 96%|██████████████████████████████████████████████████████████████████████████████████████████████████████████████████████████████████████████████▍      | 459/480 [2:08:23<17:58, 51.37s/it]"
     ]
    },
    {
     "name": "stderr",
     "output_type": "stream",
     "text": [
      "\r",
      " 96%|██████████████████████████████████████████████████████████████████████████████████████████████████████████████████████████████████████████████▊      | 460/480 [2:08:40<13:40, 41.01s/it]"
     ]
    },
    {
     "name": "stderr",
     "output_type": "stream",
     "text": [
      "\r",
      " 96%|███████████████████████████████████████████████████████████████████████████████████████████████████████████████████████████████████████████████      | 461/480 [2:08:41<09:11, 29.04s/it]"
     ]
    },
    {
     "name": "stderr",
     "output_type": "stream",
     "text": [
      "\r",
      " 96%|███████████████████████████████████████████████████████████████████████████████████████████████████████████████████████████████████████████████▍     | 462/480 [2:08:41<06:09, 20.52s/it]"
     ]
    },
    {
     "name": "stderr",
     "output_type": "stream",
     "text": [
      "\r",
      " 96%|███████████████████████████████████████████████████████████████████████████████████████████████████████████████████████████████████████████████▋     | 463/480 [2:08:42<04:06, 14.52s/it]"
     ]
    },
    {
     "name": "stderr",
     "output_type": "stream",
     "text": [
      "\r",
      " 97%|████████████████████████████████████████████████████████████████████████████████████████████████████████████████████████████████████████████████     | 464/480 [2:08:48<03:11, 11.94s/it]"
     ]
    },
    {
     "name": "stderr",
     "output_type": "stream",
     "text": [
      "\r",
      " 97%|████████████████████████████████████████████████████████████████████████████████████████████████████████████████████████████████████████████████▎    | 465/480 [2:08:58<02:52, 11.53s/it]"
     ]
    },
    {
     "name": "stderr",
     "output_type": "stream",
     "text": [
      "\r",
      " 97%|████████████████████████████████████████████████████████████████████████████████████████████████████████████████████████████████████████████████▋    | 466/480 [2:09:08<02:33, 10.94s/it]"
     ]
    },
    {
     "name": "stderr",
     "output_type": "stream",
     "text": [
      "\r",
      " 97%|████████████████████████████████████████████████████████████████████████████████████████████████████████████████████████████████████████████████▉    | 467/480 [2:09:18<02:17, 10.57s/it]"
     ]
    },
    {
     "name": "stderr",
     "output_type": "stream",
     "text": [
      "\r",
      " 98%|█████████████████████████████████████████████████████████████████████████████████████████████████████████████████████████████████████████████████▎   | 468/480 [2:09:32<02:21, 11.75s/it]"
     ]
    },
    {
     "name": "stderr",
     "output_type": "stream",
     "text": [
      "\r",
      " 98%|█████████████████████████████████████████████████████████████████████████████████████████████████████████████████████████████████████████████████▌   | 469/480 [2:09:34<01:38,  8.96s/it]"
     ]
    },
    {
     "name": "stderr",
     "output_type": "stream",
     "text": [
      "\r",
      " 98%|█████████████████████████████████████████████████████████████████████████████████████████████████████████████████████████████████████████████████▉   | 470/480 [2:09:38<01:13,  7.32s/it]"
     ]
    },
    {
     "name": "stderr",
     "output_type": "stream",
     "text": [
      "\r",
      " 98%|██████████████████████████████████████████████████████████████████████████████████████████████████████████████████████████████████████████████████▏  | 471/480 [2:09:38<00:46,  5.22s/it]"
     ]
    },
    {
     "name": "stderr",
     "output_type": "stream",
     "text": [
      "\r",
      " 98%|██████████████████████████████████████████████████████████████████████████████████████████████████████████████████████████████████████████████████▌  | 472/480 [2:09:43<00:41,  5.13s/it]"
     ]
    },
    {
     "name": "stderr",
     "output_type": "stream",
     "text": [
      "\r",
      " 99%|██████████████████████████████████████████████████████████████████████████████████████████████████████████████████████████████████████████████████▊  | 473/480 [2:09:44<00:26,  3.72s/it]"
     ]
    },
    {
     "name": "stderr",
     "output_type": "stream",
     "text": [
      "\r",
      " 99%|███████████████████████████████████████████████████████████████████████████████████████████████████████████████████████████████████████████████████▏ | 474/480 [2:09:48<00:22,  3.77s/it]"
     ]
    },
    {
     "name": "stderr",
     "output_type": "stream",
     "text": [
      "\r",
      " 99%|███████████████████████████████████████████████████████████████████████████████████████████████████████████████████████████████████████████████████▍ | 475/480 [2:09:48<00:14,  2.80s/it]"
     ]
    },
    {
     "name": "stderr",
     "output_type": "stream",
     "text": [
      "\r",
      " 99%|███████████████████████████████████████████████████████████████████████████████████████████████████████████████████████████████████████████████████▊ | 476/480 [2:09:50<00:10,  2.56s/it]"
     ]
    },
    {
     "name": "stderr",
     "output_type": "stream",
     "text": [
      "\r",
      " 99%|████████████████████████████████████████████████████████████████████████████████████████████████████████████████████████████████████████████████████ | 477/480 [2:09:54<00:09,  3.02s/it]"
     ]
    },
    {
     "name": "stderr",
     "output_type": "stream",
     "text": [
      "\r",
      "100%|████████████████████████████████████████████████████████████████████████████████████████████████████████████████████████████████████████████████████▍| 478/480 [2:10:08<00:12,  6.15s/it]"
     ]
    },
    {
     "name": "stderr",
     "output_type": "stream",
     "text": [
      "\r",
      "100%|███████████████████████████████████████████████████████████████████████████████████████████████████████████████████████████████████████████████████▋| 479/480 [2:16:05<01:51, 111.43s/it]"
     ]
    },
    {
     "name": "stderr",
     "output_type": "stream",
     "text": [
      "\r",
      "100%|████████████████████████████████████████████████████████████████████████████████████████████████████████████████████████████████████████████████████| 480/480 [2:23:11<00:00, 205.99s/it]"
     ]
    },
    {
     "name": "stderr",
     "output_type": "stream",
     "text": [
      "\r",
      "100%|█████████████████████████████████████████████████████████████████████████████████████████████████████████████████████████████████████████████████████| 480/480 [2:23:11<00:00, 17.90s/it]"
     ]
    },
    {
     "name": "stderr",
     "output_type": "stream",
     "text": [
      "\n"
     ]
    },
    {
     "data": {
      "text/html": [
       "<div>\n",
       "<style scoped>\n",
       "    .dataframe tbody tr th:only-of-type {\n",
       "        vertical-align: middle;\n",
       "    }\n",
       "\n",
       "    .dataframe tbody tr th {\n",
       "        vertical-align: top;\n",
       "    }\n",
       "\n",
       "    .dataframe thead th {\n",
       "        text-align: right;\n",
       "    }\n",
       "</style>\n",
       "<table border=\"1\" class=\"dataframe\">\n",
       "  <thead>\n",
       "    <tr style=\"text-align: right;\">\n",
       "      <th></th>\n",
       "      <th>problem</th>\n",
       "      <th>model</th>\n",
       "      <th>force_consider_own</th>\n",
       "      <th>merge_isomorphic</th>\n",
       "      <th>truncate_common_chain</th>\n",
       "      <th>collect_garbage</th>\n",
       "      <th>reward_common_chain</th>\n",
       "      <th>protocol</th>\n",
       "      <th>dag_size_limit</th>\n",
       "      <th>size</th>\n",
       "      <th>...</th>\n",
       "      <th>vi_time</th>\n",
       "      <th>vi_max_value</th>\n",
       "      <th>ss_reachable</th>\n",
       "      <th>ss_nonzero</th>\n",
       "      <th>ss_time</th>\n",
       "      <th>pe_iter</th>\n",
       "      <th>ptrev</th>\n",
       "      <th>rpp</th>\n",
       "      <th>time</th>\n",
       "      <th>vi_steady_value</th>\n",
       "    </tr>\n",
       "  </thead>\n",
       "  <tbody>\n",
       "    <tr>\n",
       "      <th>0</th>\n",
       "      <td>v1+n</td>\n",
       "      <td>generic-v1</td>\n",
       "      <td>False</td>\n",
       "      <td>True</td>\n",
       "      <td>True</td>\n",
       "      <td>True</td>\n",
       "      <td>True</td>\n",
       "      <td>bitcoin</td>\n",
       "      <td>6</td>\n",
       "      <td>5724</td>\n",
       "      <td>...</td>\n",
       "      <td>37.251977</td>\n",
       "      <td>9.443818</td>\n",
       "      <td>6</td>\n",
       "      <td>6</td>\n",
       "      <td>0.079237</td>\n",
       "      <td>2</td>\n",
       "      <td>0.024146</td>\n",
       "      <td>0.050000</td>\n",
       "      <td>37.531223</td>\n",
       "      <td>4.953595</td>\n",
       "    </tr>\n",
       "    <tr>\n",
       "      <th>1</th>\n",
       "      <td>v1</td>\n",
       "      <td>generic-v1</td>\n",
       "      <td>False</td>\n",
       "      <td>False</td>\n",
       "      <td>True</td>\n",
       "      <td>True</td>\n",
       "      <td>True</td>\n",
       "      <td>parallel_3</td>\n",
       "      <td>6</td>\n",
       "      <td>9122</td>\n",
       "      <td>...</td>\n",
       "      <td>51.053274</td>\n",
       "      <td>9.383601</td>\n",
       "      <td>82</td>\n",
       "      <td>82</td>\n",
       "      <td>0.054161</td>\n",
       "      <td>2</td>\n",
       "      <td>0.023429</td>\n",
       "      <td>0.050000</td>\n",
       "      <td>51.343307</td>\n",
       "      <td>4.878453</td>\n",
       "    </tr>\n",
       "    <tr>\n",
       "      <th>2</th>\n",
       "      <td>v1+n</td>\n",
       "      <td>generic-v1</td>\n",
       "      <td>False</td>\n",
       "      <td>True</td>\n",
       "      <td>True</td>\n",
       "      <td>True</td>\n",
       "      <td>True</td>\n",
       "      <td>ethereum_3</td>\n",
       "      <td>6</td>\n",
       "      <td>10293</td>\n",
       "      <td>...</td>\n",
       "      <td>55.082561</td>\n",
       "      <td>11.702928</td>\n",
       "      <td>198</td>\n",
       "      <td>198</td>\n",
       "      <td>0.005561</td>\n",
       "      <td>2</td>\n",
       "      <td>0.023646</td>\n",
       "      <td>0.052625</td>\n",
       "      <td>55.293438</td>\n",
       "      <td>5.230470</td>\n",
       "    </tr>\n",
       "    <tr>\n",
       "      <th>3</th>\n",
       "      <td>v1+n</td>\n",
       "      <td>generic-v1</td>\n",
       "      <td>False</td>\n",
       "      <td>True</td>\n",
       "      <td>True</td>\n",
       "      <td>True</td>\n",
       "      <td>True</td>\n",
       "      <td>byzantium_3</td>\n",
       "      <td>6</td>\n",
       "      <td>9879</td>\n",
       "      <td>...</td>\n",
       "      <td>49.792217</td>\n",
       "      <td>10.246027</td>\n",
       "      <td>6</td>\n",
       "      <td>6</td>\n",
       "      <td>0.001132</td>\n",
       "      <td>2</td>\n",
       "      <td>0.024146</td>\n",
       "      <td>0.050000</td>\n",
       "      <td>49.937646</td>\n",
       "      <td>4.953405</td>\n",
       "    </tr>\n",
       "    <tr>\n",
       "      <th>4</th>\n",
       "      <td>v1</td>\n",
       "      <td>generic-v1</td>\n",
       "      <td>False</td>\n",
       "      <td>False</td>\n",
       "      <td>True</td>\n",
       "      <td>True</td>\n",
       "      <td>True</td>\n",
       "      <td>bitcoin</td>\n",
       "      <td>6</td>\n",
       "      <td>21327</td>\n",
       "      <td>...</td>\n",
       "      <td>135.168968</td>\n",
       "      <td>9.443818</td>\n",
       "      <td>6</td>\n",
       "      <td>6</td>\n",
       "      <td>0.052360</td>\n",
       "      <td>2</td>\n",
       "      <td>0.024146</td>\n",
       "      <td>0.050000</td>\n",
       "      <td>135.726565</td>\n",
       "      <td>4.953595</td>\n",
       "    </tr>\n",
       "    <tr>\n",
       "      <th>...</th>\n",
       "      <td>...</td>\n",
       "      <td>...</td>\n",
       "      <td>...</td>\n",
       "      <td>...</td>\n",
       "      <td>...</td>\n",
       "      <td>...</td>\n",
       "      <td>...</td>\n",
       "      <td>...</td>\n",
       "      <td>...</td>\n",
       "      <td>...</td>\n",
       "      <td>...</td>\n",
       "      <td>...</td>\n",
       "      <td>...</td>\n",
       "      <td>...</td>\n",
       "      <td>...</td>\n",
       "      <td>...</td>\n",
       "      <td>...</td>\n",
       "      <td>...</td>\n",
       "      <td>...</td>\n",
       "      <td>...</td>\n",
       "      <td>...</td>\n",
       "    </tr>\n",
       "    <tr>\n",
       "      <th>475</th>\n",
       "      <td>v1+n</td>\n",
       "      <td>generic-v1</td>\n",
       "      <td>False</td>\n",
       "      <td>True</td>\n",
       "      <td>True</td>\n",
       "      <td>True</td>\n",
       "      <td>True</td>\n",
       "      <td>parallel_3</td>\n",
       "      <td>6</td>\n",
       "      <td>1654</td>\n",
       "      <td>...</td>\n",
       "      <td>17.928002</td>\n",
       "      <td>55.241989</td>\n",
       "      <td>146</td>\n",
       "      <td>146</td>\n",
       "      <td>0.003962</td>\n",
       "      <td>2</td>\n",
       "      <td>0.162013</td>\n",
       "      <td>0.544829</td>\n",
       "      <td>17.956351</td>\n",
       "      <td>53.220278</td>\n",
       "    </tr>\n",
       "    <tr>\n",
       "      <th>476</th>\n",
       "      <td>v0+fc+n</td>\n",
       "      <td>generic-v0</td>\n",
       "      <td>True</td>\n",
       "      <td>True</td>\n",
       "      <td>True</td>\n",
       "      <td>True</td>\n",
       "      <td>True</td>\n",
       "      <td>bitcoin</td>\n",
       "      <td>6</td>\n",
       "      <td>501</td>\n",
       "      <td>...</td>\n",
       "      <td>6.592738</td>\n",
       "      <td>76.624930</td>\n",
       "      <td>81</td>\n",
       "      <td>81</td>\n",
       "      <td>0.001752</td>\n",
       "      <td>2</td>\n",
       "      <td>0.252527</td>\n",
       "      <td>0.757443</td>\n",
       "      <td>6.606127</td>\n",
       "      <td>75.137994</td>\n",
       "    </tr>\n",
       "    <tr>\n",
       "      <th>477</th>\n",
       "      <td>v1+n</td>\n",
       "      <td>generic-v1</td>\n",
       "      <td>False</td>\n",
       "      <td>True</td>\n",
       "      <td>True</td>\n",
       "      <td>True</td>\n",
       "      <td>True</td>\n",
       "      <td>ghostdag_3</td>\n",
       "      <td>6</td>\n",
       "      <td>12644</td>\n",
       "      <td>...</td>\n",
       "      <td>104.453151</td>\n",
       "      <td>56.874280</td>\n",
       "      <td>128</td>\n",
       "      <td>128</td>\n",
       "      <td>0.002625</td>\n",
       "      <td>2</td>\n",
       "      <td>0.190198</td>\n",
       "      <td>0.560976</td>\n",
       "      <td>104.630192</td>\n",
       "      <td>54.565483</td>\n",
       "    </tr>\n",
       "    <tr>\n",
       "      <th>478</th>\n",
       "      <td>v0</td>\n",
       "      <td>generic-v0</td>\n",
       "      <td>False</td>\n",
       "      <td>False</td>\n",
       "      <td>True</td>\n",
       "      <td>True</td>\n",
       "      <td>True</td>\n",
       "      <td>bitcoin</td>\n",
       "      <td>6</td>\n",
       "      <td>42041</td>\n",
       "      <td>...</td>\n",
       "      <td>1025.674797</td>\n",
       "      <td>68.968838</td>\n",
       "      <td>145</td>\n",
       "      <td>145</td>\n",
       "      <td>0.002403</td>\n",
       "      <td>2</td>\n",
       "      <td>0.181175</td>\n",
       "      <td>0.679094</td>\n",
       "      <td>1027.915869</td>\n",
       "      <td>67.415818</td>\n",
       "    </tr>\n",
       "    <tr>\n",
       "      <th>479</th>\n",
       "      <td>v0</td>\n",
       "      <td>generic-v0</td>\n",
       "      <td>False</td>\n",
       "      <td>False</td>\n",
       "      <td>True</td>\n",
       "      <td>True</td>\n",
       "      <td>True</td>\n",
       "      <td>bitcoin</td>\n",
       "      <td>6</td>\n",
       "      <td>42041</td>\n",
       "      <td>...</td>\n",
       "      <td>865.987170</td>\n",
       "      <td>76.617109</td>\n",
       "      <td>145</td>\n",
       "      <td>145</td>\n",
       "      <td>0.002207</td>\n",
       "      <td>2</td>\n",
       "      <td>0.199260</td>\n",
       "      <td>0.757443</td>\n",
       "      <td>867.712336</td>\n",
       "      <td>75.229200</td>\n",
       "    </tr>\n",
       "  </tbody>\n",
       "</table>\n",
       "<p>480 rows × 32 columns</p>\n",
       "</div>"
      ],
      "text/plain": [
       "     problem       model  force_consider_own  merge_isomorphic  \\\n",
       "0       v1+n  generic-v1               False              True   \n",
       "1         v1  generic-v1               False             False   \n",
       "2       v1+n  generic-v1               False              True   \n",
       "3       v1+n  generic-v1               False              True   \n",
       "4         v1  generic-v1               False             False   \n",
       "..       ...         ...                 ...               ...   \n",
       "475     v1+n  generic-v1               False              True   \n",
       "476  v0+fc+n  generic-v0                True              True   \n",
       "477     v1+n  generic-v1               False              True   \n",
       "478       v0  generic-v0               False             False   \n",
       "479       v0  generic-v0               False             False   \n",
       "\n",
       "     truncate_common_chain  collect_garbage  reward_common_chain     protocol  \\\n",
       "0                     True             True                 True      bitcoin   \n",
       "1                     True             True                 True   parallel_3   \n",
       "2                     True             True                 True   ethereum_3   \n",
       "3                     True             True                 True  byzantium_3   \n",
       "4                     True             True                 True      bitcoin   \n",
       "..                     ...              ...                  ...          ...   \n",
       "475                   True             True                 True   parallel_3   \n",
       "476                   True             True                 True      bitcoin   \n",
       "477                   True             True                 True   ghostdag_3   \n",
       "478                   True             True                 True      bitcoin   \n",
       "479                   True             True                 True      bitcoin   \n",
       "\n",
       "     dag_size_limit   size  ...      vi_time  vi_max_value ss_reachable  \\\n",
       "0                 6   5724  ...    37.251977      9.443818            6   \n",
       "1                 6   9122  ...    51.053274      9.383601           82   \n",
       "2                 6  10293  ...    55.082561     11.702928          198   \n",
       "3                 6   9879  ...    49.792217     10.246027            6   \n",
       "4                 6  21327  ...   135.168968      9.443818            6   \n",
       "..              ...    ...  ...          ...           ...          ...   \n",
       "475               6   1654  ...    17.928002     55.241989          146   \n",
       "476               6    501  ...     6.592738     76.624930           81   \n",
       "477               6  12644  ...   104.453151     56.874280          128   \n",
       "478               6  42041  ...  1025.674797     68.968838          145   \n",
       "479               6  42041  ...   865.987170     76.617109          145   \n",
       "\n",
       "     ss_nonzero   ss_time  pe_iter     ptrev       rpp         time  \\\n",
       "0             6  0.079237        2  0.024146  0.050000    37.531223   \n",
       "1            82  0.054161        2  0.023429  0.050000    51.343307   \n",
       "2           198  0.005561        2  0.023646  0.052625    55.293438   \n",
       "3             6  0.001132        2  0.024146  0.050000    49.937646   \n",
       "4             6  0.052360        2  0.024146  0.050000   135.726565   \n",
       "..          ...       ...      ...       ...       ...          ...   \n",
       "475         146  0.003962        2  0.162013  0.544829    17.956351   \n",
       "476          81  0.001752        2  0.252527  0.757443     6.606127   \n",
       "477         128  0.002625        2  0.190198  0.560976   104.630192   \n",
       "478         145  0.002403        2  0.181175  0.679094  1027.915869   \n",
       "479         145  0.002207        2  0.199260  0.757443   867.712336   \n",
       "\n",
       "    vi_steady_value  \n",
       "0          4.953595  \n",
       "1          4.878453  \n",
       "2          5.230470  \n",
       "3          4.953405  \n",
       "4          4.953595  \n",
       "..              ...  \n",
       "475       53.220278  \n",
       "476       75.137994  \n",
       "477       54.565483  \n",
       "478       67.415818  \n",
       "479       75.229200  \n",
       "\n",
       "[480 rows x 32 columns]"
      ]
     },
     "execution_count": 6,
     "metadata": {},
     "output_type": "execute_result"
    }
   ],
   "source": [
    "def optimize(network, idx, row):\n",
    "    with gzip.open(f\"5-generated-mdps/mdp-{row.mdp}.pkl.gz\", \"rb\") as f:\n",
    "        emdp = pickle.load(f)\n",
    "        emdp = map_params(emdp, **network)\n",
    "        oae = util.optimize_and_evaluate(emdp, eps=stop_delta, horizon=horizon)\n",
    "        return row.to_dict() | dict(horizon=horizon) | network | oae\n",
    "\n",
    "\n",
    "def generate_jobs():\n",
    "    for network in networks:\n",
    "        for idx, row in mdps.iterrows():\n",
    "            # if row['size'] > 1000:\n",
    "            #    continue\n",
    "            yield joblib.delayed(optimize)(network, idx, row)\n",
    "\n",
    "\n",
    "jobs = list(generate_jobs())\n",
    "generate_solutions = joblib.Parallel(return_as=\"generator_unordered\", n_jobs=6)(jobs)\n",
    "with_progress = tqdm.tqdm(generate_solutions, total=len(jobs))\n",
    "df = pandas.DataFrame(with_progress)\n",
    "df.to_pickle(\"5-value-iterations.pkl.gz\")\n",
    "df"
   ]
  },
  {
   "cell_type": "markdown",
   "id": "1c97c594-e608-47aa-84bf-e2ce21f375bf",
   "metadata": {},
   "source": [
    "# Reward per progress, source model, steady state"
   ]
  },
  {
   "cell_type": "code",
   "execution_count": 7,
   "id": "9cab8316-952f-45b3-8004-a9326bca7cb5",
   "metadata": {
    "execution": {
     "iopub.execute_input": "2025-06-21T12:49:39.640613Z",
     "iopub.status.busy": "2025-06-21T12:49:39.640155Z",
     "iopub.status.idle": "2025-06-21T12:49:41.632210Z",
     "shell.execute_reply": "2025-06-21T12:49:41.631732Z"
    }
   },
   "outputs": [
    {
     "data": {
      "text/plain": [
       "<seaborn.axisgrid.FacetGrid at 0x7efdfd3dc0a0>"
      ]
     },
     "execution_count": 7,
     "metadata": {},
     "output_type": "execute_result"
    },
    {
     "data": {
      "image/png": "[encoded data removed]",
      "text/plain": [
       "<Figure size 2611.75x1000 with 10 Axes>"
      ]
     },
     "metadata": {},
     "output_type": "display_data"
    }
   ],
   "source": [
    "seaborn.relplot(\n",
    "    data=df,\n",
    "    kind=\"line\",\n",
    "    x=\"alpha\",\n",
    "    y=\"rpp\",\n",
    "    col=\"protocol\",\n",
    "    hue=\"problem\",\n",
    "    style=\"problem\",\n",
    "    markers=True,\n",
    "    row=\"gamma\",\n",
    ")"
   ]
  },
  {
   "cell_type": "markdown",
   "id": "e0bb63fc-215b-43f1-a33d-7260f435ed37",
   "metadata": {},
   "source": [
    "# Revenue, PTO model, at source-model steady state"
   ]
  },
  {
   "cell_type": "code",
   "execution_count": 8,
   "id": "aa76d769-756e-4718-a27c-a0359ad096b0",
   "metadata": {
    "execution": {
     "iopub.execute_input": "2025-06-21T12:49:41.635051Z",
     "iopub.status.busy": "2025-06-21T12:49:41.634526Z",
     "iopub.status.idle": "2025-06-21T12:49:43.533318Z",
     "shell.execute_reply": "2025-06-21T12:49:43.532833Z"
    }
   },
   "outputs": [
    {
     "data": {
      "text/plain": [
       "<seaborn.axisgrid.FacetGrid at 0x7efdc81ec760>"
      ]
     },
     "execution_count": 8,
     "metadata": {},
     "output_type": "execute_result"
    },
    {
     "data": {
      "image/png": "[encoded data removed]",
      "text/plain": [
       "<Figure size 2611.75x1000 with 10 Axes>"
      ]
     },
     "metadata": {},
     "output_type": "display_data"
    }
   ],
   "source": [
    "seaborn.relplot(\n",
    "    data=df,\n",
    "    kind=\"line\",\n",
    "    x=\"alpha\",\n",
    "    y=\"ptrev\",\n",
    "    col=\"protocol\",\n",
    "    hue=\"problem\",\n",
    "    style=\"problem\",\n",
    "    markers=True,\n",
    "    row=\"gamma\",\n",
    ")"
   ]
  }
 ],
 "metadata": {
  "kernelspec": {
   "display_name": "Python 3 (ipykernel)",
   "language": "python",
   "name": "python3"
  },
  "language_info": {
   "codemirror_mode": {
    "name": "ipython",
    "version": 3
   },
   "file_extension": ".py",
   "mimetype": "text/x-python",
   "name": "python",
   "nbconvert_exporter": "python",
   "pygments_lexer": "ipython3",
   "version": "3.9.23"
  }
 },
 "nbformat": 4,
 "nbformat_minor": 5
}
