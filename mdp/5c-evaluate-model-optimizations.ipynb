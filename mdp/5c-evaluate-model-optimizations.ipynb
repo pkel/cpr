{
 "cells": [
  {
   "cell_type": "code",
   "execution_count": 1,
   "id": "8bb483ac-b3f9-4c64-ab0d-a0d709a4169d",
   "metadata": {},
   "outputs": [],
   "source": [
    "import joblib\n",
    "import gzip\n",
    "import pandas\n",
    "import pickle\n",
    "import seaborn\n",
    "import tqdm\n",
    "\n",
    "from lib.models.generic_v0.model import map_params"
   ]
  },
  {
   "cell_type": "code",
   "execution_count": 2,
   "id": "1870d3e0-3b89-4477-8137-badab66fc486",
   "metadata": {},
   "outputs": [],
   "source": [
    "import sys\n",
    "\n",
    "util_dir = \"./sprint-0-explicit-mdps/\"\n",
    "sys.path.append(util_dir)\n",
    "\n",
    "import util"
   ]
  },
  {
   "cell_type": "code",
   "execution_count": 3,
   "id": "bad9454d-f546-4c66-a6d4-f23ca3351b58",
   "metadata": {},
   "outputs": [
    {
     "data": {
      "text/html": [
       "<div>\n",
       "<style scoped>\n",
       "    .dataframe tbody tr th:only-of-type {\n",
       "        vertical-align: middle;\n",
       "    }\n",
       "\n",
       "    .dataframe tbody tr th {\n",
       "        vertical-align: top;\n",
       "    }\n",
       "\n",
       "    .dataframe thead th {\n",
       "        text-align: right;\n",
       "    }\n",
       "</style>\n",
       "<table border=\"1\" class=\"dataframe\">\n",
       "  <thead>\n",
       "    <tr style=\"text-align: right;\">\n",
       "      <th></th>\n",
       "      <th>problem</th>\n",
       "      <th>model</th>\n",
       "      <th>force_consider_own</th>\n",
       "      <th>merge_isomorphic</th>\n",
       "      <th>truncate_common_chain</th>\n",
       "      <th>collect_garbage</th>\n",
       "      <th>reward_common_chain</th>\n",
       "      <th>protocol</th>\n",
       "      <th>dag_size_limit</th>\n",
       "      <th>size</th>\n",
       "      <th>time_spent</th>\n",
       "      <th>rss</th>\n",
       "      <th>mdp</th>\n",
       "    </tr>\n",
       "  </thead>\n",
       "  <tbody>\n",
       "    <tr>\n",
       "      <th>0</th>\n",
       "      <td>ref-fc16</td>\n",
       "      <td>fc16sapirshtein</td>\n",
       "      <td>True</td>\n",
       "      <td>True</td>\n",
       "      <td>True</td>\n",
       "      <td>True</td>\n",
       "      <td>True</td>\n",
       "      <td>bitcoin</td>\n",
       "      <td>4</td>\n",
       "      <td>18</td>\n",
       "      <td>0.000616</td>\n",
       "      <td>0.175484</td>\n",
       "      <td>27186b8b</td>\n",
       "    </tr>\n",
       "    <tr>\n",
       "      <th>1</th>\n",
       "      <td>ref-aft20</td>\n",
       "      <td>aft20barzur</td>\n",
       "      <td>True</td>\n",
       "      <td>True</td>\n",
       "      <td>True</td>\n",
       "      <td>True</td>\n",
       "      <td>True</td>\n",
       "      <td>bitcoin</td>\n",
       "      <td>4</td>\n",
       "      <td>15</td>\n",
       "      <td>0.000429</td>\n",
       "      <td>0.183880</td>\n",
       "      <td>7604fec8</td>\n",
       "    </tr>\n",
       "    <tr>\n",
       "      <th>2</th>\n",
       "      <td>v1</td>\n",
       "      <td>generic-v1</td>\n",
       "      <td>False</td>\n",
       "      <td>False</td>\n",
       "      <td>True</td>\n",
       "      <td>True</td>\n",
       "      <td>True</td>\n",
       "      <td>bitcoin</td>\n",
       "      <td>4</td>\n",
       "      <td>26</td>\n",
       "      <td>0.014376</td>\n",
       "      <td>0.183880</td>\n",
       "      <td>7bbe74df</td>\n",
       "    </tr>\n",
       "    <tr>\n",
       "      <th>3</th>\n",
       "      <td>v1</td>\n",
       "      <td>generic-v1</td>\n",
       "      <td>False</td>\n",
       "      <td>False</td>\n",
       "      <td>True</td>\n",
       "      <td>True</td>\n",
       "      <td>True</td>\n",
       "      <td>ethereum_3</td>\n",
       "      <td>4</td>\n",
       "      <td>55</td>\n",
       "      <td>0.029269</td>\n",
       "      <td>0.229248</td>\n",
       "      <td>f2e913f9</td>\n",
       "    </tr>\n",
       "    <tr>\n",
       "      <th>4</th>\n",
       "      <td>v1</td>\n",
       "      <td>generic-v1</td>\n",
       "      <td>False</td>\n",
       "      <td>False</td>\n",
       "      <td>True</td>\n",
       "      <td>True</td>\n",
       "      <td>True</td>\n",
       "      <td>byzantium_3</td>\n",
       "      <td>4</td>\n",
       "      <td>55</td>\n",
       "      <td>0.032133</td>\n",
       "      <td>0.227905</td>\n",
       "      <td>2a330128</td>\n",
       "    </tr>\n",
       "    <tr>\n",
       "      <th>5</th>\n",
       "      <td>v1</td>\n",
       "      <td>generic-v1</td>\n",
       "      <td>False</td>\n",
       "      <td>False</td>\n",
       "      <td>True</td>\n",
       "      <td>True</td>\n",
       "      <td>True</td>\n",
       "      <td>ghostdag_3</td>\n",
       "      <td>4</td>\n",
       "      <td>352</td>\n",
       "      <td>0.170751</td>\n",
       "      <td>0.229103</td>\n",
       "      <td>170c6988</td>\n",
       "    </tr>\n",
       "    <tr>\n",
       "      <th>6</th>\n",
       "      <td>v1</td>\n",
       "      <td>generic-v1</td>\n",
       "      <td>False</td>\n",
       "      <td>False</td>\n",
       "      <td>True</td>\n",
       "      <td>True</td>\n",
       "      <td>True</td>\n",
       "      <td>parallel_3</td>\n",
       "      <td>4</td>\n",
       "      <td>206</td>\n",
       "      <td>0.082394</td>\n",
       "      <td>0.245342</td>\n",
       "      <td>58ef7aaf</td>\n",
       "    </tr>\n",
       "    <tr>\n",
       "      <th>7</th>\n",
       "      <td>v1+fc</td>\n",
       "      <td>generic-v1</td>\n",
       "      <td>True</td>\n",
       "      <td>False</td>\n",
       "      <td>True</td>\n",
       "      <td>True</td>\n",
       "      <td>True</td>\n",
       "      <td>bitcoin</td>\n",
       "      <td>4</td>\n",
       "      <td>31</td>\n",
       "      <td>0.013185</td>\n",
       "      <td>0.228882</td>\n",
       "      <td>ecb1a34b</td>\n",
       "    </tr>\n",
       "    <tr>\n",
       "      <th>8</th>\n",
       "      <td>v1+fc</td>\n",
       "      <td>generic-v1</td>\n",
       "      <td>True</td>\n",
       "      <td>False</td>\n",
       "      <td>True</td>\n",
       "      <td>True</td>\n",
       "      <td>True</td>\n",
       "      <td>ethereum_3</td>\n",
       "      <td>4</td>\n",
       "      <td>52</td>\n",
       "      <td>0.026929</td>\n",
       "      <td>0.236061</td>\n",
       "      <td>f1a86ee9</td>\n",
       "    </tr>\n",
       "    <tr>\n",
       "      <th>9</th>\n",
       "      <td>v1+fc</td>\n",
       "      <td>generic-v1</td>\n",
       "      <td>True</td>\n",
       "      <td>False</td>\n",
       "      <td>True</td>\n",
       "      <td>True</td>\n",
       "      <td>True</td>\n",
       "      <td>byzantium_3</td>\n",
       "      <td>4</td>\n",
       "      <td>52</td>\n",
       "      <td>0.035271</td>\n",
       "      <td>0.237446</td>\n",
       "      <td>119aec2a</td>\n",
       "    </tr>\n",
       "    <tr>\n",
       "      <th>10</th>\n",
       "      <td>v1+fc</td>\n",
       "      <td>generic-v1</td>\n",
       "      <td>True</td>\n",
       "      <td>False</td>\n",
       "      <td>True</td>\n",
       "      <td>True</td>\n",
       "      <td>True</td>\n",
       "      <td>ghostdag_3</td>\n",
       "      <td>4</td>\n",
       "      <td>84</td>\n",
       "      <td>0.049203</td>\n",
       "      <td>0.236160</td>\n",
       "      <td>14d01229</td>\n",
       "    </tr>\n",
       "    <tr>\n",
       "      <th>11</th>\n",
       "      <td>v1+fc</td>\n",
       "      <td>generic-v1</td>\n",
       "      <td>True</td>\n",
       "      <td>False</td>\n",
       "      <td>True</td>\n",
       "      <td>True</td>\n",
       "      <td>True</td>\n",
       "      <td>parallel_3</td>\n",
       "      <td>4</td>\n",
       "      <td>119</td>\n",
       "      <td>0.049433</td>\n",
       "      <td>0.242001</td>\n",
       "      <td>434559d7</td>\n",
       "    </tr>\n",
       "    <tr>\n",
       "      <th>12</th>\n",
       "      <td>v1+n</td>\n",
       "      <td>generic-v1</td>\n",
       "      <td>False</td>\n",
       "      <td>True</td>\n",
       "      <td>True</td>\n",
       "      <td>True</td>\n",
       "      <td>True</td>\n",
       "      <td>bitcoin</td>\n",
       "      <td>4</td>\n",
       "      <td>26</td>\n",
       "      <td>0.020235</td>\n",
       "      <td>0.236610</td>\n",
       "      <td>51a9ded9</td>\n",
       "    </tr>\n",
       "    <tr>\n",
       "      <th>13</th>\n",
       "      <td>v1+n</td>\n",
       "      <td>generic-v1</td>\n",
       "      <td>False</td>\n",
       "      <td>True</td>\n",
       "      <td>True</td>\n",
       "      <td>True</td>\n",
       "      <td>True</td>\n",
       "      <td>ethereum_3</td>\n",
       "      <td>4</td>\n",
       "      <td>55</td>\n",
       "      <td>0.037366</td>\n",
       "      <td>0.255527</td>\n",
       "      <td>606fc7d0</td>\n",
       "    </tr>\n",
       "    <tr>\n",
       "      <th>14</th>\n",
       "      <td>v1+n</td>\n",
       "      <td>generic-v1</td>\n",
       "      <td>False</td>\n",
       "      <td>True</td>\n",
       "      <td>True</td>\n",
       "      <td>True</td>\n",
       "      <td>True</td>\n",
       "      <td>byzantium_3</td>\n",
       "      <td>4</td>\n",
       "      <td>55</td>\n",
       "      <td>0.040759</td>\n",
       "      <td>0.245522</td>\n",
       "      <td>30dd1970</td>\n",
       "    </tr>\n",
       "    <tr>\n",
       "      <th>15</th>\n",
       "      <td>v1+n</td>\n",
       "      <td>generic-v1</td>\n",
       "      <td>False</td>\n",
       "      <td>True</td>\n",
       "      <td>True</td>\n",
       "      <td>True</td>\n",
       "      <td>True</td>\n",
       "      <td>ghostdag_3</td>\n",
       "      <td>4</td>\n",
       "      <td>228</td>\n",
       "      <td>0.159761</td>\n",
       "      <td>0.246655</td>\n",
       "      <td>5b3f3e42</td>\n",
       "    </tr>\n",
       "    <tr>\n",
       "      <th>16</th>\n",
       "      <td>v1+n</td>\n",
       "      <td>generic-v1</td>\n",
       "      <td>False</td>\n",
       "      <td>True</td>\n",
       "      <td>True</td>\n",
       "      <td>True</td>\n",
       "      <td>True</td>\n",
       "      <td>parallel_3</td>\n",
       "      <td>4</td>\n",
       "      <td>152</td>\n",
       "      <td>0.087620</td>\n",
       "      <td>0.245678</td>\n",
       "      <td>45328cf4</td>\n",
       "    </tr>\n",
       "    <tr>\n",
       "      <th>17</th>\n",
       "      <td>v1+fc+n</td>\n",
       "      <td>generic-v1</td>\n",
       "      <td>True</td>\n",
       "      <td>True</td>\n",
       "      <td>True</td>\n",
       "      <td>True</td>\n",
       "      <td>True</td>\n",
       "      <td>bitcoin</td>\n",
       "      <td>4</td>\n",
       "      <td>31</td>\n",
       "      <td>0.018075</td>\n",
       "      <td>0.246971</td>\n",
       "      <td>584c4c4b</td>\n",
       "    </tr>\n",
       "    <tr>\n",
       "      <th>18</th>\n",
       "      <td>v1+fc+n</td>\n",
       "      <td>generic-v1</td>\n",
       "      <td>True</td>\n",
       "      <td>True</td>\n",
       "      <td>True</td>\n",
       "      <td>True</td>\n",
       "      <td>True</td>\n",
       "      <td>ethereum_3</td>\n",
       "      <td>4</td>\n",
       "      <td>48</td>\n",
       "      <td>0.032598</td>\n",
       "      <td>0.261883</td>\n",
       "      <td>4fa581ec</td>\n",
       "    </tr>\n",
       "    <tr>\n",
       "      <th>19</th>\n",
       "      <td>v1+fc+n</td>\n",
       "      <td>generic-v1</td>\n",
       "      <td>True</td>\n",
       "      <td>True</td>\n",
       "      <td>True</td>\n",
       "      <td>True</td>\n",
       "      <td>True</td>\n",
       "      <td>byzantium_3</td>\n",
       "      <td>4</td>\n",
       "      <td>48</td>\n",
       "      <td>0.036268</td>\n",
       "      <td>0.264122</td>\n",
       "      <td>6ead25cc</td>\n",
       "    </tr>\n",
       "    <tr>\n",
       "      <th>20</th>\n",
       "      <td>v1+fc+n</td>\n",
       "      <td>generic-v1</td>\n",
       "      <td>True</td>\n",
       "      <td>True</td>\n",
       "      <td>True</td>\n",
       "      <td>True</td>\n",
       "      <td>True</td>\n",
       "      <td>ghostdag_3</td>\n",
       "      <td>4</td>\n",
       "      <td>57</td>\n",
       "      <td>0.041030</td>\n",
       "      <td>0.267120</td>\n",
       "      <td>4092d752</td>\n",
       "    </tr>\n",
       "    <tr>\n",
       "      <th>21</th>\n",
       "      <td>v1+fc+n</td>\n",
       "      <td>generic-v1</td>\n",
       "      <td>True</td>\n",
       "      <td>True</td>\n",
       "      <td>True</td>\n",
       "      <td>True</td>\n",
       "      <td>True</td>\n",
       "      <td>parallel_3</td>\n",
       "      <td>4</td>\n",
       "      <td>84</td>\n",
       "      <td>0.050121</td>\n",
       "      <td>0.263954</td>\n",
       "      <td>43578eb3</td>\n",
       "    </tr>\n",
       "    <tr>\n",
       "      <th>22</th>\n",
       "      <td>v0+fc+n</td>\n",
       "      <td>generic-v0</td>\n",
       "      <td>True</td>\n",
       "      <td>True</td>\n",
       "      <td>True</td>\n",
       "      <td>True</td>\n",
       "      <td>True</td>\n",
       "      <td>bitcoin</td>\n",
       "      <td>4</td>\n",
       "      <td>104</td>\n",
       "      <td>0.046524</td>\n",
       "      <td>0.264786</td>\n",
       "      <td>1222e3c9</td>\n",
       "    </tr>\n",
       "    <tr>\n",
       "      <th>23</th>\n",
       "      <td>v0</td>\n",
       "      <td>generic-v0</td>\n",
       "      <td>False</td>\n",
       "      <td>False</td>\n",
       "      <td>True</td>\n",
       "      <td>True</td>\n",
       "      <td>True</td>\n",
       "      <td>bitcoin</td>\n",
       "      <td>4</td>\n",
       "      <td>1198</td>\n",
       "      <td>0.472799</td>\n",
       "      <td>0.264786</td>\n",
       "      <td>25bf7d76</td>\n",
       "    </tr>\n",
       "    <tr>\n",
       "      <th>24</th>\n",
       "      <td>ref-fc16</td>\n",
       "      <td>fc16sapirshtein</td>\n",
       "      <td>True</td>\n",
       "      <td>True</td>\n",
       "      <td>True</td>\n",
       "      <td>True</td>\n",
       "      <td>True</td>\n",
       "      <td>bitcoin</td>\n",
       "      <td>4</td>\n",
       "      <td>18</td>\n",
       "      <td>0.000591</td>\n",
       "      <td>0.264786</td>\n",
       "      <td>254193cc</td>\n",
       "    </tr>\n",
       "    <tr>\n",
       "      <th>25</th>\n",
       "      <td>ref-aft20</td>\n",
       "      <td>aft20barzur</td>\n",
       "      <td>True</td>\n",
       "      <td>True</td>\n",
       "      <td>True</td>\n",
       "      <td>True</td>\n",
       "      <td>True</td>\n",
       "      <td>bitcoin</td>\n",
       "      <td>4</td>\n",
       "      <td>15</td>\n",
       "      <td>0.000384</td>\n",
       "      <td>0.264786</td>\n",
       "      <td>43370811</td>\n",
       "    </tr>\n",
       "    <tr>\n",
       "      <th>26</th>\n",
       "      <td>v1</td>\n",
       "      <td>generic-v1</td>\n",
       "      <td>False</td>\n",
       "      <td>False</td>\n",
       "      <td>True</td>\n",
       "      <td>True</td>\n",
       "      <td>True</td>\n",
       "      <td>bitcoin</td>\n",
       "      <td>4</td>\n",
       "      <td>26</td>\n",
       "      <td>0.014101</td>\n",
       "      <td>0.264786</td>\n",
       "      <td>630ad670</td>\n",
       "    </tr>\n",
       "    <tr>\n",
       "      <th>27</th>\n",
       "      <td>v1</td>\n",
       "      <td>generic-v1</td>\n",
       "      <td>False</td>\n",
       "      <td>False</td>\n",
       "      <td>True</td>\n",
       "      <td>True</td>\n",
       "      <td>True</td>\n",
       "      <td>ethereum_3</td>\n",
       "      <td>4</td>\n",
       "      <td>55</td>\n",
       "      <td>0.033117</td>\n",
       "      <td>0.274982</td>\n",
       "      <td>10b7d889</td>\n",
       "    </tr>\n",
       "    <tr>\n",
       "      <th>28</th>\n",
       "      <td>v1</td>\n",
       "      <td>generic-v1</td>\n",
       "      <td>False</td>\n",
       "      <td>False</td>\n",
       "      <td>True</td>\n",
       "      <td>True</td>\n",
       "      <td>True</td>\n",
       "      <td>byzantium_3</td>\n",
       "      <td>4</td>\n",
       "      <td>55</td>\n",
       "      <td>0.031571</td>\n",
       "      <td>0.268635</td>\n",
       "      <td>3d897002</td>\n",
       "    </tr>\n",
       "    <tr>\n",
       "      <th>29</th>\n",
       "      <td>v1</td>\n",
       "      <td>generic-v1</td>\n",
       "      <td>False</td>\n",
       "      <td>False</td>\n",
       "      <td>True</td>\n",
       "      <td>True</td>\n",
       "      <td>True</td>\n",
       "      <td>ghostdag_3</td>\n",
       "      <td>4</td>\n",
       "      <td>352</td>\n",
       "      <td>0.167309</td>\n",
       "      <td>0.267902</td>\n",
       "      <td>73aaa115</td>\n",
       "    </tr>\n",
       "    <tr>\n",
       "      <th>30</th>\n",
       "      <td>v1</td>\n",
       "      <td>generic-v1</td>\n",
       "      <td>False</td>\n",
       "      <td>False</td>\n",
       "      <td>True</td>\n",
       "      <td>True</td>\n",
       "      <td>True</td>\n",
       "      <td>parallel_3</td>\n",
       "      <td>4</td>\n",
       "      <td>206</td>\n",
       "      <td>0.079563</td>\n",
       "      <td>0.267902</td>\n",
       "      <td>44976470</td>\n",
       "    </tr>\n",
       "    <tr>\n",
       "      <th>31</th>\n",
       "      <td>v1+fc</td>\n",
       "      <td>generic-v1</td>\n",
       "      <td>True</td>\n",
       "      <td>False</td>\n",
       "      <td>True</td>\n",
       "      <td>True</td>\n",
       "      <td>True</td>\n",
       "      <td>bitcoin</td>\n",
       "      <td>4</td>\n",
       "      <td>31</td>\n",
       "      <td>0.013038</td>\n",
       "      <td>0.267658</td>\n",
       "      <td>2c0a3983</td>\n",
       "    </tr>\n",
       "    <tr>\n",
       "      <th>32</th>\n",
       "      <td>v1+fc</td>\n",
       "      <td>generic-v1</td>\n",
       "      <td>True</td>\n",
       "      <td>False</td>\n",
       "      <td>True</td>\n",
       "      <td>True</td>\n",
       "      <td>True</td>\n",
       "      <td>ethereum_3</td>\n",
       "      <td>4</td>\n",
       "      <td>52</td>\n",
       "      <td>0.025766</td>\n",
       "      <td>0.267658</td>\n",
       "      <td>127bb698</td>\n",
       "    </tr>\n",
       "    <tr>\n",
       "      <th>33</th>\n",
       "      <td>v1+fc</td>\n",
       "      <td>generic-v1</td>\n",
       "      <td>True</td>\n",
       "      <td>False</td>\n",
       "      <td>True</td>\n",
       "      <td>True</td>\n",
       "      <td>True</td>\n",
       "      <td>byzantium_3</td>\n",
       "      <td>4</td>\n",
       "      <td>52</td>\n",
       "      <td>0.031740</td>\n",
       "      <td>0.267658</td>\n",
       "      <td>4baa5485</td>\n",
       "    </tr>\n",
       "    <tr>\n",
       "      <th>34</th>\n",
       "      <td>v1+fc</td>\n",
       "      <td>generic-v1</td>\n",
       "      <td>True</td>\n",
       "      <td>False</td>\n",
       "      <td>True</td>\n",
       "      <td>True</td>\n",
       "      <td>True</td>\n",
       "      <td>ghostdag_3</td>\n",
       "      <td>4</td>\n",
       "      <td>84</td>\n",
       "      <td>0.048726</td>\n",
       "      <td>0.267658</td>\n",
       "      <td>49cb166d</td>\n",
       "    </tr>\n",
       "    <tr>\n",
       "      <th>35</th>\n",
       "      <td>v1+fc</td>\n",
       "      <td>generic-v1</td>\n",
       "      <td>True</td>\n",
       "      <td>False</td>\n",
       "      <td>True</td>\n",
       "      <td>True</td>\n",
       "      <td>True</td>\n",
       "      <td>parallel_3</td>\n",
       "      <td>4</td>\n",
       "      <td>119</td>\n",
       "      <td>0.048715</td>\n",
       "      <td>0.267658</td>\n",
       "      <td>629a3ff7</td>\n",
       "    </tr>\n",
       "    <tr>\n",
       "      <th>36</th>\n",
       "      <td>v1+n</td>\n",
       "      <td>generic-v1</td>\n",
       "      <td>False</td>\n",
       "      <td>True</td>\n",
       "      <td>True</td>\n",
       "      <td>True</td>\n",
       "      <td>True</td>\n",
       "      <td>bitcoin</td>\n",
       "      <td>4</td>\n",
       "      <td>26</td>\n",
       "      <td>0.019153</td>\n",
       "      <td>0.267658</td>\n",
       "      <td>380f5c6c</td>\n",
       "    </tr>\n",
       "    <tr>\n",
       "      <th>37</th>\n",
       "      <td>v1+n</td>\n",
       "      <td>generic-v1</td>\n",
       "      <td>False</td>\n",
       "      <td>True</td>\n",
       "      <td>True</td>\n",
       "      <td>True</td>\n",
       "      <td>True</td>\n",
       "      <td>ethereum_3</td>\n",
       "      <td>4</td>\n",
       "      <td>55</td>\n",
       "      <td>0.035790</td>\n",
       "      <td>0.284912</td>\n",
       "      <td>110fc623</td>\n",
       "    </tr>\n",
       "    <tr>\n",
       "      <th>38</th>\n",
       "      <td>v1+n</td>\n",
       "      <td>generic-v1</td>\n",
       "      <td>False</td>\n",
       "      <td>True</td>\n",
       "      <td>True</td>\n",
       "      <td>True</td>\n",
       "      <td>True</td>\n",
       "      <td>byzantium_3</td>\n",
       "      <td>4</td>\n",
       "      <td>55</td>\n",
       "      <td>0.040121</td>\n",
       "      <td>0.278107</td>\n",
       "      <td>7f31c5df</td>\n",
       "    </tr>\n",
       "    <tr>\n",
       "      <th>39</th>\n",
       "      <td>v1+n</td>\n",
       "      <td>generic-v1</td>\n",
       "      <td>False</td>\n",
       "      <td>True</td>\n",
       "      <td>True</td>\n",
       "      <td>True</td>\n",
       "      <td>True</td>\n",
       "      <td>ghostdag_3</td>\n",
       "      <td>4</td>\n",
       "      <td>228</td>\n",
       "      <td>0.143372</td>\n",
       "      <td>0.277672</td>\n",
       "      <td>5bcef86f</td>\n",
       "    </tr>\n",
       "    <tr>\n",
       "      <th>40</th>\n",
       "      <td>v1+n</td>\n",
       "      <td>generic-v1</td>\n",
       "      <td>False</td>\n",
       "      <td>True</td>\n",
       "      <td>True</td>\n",
       "      <td>True</td>\n",
       "      <td>True</td>\n",
       "      <td>parallel_3</td>\n",
       "      <td>4</td>\n",
       "      <td>152</td>\n",
       "      <td>0.085327</td>\n",
       "      <td>0.277431</td>\n",
       "      <td>4189bb2c</td>\n",
       "    </tr>\n",
       "    <tr>\n",
       "      <th>41</th>\n",
       "      <td>v1+fc+n</td>\n",
       "      <td>generic-v1</td>\n",
       "      <td>True</td>\n",
       "      <td>True</td>\n",
       "      <td>True</td>\n",
       "      <td>True</td>\n",
       "      <td>True</td>\n",
       "      <td>bitcoin</td>\n",
       "      <td>4</td>\n",
       "      <td>31</td>\n",
       "      <td>0.017279</td>\n",
       "      <td>0.277431</td>\n",
       "      <td>3271810c</td>\n",
       "    </tr>\n",
       "    <tr>\n",
       "      <th>42</th>\n",
       "      <td>v1+fc+n</td>\n",
       "      <td>generic-v1</td>\n",
       "      <td>True</td>\n",
       "      <td>True</td>\n",
       "      <td>True</td>\n",
       "      <td>True</td>\n",
       "      <td>True</td>\n",
       "      <td>ethereum_3</td>\n",
       "      <td>4</td>\n",
       "      <td>48</td>\n",
       "      <td>0.031678</td>\n",
       "      <td>0.277431</td>\n",
       "      <td>650454c1</td>\n",
       "    </tr>\n",
       "    <tr>\n",
       "      <th>43</th>\n",
       "      <td>v1+fc+n</td>\n",
       "      <td>generic-v1</td>\n",
       "      <td>True</td>\n",
       "      <td>True</td>\n",
       "      <td>True</td>\n",
       "      <td>True</td>\n",
       "      <td>True</td>\n",
       "      <td>byzantium_3</td>\n",
       "      <td>4</td>\n",
       "      <td>48</td>\n",
       "      <td>0.036229</td>\n",
       "      <td>0.277431</td>\n",
       "      <td>7965f7b2</td>\n",
       "    </tr>\n",
       "    <tr>\n",
       "      <th>44</th>\n",
       "      <td>v1+fc+n</td>\n",
       "      <td>generic-v1</td>\n",
       "      <td>True</td>\n",
       "      <td>True</td>\n",
       "      <td>True</td>\n",
       "      <td>True</td>\n",
       "      <td>True</td>\n",
       "      <td>ghostdag_3</td>\n",
       "      <td>4</td>\n",
       "      <td>57</td>\n",
       "      <td>0.040918</td>\n",
       "      <td>0.277431</td>\n",
       "      <td>61b3e532</td>\n",
       "    </tr>\n",
       "    <tr>\n",
       "      <th>45</th>\n",
       "      <td>v1+fc+n</td>\n",
       "      <td>generic-v1</td>\n",
       "      <td>True</td>\n",
       "      <td>True</td>\n",
       "      <td>True</td>\n",
       "      <td>True</td>\n",
       "      <td>True</td>\n",
       "      <td>parallel_3</td>\n",
       "      <td>4</td>\n",
       "      <td>84</td>\n",
       "      <td>0.048793</td>\n",
       "      <td>0.277431</td>\n",
       "      <td>38e2c815</td>\n",
       "    </tr>\n",
       "    <tr>\n",
       "      <th>46</th>\n",
       "      <td>v0+fc+n</td>\n",
       "      <td>generic-v0</td>\n",
       "      <td>True</td>\n",
       "      <td>True</td>\n",
       "      <td>True</td>\n",
       "      <td>True</td>\n",
       "      <td>True</td>\n",
       "      <td>bitcoin</td>\n",
       "      <td>4</td>\n",
       "      <td>104</td>\n",
       "      <td>0.044870</td>\n",
       "      <td>0.277431</td>\n",
       "      <td>2acb5a6f</td>\n",
       "    </tr>\n",
       "    <tr>\n",
       "      <th>47</th>\n",
       "      <td>v0</td>\n",
       "      <td>generic-v0</td>\n",
       "      <td>False</td>\n",
       "      <td>False</td>\n",
       "      <td>True</td>\n",
       "      <td>True</td>\n",
       "      <td>True</td>\n",
       "      <td>bitcoin</td>\n",
       "      <td>4</td>\n",
       "      <td>1198</td>\n",
       "      <td>0.478721</td>\n",
       "      <td>0.279751</td>\n",
       "      <td>25c411d4</td>\n",
       "    </tr>\n",
       "  </tbody>\n",
       "</table>\n",
       "</div>"
      ],
      "text/plain": [
       "      problem            model  force_consider_own  merge_isomorphic  \\\n",
       "0    ref-fc16  fc16sapirshtein                True              True   \n",
       "1   ref-aft20      aft20barzur                True              True   \n",
       "2          v1       generic-v1               False             False   \n",
       "3          v1       generic-v1               False             False   \n",
       "4          v1       generic-v1               False             False   \n",
       "5          v1       generic-v1               False             False   \n",
       "6          v1       generic-v1               False             False   \n",
       "7       v1+fc       generic-v1                True             False   \n",
       "8       v1+fc       generic-v1                True             False   \n",
       "9       v1+fc       generic-v1                True             False   \n",
       "10      v1+fc       generic-v1                True             False   \n",
       "11      v1+fc       generic-v1                True             False   \n",
       "12       v1+n       generic-v1               False              True   \n",
       "13       v1+n       generic-v1               False              True   \n",
       "14       v1+n       generic-v1               False              True   \n",
       "15       v1+n       generic-v1               False              True   \n",
       "16       v1+n       generic-v1               False              True   \n",
       "17    v1+fc+n       generic-v1                True              True   \n",
       "18    v1+fc+n       generic-v1                True              True   \n",
       "19    v1+fc+n       generic-v1                True              True   \n",
       "20    v1+fc+n       generic-v1                True              True   \n",
       "21    v1+fc+n       generic-v1                True              True   \n",
       "22    v0+fc+n       generic-v0                True              True   \n",
       "23         v0       generic-v0               False             False   \n",
       "24   ref-fc16  fc16sapirshtein                True              True   \n",
       "25  ref-aft20      aft20barzur                True              True   \n",
       "26         v1       generic-v1               False             False   \n",
       "27         v1       generic-v1               False             False   \n",
       "28         v1       generic-v1               False             False   \n",
       "29         v1       generic-v1               False             False   \n",
       "30         v1       generic-v1               False             False   \n",
       "31      v1+fc       generic-v1                True             False   \n",
       "32      v1+fc       generic-v1                True             False   \n",
       "33      v1+fc       generic-v1                True             False   \n",
       "34      v1+fc       generic-v1                True             False   \n",
       "35      v1+fc       generic-v1                True             False   \n",
       "36       v1+n       generic-v1               False              True   \n",
       "37       v1+n       generic-v1               False              True   \n",
       "38       v1+n       generic-v1               False              True   \n",
       "39       v1+n       generic-v1               False              True   \n",
       "40       v1+n       generic-v1               False              True   \n",
       "41    v1+fc+n       generic-v1                True              True   \n",
       "42    v1+fc+n       generic-v1                True              True   \n",
       "43    v1+fc+n       generic-v1                True              True   \n",
       "44    v1+fc+n       generic-v1                True              True   \n",
       "45    v1+fc+n       generic-v1                True              True   \n",
       "46    v0+fc+n       generic-v0                True              True   \n",
       "47         v0       generic-v0               False             False   \n",
       "\n",
       "    truncate_common_chain  collect_garbage  reward_common_chain     protocol  \\\n",
       "0                    True             True                 True      bitcoin   \n",
       "1                    True             True                 True      bitcoin   \n",
       "2                    True             True                 True      bitcoin   \n",
       "3                    True             True                 True   ethereum_3   \n",
       "4                    True             True                 True  byzantium_3   \n",
       "5                    True             True                 True   ghostdag_3   \n",
       "6                    True             True                 True   parallel_3   \n",
       "7                    True             True                 True      bitcoin   \n",
       "8                    True             True                 True   ethereum_3   \n",
       "9                    True             True                 True  byzantium_3   \n",
       "10                   True             True                 True   ghostdag_3   \n",
       "11                   True             True                 True   parallel_3   \n",
       "12                   True             True                 True      bitcoin   \n",
       "13                   True             True                 True   ethereum_3   \n",
       "14                   True             True                 True  byzantium_3   \n",
       "15                   True             True                 True   ghostdag_3   \n",
       "16                   True             True                 True   parallel_3   \n",
       "17                   True             True                 True      bitcoin   \n",
       "18                   True             True                 True   ethereum_3   \n",
       "19                   True             True                 True  byzantium_3   \n",
       "20                   True             True                 True   ghostdag_3   \n",
       "21                   True             True                 True   parallel_3   \n",
       "22                   True             True                 True      bitcoin   \n",
       "23                   True             True                 True      bitcoin   \n",
       "24                   True             True                 True      bitcoin   \n",
       "25                   True             True                 True      bitcoin   \n",
       "26                   True             True                 True      bitcoin   \n",
       "27                   True             True                 True   ethereum_3   \n",
       "28                   True             True                 True  byzantium_3   \n",
       "29                   True             True                 True   ghostdag_3   \n",
       "30                   True             True                 True   parallel_3   \n",
       "31                   True             True                 True      bitcoin   \n",
       "32                   True             True                 True   ethereum_3   \n",
       "33                   True             True                 True  byzantium_3   \n",
       "34                   True             True                 True   ghostdag_3   \n",
       "35                   True             True                 True   parallel_3   \n",
       "36                   True             True                 True      bitcoin   \n",
       "37                   True             True                 True   ethereum_3   \n",
       "38                   True             True                 True  byzantium_3   \n",
       "39                   True             True                 True   ghostdag_3   \n",
       "40                   True             True                 True   parallel_3   \n",
       "41                   True             True                 True      bitcoin   \n",
       "42                   True             True                 True   ethereum_3   \n",
       "43                   True             True                 True  byzantium_3   \n",
       "44                   True             True                 True   ghostdag_3   \n",
       "45                   True             True                 True   parallel_3   \n",
       "46                   True             True                 True      bitcoin   \n",
       "47                   True             True                 True      bitcoin   \n",
       "\n",
       "    dag_size_limit  size  time_spent       rss       mdp  \n",
       "0                4    18    0.000616  0.175484  27186b8b  \n",
       "1                4    15    0.000429  0.183880  7604fec8  \n",
       "2                4    26    0.014376  0.183880  7bbe74df  \n",
       "3                4    55    0.029269  0.229248  f2e913f9  \n",
       "4                4    55    0.032133  0.227905  2a330128  \n",
       "5                4   352    0.170751  0.229103  170c6988  \n",
       "6                4   206    0.082394  0.245342  58ef7aaf  \n",
       "7                4    31    0.013185  0.228882  ecb1a34b  \n",
       "8                4    52    0.026929  0.236061  f1a86ee9  \n",
       "9                4    52    0.035271  0.237446  119aec2a  \n",
       "10               4    84    0.049203  0.236160  14d01229  \n",
       "11               4   119    0.049433  0.242001  434559d7  \n",
       "12               4    26    0.020235  0.236610  51a9ded9  \n",
       "13               4    55    0.037366  0.255527  606fc7d0  \n",
       "14               4    55    0.040759  0.245522  30dd1970  \n",
       "15               4   228    0.159761  0.246655  5b3f3e42  \n",
       "16               4   152    0.087620  0.245678  45328cf4  \n",
       "17               4    31    0.018075  0.246971  584c4c4b  \n",
       "18               4    48    0.032598  0.261883  4fa581ec  \n",
       "19               4    48    0.036268  0.264122  6ead25cc  \n",
       "20               4    57    0.041030  0.267120  4092d752  \n",
       "21               4    84    0.050121  0.263954  43578eb3  \n",
       "22               4   104    0.046524  0.264786  1222e3c9  \n",
       "23               4  1198    0.472799  0.264786  25bf7d76  \n",
       "24               4    18    0.000591  0.264786  254193cc  \n",
       "25               4    15    0.000384  0.264786  43370811  \n",
       "26               4    26    0.014101  0.264786  630ad670  \n",
       "27               4    55    0.033117  0.274982  10b7d889  \n",
       "28               4    55    0.031571  0.268635  3d897002  \n",
       "29               4   352    0.167309  0.267902  73aaa115  \n",
       "30               4   206    0.079563  0.267902  44976470  \n",
       "31               4    31    0.013038  0.267658  2c0a3983  \n",
       "32               4    52    0.025766  0.267658  127bb698  \n",
       "33               4    52    0.031740  0.267658  4baa5485  \n",
       "34               4    84    0.048726  0.267658  49cb166d  \n",
       "35               4   119    0.048715  0.267658  629a3ff7  \n",
       "36               4    26    0.019153  0.267658  380f5c6c  \n",
       "37               4    55    0.035790  0.284912  110fc623  \n",
       "38               4    55    0.040121  0.278107  7f31c5df  \n",
       "39               4   228    0.143372  0.277672  5bcef86f  \n",
       "40               4   152    0.085327  0.277431  4189bb2c  \n",
       "41               4    31    0.017279  0.277431  3271810c  \n",
       "42               4    48    0.031678  0.277431  650454c1  \n",
       "43               4    48    0.036229  0.277431  7965f7b2  \n",
       "44               4    57    0.040918  0.277431  61b3e532  \n",
       "45               4    84    0.048793  0.277431  38e2c815  \n",
       "46               4   104    0.044870  0.277431  2acb5a6f  \n",
       "47               4  1198    0.478721  0.279751  25c411d4  "
      ]
     },
     "execution_count": 3,
     "metadata": {},
     "output_type": "execute_result"
    }
   ],
   "source": [
    "mdps = pandas.read_pickle(\"5-generated-mdps/fixed.pkl.gz\")\n",
    "mdps"
   ]
  },
  {
   "cell_type": "code",
   "execution_count": 4,
   "id": "4e44c431-4dff-44ef-90d1-e958c0fcf00c",
   "metadata": {},
   "outputs": [],
   "source": [
    "networks = []\n",
    "# for alpha in range(35, 41, 5):\n",
    "for alpha in range(5, 51, 5):\n",
    "    for gamma in [0.33, 0.66]:\n",
    "        # for gamma in [0, 0.5, 1]:\n",
    "        networks.append(dict(alpha=alpha / 100, gamma=gamma))\n",
    "# pandas.DataFrame(networks)"
   ]
  },
  {
   "cell_type": "code",
   "execution_count": 5,
   "id": "4827932e-ffef-4664-919d-34f1e65af554",
   "metadata": {},
   "outputs": [],
   "source": [
    "horizon = 100\n",
    "stop_delta = (\n",
    "    0.0001  # value iteration stops when no value estimate changes more than this value\n",
    ")"
   ]
  },
  {
   "cell_type": "code",
   "execution_count": 6,
   "id": "d07ad519-dbb0-4c4e-99b1-c06a18d68f79",
   "metadata": {},
   "outputs": [
    {
     "name": "stderr",
     "output_type": "stream",
     "text": [
      "100%|███████████████████████████████████████████████████████████████████████████████████████| 960/960 [04:15<00:00,  3.76it/s]\n"
     ]
    },
    {
     "data": {
      "text/html": [
       "<div>\n",
       "<style scoped>\n",
       "    .dataframe tbody tr th:only-of-type {\n",
       "        vertical-align: middle;\n",
       "    }\n",
       "\n",
       "    .dataframe tbody tr th {\n",
       "        vertical-align: top;\n",
       "    }\n",
       "\n",
       "    .dataframe thead th {\n",
       "        text-align: right;\n",
       "    }\n",
       "</style>\n",
       "<table border=\"1\" class=\"dataframe\">\n",
       "  <thead>\n",
       "    <tr style=\"text-align: right;\">\n",
       "      <th></th>\n",
       "      <th>problem</th>\n",
       "      <th>model</th>\n",
       "      <th>force_consider_own</th>\n",
       "      <th>merge_isomorphic</th>\n",
       "      <th>truncate_common_chain</th>\n",
       "      <th>collect_garbage</th>\n",
       "      <th>reward_common_chain</th>\n",
       "      <th>protocol</th>\n",
       "      <th>dag_size_limit</th>\n",
       "      <th>size</th>\n",
       "      <th>...</th>\n",
       "      <th>vi_time</th>\n",
       "      <th>vi_max_value</th>\n",
       "      <th>ss_reachable</th>\n",
       "      <th>ss_nonzero</th>\n",
       "      <th>ss_time</th>\n",
       "      <th>pe_iter</th>\n",
       "      <th>ptrev</th>\n",
       "      <th>rpp</th>\n",
       "      <th>time</th>\n",
       "      <th>vi_steady_value</th>\n",
       "    </tr>\n",
       "  </thead>\n",
       "  <tbody>\n",
       "    <tr>\n",
       "      <th>0</th>\n",
       "      <td>ref-fc16</td>\n",
       "      <td>fc16sapirshtein</td>\n",
       "      <td>True</td>\n",
       "      <td>True</td>\n",
       "      <td>True</td>\n",
       "      <td>True</td>\n",
       "      <td>True</td>\n",
       "      <td>bitcoin</td>\n",
       "      <td>4</td>\n",
       "      <td>18</td>\n",
       "      <td>...</td>\n",
       "      <td>0.072323</td>\n",
       "      <td>7.771851</td>\n",
       "      <td>5</td>\n",
       "      <td>3</td>\n",
       "      <td>0.048618</td>\n",
       "      <td>2</td>\n",
       "      <td>0.049500</td>\n",
       "      <td>0.050000</td>\n",
       "      <td>0.122281</td>\n",
       "      <td>4.940165</td>\n",
       "    </tr>\n",
       "    <tr>\n",
       "      <th>1</th>\n",
       "      <td>ref-aft20</td>\n",
       "      <td>aft20barzur</td>\n",
       "      <td>True</td>\n",
       "      <td>True</td>\n",
       "      <td>True</td>\n",
       "      <td>True</td>\n",
       "      <td>True</td>\n",
       "      <td>bitcoin</td>\n",
       "      <td>4</td>\n",
       "      <td>15</td>\n",
       "      <td>...</td>\n",
       "      <td>0.085481</td>\n",
       "      <td>7.771451</td>\n",
       "      <td>6</td>\n",
       "      <td>6</td>\n",
       "      <td>0.047000</td>\n",
       "      <td>2</td>\n",
       "      <td>0.024750</td>\n",
       "      <td>0.050000</td>\n",
       "      <td>0.132944</td>\n",
       "      <td>4.939711</td>\n",
       "    </tr>\n",
       "    <tr>\n",
       "      <th>2</th>\n",
       "      <td>v1</td>\n",
       "      <td>generic-v1</td>\n",
       "      <td>False</td>\n",
       "      <td>False</td>\n",
       "      <td>True</td>\n",
       "      <td>True</td>\n",
       "      <td>True</td>\n",
       "      <td>parallel_3</td>\n",
       "      <td>4</td>\n",
       "      <td>206</td>\n",
       "      <td>...</td>\n",
       "      <td>0.739087</td>\n",
       "      <td>8.506424</td>\n",
       "      <td>81</td>\n",
       "      <td>81</td>\n",
       "      <td>0.001832</td>\n",
       "      <td>2</td>\n",
       "      <td>0.023429</td>\n",
       "      <td>0.050000</td>\n",
       "      <td>0.743653</td>\n",
       "      <td>4.878068</td>\n",
       "    </tr>\n",
       "    <tr>\n",
       "      <th>3</th>\n",
       "      <td>v1</td>\n",
       "      <td>generic-v1</td>\n",
       "      <td>False</td>\n",
       "      <td>False</td>\n",
       "      <td>True</td>\n",
       "      <td>True</td>\n",
       "      <td>True</td>\n",
       "      <td>ghostdag_3</td>\n",
       "      <td>4</td>\n",
       "      <td>352</td>\n",
       "      <td>...</td>\n",
       "      <td>1.242433</td>\n",
       "      <td>8.577866</td>\n",
       "      <td>6</td>\n",
       "      <td>6</td>\n",
       "      <td>0.058736</td>\n",
       "      <td>2</td>\n",
       "      <td>0.024146</td>\n",
       "      <td>0.050000</td>\n",
       "      <td>1.308016</td>\n",
       "      <td>4.952821</td>\n",
       "    </tr>\n",
       "    <tr>\n",
       "      <th>4</th>\n",
       "      <td>v1+fc</td>\n",
       "      <td>generic-v1</td>\n",
       "      <td>True</td>\n",
       "      <td>False</td>\n",
       "      <td>True</td>\n",
       "      <td>True</td>\n",
       "      <td>True</td>\n",
       "      <td>bitcoin</td>\n",
       "      <td>4</td>\n",
       "      <td>31</td>\n",
       "      <td>...</td>\n",
       "      <td>1.741709</td>\n",
       "      <td>98.792295</td>\n",
       "      <td>3</td>\n",
       "      <td>3</td>\n",
       "      <td>0.000967</td>\n",
       "      <td>2</td>\n",
       "      <td>0.047143</td>\n",
       "      <td>1.000000</td>\n",
       "      <td>1.743342</td>\n",
       "      <td>98.790392</td>\n",
       "    </tr>\n",
       "    <tr>\n",
       "      <th>...</th>\n",
       "      <td>...</td>\n",
       "      <td>...</td>\n",
       "      <td>...</td>\n",
       "      <td>...</td>\n",
       "      <td>...</td>\n",
       "      <td>...</td>\n",
       "      <td>...</td>\n",
       "      <td>...</td>\n",
       "      <td>...</td>\n",
       "      <td>...</td>\n",
       "      <td>...</td>\n",
       "      <td>...</td>\n",
       "      <td>...</td>\n",
       "      <td>...</td>\n",
       "      <td>...</td>\n",
       "      <td>...</td>\n",
       "      <td>...</td>\n",
       "      <td>...</td>\n",
       "      <td>...</td>\n",
       "      <td>...</td>\n",
       "      <td>...</td>\n",
       "    </tr>\n",
       "    <tr>\n",
       "      <th>955</th>\n",
       "      <td>v0</td>\n",
       "      <td>generic-v0</td>\n",
       "      <td>False</td>\n",
       "      <td>False</td>\n",
       "      <td>True</td>\n",
       "      <td>True</td>\n",
       "      <td>True</td>\n",
       "      <td>bitcoin</td>\n",
       "      <td>4</td>\n",
       "      <td>1198</td>\n",
       "      <td>...</td>\n",
       "      <td>20.019235</td>\n",
       "      <td>61.580242</td>\n",
       "      <td>39</td>\n",
       "      <td>39</td>\n",
       "      <td>0.001285</td>\n",
       "      <td>2</td>\n",
       "      <td>0.170215</td>\n",
       "      <td>0.610649</td>\n",
       "      <td>20.075221</td>\n",
       "      <td>60.567219</td>\n",
       "    </tr>\n",
       "    <tr>\n",
       "      <th>956</th>\n",
       "      <td>v0+fc+n</td>\n",
       "      <td>generic-v0</td>\n",
       "      <td>True</td>\n",
       "      <td>True</td>\n",
       "      <td>True</td>\n",
       "      <td>True</td>\n",
       "      <td>True</td>\n",
       "      <td>bitcoin</td>\n",
       "      <td>4</td>\n",
       "      <td>104</td>\n",
       "      <td>...</td>\n",
       "      <td>1.221611</td>\n",
       "      <td>66.923274</td>\n",
       "      <td>29</td>\n",
       "      <td>29</td>\n",
       "      <td>0.001266</td>\n",
       "      <td>2</td>\n",
       "      <td>0.224633</td>\n",
       "      <td>0.665339</td>\n",
       "      <td>1.225025</td>\n",
       "      <td>65.944847</td>\n",
       "    </tr>\n",
       "    <tr>\n",
       "      <th>957</th>\n",
       "      <td>v0</td>\n",
       "      <td>generic-v0</td>\n",
       "      <td>False</td>\n",
       "      <td>False</td>\n",
       "      <td>True</td>\n",
       "      <td>True</td>\n",
       "      <td>True</td>\n",
       "      <td>bitcoin</td>\n",
       "      <td>4</td>\n",
       "      <td>1198</td>\n",
       "      <td>...</td>\n",
       "      <td>18.870548</td>\n",
       "      <td>61.580242</td>\n",
       "      <td>39</td>\n",
       "      <td>39</td>\n",
       "      <td>0.001242</td>\n",
       "      <td>2</td>\n",
       "      <td>0.170215</td>\n",
       "      <td>0.610649</td>\n",
       "      <td>18.920334</td>\n",
       "      <td>60.567219</td>\n",
       "    </tr>\n",
       "    <tr>\n",
       "      <th>958</th>\n",
       "      <td>v0</td>\n",
       "      <td>generic-v0</td>\n",
       "      <td>False</td>\n",
       "      <td>False</td>\n",
       "      <td>True</td>\n",
       "      <td>True</td>\n",
       "      <td>True</td>\n",
       "      <td>bitcoin</td>\n",
       "      <td>4</td>\n",
       "      <td>1198</td>\n",
       "      <td>...</td>\n",
       "      <td>16.830762</td>\n",
       "      <td>66.916471</td>\n",
       "      <td>39</td>\n",
       "      <td>39</td>\n",
       "      <td>0.001055</td>\n",
       "      <td>2</td>\n",
       "      <td>0.181476</td>\n",
       "      <td>0.665339</td>\n",
       "      <td>16.876367</td>\n",
       "      <td>66.022267</td>\n",
       "    </tr>\n",
       "    <tr>\n",
       "      <th>959</th>\n",
       "      <td>v0</td>\n",
       "      <td>generic-v0</td>\n",
       "      <td>False</td>\n",
       "      <td>False</td>\n",
       "      <td>True</td>\n",
       "      <td>True</td>\n",
       "      <td>True</td>\n",
       "      <td>bitcoin</td>\n",
       "      <td>4</td>\n",
       "      <td>1198</td>\n",
       "      <td>...</td>\n",
       "      <td>14.564817</td>\n",
       "      <td>66.916471</td>\n",
       "      <td>39</td>\n",
       "      <td>39</td>\n",
       "      <td>0.000999</td>\n",
       "      <td>2</td>\n",
       "      <td>0.181476</td>\n",
       "      <td>0.665339</td>\n",
       "      <td>14.585274</td>\n",
       "      <td>66.022267</td>\n",
       "    </tr>\n",
       "  </tbody>\n",
       "</table>\n",
       "<p>960 rows × 32 columns</p>\n",
       "</div>"
      ],
      "text/plain": [
       "       problem            model  force_consider_own  merge_isomorphic  \\\n",
       "0     ref-fc16  fc16sapirshtein                True              True   \n",
       "1    ref-aft20      aft20barzur                True              True   \n",
       "2           v1       generic-v1               False             False   \n",
       "3           v1       generic-v1               False             False   \n",
       "4        v1+fc       generic-v1                True             False   \n",
       "..         ...              ...                 ...               ...   \n",
       "955         v0       generic-v0               False             False   \n",
       "956    v0+fc+n       generic-v0                True              True   \n",
       "957         v0       generic-v0               False             False   \n",
       "958         v0       generic-v0               False             False   \n",
       "959         v0       generic-v0               False             False   \n",
       "\n",
       "     truncate_common_chain  collect_garbage  reward_common_chain    protocol  \\\n",
       "0                     True             True                 True     bitcoin   \n",
       "1                     True             True                 True     bitcoin   \n",
       "2                     True             True                 True  parallel_3   \n",
       "3                     True             True                 True  ghostdag_3   \n",
       "4                     True             True                 True     bitcoin   \n",
       "..                     ...              ...                  ...         ...   \n",
       "955                   True             True                 True     bitcoin   \n",
       "956                   True             True                 True     bitcoin   \n",
       "957                   True             True                 True     bitcoin   \n",
       "958                   True             True                 True     bitcoin   \n",
       "959                   True             True                 True     bitcoin   \n",
       "\n",
       "     dag_size_limit  size  ...    vi_time  vi_max_value ss_reachable  \\\n",
       "0                 4    18  ...   0.072323      7.771851            5   \n",
       "1                 4    15  ...   0.085481      7.771451            6   \n",
       "2                 4   206  ...   0.739087      8.506424           81   \n",
       "3                 4   352  ...   1.242433      8.577866            6   \n",
       "4                 4    31  ...   1.741709     98.792295            3   \n",
       "..              ...   ...  ...        ...           ...          ...   \n",
       "955               4  1198  ...  20.019235     61.580242           39   \n",
       "956               4   104  ...   1.221611     66.923274           29   \n",
       "957               4  1198  ...  18.870548     61.580242           39   \n",
       "958               4  1198  ...  16.830762     66.916471           39   \n",
       "959               4  1198  ...  14.564817     66.916471           39   \n",
       "\n",
       "     ss_nonzero   ss_time  pe_iter     ptrev       rpp       time  \\\n",
       "0             3  0.048618        2  0.049500  0.050000   0.122281   \n",
       "1             6  0.047000        2  0.024750  0.050000   0.132944   \n",
       "2            81  0.001832        2  0.023429  0.050000   0.743653   \n",
       "3             6  0.058736        2  0.024146  0.050000   1.308016   \n",
       "4             3  0.000967        2  0.047143  1.000000   1.743342   \n",
       "..          ...       ...      ...       ...       ...        ...   \n",
       "955          39  0.001285        2  0.170215  0.610649  20.075221   \n",
       "956          29  0.001266        2  0.224633  0.665339   1.225025   \n",
       "957          39  0.001242        2  0.170215  0.610649  18.920334   \n",
       "958          39  0.001055        2  0.181476  0.665339  16.876367   \n",
       "959          39  0.000999        2  0.181476  0.665339  14.585274   \n",
       "\n",
       "    vi_steady_value  \n",
       "0          4.940165  \n",
       "1          4.939711  \n",
       "2          4.878068  \n",
       "3          4.952821  \n",
       "4         98.790392  \n",
       "..              ...  \n",
       "955       60.567219  \n",
       "956       65.944847  \n",
       "957       60.567219  \n",
       "958       66.022267  \n",
       "959       66.022267  \n",
       "\n",
       "[960 rows x 32 columns]"
      ]
     },
     "execution_count": 6,
     "metadata": {},
     "output_type": "execute_result"
    },
    {
     "name": "stderr",
     "output_type": "stream",
     "text": [
      "\r",
      "  1%|█                                                                                                                       | 4/480 [00:10<27:24,  3.46s/it]"
     ]
    },
    {
     "name": "stderr",
     "output_type": "stream",
     "text": [
      "\r",
      "  1%|█▎                                                                                                                      | 5/480 [00:15<32:31,  4.11s/it]"
     ]
    },
    {
     "name": "stderr",
     "output_type": "stream",
     "text": [
      "\r",
      "  1%|█▌                                                                                                                      | 6/480 [00:22<40:26,  5.12s/it]"
     ]
    },
    {
     "name": "stderr",
     "output_type": "stream",
     "text": [
      "\r",
      "  1%|█▋                                                                                                                    | 7/480 [00:35<1:00:34,  7.68s/it]"
     ]
    },
    {
     "name": "stderr",
     "output_type": "stream",
     "text": [
      "\r",
      "  2%|█▉                                                                                                                    | 8/480 [00:51<1:20:43, 10.26s/it]"
     ]
    },
    {
     "name": "stderr",
     "output_type": "stream",
     "text": [
      "\r",
      "  2%|██▏                                                                                                                   | 9/480 [01:12<1:46:44, 13.60s/it]"
     ]
    },
    {
     "name": "stderr",
     "output_type": "stream",
     "text": [
      "\r",
      "  2%|██▍                                                                                                                  | 10/480 [01:46<2:35:03, 19.79s/it]"
     ]
    },
    {
     "name": "stderr",
     "output_type": "stream",
     "text": [
      "\r",
      "  2%|██▋                                                                                                                  | 11/480 [02:03<2:29:26, 19.12s/it]"
     ]
    },
    {
     "name": "stderr",
     "output_type": "stream",
     "text": [
      "\r",
      "  2%|██▉                                                                                                                  | 12/480 [02:12<2:04:33, 15.97s/it]"
     ]
    },
    {
     "name": "stderr",
     "output_type": "stream",
     "text": [
      "\r",
      "  3%|███▏                                                                                                                 | 13/480 [02:14<1:30:44, 11.66s/it]"
     ]
    },
    {
     "name": "stderr",
     "output_type": "stream",
     "text": [
      "\r",
      "  3%|███▍                                                                                                                 | 14/480 [02:16<1:08:18,  8.80s/it]"
     ]
    },
    {
     "name": "stderr",
     "output_type": "stream",
     "text": [
      "\r",
      "  3%|███▋                                                                                                                   | 15/480 [02:17<50:22,  6.50s/it]"
     ]
    },
    {
     "name": "stderr",
     "output_type": "stream",
     "text": [
      "\r",
      "  3%|███▉                                                                                                                   | 16/480 [02:19<40:13,  5.20s/it]"
     ]
    },
    {
     "name": "stderr",
     "output_type": "stream",
     "text": [
      "\r",
      "  4%|████▏                                                                                                                  | 17/480 [02:21<32:09,  4.17s/it]"
     ]
    },
    {
     "name": "stderr",
     "output_type": "stream",
     "text": [
      "\r",
      "  4%|████▍                                                                                                                  | 18/480 [02:23<26:34,  3.45s/it]"
     ]
    },
    {
     "name": "stderr",
     "output_type": "stream",
     "text": [
      "\r",
      "  4%|████▋                                                                                                                  | 19/480 [02:25<24:15,  3.16s/it]"
     ]
    },
    {
     "name": "stderr",
     "output_type": "stream",
     "text": [
      "\r",
      "  4%|████▉                                                                                                                  | 20/480 [02:26<17:30,  2.28s/it]"
     ]
    },
    {
     "name": "stderr",
     "output_type": "stream",
     "text": [
      "\r",
      "  4%|█████▏                                                                                                                 | 21/480 [02:26<12:45,  1.67s/it]"
     ]
    },
    {
     "name": "stderr",
     "output_type": "stream",
     "text": [
      "\r",
      "  5%|█████▍                                                                                                                 | 22/480 [02:44<49:37,  6.50s/it]"
     ]
    },
    {
     "name": "stderr",
     "output_type": "stream",
     "text": [
      "\r",
      "  5%|█████▌                                                                                                               | 23/480 [02:56<1:04:02,  8.41s/it]"
     ]
    },
    {
     "name": "stderr",
     "output_type": "stream",
     "text": [
      "\r",
      "  5%|█████▉                                                                                                                 | 24/480 [03:03<59:27,  7.82s/it]"
     ]
    },
    {
     "name": "stderr",
     "output_type": "stream",
     "text": [
      "\r",
      "  5%|██████                                                                                                               | 25/480 [03:31<1:44:52, 13.83s/it]"
     ]
    },
    {
     "name": "stderr",
     "output_type": "stream",
     "text": [
      "\r",
      "  5%|██████▎                                                                                                              | 26/480 [04:23<3:11:28, 25.31s/it]"
     ]
    },
    {
     "name": "stderr",
     "output_type": "stream",
     "text": [
      "\r",
      "  6%|██████▌                                                                                                              | 27/480 [04:26<2:20:23, 18.60s/it]"
     ]
    },
    {
     "name": "stderr",
     "output_type": "stream",
     "text": [
      "\r",
      "  6%|██████▊                                                                                                              | 28/480 [04:32<1:51:23, 14.79s/it]"
     ]
    },
    {
     "name": "stderr",
     "output_type": "stream",
     "text": [
      "\r",
      "  6%|███████                                                                                                              | 29/480 [04:37<1:30:22, 12.02s/it]"
     ]
    },
    {
     "name": "stderr",
     "output_type": "stream",
     "text": [
      "\r",
      "  6%|███████▎                                                                                                             | 30/480 [04:43<1:16:14, 10.17s/it]"
     ]
    },
    {
     "name": "stderr",
     "output_type": "stream",
     "text": [
      "\r",
      "  6%|███████▋                                                                                                               | 31/480 [04:45<57:03,  7.62s/it]"
     ]
    },
    {
     "name": "stderr",
     "output_type": "stream",
     "text": [
      "\r",
      "  7%|███████▊                                                                                                             | 32/480 [04:55<1:03:01,  8.44s/it]"
     ]
    },
    {
     "name": "stderr",
     "output_type": "stream",
     "text": [
      "\r",
      "  7%|████████                                                                                                             | 33/480 [05:23<1:45:34, 14.17s/it]"
     ]
    },
    {
     "name": "stderr",
     "output_type": "stream",
     "text": [
      "\r",
      "  7%|████████▎                                                                                                            | 34/480 [05:46<2:07:02, 17.09s/it]"
     ]
    },
    {
     "name": "stderr",
     "output_type": "stream",
     "text": [
      "\r",
      "  7%|████████▌                                                                                                            | 35/480 [05:50<1:37:34, 13.16s/it]"
     ]
    },
    {
     "name": "stderr",
     "output_type": "stream",
     "text": [
      "\r",
      "  8%|████████▊                                                                                                            | 36/480 [05:54<1:15:08, 10.16s/it]"
     ]
    },
    {
     "name": "stderr",
     "output_type": "stream",
     "text": [
      "\r",
      "  8%|█████████▏                                                                                                             | 37/480 [05:55<56:22,  7.63s/it]"
     ]
    },
    {
     "name": "stderr",
     "output_type": "stream",
     "text": [
      "\r",
      "  8%|█████████▍                                                                                                             | 38/480 [05:59<46:22,  6.30s/it]"
     ]
    },
    {
     "name": "stderr",
     "output_type": "stream",
     "text": [
      "\r",
      "  8%|█████████▋                                                                                                             | 39/480 [05:59<33:41,  4.58s/it]"
     ]
    },
    {
     "name": "stderr",
     "output_type": "stream",
     "text": [
      "\r",
      "  8%|█████████▉                                                                                                             | 40/480 [06:01<28:33,  3.89s/it]"
     ]
    },
    {
     "name": "stderr",
     "output_type": "stream",
     "text": [
      "\r",
      "  9%|██████████▏                                                                                                            | 41/480 [06:02<21:20,  2.92s/it]"
     ]
    },
    {
     "name": "stderr",
     "output_type": "stream",
     "text": [
      "\r",
      "  9%|██████████▍                                                                                                            | 42/480 [06:04<20:13,  2.77s/it]"
     ]
    },
    {
     "name": "stderr",
     "output_type": "stream",
     "text": [
      "\r",
      "  9%|██████████▋                                                                                                            | 43/480 [06:06<17:21,  2.38s/it]"
     ]
    },
    {
     "name": "stderr",
     "output_type": "stream",
     "text": [
      "\r",
      "  9%|██████████▉                                                                                                            | 44/480 [06:06<12:45,  1.75s/it]"
     ]
    },
    {
     "name": "stderr",
     "output_type": "stream",
     "text": [
      "\r",
      "  9%|███████████▏                                                                                                           | 45/480 [06:07<09:49,  1.36s/it]"
     ]
    },
    {
     "name": "stderr",
     "output_type": "stream",
     "text": [
      "\r",
      " 10%|███████████▍                                                                                                           | 46/480 [06:15<24:26,  3.38s/it]"
     ]
    },
    {
     "name": "stderr",
     "output_type": "stream",
     "text": [
      "\r",
      " 10%|███████████▍                                                                                                         | 47/480 [06:36<1:03:05,  8.74s/it]"
     ]
    },
    {
     "name": "stderr",
     "output_type": "stream",
     "text": [
      "\r",
      " 10%|███████████▋                                                                                                         | 48/480 [06:44<1:01:53,  8.60s/it]"
     ]
    },
    {
     "name": "stderr",
     "output_type": "stream",
     "text": [
      "\r",
      " 10%|███████████▉                                                                                                         | 49/480 [08:41<4:54:03, 40.94s/it]"
     ]
    },
    {
     "name": "stderr",
     "output_type": "stream",
     "text": [
      "\r",
      " 10%|████████████▏                                                                                                        | 50/480 [09:41<5:35:12, 46.77s/it]"
     ]
    },
    {
     "name": "stderr",
     "output_type": "stream",
     "text": [
      "\r",
      " 11%|████████████▍                                                                                                        | 51/480 [09:44<4:01:03, 33.71s/it]"
     ]
    },
    {
     "name": "stderr",
     "output_type": "stream",
     "text": [
      "\r",
      " 11%|████████████▋                                                                                                        | 52/480 [09:51<3:03:01, 25.66s/it]"
     ]
    },
    {
     "name": "stderr",
     "output_type": "stream",
     "text": [
      "\r",
      " 11%|████████████▉                                                                                                        | 53/480 [09:57<2:20:36, 19.76s/it]"
     ]
    },
    {
     "name": "stderr",
     "output_type": "stream",
     "text": [
      "\r",
      " 11%|█████████████▏                                                                                                       | 54/480 [09:57<1:38:25, 13.86s/it]"
     ]
    },
    {
     "name": "stderr",
     "output_type": "stream",
     "text": [
      "\r",
      " 11%|█████████████▍                                                                                                       | 55/480 [09:59<1:13:19, 10.35s/it]"
     ]
    },
    {
     "name": "stderr",
     "output_type": "stream",
     "text": [
      "\r",
      " 12%|█████████████▋                                                                                                       | 56/480 [10:06<1:04:22,  9.11s/it]"
     ]
    },
    {
     "name": "stderr",
     "output_type": "stream",
     "text": [
      "\r",
      " 12%|██████████████▏                                                                                                        | 57/480 [10:12<57:28,  8.15s/it]"
     ]
    },
    {
     "name": "stderr",
     "output_type": "stream",
     "text": [
      "\r",
      " 12%|██████████████▏                                                                                                      | 58/480 [10:31<1:21:45, 11.63s/it]"
     ]
    },
    {
     "name": "stderr",
     "output_type": "stream",
     "text": [
      "\r",
      " 12%|██████████████▍                                                                                                      | 59/480 [10:43<1:21:12, 11.57s/it]"
     ]
    },
    {
     "name": "stderr",
     "output_type": "stream",
     "text": [
      "\r",
      " 12%|██████████████▉                                                                                                        | 60/480 [10:43<56:57,  8.14s/it]"
     ]
    },
    {
     "name": "stderr",
     "output_type": "stream",
     "text": [
      "\r",
      " 13%|███████████████                                                                                                        | 61/480 [10:45<44:14,  6.34s/it]"
     ]
    },
    {
     "name": "stderr",
     "output_type": "stream",
     "text": [
      "\r",
      " 13%|███████████████▎                                                                                                       | 62/480 [10:49<39:52,  5.72s/it]"
     ]
    },
    {
     "name": "stderr",
     "output_type": "stream",
     "text": [
      "\r",
      " 13%|███████████████▌                                                                                                       | 63/480 [10:53<34:32,  4.97s/it]"
     ]
    },
    {
     "name": "stderr",
     "output_type": "stream",
     "text": [
      "\r",
      " 13%|███████████████▊                                                                                                       | 64/480 [10:54<26:23,  3.81s/it]"
     ]
    },
    {
     "name": "stderr",
     "output_type": "stream",
     "text": [
      "\r",
      " 14%|████████████████                                                                                                       | 65/480 [10:56<22:59,  3.32s/it]"
     ]
    },
    {
     "name": "stderr",
     "output_type": "stream",
     "text": [
      "\r",
      " 14%|████████████████▎                                                                                                      | 66/480 [10:57<18:18,  2.65s/it]"
     ]
    },
    {
     "name": "stderr",
     "output_type": "stream",
     "text": [
      "\r",
      " 14%|████████████████▌                                                                                                      | 67/480 [11:00<19:29,  2.83s/it]"
     ]
    },
    {
     "name": "stderr",
     "output_type": "stream",
     "text": [
      "\r",
      " 14%|████████████████▊                                                                                                      | 68/480 [11:00<14:10,  2.06s/it]"
     ]
    },
    {
     "name": "stderr",
     "output_type": "stream",
     "text": [
      "\r",
      " 14%|█████████████████                                                                                                      | 69/480 [11:01<10:25,  1.52s/it]"
     ]
    },
    {
     "name": "stderr",
     "output_type": "stream",
     "text": [
      "\r",
      " 15%|█████████████████▎                                                                                                     | 70/480 [11:11<27:58,  4.09s/it]"
     ]
    },
    {
     "name": "stderr",
     "output_type": "stream",
     "text": [
      "\r",
      " 15%|█████████████████▌                                                                                                     | 71/480 [11:14<26:47,  3.93s/it]"
     ]
    },
    {
     "name": "stderr",
     "output_type": "stream",
     "text": [
      "\r",
      " 15%|█████████████████▌                                                                                                   | 72/480 [11:39<1:09:47, 10.26s/it]"
     ]
    },
    {
     "name": "stderr",
     "output_type": "stream",
     "text": [
      "\r",
      " 15%|█████████████████▊                                                                                                   | 73/480 [13:41<4:56:27, 43.70s/it]"
     ]
    },
    {
     "name": "stderr",
     "output_type": "stream",
     "text": [
      "\r",
      " 15%|██████████████████                                                                                                   | 74/480 [14:16<4:38:21, 41.14s/it]"
     ]
    },
    {
     "name": "stderr",
     "output_type": "stream",
     "text": [
      "\r",
      " 16%|██████████████████▎                                                                                                  | 75/480 [14:20<3:21:07, 29.80s/it]"
     ]
    },
    {
     "name": "stderr",
     "output_type": "stream",
     "text": [
      "\r",
      " 16%|██████████████████▌                                                                                                  | 76/480 [14:26<2:34:21, 22.92s/it]"
     ]
    },
    {
     "name": "stderr",
     "output_type": "stream",
     "text": [
      "\r",
      " 16%|██████████████████▊                                                                                                  | 77/480 [14:33<2:00:07, 17.88s/it]"
     ]
    },
    {
     "name": "stderr",
     "output_type": "stream",
     "text": [
      "\r",
      " 16%|███████████████████                                                                                                  | 78/480 [14:36<1:30:48, 13.55s/it]"
     ]
    },
    {
     "name": "stderr",
     "output_type": "stream",
     "text": [
      "\r",
      " 16%|███████████████████▎                                                                                                 | 79/480 [14:41<1:13:47, 11.04s/it]"
     ]
    },
    {
     "name": "stderr",
     "output_type": "stream",
     "text": [
      "\r",
      " 17%|███████████████████▊                                                                                                   | 80/480 [14:42<53:15,  7.99s/it]"
     ]
    },
    {
     "name": "stderr",
     "output_type": "stream",
     "text": [
      "\r",
      " 17%|████████████████████                                                                                                   | 81/480 [14:50<52:38,  7.92s/it]"
     ]
    },
    {
     "name": "stderr",
     "output_type": "stream",
     "text": [
      "\r",
      " 17%|████████████████████▎                                                                                                  | 82/480 [14:50<37:56,  5.72s/it]"
     ]
    },
    {
     "name": "stderr",
     "output_type": "stream",
     "text": [
      "\r",
      " 17%|████████████████████▏                                                                                                | 83/480 [15:25<1:34:19, 14.26s/it]"
     ]
    },
    {
     "name": "stderr",
     "output_type": "stream",
     "text": [
      "\r",
      " 18%|████████████████████▍                                                                                                | 84/480 [15:35<1:25:56, 13.02s/it]"
     ]
    },
    {
     "name": "stderr",
     "output_type": "stream",
     "text": [
      "\r",
      " 18%|████████████████████▋                                                                                                | 85/480 [15:37<1:03:54,  9.71s/it]"
     ]
    },
    {
     "name": "stderr",
     "output_type": "stream",
     "text": [
      "\r",
      " 18%|█████████████████████▎                                                                                                 | 86/480 [15:39<49:08,  7.48s/it]"
     ]
    },
    {
     "name": "stderr",
     "output_type": "stream",
     "text": [
      "\r",
      " 18%|█████████████████████▌                                                                                                 | 87/480 [15:40<37:11,  5.68s/it]"
     ]
    },
    {
     "name": "stderr",
     "output_type": "stream",
     "text": [
      "\r",
      " 18%|█████████████████████▊                                                                                                 | 88/480 [15:43<30:10,  4.62s/it]"
     ]
    },
    {
     "name": "stderr",
     "output_type": "stream",
     "text": [
      "\r",
      " 19%|██████████████████████                                                                                                 | 89/480 [15:45<24:48,  3.81s/it]"
     ]
    },
    {
     "name": "stderr",
     "output_type": "stream",
     "text": [
      "\r",
      " 19%|██████████████████████▎                                                                                                | 90/480 [15:46<20:59,  3.23s/it]"
     ]
    },
    {
     "name": "stderr",
     "output_type": "stream",
     "text": [
      "\r",
      " 19%|██████████████████████▌                                                                                                | 91/480 [15:49<20:24,  3.15s/it]"
     ]
    },
    {
     "name": "stderr",
     "output_type": "stream",
     "text": [
      "\r",
      " 19%|██████████████████████▊                                                                                                | 92/480 [15:50<14:46,  2.29s/it]"
     ]
    },
    {
     "name": "stderr",
     "output_type": "stream",
     "text": [
      "\r",
      " 20%|███████████████████████▎                                                                                               | 94/480 [15:50<08:18,  1.29s/it]"
     ]
    },
    {
     "name": "stderr",
     "output_type": "stream",
     "text": [
      "\r",
      " 20%|███████████████████████▌                                                                                               | 95/480 [15:51<07:58,  1.24s/it]"
     ]
    },
    {
     "name": "stderr",
     "output_type": "stream",
     "text": [
      "\r",
      " 20%|███████████████████████▊                                                                                               | 96/480 [15:58<16:48,  2.63s/it]"
     ]
    },
    {
     "name": "stderr",
     "output_type": "stream",
     "text": [
      "\r",
      " 20%|███████████████████████▋                                                                                             | 97/480 [18:41<4:55:12, 46.25s/it]"
     ]
    },
    {
     "name": "stderr",
     "output_type": "stream",
     "text": [
      "\r",
      " 20%|███████████████████████▉                                                                                             | 98/480 [19:29<4:57:42, 46.76s/it]"
     ]
    },
    {
     "name": "stderr",
     "output_type": "stream",
     "text": [
      "\r",
      " 21%|████████████████████████▏                                                                                            | 99/480 [19:32<3:39:08, 34.51s/it]"
     ]
    },
    {
     "name": "stderr",
     "output_type": "stream",
     "text": [
      "\r",
      " 21%|████████████████████████▏                                                                                           | 100/480 [19:41<2:50:22, 26.90s/it]"
     ]
    },
    {
     "name": "stderr",
     "output_type": "stream",
     "text": [
      "\r",
      " 21%|████████████████████████▍                                                                                           | 101/480 [19:47<2:11:28, 20.81s/it]"
     ]
    },
    {
     "name": "stderr",
     "output_type": "stream",
     "text": [
      "\r",
      " 21%|████████████████████████▋                                                                                           | 102/480 [19:47<1:32:42, 14.72s/it]"
     ]
    },
    {
     "name": "stderr",
     "output_type": "stream",
     "text": [
      "\r",
      " 21%|████████████████████████▉                                                                                           | 103/480 [19:55<1:20:44, 12.85s/it]"
     ]
    },
    {
     "name": "stderr",
     "output_type": "stream",
     "text": [
      "\r",
      " 22%|█████████████████████████▏                                                                                          | 104/480 [20:02<1:08:52, 10.99s/it]"
     ]
    },
    {
     "name": "stderr",
     "output_type": "stream",
     "text": [
      "\r",
      " 22%|█████████████████████████▊                                                                                            | 105/480 [20:07<57:45,  9.24s/it]"
     ]
    },
    {
     "name": "stderr",
     "output_type": "stream",
     "text": [
      "\r",
      " 22%|██████████████████████████                                                                                            | 106/480 [20:15<54:46,  8.79s/it]"
     ]
    },
    {
     "name": "stderr",
     "output_type": "stream",
     "text": [
      "\r",
      " 22%|██████████████████████████▎                                                                                           | 107/480 [20:16<41:15,  6.64s/it]"
     ]
    },
    {
     "name": "stderr",
     "output_type": "stream",
     "text": [
      "\r",
      " 22%|██████████████████████████▌                                                                                           | 108/480 [20:28<51:10,  8.25s/it]"
     ]
    },
    {
     "name": "stderr",
     "output_type": "stream",
     "text": [
      "\r",
      " 23%|██████████████████████████▊                                                                                           | 109/480 [20:31<39:33,  6.40s/it]"
     ]
    },
    {
     "name": "stderr",
     "output_type": "stream",
     "text": [
      "\r",
      " 23%|███████████████████████████                                                                                           | 110/480 [20:34<34:55,  5.66s/it]"
     ]
    },
    {
     "name": "stderr",
     "output_type": "stream",
     "text": [
      "\r",
      " 23%|███████████████████████████▎                                                                                          | 111/480 [20:38<30:36,  4.98s/it]"
     ]
    },
    {
     "name": "stderr",
     "output_type": "stream",
     "text": [
      "\r",
      " 23%|███████████████████████████▌                                                                                          | 112/480 [20:41<27:55,  4.55s/it]"
     ]
    },
    {
     "name": "stderr",
     "output_type": "stream",
     "text": [
      "\r",
      " 24%|███████████████████████████▊                                                                                          | 113/480 [20:43<22:44,  3.72s/it]"
     ]
    },
    {
     "name": "stderr",
     "output_type": "stream",
     "text": [
      "\r",
      " 24%|████████████████████████████                                                                                          | 114/480 [20:45<19:50,  3.25s/it]"
     ]
    },
    {
     "name": "stderr",
     "output_type": "stream",
     "text": [
      "\r",
      " 24%|████████████████████████████▎                                                                                         | 115/480 [20:48<19:26,  3.20s/it]"
     ]
    },
    {
     "name": "stderr",
     "output_type": "stream",
     "text": [
      "\r",
      " 24%|████████████████████████████▌                                                                                         | 116/480 [20:49<14:06,  2.33s/it]"
     ]
    },
    {
     "name": "stderr",
     "output_type": "stream",
     "text": [
      "\r",
      " 24%|████████████████████████████▊                                                                                         | 117/480 [20:49<10:20,  1.71s/it]"
     ]
    },
    {
     "name": "stderr",
     "output_type": "stream",
     "text": [
      "\r",
      " 25%|█████████████████████████████                                                                                         | 118/480 [21:13<50:25,  8.36s/it]"
     ]
    },
    {
     "name": "stderr",
     "output_type": "stream",
     "text": [
      "\r",
      " 25%|█████████████████████████████▎                                                                                        | 119/480 [21:20<47:42,  7.93s/it]"
     ]
    },
    {
     "name": "stderr",
     "output_type": "stream",
     "text": [
      "\r",
      " 25%|█████████████████████████████▌                                                                                        | 120/480 [21:29<50:04,  8.35s/it]"
     ]
    },
    {
     "name": "stderr",
     "output_type": "stream",
     "text": [
      "\r",
      " 25%|█████████████████████████████▏                                                                                      | 121/480 [23:41<4:31:42, 45.41s/it]"
     ]
    },
    {
     "name": "stderr",
     "output_type": "stream",
     "text": [
      "\r",
      " 25%|█████████████████████████████▍                                                                                      | 122/480 [24:46<5:06:28, 51.36s/it]"
     ]
    },
    {
     "name": "stderr",
     "output_type": "stream",
     "text": [
      "\r",
      " 26%|█████████████████████████████▋                                                                                      | 123/480 [24:50<3:40:07, 36.99s/it]"
     ]
    },
    {
     "name": "stderr",
     "output_type": "stream",
     "text": [
      "\r",
      " 26%|█████████████████████████████▉                                                                                      | 124/480 [24:58<2:48:07, 28.34s/it]"
     ]
    },
    {
     "name": "stderr",
     "output_type": "stream",
     "text": [
      "\r",
      " 26%|██████████████████████████████▏                                                                                     | 125/480 [24:58<1:58:23, 20.01s/it]"
     ]
    },
    {
     "name": "stderr",
     "output_type": "stream",
     "text": [
      "\r",
      " 26%|██████████████████████████████▍                                                                                     | 126/480 [25:04<1:33:03, 15.77s/it]"
     ]
    },
    {
     "name": "stderr",
     "output_type": "stream",
     "text": [
      "\r",
      " 26%|██████████████████████████████▋                                                                                     | 127/480 [25:05<1:05:39, 11.16s/it]"
     ]
    },
    {
     "name": "stderr",
     "output_type": "stream",
     "text": [
      "\r",
      " 27%|███████████████████████████████▍                                                                                      | 128/480 [25:07<49:58,  8.52s/it]"
     ]
    },
    {
     "name": "stderr",
     "output_type": "stream",
     "text": [
      "\r",
      " 27%|███████████████████████████████▋                                                                                      | 129/480 [25:19<55:10,  9.43s/it]"
     ]
    },
    {
     "name": "stderr",
     "output_type": "stream",
     "text": [
      "\r",
      " 27%|███████████████████████████████▍                                                                                    | 130/480 [25:31<1:00:37, 10.39s/it]"
     ]
    },
    {
     "name": "stderr",
     "output_type": "stream",
     "text": [
      "\r",
      " 27%|███████████████████████████████▋                                                                                    | 131/480 [25:46<1:08:00, 11.69s/it]"
     ]
    },
    {
     "name": "stderr",
     "output_type": "stream",
     "text": [
      "\r",
      " 28%|████████████████████████████████▍                                                                                     | 132/480 [25:51<56:40,  9.77s/it]"
     ]
    },
    {
     "name": "stderr",
     "output_type": "stream",
     "text": [
      "\r",
      " 28%|████████████████████████████████▋                                                                                     | 133/480 [25:53<43:06,  7.45s/it]"
     ]
    },
    {
     "name": "stderr",
     "output_type": "stream",
     "text": [
      "\r",
      " 28%|████████████████████████████████▉                                                                                     | 134/480 [25:57<36:02,  6.25s/it]"
     ]
    },
    {
     "name": "stderr",
     "output_type": "stream",
     "text": [
      "\r",
      " 28%|█████████████████████████████████▏                                                                                    | 135/480 [25:57<26:10,  4.55s/it]"
     ]
    },
    {
     "name": "stderr",
     "output_type": "stream",
     "text": [
      "\r",
      " 28%|█████████████████████████████████▍                                                                                    | 136/480 [26:00<22:55,  4.00s/it]"
     ]
    },
    {
     "name": "stderr",
     "output_type": "stream",
     "text": [
      "\r",
      " 29%|█████████████████████████████████▋                                                                                    | 137/480 [26:01<17:15,  3.02s/it]"
     ]
    },
    {
     "name": "stderr",
     "output_type": "stream",
     "text": [
      "\r",
      " 29%|█████████████████████████████████▉                                                                                    | 138/480 [26:04<16:49,  2.95s/it]"
     ]
    },
    {
     "name": "stderr",
     "output_type": "stream",
     "text": [
      "\r",
      " 29%|██████████████████████████████████▏                                                                                   | 139/480 [26:06<16:17,  2.87s/it]"
     ]
    },
    {
     "name": "stderr",
     "output_type": "stream",
     "text": [
      "\r",
      " 29%|██████████████████████████████████▍                                                                                   | 140/480 [26:07<11:56,  2.11s/it]"
     ]
    },
    {
     "name": "stderr",
     "output_type": "stream",
     "text": [
      "\r",
      " 29%|██████████████████████████████████▋                                                                                   | 141/480 [26:07<08:48,  1.56s/it]"
     ]
    },
    {
     "name": "stderr",
     "output_type": "stream",
     "text": [
      "\r",
      " 30%|██████████████████████████████████▉                                                                                   | 142/480 [26:23<33:21,  5.92s/it]"
     ]
    },
    {
     "name": "stderr",
     "output_type": "stream",
     "text": [
      "\r",
      " 30%|███████████████████████████████████▏                                                                                  | 143/480 [26:27<30:19,  5.40s/it]"
     ]
    },
    {
     "name": "stderr",
     "output_type": "stream",
     "text": [
      "\r",
      " 30%|███████████████████████████████████▍                                                                                  | 144/480 [26:48<55:25,  9.90s/it]"
     ]
    },
    {
     "name": "stderr",
     "output_type": "stream",
     "text": [
      "\r",
      " 30%|███████████████████████████████████                                                                                 | 145/480 [29:11<4:38:12, 49.83s/it]"
     ]
    },
    {
     "name": "stderr",
     "output_type": "stream",
     "text": [
      "\r",
      " 30%|███████████████████████████████████▎                                                                                | 146/480 [30:19<5:08:06, 55.35s/it]"
     ]
    },
    {
     "name": "stderr",
     "output_type": "stream",
     "text": [
      "\r",
      " 31%|███████████████████████████████████▌                                                                                | 147/480 [30:20<3:36:15, 38.97s/it]"
     ]
    },
    {
     "name": "stderr",
     "output_type": "stream",
     "text": [
      "\r",
      " 31%|███████████████████████████████████▊                                                                                | 148/480 [30:23<2:36:27, 28.27s/it]"
     ]
    },
    {
     "name": "stderr",
     "output_type": "stream",
     "text": [
      "\r",
      " 31%|████████████████████████████████████                                                                                | 149/480 [30:28<1:57:59, 21.39s/it]"
     ]
    },
    {
     "name": "stderr",
     "output_type": "stream",
     "text": [
      "\r",
      " 31%|████████████████████████████████████▎                                                                               | 150/480 [30:29<1:24:14, 15.32s/it]"
     ]
    },
    {
     "name": "stderr",
     "output_type": "stream",
     "text": [
      "\r",
      " 31%|████████████████████████████████████▍                                                                               | 151/480 [30:37<1:11:00, 12.95s/it]"
     ]
    },
    {
     "name": "stderr",
     "output_type": "stream",
     "text": [
      "\r",
      " 32%|████████████████████████████████████▋                                                                               | 152/480 [30:44<1:01:44, 11.29s/it]"
     ]
    },
    {
     "name": "stderr",
     "output_type": "stream",
     "text": [
      "\r",
      " 32%|█████████████████████████████████████▌                                                                                | 153/480 [30:49<51:18,  9.41s/it]"
     ]
    },
    {
     "name": "stderr",
     "output_type": "stream",
     "text": [
      "\r",
      " 32%|█████████████████████████████████████▏                                                                              | 154/480 [31:11<1:10:36, 13.00s/it]"
     ]
    },
    {
     "name": "stderr",
     "output_type": "stream",
     "text": [
      "\r",
      " 32%|█████████████████████████████████████▍                                                                              | 155/480 [31:27<1:16:16, 14.08s/it]"
     ]
    },
    {
     "name": "stderr",
     "output_type": "stream",
     "text": [
      "\r",
      " 32%|█████████████████████████████████████▋                                                                              | 156/480 [31:33<1:03:00, 11.67s/it]"
     ]
    },
    {
     "name": "stderr",
     "output_type": "stream",
     "text": [
      "\r",
      " 33%|██████████████████████████████████████▌                                                                               | 157/480 [31:36<47:53,  8.90s/it]"
     ]
    },
    {
     "name": "stderr",
     "output_type": "stream",
     "text": [
      "\r",
      " 33%|██████████████████████████████████████▊                                                                               | 158/480 [31:40<40:51,  7.61s/it]"
     ]
    },
    {
     "name": "stderr",
     "output_type": "stream",
     "text": [
      "\r",
      " 33%|███████████████████████████████████████                                                                               | 159/480 [31:40<28:45,  5.37s/it]"
     ]
    },
    {
     "name": "stderr",
     "output_type": "stream",
     "text": [
      "\r",
      " 33%|███████████████████████████████████████▎                                                                              | 160/480 [31:44<25:31,  4.79s/it]"
     ]
    },
    {
     "name": "stderr",
     "output_type": "stream",
     "text": [
      "\r",
      " 34%|███████████████████████████████████████▌                                                                              | 161/480 [31:44<18:32,  3.49s/it]"
     ]
    },
    {
     "name": "stderr",
     "output_type": "stream",
     "text": [
      "\r",
      " 34%|███████████████████████████████████████▊                                                                              | 162/480 [31:48<18:12,  3.44s/it]"
     ]
    },
    {
     "name": "stderr",
     "output_type": "stream",
     "text": [
      "\r",
      " 34%|████████████████████████████████████████                                                                              | 163/480 [31:50<16:28,  3.12s/it]"
     ]
    },
    {
     "name": "stderr",
     "output_type": "stream",
     "text": [
      "\r",
      " 34%|████████████████████████████████████████▎                                                                             | 164/480 [31:50<12:00,  2.28s/it]"
     ]
    },
    {
     "name": "stderr",
     "output_type": "stream",
     "text": [
      "\r",
      " 34%|████████████████████████████████████████▌                                                                             | 165/480 [31:51<08:49,  1.68s/it]"
     ]
    },
    {
     "name": "stderr",
     "output_type": "stream",
     "text": [
      "\r",
      " 35%|████████████████████████████████████████▊                                                                             | 166/480 [31:58<17:40,  3.38s/it]"
     ]
    },
    {
     "name": "stderr",
     "output_type": "stream",
     "text": [
      "\r",
      " 35%|█████████████████████████████████████████                                                                             | 167/480 [32:15<38:40,  7.41s/it]"
     ]
    },
    {
     "name": "stderr",
     "output_type": "stream",
     "text": [
      "\r",
      " 35%|█████████████████████████████████████████▎                                                                            | 168/480 [32:33<55:42, 10.71s/it]"
     ]
    },
    {
     "name": "stderr",
     "output_type": "stream",
     "text": [
      "\r",
      " 35%|████████████████████████████████████████▊                                                                           | 169/480 [34:52<4:14:28, 49.09s/it]"
     ]
    },
    {
     "name": "stderr",
     "output_type": "stream",
     "text": [
      "\r",
      " 35%|█████████████████████████████████████████                                                                           | 170/480 [36:00<4:43:59, 54.96s/it]"
     ]
    },
    {
     "name": "stderr",
     "output_type": "stream",
     "text": [
      "\r",
      " 36%|█████████████████████████████████████████▎                                                                          | 171/480 [36:04<3:24:02, 39.62s/it]"
     ]
    },
    {
     "name": "stderr",
     "output_type": "stream",
     "text": [
      "\r",
      " 36%|█████████████████████████████████████████▌                                                                          | 172/480 [36:09<2:30:19, 29.28s/it]"
     ]
    },
    {
     "name": "stderr",
     "output_type": "stream",
     "text": [
      "\r",
      " 36%|█████████████████████████████████████████▊                                                                          | 173/480 [36:13<1:50:15, 21.55s/it]"
     ]
    },
    {
     "name": "stderr",
     "output_type": "stream",
     "text": [
      "\r",
      " 36%|██████████████████████████████████████████                                                                          | 174/480 [36:16<1:21:54, 16.06s/it]"
     ]
    },
    {
     "name": "stderr",
     "output_type": "stream",
     "text": [
      "\r",
      " 36%|██████████████████████████████████████████▎                                                                         | 175/480 [36:22<1:05:20, 12.85s/it]"
     ]
    },
    {
     "name": "stderr",
     "output_type": "stream",
     "text": [
      "\r",
      " 37%|██████████████████████████████████████████▌                                                                         | 176/480 [36:31<1:00:33, 11.95s/it]"
     ]
    },
    {
     "name": "stderr",
     "output_type": "stream",
     "text": [
      "\r",
      " 37%|███████████████████████████████████████████▌                                                                          | 177/480 [36:35<47:42,  9.45s/it]"
     ]
    },
    {
     "name": "stderr",
     "output_type": "stream",
     "text": [
      "\r",
      " 37%|███████████████████████████████████████████▊                                                                          | 178/480 [36:47<51:00, 10.13s/it]"
     ]
    },
    {
     "name": "stderr",
     "output_type": "stream",
     "text": [
      "\r",
      " 37%|███████████████████████████████████████████▎                                                                        | 179/480 [37:12<1:14:08, 14.78s/it]"
     ]
    },
    {
     "name": "stderr",
     "output_type": "stream",
     "text": [
      "\r",
      " 38%|████████████████████████████████████████████▎                                                                         | 180/480 [37:15<56:13, 11.25s/it]"
     ]
    },
    {
     "name": "stderr",
     "output_type": "stream",
     "text": [
      "\r",
      " 38%|████████████████████████████████████████████▍                                                                         | 181/480 [37:18<42:32,  8.54s/it]"
     ]
    },
    {
     "name": "stderr",
     "output_type": "stream",
     "text": [
      "\r",
      " 38%|████████████████████████████████████████████▋                                                                         | 182/480 [37:22<36:19,  7.32s/it]"
     ]
    },
    {
     "name": "stderr",
     "output_type": "stream",
     "text": [
      "\r",
      " 38%|████████████████████████████████████████████▉                                                                         | 183/480 [37:25<29:13,  5.90s/it]"
     ]
    },
    {
     "name": "stderr",
     "output_type": "stream",
     "text": [
      "\r",
      " 38%|█████████████████████████████████████████████▏                                                                        | 184/480 [37:26<22:02,  4.47s/it]"
     ]
    },
    {
     "name": "stderr",
     "output_type": "stream",
     "text": [
      "\r",
      " 39%|█████████████████████████████████████████████▍                                                                        | 185/480 [37:28<19:04,  3.88s/it]"
     ]
    },
    {
     "name": "stderr",
     "output_type": "stream",
     "text": [
      "\r",
      " 39%|█████████████████████████████████████████████▋                                                                        | 186/480 [37:29<14:55,  3.05s/it]"
     ]
    },
    {
     "name": "stderr",
     "output_type": "stream",
     "text": [
      "\r",
      " 39%|█████████████████████████████████████████████▉                                                                        | 187/480 [37:33<16:04,  3.29s/it]"
     ]
    },
    {
     "name": "stderr",
     "output_type": "stream",
     "text": [
      "\r",
      " 39%|██████████████████████████████████████████████▏                                                                       | 188/480 [37:34<11:43,  2.41s/it]"
     ]
    },
    {
     "name": "stderr",
     "output_type": "stream",
     "text": [
      "\r",
      " 39%|██████████████████████████████████████████████▍                                                                       | 189/480 [37:34<08:43,  1.80s/it]"
     ]
    },
    {
     "name": "stderr",
     "output_type": "stream",
     "text": [
      "\r",
      " 40%|██████████████████████████████████████████████▋                                                                       | 190/480 [37:50<29:48,  6.17s/it]"
     ]
    },
    {
     "name": "stderr",
     "output_type": "stream",
     "text": [
      "\r",
      " 40%|██████████████████████████████████████████████▉                                                                       | 191/480 [37:58<31:42,  6.58s/it]"
     ]
    },
    {
     "name": "stderr",
     "output_type": "stream",
     "text": [
      "\r",
      " 40%|███████████████████████████████████████████████▏                                                                      | 192/480 [38:10<39:23,  8.21s/it]"
     ]
    },
    {
     "name": "stderr",
     "output_type": "stream",
     "text": [
      "\r",
      " 40%|██████████████████████████████████████████████▋                                                                     | 193/480 [40:53<4:21:50, 54.74s/it]"
     ]
    },
    {
     "name": "stderr",
     "output_type": "stream",
     "text": [
      "\r",
      " 40%|██████████████████████████████████████████████▉                                                                     | 194/480 [42:02<4:40:52, 58.93s/it]"
     ]
    },
    {
     "name": "stderr",
     "output_type": "stream",
     "text": [
      "\r",
      " 41%|███████████████████████████████████████████████▏                                                                    | 195/480 [42:05<3:21:02, 42.32s/it]"
     ]
    },
    {
     "name": "stderr",
     "output_type": "stream",
     "text": [
      "\r",
      " 41%|███████████████████████████████████████████████▌                                                                    | 197/480 [42:13<1:55:22, 24.46s/it]"
     ]
    },
    {
     "name": "stderr",
     "output_type": "stream",
     "text": [
      "\r",
      " 41%|███████████████████████████████████████████████▊                                                                    | 198/480 [42:15<1:29:17, 19.00s/it]"
     ]
    },
    {
     "name": "stderr",
     "output_type": "stream",
     "text": [
      "\r",
      " 41%|████████████████████████████████████████████████                                                                    | 199/480 [42:22<1:13:36, 15.72s/it]"
     ]
    },
    {
     "name": "stderr",
     "output_type": "stream",
     "text": [
      "\r",
      " 42%|████████████████████████████████████████████████▎                                                                   | 200/480 [42:30<1:03:53, 13.69s/it]"
     ]
    },
    {
     "name": "stderr",
     "output_type": "stream",
     "text": [
      "\r",
      " 42%|████████████████████████████████████████████████▌                                                                   | 201/480 [42:45<1:05:00, 13.98s/it]"
     ]
    },
    {
     "name": "stderr",
     "output_type": "stream",
     "text": [
      "\r",
      " 42%|████████████████████████████████████████████████▊                                                                   | 202/480 [43:10<1:20:21, 17.34s/it]"
     ]
    },
    {
     "name": "stderr",
     "output_type": "stream",
     "text": [
      "\r",
      " 42%|█████████████████████████████████████████████████                                                                   | 203/480 [43:13<1:00:01, 13.00s/it]"
     ]
    },
    {
     "name": "stderr",
     "output_type": "stream",
     "text": [
      "\r",
      " 42%|██████████████████████████████████████████████████▏                                                                   | 204/480 [43:16<46:31, 10.11s/it]"
     ]
    },
    {
     "name": "stderr",
     "output_type": "stream",
     "text": [
      "\r",
      " 43%|██████████████████████████████████████████████████▍                                                                   | 205/480 [43:18<36:07,  7.88s/it]"
     ]
    },
    {
     "name": "stderr",
     "output_type": "stream",
     "text": [
      "\r",
      " 43%|██████████████████████████████████████████████████▋                                                                   | 206/480 [43:24<32:48,  7.18s/it]"
     ]
    },
    {
     "name": "stderr",
     "output_type": "stream",
     "text": [
      "\r",
      " 43%|██████████████████████████████████████████████████▉                                                                   | 207/480 [43:26<25:10,  5.53s/it]"
     ]
    },
    {
     "name": "stderr",
     "output_type": "stream",
     "text": [
      "\r",
      " 43%|███████████████████████████████████████████████████▏                                                                  | 208/480 [43:28<20:16,  4.47s/it]"
     ]
    },
    {
     "name": "stderr",
     "output_type": "stream",
     "text": [
      "\r",
      " 44%|███████████████████████████████████████████████████▍                                                                  | 209/480 [43:29<16:19,  3.61s/it]"
     ]
    },
    {
     "name": "stderr",
     "output_type": "stream",
     "text": [
      "\r",
      " 44%|███████████████████████████████████████████████████▋                                                                  | 210/480 [43:31<14:13,  3.16s/it]"
     ]
    },
    {
     "name": "stderr",
     "output_type": "stream",
     "text": [
      "\r",
      " 44%|███████████████████████████████████████████████████▊                                                                  | 211/480 [43:34<13:33,  3.02s/it]"
     ]
    },
    {
     "name": "stderr",
     "output_type": "stream",
     "text": [
      "\r",
      " 44%|████████████████████████████████████████████████████                                                                  | 212/480 [43:34<09:54,  2.22s/it]"
     ]
    },
    {
     "name": "stderr",
     "output_type": "stream",
     "text": [
      "\r",
      " 44%|████████████████████████████████████████████████████▎                                                                 | 213/480 [43:35<07:18,  1.64s/it]"
     ]
    },
    {
     "name": "stderr",
     "output_type": "stream",
     "text": [
      "\r",
      " 45%|████████████████████████████████████████████████████▌                                                                 | 214/480 [43:57<35:16,  7.96s/it]"
     ]
    },
    {
     "name": "stderr",
     "output_type": "stream",
     "text": [
      "\r",
      " 45%|████████████████████████████████████████████████████▊                                                                 | 215/480 [44:11<43:02,  9.75s/it]"
     ]
    },
    {
     "name": "stderr",
     "output_type": "stream",
     "text": [
      "\r",
      " 45%|████████████████████████████████████████████████████▏                                                               | 216/480 [44:36<1:03:10, 14.36s/it]"
     ]
    },
    {
     "name": "stderr",
     "output_type": "stream",
     "text": [
      "\r",
      " 45%|████████████████████████████████████████████████████▍                                                               | 217/480 [47:17<4:15:27, 58.28s/it]"
     ]
    },
    {
     "name": "stderr",
     "output_type": "stream",
     "text": [
      "\r",
      " 45%|████████████████████████████████████████████████████▋                                                               | 218/480 [48:26<4:28:55, 61.58s/it]"
     ]
    },
    {
     "name": "stderr",
     "output_type": "stream",
     "text": [
      "\r",
      " 46%|████████████████████████████████████████████████████▉                                                               | 219/480 [48:30<3:11:46, 44.08s/it]"
     ]
    },
    {
     "name": "stderr",
     "output_type": "stream",
     "text": [
      "\r",
      " 46%|█████████████████████████████████████████████████████▏                                                              | 220/480 [48:31<2:15:10, 31.20s/it]"
     ]
    },
    {
     "name": "stderr",
     "output_type": "stream",
     "text": [
      "\r",
      " 46%|█████████████████████████████████████████████████████▍                                                              | 221/480 [48:38<1:44:10, 24.13s/it]"
     ]
    },
    {
     "name": "stderr",
     "output_type": "stream",
     "text": [
      "\r",
      " 46%|█████████████████████████████████████████████████████▉                                                              | 223/480 [48:48<1:05:22, 15.26s/it]"
     ]
    },
    {
     "name": "stderr",
     "output_type": "stream",
     "text": [
      "\r",
      " 47%|███████████████████████████████████████████████████████                                                               | 224/480 [48:51<52:03, 12.20s/it]"
     ]
    },
    {
     "name": "stderr",
     "output_type": "stream",
     "text": [
      "\r",
      " 47%|███████████████████████████████████████████████████████▎                                                              | 225/480 [48:55<42:43, 10.05s/it]"
     ]
    },
    {
     "name": "stderr",
     "output_type": "stream",
     "text": [
      "\r",
      " 47%|██████████████████████████████████████████████████████▌                                                             | 226/480 [49:21<1:00:51, 14.38s/it]"
     ]
    },
    {
     "name": "stderr",
     "output_type": "stream",
     "text": [
      "\r",
      " 47%|██████████████████████████████████████████████████████▊                                                             | 227/480 [49:36<1:01:02, 14.47s/it]"
     ]
    },
    {
     "name": "stderr",
     "output_type": "stream",
     "text": [
      "\r",
      " 48%|████████████████████████████████████████████████████████                                                              | 228/480 [49:48<58:08, 13.84s/it]"
     ]
    },
    {
     "name": "stderr",
     "output_type": "stream",
     "text": [
      "\r",
      " 48%|████████████████████████████████████████████████████████▎                                                             | 229/480 [49:49<41:37,  9.95s/it]"
     ]
    },
    {
     "name": "stderr",
     "output_type": "stream",
     "text": [
      "\r",
      " 48%|████████████████████████████████████████████████████████▌                                                             | 230/480 [49:51<32:30,  7.80s/it]"
     ]
    },
    {
     "name": "stderr",
     "output_type": "stream",
     "text": [
      "\r",
      " 48%|████████████████████████████████████████████████████████▊                                                             | 231/480 [49:54<26:00,  6.27s/it]"
     ]
    },
    {
     "name": "stderr",
     "output_type": "stream",
     "text": [
      "\r",
      " 48%|█████████████████████████████████████████████████████████                                                             | 232/480 [49:56<20:24,  4.94s/it]"
     ]
    },
    {
     "name": "stderr",
     "output_type": "stream",
     "text": [
      "\r",
      " 49%|█████████████████████████████████████████████████████████▎                                                            | 233/480 [49:58<17:02,  4.14s/it]"
     ]
    },
    {
     "name": "stderr",
     "output_type": "stream",
     "text": [
      "\r",
      " 49%|█████████████████████████████████████████████████████████▌                                                            | 234/480 [49:59<13:34,  3.31s/it]"
     ]
    },
    {
     "name": "stderr",
     "output_type": "stream",
     "text": [
      "\r",
      " 49%|█████████████████████████████████████████████████████████▊                                                            | 235/480 [50:03<14:02,  3.44s/it]"
     ]
    },
    {
     "name": "stderr",
     "output_type": "stream",
     "text": [
      "\r",
      " 49%|██████████████████████████████████████████████████████████                                                            | 236/480 [50:03<10:10,  2.50s/it]"
     ]
    },
    {
     "name": "stderr",
     "output_type": "stream",
     "text": [
      "\r",
      " 49%|██████████████████████████████████████████████████████████▎                                                           | 237/480 [50:03<07:27,  1.84s/it]"
     ]
    },
    {
     "name": "stderr",
     "output_type": "stream",
     "text": [
      "\r",
      " 50%|██████████████████████████████████████████████████████████▌                                                           | 238/480 [50:15<19:12,  4.76s/it]"
     ]
    },
    {
     "name": "stderr",
     "output_type": "stream",
     "text": [
      "\r",
      " 50%|██████████████████████████████████████████████████████████▊                                                           | 239/480 [50:31<32:09,  8.01s/it]"
     ]
    },
    {
     "name": "stderr",
     "output_type": "stream",
     "text": [
      "\r",
      " 50%|███████████████████████████████████████████████████████████                                                           | 240/480 [50:49<44:24, 11.10s/it]"
     ]
    },
    {
     "name": "stderr",
     "output_type": "stream",
     "text": [
      "\r",
      " 50%|██████████████████████████████████████████████████████████▏                                                         | 241/480 [53:22<3:33:55, 53.70s/it]"
     ]
    },
    {
     "name": "stderr",
     "output_type": "stream",
     "text": [
      "\r",
      " 50%|██████████████████████████████████████████████████████████▍                                                         | 242/480 [54:39<4:00:25, 60.61s/it]"
     ]
    },
    {
     "name": "stderr",
     "output_type": "stream",
     "text": [
      "\r",
      " 51%|██████████████████████████████████████████████████████████▋                                                         | 243/480 [54:43<2:52:04, 43.56s/it]"
     ]
    },
    {
     "name": "stderr",
     "output_type": "stream",
     "text": [
      "\r",
      " 51%|██████████████████████████████████████████████████████████▉                                                         | 244/480 [54:51<2:10:02, 33.06s/it]"
     ]
    },
    {
     "name": "stderr",
     "output_type": "stream",
     "text": [
      "\r",
      " 51%|███████████████████████████████████████████████████████████▏                                                        | 245/480 [54:53<1:32:14, 23.55s/it]"
     ]
    },
    {
     "name": "stderr",
     "output_type": "stream",
     "text": [
      "\r",
      " 51%|███████████████████████████████████████████████████████████▍                                                        | 246/480 [54:53<1:05:20, 16.75s/it]"
     ]
    },
    {
     "name": "stderr",
     "output_type": "stream",
     "text": [
      "\r",
      " 51%|████████████████████████████████████████████████████████████▋                                                         | 247/480 [54:58<51:10, 13.18s/it]"
     ]
    },
    {
     "name": "stderr",
     "output_type": "stream",
     "text": [
      "\r",
      " 52%|████████████████████████████████████████████████████████████▉                                                         | 248/480 [55:02<39:55, 10.33s/it]"
     ]
    },
    {
     "name": "stderr",
     "output_type": "stream",
     "text": [
      "\r",
      " 52%|█████████████████████████████████████████████████████████████▏                                                        | 249/480 [55:09<35:41,  9.27s/it]"
     ]
    },
    {
     "name": "stderr",
     "output_type": "stream",
     "text": [
      "\r",
      " 52%|████████████████████████████████████████████████████████████▍                                                       | 250/480 [55:53<1:15:57, 19.82s/it]"
     ]
    },
    {
     "name": "stderr",
     "output_type": "stream",
     "text": [
      "\r",
      " 52%|████████████████████████████████████████████████████████████▋                                                       | 251/480 [56:04<1:04:52, 17.00s/it]"
     ]
    },
    {
     "name": "stderr",
     "output_type": "stream",
     "text": [
      "\r",
      " 52%|█████████████████████████████████████████████████████████████▉                                                        | 252/480 [56:14<56:49, 14.96s/it]"
     ]
    },
    {
     "name": "stderr",
     "output_type": "stream",
     "text": [
      "\r",
      " 53%|██████████████████████████████████████████████████████████████▏                                                       | 253/480 [56:16<42:13, 11.16s/it]"
     ]
    },
    {
     "name": "stderr",
     "output_type": "stream",
     "text": [
      "\r",
      " 53%|██████████████████████████████████████████████████████████████▋                                                       | 255/480 [56:20<25:51,  6.89s/it]"
     ]
    },
    {
     "name": "stderr",
     "output_type": "stream",
     "text": [
      "\r",
      " 53%|██████████████████████████████████████████████████████████████▉                                                       | 256/480 [56:21<20:32,  5.50s/it]"
     ]
    },
    {
     "name": "stderr",
     "output_type": "stream",
     "text": [
      "\r",
      " 54%|███████████████████████████████████████████████████████████████▏                                                      | 257/480 [56:24<17:54,  4.82s/it]"
     ]
    },
    {
     "name": "stderr",
     "output_type": "stream",
     "text": [
      "\r",
      " 54%|███████████████████████████████████████████████████████████████▍                                                      | 258/480 [56:25<14:06,  3.81s/it]"
     ]
    },
    {
     "name": "stderr",
     "output_type": "stream",
     "text": [
      "\r",
      " 54%|███████████████████████████████████████████████████████████████▋                                                      | 259/480 [56:26<10:25,  2.83s/it]"
     ]
    },
    {
     "name": "stderr",
     "output_type": "stream",
     "text": [
      "\r",
      " 54%|███████████████████████████████████████████████████████████████▉                                                      | 260/480 [56:26<07:50,  2.14s/it]"
     ]
    },
    {
     "name": "stderr",
     "output_type": "stream",
     "text": [
      "\r",
      " 54%|████████████████████████████████████████████████████████████████▏                                                     | 261/480 [56:26<05:53,  1.61s/it]"
     ]
    },
    {
     "name": "stderr",
     "output_type": "stream",
     "text": [
      "\r",
      " 55%|████████████████████████████████████████████████████████████████▍                                                     | 262/480 [56:29<07:29,  2.06s/it]"
     ]
    },
    {
     "name": "stderr",
     "output_type": "stream",
     "text": [
      "\r",
      " 55%|████████████████████████████████████████████████████████████████▋                                                     | 263/480 [56:53<30:06,  8.33s/it]"
     ]
    },
    {
     "name": "stderr",
     "output_type": "stream",
     "text": [
      "\r",
      " 55%|████████████████████████████████████████████████████████████████▉                                                     | 264/480 [57:27<57:48, 16.06s/it]"
     ]
    },
    {
     "name": "stderr",
     "output_type": "stream",
     "text": [
      "\r",
      " 55%|██████████████████████████████████████████████████████████████▉                                                   | 265/480 [1:00:41<4:06:59, 68.93s/it]"
     ]
    },
    {
     "name": "stderr",
     "output_type": "stream",
     "text": [
      "\r",
      " 55%|███████████████████████████████████████████████████████████████▏                                                  | 266/480 [1:01:57<4:13:38, 71.12s/it]"
     ]
    },
    {
     "name": "stderr",
     "output_type": "stream",
     "text": [
      "\r",
      " 56%|███████████████████████████████████████████████████████████████▍                                                  | 267/480 [1:02:02<3:02:11, 51.32s/it]"
     ]
    },
    {
     "name": "stderr",
     "output_type": "stream",
     "text": [
      "\r",
      " 56%|███████████████████████████████████████████████████████████████▋                                                  | 268/480 [1:02:04<2:09:05, 36.54s/it]"
     ]
    },
    {
     "name": "stderr",
     "output_type": "stream",
     "text": [
      "\r",
      " 56%|███████████████████████████████████████████████████████████████▉                                                  | 269/480 [1:02:12<1:38:59, 28.15s/it]"
     ]
    },
    {
     "name": "stderr",
     "output_type": "stream",
     "text": [
      "\r",
      " 56%|████████████████████████████████████████████████████████████████▏                                                 | 270/480 [1:02:14<1:10:09, 20.04s/it]"
     ]
    },
    {
     "name": "stderr",
     "output_type": "stream",
     "text": [
      "\r",
      " 56%|█████████████████████████████████████████████████████████████████▍                                                  | 271/480 [1:02:21<57:05, 16.39s/it]"
     ]
    },
    {
     "name": "stderr",
     "output_type": "stream",
     "text": [
      "\r",
      " 57%|█████████████████████████████████████████████████████████████████▋                                                  | 272/480 [1:02:27<46:05, 13.30s/it]"
     ]
    },
    {
     "name": "stderr",
     "output_type": "stream",
     "text": [
      "\r",
      " 57%|█████████████████████████████████████████████████████████████████▉                                                  | 273/480 [1:02:28<33:09,  9.61s/it]"
     ]
    },
    {
     "name": "stderr",
     "output_type": "stream",
     "text": [
      "\r",
      " 57%|██████████████████████████████████████████████████████████████████▏                                                 | 274/480 [1:02:51<46:12, 13.46s/it]"
     ]
    },
    {
     "name": "stderr",
     "output_type": "stream",
     "text": [
      "\r",
      " 57%|██████████████████████████████████████████████████████████████████▍                                                 | 275/480 [1:02:56<36:53, 10.80s/it]"
     ]
    },
    {
     "name": "stderr",
     "output_type": "stream",
     "text": [
      "\r",
      " 57%|██████████████████████████████████████████████████████████████████▋                                                 | 276/480 [1:03:09<39:12, 11.53s/it]"
     ]
    },
    {
     "name": "stderr",
     "output_type": "stream",
     "text": [
      "\r",
      " 58%|██████████████████████████████████████████████████████████████████▉                                                 | 277/480 [1:03:12<30:17,  8.95s/it]"
     ]
    },
    {
     "name": "stderr",
     "output_type": "stream",
     "text": [
      "\r",
      " 58%|███████████████████████████████████████████████████████████████████▏                                                | 278/480 [1:03:17<26:31,  7.88s/it]"
     ]
    },
    {
     "name": "stderr",
     "output_type": "stream",
     "text": [
      "\r",
      " 58%|███████████████████████████████████████████████████████████████████▍                                                | 279/480 [1:03:21<22:53,  6.84s/it]"
     ]
    },
    {
     "name": "stderr",
     "output_type": "stream",
     "text": [
      "\r",
      " 58%|███████████████████████████████████████████████████████████████████▋                                                | 280/480 [1:03:25<19:38,  5.89s/it]"
     ]
    },
    {
     "name": "stderr",
     "output_type": "stream",
     "text": [
      "\r",
      " 59%|███████████████████████████████████████████████████████████████████▉                                                | 281/480 [1:03:28<16:57,  5.11s/it]"
     ]
    },
    {
     "name": "stderr",
     "output_type": "stream",
     "text": [
      "\r",
      " 59%|████████████████████████████████████████████████████████████████████▏                                               | 282/480 [1:03:30<12:56,  3.92s/it]"
     ]
    },
    {
     "name": "stderr",
     "output_type": "stream",
     "text": [
      "\r",
      " 59%|████████████████████████████████████████████████████████████████████▍                                               | 283/480 [1:03:34<13:17,  4.05s/it]"
     ]
    },
    {
     "name": "stderr",
     "output_type": "stream",
     "text": [
      "\r",
      " 59%|████████████████████████████████████████████████████████████████████▋                                               | 284/480 [1:03:34<09:41,  2.97s/it]"
     ]
    },
    {
     "name": "stderr",
     "output_type": "stream",
     "text": [
      "\r",
      " 59%|████████████████████████████████████████████████████████████████████▉                                               | 285/480 [1:03:35<07:04,  2.18s/it]"
     ]
    },
    {
     "name": "stderr",
     "output_type": "stream",
     "text": [
      "\r",
      " 60%|█████████████████████████████████████████████████████████████████████                                               | 286/480 [1:04:01<30:52,  9.55s/it]"
     ]
    },
    {
     "name": "stderr",
     "output_type": "stream",
     "text": [
      "\r",
      " 60%|█████████████████████████████████████████████████████████████████████▎                                              | 287/480 [1:04:20<38:57, 12.11s/it]"
     ]
    },
    {
     "name": "stderr",
     "output_type": "stream",
     "text": [
      "\r",
      " 60%|█████████████████████████████████████████████████████████████████████▌                                              | 288/480 [1:04:25<32:15, 10.08s/it]"
     ]
    },
    {
     "name": "stderr",
     "output_type": "stream",
     "text": [
      "\r",
      " 60%|████████████████████████████████████████████████████████████████████▋                                             | 289/480 [1:07:47<3:34:58, 67.53s/it]"
     ]
    },
    {
     "name": "stderr",
     "output_type": "stream",
     "text": [
      "\r",
      " 60%|████████████████████████████████████████████████████████████████████▉                                             | 290/480 [1:08:14<2:55:37, 55.46s/it]"
     ]
    },
    {
     "name": "stderr",
     "output_type": "stream",
     "text": [
      "\r",
      " 61%|█████████████████████████████████████████████████████████████████████                                             | 291/480 [1:08:20<2:07:44, 40.55s/it]"
     ]
    },
    {
     "name": "stderr",
     "output_type": "stream",
     "text": [
      "\r",
      " 61%|█████████████████████████████████████████████████████████████████████▎                                            | 292/480 [1:08:29<1:37:54, 31.25s/it]"
     ]
    },
    {
     "name": "stderr",
     "output_type": "stream",
     "text": [
      "\r",
      " 61%|█████████████████████████████████████████████████████████████████████▌                                            | 293/480 [1:08:37<1:15:50, 24.34s/it]"
     ]
    },
    {
     "name": "stderr",
     "output_type": "stream",
     "text": [
      "\r",
      " 61%|█████████████████████████████████████████████████████████████████████▊                                            | 294/480 [1:08:47<1:01:48, 19.94s/it]"
     ]
    },
    {
     "name": "stderr",
     "output_type": "stream",
     "text": [
      "\r",
      " 61%|███████████████████████████████████████████████████████████████████████▎                                            | 295/480 [1:09:03<57:45, 18.73s/it]"
     ]
    },
    {
     "name": "stderr",
     "output_type": "stream",
     "text": [
      "\r",
      " 62%|███████████████████████████████████████████████████████████████████████▌                                            | 296/480 [1:09:05<42:08, 13.74s/it]"
     ]
    },
    {
     "name": "stderr",
     "output_type": "stream",
     "text": [
      "\r",
      " 62%|███████████████████████████████████████████████████████████████████████▊                                            | 297/480 [1:09:24<46:50, 15.36s/it]"
     ]
    },
    {
     "name": "stderr",
     "output_type": "stream",
     "text": [
      "\r",
      " 62%|██████████████████████████████████████████████████████████████████████▊                                           | 298/480 [1:10:05<1:10:13, 23.15s/it]"
     ]
    },
    {
     "name": "stderr",
     "output_type": "stream",
     "text": [
      "\r",
      " 62%|████████████████████████████████████████████████████████████████████████▎                                           | 299/480 [1:10:12<54:53, 18.20s/it]"
     ]
    },
    {
     "name": "stderr",
     "output_type": "stream",
     "text": [
      "\r",
      " 62%|████████████████████████████████████████████████████████████████████████▌                                           | 300/480 [1:10:25<50:13, 16.74s/it]"
     ]
    },
    {
     "name": "stderr",
     "output_type": "stream",
     "text": [
      "\r",
      " 63%|████████████████████████████████████████████████████████████████████████▋                                           | 301/480 [1:10:28<37:29, 12.57s/it]"
     ]
    },
    {
     "name": "stderr",
     "output_type": "stream",
     "text": [
      "\r",
      " 63%|████████████████████████████████████████████████████████████████████████▉                                           | 302/480 [1:10:34<31:02, 10.46s/it]"
     ]
    },
    {
     "name": "stderr",
     "output_type": "stream",
     "text": [
      "\r",
      " 63%|█████████████████████████████████████████████████████████████████████████▏                                          | 303/480 [1:10:35<22:44,  7.71s/it]"
     ]
    },
    {
     "name": "stderr",
     "output_type": "stream",
     "text": [
      "\r",
      " 63%|█████████████████████████████████████████████████████████████████████████▍                                          | 304/480 [1:10:38<18:32,  6.32s/it]"
     ]
    },
    {
     "name": "stderr",
     "output_type": "stream",
     "text": [
      "\r",
      " 64%|█████████████████████████████████████████████████████████████████████████▋                                          | 305/480 [1:10:39<13:37,  4.67s/it]"
     ]
    },
    {
     "name": "stderr",
     "output_type": "stream",
     "text": [
      "\r",
      " 64%|█████████████████████████████████████████████████████████████████████████▉                                          | 306/480 [1:10:42<12:05,  4.17s/it]"
     ]
    },
    {
     "name": "stderr",
     "output_type": "stream",
     "text": [
      "\r",
      " 64%|██████████████████████████████████████████████████████████████████████████▏                                         | 307/480 [1:10:45<10:38,  3.69s/it]"
     ]
    },
    {
     "name": "stderr",
     "output_type": "stream",
     "text": [
      "\r",
      " 64%|██████████████████████████████████████████████████████████████████████████▍                                         | 308/480 [1:10:45<07:47,  2.72s/it]"
     ]
    },
    {
     "name": "stderr",
     "output_type": "stream",
     "text": [
      "\r",
      " 64%|██████████████████████████████████████████████████████████████████████████▋                                         | 309/480 [1:10:45<05:42,  2.00s/it]"
     ]
    },
    {
     "name": "stderr",
     "output_type": "stream",
     "text": [
      "\r",
      " 65%|██████████████████████████████████████████████████████████████████████████▉                                         | 310/480 [1:10:55<12:21,  4.36s/it]"
     ]
    },
    {
     "name": "stderr",
     "output_type": "stream",
     "text": [
      "\r",
      " 65%|███████████████████████████████████████████████████████████████████████████▏                                        | 311/480 [1:11:03<14:52,  5.28s/it]"
     ]
    },
    {
     "name": "stderr",
     "output_type": "stream",
     "text": [
      "\r",
      " 65%|███████████████████████████████████████████████████████████████████████████▍                                        | 312/480 [1:11:45<45:54, 16.39s/it]"
     ]
    },
    {
     "name": "stderr",
     "output_type": "stream",
     "text": [
      "\r",
      " 65%|██████████████████████████████████████████████████████████████████████████▎                                       | 313/480 [1:15:26<3:36:47, 77.89s/it]"
     ]
    },
    {
     "name": "stderr",
     "output_type": "stream",
     "text": [
      "\r",
      " 65%|██████████████████████████████████████████████████████████████████████████▌                                       | 314/480 [1:16:34<3:26:35, 74.67s/it]"
     ]
    },
    {
     "name": "stderr",
     "output_type": "stream",
     "text": [
      "\r",
      " 66%|██████████████████████████████████████████████████████████████████████████▊                                       | 315/480 [1:16:39<2:28:21, 53.95s/it]"
     ]
    },
    {
     "name": "stderr",
     "output_type": "stream",
     "text": [
      "\r",
      " 66%|███████████████████████████████████████████████████████████████████████████                                       | 316/480 [1:16:49<1:51:33, 40.81s/it]"
     ]
    },
    {
     "name": "stderr",
     "output_type": "stream",
     "text": [
      "\r",
      " 66%|███████████████████████████████████████████████████████████████████████████▎                                      | 317/480 [1:16:50<1:18:02, 28.73s/it]"
     ]
    },
    {
     "name": "stderr",
     "output_type": "stream",
     "text": [
      "\r",
      " 66%|███████████████████████████████████████████████████████████████████████████▌                                      | 318/480 [1:16:58<1:00:39, 22.46s/it]"
     ]
    },
    {
     "name": "stderr",
     "output_type": "stream",
     "text": [
      "\r",
      " 66%|█████████████████████████████████████████████████████████████████████████████                                       | 319/480 [1:16:59<43:16, 16.13s/it]"
     ]
    },
    {
     "name": "stderr",
     "output_type": "stream",
     "text": [
      "\r",
      " 67%|█████████████████████████████████████████████████████████████████████████████▎                                      | 320/480 [1:17:13<41:25, 15.54s/it]"
     ]
    },
    {
     "name": "stderr",
     "output_type": "stream",
     "text": [
      "\r",
      " 67%|█████████████████████████████████████████████████████████████████████████████▌                                      | 321/480 [1:17:26<38:49, 14.65s/it]"
     ]
    },
    {
     "name": "stderr",
     "output_type": "stream",
     "text": [
      "\r",
      " 67%|█████████████████████████████████████████████████████████████████████████████▊                                      | 322/480 [1:17:31<31:03, 11.79s/it]"
     ]
    },
    {
     "name": "stderr",
     "output_type": "stream",
     "text": [
      "\r",
      " 67%|██████████████████████████████████████████████████████████████████████████████                                      | 323/480 [1:18:11<53:29, 20.44s/it]"
     ]
    },
    {
     "name": "stderr",
     "output_type": "stream",
     "text": [
      "\r",
      " 68%|██████████████████████████████████████████████████████████████████████████████▎                                     | 324/480 [1:18:17<41:40, 16.03s/it]"
     ]
    },
    {
     "name": "stderr",
     "output_type": "stream",
     "text": [
      "\r",
      " 68%|██████████████████████████████████████████████████████████████████████████████▌                                     | 325/480 [1:18:20<31:27, 12.18s/it]"
     ]
    },
    {
     "name": "stderr",
     "output_type": "stream",
     "text": [
      "\r",
      " 68%|██████████████████████████████████████████████████████████████████████████████▊                                     | 326/480 [1:18:26<25:52, 10.08s/it]"
     ]
    },
    {
     "name": "stderr",
     "output_type": "stream",
     "text": [
      "\r",
      " 68%|███████████████████████████████████████████████████████████████████████████████                                     | 327/480 [1:18:26<18:10,  7.13s/it]"
     ]
    },
    {
     "name": "stderr",
     "output_type": "stream",
     "text": [
      "\r",
      " 68%|███████████████████████████████████████████████████████████████████████████████▎                                    | 328/480 [1:18:30<15:37,  6.17s/it]"
     ]
    },
    {
     "name": "stderr",
     "output_type": "stream",
     "text": [
      "\r",
      " 69%|███████████████████████████████████████████████████████████████████████████████▌                                    | 329/480 [1:18:30<11:05,  4.41s/it]"
     ]
    },
    {
     "name": "stderr",
     "output_type": "stream",
     "text": [
      "\r",
      " 69%|███████████████████████████████████████████████████████████████████████████████▊                                    | 330/480 [1:18:33<10:14,  4.10s/it]"
     ]
    },
    {
     "name": "stderr",
     "output_type": "stream",
     "text": [
      "\r",
      " 69%|███████████████████████████████████████████████████████████████████████████████▉                                    | 331/480 [1:18:37<09:35,  3.86s/it]"
     ]
    },
    {
     "name": "stderr",
     "output_type": "stream",
     "text": [
      "\r",
      " 69%|████████████████████████████████████████████████████████████████████████████████▏                                   | 332/480 [1:18:37<07:02,  2.85s/it]"
     ]
    },
    {
     "name": "stderr",
     "output_type": "stream",
     "text": [
      "\r",
      " 69%|████████████████████████████████████████████████████████████████████████████████▍                                   | 333/480 [1:18:38<05:09,  2.10s/it]"
     ]
    },
    {
     "name": "stderr",
     "output_type": "stream",
     "text": [
      "\r",
      " 70%|████████████████████████████████████████████████████████████████████████████████▋                                   | 334/480 [1:19:05<23:43,  9.75s/it]"
     ]
    },
    {
     "name": "stderr",
     "output_type": "stream",
     "text": [
      "\r",
      " 70%|████████████████████████████████████████████████████████████████████████████████▉                                   | 335/480 [1:19:08<18:19,  7.58s/it]"
     ]
    },
    {
     "name": "stderr",
     "output_type": "stream",
     "text": [
      "\r",
      " 70%|█████████████████████████████████████████████████████████████████████████████████▏                                  | 336/480 [1:19:13<16:21,  6.82s/it]"
     ]
    },
    {
     "name": "stderr",
     "output_type": "stream",
     "text": [
      "\r",
      " 70%|████████████████████████████████████████████████████████████████████████████████                                  | 337/480 [1:23:07<2:58:47, 75.02s/it]"
     ]
    },
    {
     "name": "stderr",
     "output_type": "stream",
     "text": [
      "\r",
      " 70%|████████████████████████████████████████████████████████████████████████████████▎                                 | 338/480 [1:24:32<3:04:24, 77.92s/it]"
     ]
    },
    {
     "name": "stderr",
     "output_type": "stream",
     "text": [
      "\r",
      " 71%|████████████████████████████████████████████████████████████████████████████████▌                                 | 339/480 [1:24:36<2:11:37, 56.01s/it]"
     ]
    },
    {
     "name": "stderr",
     "output_type": "stream",
     "text": [
      "\r",
      " 71%|████████████████████████████████████████████████████████████████████████████████▊                                 | 340/480 [1:24:41<1:34:48, 40.63s/it]"
     ]
    },
    {
     "name": "stderr",
     "output_type": "stream",
     "text": [
      "\r",
      " 71%|████████████████████████████████████████████████████████████████████████████████▉                                 | 341/480 [1:24:47<1:09:54, 30.18s/it]"
     ]
    },
    {
     "name": "stderr",
     "output_type": "stream",
     "text": [
      "\r",
      " 71%|██████████████████████████████████████████████████████████████████████████████████▋                                 | 342/480 [1:24:51<51:08, 22.24s/it]"
     ]
    },
    {
     "name": "stderr",
     "output_type": "stream",
     "text": [
      "\r",
      " 71%|██████████████████████████████████████████████████████████████████████████████████▉                                 | 343/480 [1:24:57<39:31, 17.31s/it]"
     ]
    },
    {
     "name": "stderr",
     "output_type": "stream",
     "text": [
      "\r",
      " 72%|███████████████████████████████████████████████████████████████████████████████████▏                                | 344/480 [1:25:06<33:40, 14.85s/it]"
     ]
    },
    {
     "name": "stderr",
     "output_type": "stream",
     "text": [
      "\r",
      " 72%|███████████████████████████████████████████████████████████████████████████████████▍                                | 345/480 [1:25:10<26:07, 11.61s/it]"
     ]
    },
    {
     "name": "stderr",
     "output_type": "stream",
     "text": [
      "\r",
      " 72%|███████████████████████████████████████████████████████████████████████████████████▌                                | 346/480 [1:25:37<36:25, 16.31s/it]"
     ]
    },
    {
     "name": "stderr",
     "output_type": "stream",
     "text": [
      "\r",
      " 72%|███████████████████████████████████████████████████████████████████████████████████▊                                | 347/480 [1:26:09<46:20, 20.91s/it]"
     ]
    },
    {
     "name": "stderr",
     "output_type": "stream",
     "text": [
      "\r",
      " 72%|████████████████████████████████████████████████████████████████████████████████████                                | 348/480 [1:26:17<37:54, 17.23s/it]"
     ]
    },
    {
     "name": "stderr",
     "output_type": "stream",
     "text": [
      "\r",
      " 73%|████████████████████████████████████████████████████████████████████████████████████▎                               | 349/480 [1:26:20<28:25, 13.02s/it]"
     ]
    },
    {
     "name": "stderr",
     "output_type": "stream",
     "text": [
      "\r",
      " 73%|████████████████████████████████████████████████████████████████████████████████████▌                               | 350/480 [1:26:25<22:25, 10.35s/it]"
     ]
    },
    {
     "name": "stderr",
     "output_type": "stream",
     "text": [
      "\r",
      " 73%|████████████████████████████████████████████████████████████████████████████████████▊                               | 351/480 [1:26:26<16:17,  7.58s/it]"
     ]
    },
    {
     "name": "stderr",
     "output_type": "stream",
     "text": [
      "\r",
      " 73%|█████████████████████████████████████████████████████████████████████████████████████                               | 352/480 [1:26:29<13:30,  6.33s/it]"
     ]
    },
    {
     "name": "stderr",
     "output_type": "stream",
     "text": [
      "\r",
      " 74%|█████████████████████████████████████████████████████████████████████████████████████▎                              | 353/480 [1:26:30<09:43,  4.59s/it]"
     ]
    },
    {
     "name": "stderr",
     "output_type": "stream",
     "text": [
      "\r",
      " 74%|█████████████████████████████████████████████████████████████████████████████████████▌                              | 354/480 [1:26:33<08:37,  4.11s/it]"
     ]
    },
    {
     "name": "stderr",
     "output_type": "stream",
     "text": [
      "\r",
      " 74%|█████████████████████████████████████████████████████████████████████████████████████▊                              | 355/480 [1:26:36<07:59,  3.84s/it]"
     ]
    },
    {
     "name": "stderr",
     "output_type": "stream",
     "text": [
      "\r",
      " 74%|██████████████████████████████████████████████████████████████████████████████████████                              | 356/480 [1:26:36<05:54,  2.86s/it]"
     ]
    },
    {
     "name": "stderr",
     "output_type": "stream",
     "text": [
      "\r",
      " 74%|██████████████████████████████████████████████████████████████████████████████████████▎                             | 357/480 [1:26:37<04:19,  2.11s/it]"
     ]
    },
    {
     "name": "stderr",
     "output_type": "stream",
     "text": [
      "\r",
      " 75%|██████████████████████████████████████████████████████████████████████████████████████▌                             | 358/480 [1:26:48<09:42,  4.78s/it]"
     ]
    },
    {
     "name": "stderr",
     "output_type": "stream",
     "text": [
      "\r",
      " 75%|██████████████████████████████████████████████████████████████████████████████████████▊                             | 359/480 [1:27:18<24:48, 12.30s/it]"
     ]
    },
    {
     "name": "stderr",
     "output_type": "stream",
     "text": [
      "\r",
      " 75%|███████████████████████████████████████████████████████████████████████████████████████                             | 360/480 [1:27:18<17:24,  8.70s/it]"
     ]
    },
    {
     "name": "stderr",
     "output_type": "stream",
     "text": [
      "\r",
      " 75%|█████████████████████████████████████████████████████████████████████████████████████▋                            | 361/480 [1:31:45<2:51:17, 86.36s/it]"
     ]
    },
    {
     "name": "stderr",
     "output_type": "stream",
     "text": [
      "\r",
      " 75%|█████████████████████████████████████████████████████████████████████████████████████▉                            | 362/480 [1:33:10<2:48:48, 85.83s/it]"
     ]
    },
    {
     "name": "stderr",
     "output_type": "stream",
     "text": [
      "\r",
      " 76%|██████████████████████████████████████████████████████████████████████████████████████▏                           | 363/480 [1:33:13<1:59:04, 61.06s/it]"
     ]
    },
    {
     "name": "stderr",
     "output_type": "stream",
     "text": [
      "\r",
      " 76%|██████████████████████████████████████████████████████████████████████████████████████▍                           | 364/480 [1:33:16<1:24:09, 43.53s/it]"
     ]
    },
    {
     "name": "stderr",
     "output_type": "stream",
     "text": [
      "\r",
      " 76%|████████████████████████████████████████████████████████████████████████████████████████▏                           | 365/480 [1:33:17<58:44, 30.64s/it]"
     ]
    },
    {
     "name": "stderr",
     "output_type": "stream",
     "text": [
      "\r",
      " 76%|████████████████████████████████████████████████████████████████████████████████████████▍                           | 366/480 [1:33:24<44:49, 23.59s/it]"
     ]
    },
    {
     "name": "stderr",
     "output_type": "stream",
     "text": [
      "\r",
      " 76%|████████████████████████████████████████████████████████████████████████████████████████▋                           | 367/480 [1:33:25<31:40, 16.82s/it]"
     ]
    },
    {
     "name": "stderr",
     "output_type": "stream",
     "text": [
      "\r",
      " 77%|████████████████████████████████████████████████████████████████████████████████████████▉                           | 368/480 [1:33:26<22:45, 12.19s/it]"
     ]
    },
    {
     "name": "stderr",
     "output_type": "stream",
     "text": [
      "\r",
      " 77%|█████████████████████████████████████████████████████████████████████████████████████████▏                          | 369/480 [1:33:40<23:14, 12.56s/it]"
     ]
    },
    {
     "name": "stderr",
     "output_type": "stream",
     "text": [
      "\r",
      " 77%|█████████████████████████████████████████████████████████████████████████████████████████▍                          | 370/480 [1:33:56<25:20, 13.82s/it]"
     ]
    },
    {
     "name": "stderr",
     "output_type": "stream",
     "text": [
      "\r",
      " 77%|█████████████████████████████████████████████████████████████████████████████████████████▋                          | 371/480 [1:34:48<45:35, 25.09s/it]"
     ]
    },
    {
     "name": "stderr",
     "output_type": "stream",
     "text": [
      "\r",
      " 78%|█████████████████████████████████████████████████████████████████████████████████████████▉                          | 372/480 [1:34:57<36:29, 20.27s/it]"
     ]
    },
    {
     "name": "stderr",
     "output_type": "stream",
     "text": [
      "\r",
      " 78%|██████████████████████████████████████████████████████████████████████████████████████████▏                         | 373/480 [1:35:00<27:08, 15.22s/it]"
     ]
    },
    {
     "name": "stderr",
     "output_type": "stream",
     "text": [
      "\r",
      " 78%|██████████████████████████████████████████████████████████████████████████████████████████▍                         | 374/480 [1:35:03<20:17, 11.49s/it]"
     ]
    },
    {
     "name": "stderr",
     "output_type": "stream",
     "text": [
      "\r",
      " 78%|██████████████████████████████████████████████████████████████████████████████████████████▋                         | 375/480 [1:35:06<15:49,  9.04s/it]"
     ]
    },
    {
     "name": "stderr",
     "output_type": "stream",
     "text": [
      "\r",
      " 78%|██████████████████████████████████████████████████████████████████████████████████████████▊                         | 376/480 [1:35:08<11:55,  6.88s/it]"
     ]
    },
    {
     "name": "stderr",
     "output_type": "stream",
     "text": [
      "\r",
      " 79%|███████████████████████████████████████████████████████████████████████████████████████████                         | 377/480 [1:35:10<09:25,  5.49s/it]"
     ]
    },
    {
     "name": "stderr",
     "output_type": "stream",
     "text": [
      "\r",
      " 79%|███████████████████████████████████████████████████████████████████████████████████████████▎                        | 378/480 [1:35:12<07:12,  4.24s/it]"
     ]
    },
    {
     "name": "stderr",
     "output_type": "stream",
     "text": [
      "\r",
      " 79%|███████████████████████████████████████████████████████████████████████████████████████████▌                        | 379/480 [1:35:17<07:38,  4.54s/it]"
     ]
    },
    {
     "name": "stderr",
     "output_type": "stream",
     "text": [
      "\r",
      " 79%|███████████████████████████████████████████████████████████████████████████████████████████▊                        | 380/480 [1:35:17<05:31,  3.32s/it]"
     ]
    },
    {
     "name": "stderr",
     "output_type": "stream",
     "text": [
      "\r",
      " 79%|████████████████████████████████████████████████████████████████████████████████████████████                        | 381/480 [1:35:18<03:59,  2.42s/it]"
     ]
    },
    {
     "name": "stderr",
     "output_type": "stream",
     "text": [
      "\r",
      " 80%|████████████████████████████████████████████████████████████████████████████████████████████▎                       | 382/480 [1:35:26<06:46,  4.15s/it]"
     ]
    },
    {
     "name": "stderr",
     "output_type": "stream",
     "text": [
      "\r",
      " 80%|████████████████████████████████████████████████████████████████████████████████████████████▌                       | 383/480 [1:35:38<10:34,  6.54s/it]"
     ]
    },
    {
     "name": "stderr",
     "output_type": "stream",
     "text": [
      "\r",
      " 80%|████████████████████████████████████████████████████████████████████████████████████████████▊                       | 384/480 [1:35:38<07:25,  4.64s/it]"
     ]
    },
    {
     "name": "stderr",
     "output_type": "stream",
     "text": [
      "\r",
      " 80%|███████████████████████████████████████████████████████████████████████████████████████████▍                      | 385/480 [1:40:10<2:14:25, 84.90s/it]"
     ]
    },
    {
     "name": "stderr",
     "output_type": "stream",
     "text": [
      "\r",
      " 80%|███████████████████████████████████████████████████████████████████████████████████████████▋                      | 386/480 [1:41:43<2:16:40, 87.24s/it]"
     ]
    },
    {
     "name": "stderr",
     "output_type": "stream",
     "text": [
      "\r",
      " 81%|███████████████████████████████████████████████████████████████████████████████████████████▉                      | 387/480 [1:41:48<1:37:07, 62.66s/it]"
     ]
    },
    {
     "name": "stderr",
     "output_type": "stream",
     "text": [
      "\r",
      " 81%|████████████████████████████████████████████████████████████████████████████████████████████▏                     | 388/480 [1:41:49<1:07:37, 44.10s/it]"
     ]
    },
    {
     "name": "stderr",
     "output_type": "stream",
     "text": [
      "\r",
      " 81%|██████████████████████████████████████████████████████████████████████████████████████████████                      | 389/480 [1:41:50<47:19, 31.20s/it]"
     ]
    },
    {
     "name": "stderr",
     "output_type": "stream",
     "text": [
      "\r",
      " 81%|██████████████████████████████████████████████████████████████████████████████████████████████▎                     | 390/480 [1:41:58<36:25, 24.29s/it]"
     ]
    },
    {
     "name": "stderr",
     "output_type": "stream",
     "text": [
      "\r",
      " 81%|██████████████████████████████████████████████████████████████████████████████████████████████▍                     | 391/480 [1:41:59<25:40, 17.31s/it]"
     ]
    },
    {
     "name": "stderr",
     "output_type": "stream",
     "text": [
      "\r",
      " 82%|██████████████████████████████████████████████████████████████████████████████████████████████▋                     | 392/480 [1:42:01<18:35, 12.68s/it]"
     ]
    },
    {
     "name": "stderr",
     "output_type": "stream",
     "text": [
      "\r",
      " 82%|██████████████████████████████████████████████████████████████████████████████████████████████▉                     | 393/480 [1:42:15<18:37, 12.85s/it]"
     ]
    },
    {
     "name": "stderr",
     "output_type": "stream",
     "text": [
      "\r",
      " 82%|███████████████████████████████████████████████████████████████████████████████████████████████▏                    | 394/480 [1:42:31<19:45, 13.79s/it]"
     ]
    },
    {
     "name": "stderr",
     "output_type": "stream",
     "text": [
      "\r",
      " 82%|███████████████████████████████████████████████████████████████████████████████████████████████▍                    | 395/480 [1:43:19<34:09, 24.11s/it]"
     ]
    },
    {
     "name": "stderr",
     "output_type": "stream",
     "text": [
      "\r",
      " 82%|███████████████████████████████████████████████████████████████████████████████████████████████▋                    | 396/480 [1:43:20<24:14, 17.31s/it]"
     ]
    },
    {
     "name": "stderr",
     "output_type": "stream",
     "text": [
      "\r",
      " 83%|███████████████████████████████████████████████████████████████████████████████████████████████▉                    | 397/480 [1:43:23<18:03, 13.06s/it]"
     ]
    },
    {
     "name": "stderr",
     "output_type": "stream",
     "text": [
      "\r",
      " 83%|████████████████████████████████████████████████████████████████████████████████████████████████▏                   | 398/480 [1:43:29<14:49, 10.85s/it]"
     ]
    },
    {
     "name": "stderr",
     "output_type": "stream",
     "text": [
      "\r",
      " 83%|████████████████████████████████████████████████████████████████████████████████████████████████▍                   | 399/480 [1:43:34<12:24,  9.20s/it]"
     ]
    },
    {
     "name": "stderr",
     "output_type": "stream",
     "text": [
      "\r",
      " 83%|████████████████████████████████████████████████████████████████████████████████████████████████▋                   | 400/480 [1:43:37<09:33,  7.17s/it]"
     ]
    },
    {
     "name": "stderr",
     "output_type": "stream",
     "text": [
      "\r",
      " 84%|████████████████████████████████████████████████████████████████████████████████████████████████▉                   | 401/480 [1:43:39<07:16,  5.53s/it]"
     ]
    },
    {
     "name": "stderr",
     "output_type": "stream",
     "text": [
      "\r",
      " 84%|█████████████████████████████████████████████████████████████████████████████████████████████████▏                  | 402/480 [1:43:41<05:55,  4.55s/it]"
     ]
    },
    {
     "name": "stderr",
     "output_type": "stream",
     "text": [
      "\r",
      " 84%|█████████████████████████████████████████████████████████████████████████████████████████████████▍                  | 403/480 [1:43:45<05:42,  4.45s/it]"
     ]
    },
    {
     "name": "stderr",
     "output_type": "stream",
     "text": [
      "\r",
      " 84%|█████████████████████████████████████████████████████████████████████████████████████████████████▋                  | 404/480 [1:43:46<04:07,  3.26s/it]"
     ]
    },
    {
     "name": "stderr",
     "output_type": "stream",
     "text": [
      "\r",
      " 84%|█████████████████████████████████████████████████████████████████████████████████████████████████▉                  | 405/480 [1:43:46<02:59,  2.39s/it]"
     ]
    },
    {
     "name": "stderr",
     "output_type": "stream",
     "text": [
      "\r",
      " 85%|██████████████████████████████████████████████████████████████████████████████████████████████████                  | 406/480 [1:44:01<07:41,  6.24s/it]"
     ]
    },
    {
     "name": "stderr",
     "output_type": "stream",
     "text": [
      "\r",
      " 85%|██████████████████████████████████████████████████████████████████████████████████████████████████▎                 | 407/480 [1:44:16<10:45,  8.84s/it]"
     ]
    },
    {
     "name": "stderr",
     "output_type": "stream",
     "text": [
      "\r",
      " 85%|██████████████████████████████████████████████████████████████████████████████████████████████████▌                 | 408/480 [1:44:25<10:29,  8.74s/it]"
     ]
    },
    {
     "name": "stderr",
     "output_type": "stream",
     "text": [
      "\r",
      " 85%|█████████████████████████████████████████████████████████████████████████████████████████████████▏                | 409/480 [1:49:08<1:47:50, 91.13s/it]"
     ]
    },
    {
     "name": "stderr",
     "output_type": "stream",
     "text": [
      "\r",
      " 85%|█████████████████████████████████████████████████████████████████████████████████████████████████▍                | 410/480 [1:50:34<1:44:29, 89.57s/it]"
     ]
    },
    {
     "name": "stderr",
     "output_type": "stream",
     "text": [
      "\r",
      " 86%|█████████████████████████████████████████████████████████████████████████████████████████████████▌                | 411/480 [1:50:40<1:14:04, 64.42s/it]"
     ]
    },
    {
     "name": "stderr",
     "output_type": "stream",
     "text": [
      "\r",
      " 86%|███████████████████████████████████████████████████████████████████████████████████████████████████▌                | 412/480 [1:50:42<52:01, 45.90s/it]"
     ]
    },
    {
     "name": "stderr",
     "output_type": "stream",
     "text": [
      "\r",
      " 86%|███████████████████████████████████████████████████████████████████████████████████████████████████▊                | 413/480 [1:50:43<36:14, 32.45s/it]"
     ]
    },
    {
     "name": "stderr",
     "output_type": "stream",
     "text": [
      "\r",
      " 86%|████████████████████████████████████████████████████████████████████████████████████████████████████                | 414/480 [1:50:51<27:41, 25.17s/it]"
     ]
    },
    {
     "name": "stderr",
     "output_type": "stream",
     "text": [
      "\r",
      " 86%|████████████████████████████████████████████████████████████████████████████████████████████████████▎               | 415/480 [1:50:52<19:22, 17.89s/it]"
     ]
    },
    {
     "name": "stderr",
     "output_type": "stream",
     "text": [
      "\r",
      " 87%|████████████████████████████████████████████████████████████████████████████████████████████████████▌               | 416/480 [1:50:54<13:59, 13.12s/it]"
     ]
    },
    {
     "name": "stderr",
     "output_type": "stream",
     "text": [
      "\r",
      " 87%|████████████████████████████████████████████████████████████████████████████████████████████████████▊               | 417/480 [1:51:06<13:26, 12.81s/it]"
     ]
    },
    {
     "name": "stderr",
     "output_type": "stream",
     "text": [
      "\r",
      " 87%|█████████████████████████████████████████████████████████████████████████████████████████████████████               | 418/480 [1:51:43<20:44, 20.07s/it]"
     ]
    },
    {
     "name": "stderr",
     "output_type": "stream",
     "text": [
      "\r",
      " 87%|█████████████████████████████████████████████████████████████████████████████████████████████████████▎              | 419/480 [1:52:20<25:27, 25.03s/it]"
     ]
    },
    {
     "name": "stderr",
     "output_type": "stream",
     "text": [
      "\r",
      " 88%|█████████████████████████████████████████████████████████████████████████████████████████████████████▌              | 420/480 [1:52:37<22:31, 22.52s/it]"
     ]
    },
    {
     "name": "stderr",
     "output_type": "stream",
     "text": [
      "\r",
      " 88%|█████████████████████████████████████████████████████████████████████████████████████████████████████▋              | 421/480 [1:52:40<16:36, 16.89s/it]"
     ]
    },
    {
     "name": "stderr",
     "output_type": "stream",
     "text": [
      "\r",
      " 88%|█████████████████████████████████████████████████████████████████████████████████████████████████████▉              | 422/480 [1:52:47<13:13, 13.68s/it]"
     ]
    },
    {
     "name": "stderr",
     "output_type": "stream",
     "text": [
      "\r",
      " 88%|██████████████████████████████████████████████████████████████████████████████████████████████████████▏             | 423/480 [1:52:52<10:28, 11.03s/it]"
     ]
    },
    {
     "name": "stderr",
     "output_type": "stream",
     "text": [
      "\r",
      " 88%|██████████████████████████████████████████████████████████████████████████████████████████████████████▍             | 424/480 [1:52:54<07:47,  8.35s/it]"
     ]
    },
    {
     "name": "stderr",
     "output_type": "stream",
     "text": [
      "\r",
      " 89%|██████████████████████████████████████████████████████████████████████████████████████████████████████▋             | 425/480 [1:52:56<05:54,  6.45s/it]"
     ]
    },
    {
     "name": "stderr",
     "output_type": "stream",
     "text": [
      "\r",
      " 89%|██████████████████████████████████████████████████████████████████████████████████████████████████████▉             | 426/480 [1:52:57<04:29,  4.98s/it]"
     ]
    },
    {
     "name": "stderr",
     "output_type": "stream",
     "text": [
      "\r",
      " 89%|███████████████████████████████████████████████████████████████████████████████████████████████████████▏            | 427/480 [1:52:57<03:09,  3.57s/it]"
     ]
    },
    {
     "name": "stderr",
     "output_type": "stream",
     "text": [
      "\r",
      " 89%|███████████████████████████████████████████████████████████████████████████████████████████████████████▍            | 428/480 [1:52:58<02:17,  2.64s/it]"
     ]
    },
    {
     "name": "stderr",
     "output_type": "stream",
     "text": [
      "\r",
      " 89%|███████████████████████████████████████████████████████████████████████████████████████████████████████▋            | 429/480 [1:52:58<01:39,  1.95s/it]"
     ]
    },
    {
     "name": "stderr",
     "output_type": "stream",
     "text": [
      "\r",
      " 90%|███████████████████████████████████████████████████████████████████████████████████████████████████████▉            | 430/480 [1:53:03<02:15,  2.71s/it]"
     ]
    },
    {
     "name": "stderr",
     "output_type": "stream",
     "text": [
      "\r",
      " 90%|████████████████████████████████████████████████████████████████████████████████████████████████████████▏           | 431/480 [1:53:18<05:19,  6.52s/it]"
     ]
    },
    {
     "name": "stderr",
     "output_type": "stream",
     "text": [
      "\r",
      " 90%|████████████████████████████████████████████████████████████████████████████████████████████████████████▍           | 432/480 [1:53:29<06:18,  7.90s/it]"
     ]
    },
    {
     "name": "stderr",
     "output_type": "stream",
     "text": [
      "\r",
      " 90%|██████████████████████████████████████████████████████████████████████████████████████████████████████▊           | 433/480 [1:58:12<1:10:51, 90.46s/it]"
     ]
    },
    {
     "name": "stderr",
     "output_type": "stream",
     "text": [
      "\r",
      " 90%|███████████████████████████████████████████████████████████████████████████████████████████████████████           | 434/480 [1:59:50<1:11:03, 92.68s/it]"
     ]
    },
    {
     "name": "stderr",
     "output_type": "stream",
     "text": [
      "\r",
      " 91%|█████████████████████████████████████████████████████████████████████████████████████████████████████████▏          | 435/480 [1:59:56<49:55, 66.56s/it]"
     ]
    },
    {
     "name": "stderr",
     "output_type": "stream",
     "text": [
      "\r",
      " 91%|█████████████████████████████████████████████████████████████████████████████████████████████████████████▎          | 436/480 [1:59:56<34:18, 46.78s/it]"
     ]
    },
    {
     "name": "stderr",
     "output_type": "stream",
     "text": [
      "\r",
      " 91%|█████████████████████████████████████████████████████████████████████████████████████████████████████████▌          | 437/480 [1:59:59<23:57, 33.44s/it]"
     ]
    },
    {
     "name": "stderr",
     "output_type": "stream",
     "text": [
      "\r",
      " 91%|█████████████████████████████████████████████████████████████████████████████████████████████████████████▊          | 438/480 [2:00:06<17:54, 25.58s/it]"
     ]
    },
    {
     "name": "stderr",
     "output_type": "stream",
     "text": [
      "\r",
      " 91%|██████████████████████████████████████████████████████████████████████████████████████████████████████████          | 439/480 [2:00:08<12:33, 18.39s/it]"
     ]
    },
    {
     "name": "stderr",
     "output_type": "stream",
     "text": [
      "\r",
      " 92%|██████████████████████████████████████████████████████████████████████████████████████████████████████████▎         | 440/480 [2:00:09<08:51, 13.28s/it]"
     ]
    },
    {
     "name": "stderr",
     "output_type": "stream",
     "text": [
      "\r",
      " 92%|██████████████████████████████████████████████████████████████████████████████████████████████████████████▌         | 441/480 [2:00:23<08:51, 13.62s/it]"
     ]
    },
    {
     "name": "stderr",
     "output_type": "stream",
     "text": [
      "\r",
      " 92%|██████████████████████████████████████████████████████████████████████████████████████████████████████████▊         | 442/480 [2:01:27<18:08, 28.63s/it]"
     ]
    },
    {
     "name": "stderr",
     "output_type": "stream",
     "text": [
      "\r",
      " 92%|███████████████████████████████████████████████████████████████████████████████████████████████████████████         | 443/480 [2:01:34<13:37, 22.10s/it]"
     ]
    },
    {
     "name": "stderr",
     "output_type": "stream",
     "text": [
      "\r",
      " 92%|███████████████████████████████████████████████████████████████████████████████████████████████████████████▎        | 444/480 [2:01:53<12:40, 21.14s/it]"
     ]
    },
    {
     "name": "stderr",
     "output_type": "stream",
     "text": [
      "\r",
      " 93%|███████████████████████████████████████████████████████████████████████████████████████████████████████████▌        | 445/480 [2:01:53<08:41, 14.89s/it]"
     ]
    },
    {
     "name": "stderr",
     "output_type": "stream",
     "text": [
      "\r",
      " 93%|███████████████████████████████████████████████████████████████████████████████████████████████████████████▊        | 446/480 [2:01:57<06:30, 11.49s/it]"
     ]
    },
    {
     "name": "stderr",
     "output_type": "stream",
     "text": [
      "\r",
      " 93%|████████████████████████████████████████████████████████████████████████████████████████████████████████████        | 447/480 [2:02:00<04:53,  8.91s/it]"
     ]
    },
    {
     "name": "stderr",
     "output_type": "stream",
     "text": [
      "\r",
      " 93%|████████████████████████████████████████████████████████████████████████████████████████████████████████████▎       | 448/480 [2:02:02<03:41,  6.91s/it]"
     ]
    },
    {
     "name": "stderr",
     "output_type": "stream",
     "text": [
      "\r",
      " 94%|████████████████████████████████████████████████████████████████████████████████████████████████████████████▌       | 449/480 [2:02:04<02:48,  5.44s/it]"
     ]
    },
    {
     "name": "stderr",
     "output_type": "stream",
     "text": [
      "\r",
      " 94%|████████████████████████████████████████████████████████████████████████████████████████████████████████████▊       | 450/480 [2:02:06<02:14,  4.49s/it]"
     ]
    },
    {
     "name": "stderr",
     "output_type": "stream",
     "text": [
      "\r",
      " 94%|████████████████████████████████████████████████████████████████████████████████████████████████████████████▉       | 451/480 [2:02:11<02:13,  4.59s/it]"
     ]
    },
    {
     "name": "stderr",
     "output_type": "stream",
     "text": [
      "\r",
      " 94%|█████████████████████████████████████████████████████████████████████████████████████████████████████████████▏      | 452/480 [2:02:11<01:34,  3.37s/it]"
     ]
    },
    {
     "name": "stderr",
     "output_type": "stream",
     "text": [
      "\r",
      " 94%|█████████████████████████████████████████████████████████████████████████████████████████████████████████████▍      | 453/480 [2:02:12<01:06,  2.47s/it]"
     ]
    },
    {
     "name": "stderr",
     "output_type": "stream",
     "text": [
      "\r",
      " 95%|█████████████████████████████████████████████████████████████████████████████████████████████████████████████▋      | 454/480 [2:02:18<01:32,  3.54s/it]"
     ]
    },
    {
     "name": "stderr",
     "output_type": "stream",
     "text": [
      "\r",
      " 95%|█████████████████████████████████████████████████████████████████████████████████████████████████████████████▉      | 455/480 [2:02:41<03:51,  9.27s/it]"
     ]
    },
    {
     "name": "stderr",
     "output_type": "stream",
     "text": [
      "\r",
      " 95%|██████████████████████████████████████████████████████████████████████████████████████████████████████████████▏     | 456/480 [2:03:20<07:19, 18.32s/it]"
     ]
    },
    {
     "name": "stderr",
     "output_type": "stream",
     "text": [
      "\r",
      " 95%|██████████████████████████████████████████████████████████████████████████████████████████████████████████████▍     | 457/480 [2:07:50<36:00, 93.91s/it]"
     ]
    },
    {
     "name": "stderr",
     "output_type": "stream",
     "text": [
      "\r",
      " 95%|██████████████████████████████████████████████████████████████████████████████████████████████████████████████▋     | 458/480 [2:09:17<33:38, 91.77s/it]"
     ]
    },
    {
     "name": "stderr",
     "output_type": "stream",
     "text": [
      "\r",
      " 96%|██████████████████████████████████████████████████████████████████████████████████████████████████████████████▉     | 459/480 [2:09:23<23:06, 66.01s/it]"
     ]
    },
    {
     "name": "stderr",
     "output_type": "stream",
     "text": [
      "\r",
      " 96%|███████████████████████████████████████████████████████████████████████████████████████████████████████████████▏    | 460/480 [2:09:34<16:30, 49.54s/it]"
     ]
    },
    {
     "name": "stderr",
     "output_type": "stream",
     "text": [
      "\r",
      " 96%|███████████████████████████████████████████████████████████████████████████████████████████████████████████████▍    | 461/480 [2:09:39<11:24, 36.02s/it]"
     ]
    },
    {
     "name": "stderr",
     "output_type": "stream",
     "text": [
      "\r",
      " 96%|███████████████████████████████████████████████████████████████████████████████████████████████████████████████▋    | 462/480 [2:09:44<08:00, 26.72s/it]"
     ]
    },
    {
     "name": "stderr",
     "output_type": "stream",
     "text": [
      "\r",
      " 96%|███████████████████████████████████████████████████████████████████████████████████████████████████████████████▉    | 463/480 [2:09:48<05:42, 20.17s/it]"
     ]
    },
    {
     "name": "stderr",
     "output_type": "stream",
     "text": [
      "\r",
      " 97%|████████████████████████████████████████████████████████████████████████████████████████████████████████████████▏   | 464/480 [2:09:56<04:23, 16.49s/it]"
     ]
    },
    {
     "name": "stderr",
     "output_type": "stream",
     "text": [
      "\r",
      " 97%|████████████████████████████████████████████████████████████████████████████████████████████████████████████████▍   | 465/480 [2:10:02<03:16, 13.10s/it]"
     ]
    },
    {
     "name": "stderr",
     "output_type": "stream",
     "text": [
      "\r",
      " 97%|████████████████████████████████████████████████████████████████████████████████████████████████████████████████▌   | 466/480 [2:10:35<04:30, 19.35s/it]"
     ]
    },
    {
     "name": "stderr",
     "output_type": "stream",
     "text": [
      "\r",
      " 97%|████████████████████████████████████████████████████████████████████████████████████████████████████████████████▊   | 467/480 [2:11:22<05:58, 27.58s/it]"
     ]
    },
    {
     "name": "stderr",
     "output_type": "stream",
     "text": [
      "\r",
      " 98%|█████████████████████████████████████████████████████████████████████████████████████████████████████████████████   | 468/480 [2:11:42<05:01, 25.15s/it]"
     ]
    },
    {
     "name": "stderr",
     "output_type": "stream",
     "text": [
      "\r",
      " 98%|█████████████████████████████████████████████████████████████████████████████████████████████████████████████████▎  | 469/480 [2:11:45<03:25, 18.68s/it]"
     ]
    },
    {
     "name": "stderr",
     "output_type": "stream",
     "text": [
      "\r",
      " 98%|█████████████████████████████████████████████████████████████████████████████████████████████████████████████████▌  | 470/480 [2:11:51<02:28, 14.86s/it]"
     ]
    },
    {
     "name": "stderr",
     "output_type": "stream",
     "text": [
      "\r",
      " 98%|██████████████████████████████████████████████████████████████████████████████████████████████████████████████████  | 472/480 [2:11:56<01:13,  9.18s/it]"
     ]
    },
    {
     "name": "stderr",
     "output_type": "stream",
     "text": [
      "\r",
      " 99%|██████████████████████████████████████████████████████████████████████████████████████████████████████████████████▎ | 473/480 [2:11:57<00:49,  7.02s/it]"
     ]
    },
    {
     "name": "stderr",
     "output_type": "stream",
     "text": [
      "\r",
      " 99%|██████████████████████████████████████████████████████████████████████████████████████████████████████████████████▌ | 474/480 [2:11:59<00:34,  5.75s/it]"
     ]
    },
    {
     "name": "stderr",
     "output_type": "stream",
     "text": [
      "\r",
      " 99%|██████████████████████████████████████████████████████████████████████████████████████████████████████████████████▊ | 475/480 [2:12:01<00:23,  4.63s/it]"
     ]
    },
    {
     "name": "stderr",
     "output_type": "stream",
     "text": [
      "\r",
      " 99%|███████████████████████████████████████████████████████████████████████████████████████████████████████████████████ | 476/480 [2:12:04<00:16,  4.19s/it]"
     ]
    },
    {
     "name": "stderr",
     "output_type": "stream",
     "text": [
      "\r",
      " 99%|███████████████████████████████████████████████████████████████████████████████████████████████████████████████████▎| 477/480 [2:12:22<00:25,  8.33s/it]"
     ]
    },
    {
     "name": "stderr",
     "output_type": "stream",
     "text": [
      "\r",
      "100%|███████████████████████████████████████████████████████████████████████████████████████████████████████████████████▌| 478/480 [2:12:27<00:14,  7.30s/it]"
     ]
    },
    {
     "name": "stderr",
     "output_type": "stream",
     "text": [
      "\r",
      "100%|██████████████████████████████████████████████████████████████████████████████████████████████████████████████████▊| 479/480 [2:19:32<02:09, 129.52s/it]"
     ]
    },
    {
     "name": "stderr",
     "output_type": "stream",
     "text": [
      "\r",
      "100%|███████████████████████████████████████████████████████████████████████████████████████████████████████████████████| 480/480 [2:26:38<00:00, 216.95s/it]"
     ]
    },
    {
     "name": "stderr",
     "output_type": "stream",
     "text": [
      "\r",
      "100%|████████████████████████████████████████████████████████████████████████████████████████████████████████████████████| 480/480 [2:26:38<00:00, 18.33s/it]"
     ]
    },
    {
     "name": "stderr",
     "output_type": "stream",
     "text": [
      "\n"
     ]
    },
    {
     "data": {
      "text/html": [
       "<div>\n",
       "<style scoped>\n",
       "    .dataframe tbody tr th:only-of-type {\n",
       "        vertical-align: middle;\n",
       "    }\n",
       "\n",
       "    .dataframe tbody tr th {\n",
       "        vertical-align: top;\n",
       "    }\n",
       "\n",
       "    .dataframe thead th {\n",
       "        text-align: right;\n",
       "    }\n",
       "</style>\n",
       "<table border=\"1\" class=\"dataframe\">\n",
       "  <thead>\n",
       "    <tr style=\"text-align: right;\">\n",
       "      <th></th>\n",
       "      <th>problem</th>\n",
       "      <th>model</th>\n",
       "      <th>force_consider_own</th>\n",
       "      <th>merge_isomorphic</th>\n",
       "      <th>truncate_common_chain</th>\n",
       "      <th>collect_garbage</th>\n",
       "      <th>reward_common_chain</th>\n",
       "      <th>protocol</th>\n",
       "      <th>dag_size_limit</th>\n",
       "      <th>size</th>\n",
       "      <th>...</th>\n",
       "      <th>vi_time</th>\n",
       "      <th>vi_max_value</th>\n",
       "      <th>ss_reachable</th>\n",
       "      <th>ss_nonzero</th>\n",
       "      <th>ss_time</th>\n",
       "      <th>pe_iter</th>\n",
       "      <th>ptrev</th>\n",
       "      <th>rpp</th>\n",
       "      <th>time</th>\n",
       "      <th>vi_steady_value</th>\n",
       "    </tr>\n",
       "  </thead>\n",
       "  <tbody>\n",
       "    <tr>\n",
       "      <th>0</th>\n",
       "      <td>ref-fc16</td>\n",
       "      <td>fc16sapirshtein</td>\n",
       "      <td>True</td>\n",
       "      <td>True</td>\n",
       "      <td>True</td>\n",
       "      <td>True</td>\n",
       "      <td>True</td>\n",
       "      <td>bitcoin</td>\n",
       "      <td>6</td>\n",
       "      <td>47</td>\n",
       "      <td>...</td>\n",
       "      <td>0.215139</td>\n",
       "      <td>9.653684</td>\n",
       "      <td>15</td>\n",
       "      <td>15</td>\n",
       "      <td>0.054875</td>\n",
       "      <td>2</td>\n",
       "      <td>0.049500</td>\n",
       "      <td>0.050000</td>\n",
       "      <td>0.271739</td>\n",
       "      <td>4.940165</td>\n",
       "    </tr>\n",
       "    <tr>\n",
       "      <th>1</th>\n",
       "      <td>ref-aft20</td>\n",
       "      <td>aft20barzur</td>\n",
       "      <td>True</td>\n",
       "      <td>True</td>\n",
       "      <td>True</td>\n",
       "      <td>True</td>\n",
       "      <td>True</td>\n",
       "      <td>bitcoin</td>\n",
       "      <td>6</td>\n",
       "      <td>37</td>\n",
       "      <td>...</td>\n",
       "      <td>0.421732</td>\n",
       "      <td>9.625739</td>\n",
       "      <td>13</td>\n",
       "      <td>13</td>\n",
       "      <td>0.080737</td>\n",
       "      <td>2</td>\n",
       "      <td>0.024750</td>\n",
       "      <td>0.050000</td>\n",
       "      <td>0.503917</td>\n",
       "      <td>4.939711</td>\n",
       "    </tr>\n",
       "    <tr>\n",
       "      <th>2</th>\n",
       "      <td>v1+fc</td>\n",
       "      <td>generic-v1</td>\n",
       "      <td>True</td>\n",
       "      <td>False</td>\n",
       "      <td>True</td>\n",
       "      <td>True</td>\n",
       "      <td>True</td>\n",
       "      <td>bitcoin</td>\n",
       "      <td>6</td>\n",
       "      <td>549</td>\n",
       "      <td>...</td>\n",
       "      <td>3.579227</td>\n",
       "      <td>9.452998</td>\n",
       "      <td>5</td>\n",
       "      <td>5</td>\n",
       "      <td>0.001442</td>\n",
       "      <td>2</td>\n",
       "      <td>0.024750</td>\n",
       "      <td>0.050000</td>\n",
       "      <td>3.594119</td>\n",
       "      <td>4.940214</td>\n",
       "    </tr>\n",
       "    <tr>\n",
       "      <th>3</th>\n",
       "      <td>v1+fc</td>\n",
       "      <td>generic-v1</td>\n",
       "      <td>True</td>\n",
       "      <td>False</td>\n",
       "      <td>True</td>\n",
       "      <td>True</td>\n",
       "      <td>True</td>\n",
       "      <td>ethereum_3</td>\n",
       "      <td>6</td>\n",
       "      <td>1179</td>\n",
       "      <td>...</td>\n",
       "      <td>5.791416</td>\n",
       "      <td>9.683072</td>\n",
       "      <td>170</td>\n",
       "      <td>170</td>\n",
       "      <td>0.004256</td>\n",
       "      <td>2</td>\n",
       "      <td>0.024233</td>\n",
       "      <td>0.052591</td>\n",
       "      <td>5.820228</td>\n",
       "      <td>5.210661</td>\n",
       "    </tr>\n",
       "    <tr>\n",
       "      <th>4</th>\n",
       "      <td>v1+fc</td>\n",
       "      <td>generic-v1</td>\n",
       "      <td>True</td>\n",
       "      <td>False</td>\n",
       "      <td>True</td>\n",
       "      <td>True</td>\n",
       "      <td>True</td>\n",
       "      <td>byzantium_3</td>\n",
       "      <td>6</td>\n",
       "      <td>1109</td>\n",
       "      <td>...</td>\n",
       "      <td>5.235343</td>\n",
       "      <td>9.847424</td>\n",
       "      <td>5</td>\n",
       "      <td>5</td>\n",
       "      <td>0.001021</td>\n",
       "      <td>2</td>\n",
       "      <td>0.024750</td>\n",
       "      <td>0.050000</td>\n",
       "      <td>5.253883</td>\n",
       "      <td>4.940214</td>\n",
       "    </tr>\n",
       "    <tr>\n",
       "      <th>...</th>\n",
       "      <td>...</td>\n",
       "      <td>...</td>\n",
       "      <td>...</td>\n",
       "      <td>...</td>\n",
       "      <td>...</td>\n",
       "      <td>...</td>\n",
       "      <td>...</td>\n",
       "      <td>...</td>\n",
       "      <td>...</td>\n",
       "      <td>...</td>\n",
       "      <td>...</td>\n",
       "      <td>...</td>\n",
       "      <td>...</td>\n",
       "      <td>...</td>\n",
       "      <td>...</td>\n",
       "      <td>...</td>\n",
       "      <td>...</td>\n",
       "      <td>...</td>\n",
       "      <td>...</td>\n",
       "      <td>...</td>\n",
       "      <td>...</td>\n",
       "    </tr>\n",
       "    <tr>\n",
       "      <th>475</th>\n",
       "      <td>v0+fc+n</td>\n",
       "      <td>generic-v0</td>\n",
       "      <td>True</td>\n",
       "      <td>True</td>\n",
       "      <td>True</td>\n",
       "      <td>True</td>\n",
       "      <td>True</td>\n",
       "      <td>bitcoin</td>\n",
       "      <td>6</td>\n",
       "      <td>501</td>\n",
       "      <td>...</td>\n",
       "      <td>6.840231</td>\n",
       "      <td>76.624930</td>\n",
       "      <td>81</td>\n",
       "      <td>81</td>\n",
       "      <td>0.001883</td>\n",
       "      <td>2</td>\n",
       "      <td>0.252527</td>\n",
       "      <td>0.757443</td>\n",
       "      <td>6.853768</td>\n",
       "      <td>75.137994</td>\n",
       "    </tr>\n",
       "    <tr>\n",
       "      <th>476</th>\n",
       "      <td>v1+n</td>\n",
       "      <td>generic-v1</td>\n",
       "      <td>False</td>\n",
       "      <td>True</td>\n",
       "      <td>True</td>\n",
       "      <td>True</td>\n",
       "      <td>True</td>\n",
       "      <td>ghostdag_3</td>\n",
       "      <td>6</td>\n",
       "      <td>12644</td>\n",
       "      <td>...</td>\n",
       "      <td>106.411738</td>\n",
       "      <td>56.874280</td>\n",
       "      <td>128</td>\n",
       "      <td>128</td>\n",
       "      <td>0.002728</td>\n",
       "      <td>2</td>\n",
       "      <td>0.190198</td>\n",
       "      <td>0.560976</td>\n",
       "      <td>106.627497</td>\n",
       "      <td>54.565483</td>\n",
       "    </tr>\n",
       "    <tr>\n",
       "      <th>477</th>\n",
       "      <td>v1+n</td>\n",
       "      <td>generic-v1</td>\n",
       "      <td>False</td>\n",
       "      <td>True</td>\n",
       "      <td>True</td>\n",
       "      <td>True</td>\n",
       "      <td>True</td>\n",
       "      <td>ethereum_3</td>\n",
       "      <td>6</td>\n",
       "      <td>10293</td>\n",
       "      <td>...</td>\n",
       "      <td>150.334514</td>\n",
       "      <td>87.836049</td>\n",
       "      <td>186</td>\n",
       "      <td>186</td>\n",
       "      <td>0.003587</td>\n",
       "      <td>2</td>\n",
       "      <td>0.194125</td>\n",
       "      <td>0.861063</td>\n",
       "      <td>150.489992</td>\n",
       "      <td>84.820546</td>\n",
       "    </tr>\n",
       "    <tr>\n",
       "      <th>478</th>\n",
       "      <td>v0</td>\n",
       "      <td>generic-v0</td>\n",
       "      <td>False</td>\n",
       "      <td>False</td>\n",
       "      <td>True</td>\n",
       "      <td>True</td>\n",
       "      <td>True</td>\n",
       "      <td>bitcoin</td>\n",
       "      <td>6</td>\n",
       "      <td>42041</td>\n",
       "      <td>...</td>\n",
       "      <td>1039.836149</td>\n",
       "      <td>68.968838</td>\n",
       "      <td>145</td>\n",
       "      <td>145</td>\n",
       "      <td>0.002748</td>\n",
       "      <td>2</td>\n",
       "      <td>0.181175</td>\n",
       "      <td>0.679094</td>\n",
       "      <td>1041.707636</td>\n",
       "      <td>67.415818</td>\n",
       "    </tr>\n",
       "    <tr>\n",
       "      <th>479</th>\n",
       "      <td>v0</td>\n",
       "      <td>generic-v0</td>\n",
       "      <td>False</td>\n",
       "      <td>False</td>\n",
       "      <td>True</td>\n",
       "      <td>True</td>\n",
       "      <td>True</td>\n",
       "      <td>bitcoin</td>\n",
       "      <td>6</td>\n",
       "      <td>42041</td>\n",
       "      <td>...</td>\n",
       "      <td>873.004934</td>\n",
       "      <td>76.617109</td>\n",
       "      <td>145</td>\n",
       "      <td>145</td>\n",
       "      <td>0.002359</td>\n",
       "      <td>2</td>\n",
       "      <td>0.199260</td>\n",
       "      <td>0.757443</td>\n",
       "      <td>875.151046</td>\n",
       "      <td>75.229200</td>\n",
       "    </tr>\n",
       "  </tbody>\n",
       "</table>\n",
       "<p>480 rows × 32 columns</p>\n",
       "</div>"
      ],
      "text/plain": [
       "       problem            model  force_consider_own  merge_isomorphic  \\\n",
       "0     ref-fc16  fc16sapirshtein                True              True   \n",
       "1    ref-aft20      aft20barzur                True              True   \n",
       "2        v1+fc       generic-v1                True             False   \n",
       "3        v1+fc       generic-v1                True             False   \n",
       "4        v1+fc       generic-v1                True             False   \n",
       "..         ...              ...                 ...               ...   \n",
       "475    v0+fc+n       generic-v0                True              True   \n",
       "476       v1+n       generic-v1               False              True   \n",
       "477       v1+n       generic-v1               False              True   \n",
       "478         v0       generic-v0               False             False   \n",
       "479         v0       generic-v0               False             False   \n",
       "\n",
       "     truncate_common_chain  collect_garbage  reward_common_chain     protocol  \\\n",
       "0                     True             True                 True      bitcoin   \n",
       "1                     True             True                 True      bitcoin   \n",
       "2                     True             True                 True      bitcoin   \n",
       "3                     True             True                 True   ethereum_3   \n",
       "4                     True             True                 True  byzantium_3   \n",
       "..                     ...              ...                  ...          ...   \n",
       "475                   True             True                 True      bitcoin   \n",
       "476                   True             True                 True   ghostdag_3   \n",
       "477                   True             True                 True   ethereum_3   \n",
       "478                   True             True                 True      bitcoin   \n",
       "479                   True             True                 True      bitcoin   \n",
       "\n",
       "     dag_size_limit   size  ...      vi_time  vi_max_value ss_reachable  \\\n",
       "0                 6     47  ...     0.215139      9.653684           15   \n",
       "1                 6     37  ...     0.421732      9.625739           13   \n",
       "2                 6    549  ...     3.579227      9.452998            5   \n",
       "3                 6   1179  ...     5.791416      9.683072          170   \n",
       "4                 6   1109  ...     5.235343      9.847424            5   \n",
       "..              ...    ...  ...          ...           ...          ...   \n",
       "475               6    501  ...     6.840231     76.624930           81   \n",
       "476               6  12644  ...   106.411738     56.874280          128   \n",
       "477               6  10293  ...   150.334514     87.836049          186   \n",
       "478               6  42041  ...  1039.836149     68.968838          145   \n",
       "479               6  42041  ...   873.004934     76.617109          145   \n",
       "\n",
       "     ss_nonzero   ss_time  pe_iter     ptrev       rpp         time  \\\n",
       "0            15  0.054875        2  0.049500  0.050000     0.271739   \n",
       "1            13  0.080737        2  0.024750  0.050000     0.503917   \n",
       "2             5  0.001442        2  0.024750  0.050000     3.594119   \n",
       "3           170  0.004256        2  0.024233  0.052591     5.820228   \n",
       "4             5  0.001021        2  0.024750  0.050000     5.253883   \n",
       "..          ...       ...      ...       ...       ...          ...   \n",
       "475          81  0.001883        2  0.252527  0.757443     6.853768   \n",
       "476         128  0.002728        2  0.190198  0.560976   106.627497   \n",
       "477         186  0.003587        2  0.194125  0.861063   150.489992   \n",
       "478         145  0.002748        2  0.181175  0.679094  1041.707636   \n",
       "479         145  0.002359        2  0.199260  0.757443   875.151046   \n",
       "\n",
       "    vi_steady_value  \n",
       "0          4.940165  \n",
       "1          4.939711  \n",
       "2          4.940214  \n",
       "3          5.210661  \n",
       "4          4.940214  \n",
       "..              ...  \n",
       "475       75.137994  \n",
       "476       54.565483  \n",
       "477       84.820546  \n",
       "478       67.415818  \n",
       "479       75.229200  \n",
       "\n",
       "[480 rows x 32 columns]"
      ]
     },
     "execution_count": 6,
     "metadata": {},
     "output_type": "execute_result"
    }
   ],
   "source": [
    "def optimize(network, idx, row):\n",
    "    with gzip.open(f\"5-generated-mdps/mdp-{row.mdp}.pkl.gz\", \"rb\") as f:\n",
    "        emdp = pickle.load(f)\n",
    "        emdp = map_params(emdp, **network)\n",
    "        oae = util.optimize_and_evaluate(emdp, eps=stop_delta, horizon=horizon)\n",
    "        return row.to_dict() | dict(horizon=horizon) | network | oae\n",
    "\n",
    "\n",
    "def generate_jobs():\n",
    "    for network in networks:\n",
    "        for idx, row in mdps.iterrows():\n",
    "            # if row['size'] > 1000:\n",
    "            #    continue\n",
    "            yield joblib.delayed(optimize)(network, idx, row)\n",
    "\n",
    "\n",
    "jobs = list(generate_jobs())\n",
    "generate_solutions = joblib.Parallel(return_as=\"generator_unordered\", n_jobs=6)(jobs)\n",
    "with_progress = tqdm.tqdm(generate_solutions, total=len(jobs))\n",
    "df = pandas.DataFrame(with_progress)\n",
    "df.to_pickle(\"5-value-iterations.pkl.gz\")\n",
    "df"
   ]
  },
  {
   "cell_type": "markdown",
   "id": "1c97c594-e608-47aa-84bf-e2ce21f375bf",
   "metadata": {},
   "source": [
    "# Reward per progress, source model, steady state"
   ]
  },
  {
   "cell_type": "code",
   "execution_count": 7,
   "id": "9cab8316-952f-45b3-8004-a9326bca7cb5",
   "metadata": {},
   "outputs": [
    {
     "data": {
      "text/plain": [
       "<seaborn.axisgrid.FacetGrid at 0x7fd6297df040>"
      ]
     },
     "execution_count": 7,
     "metadata": {},
     "output_type": "execute_result"
    },
    {
     "data": {
      "image/png": "[encoded data removed]",
      "text/plain": [
       "<Figure size 2611.75x1000 with 10 Axes>"
      ]
     },
     "metadata": {},
     "output_type": "display_data"
    }
   ],
   "source": [
    "seaborn.relplot(\n",
    "    data=df,\n",
    "    kind=\"line\",\n",
    "    x=\"alpha\",\n",
    "    y=\"rpp\",\n",
    "    col=\"protocol\",\n",
    "    hue=\"problem\",\n",
    "    style=\"problem\",\n",
    "    markers=True,\n",
    "    row=\"gamma\",\n",
    ")"
   ]
  },
  {
   "cell_type": "markdown",
   "id": "e0bb63fc-215b-43f1-a33d-7260f435ed37",
   "metadata": {},
   "source": [
    "# Revenue, PTO model, at source-model steady state"
   ]
  },
  {
   "cell_type": "code",
   "execution_count": 8,
   "id": "aa76d769-756e-4718-a27c-a0359ad096b0",
   "metadata": {},
   "outputs": [
    {
     "data": {
      "text/plain": [
       "<seaborn.axisgrid.FacetGrid at 0x7fd6013f9760>"
      ]
     },
     "execution_count": 8,
     "metadata": {},
     "output_type": "execute_result"
    },
    {
     "data": {
      "image/png": "[encoded data removed]",
      "text/plain": [
       "<Figure size 2611.75x1000 with 10 Axes>"
      ]
     },
     "metadata": {},
     "output_type": "display_data"
    }
   ],
   "source": [
    "seaborn.relplot(\n",
    "    data=df,\n",
    "    kind=\"line\",\n",
    "    x=\"alpha\",\n",
    "    y=\"ptrev\",\n",
    "    col=\"protocol\",\n",
    "    hue=\"problem\",\n",
    "    style=\"problem\",\n",
    "    markers=True,\n",
    "    row=\"gamma\",\n",
    ")"
   ]
  }
 ],
 "metadata": {
  "kernelspec": {
   "display_name": "Python 3 (ipykernel)",
   "language": "python",
   "name": "python3"
  },
  "language_info": {
   "codemirror_mode": {
    "name": "ipython",
    "version": 3
   },
   "file_extension": ".py",
   "mimetype": "text/x-python",
   "name": "python",
   "nbconvert_exporter": "python",
   "pygments_lexer": "ipython3",
   "version": "3.9.21"
  }
 },
 "nbformat": 4,
 "nbformat_minor": 5
}
