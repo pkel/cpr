{
 "cells": [
  {
   "cell_type": "code",
   "execution_count": 1,
   "id": "404b850f",
   "metadata": {},
   "outputs": [],
   "source": [
    "from bitcoin import Bitcoin\n",
    "from compiler import Compiler\n",
    "from ethereum import EthereumWhitepaper, EthereumByzantium\n",
    "from parallel import Parallel\n",
    "from sm import SelfishMining, map_params, mappable_params\n",
    "import barzur20aft\n",
    "import seaborn as sns\n",
    "import numpy as np"
   ]
  },
  {
   "cell_type": "code",
   "execution_count": 2,
   "id": "31ba4925",
   "metadata": {},
   "outputs": [],
   "source": [
    "def compile(proto, **kwargs):\n",
    "    model = SelfishMining(proto, **kwargs)\n",
    "    c = Compiler(model)\n",
    "    while c.explore():\n",
    "        pass\n",
    "    return c.mdp()"
   ]
  },
  {
   "cell_type": "code",
   "execution_count": 3,
   "id": "7b3c92a4",
   "metadata": {},
   "outputs": [
    {
     "data": {
      "text/plain": [
       "MDP of size 2886 / 3 / 11249 / 3.9"
      ]
     },
     "execution_count": 3,
     "metadata": {},
     "output_type": "execute_result"
    }
   ],
   "source": [
    "base_mdp = compile(Bitcoin(), maximum_size=9, **mappable_params)\n",
    "base_mdp"
   ]
  },
  {
   "cell_type": "code",
   "execution_count": 4,
   "id": "9dba077e",
   "metadata": {},
   "outputs": [
    {
     "name": "stdout",
     "output_type": "stream",
     "text": [
      "0.01\n",
      "0.05\n",
      "0.1\n",
      "0.2\n",
      "0.3\n",
      "0.35\n",
      "0.4\n",
      "0.5\n"
     ]
    }
   ],
   "source": [
    "alpha = [0.01, 0.05, 0.1, 0.2, 0.3, 0.35, 0.4, 0.5]\n",
    "ptmdp = []\n",
    "mdp = []\n",
    "for a in alpha:\n",
    "    print(a)\n",
    "    m = map_params(base_mdp, alpha=a, gamma=0.5)\n",
    "    mdp.append(m)\n",
    "    ptmdp.append(barzur20aft.ptmdp(m, horizon=100))"
   ]
  },
  {
   "cell_type": "code",
   "execution_count": 5,
   "id": "384ee17b",
   "metadata": {},
   "outputs": [],
   "source": [
    "def value_iteration(mdp, *args, n_iter=100, discount=0.99, verbose=False):\n",
    "    value = np.zeros(mdp.n_states, dtype=float)\n",
    "    policy = np.zeros(mdp.n_states, dtype=int)\n",
    "\n",
    "    for iteration in range(n_iter):\n",
    "        value_next = np.zeros(mdp.n_states, dtype=float)\n",
    "        policy_next = np.zeros(mdp.n_states, dtype=int)\n",
    "\n",
    "        for src, actions in enumerate(mdp.tab):\n",
    "            best_v = 0.0\n",
    "            best_a = -1  # no action possible\n",
    "            for act, lst in actions.items():\n",
    "                if act < 0:\n",
    "                    continue\n",
    "                this_v = 0.0\n",
    "                for t in lst:\n",
    "                    this_v += t.probability * (\n",
    "                        t.reward + discount * value[t.destination]\n",
    "                    )\n",
    "                if this_v >= best_v:  # intentionally to not stick with action -1\n",
    "                    best_v = this_v\n",
    "                    best_a = act\n",
    "            value_next[src] = best_v\n",
    "            policy_next[src] = best_a\n",
    "            assert best_a >= 0 or len(actions) == 0\n",
    "\n",
    "        value_delta = np.abs(value_next - value).max()\n",
    "        policy_delta = (policy_next != policy).sum()\n",
    "        if verbose:\n",
    "            print(iteration, value[:5], value_delta, policy_delta)\n",
    "        value = value_next\n",
    "        policy = policy_next\n",
    "    return value, policy"
   ]
  },
  {
   "cell_type": "code",
   "execution_count": 6,
   "id": "e195c5b7",
   "metadata": {},
   "outputs": [],
   "source": [
    "# value_iteration(ptmdp[0], n_iter=500, discount=1, verbose=True)"
   ]
  },
  {
   "cell_type": "code",
   "execution_count": 7,
   "id": "1d26c7f7",
   "metadata": {
    "scrolled": true
   },
   "outputs": [
    {
     "name": "stdout",
     "output_type": "stream",
     "text": [
      "0: alpha=0.01\n",
      "1: alpha=0.05\n",
      "2: alpha=0.1\n",
      "3: alpha=0.2\n",
      "4: alpha=0.3\n",
      "5: alpha=0.35\n",
      "6: alpha=0.4\n",
      "7: alpha=0.5\n"
     ]
    }
   ],
   "source": [
    "policy = []\n",
    "ptvalue = []\n",
    "for i, m in enumerate(ptmdp):\n",
    "    print(f\"{i}: alpha={alpha[i]}\")\n",
    "    v, p = value_iteration(m, discount=1, n_iter=500)\n",
    "    policy.append(p)\n",
    "    ptvalue.append(v)"
   ]
  },
  {
   "cell_type": "code",
   "execution_count": 8,
   "id": "931f4e20",
   "metadata": {},
   "outputs": [
    {
     "name": "stdout",
     "output_type": "stream",
     "text": [
      "alpha=0.01 ptvalue[0:2]=[1.9081309  0.90813098] policy=[0 0 1 2 0 1 2 1 1 1] 3716 6714\n",
      "alpha=0.05 ptvalue[0:2]=[5.54080204 4.54081196] policy=[0 0 1 2 0 1 2 1 1 1] 3630 4145\n",
      "alpha=0.1 ptvalue[0:2]=[10.08190378  9.08197897] policy=[0 0 1 2 0 1 2 1 1 1] 3568 6630\n",
      "alpha=0.2 ptvalue[0:2]=[19.16459284 18.16512749] policy=[0 0 1 2 0 1 2 1 1 1] 3584 1402\n",
      "alpha=0.3 ptvalue[0:2]=[29.52245476 28.52727962] policy=[0 0 1 2 0 0 2 1 1 0] 3323 1547\n",
      "alpha=0.35 ptvalue[0:2]=[36.78628988 35.79400224] policy=[0 0 1 2 0 0 2 1 1 0] 3319 4370\n",
      "alpha=0.4 ptvalue[0:2]=[45.42159361 44.43318694] policy=[0 0 1 2 0 0 2 1 1 0] 3267 508\n",
      "alpha=0.5 ptvalue[0:2]=[64.38718866 63.40907379] policy=[0 0 1 2 0 0 2 1 1 0] 3251 2746\n"
     ]
    }
   ],
   "source": [
    "for i in range(len(alpha)):\n",
    "    print(\n",
    "        f\"alpha={alpha[i]} ptvalue[0:2]={ptvalue[i][0:2]} policy={policy[i][:10]} {sum(policy[i])} {hash(policy[i].tobytes()) % 10000}\"\n",
    "    )"
   ]
  },
  {
   "cell_type": "code",
   "execution_count": 9,
   "id": "8f1d33da",
   "metadata": {},
   "outputs": [
    {
     "name": "stdout",
     "output_type": "stream",
     "text": [
      "2886 2887 2887\n"
     ]
    }
   ],
   "source": [
    "print(mdp[0].n_states, ptmdp[0].n_states, len(policy[0]))"
   ]
  },
  {
   "cell_type": "code",
   "execution_count": 10,
   "id": "eef9a711",
   "metadata": {},
   "outputs": [
    {
     "name": "stdout",
     "output_type": "stream",
     "text": [
      "alpha=0.01 rpp=0.010461847389558226\n",
      "alpha=0.05 rpp=0.0503012048192771\n",
      "alpha=0.1 rpp=0.10010040160642575\n",
      "alpha=0.2 rpp=0.1996987951807229\n",
      "alpha=0.3 rpp=0.3237880072252172\n",
      "alpha=0.35 rpp=0.41345735371732767\n",
      "alpha=0.4 rpp=0.5203834028446517\n",
      "alpha=0.5 rpp=0.7532045016599548\n"
     ]
    }
   ],
   "source": [
    "def reward_per_progress_backpropagation(mdp, policy, n_iter=500):\n",
    "    reward = np.zeros(mdp.n_states, dtype=float)\n",
    "    progress = np.zeros(mdp.n_states, dtype=float)\n",
    "\n",
    "    for i in range(n_iter):\n",
    "        reward_next = np.zeros(mdp.n_states, dtype=float)\n",
    "        progress_next = np.zeros(mdp.n_states, dtype=float)\n",
    "        for src in range(mdp.n_states):\n",
    "            act = policy[src]\n",
    "            if act == -1:\n",
    "                assert len(mdp.tab[src]) == 0\n",
    "                continue\n",
    "            for t in mdp.tab[src][act]:\n",
    "                reward_next[src] += t.probability * (t.reward + reward[t.destination])\n",
    "                progress_next[src] += t.probability * (\n",
    "                    t.progress + progress[t.destination]\n",
    "                )\n",
    "        reward = reward_next\n",
    "        progress = progress_next\n",
    "\n",
    "    rpp = 0.0\n",
    "    for state, prob in mdp.start.items():\n",
    "        rpp += prob * reward[state] / progress[state]\n",
    "    return rpp\n",
    "\n",
    "\n",
    "for i in range(len(alpha)):\n",
    "    rpp = reward_per_progress_backpropagation(mdp[i], policy[i])\n",
    "    print(f\"alpha={alpha[i]} rpp={rpp}\")"
   ]
  }
 ],
 "metadata": {
  "kernelspec": {
   "display_name": "Python 3 (ipykernel)",
   "language": "python",
   "name": "python3"
  },
  "language_info": {
   "codemirror_mode": {
    "name": "ipython",
    "version": 3
   },
   "file_extension": ".py",
   "mimetype": "text/x-python",
   "name": "python",
   "nbconvert_exporter": "python",
   "pygments_lexer": "ipython3",
   "version": "3.9.17"
  }
 },
 "nbformat": 4,
 "nbformat_minor": 5
}
