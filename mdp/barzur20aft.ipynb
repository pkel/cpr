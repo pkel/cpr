{
 "cells": [
  {
   "cell_type": "code",
   "execution_count": 1,
   "id": "024cda7d",
   "metadata": {},
   "outputs": [],
   "source": [
    "import barzur20aft\n",
    "import compiler\n",
    "import numpy as np\n",
    "import pandas"
   ]
  },
  {
   "cell_type": "code",
   "execution_count": 2,
   "id": "2ab5a2da",
   "metadata": {},
   "outputs": [],
   "source": [
    "def bitcoin_mdp(*args, **kwargs):\n",
    "    model = barzur20aft.Bitcoin(*args, **kwargs)\n",
    "    c = compiler.Compiler(model)\n",
    "    return c.mdp()"
   ]
  },
  {
   "cell_type": "code",
   "execution_count": 3,
   "id": "5e759ed6",
   "metadata": {},
   "outputs": [
    {
     "name": "stdout",
     "output_type": "stream",
     "text": [
      "0.01\n",
      "0.05\n",
      "0.1\n",
      "0.2\n",
      "0.3\n",
      "0.35\n",
      "0.4\n",
      "0.45\n",
      "0.49\n"
     ]
    }
   ],
   "source": [
    "alpha = [0.01, 0.05, 0.1, 0.2, 0.3, 0.35, 0.4, 0.45, 0.49]\n",
    "ptmdp = []\n",
    "mdp = []\n",
    "for a in alpha:\n",
    "    print(a)\n",
    "    m = bitcoin_mdp(alpha=a, gamma=1, maximum_fork_length=25)\n",
    "    mdp.append(m)\n",
    "    ptmdp.append(barzur20aft.ptmdp(m, horizon=100))"
   ]
  },
  {
   "cell_type": "code",
   "execution_count": 4,
   "id": "e448904a",
   "metadata": {},
   "outputs": [
    {
     "name": "stdout",
     "output_type": "stream",
     "text": [
      "alpha=0.01 iter= 30 v[0]=0.14 p=[0 0 1 0 3 0 1 0 0 0] 1046 7900\n",
      "alpha=0.05 iter=195 v[0]=3.23 p=[0 0 1 0 3 0 1 0 0 0] 949 582\n",
      "alpha=0.10 iter=351 v[0]=9.04 p=[0 0 1 0 3 0 1 0 0 0] 861 2012\n",
      "alpha=0.20 iter=534 v[0]=22.87 p=[0 0 1 0 3 0 1 0 0 0] 771 752\n",
      "alpha=0.30 iter=664 v[0]=40.86 p=[0 0 1 0 3 0 1 0 0 0] 782 5126\n",
      "alpha=0.35 iter=718 v[0]=52.17 p=[0 0 1 0 3 0 1 0 0 0] 773 7542\n",
      "alpha=0.40 iter=763 v[0]=65.48 p=[0 0 1 0 3 0 1 0 0 0] 778 9087\n",
      "alpha=0.45 iter=795 v[0]=80.41 p=[0 0 1 0 3 0 1 0 0 0] 733 5928\n",
      "alpha=0.49 iter=804 v[0]=91.34 p=[0 0 1 0 3 0 1 0 0 0] 660 88\n"
     ]
    }
   ],
   "source": [
    "vi = []\n",
    "for i, m in enumerate(ptmdp):\n",
    "    res = m.value_iteration(value_eps=0.01)\n",
    "    vi.append(res)\n",
    "    v = res[\"vi_value\"]\n",
    "    p = res[\"vi_policy\"]\n",
    "    iter = res[\"vi_iter\"]\n",
    "    print(\n",
    "        f\"alpha={alpha[i]:.2f} iter={iter:3d} v[0]={v[0]:.2f} p={p[:10]} {sum(p)} {hash(p.tobytes()) % 10000}\"\n",
    "    )"
   ]
  },
  {
   "cell_type": "code",
   "execution_count": 5,
   "id": "03dff86a",
   "metadata": {},
   "outputs": [
    {
     "data": {
      "text/html": [
       "<div>\n",
       "<style scoped>\n",
       "    .dataframe tbody tr th:only-of-type {\n",
       "        vertical-align: middle;\n",
       "    }\n",
       "\n",
       "    .dataframe tbody tr th {\n",
       "        vertical-align: top;\n",
       "    }\n",
       "\n",
       "    .dataframe thead th {\n",
       "        text-align: right;\n",
       "    }\n",
       "</style>\n",
       "<table border=\"1\" class=\"dataframe\">\n",
       "  <thead>\n",
       "    <tr style=\"text-align: right;\">\n",
       "      <th></th>\n",
       "      <th>alpha</th>\n",
       "      <th>ss_time</th>\n",
       "      <th>rpp</th>\n",
       "      <th>rpp_iter</th>\n",
       "      <th>rpp_time</th>\n",
       "    </tr>\n",
       "  </thead>\n",
       "  <tbody>\n",
       "    <tr>\n",
       "      <th>0</th>\n",
       "      <td>0.01</td>\n",
       "      <td>0.787586</td>\n",
       "      <td>0.010100</td>\n",
       "      <td>2</td>\n",
       "      <td>0.015358</td>\n",
       "    </tr>\n",
       "    <tr>\n",
       "      <th>1</th>\n",
       "      <td>0.05</td>\n",
       "      <td>0.732544</td>\n",
       "      <td>0.052632</td>\n",
       "      <td>2</td>\n",
       "      <td>0.015727</td>\n",
       "    </tr>\n",
       "    <tr>\n",
       "      <th>2</th>\n",
       "      <td>0.10</td>\n",
       "      <td>0.725546</td>\n",
       "      <td>0.111111</td>\n",
       "      <td>2</td>\n",
       "      <td>0.016007</td>\n",
       "    </tr>\n",
       "    <tr>\n",
       "      <th>3</th>\n",
       "      <td>0.20</td>\n",
       "      <td>0.740875</td>\n",
       "      <td>0.250000</td>\n",
       "      <td>2</td>\n",
       "      <td>0.016495</td>\n",
       "    </tr>\n",
       "    <tr>\n",
       "      <th>4</th>\n",
       "      <td>0.30</td>\n",
       "      <td>0.791383</td>\n",
       "      <td>0.428544</td>\n",
       "      <td>2</td>\n",
       "      <td>0.016623</td>\n",
       "    </tr>\n",
       "    <tr>\n",
       "      <th>5</th>\n",
       "      <td>0.35</td>\n",
       "      <td>0.717292</td>\n",
       "      <td>0.538146</td>\n",
       "      <td>2</td>\n",
       "      <td>0.016599</td>\n",
       "    </tr>\n",
       "    <tr>\n",
       "      <th>6</th>\n",
       "      <td>0.40</td>\n",
       "      <td>0.847136</td>\n",
       "      <td>0.664888</td>\n",
       "      <td>2</td>\n",
       "      <td>0.017119</td>\n",
       "    </tr>\n",
       "    <tr>\n",
       "      <th>7</th>\n",
       "      <td>0.45</td>\n",
       "      <td>0.990060</td>\n",
       "      <td>0.809704</td>\n",
       "      <td>2</td>\n",
       "      <td>0.016677</td>\n",
       "    </tr>\n",
       "    <tr>\n",
       "      <th>8</th>\n",
       "      <td>0.49</td>\n",
       "      <td>1.936042</td>\n",
       "      <td>0.919795</td>\n",
       "      <td>2</td>\n",
       "      <td>0.033739</td>\n",
       "    </tr>\n",
       "  </tbody>\n",
       "</table>\n",
       "</div>"
      ],
      "text/plain": [
       "   alpha   ss_time       rpp  rpp_iter  rpp_time\n",
       "0   0.01  0.787586  0.010100         2  0.015358\n",
       "1   0.05  0.732544  0.052632         2  0.015727\n",
       "2   0.10  0.725546  0.111111         2  0.016007\n",
       "3   0.20  0.740875  0.250000         2  0.016495\n",
       "4   0.30  0.791383  0.428544         2  0.016623\n",
       "5   0.35  0.717292  0.538146         2  0.016599\n",
       "6   0.40  0.847136  0.664888         2  0.017119\n",
       "7   0.45  0.990060  0.809704         2  0.016677\n",
       "8   0.49  1.936042  0.919795         2  0.033739"
      ]
     },
     "execution_count": 5,
     "metadata": {},
     "output_type": "execute_result"
    }
   ],
   "source": [
    "def rows():\n",
    "    for i, a in enumerate(alpha):\n",
    "        rpp = mdp[i].reward_per_progress(vi[i][\"vi_policy\"], eps=0.0001)\n",
    "        yield dict(alpha=a) | rpp\n",
    "\n",
    "\n",
    "pandas.DataFrame(rows())"
   ]
  }
 ],
 "metadata": {
  "kernelspec": {
   "display_name": "Python 3 (ipykernel)",
   "language": "python",
   "name": "python3"
  },
  "language_info": {
   "codemirror_mode": {
    "name": "ipython",
    "version": 3
   },
   "file_extension": ".py",
   "mimetype": "text/x-python",
   "name": "python",
   "nbconvert_exporter": "python",
   "pygments_lexer": "ipython3",
   "version": "3.9.17"
  }
 },
 "nbformat": 4,
 "nbformat_minor": 5
}
