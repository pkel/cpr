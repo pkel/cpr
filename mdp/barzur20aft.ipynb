{
 "cells": [
  {
   "cell_type": "code",
   "execution_count": 1,
   "id": "024cda7d",
   "metadata": {},
   "outputs": [],
   "source": [
    "import barzur20aft\n",
    "import compiler\n",
    "import numpy as np"
   ]
  },
  {
   "cell_type": "code",
   "execution_count": 2,
   "id": "2ab5a2da",
   "metadata": {},
   "outputs": [],
   "source": [
    "def bitcoin_mdp(*args, **kwargs):\n",
    "    model = barzur20aft.Bitcoin(*args, **kwargs)\n",
    "    c = compiler.Compiler(model)\n",
    "    while c.explore():\n",
    "        pass\n",
    "    return c.mdp()"
   ]
  },
  {
   "cell_type": "code",
   "execution_count": 3,
   "id": "5e759ed6",
   "metadata": {},
   "outputs": [
    {
     "name": "stdout",
     "output_type": "stream",
     "text": [
      "0.01\n",
      "0.05\n",
      "0.1\n",
      "0.2\n",
      "0.3\n",
      "0.35\n",
      "0.4\n",
      "0.45\n",
      "0.49\n"
     ]
    }
   ],
   "source": [
    "alpha = [0.01, 0.05, 0.1, 0.2, 0.3, 0.35, 0.4, 0.45, 0.49]\n",
    "ptmdp = []\n",
    "mdp = []\n",
    "for a in alpha:\n",
    "    print(a)\n",
    "    m = bitcoin_mdp(alpha=a, gamma=0.0, maximum_fork_length=25)\n",
    "    mdp.append(m)\n",
    "    ptmdp.append(barzur20aft.ptmdp(m, horizon=100))"
   ]
  },
  {
   "cell_type": "code",
   "execution_count": 4,
   "id": "b4afbabb",
   "metadata": {},
   "outputs": [],
   "source": [
    "def value_iteration(mdp, *args, n_iter=100, discount=0.99, verbose=False):\n",
    "    value = np.zeros(mdp.n_states, dtype=float)\n",
    "    policy = np.zeros(mdp.n_states, dtype=int)\n",
    "\n",
    "    for iteration in range(n_iter):\n",
    "        value_next = np.zeros(mdp.n_states, dtype=float)\n",
    "        policy_next = np.zeros(mdp.n_states, dtype=int)\n",
    "\n",
    "        for src, actions in enumerate(mdp.tab):\n",
    "            best_v = 0.0\n",
    "            best_a = -1  # no action possible\n",
    "            for act, lst in actions.items():\n",
    "                if act < 0:\n",
    "                    continue\n",
    "                this_v = 0.0\n",
    "                for t in lst:\n",
    "                    this_v += t.probability * (\n",
    "                        t.reward + discount * value[t.destination]\n",
    "                    )\n",
    "                if this_v >= best_v:  # intentionally to not stick with action -1\n",
    "                    best_v = this_v\n",
    "                    best_a = act\n",
    "            value_next[src] = best_v\n",
    "            policy_next[src] = best_a\n",
    "            assert best_a >= 0 or len(actions) == 0\n",
    "\n",
    "        value_delta = np.abs(value_next - value).max()\n",
    "        policy_delta = (policy_next != policy).sum()\n",
    "        if verbose:\n",
    "            print(iteration, value[:5], value_delta, policy_delta)\n",
    "        value = value_next\n",
    "        policy = policy_next\n",
    "    return value, policy"
   ]
  },
  {
   "cell_type": "code",
   "execution_count": 5,
   "id": "e448904a",
   "metadata": {},
   "outputs": [
    {
     "name": "stdout",
     "output_type": "stream",
     "text": [
      "alpha=0.01 ptvalue[0]=0.9189414838378175 policy=[0 3 1 0 1 0 0 3 1 1] 1794 1520\n",
      "alpha=0.05 ptvalue[0]=4.594707419189073 policy=[0 3 1 0 1 0 0 3 1 1] 1786 1264\n",
      "alpha=0.1 ptvalue[0]=9.189414838378188 policy=[0 3 1 0 1 0 0 3 1 1] 1784 8739\n",
      "alpha=0.2 ptvalue[0]=18.378829676756467 policy=[0 3 1 0 1 0 0 3 1 1] 1754 4957\n",
      "alpha=0.3 ptvalue[0]=27.569142083943404 policy=[0 3 1 0 1 0 0 3 0 1] 1700 6493\n",
      "alpha=0.35 ptvalue[0]=34.61090738587485 policy=[0 0 1 0 1 0 0 3 0 1] 1678 2812\n",
      "alpha=0.4 ptvalue[0]=45.488694825371496 policy=[0 0 1 0 1 0 0 3 0 1] 1656 8426\n",
      "alpha=0.45 ptvalue[0]=61.125244060442164 policy=[0 0 1 0 1 0 0 3 0 1] 1626 2988\n",
      "alpha=0.49 ptvalue[0]=76.07812204354227 policy=[0 0 1 0 1 0 0 3 0 1] 1588 4774\n"
     ]
    }
   ],
   "source": [
    "policy = []\n",
    "ptvalue = []\n",
    "for i, m in enumerate(ptmdp):\n",
    "    v, p = value_iteration(m, discount=1, n_iter=500)\n",
    "    policy.append(p)\n",
    "    ptvalue.append(v)\n",
    "    print(\n",
    "        f\"alpha={alpha[i]} ptvalue[0]={ptvalue[i][0]} policy={policy[i][:10]} {sum(policy[i])} {hash(policy[i].tobytes()) % 10000}\"\n",
    "    )"
   ]
  },
  {
   "cell_type": "code",
   "execution_count": 6,
   "id": "6f42896f",
   "metadata": {},
   "outputs": [
    {
     "name": "stdout",
     "output_type": "stream",
     "text": [
      "alpha=0.01 rpp[0]=0.009999999999999992\n",
      "alpha=0.05 rpp[0]=0.049999999999999954\n",
      "alpha=0.1 rpp[0]=0.1\n",
      "alpha=0.2 rpp[0]=0.19999999999999984\n",
      "alpha=0.3 rpp[0]=0.2999999999999994\n",
      "alpha=0.35 rpp[0]=0.3681152968623869\n",
      "alpha=0.4 rpp[0]=0.48155899463631074\n",
      "alpha=0.45 rpp[0]=0.6371454398566533\n",
      "alpha=0.49 rpp[0]=0.7969679577222449\n"
     ]
    }
   ],
   "source": [
    "def reward_per_progress_backpropagation(mdp, policy, n_iter=500):\n",
    "    reward = np.zeros(mdp.n_states, dtype=float)\n",
    "    progress = np.zeros(mdp.n_states, dtype=float)\n",
    "\n",
    "    for i in range(n_iter):\n",
    "        reward_next = np.zeros(mdp.n_states, dtype=float)\n",
    "        progress_next = np.zeros(mdp.n_states, dtype=float)\n",
    "        for src in range(mdp.n_states):\n",
    "            act = policy[src]\n",
    "            if act == -1:\n",
    "                assert len(mdp.tab[src]) == 0\n",
    "                continue\n",
    "            for t in mdp.tab[src][act]:\n",
    "                reward_next[src] += t.probability * (t.reward + reward[t.destination])\n",
    "                progress_next[src] += t.probability * (\n",
    "                    t.progress + progress[t.destination]\n",
    "                )\n",
    "        reward = reward_next\n",
    "        progress = progress_next\n",
    "    return reward / progress\n",
    "\n",
    "\n",
    "for i, a in enumerate(alpha):\n",
    "    rpp = reward_per_progress_backpropagation(mdp[i], policy[i])\n",
    "    print(f\"alpha={a} rpp[0]={rpp[0]}\")"
   ]
  }
 ],
 "metadata": {
  "kernelspec": {
   "display_name": "Python 3 (ipykernel)",
   "language": "python",
   "name": "python3"
  },
  "language_info": {
   "codemirror_mode": {
    "name": "ipython",
    "version": 3
   },
   "file_extension": ".py",
   "mimetype": "text/x-python",
   "name": "python",
   "nbconvert_exporter": "python",
   "pygments_lexer": "ipython3",
   "version": "3.9.17"
  }
 },
 "nbformat": 4,
 "nbformat_minor": 5
}
