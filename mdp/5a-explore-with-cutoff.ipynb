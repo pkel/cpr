{
 "cells": [
  {
   "cell_type": "code",
   "execution_count": 1,
   "id": "829da242-e613-4808-841e-9921993ca24e",
   "metadata": {
    "execution": {
     "iopub.execute_input": "2024-12-25T10:48:06.478620Z",
     "iopub.status.busy": "2024-12-25T10:48:06.478414Z",
     "iopub.status.idle": "2024-12-25T10:48:07.639945Z",
     "shell.execute_reply": "2024-12-25T10:48:07.639451Z"
    }
   },
   "outputs": [],
   "source": [
    "import pandas\n",
    "import seaborn\n",
    "import time\n",
    "\n",
    "from lib.compiler import Compiler\n",
    "from lib.models.generic_v0.model import mappable_params\n",
    "\n",
    "from lib.models.aft20barzur import BitcoinSM as AFT20BarZur\n",
    "from lib.models.fc16sapirshtein import BitcoinSM as FC16Sapirshtein\n",
    "\n",
    "from lib.models.generic_v1 import protocols as g1\n",
    "from lib.models.generic_v1.model import SingleAgent as G1Model\n",
    "\n",
    "from lib.models.generic_v0.bitcoin import Bitcoin as G0Bitcoin\n",
    "from lib.models.generic_v0.model import SelfishMining as G0Model"
   ]
  },
  {
   "cell_type": "code",
   "execution_count": 2,
   "id": "09c0bd5a-eca0-4a38-9caf-b99660c8bef0",
   "metadata": {
    "execution": {
     "iopub.execute_input": "2024-12-25T10:48:07.642808Z",
     "iopub.status.busy": "2024-12-25T10:48:07.642567Z",
     "iopub.status.idle": "2024-12-25T10:48:07.670100Z",
     "shell.execute_reply": "2024-12-25T10:48:07.669666Z"
    }
   },
   "outputs": [
    {
     "data": {
      "text/html": [
       "<div>\n",
       "<style scoped>\n",
       "    .dataframe tbody tr th:only-of-type {\n",
       "        vertical-align: middle;\n",
       "    }\n",
       "\n",
       "    .dataframe tbody tr th {\n",
       "        vertical-align: top;\n",
       "    }\n",
       "\n",
       "    .dataframe thead th {\n",
       "        text-align: right;\n",
       "    }\n",
       "</style>\n",
       "<table border=\"1\" class=\"dataframe\">\n",
       "  <thead>\n",
       "    <tr style=\"text-align: right;\">\n",
       "      <th></th>\n",
       "      <th>scenario</th>\n",
       "      <th>model</th>\n",
       "      <th>protocol</th>\n",
       "      <th>force_consider_own</th>\n",
       "      <th>merge_isomorphic</th>\n",
       "      <th>truncate_common_chain</th>\n",
       "      <th>collect_garbage</th>\n",
       "      <th>reward_common_chain</th>\n",
       "    </tr>\n",
       "  </thead>\n",
       "  <tbody>\n",
       "    <tr>\n",
       "      <th>0</th>\n",
       "      <td>baseline</td>\n",
       "      <td>generic_1</td>\n",
       "      <td>bitcoin</td>\n",
       "      <td>False</td>\n",
       "      <td>False</td>\n",
       "      <td>True</td>\n",
       "      <td>True</td>\n",
       "      <td>False</td>\n",
       "    </tr>\n",
       "    <tr>\n",
       "      <th>1</th>\n",
       "      <td>baseline</td>\n",
       "      <td>generic_1</td>\n",
       "      <td>ethereum_3</td>\n",
       "      <td>False</td>\n",
       "      <td>False</td>\n",
       "      <td>True</td>\n",
       "      <td>True</td>\n",
       "      <td>False</td>\n",
       "    </tr>\n",
       "    <tr>\n",
       "      <th>2</th>\n",
       "      <td>baseline</td>\n",
       "      <td>generic_1</td>\n",
       "      <td>byzantium_3</td>\n",
       "      <td>False</td>\n",
       "      <td>False</td>\n",
       "      <td>True</td>\n",
       "      <td>True</td>\n",
       "      <td>False</td>\n",
       "    </tr>\n",
       "    <tr>\n",
       "      <th>3</th>\n",
       "      <td>baseline</td>\n",
       "      <td>generic_1</td>\n",
       "      <td>ghostdag_3</td>\n",
       "      <td>False</td>\n",
       "      <td>False</td>\n",
       "      <td>True</td>\n",
       "      <td>True</td>\n",
       "      <td>False</td>\n",
       "    </tr>\n",
       "    <tr>\n",
       "      <th>4</th>\n",
       "      <td>baseline</td>\n",
       "      <td>generic_1</td>\n",
       "      <td>parallel_3</td>\n",
       "      <td>False</td>\n",
       "      <td>False</td>\n",
       "      <td>True</td>\n",
       "      <td>True</td>\n",
       "      <td>False</td>\n",
       "    </tr>\n",
       "    <tr>\n",
       "      <th>5</th>\n",
       "      <td>w/o collect garbage</td>\n",
       "      <td>generic_1</td>\n",
       "      <td>bitcoin</td>\n",
       "      <td>False</td>\n",
       "      <td>False</td>\n",
       "      <td>True</td>\n",
       "      <td>False</td>\n",
       "      <td>False</td>\n",
       "    </tr>\n",
       "    <tr>\n",
       "      <th>6</th>\n",
       "      <td>w/o collect garbage</td>\n",
       "      <td>generic_1</td>\n",
       "      <td>ethereum_3</td>\n",
       "      <td>False</td>\n",
       "      <td>False</td>\n",
       "      <td>True</td>\n",
       "      <td>False</td>\n",
       "      <td>False</td>\n",
       "    </tr>\n",
       "    <tr>\n",
       "      <th>7</th>\n",
       "      <td>w/o collect garbage</td>\n",
       "      <td>generic_1</td>\n",
       "      <td>byzantium_3</td>\n",
       "      <td>False</td>\n",
       "      <td>False</td>\n",
       "      <td>True</td>\n",
       "      <td>False</td>\n",
       "      <td>False</td>\n",
       "    </tr>\n",
       "    <tr>\n",
       "      <th>8</th>\n",
       "      <td>w/o collect garbage</td>\n",
       "      <td>generic_1</td>\n",
       "      <td>ghostdag_3</td>\n",
       "      <td>False</td>\n",
       "      <td>False</td>\n",
       "      <td>True</td>\n",
       "      <td>False</td>\n",
       "      <td>False</td>\n",
       "    </tr>\n",
       "    <tr>\n",
       "      <th>9</th>\n",
       "      <td>w/o collect garbage</td>\n",
       "      <td>generic_1</td>\n",
       "      <td>parallel_3</td>\n",
       "      <td>False</td>\n",
       "      <td>False</td>\n",
       "      <td>True</td>\n",
       "      <td>False</td>\n",
       "      <td>False</td>\n",
       "    </tr>\n",
       "    <tr>\n",
       "      <th>10</th>\n",
       "      <td>w/o truncate</td>\n",
       "      <td>generic_1</td>\n",
       "      <td>bitcoin</td>\n",
       "      <td>False</td>\n",
       "      <td>False</td>\n",
       "      <td>False</td>\n",
       "      <td>True</td>\n",
       "      <td>False</td>\n",
       "    </tr>\n",
       "    <tr>\n",
       "      <th>11</th>\n",
       "      <td>w/o truncate</td>\n",
       "      <td>generic_1</td>\n",
       "      <td>ethereum_3</td>\n",
       "      <td>False</td>\n",
       "      <td>False</td>\n",
       "      <td>False</td>\n",
       "      <td>True</td>\n",
       "      <td>False</td>\n",
       "    </tr>\n",
       "    <tr>\n",
       "      <th>12</th>\n",
       "      <td>w/o truncate</td>\n",
       "      <td>generic_1</td>\n",
       "      <td>byzantium_3</td>\n",
       "      <td>False</td>\n",
       "      <td>False</td>\n",
       "      <td>False</td>\n",
       "      <td>True</td>\n",
       "      <td>False</td>\n",
       "    </tr>\n",
       "    <tr>\n",
       "      <th>13</th>\n",
       "      <td>w/o truncate</td>\n",
       "      <td>generic_1</td>\n",
       "      <td>ghostdag_3</td>\n",
       "      <td>False</td>\n",
       "      <td>False</td>\n",
       "      <td>False</td>\n",
       "      <td>True</td>\n",
       "      <td>False</td>\n",
       "    </tr>\n",
       "    <tr>\n",
       "      <th>14</th>\n",
       "      <td>w/o truncate</td>\n",
       "      <td>generic_1</td>\n",
       "      <td>parallel_3</td>\n",
       "      <td>False</td>\n",
       "      <td>False</td>\n",
       "      <td>False</td>\n",
       "      <td>True</td>\n",
       "      <td>False</td>\n",
       "    </tr>\n",
       "    <tr>\n",
       "      <th>15</th>\n",
       "      <td>w/ force consider</td>\n",
       "      <td>generic_1</td>\n",
       "      <td>bitcoin</td>\n",
       "      <td>True</td>\n",
       "      <td>False</td>\n",
       "      <td>True</td>\n",
       "      <td>True</td>\n",
       "      <td>False</td>\n",
       "    </tr>\n",
       "    <tr>\n",
       "      <th>16</th>\n",
       "      <td>w/ force consider</td>\n",
       "      <td>generic_1</td>\n",
       "      <td>ethereum_3</td>\n",
       "      <td>True</td>\n",
       "      <td>False</td>\n",
       "      <td>True</td>\n",
       "      <td>True</td>\n",
       "      <td>False</td>\n",
       "    </tr>\n",
       "    <tr>\n",
       "      <th>17</th>\n",
       "      <td>w/ force consider</td>\n",
       "      <td>generic_1</td>\n",
       "      <td>byzantium_3</td>\n",
       "      <td>True</td>\n",
       "      <td>False</td>\n",
       "      <td>True</td>\n",
       "      <td>True</td>\n",
       "      <td>False</td>\n",
       "    </tr>\n",
       "    <tr>\n",
       "      <th>18</th>\n",
       "      <td>w/ force consider</td>\n",
       "      <td>generic_1</td>\n",
       "      <td>ghostdag_3</td>\n",
       "      <td>True</td>\n",
       "      <td>False</td>\n",
       "      <td>True</td>\n",
       "      <td>True</td>\n",
       "      <td>False</td>\n",
       "    </tr>\n",
       "    <tr>\n",
       "      <th>19</th>\n",
       "      <td>w/ force consider</td>\n",
       "      <td>generic_1</td>\n",
       "      <td>parallel_3</td>\n",
       "      <td>True</td>\n",
       "      <td>False</td>\n",
       "      <td>True</td>\n",
       "      <td>True</td>\n",
       "      <td>False</td>\n",
       "    </tr>\n",
       "    <tr>\n",
       "      <th>20</th>\n",
       "      <td>w/ normalization</td>\n",
       "      <td>generic_1</td>\n",
       "      <td>bitcoin</td>\n",
       "      <td>False</td>\n",
       "      <td>True</td>\n",
       "      <td>True</td>\n",
       "      <td>True</td>\n",
       "      <td>False</td>\n",
       "    </tr>\n",
       "    <tr>\n",
       "      <th>21</th>\n",
       "      <td>w/ normalization</td>\n",
       "      <td>generic_1</td>\n",
       "      <td>ethereum_3</td>\n",
       "      <td>False</td>\n",
       "      <td>True</td>\n",
       "      <td>True</td>\n",
       "      <td>True</td>\n",
       "      <td>False</td>\n",
       "    </tr>\n",
       "    <tr>\n",
       "      <th>22</th>\n",
       "      <td>w/ normalization</td>\n",
       "      <td>generic_1</td>\n",
       "      <td>byzantium_3</td>\n",
       "      <td>False</td>\n",
       "      <td>True</td>\n",
       "      <td>True</td>\n",
       "      <td>True</td>\n",
       "      <td>False</td>\n",
       "    </tr>\n",
       "    <tr>\n",
       "      <th>23</th>\n",
       "      <td>w/ normalization</td>\n",
       "      <td>generic_1</td>\n",
       "      <td>ghostdag_3</td>\n",
       "      <td>False</td>\n",
       "      <td>True</td>\n",
       "      <td>True</td>\n",
       "      <td>True</td>\n",
       "      <td>False</td>\n",
       "    </tr>\n",
       "    <tr>\n",
       "      <th>24</th>\n",
       "      <td>w/ normalization</td>\n",
       "      <td>generic_1</td>\n",
       "      <td>parallel_3</td>\n",
       "      <td>False</td>\n",
       "      <td>True</td>\n",
       "      <td>True</td>\n",
       "      <td>True</td>\n",
       "      <td>False</td>\n",
       "    </tr>\n",
       "    <tr>\n",
       "      <th>25</th>\n",
       "      <td>w/ both</td>\n",
       "      <td>generic_1</td>\n",
       "      <td>bitcoin</td>\n",
       "      <td>True</td>\n",
       "      <td>True</td>\n",
       "      <td>True</td>\n",
       "      <td>True</td>\n",
       "      <td>False</td>\n",
       "    </tr>\n",
       "    <tr>\n",
       "      <th>26</th>\n",
       "      <td>w/ both</td>\n",
       "      <td>generic_1</td>\n",
       "      <td>ethereum_3</td>\n",
       "      <td>True</td>\n",
       "      <td>True</td>\n",
       "      <td>True</td>\n",
       "      <td>True</td>\n",
       "      <td>False</td>\n",
       "    </tr>\n",
       "    <tr>\n",
       "      <th>27</th>\n",
       "      <td>w/ both</td>\n",
       "      <td>generic_1</td>\n",
       "      <td>byzantium_3</td>\n",
       "      <td>True</td>\n",
       "      <td>True</td>\n",
       "      <td>True</td>\n",
       "      <td>True</td>\n",
       "      <td>False</td>\n",
       "    </tr>\n",
       "    <tr>\n",
       "      <th>28</th>\n",
       "      <td>w/ both</td>\n",
       "      <td>generic_1</td>\n",
       "      <td>ghostdag_3</td>\n",
       "      <td>True</td>\n",
       "      <td>True</td>\n",
       "      <td>True</td>\n",
       "      <td>True</td>\n",
       "      <td>False</td>\n",
       "    </tr>\n",
       "    <tr>\n",
       "      <th>29</th>\n",
       "      <td>w/ both</td>\n",
       "      <td>generic_1</td>\n",
       "      <td>parallel_3</td>\n",
       "      <td>True</td>\n",
       "      <td>True</td>\n",
       "      <td>True</td>\n",
       "      <td>True</td>\n",
       "      <td>False</td>\n",
       "    </tr>\n",
       "  </tbody>\n",
       "</table>\n",
       "</div>"
      ],
      "text/plain": [
       "               scenario      model     protocol  force_consider_own  \\\n",
       "0              baseline  generic_1      bitcoin               False   \n",
       "1              baseline  generic_1   ethereum_3               False   \n",
       "2              baseline  generic_1  byzantium_3               False   \n",
       "3              baseline  generic_1   ghostdag_3               False   \n",
       "4              baseline  generic_1   parallel_3               False   \n",
       "5   w/o collect garbage  generic_1      bitcoin               False   \n",
       "6   w/o collect garbage  generic_1   ethereum_3               False   \n",
       "7   w/o collect garbage  generic_1  byzantium_3               False   \n",
       "8   w/o collect garbage  generic_1   ghostdag_3               False   \n",
       "9   w/o collect garbage  generic_1   parallel_3               False   \n",
       "10         w/o truncate  generic_1      bitcoin               False   \n",
       "11         w/o truncate  generic_1   ethereum_3               False   \n",
       "12         w/o truncate  generic_1  byzantium_3               False   \n",
       "13         w/o truncate  generic_1   ghostdag_3               False   \n",
       "14         w/o truncate  generic_1   parallel_3               False   \n",
       "15    w/ force consider  generic_1      bitcoin                True   \n",
       "16    w/ force consider  generic_1   ethereum_3                True   \n",
       "17    w/ force consider  generic_1  byzantium_3                True   \n",
       "18    w/ force consider  generic_1   ghostdag_3                True   \n",
       "19    w/ force consider  generic_1   parallel_3                True   \n",
       "20     w/ normalization  generic_1      bitcoin               False   \n",
       "21     w/ normalization  generic_1   ethereum_3               False   \n",
       "22     w/ normalization  generic_1  byzantium_3               False   \n",
       "23     w/ normalization  generic_1   ghostdag_3               False   \n",
       "24     w/ normalization  generic_1   parallel_3               False   \n",
       "25              w/ both  generic_1      bitcoin                True   \n",
       "26              w/ both  generic_1   ethereum_3                True   \n",
       "27              w/ both  generic_1  byzantium_3                True   \n",
       "28              w/ both  generic_1   ghostdag_3                True   \n",
       "29              w/ both  generic_1   parallel_3                True   \n",
       "\n",
       "    merge_isomorphic  truncate_common_chain  collect_garbage  \\\n",
       "0              False                   True             True   \n",
       "1              False                   True             True   \n",
       "2              False                   True             True   \n",
       "3              False                   True             True   \n",
       "4              False                   True             True   \n",
       "5              False                   True            False   \n",
       "6              False                   True            False   \n",
       "7              False                   True            False   \n",
       "8              False                   True            False   \n",
       "9              False                   True            False   \n",
       "10             False                  False             True   \n",
       "11             False                  False             True   \n",
       "12             False                  False             True   \n",
       "13             False                  False             True   \n",
       "14             False                  False             True   \n",
       "15             False                   True             True   \n",
       "16             False                   True             True   \n",
       "17             False                   True             True   \n",
       "18             False                   True             True   \n",
       "19             False                   True             True   \n",
       "20              True                   True             True   \n",
       "21              True                   True             True   \n",
       "22              True                   True             True   \n",
       "23              True                   True             True   \n",
       "24              True                   True             True   \n",
       "25              True                   True             True   \n",
       "26              True                   True             True   \n",
       "27              True                   True             True   \n",
       "28              True                   True             True   \n",
       "29              True                   True             True   \n",
       "\n",
       "    reward_common_chain  \n",
       "0                 False  \n",
       "1                 False  \n",
       "2                 False  \n",
       "3                 False  \n",
       "4                 False  \n",
       "5                 False  \n",
       "6                 False  \n",
       "7                 False  \n",
       "8                 False  \n",
       "9                 False  \n",
       "10                False  \n",
       "11                False  \n",
       "12                False  \n",
       "13                False  \n",
       "14                False  \n",
       "15                False  \n",
       "16                False  \n",
       "17                False  \n",
       "18                False  \n",
       "19                False  \n",
       "20                False  \n",
       "21                False  \n",
       "22                False  \n",
       "23                False  \n",
       "24                False  \n",
       "25                False  \n",
       "26                False  \n",
       "27                False  \n",
       "28                False  \n",
       "29                False  "
      ]
     },
     "execution_count": 2,
     "metadata": {},
     "output_type": "execute_result"
    }
   ],
   "source": [
    "network = mappable_params\n",
    "\n",
    "models = []\n",
    "implicit_mdps = []\n",
    "\n",
    "\n",
    "def add_model(*, implicit_mdp, **model):\n",
    "    models.append(model)\n",
    "    implicit_mdps.append(implicit_mdp)\n",
    "\n",
    "\n",
    "# related work baseline\n",
    "\n",
    "\n",
    "def _():\n",
    "    pass\n",
    "\n",
    "    add_model(\n",
    "        scenario=\"reference\",\n",
    "        model=\"fc16sapirshtein\",\n",
    "        force_consider_own=True,\n",
    "        merge_isomorphic=True,\n",
    "        truncate_common_chain=True,\n",
    "        collect_garbage=True,\n",
    "        reward_common_chain=True,\n",
    "        protocol=\"bitcoin\",\n",
    "        implicit_mdp=lambda c: FC16Sapirshtein(\n",
    "            **network, maximum_fork_length=c\n",
    "        ),  # TODO implement DAG size cutoff for this model\n",
    "    )\n",
    "\n",
    "    add_model(\n",
    "        scenario=\"reference-v0\",\n",
    "        model=\"generic_0\",\n",
    "        force_consider_own=True,\n",
    "        merge_isomorphic=True,\n",
    "        truncate_common_chain=True,\n",
    "        collect_garbage=True,\n",
    "        reward_common_chain=True,\n",
    "        protocol=\"bitcoin\",\n",
    "        implicit_mdp=lambda c: G0Model(\n",
    "            G0Bitcoin(),\n",
    "            **network,\n",
    "            maximum_size=c,\n",
    "            force_consider_own=True,\n",
    "            merge_isomorphic=True,\n",
    "        ),\n",
    "    )\n",
    "\n",
    "\n",
    "# our baseline: garbage collection + common chain truncation\n",
    "# we want to compare to:\n",
    "# - no common chain truncation (all infinite)\n",
    "# - no garbage collection (infinite for protocols that allow stale blocks)\n",
    "# - plus force-consider-own\n",
    "# - plus merge-isomorphic\n",
    "# - plus both\n",
    "\n",
    "\n",
    "def add_scenario(\n",
    "    scenario,\n",
    "    *,\n",
    "    collect_garbage=True,\n",
    "    truncate_common_chain=True,\n",
    "    force_consider_own=False,\n",
    "    merge_isomorphic=False,\n",
    "):\n",
    "    def f(protocol_s, protocol_C, **protocol_args):\n",
    "        model_args = dict(\n",
    "            force_consider_own=force_consider_own,\n",
    "            merge_isomorphic=merge_isomorphic,\n",
    "            truncate_common_chain=truncate_common_chain,\n",
    "            collect_garbage=collect_garbage,\n",
    "            reward_common_chain=False,\n",
    "        )\n",
    "        add_model(\n",
    "            scenario=scenario,\n",
    "            model=\"generic_1\",\n",
    "            protocol=protocol_s,\n",
    "            **model_args,\n",
    "            implicit_mdp=lambda c: G1Model(\n",
    "                protocol_C,\n",
    "                **protocol_args,\n",
    "                **network,\n",
    "                **model_args,\n",
    "                dag_size_cutoff=c,\n",
    "            ),\n",
    "        )\n",
    "\n",
    "    f(\"bitcoin\", g1.Bitcoin)\n",
    "    f(\"ethereum_3\", g1.Ethereum, h=3)\n",
    "    f(\"byzantium_3\", g1.Byzantium, h=3)\n",
    "    f(\"ghostdag_3\", g1.Ghostdag, k=3)\n",
    "    f(\"parallel_3\", g1.Parallel, k=3)\n",
    "\n",
    "\n",
    "add_scenario(\"baseline\")\n",
    "add_scenario(\"w/o collect garbage\", collect_garbage=False)\n",
    "add_scenario(\"w/o truncate\", truncate_common_chain=False)\n",
    "add_scenario(\"w/ force consider\", force_consider_own=True)\n",
    "add_scenario(\"w/ normalization\", merge_isomorphic=True)\n",
    "add_scenario(\"w/ both\", force_consider_own=True, merge_isomorphic=True)\n",
    "\n",
    "models = pandas.DataFrame(models)\n",
    "models"
   ]
  },
  {
   "cell_type": "code",
   "execution_count": 3,
   "id": "0eefcfab-91a2-4db9-b1fa-202fed55f287",
   "metadata": {
    "execution": {
     "iopub.execute_input": "2024-12-25T10:48:07.671941Z",
     "iopub.status.busy": "2024-12-25T10:48:07.671798Z",
     "iopub.status.idle": "2024-12-25T10:48:07.788856Z",
     "shell.execute_reply": "2024-12-25T10:48:07.787845Z"
    }
   },
   "outputs": [],
   "source": [
    "!mkdir -p 5-generated-mdps"
   ]
  },
  {
   "cell_type": "code",
   "execution_count": 4,
   "id": "2c8b9932-6092-40ef-9d78-9877e534aae6",
   "metadata": {
    "execution": {
     "iopub.execute_input": "2024-12-25T10:48:07.792876Z",
     "iopub.status.busy": "2024-12-25T10:48:07.792641Z",
     "iopub.status.idle": "2024-12-25T11:57:28.692197Z",
     "shell.execute_reply": "2024-12-25T11:57:28.691768Z"
    }
   },
   "outputs": [
    {
     "name": "stdout",
     "output_type": "stream",
     "text": [
      "\r",
      "scenario: baseline\tprotocol: bitcoin\tdag_size_limit: 2\tsize: 7\ttime_spent: 0.001939254999797413\trss: 0.17258834838867188\tabort: False                      "
     ]
    },
    {
     "name": "stdout",
     "output_type": "stream",
     "text": [
      "\r",
      "scenario: baseline\tprotocol: bitcoin\tdag_size_limit: 3\tsize: 65\ttime_spent: 0.013747831999808113\trss: 0.17307662963867188\tabort: False                      "
     ]
    },
    {
     "name": "stdout",
     "output_type": "stream",
     "text": [
      "\r",
      "scenario: baseline\tprotocol: bitcoin\tdag_size_limit: 4\tsize: 860\ttime_spent: 0.24189652299992304\trss: 0.17881393432617188\tabort: False                      "
     ]
    },
    {
     "name": "stdout",
     "output_type": "stream",
     "text": [
      "\r",
      "scenario: baseline\tprotocol: bitcoin\tdag_size_limit: 5\tsize: 10870\ttime_spent: 5.265134198999931\trss: 0.2516899108886719\tabort: False                      "
     ]
    },
    {
     "name": "stdout",
     "output_type": "stream",
     "text": [
      "\r",
      "scenario: baseline\tprotocol: bitcoin\tdag_size_limit: 6\tsize: 100433\ttime_spent: 56.03250101799995\trss: 0.9779930114746094\tabort: True                      "
     ]
    },
    {
     "name": "stdout",
     "output_type": "stream",
     "text": [
      "\r",
      "scenario: baseline\tprotocol: ethereum_3\tdag_size_limit: 2\tsize: 7\ttime_spent: 0.0013161780002519663\trss: 0.21978759765625\tabort: False                      \r",
      "scenario: baseline\tprotocol: ethereum_3\tdag_size_limit: 3\tsize: 65\ttime_spent: 0.015346468999723584\trss: 0.21448135375976562\tabort: False                      "
     ]
    },
    {
     "name": "stdout",
     "output_type": "stream",
     "text": [
      "\r",
      "scenario: baseline\tprotocol: ethereum_3\tdag_size_limit: 4\tsize: 872\ttime_spent: 0.2756571410000106\trss: 0.21399307250976562\tabort: False                      "
     ]
    },
    {
     "name": "stdout",
     "output_type": "stream",
     "text": [
      "\r",
      "scenario: baseline\tprotocol: ethereum_3\tdag_size_limit: 5\tsize: 11876\ttime_spent: 6.134110527999837\trss: 0.26496124267578125\tabort: False                      "
     ]
    },
    {
     "name": "stdout",
     "output_type": "stream",
     "text": [
      "\r",
      "scenario: baseline\tprotocol: ethereum_3\tdag_size_limit: 6\tsize: 100318\ttime_spent: 59.71341416300038\trss: 0.9622268676757812\tabort: True                      "
     ]
    },
    {
     "name": "stdout",
     "output_type": "stream",
     "text": [
      "\r",
      "scenario: baseline\tprotocol: byzantium_3\tdag_size_limit: 2\tsize: 7\ttime_spent: 0.0013360840002860641\trss: 0.22340011596679688\tabort: False                      \r",
      "scenario: baseline\tprotocol: byzantium_3\tdag_size_limit: 3\tsize: 65\ttime_spent: 0.016211460999784322\trss: 0.21387863159179688\tabort: False                      "
     ]
    },
    {
     "name": "stdout",
     "output_type": "stream",
     "text": [
      "\r",
      "scenario: baseline\tprotocol: byzantium_3\tdag_size_limit: 4\tsize: 872\ttime_spent: 0.28787336200002756\trss: 0.21363449096679688\tabort: False                      "
     ]
    },
    {
     "name": "stdout",
     "output_type": "stream",
     "text": [
      "\r",
      "scenario: baseline\tprotocol: byzantium_3\tdag_size_limit: 5\tsize: 11876\ttime_spent: 6.450768801999857\trss: 0.2597770690917969\tabort: False                      "
     ]
    },
    {
     "name": "stdout",
     "output_type": "stream",
     "text": [
      "\r",
      "scenario: baseline\tprotocol: byzantium_3\tdag_size_limit: 6\tsize: 100285\ttime_spent: 62.03004643500026\trss: 0.9621696472167969\tabort: True                      "
     ]
    },
    {
     "name": "stdout",
     "output_type": "stream",
     "text": [
      "\r",
      "scenario: baseline\tprotocol: ghostdag_3\tdag_size_limit: 2\tsize: 7\ttime_spent: 0.0012422890004017972\trss: 0.22419357299804688\tabort: False                      \r",
      "scenario: baseline\tprotocol: ghostdag_3\tdag_size_limit: 3\tsize: 55\ttime_spent: 0.014070446999994601\trss: 0.21619796752929688\tabort: False                      "
     ]
    },
    {
     "name": "stdout",
     "output_type": "stream",
     "text": [
      "\r",
      "scenario: baseline\tprotocol: ghostdag_3\tdag_size_limit: 4\tsize: 710\ttime_spent: 0.25220536699998775\trss: 0.21570968627929688\tabort: False                      "
     ]
    },
    {
     "name": "stdout",
     "output_type": "stream",
     "text": [
      "\r",
      "scenario: baseline\tprotocol: ghostdag_3\tdag_size_limit: 5\tsize: 10573\ttime_spent: 6.447067213000082\trss: 0.24618148803710938\tabort: False                      "
     ]
    },
    {
     "name": "stdout",
     "output_type": "stream",
     "text": [
      "\r",
      "scenario: baseline\tprotocol: ghostdag_3\tdag_size_limit: 6\tsize: 100575\ttime_spent: 70.31551363800008\trss: 0.9211082458496094\tabort: True                      "
     ]
    },
    {
     "name": "stdout",
     "output_type": "stream",
     "text": [
      "\r",
      "scenario: baseline\tprotocol: parallel_3\tdag_size_limit: 2\tsize: 7\ttime_spent: 0.001228995000019495\trss: 0.22719955444335938\tabort: False                      \r",
      "scenario: baseline\tprotocol: parallel_3\tdag_size_limit: 3\tsize: 55\ttime_spent: 0.01260937200004264\trss: 0.21718978881835938\tabort: False                      "
     ]
    },
    {
     "name": "stdout",
     "output_type": "stream",
     "text": [
      "\r",
      "scenario: baseline\tprotocol: parallel_3\tdag_size_limit: 4\tsize: 439\ttime_spent: 0.14506112500021118\trss: 0.21645736694335938\tabort: False                      "
     ]
    },
    {
     "name": "stdout",
     "output_type": "stream",
     "text": [
      "\r",
      "scenario: baseline\tprotocol: parallel_3\tdag_size_limit: 5\tsize: 3637\ttime_spent: 1.929492861000199\trss: 0.21621322631835938\tabort: False                      "
     ]
    },
    {
     "name": "stdout",
     "output_type": "stream",
     "text": [
      "\r",
      "scenario: baseline\tprotocol: parallel_3\tdag_size_limit: 6\tsize: 34664\ttime_spent: 22.241042648000075\trss: 0.4678001403808594\tabort: False                      "
     ]
    },
    {
     "name": "stdout",
     "output_type": "stream",
     "text": [
      "\r",
      "scenario: baseline\tprotocol: parallel_3\tdag_size_limit: 7\tsize: 100617\ttime_spent: 64.72100534699985\trss: 1.065643310546875\tabort: True                      "
     ]
    },
    {
     "name": "stdout",
     "output_type": "stream",
     "text": [
      "\r",
      "scenario: w/o collect garbage\tprotocol: bitcoin\tdag_size_limit: 2\tsize: 7\ttime_spent: 0.0008579190002819814\trss: 0.240325927734375\tabort: False                      \r",
      "scenario: w/o collect garbage\tprotocol: bitcoin\tdag_size_limit: 3\tsize: 65\ttime_spent: 0.009679926999979216\trss: 0.230804443359375\tabort: False                      "
     ]
    },
    {
     "name": "stdout",
     "output_type": "stream",
     "text": [
      "\r",
      "scenario: w/o collect garbage\tprotocol: bitcoin\tdag_size_limit: 4\tsize: 916\ttime_spent: 0.16799652500003504\trss: 0.230316162109375\tabort: False                      "
     ]
    },
    {
     "name": "stdout",
     "output_type": "stream",
     "text": [
      "\r",
      "scenario: w/o collect garbage\tprotocol: bitcoin\tdag_size_limit: 5\tsize: 13778\ttime_spent: 4.4772725400002855\trss: 0.283172607421875\tabort: False                      "
     ]
    },
    {
     "name": "stdout",
     "output_type": "stream",
     "text": [
      "\r",
      "scenario: w/o collect garbage\tprotocol: bitcoin\tdag_size_limit: 6\tsize: 100332\ttime_spent: 34.39224006299992\trss: 0.944793701171875\tabort: True                      "
     ]
    },
    {
     "name": "stdout",
     "output_type": "stream",
     "text": [
      "\r",
      "scenario: w/o collect garbage\tprotocol: ethereum_3\tdag_size_limit: 2\tsize: 7\ttime_spent: 0.0009047270000337448\trss: 0.24526596069335938\tabort: False                      \r",
      "scenario: w/o collect garbage\tprotocol: ethereum_3\tdag_size_limit: 3\tsize: 65\ttime_spent: 0.010115513999608083\trss: 0.23330307006835938\tabort: False                      "
     ]
    },
    {
     "name": "stdout",
     "output_type": "stream",
     "text": [
      "\r",
      "scenario: w/o collect garbage\tprotocol: ethereum_3\tdag_size_limit: 4\tsize: 916\ttime_spent: 0.17778601800000615\trss: 0.23305892944335938\tabort: False                      "
     ]
    },
    {
     "name": "stdout",
     "output_type": "stream",
     "text": [
      "\r",
      "scenario: w/o collect garbage\tprotocol: ethereum_3\tdag_size_limit: 5\tsize: 14060\ttime_spent: 4.636716842999704\trss: 0.2851829528808594\tabort: False                      "
     ]
    },
    {
     "name": "stdout",
     "output_type": "stream",
     "text": [
      "\r",
      "scenario: w/o collect garbage\tprotocol: ethereum_3\tdag_size_limit: 6\tsize: 101058\ttime_spent: 36.4894994780002\trss: 0.9475364685058594\tabort: True                      "
     ]
    },
    {
     "name": "stdout",
     "output_type": "stream",
     "text": [
      "\r",
      "scenario: w/o collect garbage\tprotocol: byzantium_3\tdag_size_limit: 2\tsize: 7\ttime_spent: 0.0009322079999947164\trss: 0.24349212646484375\tabort: False                      \r",
      "scenario: w/o collect garbage\tprotocol: byzantium_3\tdag_size_limit: 3\tsize: 65\ttime_spent: 0.010770215999855282\trss: 0.23543548583984375\tabort: False                      "
     ]
    },
    {
     "name": "stdout",
     "output_type": "stream",
     "text": [
      "\r",
      "scenario: w/o collect garbage\tprotocol: byzantium_3\tdag_size_limit: 4\tsize: 916\ttime_spent: 0.1931220060000669\trss: 0.23494720458984375\tabort: False                      "
     ]
    },
    {
     "name": "stdout",
     "output_type": "stream",
     "text": [
      "\r",
      "scenario: w/o collect garbage\tprotocol: byzantium_3\tdag_size_limit: 5\tsize: 14060\ttime_spent: 5.013089115000184\trss: 0.2852516174316406\tabort: False                      "
     ]
    },
    {
     "name": "stdout",
     "output_type": "stream",
     "text": [
      "\r",
      "scenario: w/o collect garbage\tprotocol: byzantium_3\tdag_size_limit: 6\tsize: 101034\ttime_spent: 39.4614480780001\trss: 0.9469947814941406\tabort: True                      "
     ]
    },
    {
     "name": "stdout",
     "output_type": "stream",
     "text": [
      "\r",
      "scenario: w/o collect garbage\tprotocol: ghostdag_3\tdag_size_limit: 2\tsize: 7\ttime_spent: 0.0008980870002233132\trss: 0.24327468872070312\tabort: False                      \r",
      "scenario: w/o collect garbage\tprotocol: ghostdag_3\tdag_size_limit: 3\tsize: 55\ttime_spent: 0.010248565999972925\trss: 0.2328338623046875\tabort: False                      "
     ]
    },
    {
     "name": "stdout",
     "output_type": "stream",
     "text": [
      "\r",
      "scenario: w/o collect garbage\tprotocol: ghostdag_3\tdag_size_limit: 4\tsize: 710\ttime_spent: 0.19272825699999885\trss: 0.2327117919921875\tabort: False                      "
     ]
    },
    {
     "name": "stdout",
     "output_type": "stream",
     "text": [
      "\r",
      "scenario: w/o collect garbage\tprotocol: ghostdag_3\tdag_size_limit: 5\tsize: 11260\ttime_spent: 5.389015581999956\trss: 0.26153564453125\tabort: False                      "
     ]
    },
    {
     "name": "stdout",
     "output_type": "stream",
     "text": [
      "\r",
      "scenario: w/o collect garbage\tprotocol: ghostdag_3\tdag_size_limit: 6\tsize: 100135\ttime_spent: 54.22666875699997\trss: 0.90142822265625\tabort: True                      "
     ]
    },
    {
     "name": "stdout",
     "output_type": "stream",
     "text": [
      "\r",
      "scenario: w/o collect garbage\tprotocol: parallel_3\tdag_size_limit: 2\tsize: 7\ttime_spent: 0.0008829089997561823\trss: 0.24526214599609375\tabort: False                      \r",
      "scenario: w/o collect garbage\tprotocol: parallel_3\tdag_size_limit: 3\tsize: 55\ttime_spent: 0.008531128999948123\trss: 0.23769378662109375\tabort: False                      "
     ]
    },
    {
     "name": "stdout",
     "output_type": "stream",
     "text": [
      "\r",
      "scenario: w/o collect garbage\tprotocol: parallel_3\tdag_size_limit: 4\tsize: 439\ttime_spent: 0.09232829499978834\trss: 0.23679351806640625\tabort: False                      "
     ]
    },
    {
     "name": "stdout",
     "output_type": "stream",
     "text": [
      "\r",
      "scenario: w/o collect garbage\tprotocol: parallel_3\tdag_size_limit: 5\tsize: 3637\ttime_spent: 1.2011921680000341\trss: 0.23614501953125\tabort: False                      "
     ]
    },
    {
     "name": "stdout",
     "output_type": "stream",
     "text": [
      "\r",
      "scenario: w/o collect garbage\tprotocol: parallel_3\tdag_size_limit: 6\tsize: 34664\ttime_spent: 15.204678264999984\trss: 0.47113037109375\tabort: False                      "
     ]
    },
    {
     "name": "stdout",
     "output_type": "stream",
     "text": [
      "\r",
      "scenario: w/o collect garbage\tprotocol: parallel_3\tdag_size_limit: 7\tsize: 101113\ttime_spent: 45.67323949299998\trss: 1.0617218017578125\tabort: True                      "
     ]
    },
    {
     "name": "stdout",
     "output_type": "stream",
     "text": [
      "\r",
      "scenario: w/o truncate\tprotocol: bitcoin\tdag_size_limit: 2\tsize: 7\ttime_spent: 0.0011541379999471246\trss: 0.24938583374023438\tabort: False                      \r",
      "scenario: w/o truncate\tprotocol: bitcoin\tdag_size_limit: 3\tsize: 77\ttime_spent: 0.014306771000065055\trss: 0.24279403686523438\tabort: False                      "
     ]
    },
    {
     "name": "stdout",
     "output_type": "stream",
     "text": [
      "\r",
      "scenario: w/o truncate\tprotocol: bitcoin\tdag_size_limit: 4\tsize: 1012\ttime_spent: 0.3252029640002547\trss: 0.2416229248046875\tabort: False                      "
     ]
    },
    {
     "name": "stdout",
     "output_type": "stream",
     "text": [
      "\r",
      "scenario: w/o truncate\tprotocol: bitcoin\tdag_size_limit: 5\tsize: 12892\ttime_spent: 5.592141907000041\trss: 0.2783660888671875\tabort: False                      "
     ]
    },
    {
     "name": "stdout",
     "output_type": "stream",
     "text": [
      "\r",
      "scenario: w/o truncate\tprotocol: bitcoin\tdag_size_limit: 6\tsize: 100016\ttime_spent: 51.87938928799986\trss: 0.9582977294921875\tabort: True                      "
     ]
    },
    {
     "name": "stdout",
     "output_type": "stream",
     "text": [
      "\r",
      "scenario: w/o truncate\tprotocol: ethereum_3\tdag_size_limit: 2\tsize: 7\ttime_spent: 0.0012704669998129248\trss: 0.25547027587890625\tabort: False                      \r",
      "scenario: w/o truncate\tprotocol: ethereum_3\tdag_size_limit: 3\tsize: 77\ttime_spent: 0.016869727000084822\trss: 0.24472808837890625\tabort: False                      "
     ]
    },
    {
     "name": "stdout",
     "output_type": "stream",
     "text": [
      "\r",
      "scenario: w/o truncate\tprotocol: ethereum_3\tdag_size_limit: 4\tsize: 1024\ttime_spent: 0.295501306999995\trss: 0.24408340454101562\tabort: False                      "
     ]
    },
    {
     "name": "stdout",
     "output_type": "stream",
     "text": [
      "\r",
      "scenario: w/o truncate\tprotocol: ethereum_3\tdag_size_limit: 5\tsize: 13922\ttime_spent: 6.631892624000102\trss: 0.2854652404785156\tabort: False                      "
     ]
    },
    {
     "name": "stdout",
     "output_type": "stream",
     "text": [
      "\r",
      "scenario: w/o truncate\tprotocol: ethereum_3\tdag_size_limit: 6\tsize: 101411\ttime_spent: 55.27416984799993\trss: 0.9579505920410156\tabort: True                      "
     ]
    },
    {
     "name": "stdout",
     "output_type": "stream",
     "text": [
      "\r",
      "scenario: w/o truncate\tprotocol: byzantium_3\tdag_size_limit: 2\tsize: 7\ttime_spent: 0.0012929780000376923\trss: 0.2516212463378906\tabort: False                      \r",
      "scenario: w/o truncate\tprotocol: byzantium_3\tdag_size_limit: 3\tsize: 77\ttime_spent: 0.01738199600004009\trss: 0.24557876586914062\tabort: False                      "
     ]
    },
    {
     "name": "stdout",
     "output_type": "stream",
     "text": [
      "\r",
      "scenario: w/o truncate\tprotocol: byzantium_3\tdag_size_limit: 4\tsize: 1024\ttime_spent: 0.4110165170000073\trss: 0.24484634399414062\tabort: False                      "
     ]
    },
    {
     "name": "stdout",
     "output_type": "stream",
     "text": [
      "\r",
      "scenario: w/o truncate\tprotocol: byzantium_3\tdag_size_limit: 5\tsize: 13922\ttime_spent: 7.077445420000004\trss: 0.2856178283691406\tabort: False                      "
     ]
    },
    {
     "name": "stdout",
     "output_type": "stream",
     "text": [
      "\r",
      "scenario: w/o truncate\tprotocol: byzantium_3\tdag_size_limit: 6\tsize: 101384\ttime_spent: 58.61860233900006\trss: 0.9579811096191406\tabort: True                      "
     ]
    },
    {
     "name": "stdout",
     "output_type": "stream",
     "text": [
      "\r",
      "scenario: w/o truncate\tprotocol: ghostdag_3\tdag_size_limit: 2\tsize: 7\ttime_spent: 0.001110684999730438\trss: 0.2545051574707031\tabort: False                      \r",
      "scenario: w/o truncate\tprotocol: ghostdag_3\tdag_size_limit: 3\tsize: 67\ttime_spent: 0.013795584000035888\trss: 0.24473953247070312\tabort: False                      "
     ]
    },
    {
     "name": "stdout",
     "output_type": "stream",
     "text": [
      "\r",
      "scenario: w/o truncate\tprotocol: ghostdag_3\tdag_size_limit: 4\tsize: 842\ttime_spent: 0.24990693899962935\trss: 0.24473953247070312\tabort: False                      "
     ]
    },
    {
     "name": "stdout",
     "output_type": "stream",
     "text": [
      "\r",
      "scenario: w/o truncate\tprotocol: ghostdag_3\tdag_size_limit: 5\tsize: 12291\ttime_spent: 5.958618254000157\trss: 0.2689094543457031\tabort: False                      "
     ]
    },
    {
     "name": "stdout",
     "output_type": "stream",
     "text": [
      "\r",
      "scenario: w/o truncate\tprotocol: ghostdag_3\tdag_size_limit: 6\tsize: 100134\ttime_spent: 54.118754206000176\trss: 0.9080696105957031\tabort: True                      "
     ]
    },
    {
     "name": "stdout",
     "output_type": "stream",
     "text": [
      "\r",
      "scenario: w/o truncate\tprotocol: parallel_3\tdag_size_limit: 2\tsize: 7\ttime_spent: 0.0011968679996243736\trss: 0.2570648193359375\tabort: False                      \r",
      "scenario: w/o truncate\tprotocol: parallel_3\tdag_size_limit: 3\tsize: 55\ttime_spent: 0.012411905999670125\trss: 0.24960708618164062\tabort: False                      "
     ]
    },
    {
     "name": "stdout",
     "output_type": "stream",
     "text": [
      "\r",
      "scenario: w/o truncate\tprotocol: parallel_3\tdag_size_limit: 4\tsize: 439\ttime_spent: 0.13973989199985226\trss: 0.24863052368164062\tabort: False                      "
     ]
    },
    {
     "name": "stdout",
     "output_type": "stream",
     "text": [
      "\r",
      "scenario: w/o truncate\tprotocol: parallel_3\tdag_size_limit: 5\tsize: 3637\ttime_spent: 1.8379634479997549\trss: 0.24863052368164062\tabort: False                      "
     ]
    },
    {
     "name": "stdout",
     "output_type": "stream",
     "text": [
      "\r",
      "scenario: w/o truncate\tprotocol: parallel_3\tdag_size_limit: 6\tsize: 34760\ttime_spent: 21.927686410000206\trss: 0.4755706787109375\tabort: False                      "
     ]
    },
    {
     "name": "stdout",
     "output_type": "stream",
     "text": [
      "\r",
      "scenario: w/o truncate\tprotocol: parallel_3\tdag_size_limit: 7\tsize: 100645\ttime_spent: 66.5418717309999\trss: 1.0657005310058594\tabort: True                      "
     ]
    },
    {
     "name": "stdout",
     "output_type": "stream",
     "text": [
      "\r",
      "scenario: w/ force consider\tprotocol: bitcoin\tdag_size_limit: 2\tsize: 5\ttime_spent: 0.000926291000268975\trss: 0.25922393798828125\tabort: False                      \r",
      "scenario: w/ force consider\tprotocol: bitcoin\tdag_size_limit: 3\tsize: 17\ttime_spent: 0.004221657999551098\trss: 0.24530792236328125\tabort: False                      \r",
      "scenario: w/ force consider\tprotocol: bitcoin\tdag_size_limit: 4\tsize: 74\ttime_spent: 0.018938920999971742\trss: 0.24384307861328125\tabort: False                      "
     ]
    },
    {
     "name": "stdout",
     "output_type": "stream",
     "text": [
      "\r",
      "scenario: w/ force consider\tprotocol: bitcoin\tdag_size_limit: 5\tsize: 236\ttime_spent: 0.08013258499977383\trss: 0.24335479736328125\tabort: False                      "
     ]
    },
    {
     "name": "stdout",
     "output_type": "stream",
     "text": [
      "\r",
      "scenario: w/ force consider\tprotocol: bitcoin\tdag_size_limit: 6\tsize: 806\ttime_spent: 0.31966379000004963\trss: 0.24311065673828125\tabort: False                      "
     ]
    },
    {
     "name": "stdout",
     "output_type": "stream",
     "text": [
      "\r",
      "scenario: w/ force consider\tprotocol: bitcoin\tdag_size_limit: 7\tsize: 2519\ttime_spent: 1.3837215579997064\trss: 0.24311065673828125\tabort: False                      "
     ]
    },
    {
     "name": "stdout",
     "output_type": "stream",
     "text": [
      "\r",
      "scenario: w/ force consider\tprotocol: bitcoin\tdag_size_limit: 8\tsize: 8188\ttime_spent: 5.134968019000098\trss: 0.2597236633300781\tabort: False                      "
     ]
    },
    {
     "name": "stdout",
     "output_type": "stream",
     "text": [
      "\r",
      "scenario: w/ force consider\tprotocol: bitcoin\tdag_size_limit: 9\tsize: 26225\ttime_spent: 18.779652523000095\trss: 0.4449043273925781\tabort: False                      "
     ]
    },
    {
     "name": "stdout",
     "output_type": "stream",
     "text": [
      "\r",
      "scenario: w/ force consider\tprotocol: bitcoin\tdag_size_limit: 10\tsize: 85078\ttime_spent: 69.16256851399976\trss: 1.0823554992675781\tabort: False                      "
     ]
    },
    {
     "name": "stdout",
     "output_type": "stream",
     "text": [
      "\r",
      "scenario: w/ force consider\tprotocol: bitcoin\tdag_size_limit: 11\tsize: 100626\ttime_spent: 85.90294473499944\trss: 1.2602272033691406\tabort: True                      "
     ]
    },
    {
     "name": "stdout",
     "output_type": "stream",
     "text": [
      "\r",
      "scenario: w/ force consider\tprotocol: ethereum_3\tdag_size_limit: 2\tsize: 5\ttime_spent: 0.0013841830004821531\trss: 0.26561737060546875\tabort: False                      \r",
      "scenario: w/ force consider\tprotocol: ethereum_3\tdag_size_limit: 3\tsize: 17\ttime_spent: 0.004739321000670316\trss: 0.24934768676757812\tabort: False                      \r",
      "scenario: w/ force consider\tprotocol: ethereum_3\tdag_size_limit: 4\tsize: 79\ttime_spent: 0.021768110999801138\trss: 0.24739456176757812\tabort: False                      "
     ]
    },
    {
     "name": "stdout",
     "output_type": "stream",
     "text": [
      "\r",
      "scenario: w/ force consider\tprotocol: ethereum_3\tdag_size_limit: 5\tsize: 291\ttime_spent: 0.10441992200048844\trss: 0.24690628051757812\tabort: False                      "
     ]
    },
    {
     "name": "stdout",
     "output_type": "stream",
     "text": [
      "\r",
      "scenario: w/ force consider\tprotocol: ethereum_3\tdag_size_limit: 6\tsize: 1193\ttime_spent: 0.5607385869998325\trss: 0.24666213989257812\tabort: False                      "
     ]
    },
    {
     "name": "stdout",
     "output_type": "stream",
     "text": [
      "\r",
      "scenario: w/ force consider\tprotocol: ethereum_3\tdag_size_limit: 7\tsize: 4715\ttime_spent: 2.5322920979997434\trss: 0.24641799926757812\tabort: False                      "
     ]
    },
    {
     "name": "stdout",
     "output_type": "stream",
     "text": [
      "\r",
      "scenario: w/ force consider\tprotocol: ethereum_3\tdag_size_limit: 8\tsize: 19462\ttime_spent: 12.061309319999964\trss: 0.3610420227050781\tabort: False                      "
     ]
    },
    {
     "name": "stdout",
     "output_type": "stream",
     "text": [
      "\r",
      "scenario: w/ force consider\tprotocol: ethereum_3\tdag_size_limit: 9\tsize: 74090\ttime_spent: 53.99122213800001\trss: 0.9049873352050781\tabort: False                      "
     ]
    },
    {
     "name": "stdout",
     "output_type": "stream",
     "text": [
      "\r",
      "scenario: w/ force consider\tprotocol: ethereum_3\tdag_size_limit: 10\tsize: 100202\ttime_spent: 81.42071472299995\trss: 1.1954269409179688\tabort: True                      "
     ]
    },
    {
     "name": "stdout",
     "output_type": "stream",
     "text": [
      "\r",
      "scenario: w/ force consider\tprotocol: byzantium_3\tdag_size_limit: 2\tsize: 5\ttime_spent: 0.0009972450006898725\trss: 0.2623481750488281\tabort: False                      \r",
      "scenario: w/ force consider\tprotocol: byzantium_3\tdag_size_limit: 3\tsize: 17\ttime_spent: 0.005190748000131862\trss: 0.2511177062988281\tabort: False                      \r",
      "scenario: w/ force consider\tprotocol: byzantium_3\tdag_size_limit: 4\tsize: 79\ttime_spent: 0.02398490900031902\trss: 0.24989700317382812\tabort: False                      "
     ]
    },
    {
     "name": "stdout",
     "output_type": "stream",
     "text": [
      "\r",
      "scenario: w/ force consider\tprotocol: byzantium_3\tdag_size_limit: 5\tsize: 291\ttime_spent: 0.11278273700008867\trss: 0.24989700317382812\tabort: False                      "
     ]
    },
    {
     "name": "stdout",
     "output_type": "stream",
     "text": [
      "\r",
      "scenario: w/ force consider\tprotocol: byzantium_3\tdag_size_limit: 6\tsize: 1193\ttime_spent: 0.597684518999813\trss: 0.24989700317382812\tabort: False                      "
     ]
    },
    {
     "name": "stdout",
     "output_type": "stream",
     "text": [
      "\r",
      "scenario: w/ force consider\tprotocol: byzantium_3\tdag_size_limit: 7\tsize: 4666\ttime_spent: 2.7645698140004242\trss: 0.24965286254882812\tabort: False                      "
     ]
    },
    {
     "name": "stdout",
     "output_type": "stream",
     "text": [
      "\r",
      "scenario: w/ force consider\tprotocol: byzantium_3\tdag_size_limit: 8\tsize: 19215\ttime_spent: 13.131360933999531\trss: 0.3587837219238281\tabort: False                      "
     ]
    },
    {
     "name": "stdout",
     "output_type": "stream",
     "text": [
      "\r",
      "scenario: w/ force consider\tprotocol: byzantium_3\tdag_size_limit: 9\tsize: 74359\ttime_spent: 59.67068346199994\trss: 0.9082221984863281\tabort: False                      "
     ]
    },
    {
     "name": "stdout",
     "output_type": "stream",
     "text": [
      "\r",
      "scenario: w/ force consider\tprotocol: byzantium_3\tdag_size_limit: 10\tsize: 100048\ttime_spent: 89.50013812299949\trss: 1.1927566528320312\tabort: True                      "
     ]
    },
    {
     "name": "stdout",
     "output_type": "stream",
     "text": [
      "\r",
      "scenario: w/ force consider\tprotocol: ghostdag_3\tdag_size_limit: 2\tsize: 5\ttime_spent: 0.0008996509995995439\trss: 0.2685661315917969\tabort: False                      \r",
      "scenario: w/ force consider\tprotocol: ghostdag_3\tdag_size_limit: 3\tsize: 17\ttime_spent: 0.0047678439996161615\trss: 0.2553825378417969\tabort: False                      \r",
      "scenario: w/ force consider\tprotocol: ghostdag_3\tdag_size_limit: 4\tsize: 82\ttime_spent: 0.02403291500013438\trss: 0.2539176940917969\tabort: False                      "
     ]
    },
    {
     "name": "stdout",
     "output_type": "stream",
     "text": [
      "\r",
      "scenario: w/ force consider\tprotocol: ghostdag_3\tdag_size_limit: 5\tsize: 336\ttime_spent: 0.14149713299957511\trss: 0.2536735534667969\tabort: False                      "
     ]
    },
    {
     "name": "stdout",
     "output_type": "stream",
     "text": [
      "\r",
      "scenario: w/ force consider\tprotocol: ghostdag_3\tdag_size_limit: 6\tsize: 1631\ttime_spent: 0.9367122920002657\trss: 0.2534294128417969\tabort: False                      "
     ]
    },
    {
     "name": "stdout",
     "output_type": "stream",
     "text": [
      "\r",
      "scenario: w/ force consider\tprotocol: ghostdag_3\tdag_size_limit: 7\tsize: 7153\ttime_spent: 5.6197952769998665\trss: 0.2513465881347656\tabort: False                      "
     ]
    },
    {
     "name": "stdout",
     "output_type": "stream",
     "text": [
      "\r",
      "scenario: w/ force consider\tprotocol: ghostdag_3\tdag_size_limit: 8\tsize: 35292\ttime_spent: 35.44895971099959\trss: 0.4891395568847656\tabort: False                      "
     ]
    },
    {
     "name": "stdout",
     "output_type": "stream",
     "text": [
      "\r",
      "scenario: w/ force consider\tprotocol: ghostdag_3\tdag_size_limit: 9\tsize: 100019\ttime_spent: 125.70906955100054\trss: 1.1126747131347656\tabort: True                      "
     ]
    },
    {
     "name": "stdout",
     "output_type": "stream",
     "text": [
      "\r",
      "scenario: w/ force consider\tprotocol: parallel_3\tdag_size_limit: 2\tsize: 5\ttime_spent: 0.0009196689998134389\trss: 0.2751121520996094\tabort: False                      \r",
      "scenario: w/ force consider\tprotocol: parallel_3\tdag_size_limit: 3\tsize: 25\ttime_spent: 0.0047398920005434775\trss: 0.2653465270996094\tabort: False                      \r",
      "scenario: w/ force consider\tprotocol: parallel_3\tdag_size_limit: 4\tsize: 125\ttime_spent: 0.03046574900054111\trss: 0.2638816833496094\tabort: False                      "
     ]
    },
    {
     "name": "stdout",
     "output_type": "stream",
     "text": [
      "\r",
      "scenario: w/ force consider\tprotocol: parallel_3\tdag_size_limit: 5\tsize: 643\ttime_spent: 0.19134595600007742\trss: 0.2631492614746094\tabort: False                      "
     ]
    },
    {
     "name": "stdout",
     "output_type": "stream",
     "text": [
      "\r",
      "scenario: w/ force consider\tprotocol: parallel_3\tdag_size_limit: 6\tsize: 3433\ttime_spent: 1.3732895829998597\trss: 0.2630271911621094\tabort: False                      "
     ]
    },
    {
     "name": "stdout",
     "output_type": "stream",
     "text": [
      "\r",
      "scenario: w/ force consider\tprotocol: parallel_3\tdag_size_limit: 7\tsize: 18038\ttime_spent: 9.298027750000074\trss: 0.3509178161621094\tabort: False                      "
     ]
    },
    {
     "name": "stdout",
     "output_type": "stream",
     "text": [
      "\r",
      "scenario: w/ force consider\tprotocol: parallel_3\tdag_size_limit: 8\tsize: 81832\ttime_spent: 49.54119797899966\trss: 0.9733543395996094\tabort: False                      "
     ]
    },
    {
     "name": "stdout",
     "output_type": "stream",
     "text": [
      "\r",
      "scenario: w/ force consider\tprotocol: parallel_3\tdag_size_limit: 9\tsize: 101077\ttime_spent: 70.28415840200068\trss: 1.1908836364746094\tabort: True                      "
     ]
    },
    {
     "name": "stdout",
     "output_type": "stream",
     "text": [
      "\r",
      "scenario: w/ normalization\tprotocol: bitcoin\tdag_size_limit: 2\tsize: 7\ttime_spent: 0.00180557499970746\trss: 0.2783660888671875\tabort: False                      \r",
      "scenario: w/ normalization\tprotocol: bitcoin\tdag_size_limit: 3\tsize: 56\ttime_spent: 0.017584903000170016\trss: 0.2693901062011719\tabort: False                      "
     ]
    },
    {
     "name": "stdout",
     "output_type": "stream",
     "text": [
      "\r",
      "scenario: w/ normalization\tprotocol: bitcoin\tdag_size_limit: 4\tsize: 444\ttime_spent: 0.19231325199962157\trss: 0.2691459655761719\tabort: False                      "
     ]
    },
    {
     "name": "stdout",
     "output_type": "stream",
     "text": [
      "\r",
      "scenario: w/ normalization\tprotocol: bitcoin\tdag_size_limit: 5\tsize: 3006\ttime_spent: 1.9465343770007166\trss: 0.2687416076660156\tabort: False                      "
     ]
    },
    {
     "name": "stdout",
     "output_type": "stream",
     "text": [
      "\r",
      "scenario: w/ normalization\tprotocol: bitcoin\tdag_size_limit: 6\tsize: 19474\ttime_spent: 17.520435784000256\trss: 0.3414955139160156\tabort: False                      "
     ]
    },
    {
     "name": "stdout",
     "output_type": "stream",
     "text": [
      "\r",
      "scenario: w/ normalization\tprotocol: bitcoin\tdag_size_limit: 7\tsize: 100475\ttime_spent: 101.05946067900004\trss: 1.0625648498535156\tabort: True                      "
     ]
    },
    {
     "name": "stdout",
     "output_type": "stream",
     "text": [
      "\r",
      "scenario: w/ normalization\tprotocol: ethereum_3\tdag_size_limit: 2\tsize: 7\ttime_spent: 0.0019232759996157256\trss: 0.2862510681152344\tabort: False                      \r",
      "scenario: w/ normalization\tprotocol: ethereum_3\tdag_size_limit: 3\tsize: 56\ttime_spent: 0.019336698000188335\trss: 0.2781944274902344\tabort: False                      "
     ]
    },
    {
     "name": "stdout",
     "output_type": "stream",
     "text": [
      "\r",
      "scenario: w/ normalization\tprotocol: ethereum_3\tdag_size_limit: 4\tsize: 453\ttime_spent: 0.21221161800076516\trss: 0.2772178649902344\tabort: False                      "
     ]
    },
    {
     "name": "stdout",
     "output_type": "stream",
     "text": [
      "\r",
      "scenario: w/ normalization\tprotocol: ethereum_3\tdag_size_limit: 5\tsize: 3438\ttime_spent: 2.2925160389995654\trss: 0.2769737243652344\tabort: False                      "
     ]
    },
    {
     "name": "stdout",
     "output_type": "stream",
     "text": [
      "\r",
      "scenario: w/ normalization\tprotocol: ethereum_3\tdag_size_limit: 6\tsize: 28298\ttime_spent: 23.78885792300025\trss: 0.4143028259277344\tabort: False                      "
     ]
    },
    {
     "name": "stdout",
     "output_type": "stream",
     "text": [
      "\r",
      "scenario: w/ normalization\tprotocol: ethereum_3\tdag_size_limit: 7\tsize: 101617\ttime_spent: 94.51607794300071\trss: 1.0394248962402344\tabort: True                      "
     ]
    },
    {
     "name": "stdout",
     "output_type": "stream",
     "text": [
      "\r",
      "scenario: w/ normalization\tprotocol: byzantium_3\tdag_size_limit: 2\tsize: 7\ttime_spent: 0.0019271329992989195\trss: 0.28777313232421875\tabort: False                      \r",
      "scenario: w/ normalization\tprotocol: byzantium_3\tdag_size_limit: 3\tsize: 56\ttime_spent: 0.019686175999595434\trss: 0.28020477294921875\tabort: False                      "
     ]
    },
    {
     "name": "stdout",
     "output_type": "stream",
     "text": [
      "\r",
      "scenario: w/ normalization\tprotocol: byzantium_3\tdag_size_limit: 4\tsize: 453\ttime_spent: 0.21672782999939955\trss: 0.2798118591308594\tabort: False                      "
     ]
    },
    {
     "name": "stdout",
     "output_type": "stream",
     "text": [
      "\r",
      "scenario: w/ normalization\tprotocol: byzantium_3\tdag_size_limit: 5\tsize: 3438\ttime_spent: 2.3768074900008287\trss: 0.2798118591308594\tabort: False                      "
     ]
    },
    {
     "name": "stdout",
     "output_type": "stream",
     "text": [
      "\r",
      "scenario: w/ normalization\tprotocol: byzantium_3\tdag_size_limit: 6\tsize: 28102\ttime_spent: 24.634366567999677\trss: 0.4159202575683594\tabort: False                      "
     ]
    },
    {
     "name": "stdout",
     "output_type": "stream",
     "text": [
      "\r",
      "scenario: w/ normalization\tprotocol: byzantium_3\tdag_size_limit: 7\tsize: 101157\ttime_spent: 98.05435242300064\trss: 1.0360374450683594\tabort: True                      "
     ]
    },
    {
     "name": "stdout",
     "output_type": "stream",
     "text": [
      "\r",
      "scenario: w/ normalization\tprotocol: ghostdag_3\tdag_size_limit: 2\tsize: 7\ttime_spent: 0.0017549089998283307\trss: 0.28855133056640625\tabort: False                      \r",
      "scenario: w/ normalization\tprotocol: ghostdag_3\tdag_size_limit: 3\tsize: 49\ttime_spent: 0.017635858000176086\trss: 0.28122711181640625\tabort: False                      "
     ]
    },
    {
     "name": "stdout",
     "output_type": "stream",
     "text": [
      "\r",
      "scenario: w/ normalization\tprotocol: ghostdag_3\tdag_size_limit: 4\tsize: 381\ttime_spent: 0.18901308699969377\trss: 0.28049468994140625\tabort: False                      "
     ]
    },
    {
     "name": "stdout",
     "output_type": "stream",
     "text": [
      "\r",
      "scenario: w/ normalization\tprotocol: ghostdag_3\tdag_size_limit: 5\tsize: 3360\ttime_spent: 2.4297537049997118\trss: 0.28061676025390625\tabort: False                      "
     ]
    },
    {
     "name": "stdout",
     "output_type": "stream",
     "text": [
      "\r",
      "scenario: w/ normalization\tprotocol: ghostdag_3\tdag_size_limit: 6\tsize: 33624\ttime_spent: 33.815488021999954\trss: 0.445953369140625\tabort: False                      "
     ]
    },
    {
     "name": "stdout",
     "output_type": "stream",
     "text": [
      "\r",
      "scenario: w/ normalization\tprotocol: ghostdag_3\tdag_size_limit: 7\tsize: 101478\ttime_spent: 106.57786386000043\trss: 0.997344970703125\tabort: True                      "
     ]
    },
    {
     "name": "stdout",
     "output_type": "stream",
     "text": [
      "\r",
      "scenario: w/ normalization\tprotocol: parallel_3\tdag_size_limit: 2\tsize: 7\ttime_spent: 0.00183846599975368\trss: 0.29735565185546875\tabort: False                      \r",
      "scenario: w/ normalization\tprotocol: parallel_3\tdag_size_limit: 3\tsize: 49\ttime_spent: 0.01676684500034753\trss: 0.28588104248046875\tabort: False                      "
     ]
    },
    {
     "name": "stdout",
     "output_type": "stream",
     "text": [
      "\r",
      "scenario: w/ normalization\tprotocol: parallel_3\tdag_size_limit: 4\tsize: 221\ttime_spent: 0.11390413899971463\trss: 0.28490447998046875\tabort: False                      "
     ]
    },
    {
     "name": "stdout",
     "output_type": "stream",
     "text": [
      "\r",
      "scenario: w/ normalization\tprotocol: parallel_3\tdag_size_limit: 5\tsize: 800\ttime_spent: 0.5591322130003391\trss: 0.28466033935546875\tabort: False                      "
     ]
    },
    {
     "name": "stdout",
     "output_type": "stream",
     "text": [
      "\r",
      "scenario: w/ normalization\tprotocol: parallel_3\tdag_size_limit: 6\tsize: 3138\ttime_spent: 2.8096520689996396\trss: 0.28368377685546875\tabort: False                      "
     ]
    },
    {
     "name": "stdout",
     "output_type": "stream",
     "text": [
      "\r",
      "scenario: w/ normalization\tprotocol: parallel_3\tdag_size_limit: 7\tsize: 15800\ttime_spent: 14.867851269999846\trss: 0.33458709716796875\tabort: False                      "
     ]
    },
    {
     "name": "stdout",
     "output_type": "stream",
     "text": [
      "\r",
      "scenario: w/ normalization\tprotocol: parallel_3\tdag_size_limit: 8\tsize: 98049\ttime_spent: 105.20649444799983\trss: 1.1374435424804688\tabort: False                      "
     ]
    },
    {
     "name": "stdout",
     "output_type": "stream",
     "text": [
      "\r",
      "scenario: w/ normalization\tprotocol: parallel_3\tdag_size_limit: 9\tsize: 101181\ttime_spent: 119.98422585300068\trss: 1.2211112976074219\tabort: True                      "
     ]
    },
    {
     "name": "stdout",
     "output_type": "stream",
     "text": [
      "\r",
      "scenario: w/ both\tprotocol: bitcoin\tdag_size_limit: 2\tsize: 5\ttime_spent: 0.0012461330006772187\trss: 0.2865333557128906\tabort: False                      \r",
      "scenario: w/ both\tprotocol: bitcoin\tdag_size_limit: 3\tsize: 17\ttime_spent: 0.005828838999150321\trss: 0.2760353088378906\tabort: False                      \r",
      "scenario: w/ both\tprotocol: bitcoin\tdag_size_limit: 4\tsize: 56\ttime_spent: 0.02297589599947969\trss: 0.2755470275878906\tabort: False                      "
     ]
    },
    {
     "name": "stdout",
     "output_type": "stream",
     "text": [
      "\r",
      "scenario: w/ both\tprotocol: bitcoin\tdag_size_limit: 5\tsize: 156\ttime_spent: 0.08053028499944048\trss: 0.2740821838378906\tabort: False                      "
     ]
    },
    {
     "name": "stdout",
     "output_type": "stream",
     "text": [
      "\r",
      "scenario: w/ both\tprotocol: bitcoin\tdag_size_limit: 6\tsize: 425\ttime_spent: 0.2542547310004011\trss: 0.2740821838378906\tabort: False                      "
     ]
    },
    {
     "name": "stdout",
     "output_type": "stream",
     "text": [
      "\r",
      "scenario: w/ both\tprotocol: bitcoin\tdag_size_limit: 7\tsize: 1139\ttime_spent: 0.8725145140006134\trss: 0.2738380432128906\tabort: False                      "
     ]
    },
    {
     "name": "stdout",
     "output_type": "stream",
     "text": [
      "\r",
      "scenario: w/ both\tprotocol: bitcoin\tdag_size_limit: 8\tsize: 3103\ttime_spent: 2.7856369139999515\trss: 0.2738380432128906\tabort: False                      "
     ]
    },
    {
     "name": "stdout",
     "output_type": "stream",
     "text": [
      "\r",
      "scenario: w/ both\tprotocol: bitcoin\tdag_size_limit: 9\tsize: 8554\ttime_spent: 8.594908447000307\trss: 0.2726173400878906\tabort: False                      "
     ]
    },
    {
     "name": "stdout",
     "output_type": "stream",
     "text": [
      "\r",
      "scenario: w/ both\tprotocol: bitcoin\tdag_size_limit: 10\tsize: 23826\ttime_spent: 27.90649063700039\trss: 0.4347267150878906\tabort: False                      "
     ]
    },
    {
     "name": "stdout",
     "output_type": "stream",
     "text": [
      "\r",
      "scenario: w/ both\tprotocol: bitcoin\tdag_size_limit: 11\tsize: 66749\ttime_spent: 88.74987792799948\trss: 0.9222755432128906\tabort: False                      "
     ]
    },
    {
     "name": "stdout",
     "output_type": "stream",
     "text": [
      "\r",
      "scenario: w/ both\tprotocol: bitcoin\tdag_size_limit: 12\tsize: 100847\ttime_spent: 138.90766246400017\trss: 1.3352775573730469\tabort: True                      "
     ]
    },
    {
     "name": "stdout",
     "output_type": "stream",
     "text": [
      "\r",
      "scenario: w/ both\tprotocol: ethereum_3\tdag_size_limit: 2\tsize: 5\ttime_spent: 0.0012944540003445582\trss: 0.2911834716796875\tabort: False                      \r",
      "scenario: w/ both\tprotocol: ethereum_3\tdag_size_limit: 3\tsize: 17\ttime_spent: 0.006553680999786593\trss: 0.2806854248046875\tabort: False                      \r",
      "scenario: w/ both\tprotocol: ethereum_3\tdag_size_limit: 4\tsize: 60\ttime_spent: 0.0257283089995326\trss: 0.2801971435546875\tabort: False                      "
     ]
    },
    {
     "name": "stdout",
     "output_type": "stream",
     "text": [
      "\r",
      "scenario: w/ both\tprotocol: ethereum_3\tdag_size_limit: 5\tsize: 195\ttime_spent: 0.10183585400045558\trss: 0.2787322998046875\tabort: False                      "
     ]
    },
    {
     "name": "stdout",
     "output_type": "stream",
     "text": [
      "\r",
      "scenario: w/ both\tprotocol: ethereum_3\tdag_size_limit: 6\tsize: 642\ttime_spent: 0.38019988399992144\trss: 0.2782440185546875\tabort: False                      "
     ]
    },
    {
     "name": "stdout",
     "output_type": "stream",
     "text": [
      "\r",
      "scenario: w/ both\tprotocol: ethereum_3\tdag_size_limit: 7\tsize: 2101\ttime_spent: 1.6473358969997207\trss: 0.2783660888671875\tabort: False                      "
     ]
    },
    {
     "name": "stdout",
     "output_type": "stream",
     "text": [
      "\r",
      "scenario: w/ both\tprotocol: ethereum_3\tdag_size_limit: 8\tsize: 6876\ttime_spent: 5.93018812199989\trss: 0.2781944274902344\tabort: False                      "
     ]
    },
    {
     "name": "stdout",
     "output_type": "stream",
     "text": [
      "\r",
      "scenario: w/ both\tprotocol: ethereum_3\tdag_size_limit: 9\tsize: 21803\ttime_spent: 21.888239374000477\trss: 0.3981895446777344\tabort: False                      "
     ]
    },
    {
     "name": "stdout",
     "output_type": "stream",
     "text": [
      "\r",
      "scenario: w/ both\tprotocol: ethereum_3\tdag_size_limit: 10\tsize: 68558\ttime_spent: 76.31031566799993\trss: 0.8919639587402344\tabort: False                      "
     ]
    },
    {
     "name": "stdout",
     "output_type": "stream",
     "text": [
      "\r",
      "scenario: w/ both\tprotocol: ethereum_3\tdag_size_limit: 11\tsize: 100040\ttime_spent: 128.22169440400012\trss: 1.2628288269042969\tabort: True                      "
     ]
    },
    {
     "name": "stdout",
     "output_type": "stream",
     "text": [
      "\r",
      "scenario: w/ both\tprotocol: byzantium_3\tdag_size_limit: 2\tsize: 5\ttime_spent: 0.0013338670005396125\trss: 0.2936973571777344\tabort: False                      \r",
      "scenario: w/ both\tprotocol: byzantium_3\tdag_size_limit: 3\tsize: 17\ttime_spent: 0.006772392000129912\trss: 0.2839317321777344\tabort: False                      \r",
      "scenario: w/ both\tprotocol: byzantium_3\tdag_size_limit: 4\tsize: 60\ttime_spent: 0.026883611999437562\trss: 0.2834434509277344\tabort: False                      "
     ]
    },
    {
     "name": "stdout",
     "output_type": "stream",
     "text": [
      "\r",
      "scenario: w/ both\tprotocol: byzantium_3\tdag_size_limit: 5\tsize: 195\ttime_spent: 0.10873813000034716\trss: 0.2822227478027344\tabort: False                      "
     ]
    },
    {
     "name": "stdout",
     "output_type": "stream",
     "text": [
      "\r",
      "scenario: w/ both\tprotocol: byzantium_3\tdag_size_limit: 6\tsize: 642\ttime_spent: 0.406325991999438\trss: 0.2819786071777344\tabort: False                      "
     ]
    },
    {
     "name": "stdout",
     "output_type": "stream",
     "text": [
      "\r",
      "scenario: w/ both\tprotocol: byzantium_3\tdag_size_limit: 7\tsize: 2065\ttime_spent: 1.7131672229998003\trss: 0.2817344665527344\tabort: False                      "
     ]
    },
    {
     "name": "stdout",
     "output_type": "stream",
     "text": [
      "\r",
      "scenario: w/ both\tprotocol: byzantium_3\tdag_size_limit: 8\tsize: 6615\ttime_spent: 6.174713338999936\trss: 0.2803916931152344\tabort: False                      "
     ]
    },
    {
     "name": "stdout",
     "output_type": "stream",
     "text": [
      "\r",
      "scenario: w/ both\tprotocol: byzantium_3\tdag_size_limit: 9\tsize: 20769\ttime_spent: 22.58355465600016\trss: 0.3875694274902344\tabort: False                      "
     ]
    },
    {
     "name": "stdout",
     "output_type": "stream",
     "text": [
      "\r",
      "scenario: w/ both\tprotocol: byzantium_3\tdag_size_limit: 10\tsize: 66065\ttime_spent: 79.4148684060001\trss: 0.8660850524902344\tabort: False                      "
     ]
    },
    {
     "name": "stdout",
     "output_type": "stream",
     "text": [
      "\r",
      "scenario: w/ both\tprotocol: byzantium_3\tdag_size_limit: 11\tsize: 100456\ttime_spent: 140.58517172200027\trss: 1.2487373352050781\tabort: True                      "
     ]
    },
    {
     "name": "stdout",
     "output_type": "stream",
     "text": [
      "\r",
      "scenario: w/ both\tprotocol: ghostdag_3\tdag_size_limit: 2\tsize: 5\ttime_spent: 0.0011882540002261521\trss: 0.2990875244140625\tabort: False                      \r",
      "scenario: w/ both\tprotocol: ghostdag_3\tdag_size_limit: 3\tsize: 17\ttime_spent: 0.006429167000533198\trss: 0.2883453369140625\tabort: False                      \r",
      "scenario: w/ both\tprotocol: ghostdag_3\tdag_size_limit: 4\tsize: 58\ttime_spent: 0.025847664000139048\trss: 0.2868804931640625\tabort: False                      "
     ]
    },
    {
     "name": "stdout",
     "output_type": "stream",
     "text": [
      "\r",
      "scenario: w/ both\tprotocol: ghostdag_3\tdag_size_limit: 5\tsize: 196\ttime_spent: 0.11431537399948866\trss: 0.2863922119140625\tabort: False                      "
     ]
    },
    {
     "name": "stdout",
     "output_type": "stream",
     "text": [
      "\r",
      "scenario: w/ both\tprotocol: ghostdag_3\tdag_size_limit: 6\tsize: 668\ttime_spent: 0.48982062699997186\trss: 0.2863922119140625\tabort: False                      "
     ]
    },
    {
     "name": "stdout",
     "output_type": "stream",
     "text": [
      "\r",
      "scenario: w/ both\tprotocol: ghostdag_3\tdag_size_limit: 7\tsize: 2302\ttime_spent: 2.304397898999923\trss: 0.2861480712890625\tabort: False                      "
     ]
    },
    {
     "name": "stdout",
     "output_type": "stream",
     "text": [
      "\r",
      "scenario: w/ both\tprotocol: ghostdag_3\tdag_size_limit: 8\tsize: 8024\ttime_spent: 10.017307518000052\trss: 0.2845611572265625\tabort: False                      "
     ]
    },
    {
     "name": "stdout",
     "output_type": "stream",
     "text": [
      "\r",
      "scenario: w/ both\tprotocol: ghostdag_3\tdag_size_limit: 9\tsize: 28264\ttime_spent: 44.22292348500014\trss: 0.4481849670410156\tabort: False                      "
     ]
    },
    {
     "name": "stdout",
     "output_type": "stream",
     "text": [
      "\r",
      "scenario: w/ both\tprotocol: ghostdag_3\tdag_size_limit: 10\tsize: 100246\ttime_spent: 195.35137055999985\trss: 1.1809730529785156\tabort: True                      "
     ]
    },
    {
     "name": "stdout",
     "output_type": "stream",
     "text": [
      "\r",
      "scenario: w/ both\tprotocol: parallel_3\tdag_size_limit: 2\tsize: 5\ttime_spent: 0.0012735439995594788\trss: 0.30988311767578125\tabort: False                      \r",
      "scenario: w/ both\tprotocol: parallel_3\tdag_size_limit: 3\tsize: 24\ttime_spent: 0.006771761999516457\trss: 0.30060577392578125\tabort: False                      \r",
      "scenario: w/ both\tprotocol: parallel_3\tdag_size_limit: 4\tsize: 79\ttime_spent: 0.032685819000107585\trss: 0.30011749267578125\tabort: False                      "
     ]
    },
    {
     "name": "stdout",
     "output_type": "stream",
     "text": [
      "\r",
      "scenario: w/ both\tprotocol: parallel_3\tdag_size_limit: 5\tsize: 214\ttime_spent: 0.11716874800004007\trss: 0.29938507080078125\tabort: False                      "
     ]
    },
    {
     "name": "stdout",
     "output_type": "stream",
     "text": [
      "\r",
      "scenario: w/ both\tprotocol: parallel_3\tdag_size_limit: 6\tsize: 591\ttime_spent: 0.36590766000063013\trss: 0.29938507080078125\tabort: False                      "
     ]
    },
    {
     "name": "stdout",
     "output_type": "stream",
     "text": [
      "\r",
      "scenario: w/ both\tprotocol: parallel_3\tdag_size_limit: 7\tsize: 1777\ttime_spent: 1.321188255999914\trss: 0.29901885986328125\tabort: False                      "
     ]
    },
    {
     "name": "stdout",
     "output_type": "stream",
     "text": [
      "\r",
      "scenario: w/ both\tprotocol: parallel_3\tdag_size_limit: 8\tsize: 5375\ttime_spent: 4.6413805470001535\trss: 0.2969017028808594\tabort: False                      "
     ]
    },
    {
     "name": "stdout",
     "output_type": "stream",
     "text": [
      "\r",
      "scenario: w/ both\tprotocol: parallel_3\tdag_size_limit: 9\tsize: 15212\ttime_spent: 16.049217103000046\trss: 0.3469505310058594\tabort: False                      "
     ]
    },
    {
     "name": "stdout",
     "output_type": "stream",
     "text": [
      "\r",
      "scenario: w/ both\tprotocol: parallel_3\tdag_size_limit: 10\tsize: 39154\ttime_spent: 49.235909865000394\trss: 0.6129417419433594\tabort: False                      "
     ]
    },
    {
     "name": "stdout",
     "output_type": "stream",
     "text": [
      "\r",
      "scenario: w/ both\tprotocol: parallel_3\tdag_size_limit: 11\tsize: 96136\ttime_spent: 137.86662200400042\trss: 1.2737083435058594\tabort: False                      "
     ]
    },
    {
     "name": "stdout",
     "output_type": "stream",
     "text": [
      "\r",
      "scenario: w/ both\tprotocol: parallel_3\tdag_size_limit: 12\tsize: 100337\ttime_spent: 157.48168341699966\trss: 1.3729133605957031\tabort: True                      "
     ]
    }
   ],
   "source": [
    "from IPython.display import display, clear_output\n",
    "import gc\n",
    "import psutil\n",
    "import pickle\n",
    "import gzip\n",
    "\n",
    "max_size = 100000\n",
    "# max_size = 10000\n",
    "aborts = []\n",
    "size_log = []\n",
    "\n",
    "\n",
    "def get_rss():\n",
    "    gc.collect()\n",
    "    return psutil.Process().memory_info().rss / 1024**3  # GiB\n",
    "\n",
    "\n",
    "for idx, row in models.iterrows():\n",
    "    dag_size_limit = 1\n",
    "    while True:\n",
    "        dag_size_limit += 1\n",
    "        m = implicit_mdps[idx](dag_size_limit)\n",
    "        c = Compiler(m)\n",
    "        start_time = time.monotonic()\n",
    "        while not_done := c.explore(steps=1000):\n",
    "            if c.n_states > max_size:\n",
    "                break\n",
    "\n",
    "        info = row.to_dict() | dict(\n",
    "            dag_size_limit=dag_size_limit,\n",
    "            size=c.n_states,\n",
    "            time_spent=time.monotonic() - start_time,\n",
    "            rss=get_rss(),\n",
    "        )\n",
    "\n",
    "        # report to stdout\n",
    "        print(\n",
    "            \"\\r\"\n",
    "            + \"\\t\".join(\n",
    "                [\n",
    "                    f\"{k}: {info[k]}\"\n",
    "                    for k in [\n",
    "                        \"scenario\",\n",
    "                        \"protocol\",\n",
    "                        \"dag_size_limit\",\n",
    "                        \"size\",\n",
    "                        \"time_spent\",\n",
    "                        \"rss\",\n",
    "                    ]\n",
    "                ]\n",
    "                + [f\"abort: {not_done}                      \"]\n",
    "            ),\n",
    "            end=\"\",\n",
    "        )\n",
    "\n",
    "        if not_done:\n",
    "            aborts.append(info)\n",
    "            break\n",
    "        else:\n",
    "            mdp_key = format(abs(hash(frozenset(info.items()))), \"08x\")[0:8]\n",
    "            size_log.append(info | dict(mdp=mdp_key))\n",
    "            with gzip.open(f\"5-generated-mdps/mdp-{mdp_key}.pkl.gz\", \"wb\") as f:\n",
    "                pickle.dump(c.mdp(finish_exploration=False), f)\n",
    "\n",
    "size_log = pandas.DataFrame(size_log)\n",
    "aborts = pandas.DataFrame(aborts)\n",
    "\n",
    "size_log.to_pickle(\"5-generated-mdps/success.pkl.gz\")\n",
    "aborts.to_pickle(\"5-generated-mdps/fail.pkl.gz\")"
   ]
  },
  {
   "cell_type": "code",
   "execution_count": 5,
   "id": "b1604143-764e-452c-aab8-240b002cb1f9",
   "metadata": {
    "execution": {
     "iopub.execute_input": "2024-12-25T11:57:28.694289Z",
     "iopub.status.busy": "2024-12-25T11:57:28.693959Z",
     "iopub.status.idle": "2024-12-25T11:57:28.705008Z",
     "shell.execute_reply": "2024-12-25T11:57:28.704619Z"
    }
   },
   "outputs": [
    {
     "data": {
      "text/html": [
       "<div>\n",
       "<style scoped>\n",
       "    .dataframe tbody tr th:only-of-type {\n",
       "        vertical-align: middle;\n",
       "    }\n",
       "\n",
       "    .dataframe tbody tr th {\n",
       "        vertical-align: top;\n",
       "    }\n",
       "\n",
       "    .dataframe thead th {\n",
       "        text-align: right;\n",
       "    }\n",
       "</style>\n",
       "<table border=\"1\" class=\"dataframe\">\n",
       "  <thead>\n",
       "    <tr style=\"text-align: right;\">\n",
       "      <th></th>\n",
       "      <th>scenario</th>\n",
       "      <th>model</th>\n",
       "      <th>protocol</th>\n",
       "      <th>force_consider_own</th>\n",
       "      <th>merge_isomorphic</th>\n",
       "      <th>truncate_common_chain</th>\n",
       "      <th>collect_garbage</th>\n",
       "      <th>reward_common_chain</th>\n",
       "      <th>dag_size_limit</th>\n",
       "      <th>size</th>\n",
       "      <th>time_spent</th>\n",
       "      <th>rss</th>\n",
       "    </tr>\n",
       "  </thead>\n",
       "  <tbody>\n",
       "    <tr>\n",
       "      <th>0</th>\n",
       "      <td>baseline</td>\n",
       "      <td>generic_1</td>\n",
       "      <td>bitcoin</td>\n",
       "      <td>False</td>\n",
       "      <td>False</td>\n",
       "      <td>True</td>\n",
       "      <td>True</td>\n",
       "      <td>False</td>\n",
       "      <td>6</td>\n",
       "      <td>100433</td>\n",
       "      <td>56.032501</td>\n",
       "      <td>0.977993</td>\n",
       "    </tr>\n",
       "    <tr>\n",
       "      <th>1</th>\n",
       "      <td>baseline</td>\n",
       "      <td>generic_1</td>\n",
       "      <td>ethereum_3</td>\n",
       "      <td>False</td>\n",
       "      <td>False</td>\n",
       "      <td>True</td>\n",
       "      <td>True</td>\n",
       "      <td>False</td>\n",
       "      <td>6</td>\n",
       "      <td>100318</td>\n",
       "      <td>59.713414</td>\n",
       "      <td>0.962227</td>\n",
       "    </tr>\n",
       "    <tr>\n",
       "      <th>2</th>\n",
       "      <td>baseline</td>\n",
       "      <td>generic_1</td>\n",
       "      <td>byzantium_3</td>\n",
       "      <td>False</td>\n",
       "      <td>False</td>\n",
       "      <td>True</td>\n",
       "      <td>True</td>\n",
       "      <td>False</td>\n",
       "      <td>6</td>\n",
       "      <td>100285</td>\n",
       "      <td>62.030046</td>\n",
       "      <td>0.962170</td>\n",
       "    </tr>\n",
       "    <tr>\n",
       "      <th>3</th>\n",
       "      <td>baseline</td>\n",
       "      <td>generic_1</td>\n",
       "      <td>ghostdag_3</td>\n",
       "      <td>False</td>\n",
       "      <td>False</td>\n",
       "      <td>True</td>\n",
       "      <td>True</td>\n",
       "      <td>False</td>\n",
       "      <td>6</td>\n",
       "      <td>100575</td>\n",
       "      <td>70.315514</td>\n",
       "      <td>0.921108</td>\n",
       "    </tr>\n",
       "    <tr>\n",
       "      <th>4</th>\n",
       "      <td>baseline</td>\n",
       "      <td>generic_1</td>\n",
       "      <td>parallel_3</td>\n",
       "      <td>False</td>\n",
       "      <td>False</td>\n",
       "      <td>True</td>\n",
       "      <td>True</td>\n",
       "      <td>False</td>\n",
       "      <td>7</td>\n",
       "      <td>100617</td>\n",
       "      <td>64.721005</td>\n",
       "      <td>1.065643</td>\n",
       "    </tr>\n",
       "    <tr>\n",
       "      <th>5</th>\n",
       "      <td>w/o collect garbage</td>\n",
       "      <td>generic_1</td>\n",
       "      <td>bitcoin</td>\n",
       "      <td>False</td>\n",
       "      <td>False</td>\n",
       "      <td>True</td>\n",
       "      <td>False</td>\n",
       "      <td>False</td>\n",
       "      <td>6</td>\n",
       "      <td>100332</td>\n",
       "      <td>34.392240</td>\n",
       "      <td>0.944794</td>\n",
       "    </tr>\n",
       "    <tr>\n",
       "      <th>6</th>\n",
       "      <td>w/o collect garbage</td>\n",
       "      <td>generic_1</td>\n",
       "      <td>ethereum_3</td>\n",
       "      <td>False</td>\n",
       "      <td>False</td>\n",
       "      <td>True</td>\n",
       "      <td>False</td>\n",
       "      <td>False</td>\n",
       "      <td>6</td>\n",
       "      <td>101058</td>\n",
       "      <td>36.489499</td>\n",
       "      <td>0.947536</td>\n",
       "    </tr>\n",
       "    <tr>\n",
       "      <th>7</th>\n",
       "      <td>w/o collect garbage</td>\n",
       "      <td>generic_1</td>\n",
       "      <td>byzantium_3</td>\n",
       "      <td>False</td>\n",
       "      <td>False</td>\n",
       "      <td>True</td>\n",
       "      <td>False</td>\n",
       "      <td>False</td>\n",
       "      <td>6</td>\n",
       "      <td>101034</td>\n",
       "      <td>39.461448</td>\n",
       "      <td>0.946995</td>\n",
       "    </tr>\n",
       "    <tr>\n",
       "      <th>8</th>\n",
       "      <td>w/o collect garbage</td>\n",
       "      <td>generic_1</td>\n",
       "      <td>ghostdag_3</td>\n",
       "      <td>False</td>\n",
       "      <td>False</td>\n",
       "      <td>True</td>\n",
       "      <td>False</td>\n",
       "      <td>False</td>\n",
       "      <td>6</td>\n",
       "      <td>100135</td>\n",
       "      <td>54.226669</td>\n",
       "      <td>0.901428</td>\n",
       "    </tr>\n",
       "    <tr>\n",
       "      <th>9</th>\n",
       "      <td>w/o collect garbage</td>\n",
       "      <td>generic_1</td>\n",
       "      <td>parallel_3</td>\n",
       "      <td>False</td>\n",
       "      <td>False</td>\n",
       "      <td>True</td>\n",
       "      <td>False</td>\n",
       "      <td>False</td>\n",
       "      <td>7</td>\n",
       "      <td>101113</td>\n",
       "      <td>45.673239</td>\n",
       "      <td>1.061722</td>\n",
       "    </tr>\n",
       "    <tr>\n",
       "      <th>10</th>\n",
       "      <td>w/o truncate</td>\n",
       "      <td>generic_1</td>\n",
       "      <td>bitcoin</td>\n",
       "      <td>False</td>\n",
       "      <td>False</td>\n",
       "      <td>False</td>\n",
       "      <td>True</td>\n",
       "      <td>False</td>\n",
       "      <td>6</td>\n",
       "      <td>100016</td>\n",
       "      <td>51.879389</td>\n",
       "      <td>0.958298</td>\n",
       "    </tr>\n",
       "    <tr>\n",
       "      <th>11</th>\n",
       "      <td>w/o truncate</td>\n",
       "      <td>generic_1</td>\n",
       "      <td>ethereum_3</td>\n",
       "      <td>False</td>\n",
       "      <td>False</td>\n",
       "      <td>False</td>\n",
       "      <td>True</td>\n",
       "      <td>False</td>\n",
       "      <td>6</td>\n",
       "      <td>101411</td>\n",
       "      <td>55.274170</td>\n",
       "      <td>0.957951</td>\n",
       "    </tr>\n",
       "    <tr>\n",
       "      <th>12</th>\n",
       "      <td>w/o truncate</td>\n",
       "      <td>generic_1</td>\n",
       "      <td>byzantium_3</td>\n",
       "      <td>False</td>\n",
       "      <td>False</td>\n",
       "      <td>False</td>\n",
       "      <td>True</td>\n",
       "      <td>False</td>\n",
       "      <td>6</td>\n",
       "      <td>101384</td>\n",
       "      <td>58.618602</td>\n",
       "      <td>0.957981</td>\n",
       "    </tr>\n",
       "    <tr>\n",
       "      <th>13</th>\n",
       "      <td>w/o truncate</td>\n",
       "      <td>generic_1</td>\n",
       "      <td>ghostdag_3</td>\n",
       "      <td>False</td>\n",
       "      <td>False</td>\n",
       "      <td>False</td>\n",
       "      <td>True</td>\n",
       "      <td>False</td>\n",
       "      <td>6</td>\n",
       "      <td>100134</td>\n",
       "      <td>54.118754</td>\n",
       "      <td>0.908070</td>\n",
       "    </tr>\n",
       "    <tr>\n",
       "      <th>14</th>\n",
       "      <td>w/o truncate</td>\n",
       "      <td>generic_1</td>\n",
       "      <td>parallel_3</td>\n",
       "      <td>False</td>\n",
       "      <td>False</td>\n",
       "      <td>False</td>\n",
       "      <td>True</td>\n",
       "      <td>False</td>\n",
       "      <td>7</td>\n",
       "      <td>100645</td>\n",
       "      <td>66.541872</td>\n",
       "      <td>1.065701</td>\n",
       "    </tr>\n",
       "    <tr>\n",
       "      <th>15</th>\n",
       "      <td>w/ force consider</td>\n",
       "      <td>generic_1</td>\n",
       "      <td>bitcoin</td>\n",
       "      <td>True</td>\n",
       "      <td>False</td>\n",
       "      <td>True</td>\n",
       "      <td>True</td>\n",
       "      <td>False</td>\n",
       "      <td>11</td>\n",
       "      <td>100626</td>\n",
       "      <td>85.902945</td>\n",
       "      <td>1.260227</td>\n",
       "    </tr>\n",
       "    <tr>\n",
       "      <th>16</th>\n",
       "      <td>w/ force consider</td>\n",
       "      <td>generic_1</td>\n",
       "      <td>ethereum_3</td>\n",
       "      <td>True</td>\n",
       "      <td>False</td>\n",
       "      <td>True</td>\n",
       "      <td>True</td>\n",
       "      <td>False</td>\n",
       "      <td>10</td>\n",
       "      <td>100202</td>\n",
       "      <td>81.420715</td>\n",
       "      <td>1.195427</td>\n",
       "    </tr>\n",
       "    <tr>\n",
       "      <th>17</th>\n",
       "      <td>w/ force consider</td>\n",
       "      <td>generic_1</td>\n",
       "      <td>byzantium_3</td>\n",
       "      <td>True</td>\n",
       "      <td>False</td>\n",
       "      <td>True</td>\n",
       "      <td>True</td>\n",
       "      <td>False</td>\n",
       "      <td>10</td>\n",
       "      <td>100048</td>\n",
       "      <td>89.500138</td>\n",
       "      <td>1.192757</td>\n",
       "    </tr>\n",
       "    <tr>\n",
       "      <th>18</th>\n",
       "      <td>w/ force consider</td>\n",
       "      <td>generic_1</td>\n",
       "      <td>ghostdag_3</td>\n",
       "      <td>True</td>\n",
       "      <td>False</td>\n",
       "      <td>True</td>\n",
       "      <td>True</td>\n",
       "      <td>False</td>\n",
       "      <td>9</td>\n",
       "      <td>100019</td>\n",
       "      <td>125.709070</td>\n",
       "      <td>1.112675</td>\n",
       "    </tr>\n",
       "    <tr>\n",
       "      <th>19</th>\n",
       "      <td>w/ force consider</td>\n",
       "      <td>generic_1</td>\n",
       "      <td>parallel_3</td>\n",
       "      <td>True</td>\n",
       "      <td>False</td>\n",
       "      <td>True</td>\n",
       "      <td>True</td>\n",
       "      <td>False</td>\n",
       "      <td>9</td>\n",
       "      <td>101077</td>\n",
       "      <td>70.284158</td>\n",
       "      <td>1.190884</td>\n",
       "    </tr>\n",
       "    <tr>\n",
       "      <th>20</th>\n",
       "      <td>w/ normalization</td>\n",
       "      <td>generic_1</td>\n",
       "      <td>bitcoin</td>\n",
       "      <td>False</td>\n",
       "      <td>True</td>\n",
       "      <td>True</td>\n",
       "      <td>True</td>\n",
       "      <td>False</td>\n",
       "      <td>7</td>\n",
       "      <td>100475</td>\n",
       "      <td>101.059461</td>\n",
       "      <td>1.062565</td>\n",
       "    </tr>\n",
       "    <tr>\n",
       "      <th>21</th>\n",
       "      <td>w/ normalization</td>\n",
       "      <td>generic_1</td>\n",
       "      <td>ethereum_3</td>\n",
       "      <td>False</td>\n",
       "      <td>True</td>\n",
       "      <td>True</td>\n",
       "      <td>True</td>\n",
       "      <td>False</td>\n",
       "      <td>7</td>\n",
       "      <td>101617</td>\n",
       "      <td>94.516078</td>\n",
       "      <td>1.039425</td>\n",
       "    </tr>\n",
       "    <tr>\n",
       "      <th>22</th>\n",
       "      <td>w/ normalization</td>\n",
       "      <td>generic_1</td>\n",
       "      <td>byzantium_3</td>\n",
       "      <td>False</td>\n",
       "      <td>True</td>\n",
       "      <td>True</td>\n",
       "      <td>True</td>\n",
       "      <td>False</td>\n",
       "      <td>7</td>\n",
       "      <td>101157</td>\n",
       "      <td>98.054352</td>\n",
       "      <td>1.036037</td>\n",
       "    </tr>\n",
       "    <tr>\n",
       "      <th>23</th>\n",
       "      <td>w/ normalization</td>\n",
       "      <td>generic_1</td>\n",
       "      <td>ghostdag_3</td>\n",
       "      <td>False</td>\n",
       "      <td>True</td>\n",
       "      <td>True</td>\n",
       "      <td>True</td>\n",
       "      <td>False</td>\n",
       "      <td>7</td>\n",
       "      <td>101478</td>\n",
       "      <td>106.577864</td>\n",
       "      <td>0.997345</td>\n",
       "    </tr>\n",
       "    <tr>\n",
       "      <th>24</th>\n",
       "      <td>w/ normalization</td>\n",
       "      <td>generic_1</td>\n",
       "      <td>parallel_3</td>\n",
       "      <td>False</td>\n",
       "      <td>True</td>\n",
       "      <td>True</td>\n",
       "      <td>True</td>\n",
       "      <td>False</td>\n",
       "      <td>9</td>\n",
       "      <td>101181</td>\n",
       "      <td>119.984226</td>\n",
       "      <td>1.221111</td>\n",
       "    </tr>\n",
       "    <tr>\n",
       "      <th>25</th>\n",
       "      <td>w/ both</td>\n",
       "      <td>generic_1</td>\n",
       "      <td>bitcoin</td>\n",
       "      <td>True</td>\n",
       "      <td>True</td>\n",
       "      <td>True</td>\n",
       "      <td>True</td>\n",
       "      <td>False</td>\n",
       "      <td>12</td>\n",
       "      <td>100847</td>\n",
       "      <td>138.907662</td>\n",
       "      <td>1.335278</td>\n",
       "    </tr>\n",
       "    <tr>\n",
       "      <th>26</th>\n",
       "      <td>w/ both</td>\n",
       "      <td>generic_1</td>\n",
       "      <td>ethereum_3</td>\n",
       "      <td>True</td>\n",
       "      <td>True</td>\n",
       "      <td>True</td>\n",
       "      <td>True</td>\n",
       "      <td>False</td>\n",
       "      <td>11</td>\n",
       "      <td>100040</td>\n",
       "      <td>128.221694</td>\n",
       "      <td>1.262829</td>\n",
       "    </tr>\n",
       "    <tr>\n",
       "      <th>27</th>\n",
       "      <td>w/ both</td>\n",
       "      <td>generic_1</td>\n",
       "      <td>byzantium_3</td>\n",
       "      <td>True</td>\n",
       "      <td>True</td>\n",
       "      <td>True</td>\n",
       "      <td>True</td>\n",
       "      <td>False</td>\n",
       "      <td>11</td>\n",
       "      <td>100456</td>\n",
       "      <td>140.585172</td>\n",
       "      <td>1.248737</td>\n",
       "    </tr>\n",
       "    <tr>\n",
       "      <th>28</th>\n",
       "      <td>w/ both</td>\n",
       "      <td>generic_1</td>\n",
       "      <td>ghostdag_3</td>\n",
       "      <td>True</td>\n",
       "      <td>True</td>\n",
       "      <td>True</td>\n",
       "      <td>True</td>\n",
       "      <td>False</td>\n",
       "      <td>10</td>\n",
       "      <td>100246</td>\n",
       "      <td>195.351371</td>\n",
       "      <td>1.180973</td>\n",
       "    </tr>\n",
       "    <tr>\n",
       "      <th>29</th>\n",
       "      <td>w/ both</td>\n",
       "      <td>generic_1</td>\n",
       "      <td>parallel_3</td>\n",
       "      <td>True</td>\n",
       "      <td>True</td>\n",
       "      <td>True</td>\n",
       "      <td>True</td>\n",
       "      <td>False</td>\n",
       "      <td>12</td>\n",
       "      <td>100337</td>\n",
       "      <td>157.481683</td>\n",
       "      <td>1.372913</td>\n",
       "    </tr>\n",
       "  </tbody>\n",
       "</table>\n",
       "</div>"
      ],
      "text/plain": [
       "               scenario      model     protocol  force_consider_own  \\\n",
       "0              baseline  generic_1      bitcoin               False   \n",
       "1              baseline  generic_1   ethereum_3               False   \n",
       "2              baseline  generic_1  byzantium_3               False   \n",
       "3              baseline  generic_1   ghostdag_3               False   \n",
       "4              baseline  generic_1   parallel_3               False   \n",
       "5   w/o collect garbage  generic_1      bitcoin               False   \n",
       "6   w/o collect garbage  generic_1   ethereum_3               False   \n",
       "7   w/o collect garbage  generic_1  byzantium_3               False   \n",
       "8   w/o collect garbage  generic_1   ghostdag_3               False   \n",
       "9   w/o collect garbage  generic_1   parallel_3               False   \n",
       "10         w/o truncate  generic_1      bitcoin               False   \n",
       "11         w/o truncate  generic_1   ethereum_3               False   \n",
       "12         w/o truncate  generic_1  byzantium_3               False   \n",
       "13         w/o truncate  generic_1   ghostdag_3               False   \n",
       "14         w/o truncate  generic_1   parallel_3               False   \n",
       "15    w/ force consider  generic_1      bitcoin                True   \n",
       "16    w/ force consider  generic_1   ethereum_3                True   \n",
       "17    w/ force consider  generic_1  byzantium_3                True   \n",
       "18    w/ force consider  generic_1   ghostdag_3                True   \n",
       "19    w/ force consider  generic_1   parallel_3                True   \n",
       "20     w/ normalization  generic_1      bitcoin               False   \n",
       "21     w/ normalization  generic_1   ethereum_3               False   \n",
       "22     w/ normalization  generic_1  byzantium_3               False   \n",
       "23     w/ normalization  generic_1   ghostdag_3               False   \n",
       "24     w/ normalization  generic_1   parallel_3               False   \n",
       "25              w/ both  generic_1      bitcoin                True   \n",
       "26              w/ both  generic_1   ethereum_3                True   \n",
       "27              w/ both  generic_1  byzantium_3                True   \n",
       "28              w/ both  generic_1   ghostdag_3                True   \n",
       "29              w/ both  generic_1   parallel_3                True   \n",
       "\n",
       "    merge_isomorphic  truncate_common_chain  collect_garbage  \\\n",
       "0              False                   True             True   \n",
       "1              False                   True             True   \n",
       "2              False                   True             True   \n",
       "3              False                   True             True   \n",
       "4              False                   True             True   \n",
       "5              False                   True            False   \n",
       "6              False                   True            False   \n",
       "7              False                   True            False   \n",
       "8              False                   True            False   \n",
       "9              False                   True            False   \n",
       "10             False                  False             True   \n",
       "11             False                  False             True   \n",
       "12             False                  False             True   \n",
       "13             False                  False             True   \n",
       "14             False                  False             True   \n",
       "15             False                   True             True   \n",
       "16             False                   True             True   \n",
       "17             False                   True             True   \n",
       "18             False                   True             True   \n",
       "19             False                   True             True   \n",
       "20              True                   True             True   \n",
       "21              True                   True             True   \n",
       "22              True                   True             True   \n",
       "23              True                   True             True   \n",
       "24              True                   True             True   \n",
       "25              True                   True             True   \n",
       "26              True                   True             True   \n",
       "27              True                   True             True   \n",
       "28              True                   True             True   \n",
       "29              True                   True             True   \n",
       "\n",
       "    reward_common_chain  dag_size_limit    size  time_spent       rss  \n",
       "0                 False               6  100433   56.032501  0.977993  \n",
       "1                 False               6  100318   59.713414  0.962227  \n",
       "2                 False               6  100285   62.030046  0.962170  \n",
       "3                 False               6  100575   70.315514  0.921108  \n",
       "4                 False               7  100617   64.721005  1.065643  \n",
       "5                 False               6  100332   34.392240  0.944794  \n",
       "6                 False               6  101058   36.489499  0.947536  \n",
       "7                 False               6  101034   39.461448  0.946995  \n",
       "8                 False               6  100135   54.226669  0.901428  \n",
       "9                 False               7  101113   45.673239  1.061722  \n",
       "10                False               6  100016   51.879389  0.958298  \n",
       "11                False               6  101411   55.274170  0.957951  \n",
       "12                False               6  101384   58.618602  0.957981  \n",
       "13                False               6  100134   54.118754  0.908070  \n",
       "14                False               7  100645   66.541872  1.065701  \n",
       "15                False              11  100626   85.902945  1.260227  \n",
       "16                False              10  100202   81.420715  1.195427  \n",
       "17                False              10  100048   89.500138  1.192757  \n",
       "18                False               9  100019  125.709070  1.112675  \n",
       "19                False               9  101077   70.284158  1.190884  \n",
       "20                False               7  100475  101.059461  1.062565  \n",
       "21                False               7  101617   94.516078  1.039425  \n",
       "22                False               7  101157   98.054352  1.036037  \n",
       "23                False               7  101478  106.577864  0.997345  \n",
       "24                False               9  101181  119.984226  1.221111  \n",
       "25                False              12  100847  138.907662  1.335278  \n",
       "26                False              11  100040  128.221694  1.262829  \n",
       "27                False              11  100456  140.585172  1.248737  \n",
       "28                False              10  100246  195.351371  1.180973  \n",
       "29                False              12  100337  157.481683  1.372913  "
      ]
     },
     "execution_count": 5,
     "metadata": {},
     "output_type": "execute_result"
    }
   ],
   "source": [
    "aborts"
   ]
  },
  {
   "cell_type": "code",
   "execution_count": 6,
   "id": "a5c7e143-a87b-46c3-9bb1-9939e860d968",
   "metadata": {
    "execution": {
     "iopub.execute_input": "2024-12-25T11:57:28.706709Z",
     "iopub.status.busy": "2024-12-25T11:57:28.706569Z",
     "iopub.status.idle": "2024-12-25T11:57:30.549770Z",
     "shell.execute_reply": "2024-12-25T11:57:30.549377Z"
    }
   },
   "outputs": [
    {
     "data": {
      "text/plain": [
       "<seaborn.axisgrid.FacetGrid at 0x7fc54d4b7d90>"
      ]
     },
     "execution_count": 6,
     "metadata": {},
     "output_type": "execute_result"
    },
    {
     "data": {
      "image/png": "[encoded data removed]",
      "text/plain": [
       "<Figure size 1686.87x1000 with 5 Axes>"
      ]
     },
     "metadata": {},
     "output_type": "display_data"
    }
   ],
   "source": [
    "seaborn.relplot(\n",
    "    data=size_log.query(\"dag_size_limit < 10\"),\n",
    "    kind=\"line\",\n",
    "    x=\"dag_size_limit\",\n",
    "    y=\"size\",\n",
    "    hue=\"scenario\",\n",
    "    col=\"protocol\",\n",
    "    col_wrap=3,\n",
    ").set(yscale=\"log\")"
   ]
  }
 ],
 "metadata": {
  "kernelspec": {
   "display_name": "Python 3 (ipykernel)",
   "language": "python",
   "name": "python3"
  },
  "language_info": {
   "codemirror_mode": {
    "name": "ipython",
    "version": 3
   },
   "file_extension": ".py",
   "mimetype": "text/x-python",
   "name": "python",
   "nbconvert_exporter": "python",
   "pygments_lexer": "ipython3",
   "version": "3.9.21"
  }
 },
 "nbformat": 4,
 "nbformat_minor": 5
}
