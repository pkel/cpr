{
 "cells": [
  {
   "cell_type": "code",
   "execution_count": 1,
   "id": "829da242-e613-4808-841e-9921993ca24e",
   "metadata": {
    "execution": {
     "iopub.execute_input": "2024-12-23T22:11:56.513861Z",
     "iopub.status.busy": "2024-12-23T22:11:56.513658Z",
     "iopub.status.idle": "2024-12-23T22:11:57.388055Z",
     "shell.execute_reply": "2024-12-23T22:11:57.387549Z"
    }
   },
   "outputs": [],
   "source": [
    "import pandas\n",
    "import seaborn\n",
    "import time\n",
    "\n",
    "from lib.compiler import Compiler\n",
    "from lib.models.generic_v0.model import mappable_params\n",
    "\n",
    "from lib.models.aft20barzur import BitcoinSM as AFT20BarZur\n",
    "from lib.models.fc16sapirshtein import BitcoinSM as FC16Sapirshtein\n",
    "\n",
    "from lib.models.generic_v1 import protocols as g1\n",
    "from lib.models.generic_v1.model import SingleAgent as G1Model\n",
    "\n",
    "from lib.models.generic_v0.bitcoin import Bitcoin as G0Bitcoin\n",
    "from lib.models.generic_v0.model import SelfishMining as G0Model"
   ]
  },
  {
   "cell_type": "code",
   "execution_count": 2,
   "id": "09c0bd5a-eca0-4a38-9caf-b99660c8bef0",
   "metadata": {
    "execution": {
     "iopub.execute_input": "2024-12-23T22:11:57.391325Z",
     "iopub.status.busy": "2024-12-23T22:11:57.391047Z",
     "iopub.status.idle": "2024-12-23T22:11:57.408529Z",
     "shell.execute_reply": "2024-12-23T22:11:57.408128Z"
    }
   },
   "outputs": [
    {
     "data": {
      "text/html": [
       "<div>\n",
       "<style scoped>\n",
       "    .dataframe tbody tr th:only-of-type {\n",
       "        vertical-align: middle;\n",
       "    }\n",
       "\n",
       "    .dataframe tbody tr th {\n",
       "        vertical-align: top;\n",
       "    }\n",
       "\n",
       "    .dataframe thead th {\n",
       "        text-align: right;\n",
       "    }\n",
       "</style>\n",
       "<table border=\"1\" class=\"dataframe\">\n",
       "  <thead>\n",
       "    <tr style=\"text-align: right;\">\n",
       "      <th></th>\n",
       "      <th>scenario</th>\n",
       "      <th>model</th>\n",
       "      <th>protocol</th>\n",
       "      <th>force_consider_own</th>\n",
       "      <th>merge_isomorphic</th>\n",
       "      <th>truncate_common_chain</th>\n",
       "      <th>collect_garbage</th>\n",
       "      <th>reward_common_chain</th>\n",
       "    </tr>\n",
       "  </thead>\n",
       "  <tbody>\n",
       "    <tr>\n",
       "      <th>0</th>\n",
       "      <td>baseline</td>\n",
       "      <td>generic_1</td>\n",
       "      <td>bitcoin</td>\n",
       "      <td>False</td>\n",
       "      <td>False</td>\n",
       "      <td>True</td>\n",
       "      <td>True</td>\n",
       "      <td>False</td>\n",
       "    </tr>\n",
       "    <tr>\n",
       "      <th>1</th>\n",
       "      <td>baseline</td>\n",
       "      <td>generic_1</td>\n",
       "      <td>ethereum_3</td>\n",
       "      <td>False</td>\n",
       "      <td>False</td>\n",
       "      <td>True</td>\n",
       "      <td>True</td>\n",
       "      <td>False</td>\n",
       "    </tr>\n",
       "    <tr>\n",
       "      <th>2</th>\n",
       "      <td>baseline</td>\n",
       "      <td>generic_1</td>\n",
       "      <td>byzantium_3</td>\n",
       "      <td>False</td>\n",
       "      <td>False</td>\n",
       "      <td>True</td>\n",
       "      <td>True</td>\n",
       "      <td>False</td>\n",
       "    </tr>\n",
       "    <tr>\n",
       "      <th>3</th>\n",
       "      <td>baseline</td>\n",
       "      <td>generic_1</td>\n",
       "      <td>ghostdag_3</td>\n",
       "      <td>False</td>\n",
       "      <td>False</td>\n",
       "      <td>True</td>\n",
       "      <td>True</td>\n",
       "      <td>False</td>\n",
       "    </tr>\n",
       "    <tr>\n",
       "      <th>4</th>\n",
       "      <td>baseline</td>\n",
       "      <td>generic_1</td>\n",
       "      <td>parallel_3</td>\n",
       "      <td>False</td>\n",
       "      <td>False</td>\n",
       "      <td>True</td>\n",
       "      <td>True</td>\n",
       "      <td>False</td>\n",
       "    </tr>\n",
       "    <tr>\n",
       "      <th>5</th>\n",
       "      <td>w/o collect garbage</td>\n",
       "      <td>generic_1</td>\n",
       "      <td>bitcoin</td>\n",
       "      <td>False</td>\n",
       "      <td>False</td>\n",
       "      <td>True</td>\n",
       "      <td>False</td>\n",
       "      <td>False</td>\n",
       "    </tr>\n",
       "    <tr>\n",
       "      <th>6</th>\n",
       "      <td>w/o collect garbage</td>\n",
       "      <td>generic_1</td>\n",
       "      <td>ethereum_3</td>\n",
       "      <td>False</td>\n",
       "      <td>False</td>\n",
       "      <td>True</td>\n",
       "      <td>False</td>\n",
       "      <td>False</td>\n",
       "    </tr>\n",
       "    <tr>\n",
       "      <th>7</th>\n",
       "      <td>w/o collect garbage</td>\n",
       "      <td>generic_1</td>\n",
       "      <td>byzantium_3</td>\n",
       "      <td>False</td>\n",
       "      <td>False</td>\n",
       "      <td>True</td>\n",
       "      <td>False</td>\n",
       "      <td>False</td>\n",
       "    </tr>\n",
       "    <tr>\n",
       "      <th>8</th>\n",
       "      <td>w/o collect garbage</td>\n",
       "      <td>generic_1</td>\n",
       "      <td>ghostdag_3</td>\n",
       "      <td>False</td>\n",
       "      <td>False</td>\n",
       "      <td>True</td>\n",
       "      <td>False</td>\n",
       "      <td>False</td>\n",
       "    </tr>\n",
       "    <tr>\n",
       "      <th>9</th>\n",
       "      <td>w/o collect garbage</td>\n",
       "      <td>generic_1</td>\n",
       "      <td>parallel_3</td>\n",
       "      <td>False</td>\n",
       "      <td>False</td>\n",
       "      <td>True</td>\n",
       "      <td>False</td>\n",
       "      <td>False</td>\n",
       "    </tr>\n",
       "    <tr>\n",
       "      <th>10</th>\n",
       "      <td>w/o truncate</td>\n",
       "      <td>generic_1</td>\n",
       "      <td>bitcoin</td>\n",
       "      <td>False</td>\n",
       "      <td>False</td>\n",
       "      <td>False</td>\n",
       "      <td>True</td>\n",
       "      <td>False</td>\n",
       "    </tr>\n",
       "    <tr>\n",
       "      <th>11</th>\n",
       "      <td>w/o truncate</td>\n",
       "      <td>generic_1</td>\n",
       "      <td>ethereum_3</td>\n",
       "      <td>False</td>\n",
       "      <td>False</td>\n",
       "      <td>False</td>\n",
       "      <td>True</td>\n",
       "      <td>False</td>\n",
       "    </tr>\n",
       "    <tr>\n",
       "      <th>12</th>\n",
       "      <td>w/o truncate</td>\n",
       "      <td>generic_1</td>\n",
       "      <td>byzantium_3</td>\n",
       "      <td>False</td>\n",
       "      <td>False</td>\n",
       "      <td>False</td>\n",
       "      <td>True</td>\n",
       "      <td>False</td>\n",
       "    </tr>\n",
       "    <tr>\n",
       "      <th>13</th>\n",
       "      <td>w/o truncate</td>\n",
       "      <td>generic_1</td>\n",
       "      <td>ghostdag_3</td>\n",
       "      <td>False</td>\n",
       "      <td>False</td>\n",
       "      <td>False</td>\n",
       "      <td>True</td>\n",
       "      <td>False</td>\n",
       "    </tr>\n",
       "    <tr>\n",
       "      <th>14</th>\n",
       "      <td>w/o truncate</td>\n",
       "      <td>generic_1</td>\n",
       "      <td>parallel_3</td>\n",
       "      <td>False</td>\n",
       "      <td>False</td>\n",
       "      <td>False</td>\n",
       "      <td>True</td>\n",
       "      <td>False</td>\n",
       "    </tr>\n",
       "    <tr>\n",
       "      <th>15</th>\n",
       "      <td>w/ force consider</td>\n",
       "      <td>generic_1</td>\n",
       "      <td>bitcoin</td>\n",
       "      <td>True</td>\n",
       "      <td>False</td>\n",
       "      <td>True</td>\n",
       "      <td>True</td>\n",
       "      <td>False</td>\n",
       "    </tr>\n",
       "    <tr>\n",
       "      <th>16</th>\n",
       "      <td>w/ force consider</td>\n",
       "      <td>generic_1</td>\n",
       "      <td>ethereum_3</td>\n",
       "      <td>True</td>\n",
       "      <td>False</td>\n",
       "      <td>True</td>\n",
       "      <td>True</td>\n",
       "      <td>False</td>\n",
       "    </tr>\n",
       "    <tr>\n",
       "      <th>17</th>\n",
       "      <td>w/ force consider</td>\n",
       "      <td>generic_1</td>\n",
       "      <td>byzantium_3</td>\n",
       "      <td>True</td>\n",
       "      <td>False</td>\n",
       "      <td>True</td>\n",
       "      <td>True</td>\n",
       "      <td>False</td>\n",
       "    </tr>\n",
       "    <tr>\n",
       "      <th>18</th>\n",
       "      <td>w/ force consider</td>\n",
       "      <td>generic_1</td>\n",
       "      <td>ghostdag_3</td>\n",
       "      <td>True</td>\n",
       "      <td>False</td>\n",
       "      <td>True</td>\n",
       "      <td>True</td>\n",
       "      <td>False</td>\n",
       "    </tr>\n",
       "    <tr>\n",
       "      <th>19</th>\n",
       "      <td>w/ force consider</td>\n",
       "      <td>generic_1</td>\n",
       "      <td>parallel_3</td>\n",
       "      <td>True</td>\n",
       "      <td>False</td>\n",
       "      <td>True</td>\n",
       "      <td>True</td>\n",
       "      <td>False</td>\n",
       "    </tr>\n",
       "    <tr>\n",
       "      <th>20</th>\n",
       "      <td>w/ normalization</td>\n",
       "      <td>generic_1</td>\n",
       "      <td>bitcoin</td>\n",
       "      <td>False</td>\n",
       "      <td>True</td>\n",
       "      <td>True</td>\n",
       "      <td>True</td>\n",
       "      <td>False</td>\n",
       "    </tr>\n",
       "    <tr>\n",
       "      <th>21</th>\n",
       "      <td>w/ normalization</td>\n",
       "      <td>generic_1</td>\n",
       "      <td>ethereum_3</td>\n",
       "      <td>False</td>\n",
       "      <td>True</td>\n",
       "      <td>True</td>\n",
       "      <td>True</td>\n",
       "      <td>False</td>\n",
       "    </tr>\n",
       "    <tr>\n",
       "      <th>22</th>\n",
       "      <td>w/ normalization</td>\n",
       "      <td>generic_1</td>\n",
       "      <td>byzantium_3</td>\n",
       "      <td>False</td>\n",
       "      <td>True</td>\n",
       "      <td>True</td>\n",
       "      <td>True</td>\n",
       "      <td>False</td>\n",
       "    </tr>\n",
       "    <tr>\n",
       "      <th>23</th>\n",
       "      <td>w/ normalization</td>\n",
       "      <td>generic_1</td>\n",
       "      <td>ghostdag_3</td>\n",
       "      <td>False</td>\n",
       "      <td>True</td>\n",
       "      <td>True</td>\n",
       "      <td>True</td>\n",
       "      <td>False</td>\n",
       "    </tr>\n",
       "    <tr>\n",
       "      <th>24</th>\n",
       "      <td>w/ normalization</td>\n",
       "      <td>generic_1</td>\n",
       "      <td>parallel_3</td>\n",
       "      <td>False</td>\n",
       "      <td>True</td>\n",
       "      <td>True</td>\n",
       "      <td>True</td>\n",
       "      <td>False</td>\n",
       "    </tr>\n",
       "    <tr>\n",
       "      <th>25</th>\n",
       "      <td>w/ both</td>\n",
       "      <td>generic_1</td>\n",
       "      <td>bitcoin</td>\n",
       "      <td>True</td>\n",
       "      <td>True</td>\n",
       "      <td>True</td>\n",
       "      <td>True</td>\n",
       "      <td>False</td>\n",
       "    </tr>\n",
       "    <tr>\n",
       "      <th>26</th>\n",
       "      <td>w/ both</td>\n",
       "      <td>generic_1</td>\n",
       "      <td>ethereum_3</td>\n",
       "      <td>True</td>\n",
       "      <td>True</td>\n",
       "      <td>True</td>\n",
       "      <td>True</td>\n",
       "      <td>False</td>\n",
       "    </tr>\n",
       "    <tr>\n",
       "      <th>27</th>\n",
       "      <td>w/ both</td>\n",
       "      <td>generic_1</td>\n",
       "      <td>byzantium_3</td>\n",
       "      <td>True</td>\n",
       "      <td>True</td>\n",
       "      <td>True</td>\n",
       "      <td>True</td>\n",
       "      <td>False</td>\n",
       "    </tr>\n",
       "    <tr>\n",
       "      <th>28</th>\n",
       "      <td>w/ both</td>\n",
       "      <td>generic_1</td>\n",
       "      <td>ghostdag_3</td>\n",
       "      <td>True</td>\n",
       "      <td>True</td>\n",
       "      <td>True</td>\n",
       "      <td>True</td>\n",
       "      <td>False</td>\n",
       "    </tr>\n",
       "    <tr>\n",
       "      <th>29</th>\n",
       "      <td>w/ both</td>\n",
       "      <td>generic_1</td>\n",
       "      <td>parallel_3</td>\n",
       "      <td>True</td>\n",
       "      <td>True</td>\n",
       "      <td>True</td>\n",
       "      <td>True</td>\n",
       "      <td>False</td>\n",
       "    </tr>\n",
       "  </tbody>\n",
       "</table>\n",
       "</div>"
      ],
      "text/plain": [
       "               scenario      model     protocol  force_consider_own  \\\n",
       "0              baseline  generic_1      bitcoin               False   \n",
       "1              baseline  generic_1   ethereum_3               False   \n",
       "2              baseline  generic_1  byzantium_3               False   \n",
       "3              baseline  generic_1   ghostdag_3               False   \n",
       "4              baseline  generic_1   parallel_3               False   \n",
       "5   w/o collect garbage  generic_1      bitcoin               False   \n",
       "6   w/o collect garbage  generic_1   ethereum_3               False   \n",
       "7   w/o collect garbage  generic_1  byzantium_3               False   \n",
       "8   w/o collect garbage  generic_1   ghostdag_3               False   \n",
       "9   w/o collect garbage  generic_1   parallel_3               False   \n",
       "10         w/o truncate  generic_1      bitcoin               False   \n",
       "11         w/o truncate  generic_1   ethereum_3               False   \n",
       "12         w/o truncate  generic_1  byzantium_3               False   \n",
       "13         w/o truncate  generic_1   ghostdag_3               False   \n",
       "14         w/o truncate  generic_1   parallel_3               False   \n",
       "15    w/ force consider  generic_1      bitcoin                True   \n",
       "16    w/ force consider  generic_1   ethereum_3                True   \n",
       "17    w/ force consider  generic_1  byzantium_3                True   \n",
       "18    w/ force consider  generic_1   ghostdag_3                True   \n",
       "19    w/ force consider  generic_1   parallel_3                True   \n",
       "20     w/ normalization  generic_1      bitcoin               False   \n",
       "21     w/ normalization  generic_1   ethereum_3               False   \n",
       "22     w/ normalization  generic_1  byzantium_3               False   \n",
       "23     w/ normalization  generic_1   ghostdag_3               False   \n",
       "24     w/ normalization  generic_1   parallel_3               False   \n",
       "25              w/ both  generic_1      bitcoin                True   \n",
       "26              w/ both  generic_1   ethereum_3                True   \n",
       "27              w/ both  generic_1  byzantium_3                True   \n",
       "28              w/ both  generic_1   ghostdag_3                True   \n",
       "29              w/ both  generic_1   parallel_3                True   \n",
       "\n",
       "    merge_isomorphic  truncate_common_chain  collect_garbage  \\\n",
       "0              False                   True             True   \n",
       "1              False                   True             True   \n",
       "2              False                   True             True   \n",
       "3              False                   True             True   \n",
       "4              False                   True             True   \n",
       "5              False                   True            False   \n",
       "6              False                   True            False   \n",
       "7              False                   True            False   \n",
       "8              False                   True            False   \n",
       "9              False                   True            False   \n",
       "10             False                  False             True   \n",
       "11             False                  False             True   \n",
       "12             False                  False             True   \n",
       "13             False                  False             True   \n",
       "14             False                  False             True   \n",
       "15             False                   True             True   \n",
       "16             False                   True             True   \n",
       "17             False                   True             True   \n",
       "18             False                   True             True   \n",
       "19             False                   True             True   \n",
       "20              True                   True             True   \n",
       "21              True                   True             True   \n",
       "22              True                   True             True   \n",
       "23              True                   True             True   \n",
       "24              True                   True             True   \n",
       "25              True                   True             True   \n",
       "26              True                   True             True   \n",
       "27              True                   True             True   \n",
       "28              True                   True             True   \n",
       "29              True                   True             True   \n",
       "\n",
       "    reward_common_chain  \n",
       "0                 False  \n",
       "1                 False  \n",
       "2                 False  \n",
       "3                 False  \n",
       "4                 False  \n",
       "5                 False  \n",
       "6                 False  \n",
       "7                 False  \n",
       "8                 False  \n",
       "9                 False  \n",
       "10                False  \n",
       "11                False  \n",
       "12                False  \n",
       "13                False  \n",
       "14                False  \n",
       "15                False  \n",
       "16                False  \n",
       "17                False  \n",
       "18                False  \n",
       "19                False  \n",
       "20                False  \n",
       "21                False  \n",
       "22                False  \n",
       "23                False  \n",
       "24                False  \n",
       "25                False  \n",
       "26                False  \n",
       "27                False  \n",
       "28                False  \n",
       "29                False  "
      ]
     },
     "execution_count": 2,
     "metadata": {},
     "output_type": "execute_result"
    }
   ],
   "source": [
    "network = mappable_params\n",
    "\n",
    "models = []\n",
    "implicit_mdps = []\n",
    "\n",
    "\n",
    "def add_model(*, implicit_mdp, **model):\n",
    "    models.append(model)\n",
    "    implicit_mdps.append(implicit_mdp)\n",
    "\n",
    "\n",
    "# related work baseline\n",
    "\n",
    "\n",
    "def _():\n",
    "    pass\n",
    "\n",
    "    add_model(\n",
    "        scenario=\"reference\",\n",
    "        model=\"fc16sapirshtein\",\n",
    "        force_consider_own=True,\n",
    "        merge_isomorphic=True,\n",
    "        truncate_common_chain=True,\n",
    "        collect_garbage=True,\n",
    "        reward_common_chain=True,\n",
    "        protocol=\"bitcoin\",\n",
    "        implicit_mdp=lambda c: FC16Sapirshtein(\n",
    "            **network, maximum_fork_length=c\n",
    "        ),  # TODO implement DAG size cutoff for this model\n",
    "    )\n",
    "\n",
    "    add_model(\n",
    "        scenario=\"reference-v0\",\n",
    "        model=\"generic_0\",\n",
    "        force_consider_own=True,\n",
    "        merge_isomorphic=True,\n",
    "        truncate_common_chain=True,\n",
    "        collect_garbage=True,\n",
    "        reward_common_chain=True,\n",
    "        protocol=\"bitcoin\",\n",
    "        implicit_mdp=lambda c: G0Model(\n",
    "            G0Bitcoin(),\n",
    "            **network,\n",
    "            maximum_size=c,\n",
    "            force_consider_own=True,\n",
    "            merge_isomorphic=True,\n",
    "        ),\n",
    "    )\n",
    "\n",
    "\n",
    "# our baseline: garbage collection + common chain truncation\n",
    "# we want to compare to:\n",
    "# - no common chain truncation (all infinite)\n",
    "# - no garbage collection (infinite for protocols that allow stale blocks)\n",
    "# - plus force-consider-own\n",
    "# - plus merge-isomorphic\n",
    "# - plus both\n",
    "\n",
    "\n",
    "def add_scenario(\n",
    "    scenario,\n",
    "    *,\n",
    "    collect_garbage=True,\n",
    "    truncate_common_chain=True,\n",
    "    force_consider_own=False,\n",
    "    merge_isomorphic=False,\n",
    "):\n",
    "    def f(protocol_s, protocol_C, **protocol_args):\n",
    "        model_args = dict(\n",
    "            force_consider_own=force_consider_own,\n",
    "            merge_isomorphic=merge_isomorphic,\n",
    "            truncate_common_chain=truncate_common_chain,\n",
    "            collect_garbage=collect_garbage,\n",
    "            reward_common_chain=False,\n",
    "        )\n",
    "        add_model(\n",
    "            scenario=scenario,\n",
    "            model=\"generic_1\",\n",
    "            protocol=protocol_s,\n",
    "            **model_args,\n",
    "            implicit_mdp=lambda c: G1Model(\n",
    "                protocol_C,\n",
    "                **protocol_args,\n",
    "                **network,\n",
    "                **model_args,\n",
    "                dag_size_cutoff=c,\n",
    "            ),\n",
    "        )\n",
    "\n",
    "    f(\"bitcoin\", g1.Bitcoin)\n",
    "    f(\"ethereum_3\", g1.Ethereum, h=3)\n",
    "    f(\"byzantium_3\", g1.Byzantium, h=3)\n",
    "    f(\"ghostdag_3\", g1.Ghostdag, k=3)\n",
    "    f(\"parallel_3\", g1.Parallel, k=3)\n",
    "\n",
    "\n",
    "add_scenario(\"baseline\")\n",
    "add_scenario(\"w/o collect garbage\", collect_garbage=False)\n",
    "add_scenario(\"w/o truncate\", truncate_common_chain=False)\n",
    "add_scenario(\"w/ force consider\", force_consider_own=True)\n",
    "add_scenario(\"w/ normalization\", merge_isomorphic=True)\n",
    "add_scenario(\"w/ both\", force_consider_own=True, merge_isomorphic=True)\n",
    "\n",
    "models = pandas.DataFrame(models)\n",
    "models"
   ]
  },
  {
   "cell_type": "code",
   "execution_count": 3,
   "id": "0eefcfab-91a2-4db9-b1fa-202fed55f287",
   "metadata": {
    "execution": {
     "iopub.execute_input": "2024-12-23T22:11:57.410518Z",
     "iopub.status.busy": "2024-12-23T22:11:57.410153Z",
     "iopub.status.idle": "2024-12-23T22:11:57.527674Z",
     "shell.execute_reply": "2024-12-23T22:11:57.526954Z"
    }
   },
   "outputs": [],
   "source": [
    "!mkdir -p 5-generated-mdps"
   ]
  },
  {
   "cell_type": "code",
   "execution_count": 4,
   "id": "2c8b9932-6092-40ef-9d78-9877e534aae6",
   "metadata": {
    "execution": {
     "iopub.execute_input": "2024-12-23T22:11:57.530780Z",
     "iopub.status.busy": "2024-12-23T22:11:57.530204Z",
     "iopub.status.idle": "2024-12-23T23:32:02.331588Z",
     "shell.execute_reply": "2024-12-23T23:32:02.331113Z"
    }
   },
   "outputs": [
    {
     "name": "stdout",
     "output_type": "stream",
     "text": [
      "\r",
      "scenario: baseline\tprotocol: bitcoin\tdag_size_limit: 2\tsize: 6\ttime_spent: 0.0026832549992832355\trss: 0.1734466552734375\tabort: False                      "
     ]
    },
    {
     "name": "stdout",
     "output_type": "stream",
     "text": [
      "\r",
      "scenario: baseline\tprotocol: bitcoin\tdag_size_limit: 3\tsize: 34\ttime_spent: 0.011136455002997536\trss: 0.1739349365234375\tabort: False                      "
     ]
    },
    {
     "name": "stdout",
     "output_type": "stream",
     "text": [
      "\r",
      "scenario: baseline\tprotocol: bitcoin\tdag_size_limit: 4\tsize: 267\ttime_spent: 0.09194788400054676\trss: 0.1757659912109375\tabort: False                      "
     ]
    },
    {
     "name": "stdout",
     "output_type": "stream",
     "text": [
      "\r",
      "scenario: baseline\tprotocol: bitcoin\tdag_size_limit: 5\tsize: 2332\ttime_spent: 1.3381185079997522\trss: 0.1906585693359375\tabort: False                      "
     ]
    },
    {
     "name": "stdout",
     "output_type": "stream",
     "text": [
      "\r",
      "scenario: baseline\tprotocol: bitcoin\tdag_size_limit: 6\tsize: 21327\ttime_spent: 14.33759013999952\trss: 0.3447113037109375\tabort: False                      "
     ]
    },
    {
     "name": "stdout",
     "output_type": "stream",
     "text": [
      "\r",
      "scenario: baseline\tprotocol: bitcoin\tdag_size_limit: 7\tsize: 100733\ttime_spent: 63.25032387400279\trss: 0.9973564147949219\tabort: True                      "
     ]
    },
    {
     "name": "stdout",
     "output_type": "stream",
     "text": [
      "\r",
      "scenario: baseline\tprotocol: ethereum_3\tdag_size_limit: 2\tsize: 6\ttime_spent: 0.002482716998201795\trss: 0.22460174560546875\tabort: False                      \r",
      "scenario: baseline\tprotocol: ethereum_3\tdag_size_limit: 3\tsize: 45\ttime_spent: 0.01728394200472394\trss: 0.2185821533203125\tabort: False                      "
     ]
    },
    {
     "name": "stdout",
     "output_type": "stream",
     "text": [
      "\r",
      "scenario: baseline\tprotocol: ethereum_3\tdag_size_limit: 4\tsize: 327\ttime_spent: 0.1261601009973674\trss: 0.2178497314453125\tabort: False                      "
     ]
    },
    {
     "name": "stdout",
     "output_type": "stream",
     "text": [
      "\r",
      "scenario: baseline\tprotocol: ethereum_3\tdag_size_limit: 5\tsize: 2981\ttime_spent: 1.602048824999656\trss: 0.21763992309570312\tabort: False                      "
     ]
    },
    {
     "name": "stdout",
     "output_type": "stream",
     "text": [
      "\r",
      "scenario: baseline\tprotocol: ethereum_3\tdag_size_limit: 6\tsize: 32961\ttime_spent: 23.533842345001176\trss: 0.4446907043457031\tabort: False                      "
     ]
    },
    {
     "name": "stdout",
     "output_type": "stream",
     "text": [
      "\r",
      "scenario: baseline\tprotocol: ethereum_3\tdag_size_limit: 7\tsize: 100084\ttime_spent: 68.06797834199824\trss: 0.9778099060058594\tabort: True                      "
     ]
    },
    {
     "name": "stdout",
     "output_type": "stream",
     "text": [
      "\r",
      "scenario: baseline\tprotocol: byzantium_3\tdag_size_limit: 2\tsize: 6\ttime_spent: 0.00256106500455644\trss: 0.2327728271484375\tabort: False                      \r",
      "scenario: baseline\tprotocol: byzantium_3\tdag_size_limit: 3\tsize: 45\ttime_spent: 0.018725132002145983\trss: 0.2252044677734375\tabort: False                      "
     ]
    },
    {
     "name": "stdout",
     "output_type": "stream",
     "text": [
      "\r",
      "scenario: baseline\tprotocol: byzantium_3\tdag_size_limit: 4\tsize: 327\ttime_spent: 0.13646379000419984\trss: 0.2244720458984375\tabort: False                      "
     ]
    },
    {
     "name": "stdout",
     "output_type": "stream",
     "text": [
      "\r",
      "scenario: baseline\tprotocol: byzantium_3\tdag_size_limit: 5\tsize: 2981\ttime_spent: 1.7113210770039586\trss: 0.22376632690429688\tabort: False                      "
     ]
    },
    {
     "name": "stdout",
     "output_type": "stream",
     "text": [
      "\r",
      "scenario: baseline\tprotocol: byzantium_3\tdag_size_limit: 6\tsize: 33016\ttime_spent: 25.439894208000624\trss: 0.4452018737792969\tabort: False                      "
     ]
    },
    {
     "name": "stdout",
     "output_type": "stream",
     "text": [
      "\r",
      "scenario: baseline\tprotocol: byzantium_3\tdag_size_limit: 7\tsize: 100073\ttime_spent: 72.05599050300225\trss: 0.977630615234375\tabort: True                      "
     ]
    },
    {
     "name": "stdout",
     "output_type": "stream",
     "text": [
      "\r",
      "scenario: baseline\tprotocol: ghostdag_3\tdag_size_limit: 2\tsize: 6\ttime_spent: 0.002378311000938993\trss: 0.23528289794921875\tabort: False                      \r",
      "scenario: baseline\tprotocol: ghostdag_3\tdag_size_limit: 3\tsize: 45\ttime_spent: 0.01915027100039879\trss: 0.227325439453125\tabort: False                      "
     ]
    },
    {
     "name": "stdout",
     "output_type": "stream",
     "text": [
      "\r",
      "scenario: baseline\tprotocol: ghostdag_3\tdag_size_limit: 4\tsize: 352\ttime_spent: 0.1696431240052334\trss: 0.227081298828125\tabort: False                      "
     ]
    },
    {
     "name": "stdout",
     "output_type": "stream",
     "text": [
      "\r",
      "scenario: baseline\tprotocol: ghostdag_3\tdag_size_limit: 5\tsize: 3712\ttime_spent: 2.6395994009944843\trss: 0.226837158203125\tabort: False                      "
     ]
    },
    {
     "name": "stdout",
     "output_type": "stream",
     "text": [
      "\r",
      "scenario: baseline\tprotocol: ghostdag_3\tdag_size_limit: 6\tsize: 46966\ttime_spent: 42.39117695699679\trss: 0.543609619140625\tabort: False                      "
     ]
    },
    {
     "name": "stdout",
     "output_type": "stream",
     "text": [
      "\r",
      "scenario: baseline\tprotocol: ghostdag_3\tdag_size_limit: 7\tsize: 100114\ttime_spent: 77.56531772499875\trss: 0.9434738159179688\tabort: True                      "
     ]
    },
    {
     "name": "stdout",
     "output_type": "stream",
     "text": [
      "\r",
      "scenario: baseline\tprotocol: parallel_3\tdag_size_limit: 2\tsize: 76\ttime_spent: 0.026548287998593878\trss: 0.429412841796875\tabort: False                      \r",
      "scenario: baseline\tprotocol: parallel_3\tdag_size_limit: 3\tsize: 90\ttime_spent: 0.03069949199561961\trss: 0.285369873046875\tabort: False                      "
     ]
    },
    {
     "name": "stdout",
     "output_type": "stream",
     "text": [
      "\r",
      "scenario: baseline\tprotocol: parallel_3\tdag_size_limit: 4\tsize: 206\ttime_spent: 0.07690048700169427\trss: 0.282928466796875\tabort: False                      "
     ]
    },
    {
     "name": "stdout",
     "output_type": "stream",
     "text": [
      "\r",
      "scenario: baseline\tprotocol: parallel_3\tdag_size_limit: 5\tsize: 1189\ttime_spent: 0.6203257189990836\trss: 0.282928466796875\tabort: False                      "
     ]
    },
    {
     "name": "stdout",
     "output_type": "stream",
     "text": [
      "\r",
      "scenario: baseline\tprotocol: parallel_3\tdag_size_limit: 6\tsize: 9122\ttime_spent: 5.645695794002677\trss: 0.280853271484375\tabort: False                      "
     ]
    },
    {
     "name": "stdout",
     "output_type": "stream",
     "text": [
      "\r",
      "scenario: baseline\tprotocol: parallel_3\tdag_size_limit: 7\tsize: 83355\ttime_spent: 59.96182571999816\trss: 0.9359283447265625\tabort: False                      "
     ]
    },
    {
     "name": "stdout",
     "output_type": "stream",
     "text": [
      "\r",
      "scenario: baseline\tprotocol: parallel_3\tdag_size_limit: 8\tsize: 100730\ttime_spent: 70.12195159600378\trss: 1.0871353149414062\tabort: True                      "
     ]
    },
    {
     "name": "stdout",
     "output_type": "stream",
     "text": [
      "\r",
      "scenario: w/o collect garbage\tprotocol: bitcoin\tdag_size_limit: 2\tsize: 6\ttime_spent: 0.0016617639994365163\trss: 0.244171142578125\tabort: False                      "
     ]
    },
    {
     "name": "stdout",
     "output_type": "stream",
     "text": [
      "\r",
      "scenario: w/o collect garbage\tprotocol: bitcoin\tdag_size_limit: 3\tsize: 100674\ttime_spent: 42.28143715600163\trss: 1.410797119140625\tabort: True                      "
     ]
    },
    {
     "name": "stdout",
     "output_type": "stream",
     "text": [
      "\r",
      "scenario: w/o collect garbage\tprotocol: ethereum_3\tdag_size_limit: 2\tsize: 6\ttime_spent: 0.0019183170006726868\trss: 0.2543830871582031\tabort: False                      \r",
      "scenario: w/o collect garbage\tprotocol: ethereum_3\tdag_size_limit: 3\tsize: 85\ttime_spent: 0.022645851997367572\trss: 0.24593353271484375\tabort: False                      "
     ]
    },
    {
     "name": "stdout",
     "output_type": "stream",
     "text": [
      "\r",
      "scenario: w/o collect garbage\tprotocol: ethereum_3\tdag_size_limit: 4\tsize: 465\ttime_spent: 0.12220328200055519\trss: 0.24568939208984375\tabort: False                      "
     ]
    },
    {
     "name": "stdout",
     "output_type": "stream",
     "text": [
      "\r",
      "scenario: w/o collect garbage\tprotocol: ethereum_3\tdag_size_limit: 5\tsize: 100667\ttime_spent: 50.17876095700194\trss: 1.3817977905273438\tabort: True                      "
     ]
    },
    {
     "name": "stdout",
     "output_type": "stream",
     "text": [
      "\r",
      "scenario: w/o collect garbage\tprotocol: byzantium_3\tdag_size_limit: 2\tsize: 6\ttime_spent: 0.0019583210014388897\trss: 0.24876022338867188\tabort: False                      \r",
      "scenario: w/o collect garbage\tprotocol: byzantium_3\tdag_size_limit: 3\tsize: 85\ttime_spent: 0.025612880002881866\trss: 0.24265670776367188\tabort: False                      "
     ]
    },
    {
     "name": "stdout",
     "output_type": "stream",
     "text": [
      "\r",
      "scenario: w/o collect garbage\tprotocol: byzantium_3\tdag_size_limit: 4\tsize: 465\ttime_spent: 0.13602281100611435\trss: 0.24246978759765625\tabort: False                      "
     ]
    },
    {
     "name": "stdout",
     "output_type": "stream",
     "text": [
      "\r",
      "scenario: w/o collect garbage\tprotocol: byzantium_3\tdag_size_limit: 5\tsize: 100608\ttime_spent: 60.31867181099369\trss: 1.3805313110351562\tabort: True                      "
     ]
    },
    {
     "name": "stdout",
     "output_type": "stream",
     "text": [
      "\r",
      "scenario: w/o collect garbage\tprotocol: ghostdag_3\tdag_size_limit: 2\tsize: 6\ttime_spent: 0.0018367829979979433\trss: 0.244659423828125\tabort: False                      \r",
      "scenario: w/o collect garbage\tprotocol: ghostdag_3\tdag_size_limit: 3\tsize: 45\ttime_spent: 0.014651684003183618\trss: 0.238800048828125\tabort: False                      "
     ]
    },
    {
     "name": "stdout",
     "output_type": "stream",
     "text": [
      "\r",
      "scenario: w/o collect garbage\tprotocol: ghostdag_3\tdag_size_limit: 4\tsize: 367\ttime_spent: 0.14250820300367195\trss: 0.238067626953125\tabort: False                      "
     ]
    },
    {
     "name": "stdout",
     "output_type": "stream",
     "text": [
      "\r",
      "scenario: w/o collect garbage\tprotocol: ghostdag_3\tdag_size_limit: 5\tsize: 4107\ttime_spent: 2.3810357230031514\trss: 0.237823486328125\tabort: False                      "
     ]
    },
    {
     "name": "stdout",
     "output_type": "stream",
     "text": [
      "\r",
      "scenario: w/o collect garbage\tprotocol: ghostdag_3\tdag_size_limit: 6\tsize: 56277\ttime_spent: 41.83982773799653\trss: 0.610015869140625\tabort: False                      "
     ]
    },
    {
     "name": "stdout",
     "output_type": "stream",
     "text": [
      "\r",
      "scenario: w/o collect garbage\tprotocol: ghostdag_3\tdag_size_limit: 7\tsize: 100407\ttime_spent: 54.97101937299885\trss: 0.953399658203125\tabort: True                      "
     ]
    },
    {
     "name": "stdout",
     "output_type": "stream",
     "text": [
      "\r",
      "scenario: w/o collect garbage\tprotocol: parallel_3\tdag_size_limit: 2\tsize: 76\ttime_spent: 0.018641565002326388\trss: 0.44451904296875\tabort: False                      \r",
      "scenario: w/o collect garbage\tprotocol: parallel_3\tdag_size_limit: 3\tsize: 90\ttime_spent: 0.020412964004208334\trss: 0.30786895751953125\tabort: False                      "
     ]
    },
    {
     "name": "stdout",
     "output_type": "stream",
     "text": [
      "\r",
      "scenario: w/o collect garbage\tprotocol: parallel_3\tdag_size_limit: 4\tsize: 206\ttime_spent: 0.0480125690010027\trss: 0.30493927001953125\tabort: False                      "
     ]
    },
    {
     "name": "stdout",
     "output_type": "stream",
     "text": [
      "\r",
      "scenario: w/o collect garbage\tprotocol: parallel_3\tdag_size_limit: 5\tsize: 100342\ttime_spent: 37.864883834001375\trss: 1.4156684875488281\tabort: True                      "
     ]
    },
    {
     "name": "stdout",
     "output_type": "stream",
     "text": [
      "\r",
      "scenario: w/o truncate\tprotocol: bitcoin\tdag_size_limit: 2\tsize: 100680\ttime_spent: 53.134271814000385\trss: 1.6001167297363281\tabort: True                      "
     ]
    },
    {
     "name": "stdout",
     "output_type": "stream",
     "text": [
      "\r",
      "scenario: w/o truncate\tprotocol: ethereum_3\tdag_size_limit: 2\tsize: 100680\ttime_spent: 73.8499095599982\trss: 1.6108589172363281\tabort: True                      "
     ]
    },
    {
     "name": "stdout",
     "output_type": "stream",
     "text": [
      "\r",
      "scenario: w/o truncate\tprotocol: byzantium_3\tdag_size_limit: 2\tsize: 100680\ttime_spent: 86.28941188500175\trss: 1.6109809875488281\tabort: True                      "
     ]
    },
    {
     "name": "stdout",
     "output_type": "stream",
     "text": [
      "\r",
      "scenario: w/o truncate\tprotocol: ghostdag_3\tdag_size_limit: 2\tsize: 100680\ttime_spent: 108.66699104999861\trss: 1.6109809875488281\tabort: True                      "
     ]
    },
    {
     "name": "stdout",
     "output_type": "stream",
     "text": [
      "\r",
      "scenario: w/o truncate\tprotocol: parallel_3\tdag_size_limit: 2\tsize: 100680\ttime_spent: 60.83465647000412\trss: 1.6109809875488281\tabort: True                      "
     ]
    },
    {
     "name": "stdout",
     "output_type": "stream",
     "text": [
      "\r",
      "scenario: w/ force consider\tprotocol: bitcoin\tdag_size_limit: 2\tsize: 5\ttime_spent: 0.0021136240029591136\trss: 0.2906684875488281\tabort: False                      \r",
      "scenario: w/ force consider\tprotocol: bitcoin\tdag_size_limit: 3\tsize: 21\ttime_spent: 0.007505130000936333\trss: 0.2726631164550781\tabort: False                      \r",
      "scenario: w/ force consider\tprotocol: bitcoin\tdag_size_limit: 4\tsize: 58\ttime_spent: 0.020301767995988484\trss: 0.2690010070800781\tabort: False                      "
     ]
    },
    {
     "name": "stdout",
     "output_type": "stream",
     "text": [
      "\r",
      "scenario: w/ force consider\tprotocol: bitcoin\tdag_size_limit: 5\tsize: 186\ttime_spent: 0.07776948000537232\trss: 0.2687568664550781\tabort: False                      "
     ]
    },
    {
     "name": "stdout",
     "output_type": "stream",
     "text": [
      "\r",
      "scenario: w/ force consider\tprotocol: bitcoin\tdag_size_limit: 6\tsize: 549\ttime_spent: 0.251835940995079\trss: 0.2685127258300781\tabort: False                      "
     ]
    },
    {
     "name": "stdout",
     "output_type": "stream",
     "text": [
      "\r",
      "scenario: w/ force consider\tprotocol: bitcoin\tdag_size_limit: 7\tsize: 1650\ttime_spent: 0.978897043998586\trss: 0.2682685852050781\tabort: False                      "
     ]
    },
    {
     "name": "stdout",
     "output_type": "stream",
     "text": [
      "\r",
      "scenario: w/ force consider\tprotocol: bitcoin\tdag_size_limit: 8\tsize: 4968\ttime_spent: 3.3691426890000002\trss: 0.2672920227050781\tabort: False                      "
     ]
    },
    {
     "name": "stdout",
     "output_type": "stream",
     "text": [
      "\r",
      "scenario: w/ force consider\tprotocol: bitcoin\tdag_size_limit: 9\tsize: 15172\ttime_spent: 12.808679964997282\trss: 0.3609199523925781\tabort: False                      "
     ]
    },
    {
     "name": "stdout",
     "output_type": "stream",
     "text": [
      "\r",
      "scenario: w/ force consider\tprotocol: bitcoin\tdag_size_limit: 10\tsize: 46756\ttime_spent: 43.83195129499654\trss: 0.7016181945800781\tabort: False                      "
     ]
    },
    {
     "name": "stdout",
     "output_type": "stream",
     "text": [
      "\r",
      "scenario: w/ force consider\tprotocol: bitcoin\tdag_size_limit: 11\tsize: 100126\ttime_spent: 92.14839389800181\trss: 1.2978172302246094\tabort: True                      "
     ]
    },
    {
     "name": "stdout",
     "output_type": "stream",
     "text": [
      "\r",
      "scenario: w/ force consider\tprotocol: ethereum_3\tdag_size_limit: 2\tsize: 5\ttime_spent: 0.002429247004329227\trss: 0.2828636169433594\tabort: False                      \r",
      "scenario: w/ force consider\tprotocol: ethereum_3\tdag_size_limit: 3\tsize: 41\ttime_spent: 0.0198189199945773\trss: 0.2745628356933594\tabort: False                      \r",
      "scenario: w/ force consider\tprotocol: ethereum_3\tdag_size_limit: 4\tsize: 78\ttime_spent: 0.03479126899765106\trss: 0.2721214294433594\tabort: False                      "
     ]
    },
    {
     "name": "stdout",
     "output_type": "stream",
     "text": [
      "\r",
      "scenario: w/ force consider\tprotocol: ethereum_3\tdag_size_limit: 5\tsize: 290\ttime_spent: 0.15080424799816683\trss: 0.27196502685546875\tabort: False                      "
     ]
    },
    {
     "name": "stdout",
     "output_type": "stream",
     "text": [
      "\r",
      "scenario: w/ force consider\tprotocol: ethereum_3\tdag_size_limit: 6\tsize: 1179\ttime_spent: 0.7503224050014978\trss: 0.2714805603027344\tabort: False                      "
     ]
    },
    {
     "name": "stdout",
     "output_type": "stream",
     "text": [
      "\r",
      "scenario: w/ force consider\tprotocol: ethereum_3\tdag_size_limit: 7\tsize: 4123\ttime_spent: 2.993852068000706\trss: 0.2687950134277344\tabort: False                      "
     ]
    },
    {
     "name": "stdout",
     "output_type": "stream",
     "text": [
      "\r",
      "scenario: w/ force consider\tprotocol: ethereum_3\tdag_size_limit: 8\tsize: 15257\ttime_spent: 12.558363420001115\trss: 0.3531074523925781\tabort: False                      "
     ]
    },
    {
     "name": "stdout",
     "output_type": "stream",
     "text": [
      "\r",
      "scenario: w/ force consider\tprotocol: ethereum_3\tdag_size_limit: 9\tsize: 57506\ttime_spent: 53.6984122740032\trss: 0.7858467102050781\tabort: False                      "
     ]
    },
    {
     "name": "stdout",
     "output_type": "stream",
     "text": [
      "\r",
      "scenario: w/ force consider\tprotocol: ethereum_3\tdag_size_limit: 10\tsize: 100450\ttime_spent: 92.19314544300141\trss: 1.2316474914550781\tabort: True                      "
     ]
    },
    {
     "name": "stdout",
     "output_type": "stream",
     "text": [
      "\r",
      "scenario: w/ force consider\tprotocol: byzantium_3\tdag_size_limit: 2\tsize: 5\ttime_spent: 0.002919828999438323\trss: 0.28794097900390625\tabort: False                      \r",
      "scenario: w/ force consider\tprotocol: byzantium_3\tdag_size_limit: 3\tsize: 41\ttime_spent: 0.021877539998968132\trss: 0.27646636962890625\tabort: False                      \r",
      "scenario: w/ force consider\tprotocol: byzantium_3\tdag_size_limit: 4\tsize: 78\ttime_spent: 0.0382837049983209\trss: 0.2740364074707031\tabort: False                      "
     ]
    },
    {
     "name": "stdout",
     "output_type": "stream",
     "text": [
      "\r",
      "scenario: w/ force consider\tprotocol: byzantium_3\tdag_size_limit: 5\tsize: 290\ttime_spent: 0.16755328600265784\trss: 0.2740364074707031\tabort: False                      "
     ]
    },
    {
     "name": "stdout",
     "output_type": "stream",
     "text": [
      "\r",
      "scenario: w/ force consider\tprotocol: byzantium_3\tdag_size_limit: 6\tsize: 1109\ttime_spent: 0.7864871259953361\trss: 0.2737922668457031\tabort: False                      "
     ]
    },
    {
     "name": "stdout",
     "output_type": "stream",
     "text": [
      "\r",
      "scenario: w/ force consider\tprotocol: byzantium_3\tdag_size_limit: 7\tsize: 3850\ttime_spent: 3.1209905529976822\trss: 0.2735481262207031\tabort: False                      "
     ]
    },
    {
     "name": "stdout",
     "output_type": "stream",
     "text": [
      "\r",
      "scenario: w/ force consider\tprotocol: byzantium_3\tdag_size_limit: 8\tsize: 14595\ttime_spent: 13.819144706998486\trss: 0.3484992980957031\tabort: False                      "
     ]
    },
    {
     "name": "stdout",
     "output_type": "stream",
     "text": [
      "\r",
      "scenario: w/ force consider\tprotocol: byzantium_3\tdag_size_limit: 9\tsize: 54285\ttime_spent: 56.96143772800133\trss: 0.7537727355957031\tabort: False                      "
     ]
    },
    {
     "name": "stdout",
     "output_type": "stream",
     "text": [
      "\r",
      "scenario: w/ force consider\tprotocol: byzantium_3\tdag_size_limit: 10\tsize: 100686\ttime_spent: 101.91893334099586\trss: 1.2354621887207031\tabort: True                      "
     ]
    },
    {
     "name": "stdout",
     "output_type": "stream",
     "text": [
      "\r",
      "scenario: w/ force consider\tprotocol: ghostdag_3\tdag_size_limit: 2\tsize: 5\ttime_spent: 0.0023281469984794967\trss: 0.2904853820800781\tabort: False                      \r",
      "scenario: w/ force consider\tprotocol: ghostdag_3\tdag_size_limit: 3\tsize: 23\ttime_spent: 0.011723962001269683\trss: 0.2755928039550781\tabort: False                      \r",
      "scenario: w/ force consider\tprotocol: ghostdag_3\tdag_size_limit: 4\tsize: 84\ttime_spent: 0.04703657999925781\trss: 0.2738838195800781\tabort: False                      "
     ]
    },
    {
     "name": "stdout",
     "output_type": "stream",
     "text": [
      "\r",
      "scenario: w/ force consider\tprotocol: ghostdag_3\tdag_size_limit: 5\tsize: 350\ttime_spent: 0.2652067090020864\trss: 0.2738838195800781\tabort: False                      "
     ]
    },
    {
     "name": "stdout",
     "output_type": "stream",
     "text": [
      "\r",
      "scenario: w/ force consider\tprotocol: ghostdag_3\tdag_size_limit: 6\tsize: 1527\ttime_spent: 1.5061838239998906\trss: 0.2737236022949219\tabort: False                      "
     ]
    },
    {
     "name": "stdout",
     "output_type": "stream",
     "text": [
      "\r",
      "scenario: w/ force consider\tprotocol: ghostdag_3\tdag_size_limit: 7\tsize: 6739\ttime_spent: 8.836622121998516\trss: 0.27306365966796875\tabort: False                      "
     ]
    },
    {
     "name": "stdout",
     "output_type": "stream",
     "text": [
      "\r",
      "scenario: w/ force consider\tprotocol: ghostdag_3\tdag_size_limit: 8\tsize: 31192\ttime_spent: 51.56245204600418\trss: 0.49388885498046875\tabort: False                      "
     ]
    },
    {
     "name": "stdout",
     "output_type": "stream",
     "text": [
      "\r",
      "scenario: w/ force consider\tprotocol: ghostdag_3\tdag_size_limit: 9\tsize: 100585\ttime_spent: 142.31056190600066\trss: 1.143463134765625\tabort: True                      "
     ]
    },
    {
     "name": "stdout",
     "output_type": "stream",
     "text": [
      "\r",
      "scenario: w/ force consider\tprotocol: parallel_3\tdag_size_limit: 2\tsize: 61\ttime_spent: 0.024480481995851733\trss: 0.46131134033203125\tabort: False                      \r",
      "scenario: w/ force consider\tprotocol: parallel_3\tdag_size_limit: 3\tsize: 69\ttime_spent: 0.02668128899676958\trss: 0.32312774658203125\tabort: False                      "
     ]
    },
    {
     "name": "stdout",
     "output_type": "stream",
     "text": [
      "\r",
      "scenario: w/ force consider\tprotocol: parallel_3\tdag_size_limit: 4\tsize: 119\ttime_spent: 0.044582532995264046\trss: 0.31678009033203125\tabort: False                      "
     ]
    },
    {
     "name": "stdout",
     "output_type": "stream",
     "text": [
      "\r",
      "scenario: w/ force consider\tprotocol: parallel_3\tdag_size_limit: 5\tsize: 470\ttime_spent: 0.18856657699507196\trss: 0.31612396240234375\tabort: False                      "
     ]
    },
    {
     "name": "stdout",
     "output_type": "stream",
     "text": [
      "\r",
      "scenario: w/ force consider\tprotocol: parallel_3\tdag_size_limit: 6\tsize: 2175\ttime_spent: 1.1541010879955138\trss: 0.31563568115234375\tabort: False                      "
     ]
    },
    {
     "name": "stdout",
     "output_type": "stream",
     "text": [
      "\r",
      "scenario: w/ force consider\tprotocol: parallel_3\tdag_size_limit: 7\tsize: 10337\ttime_spent: 5.9064874820032855\trss: 0.31160736083984375\tabort: False                      "
     ]
    },
    {
     "name": "stdout",
     "output_type": "stream",
     "text": [
      "\r",
      "scenario: w/ force consider\tprotocol: parallel_3\tdag_size_limit: 8\tsize: 43562\ttime_spent: 31.3708029240006\trss: 0.6278915405273438\tabort: False                      "
     ]
    },
    {
     "name": "stdout",
     "output_type": "stream",
     "text": [
      "\r",
      "scenario: w/ force consider\tprotocol: parallel_3\tdag_size_limit: 9\tsize: 100662\ttime_spent: 76.94393035000394\trss: 1.2234725952148438\tabort: True                      "
     ]
    },
    {
     "name": "stdout",
     "output_type": "stream",
     "text": [
      "\r",
      "scenario: w/ normalization\tprotocol: bitcoin\tdag_size_limit: 2\tsize: 6\ttime_spent: 0.0029376620004768483\trss: 0.29773712158203125\tabort: False                      \r",
      "scenario: w/ normalization\tprotocol: bitcoin\tdag_size_limit: 3\tsize: 45\ttime_spent: 0.018109895994712133\trss: 0.28699493408203125\tabort: False                      "
     ]
    },
    {
     "name": "stdout",
     "output_type": "stream",
     "text": [
      "\r",
      "scenario: w/ normalization\tprotocol: bitcoin\tdag_size_limit: 4\tsize: 198\ttime_spent: 0.09278364900092129\trss: 0.28577423095703125\tabort: False                      "
     ]
    },
    {
     "name": "stdout",
     "output_type": "stream",
     "text": [
      "\r",
      "scenario: w/ normalization\tprotocol: bitcoin\tdag_size_limit: 5\tsize: 1090\ttime_spent: 0.7619154069980141\trss: 0.28577423095703125\tabort: False                      "
     ]
    },
    {
     "name": "stdout",
     "output_type": "stream",
     "text": [
      "\r",
      "scenario: w/ normalization\tprotocol: bitcoin\tdag_size_limit: 6\tsize: 5724\ttime_spent: 5.340372530998138\trss: 0.2853050231933594\tabort: False                      "
     ]
    },
    {
     "name": "stdout",
     "output_type": "stream",
     "text": [
      "\r",
      "scenario: w/ normalization\tprotocol: bitcoin\tdag_size_limit: 7\tsize: 31532\ttime_spent: 38.03460650600027\trss: 0.4910697937011719\tabort: False                      "
     ]
    },
    {
     "name": "stdout",
     "output_type": "stream",
     "text": [
      "\r",
      "scenario: w/ normalization\tprotocol: bitcoin\tdag_size_limit: 8\tsize: 100188\ttime_spent: 117.66852366000239\trss: 1.1208305358886719\tabort: True                      "
     ]
    },
    {
     "name": "stdout",
     "output_type": "stream",
     "text": [
      "\r",
      "scenario: w/ normalization\tprotocol: ethereum_3\tdag_size_limit: 2\tsize: 6\ttime_spent: 0.0032478360008099116\trss: 0.2993965148925781\tabort: False                      \r",
      "scenario: w/ normalization\tprotocol: ethereum_3\tdag_size_limit: 3\tsize: 78\ttime_spent: 0.0407400600015535\trss: 0.2910957336425781\tabort: False                      "
     ]
    },
    {
     "name": "stdout",
     "output_type": "stream",
     "text": [
      "\r",
      "scenario: w/ normalization\tprotocol: ethereum_3\tdag_size_limit: 4\tsize: 231\ttime_spent: 0.1260842230039998\trss: 0.2898750305175781\tabort: False                      "
     ]
    },
    {
     "name": "stdout",
     "output_type": "stream",
     "text": [
      "\r",
      "scenario: w/ normalization\tprotocol: ethereum_3\tdag_size_limit: 5\tsize: 1480\ttime_spent: 1.0860908719987492\trss: 0.2897529602050781\tabort: False                      "
     ]
    },
    {
     "name": "stdout",
     "output_type": "stream",
     "text": [
      "\r",
      "scenario: w/ normalization\tprotocol: ethereum_3\tdag_size_limit: 6\tsize: 10293\ttime_spent: 9.721062632001122\trss: 0.2954559326171875\tabort: False                      "
     ]
    },
    {
     "name": "stdout",
     "output_type": "stream",
     "text": [
      "\r",
      "scenario: w/ normalization\tprotocol: ethereum_3\tdag_size_limit: 7\tsize: 77694\ttime_spent: 83.95786803899682\trss: 0.8893280029296875\tabort: False                      "
     ]
    },
    {
     "name": "stdout",
     "output_type": "stream",
     "text": [
      "\r",
      "scenario: w/ normalization\tprotocol: ethereum_3\tdag_size_limit: 8\tsize: 100621\ttime_spent: 112.28765002999717\trss: 1.0727500915527344\tabort: True                      "
     ]
    },
    {
     "name": "stdout",
     "output_type": "stream",
     "text": [
      "\r",
      "scenario: w/ normalization\tprotocol: byzantium_3\tdag_size_limit: 2\tsize: 6\ttime_spent: 0.0037958360044285655\trss: 0.30394744873046875\tabort: False                      \r",
      "scenario: w/ normalization\tprotocol: byzantium_3\tdag_size_limit: 3\tsize: 78\ttime_spent: 0.04482438800187083\trss: 0.29662322998046875\tabort: False                      "
     ]
    },
    {
     "name": "stdout",
     "output_type": "stream",
     "text": [
      "\r",
      "scenario: w/ normalization\tprotocol: byzantium_3\tdag_size_limit: 4\tsize: 231\ttime_spent: 0.1407595510027022\trss: 0.29622650146484375\tabort: False                      "
     ]
    },
    {
     "name": "stdout",
     "output_type": "stream",
     "text": [
      "\r",
      "scenario: w/ normalization\tprotocol: byzantium_3\tdag_size_limit: 5\tsize: 1480\ttime_spent: 1.2082021960013662\trss: 0.29549407958984375\tabort: False                      "
     ]
    },
    {
     "name": "stdout",
     "output_type": "stream",
     "text": [
      "\r",
      "scenario: w/ normalization\tprotocol: byzantium_3\tdag_size_limit: 6\tsize: 9879\ttime_spent: 9.791491135001706\trss: 0.2941322326660156\tabort: False                      "
     ]
    },
    {
     "name": "stdout",
     "output_type": "stream",
     "text": [
      "\r",
      "scenario: w/ normalization\tprotocol: byzantium_3\tdag_size_limit: 7\tsize: 72420\ttime_spent: 85.22823968099692\trss: 0.8377113342285156\tabort: False                      "
     ]
    },
    {
     "name": "stdout",
     "output_type": "stream",
     "text": [
      "\r",
      "scenario: w/ normalization\tprotocol: byzantium_3\tdag_size_limit: 8\tsize: 100298\ttime_spent: 115.96436328600248\trss: 1.0764732360839844\tabort: True                      "
     ]
    },
    {
     "name": "stdout",
     "output_type": "stream",
     "text": [
      "\r",
      "scenario: w/ normalization\tprotocol: ghostdag_3\tdag_size_limit: 2\tsize: 6\ttime_spent: 0.003057718997297343\trss: 0.3052864074707031\tabort: False                      \r",
      "scenario: w/ normalization\tprotocol: ghostdag_3\tdag_size_limit: 3\tsize: 41\ttime_spent: 0.021287730000040028\trss: 0.2950325012207031\tabort: False                      "
     ]
    },
    {
     "name": "stdout",
     "output_type": "stream",
     "text": [
      "\r",
      "scenario: w/ normalization\tprotocol: ghostdag_3\tdag_size_limit: 4\tsize: 228\ttime_spent: 0.14042744800099172\trss: 0.2947883605957031\tabort: False                      "
     ]
    },
    {
     "name": "stdout",
     "output_type": "stream",
     "text": [
      "\r",
      "scenario: w/ normalization\tprotocol: ghostdag_3\tdag_size_limit: 5\tsize: 1581\ttime_spent: 1.3137386899979902\trss: 0.2945442199707031\tabort: False                      "
     ]
    },
    {
     "name": "stdout",
     "output_type": "stream",
     "text": [
      "\r",
      "scenario: w/ normalization\tprotocol: ghostdag_3\tdag_size_limit: 6\tsize: 12644\ttime_spent: 14.29504597500636\trss: 0.3094367980957031\tabort: False                      "
     ]
    },
    {
     "name": "stdout",
     "output_type": "stream",
     "text": [
      "\r",
      "scenario: w/ normalization\tprotocol: ghostdag_3\tdag_size_limit: 7\tsize: 100085\ttime_spent: 120.83389442499902\trss: 1.0172004699707031\tabort: True                      "
     ]
    },
    {
     "name": "stdout",
     "output_type": "stream",
     "text": [
      "\r",
      "scenario: w/ normalization\tprotocol: parallel_3\tdag_size_limit: 2\tsize: 51\ttime_spent: 0.02387160700163804\trss: 0.4299774169921875\tabort: False                      \r",
      "scenario: w/ normalization\tprotocol: parallel_3\tdag_size_limit: 3\tsize: 68\ttime_spent: 0.030468760000076145\trss: 0.3298797607421875\tabort: False                      "
     ]
    },
    {
     "name": "stdout",
     "output_type": "stream",
     "text": [
      "\r",
      "scenario: w/ normalization\tprotocol: parallel_3\tdag_size_limit: 4\tsize: 152\ttime_spent: 0.07895802799612284\trss: 0.3271942138671875\tabort: False                      "
     ]
    },
    {
     "name": "stdout",
     "output_type": "stream",
     "text": [
      "\r",
      "scenario: w/ normalization\tprotocol: parallel_3\tdag_size_limit: 5\tsize: 478\ttime_spent: 0.33364850399811985\trss: 0.3271942138671875\tabort: False                      "
     ]
    },
    {
     "name": "stdout",
     "output_type": "stream",
     "text": [
      "\r",
      "scenario: w/ normalization\tprotocol: parallel_3\tdag_size_limit: 6\tsize: 1677\ttime_spent: 1.4720743729994865\trss: 0.3269500732421875\tabort: False                      "
     ]
    },
    {
     "name": "stdout",
     "output_type": "stream",
     "text": [
      "\r",
      "scenario: w/ normalization\tprotocol: parallel_3\tdag_size_limit: 7\tsize: 6618\ttime_spent: 7.104742196999723\trss: 0.3229217529296875\tabort: False                      "
     ]
    },
    {
     "name": "stdout",
     "output_type": "stream",
     "text": [
      "\r",
      "scenario: w/ normalization\tprotocol: parallel_3\tdag_size_limit: 8\tsize: 31452\ttime_spent: 37.03936106900073\trss: 0.5139656066894531\tabort: False                      "
     ]
    },
    {
     "name": "stdout",
     "output_type": "stream",
     "text": [
      "\r",
      "scenario: w/ normalization\tprotocol: parallel_3\tdag_size_limit: 9\tsize: 100258\ttime_spent: 130.2486835420059\trss: 1.2200202941894531\tabort: True                      "
     ]
    },
    {
     "name": "stdout",
     "output_type": "stream",
     "text": [
      "\r",
      "scenario: w/ both\tprotocol: bitcoin\tdag_size_limit: 2\tsize: 5\ttime_spent: 0.002711517001444008\trss: 0.3094749450683594\tabort: False                      \r",
      "scenario: w/ both\tprotocol: bitcoin\tdag_size_limit: 3\tsize: 18\ttime_spent: 0.008498636998410802\trss: 0.2975273132324219\tabort: False                      \r",
      "scenario: w/ both\tprotocol: bitcoin\tdag_size_limit: 4\tsize: 45\ttime_spent: 0.02330623300076695\trss: 0.2963218688964844\tabort: False                      "
     ]
    },
    {
     "name": "stdout",
     "output_type": "stream",
     "text": [
      "\r",
      "scenario: w/ both\tprotocol: bitcoin\tdag_size_limit: 5\tsize: 120\ttime_spent: 0.07584840700292261\trss: 0.2955894470214844\tabort: False                      "
     ]
    },
    {
     "name": "stdout",
     "output_type": "stream",
     "text": [
      "\r",
      "scenario: w/ both\tprotocol: bitcoin\tdag_size_limit: 6\tsize: 300\ttime_spent: 0.21804988000076264\trss: 0.2951011657714844\tabort: False                      "
     ]
    },
    {
     "name": "stdout",
     "output_type": "stream",
     "text": [
      "\r",
      "scenario: w/ both\tprotocol: bitcoin\tdag_size_limit: 7\tsize: 760\ttime_spent: 0.6283115779951913\trss: 0.2951011657714844\tabort: False                      "
     ]
    },
    {
     "name": "stdout",
     "output_type": "stream",
     "text": [
      "\r",
      "scenario: w/ both\tprotocol: bitcoin\tdag_size_limit: 8\tsize: 1959\ttime_spent: 2.046754910996242\trss: 0.2946128845214844\tabort: False                      "
     ]
    },
    {
     "name": "stdout",
     "output_type": "stream",
     "text": [
      "\r",
      "scenario: w/ both\tprotocol: bitcoin\tdag_size_limit: 9\tsize: 5153\ttime_spent: 5.9951577659958275\trss: 0.29244232177734375\tabort: False                      "
     ]
    },
    {
     "name": "stdout",
     "output_type": "stream",
     "text": [
      "\r",
      "scenario: w/ both\tprotocol: bitcoin\tdag_size_limit: 10\tsize: 13794\ttime_spent: 18.672317243996076\trss: 0.35945892333984375\tabort: False                      "
     ]
    },
    {
     "name": "stdout",
     "output_type": "stream",
     "text": [
      "\r",
      "scenario: w/ both\tprotocol: bitcoin\tdag_size_limit: 11\tsize: 37322\ttime_spent: 57.58464277299936\trss: 0.6339950561523438\tabort: False                      "
     ]
    },
    {
     "name": "stdout",
     "output_type": "stream",
     "text": [
      "\r",
      "scenario: w/ both\tprotocol: bitcoin\tdag_size_limit: 12\tsize: 100344\ttime_spent: 168.73545526999806\trss: 1.36810302734375\tabort: True                      "
     ]
    },
    {
     "name": "stdout",
     "output_type": "stream",
     "text": [
      "\r",
      "scenario: w/ both\tprotocol: ethereum_3\tdag_size_limit: 2\tsize: 5\ttime_spent: 0.0031850879968260415\trss: 0.312347412109375\tabort: False                      \r",
      "scenario: w/ both\tprotocol: ethereum_3\tdag_size_limit: 3\tsize: 29\ttime_spent: 0.017734328997903503\trss: 0.302093505859375\tabort: False                      \r",
      "scenario: w/ both\tprotocol: ethereum_3\tdag_size_limit: 4\tsize: 56\ttime_spent: 0.03447258500091266\trss: 0.300872802734375\tabort: False                      "
     ]
    },
    {
     "name": "stdout",
     "output_type": "stream",
     "text": [
      "\r",
      "scenario: w/ both\tprotocol: ethereum_3\tdag_size_limit: 5\tsize: 186\ttime_spent: 0.13298573900101474\trss: 0.299896240234375\tabort: False                      "
     ]
    },
    {
     "name": "stdout",
     "output_type": "stream",
     "text": [
      "\r",
      "scenario: w/ both\tprotocol: ethereum_3\tdag_size_limit: 6\tsize: 596\ttime_spent: 0.4908930270030396\trss: 0.299652099609375\tabort: False                      "
     ]
    },
    {
     "name": "stdout",
     "output_type": "stream",
     "text": [
      "\r",
      "scenario: w/ both\tprotocol: ethereum_3\tdag_size_limit: 7\tsize: 1794\ttime_spent: 1.7764940289998776\trss: 0.299407958984375\tabort: False                      "
     ]
    },
    {
     "name": "stdout",
     "output_type": "stream",
     "text": [
      "\r",
      "scenario: w/ both\tprotocol: ethereum_3\tdag_size_limit: 8\tsize: 5535\ttime_spent: 6.019653846000438\trss: 0.2985649108886719\tabort: False                      "
     ]
    },
    {
     "name": "stdout",
     "output_type": "stream",
     "text": [
      "\r",
      "scenario: w/ both\tprotocol: ethereum_3\tdag_size_limit: 9\tsize: 17089\ttime_spent: 21.3870762009974\trss: 0.3843803405761719\tabort: False                      "
     ]
    },
    {
     "name": "stdout",
     "output_type": "stream",
     "text": [
      "\r",
      "scenario: w/ both\tprotocol: ethereum_3\tdag_size_limit: 10\tsize: 51668\ttime_spent: 71.74403787500341\trss: 0.7515678405761719\tabort: False                      "
     ]
    },
    {
     "name": "stdout",
     "output_type": "stream",
     "text": [
      "\r",
      "scenario: w/ both\tprotocol: ethereum_3\tdag_size_limit: 11\tsize: 100435\ttime_spent: 148.004354703\trss: 1.2864799499511719\tabort: True                      "
     ]
    },
    {
     "name": "stdout",
     "output_type": "stream",
     "text": [
      "\r",
      "scenario: w/ both\tprotocol: byzantium_3\tdag_size_limit: 2\tsize: 5\ttime_spent: 0.00513195800158428\trss: 0.3170890808105469\tabort: False                      \r",
      "scenario: w/ both\tprotocol: byzantium_3\tdag_size_limit: 3\tsize: 29\ttime_spent: 0.019253915997978766\trss: 0.3078117370605469\tabort: False                      \r",
      "scenario: w/ both\tprotocol: byzantium_3\tdag_size_limit: 4\tsize: 56\ttime_spent: 0.0377685109997401\trss: 0.3068351745605469\tabort: False                      "
     ]
    },
    {
     "name": "stdout",
     "output_type": "stream",
     "text": [
      "\r",
      "scenario: w/ both\tprotocol: byzantium_3\tdag_size_limit: 5\tsize: 186\ttime_spent: 0.14602902899787296\trss: 0.3059539794921875\tabort: False                      "
     ]
    },
    {
     "name": "stdout",
     "output_type": "stream",
     "text": [
      "\r",
      "scenario: w/ both\tprotocol: byzantium_3\tdag_size_limit: 6\tsize: 572\ttime_spent: 0.4895255859955796\trss: 0.3057098388671875\tabort: False                      "
     ]
    },
    {
     "name": "stdout",
     "output_type": "stream",
     "text": [
      "\r",
      "scenario: w/ both\tprotocol: byzantium_3\tdag_size_limit: 7\tsize: 1705\ttime_spent: 1.7684749039981398\trss: 0.3054656982421875\tabort: False                      "
     ]
    },
    {
     "name": "stdout",
     "output_type": "stream",
     "text": [
      "\r",
      "scenario: w/ both\tprotocol: byzantium_3\tdag_size_limit: 8\tsize: 5187\ttime_spent: 6.32366271099454\trss: 0.3033905029296875\tabort: False                      "
     ]
    },
    {
     "name": "stdout",
     "output_type": "stream",
     "text": [
      "\r",
      "scenario: w/ both\tprotocol: byzantium_3\tdag_size_limit: 9\tsize: 15630\ttime_spent: 21.47756184500031\trss: 0.3691902160644531\tabort: False                      "
     ]
    },
    {
     "name": "stdout",
     "output_type": "stream",
     "text": [
      "\r",
      "scenario: w/ both\tprotocol: byzantium_3\tdag_size_limit: 10\tsize: 47341\ttime_spent: 73.54527588999917\trss: 0.7036628723144531\tabort: False                      "
     ]
    },
    {
     "name": "stdout",
     "output_type": "stream",
     "text": [
      "\r",
      "scenario: w/ both\tprotocol: byzantium_3\tdag_size_limit: 11\tsize: 100638\ttime_spent: 164.47073755600286\trss: 1.2975349426269531\tabort: True                      "
     ]
    },
    {
     "name": "stdout",
     "output_type": "stream",
     "text": [
      "\r",
      "scenario: w/ both\tprotocol: ghostdag_3\tdag_size_limit: 2\tsize: 5\ttime_spent: 0.0030076339971856214\trss: 0.3211631774902344\tabort: False                      \r",
      "scenario: w/ both\tprotocol: ghostdag_3\tdag_size_limit: 3\tsize: 19\ttime_spent: 0.011741192996851169\trss: 0.3089561462402344\tabort: False                      \r",
      "scenario: w/ both\tprotocol: ghostdag_3\tdag_size_limit: 4\tsize: 57\ttime_spent: 0.04029368799820077\trss: 0.3074913024902344\tabort: False                      "
     ]
    },
    {
     "name": "stdout",
     "output_type": "stream",
     "text": [
      "\r",
      "scenario: w/ both\tprotocol: ghostdag_3\tdag_size_limit: 5\tsize: 184\ttime_spent: 0.16255252100381767\trss: 0.3067588806152344\tabort: False                      "
     ]
    },
    {
     "name": "stdout",
     "output_type": "stream",
     "text": [
      "\r",
      "scenario: w/ both\tprotocol: ghostdag_3\tdag_size_limit: 6\tsize: 604\ttime_spent: 0.6545411970000714\trss: 0.3067588806152344\tabort: False                      "
     ]
    },
    {
     "name": "stdout",
     "output_type": "stream",
     "text": [
      "\r",
      "scenario: w/ both\tprotocol: ghostdag_3\tdag_size_limit: 7\tsize: 2026\ttime_spent: 2.9358502850009245\trss: 0.3067588806152344\tabort: False                      "
     ]
    },
    {
     "name": "stdout",
     "output_type": "stream",
     "text": [
      "\r",
      "scenario: w/ both\tprotocol: ghostdag_3\tdag_size_limit: 8\tsize: 6914\ttime_spent: 12.99318217599648\trss: 0.3052940368652344\tabort: False                      "
     ]
    },
    {
     "name": "stdout",
     "output_type": "stream",
     "text": [
      "\r",
      "scenario: w/ both\tprotocol: ghostdag_3\tdag_size_limit: 9\tsize: 23944\ttime_spent: 54.285378758999286\trss: 0.44232177734375\tabort: False                      "
     ]
    },
    {
     "name": "stdout",
     "output_type": "stream",
     "text": [
      "\r",
      "scenario: w/ both\tprotocol: ghostdag_3\tdag_size_limit: 10\tsize: 83952\ttime_spent: 230.6756035809958\trss: 1.08209228515625\tabort: False                      "
     ]
    },
    {
     "name": "stdout",
     "output_type": "stream",
     "text": [
      "\r",
      "scenario: w/ both\tprotocol: ghostdag_3\tdag_size_limit: 11\tsize: 100819\ttime_spent: 232.06886127200414\trss: 1.2115135192871094\tabort: True                      "
     ]
    },
    {
     "name": "stdout",
     "output_type": "stream",
     "text": [
      "\r",
      "scenario: w/ both\tprotocol: parallel_3\tdag_size_limit: 2\tsize: 41\ttime_spent: 0.026267729001119733\trss: 0.4257011413574219\tabort: False                      \r",
      "scenario: w/ both\tprotocol: parallel_3\tdag_size_limit: 3\tsize: 50\ttime_spent: 0.02618706799694337\trss: 0.3219413757324219\tabort: False                      "
     ]
    },
    {
     "name": "stdout",
     "output_type": "stream",
     "text": [
      "\r",
      "scenario: w/ both\tprotocol: parallel_3\tdag_size_limit: 4\tsize: 84\ttime_spent: 0.04567134399985662\trss: 0.3178672790527344\tabort: False                      \r",
      "scenario: w/ both\tprotocol: parallel_3\tdag_size_limit: 5\tsize: 195\ttime_spent: 0.124688072995923\trss: 0.3166465759277344\tabort: False                      "
     ]
    },
    {
     "name": "stdout",
     "output_type": "stream",
     "text": [
      "\r",
      "scenario: w/ both\tprotocol: parallel_3\tdag_size_limit: 6\tsize: 492\ttime_spent: 0.34915979300421895\trss: 0.3159141540527344\tabort: False                      "
     ]
    },
    {
     "name": "stdout",
     "output_type": "stream",
     "text": [
      "\r",
      "scenario: w/ both\tprotocol: parallel_3\tdag_size_limit: 7\tsize: 1330\ttime_spent: 1.116261110000778\trss: 0.3156700134277344\tabort: False                      "
     ]
    },
    {
     "name": "stdout",
     "output_type": "stream",
     "text": [
      "\r",
      "scenario: w/ both\tprotocol: parallel_3\tdag_size_limit: 8\tsize: 3670\ttime_spent: 3.567484279999917\trss: 0.3103904724121094\tabort: False                      "
     ]
    },
    {
     "name": "stdout",
     "output_type": "stream",
     "text": [
      "\r",
      "scenario: w/ both\tprotocol: parallel_3\tdag_size_limit: 9\tsize: 9792\ttime_spent: 11.709092197997961\trss: 0.3086814880371094\tabort: False                      "
     ]
    },
    {
     "name": "stdout",
     "output_type": "stream",
     "text": [
      "\r",
      "scenario: w/ both\tprotocol: parallel_3\tdag_size_limit: 10\tsize: 24547\ttime_spent: 34.24088516199845\trss: 0.4529685974121094\tabort: False                      "
     ]
    },
    {
     "name": "stdout",
     "output_type": "stream",
     "text": [
      "\r",
      "scenario: w/ both\tprotocol: parallel_3\tdag_size_limit: 11\tsize: 59002\ttime_spent: 93.07161706299667\trss: 0.8689842224121094\tabort: False                      "
     ]
    },
    {
     "name": "stdout",
     "output_type": "stream",
     "text": [
      "\r",
      "scenario: w/ both\tprotocol: parallel_3\tdag_size_limit: 12\tsize: 100259\ttime_spent: 169.2599460019992\trss: 1.3873672485351562\tabort: True                      "
     ]
    }
   ],
   "source": [
    "from IPython.display import display, clear_output\n",
    "import gc\n",
    "import psutil\n",
    "import pickle\n",
    "import gzip\n",
    "\n",
    "max_size = 100000\n",
    "# max_size = 10000\n",
    "aborts = []\n",
    "size_log = []\n",
    "\n",
    "\n",
    "def get_rss():\n",
    "    gc.collect()\n",
    "    return psutil.Process().memory_info().rss / 1024**3  # GiB\n",
    "\n",
    "\n",
    "for idx, row in models.iterrows():\n",
    "    dag_size_limit = 1\n",
    "    while True:\n",
    "        dag_size_limit += 1\n",
    "        m = implicit_mdps[idx](dag_size_limit)\n",
    "        c = Compiler(m)\n",
    "        start_time = time.monotonic()\n",
    "        while not_done := c.explore(steps=1000):\n",
    "            if c.n_states > max_size:\n",
    "                break\n",
    "\n",
    "        info = row.to_dict() | dict(\n",
    "            dag_size_limit=dag_size_limit,\n",
    "            size=c.n_states,\n",
    "            time_spent=time.monotonic() - start_time,\n",
    "            rss=get_rss(),\n",
    "        )\n",
    "\n",
    "        # report to stdout\n",
    "        print(\n",
    "            \"\\r\"\n",
    "            + \"\\t\".join(\n",
    "                [\n",
    "                    f\"{k}: {info[k]}\"\n",
    "                    for k in [\n",
    "                        \"scenario\",\n",
    "                        \"protocol\",\n",
    "                        \"dag_size_limit\",\n",
    "                        \"size\",\n",
    "                        \"time_spent\",\n",
    "                        \"rss\",\n",
    "                    ]\n",
    "                ]\n",
    "                + [f\"abort: {not_done}                      \"]\n",
    "            ),\n",
    "            end=\"\",\n",
    "        )\n",
    "\n",
    "        if not_done:\n",
    "            aborts.append(info)\n",
    "            break\n",
    "        else:\n",
    "            mdp_key = format(abs(hash(frozenset(info.items()))), \"08x\")[0:8]\n",
    "            size_log.append(info | dict(mdp=mdp_key))\n",
    "            with gzip.open(f\"5-generated-mdps/mdp-{mdp_key}.pkl.gz\", \"wb\") as f:\n",
    "                pickle.dump(c.mdp(finish_exploration=False), f)\n",
    "\n",
    "size_log = pandas.DataFrame(size_log)\n",
    "aborts = pandas.DataFrame(aborts)\n",
    "\n",
    "size_log.to_pickle(\"5-generated-mdps/success.pkl.gz\")\n",
    "aborts.to_pickle(\"5-generated-mdps/fail.pkl.gz\")"
   ]
  },
  {
   "cell_type": "code",
   "execution_count": 5,
   "id": "b1604143-764e-452c-aab8-240b002cb1f9",
   "metadata": {
    "execution": {
     "iopub.execute_input": "2024-12-23T23:32:02.333516Z",
     "iopub.status.busy": "2024-12-23T23:32:02.333359Z",
     "iopub.status.idle": "2024-12-23T23:32:02.344223Z",
     "shell.execute_reply": "2024-12-23T23:32:02.343875Z"
    }
   },
   "outputs": [
    {
     "data": {
      "text/html": [
       "<div>\n",
       "<style scoped>\n",
       "    .dataframe tbody tr th:only-of-type {\n",
       "        vertical-align: middle;\n",
       "    }\n",
       "\n",
       "    .dataframe tbody tr th {\n",
       "        vertical-align: top;\n",
       "    }\n",
       "\n",
       "    .dataframe thead th {\n",
       "        text-align: right;\n",
       "    }\n",
       "</style>\n",
       "<table border=\"1\" class=\"dataframe\">\n",
       "  <thead>\n",
       "    <tr style=\"text-align: right;\">\n",
       "      <th></th>\n",
       "      <th>scenario</th>\n",
       "      <th>model</th>\n",
       "      <th>protocol</th>\n",
       "      <th>force_consider_own</th>\n",
       "      <th>merge_isomorphic</th>\n",
       "      <th>truncate_common_chain</th>\n",
       "      <th>collect_garbage</th>\n",
       "      <th>reward_common_chain</th>\n",
       "      <th>dag_size_limit</th>\n",
       "      <th>size</th>\n",
       "      <th>time_spent</th>\n",
       "      <th>rss</th>\n",
       "    </tr>\n",
       "  </thead>\n",
       "  <tbody>\n",
       "    <tr>\n",
       "      <th>0</th>\n",
       "      <td>baseline</td>\n",
       "      <td>generic_1</td>\n",
       "      <td>bitcoin</td>\n",
       "      <td>False</td>\n",
       "      <td>False</td>\n",
       "      <td>True</td>\n",
       "      <td>True</td>\n",
       "      <td>False</td>\n",
       "      <td>7</td>\n",
       "      <td>100733</td>\n",
       "      <td>63.250324</td>\n",
       "      <td>0.997356</td>\n",
       "    </tr>\n",
       "    <tr>\n",
       "      <th>1</th>\n",
       "      <td>baseline</td>\n",
       "      <td>generic_1</td>\n",
       "      <td>ethereum_3</td>\n",
       "      <td>False</td>\n",
       "      <td>False</td>\n",
       "      <td>True</td>\n",
       "      <td>True</td>\n",
       "      <td>False</td>\n",
       "      <td>7</td>\n",
       "      <td>100084</td>\n",
       "      <td>68.067978</td>\n",
       "      <td>0.977810</td>\n",
       "    </tr>\n",
       "    <tr>\n",
       "      <th>2</th>\n",
       "      <td>baseline</td>\n",
       "      <td>generic_1</td>\n",
       "      <td>byzantium_3</td>\n",
       "      <td>False</td>\n",
       "      <td>False</td>\n",
       "      <td>True</td>\n",
       "      <td>True</td>\n",
       "      <td>False</td>\n",
       "      <td>7</td>\n",
       "      <td>100073</td>\n",
       "      <td>72.055991</td>\n",
       "      <td>0.977631</td>\n",
       "    </tr>\n",
       "    <tr>\n",
       "      <th>3</th>\n",
       "      <td>baseline</td>\n",
       "      <td>generic_1</td>\n",
       "      <td>ghostdag_3</td>\n",
       "      <td>False</td>\n",
       "      <td>False</td>\n",
       "      <td>True</td>\n",
       "      <td>True</td>\n",
       "      <td>False</td>\n",
       "      <td>7</td>\n",
       "      <td>100114</td>\n",
       "      <td>77.565318</td>\n",
       "      <td>0.943474</td>\n",
       "    </tr>\n",
       "    <tr>\n",
       "      <th>4</th>\n",
       "      <td>baseline</td>\n",
       "      <td>generic_1</td>\n",
       "      <td>parallel_3</td>\n",
       "      <td>False</td>\n",
       "      <td>False</td>\n",
       "      <td>True</td>\n",
       "      <td>True</td>\n",
       "      <td>False</td>\n",
       "      <td>8</td>\n",
       "      <td>100730</td>\n",
       "      <td>70.121952</td>\n",
       "      <td>1.087135</td>\n",
       "    </tr>\n",
       "    <tr>\n",
       "      <th>5</th>\n",
       "      <td>w/o collect garbage</td>\n",
       "      <td>generic_1</td>\n",
       "      <td>bitcoin</td>\n",
       "      <td>False</td>\n",
       "      <td>False</td>\n",
       "      <td>True</td>\n",
       "      <td>False</td>\n",
       "      <td>False</td>\n",
       "      <td>3</td>\n",
       "      <td>100674</td>\n",
       "      <td>42.281437</td>\n",
       "      <td>1.410797</td>\n",
       "    </tr>\n",
       "    <tr>\n",
       "      <th>6</th>\n",
       "      <td>w/o collect garbage</td>\n",
       "      <td>generic_1</td>\n",
       "      <td>ethereum_3</td>\n",
       "      <td>False</td>\n",
       "      <td>False</td>\n",
       "      <td>True</td>\n",
       "      <td>False</td>\n",
       "      <td>False</td>\n",
       "      <td>5</td>\n",
       "      <td>100667</td>\n",
       "      <td>50.178761</td>\n",
       "      <td>1.381798</td>\n",
       "    </tr>\n",
       "    <tr>\n",
       "      <th>7</th>\n",
       "      <td>w/o collect garbage</td>\n",
       "      <td>generic_1</td>\n",
       "      <td>byzantium_3</td>\n",
       "      <td>False</td>\n",
       "      <td>False</td>\n",
       "      <td>True</td>\n",
       "      <td>False</td>\n",
       "      <td>False</td>\n",
       "      <td>5</td>\n",
       "      <td>100608</td>\n",
       "      <td>60.318672</td>\n",
       "      <td>1.380531</td>\n",
       "    </tr>\n",
       "    <tr>\n",
       "      <th>8</th>\n",
       "      <td>w/o collect garbage</td>\n",
       "      <td>generic_1</td>\n",
       "      <td>ghostdag_3</td>\n",
       "      <td>False</td>\n",
       "      <td>False</td>\n",
       "      <td>True</td>\n",
       "      <td>False</td>\n",
       "      <td>False</td>\n",
       "      <td>7</td>\n",
       "      <td>100407</td>\n",
       "      <td>54.971019</td>\n",
       "      <td>0.953400</td>\n",
       "    </tr>\n",
       "    <tr>\n",
       "      <th>9</th>\n",
       "      <td>w/o collect garbage</td>\n",
       "      <td>generic_1</td>\n",
       "      <td>parallel_3</td>\n",
       "      <td>False</td>\n",
       "      <td>False</td>\n",
       "      <td>True</td>\n",
       "      <td>False</td>\n",
       "      <td>False</td>\n",
       "      <td>5</td>\n",
       "      <td>100342</td>\n",
       "      <td>37.864884</td>\n",
       "      <td>1.415668</td>\n",
       "    </tr>\n",
       "    <tr>\n",
       "      <th>10</th>\n",
       "      <td>w/o truncate</td>\n",
       "      <td>generic_1</td>\n",
       "      <td>bitcoin</td>\n",
       "      <td>False</td>\n",
       "      <td>False</td>\n",
       "      <td>False</td>\n",
       "      <td>True</td>\n",
       "      <td>False</td>\n",
       "      <td>2</td>\n",
       "      <td>100680</td>\n",
       "      <td>53.134272</td>\n",
       "      <td>1.600117</td>\n",
       "    </tr>\n",
       "    <tr>\n",
       "      <th>11</th>\n",
       "      <td>w/o truncate</td>\n",
       "      <td>generic_1</td>\n",
       "      <td>ethereum_3</td>\n",
       "      <td>False</td>\n",
       "      <td>False</td>\n",
       "      <td>False</td>\n",
       "      <td>True</td>\n",
       "      <td>False</td>\n",
       "      <td>2</td>\n",
       "      <td>100680</td>\n",
       "      <td>73.849910</td>\n",
       "      <td>1.610859</td>\n",
       "    </tr>\n",
       "    <tr>\n",
       "      <th>12</th>\n",
       "      <td>w/o truncate</td>\n",
       "      <td>generic_1</td>\n",
       "      <td>byzantium_3</td>\n",
       "      <td>False</td>\n",
       "      <td>False</td>\n",
       "      <td>False</td>\n",
       "      <td>True</td>\n",
       "      <td>False</td>\n",
       "      <td>2</td>\n",
       "      <td>100680</td>\n",
       "      <td>86.289412</td>\n",
       "      <td>1.610981</td>\n",
       "    </tr>\n",
       "    <tr>\n",
       "      <th>13</th>\n",
       "      <td>w/o truncate</td>\n",
       "      <td>generic_1</td>\n",
       "      <td>ghostdag_3</td>\n",
       "      <td>False</td>\n",
       "      <td>False</td>\n",
       "      <td>False</td>\n",
       "      <td>True</td>\n",
       "      <td>False</td>\n",
       "      <td>2</td>\n",
       "      <td>100680</td>\n",
       "      <td>108.666991</td>\n",
       "      <td>1.610981</td>\n",
       "    </tr>\n",
       "    <tr>\n",
       "      <th>14</th>\n",
       "      <td>w/o truncate</td>\n",
       "      <td>generic_1</td>\n",
       "      <td>parallel_3</td>\n",
       "      <td>False</td>\n",
       "      <td>False</td>\n",
       "      <td>False</td>\n",
       "      <td>True</td>\n",
       "      <td>False</td>\n",
       "      <td>2</td>\n",
       "      <td>100680</td>\n",
       "      <td>60.834656</td>\n",
       "      <td>1.610981</td>\n",
       "    </tr>\n",
       "    <tr>\n",
       "      <th>15</th>\n",
       "      <td>w/ force consider</td>\n",
       "      <td>generic_1</td>\n",
       "      <td>bitcoin</td>\n",
       "      <td>True</td>\n",
       "      <td>False</td>\n",
       "      <td>True</td>\n",
       "      <td>True</td>\n",
       "      <td>False</td>\n",
       "      <td>11</td>\n",
       "      <td>100126</td>\n",
       "      <td>92.148394</td>\n",
       "      <td>1.297817</td>\n",
       "    </tr>\n",
       "    <tr>\n",
       "      <th>16</th>\n",
       "      <td>w/ force consider</td>\n",
       "      <td>generic_1</td>\n",
       "      <td>ethereum_3</td>\n",
       "      <td>True</td>\n",
       "      <td>False</td>\n",
       "      <td>True</td>\n",
       "      <td>True</td>\n",
       "      <td>False</td>\n",
       "      <td>10</td>\n",
       "      <td>100450</td>\n",
       "      <td>92.193145</td>\n",
       "      <td>1.231647</td>\n",
       "    </tr>\n",
       "    <tr>\n",
       "      <th>17</th>\n",
       "      <td>w/ force consider</td>\n",
       "      <td>generic_1</td>\n",
       "      <td>byzantium_3</td>\n",
       "      <td>True</td>\n",
       "      <td>False</td>\n",
       "      <td>True</td>\n",
       "      <td>True</td>\n",
       "      <td>False</td>\n",
       "      <td>10</td>\n",
       "      <td>100686</td>\n",
       "      <td>101.918933</td>\n",
       "      <td>1.235462</td>\n",
       "    </tr>\n",
       "    <tr>\n",
       "      <th>18</th>\n",
       "      <td>w/ force consider</td>\n",
       "      <td>generic_1</td>\n",
       "      <td>ghostdag_3</td>\n",
       "      <td>True</td>\n",
       "      <td>False</td>\n",
       "      <td>True</td>\n",
       "      <td>True</td>\n",
       "      <td>False</td>\n",
       "      <td>9</td>\n",
       "      <td>100585</td>\n",
       "      <td>142.310562</td>\n",
       "      <td>1.143463</td>\n",
       "    </tr>\n",
       "    <tr>\n",
       "      <th>19</th>\n",
       "      <td>w/ force consider</td>\n",
       "      <td>generic_1</td>\n",
       "      <td>parallel_3</td>\n",
       "      <td>True</td>\n",
       "      <td>False</td>\n",
       "      <td>True</td>\n",
       "      <td>True</td>\n",
       "      <td>False</td>\n",
       "      <td>9</td>\n",
       "      <td>100662</td>\n",
       "      <td>76.943930</td>\n",
       "      <td>1.223473</td>\n",
       "    </tr>\n",
       "    <tr>\n",
       "      <th>20</th>\n",
       "      <td>w/ normalization</td>\n",
       "      <td>generic_1</td>\n",
       "      <td>bitcoin</td>\n",
       "      <td>False</td>\n",
       "      <td>True</td>\n",
       "      <td>True</td>\n",
       "      <td>True</td>\n",
       "      <td>False</td>\n",
       "      <td>8</td>\n",
       "      <td>100188</td>\n",
       "      <td>117.668524</td>\n",
       "      <td>1.120831</td>\n",
       "    </tr>\n",
       "    <tr>\n",
       "      <th>21</th>\n",
       "      <td>w/ normalization</td>\n",
       "      <td>generic_1</td>\n",
       "      <td>ethereum_3</td>\n",
       "      <td>False</td>\n",
       "      <td>True</td>\n",
       "      <td>True</td>\n",
       "      <td>True</td>\n",
       "      <td>False</td>\n",
       "      <td>8</td>\n",
       "      <td>100621</td>\n",
       "      <td>112.287650</td>\n",
       "      <td>1.072750</td>\n",
       "    </tr>\n",
       "    <tr>\n",
       "      <th>22</th>\n",
       "      <td>w/ normalization</td>\n",
       "      <td>generic_1</td>\n",
       "      <td>byzantium_3</td>\n",
       "      <td>False</td>\n",
       "      <td>True</td>\n",
       "      <td>True</td>\n",
       "      <td>True</td>\n",
       "      <td>False</td>\n",
       "      <td>8</td>\n",
       "      <td>100298</td>\n",
       "      <td>115.964363</td>\n",
       "      <td>1.076473</td>\n",
       "    </tr>\n",
       "    <tr>\n",
       "      <th>23</th>\n",
       "      <td>w/ normalization</td>\n",
       "      <td>generic_1</td>\n",
       "      <td>ghostdag_3</td>\n",
       "      <td>False</td>\n",
       "      <td>True</td>\n",
       "      <td>True</td>\n",
       "      <td>True</td>\n",
       "      <td>False</td>\n",
       "      <td>7</td>\n",
       "      <td>100085</td>\n",
       "      <td>120.833894</td>\n",
       "      <td>1.017200</td>\n",
       "    </tr>\n",
       "    <tr>\n",
       "      <th>24</th>\n",
       "      <td>w/ normalization</td>\n",
       "      <td>generic_1</td>\n",
       "      <td>parallel_3</td>\n",
       "      <td>False</td>\n",
       "      <td>True</td>\n",
       "      <td>True</td>\n",
       "      <td>True</td>\n",
       "      <td>False</td>\n",
       "      <td>9</td>\n",
       "      <td>100258</td>\n",
       "      <td>130.248684</td>\n",
       "      <td>1.220020</td>\n",
       "    </tr>\n",
       "    <tr>\n",
       "      <th>25</th>\n",
       "      <td>w/ both</td>\n",
       "      <td>generic_1</td>\n",
       "      <td>bitcoin</td>\n",
       "      <td>True</td>\n",
       "      <td>True</td>\n",
       "      <td>True</td>\n",
       "      <td>True</td>\n",
       "      <td>False</td>\n",
       "      <td>12</td>\n",
       "      <td>100344</td>\n",
       "      <td>168.735455</td>\n",
       "      <td>1.368103</td>\n",
       "    </tr>\n",
       "    <tr>\n",
       "      <th>26</th>\n",
       "      <td>w/ both</td>\n",
       "      <td>generic_1</td>\n",
       "      <td>ethereum_3</td>\n",
       "      <td>True</td>\n",
       "      <td>True</td>\n",
       "      <td>True</td>\n",
       "      <td>True</td>\n",
       "      <td>False</td>\n",
       "      <td>11</td>\n",
       "      <td>100435</td>\n",
       "      <td>148.004355</td>\n",
       "      <td>1.286480</td>\n",
       "    </tr>\n",
       "    <tr>\n",
       "      <th>27</th>\n",
       "      <td>w/ both</td>\n",
       "      <td>generic_1</td>\n",
       "      <td>byzantium_3</td>\n",
       "      <td>True</td>\n",
       "      <td>True</td>\n",
       "      <td>True</td>\n",
       "      <td>True</td>\n",
       "      <td>False</td>\n",
       "      <td>11</td>\n",
       "      <td>100638</td>\n",
       "      <td>164.470738</td>\n",
       "      <td>1.297535</td>\n",
       "    </tr>\n",
       "    <tr>\n",
       "      <th>28</th>\n",
       "      <td>w/ both</td>\n",
       "      <td>generic_1</td>\n",
       "      <td>ghostdag_3</td>\n",
       "      <td>True</td>\n",
       "      <td>True</td>\n",
       "      <td>True</td>\n",
       "      <td>True</td>\n",
       "      <td>False</td>\n",
       "      <td>11</td>\n",
       "      <td>100819</td>\n",
       "      <td>232.068861</td>\n",
       "      <td>1.211514</td>\n",
       "    </tr>\n",
       "    <tr>\n",
       "      <th>29</th>\n",
       "      <td>w/ both</td>\n",
       "      <td>generic_1</td>\n",
       "      <td>parallel_3</td>\n",
       "      <td>True</td>\n",
       "      <td>True</td>\n",
       "      <td>True</td>\n",
       "      <td>True</td>\n",
       "      <td>False</td>\n",
       "      <td>12</td>\n",
       "      <td>100259</td>\n",
       "      <td>169.259946</td>\n",
       "      <td>1.387367</td>\n",
       "    </tr>\n",
       "  </tbody>\n",
       "</table>\n",
       "</div>"
      ],
      "text/plain": [
       "               scenario      model     protocol  force_consider_own  \\\n",
       "0              baseline  generic_1      bitcoin               False   \n",
       "1              baseline  generic_1   ethereum_3               False   \n",
       "2              baseline  generic_1  byzantium_3               False   \n",
       "3              baseline  generic_1   ghostdag_3               False   \n",
       "4              baseline  generic_1   parallel_3               False   \n",
       "5   w/o collect garbage  generic_1      bitcoin               False   \n",
       "6   w/o collect garbage  generic_1   ethereum_3               False   \n",
       "7   w/o collect garbage  generic_1  byzantium_3               False   \n",
       "8   w/o collect garbage  generic_1   ghostdag_3               False   \n",
       "9   w/o collect garbage  generic_1   parallel_3               False   \n",
       "10         w/o truncate  generic_1      bitcoin               False   \n",
       "11         w/o truncate  generic_1   ethereum_3               False   \n",
       "12         w/o truncate  generic_1  byzantium_3               False   \n",
       "13         w/o truncate  generic_1   ghostdag_3               False   \n",
       "14         w/o truncate  generic_1   parallel_3               False   \n",
       "15    w/ force consider  generic_1      bitcoin                True   \n",
       "16    w/ force consider  generic_1   ethereum_3                True   \n",
       "17    w/ force consider  generic_1  byzantium_3                True   \n",
       "18    w/ force consider  generic_1   ghostdag_3                True   \n",
       "19    w/ force consider  generic_1   parallel_3                True   \n",
       "20     w/ normalization  generic_1      bitcoin               False   \n",
       "21     w/ normalization  generic_1   ethereum_3               False   \n",
       "22     w/ normalization  generic_1  byzantium_3               False   \n",
       "23     w/ normalization  generic_1   ghostdag_3               False   \n",
       "24     w/ normalization  generic_1   parallel_3               False   \n",
       "25              w/ both  generic_1      bitcoin                True   \n",
       "26              w/ both  generic_1   ethereum_3                True   \n",
       "27              w/ both  generic_1  byzantium_3                True   \n",
       "28              w/ both  generic_1   ghostdag_3                True   \n",
       "29              w/ both  generic_1   parallel_3                True   \n",
       "\n",
       "    merge_isomorphic  truncate_common_chain  collect_garbage  \\\n",
       "0              False                   True             True   \n",
       "1              False                   True             True   \n",
       "2              False                   True             True   \n",
       "3              False                   True             True   \n",
       "4              False                   True             True   \n",
       "5              False                   True            False   \n",
       "6              False                   True            False   \n",
       "7              False                   True            False   \n",
       "8              False                   True            False   \n",
       "9              False                   True            False   \n",
       "10             False                  False             True   \n",
       "11             False                  False             True   \n",
       "12             False                  False             True   \n",
       "13             False                  False             True   \n",
       "14             False                  False             True   \n",
       "15             False                   True             True   \n",
       "16             False                   True             True   \n",
       "17             False                   True             True   \n",
       "18             False                   True             True   \n",
       "19             False                   True             True   \n",
       "20              True                   True             True   \n",
       "21              True                   True             True   \n",
       "22              True                   True             True   \n",
       "23              True                   True             True   \n",
       "24              True                   True             True   \n",
       "25              True                   True             True   \n",
       "26              True                   True             True   \n",
       "27              True                   True             True   \n",
       "28              True                   True             True   \n",
       "29              True                   True             True   \n",
       "\n",
       "    reward_common_chain  dag_size_limit    size  time_spent       rss  \n",
       "0                 False               7  100733   63.250324  0.997356  \n",
       "1                 False               7  100084   68.067978  0.977810  \n",
       "2                 False               7  100073   72.055991  0.977631  \n",
       "3                 False               7  100114   77.565318  0.943474  \n",
       "4                 False               8  100730   70.121952  1.087135  \n",
       "5                 False               3  100674   42.281437  1.410797  \n",
       "6                 False               5  100667   50.178761  1.381798  \n",
       "7                 False               5  100608   60.318672  1.380531  \n",
       "8                 False               7  100407   54.971019  0.953400  \n",
       "9                 False               5  100342   37.864884  1.415668  \n",
       "10                False               2  100680   53.134272  1.600117  \n",
       "11                False               2  100680   73.849910  1.610859  \n",
       "12                False               2  100680   86.289412  1.610981  \n",
       "13                False               2  100680  108.666991  1.610981  \n",
       "14                False               2  100680   60.834656  1.610981  \n",
       "15                False              11  100126   92.148394  1.297817  \n",
       "16                False              10  100450   92.193145  1.231647  \n",
       "17                False              10  100686  101.918933  1.235462  \n",
       "18                False               9  100585  142.310562  1.143463  \n",
       "19                False               9  100662   76.943930  1.223473  \n",
       "20                False               8  100188  117.668524  1.120831  \n",
       "21                False               8  100621  112.287650  1.072750  \n",
       "22                False               8  100298  115.964363  1.076473  \n",
       "23                False               7  100085  120.833894  1.017200  \n",
       "24                False               9  100258  130.248684  1.220020  \n",
       "25                False              12  100344  168.735455  1.368103  \n",
       "26                False              11  100435  148.004355  1.286480  \n",
       "27                False              11  100638  164.470738  1.297535  \n",
       "28                False              11  100819  232.068861  1.211514  \n",
       "29                False              12  100259  169.259946  1.387367  "
      ]
     },
     "execution_count": 5,
     "metadata": {},
     "output_type": "execute_result"
    }
   ],
   "source": [
    "aborts"
   ]
  },
  {
   "cell_type": "code",
   "execution_count": 6,
   "id": "a5c7e143-a87b-46c3-9bb1-9939e860d968",
   "metadata": {
    "execution": {
     "iopub.execute_input": "2024-12-23T23:32:02.346114Z",
     "iopub.status.busy": "2024-12-23T23:32:02.345803Z",
     "iopub.status.idle": "2024-12-23T23:32:04.139270Z",
     "shell.execute_reply": "2024-12-23T23:32:04.138703Z"
    }
   },
   "outputs": [
    {
     "data": {
      "text/plain": [
       "<seaborn.axisgrid.FacetGrid at 0x7f28041f9400>"
      ]
     },
     "execution_count": 6,
     "metadata": {},
     "output_type": "execute_result"
    },
    {
     "data": {
      "image/png": "[encoded data removed]",
      "text/plain": [
       "<Figure size 1686.87x1000 with 5 Axes>"
      ]
     },
     "metadata": {},
     "output_type": "display_data"
    }
   ],
   "source": [
    "seaborn.relplot(\n",
    "    data=size_log.query(\"dag_size_limit < 10\"),\n",
    "    kind=\"line\",\n",
    "    x=\"dag_size_limit\",\n",
    "    y=\"size\",\n",
    "    hue=\"scenario\",\n",
    "    col=\"protocol\",\n",
    "    col_wrap=3,\n",
    ").set(yscale=\"log\")"
   ]
  }
 ],
 "metadata": {
  "kernelspec": {
   "display_name": "Python 3 (ipykernel)",
   "language": "python",
   "name": "python3"
  },
  "language_info": {
   "codemirror_mode": {
    "name": "ipython",
    "version": 3
   },
   "file_extension": ".py",
   "mimetype": "text/x-python",
   "name": "python",
   "nbconvert_exporter": "python",
   "pygments_lexer": "ipython3",
   "version": "3.9.21"
  }
 },
 "nbformat": 4,
 "nbformat_minor": 5
}
