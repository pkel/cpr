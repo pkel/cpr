{
 "cells": [
  {
   "cell_type": "code",
   "execution_count": 1,
   "id": "829da242-e613-4808-841e-9921993ca24e",
   "metadata": {
    "execution": {
     "iopub.execute_input": "2025-01-06T11:45:02.361457Z",
     "iopub.status.busy": "2025-01-06T11:45:02.360869Z",
     "iopub.status.idle": "2025-01-06T11:45:03.555290Z",
     "shell.execute_reply": "2025-01-06T11:45:03.554811Z"
    }
   },
   "outputs": [],
   "source": [
    "import pandas\n",
    "import seaborn\n",
    "import time\n",
    "\n",
    "from lib.compiler import Compiler\n",
    "from lib.models.generic_v0.model import mappable_params\n",
    "\n",
    "from lib.models.aft20barzur import BitcoinSM as AFT20BarZur\n",
    "from lib.models.fc16sapirshtein import BitcoinSM as FC16Sapirshtein\n",
    "\n",
    "from lib.models.generic_v1 import protocols as g1\n",
    "from lib.models.generic_v1.model import SingleAgent as G1Model\n",
    "\n",
    "from lib.models.generic_v0.bitcoin import Bitcoin as G0Bitcoin\n",
    "from lib.models.generic_v0.model import SelfishMining as G0Model"
   ]
  },
  {
   "cell_type": "code",
   "execution_count": 2,
   "id": "09c0bd5a-eca0-4a38-9caf-b99660c8bef0",
   "metadata": {
    "execution": {
     "iopub.execute_input": "2025-01-06T11:45:03.558266Z",
     "iopub.status.busy": "2025-01-06T11:45:03.557999Z",
     "iopub.status.idle": "2025-01-06T11:45:03.585292Z",
     "shell.execute_reply": "2025-01-06T11:45:03.584902Z"
    }
   },
   "outputs": [
    {
     "data": {
      "text/html": [
       "<div>\n",
       "<style scoped>\n",
       "    .dataframe tbody tr th:only-of-type {\n",
       "        vertical-align: middle;\n",
       "    }\n",
       "\n",
       "    .dataframe tbody tr th {\n",
       "        vertical-align: top;\n",
       "    }\n",
       "\n",
       "    .dataframe thead th {\n",
       "        text-align: right;\n",
       "    }\n",
       "</style>\n",
       "<table border=\"1\" class=\"dataframe\">\n",
       "  <thead>\n",
       "    <tr style=\"text-align: right;\">\n",
       "      <th></th>\n",
       "      <th>problem</th>\n",
       "      <th>model</th>\n",
       "      <th>force_consider_own</th>\n",
       "      <th>merge_isomorphic</th>\n",
       "      <th>truncate_common_chain</th>\n",
       "      <th>collect_garbage</th>\n",
       "      <th>reward_common_chain</th>\n",
       "      <th>protocol</th>\n",
       "    </tr>\n",
       "  </thead>\n",
       "  <tbody>\n",
       "    <tr>\n",
       "      <th>0</th>\n",
       "      <td>ref-fc16</td>\n",
       "      <td>fc16sapirshtein</td>\n",
       "      <td>True</td>\n",
       "      <td>True</td>\n",
       "      <td>True</td>\n",
       "      <td>True</td>\n",
       "      <td>True</td>\n",
       "      <td>bitcoin</td>\n",
       "    </tr>\n",
       "    <tr>\n",
       "      <th>1</th>\n",
       "      <td>ref-aft20</td>\n",
       "      <td>aft20barzur</td>\n",
       "      <td>True</td>\n",
       "      <td>True</td>\n",
       "      <td>True</td>\n",
       "      <td>True</td>\n",
       "      <td>True</td>\n",
       "      <td>bitcoin</td>\n",
       "    </tr>\n",
       "    <tr>\n",
       "      <th>2</th>\n",
       "      <td>v1</td>\n",
       "      <td>generic-v1</td>\n",
       "      <td>False</td>\n",
       "      <td>False</td>\n",
       "      <td>True</td>\n",
       "      <td>True</td>\n",
       "      <td>True</td>\n",
       "      <td>bitcoin</td>\n",
       "    </tr>\n",
       "    <tr>\n",
       "      <th>3</th>\n",
       "      <td>v1</td>\n",
       "      <td>generic-v1</td>\n",
       "      <td>False</td>\n",
       "      <td>False</td>\n",
       "      <td>True</td>\n",
       "      <td>True</td>\n",
       "      <td>True</td>\n",
       "      <td>ethereum_3</td>\n",
       "    </tr>\n",
       "    <tr>\n",
       "      <th>4</th>\n",
       "      <td>v1</td>\n",
       "      <td>generic-v1</td>\n",
       "      <td>False</td>\n",
       "      <td>False</td>\n",
       "      <td>True</td>\n",
       "      <td>True</td>\n",
       "      <td>True</td>\n",
       "      <td>byzantium_3</td>\n",
       "    </tr>\n",
       "    <tr>\n",
       "      <th>5</th>\n",
       "      <td>v1</td>\n",
       "      <td>generic-v1</td>\n",
       "      <td>False</td>\n",
       "      <td>False</td>\n",
       "      <td>True</td>\n",
       "      <td>True</td>\n",
       "      <td>True</td>\n",
       "      <td>ghostdag_3</td>\n",
       "    </tr>\n",
       "    <tr>\n",
       "      <th>6</th>\n",
       "      <td>v1</td>\n",
       "      <td>generic-v1</td>\n",
       "      <td>False</td>\n",
       "      <td>False</td>\n",
       "      <td>True</td>\n",
       "      <td>True</td>\n",
       "      <td>True</td>\n",
       "      <td>parallel_3</td>\n",
       "    </tr>\n",
       "    <tr>\n",
       "      <th>7</th>\n",
       "      <td>v1+fc</td>\n",
       "      <td>generic-v1</td>\n",
       "      <td>True</td>\n",
       "      <td>False</td>\n",
       "      <td>True</td>\n",
       "      <td>True</td>\n",
       "      <td>True</td>\n",
       "      <td>bitcoin</td>\n",
       "    </tr>\n",
       "    <tr>\n",
       "      <th>8</th>\n",
       "      <td>v1+fc</td>\n",
       "      <td>generic-v1</td>\n",
       "      <td>True</td>\n",
       "      <td>False</td>\n",
       "      <td>True</td>\n",
       "      <td>True</td>\n",
       "      <td>True</td>\n",
       "      <td>ethereum_3</td>\n",
       "    </tr>\n",
       "    <tr>\n",
       "      <th>9</th>\n",
       "      <td>v1+fc</td>\n",
       "      <td>generic-v1</td>\n",
       "      <td>True</td>\n",
       "      <td>False</td>\n",
       "      <td>True</td>\n",
       "      <td>True</td>\n",
       "      <td>True</td>\n",
       "      <td>byzantium_3</td>\n",
       "    </tr>\n",
       "    <tr>\n",
       "      <th>10</th>\n",
       "      <td>v1+fc</td>\n",
       "      <td>generic-v1</td>\n",
       "      <td>True</td>\n",
       "      <td>False</td>\n",
       "      <td>True</td>\n",
       "      <td>True</td>\n",
       "      <td>True</td>\n",
       "      <td>ghostdag_3</td>\n",
       "    </tr>\n",
       "    <tr>\n",
       "      <th>11</th>\n",
       "      <td>v1+fc</td>\n",
       "      <td>generic-v1</td>\n",
       "      <td>True</td>\n",
       "      <td>False</td>\n",
       "      <td>True</td>\n",
       "      <td>True</td>\n",
       "      <td>True</td>\n",
       "      <td>parallel_3</td>\n",
       "    </tr>\n",
       "    <tr>\n",
       "      <th>12</th>\n",
       "      <td>v1+n</td>\n",
       "      <td>generic-v1</td>\n",
       "      <td>False</td>\n",
       "      <td>True</td>\n",
       "      <td>True</td>\n",
       "      <td>True</td>\n",
       "      <td>True</td>\n",
       "      <td>bitcoin</td>\n",
       "    </tr>\n",
       "    <tr>\n",
       "      <th>13</th>\n",
       "      <td>v1+n</td>\n",
       "      <td>generic-v1</td>\n",
       "      <td>False</td>\n",
       "      <td>True</td>\n",
       "      <td>True</td>\n",
       "      <td>True</td>\n",
       "      <td>True</td>\n",
       "      <td>ethereum_3</td>\n",
       "    </tr>\n",
       "    <tr>\n",
       "      <th>14</th>\n",
       "      <td>v1+n</td>\n",
       "      <td>generic-v1</td>\n",
       "      <td>False</td>\n",
       "      <td>True</td>\n",
       "      <td>True</td>\n",
       "      <td>True</td>\n",
       "      <td>True</td>\n",
       "      <td>byzantium_3</td>\n",
       "    </tr>\n",
       "    <tr>\n",
       "      <th>15</th>\n",
       "      <td>v1+n</td>\n",
       "      <td>generic-v1</td>\n",
       "      <td>False</td>\n",
       "      <td>True</td>\n",
       "      <td>True</td>\n",
       "      <td>True</td>\n",
       "      <td>True</td>\n",
       "      <td>ghostdag_3</td>\n",
       "    </tr>\n",
       "    <tr>\n",
       "      <th>16</th>\n",
       "      <td>v1+n</td>\n",
       "      <td>generic-v1</td>\n",
       "      <td>False</td>\n",
       "      <td>True</td>\n",
       "      <td>True</td>\n",
       "      <td>True</td>\n",
       "      <td>True</td>\n",
       "      <td>parallel_3</td>\n",
       "    </tr>\n",
       "    <tr>\n",
       "      <th>17</th>\n",
       "      <td>v1+fc+n</td>\n",
       "      <td>generic-v1</td>\n",
       "      <td>True</td>\n",
       "      <td>True</td>\n",
       "      <td>True</td>\n",
       "      <td>True</td>\n",
       "      <td>True</td>\n",
       "      <td>bitcoin</td>\n",
       "    </tr>\n",
       "    <tr>\n",
       "      <th>18</th>\n",
       "      <td>v1+fc+n</td>\n",
       "      <td>generic-v1</td>\n",
       "      <td>True</td>\n",
       "      <td>True</td>\n",
       "      <td>True</td>\n",
       "      <td>True</td>\n",
       "      <td>True</td>\n",
       "      <td>ethereum_3</td>\n",
       "    </tr>\n",
       "    <tr>\n",
       "      <th>19</th>\n",
       "      <td>v1+fc+n</td>\n",
       "      <td>generic-v1</td>\n",
       "      <td>True</td>\n",
       "      <td>True</td>\n",
       "      <td>True</td>\n",
       "      <td>True</td>\n",
       "      <td>True</td>\n",
       "      <td>byzantium_3</td>\n",
       "    </tr>\n",
       "    <tr>\n",
       "      <th>20</th>\n",
       "      <td>v1+fc+n</td>\n",
       "      <td>generic-v1</td>\n",
       "      <td>True</td>\n",
       "      <td>True</td>\n",
       "      <td>True</td>\n",
       "      <td>True</td>\n",
       "      <td>True</td>\n",
       "      <td>ghostdag_3</td>\n",
       "    </tr>\n",
       "    <tr>\n",
       "      <th>21</th>\n",
       "      <td>v1+fc+n</td>\n",
       "      <td>generic-v1</td>\n",
       "      <td>True</td>\n",
       "      <td>True</td>\n",
       "      <td>True</td>\n",
       "      <td>True</td>\n",
       "      <td>True</td>\n",
       "      <td>parallel_3</td>\n",
       "    </tr>\n",
       "    <tr>\n",
       "      <th>22</th>\n",
       "      <td>v0+fc+n</td>\n",
       "      <td>generic-v0</td>\n",
       "      <td>True</td>\n",
       "      <td>True</td>\n",
       "      <td>True</td>\n",
       "      <td>True</td>\n",
       "      <td>True</td>\n",
       "      <td>bitcoin</td>\n",
       "    </tr>\n",
       "    <tr>\n",
       "      <th>23</th>\n",
       "      <td>v0</td>\n",
       "      <td>generic-v0</td>\n",
       "      <td>False</td>\n",
       "      <td>False</td>\n",
       "      <td>True</td>\n",
       "      <td>True</td>\n",
       "      <td>True</td>\n",
       "      <td>bitcoin</td>\n",
       "    </tr>\n",
       "  </tbody>\n",
       "</table>\n",
       "</div>"
      ],
      "text/plain": [
       "      problem            model  force_consider_own  merge_isomorphic  \\\n",
       "0    ref-fc16  fc16sapirshtein                True              True   \n",
       "1   ref-aft20      aft20barzur                True              True   \n",
       "2          v1       generic-v1               False             False   \n",
       "3          v1       generic-v1               False             False   \n",
       "4          v1       generic-v1               False             False   \n",
       "5          v1       generic-v1               False             False   \n",
       "6          v1       generic-v1               False             False   \n",
       "7       v1+fc       generic-v1                True             False   \n",
       "8       v1+fc       generic-v1                True             False   \n",
       "9       v1+fc       generic-v1                True             False   \n",
       "10      v1+fc       generic-v1                True             False   \n",
       "11      v1+fc       generic-v1                True             False   \n",
       "12       v1+n       generic-v1               False              True   \n",
       "13       v1+n       generic-v1               False              True   \n",
       "14       v1+n       generic-v1               False              True   \n",
       "15       v1+n       generic-v1               False              True   \n",
       "16       v1+n       generic-v1               False              True   \n",
       "17    v1+fc+n       generic-v1                True              True   \n",
       "18    v1+fc+n       generic-v1                True              True   \n",
       "19    v1+fc+n       generic-v1                True              True   \n",
       "20    v1+fc+n       generic-v1                True              True   \n",
       "21    v1+fc+n       generic-v1                True              True   \n",
       "22    v0+fc+n       generic-v0                True              True   \n",
       "23         v0       generic-v0               False             False   \n",
       "\n",
       "    truncate_common_chain  collect_garbage  reward_common_chain     protocol  \n",
       "0                    True             True                 True      bitcoin  \n",
       "1                    True             True                 True      bitcoin  \n",
       "2                    True             True                 True      bitcoin  \n",
       "3                    True             True                 True   ethereum_3  \n",
       "4                    True             True                 True  byzantium_3  \n",
       "5                    True             True                 True   ghostdag_3  \n",
       "6                    True             True                 True   parallel_3  \n",
       "7                    True             True                 True      bitcoin  \n",
       "8                    True             True                 True   ethereum_3  \n",
       "9                    True             True                 True  byzantium_3  \n",
       "10                   True             True                 True   ghostdag_3  \n",
       "11                   True             True                 True   parallel_3  \n",
       "12                   True             True                 True      bitcoin  \n",
       "13                   True             True                 True   ethereum_3  \n",
       "14                   True             True                 True  byzantium_3  \n",
       "15                   True             True                 True   ghostdag_3  \n",
       "16                   True             True                 True   parallel_3  \n",
       "17                   True             True                 True      bitcoin  \n",
       "18                   True             True                 True   ethereum_3  \n",
       "19                   True             True                 True  byzantium_3  \n",
       "20                   True             True                 True   ghostdag_3  \n",
       "21                   True             True                 True   parallel_3  \n",
       "22                   True             True                 True      bitcoin  \n",
       "23                   True             True                 True      bitcoin  "
      ]
     },
     "execution_count": 2,
     "metadata": {},
     "output_type": "execute_result"
    }
   ],
   "source": [
    "network = mappable_params\n",
    "\n",
    "models = []\n",
    "implicit_mdps = []\n",
    "\n",
    "\n",
    "def add_model(*, implicit_mdp, **model):\n",
    "    models.append(model)\n",
    "    implicit_mdps.append(implicit_mdp)\n",
    "\n",
    "\n",
    "add_model(\n",
    "    problem=\"ref-fc16\",\n",
    "    model=\"fc16sapirshtein\",\n",
    "    force_consider_own=True,\n",
    "    merge_isomorphic=True,\n",
    "    truncate_common_chain=True,\n",
    "    collect_garbage=True,\n",
    "    reward_common_chain=True,\n",
    "    protocol=\"bitcoin\",\n",
    "    implicit_mdp=lambda c: FC16Sapirshtein(\n",
    "        **network,\n",
    "        maximum_dag_size=c,\n",
    "        maximum_fork_length=0,\n",
    "    ),\n",
    ")\n",
    "\n",
    "add_model(\n",
    "    problem=\"ref-aft20\",\n",
    "    model=\"aft20barzur\",\n",
    "    force_consider_own=True,\n",
    "    merge_isomorphic=True,\n",
    "    truncate_common_chain=True,\n",
    "    collect_garbage=True,\n",
    "    reward_common_chain=True,\n",
    "    protocol=\"bitcoin\",\n",
    "    implicit_mdp=lambda c: AFT20BarZur(\n",
    "        **network, maximum_dag_size=c, maximum_fork_length=0\n",
    "    ),\n",
    ")\n",
    "\n",
    "\n",
    "# our baseline: garbage collection + common chain truncation\n",
    "# we want to compare to:\n",
    "# - no common chain truncation (all infinite)\n",
    "# - no garbage collection (infinite for protocols that allow stale blocks)\n",
    "# - plus force-consider-own\n",
    "# - plus merge-isomorphic\n",
    "# - plus both\n",
    "\n",
    "\n",
    "def add_problem(\n",
    "    problem,\n",
    "    *,\n",
    "    collect_garbage=True,\n",
    "    truncate_common_chain=True,\n",
    "    force_consider_own=False,\n",
    "    merge_isomorphic=False,\n",
    "):\n",
    "    def f(protocol_s, protocol_C, **protocol_args):\n",
    "        model_args = dict(\n",
    "            force_consider_own=force_consider_own,\n",
    "            merge_isomorphic=merge_isomorphic,\n",
    "            truncate_common_chain=truncate_common_chain,\n",
    "            collect_garbage=collect_garbage,\n",
    "            reward_common_chain=True,\n",
    "        )\n",
    "        add_model(\n",
    "            problem=problem,\n",
    "            model=\"generic-v1\",\n",
    "            protocol=protocol_s,\n",
    "            **model_args,\n",
    "            implicit_mdp=lambda c: G1Model(\n",
    "                protocol_C,\n",
    "                **protocol_args,\n",
    "                **network,\n",
    "                **model_args,\n",
    "                dag_size_cutoff=c,\n",
    "            ),\n",
    "        )\n",
    "\n",
    "    f(\"bitcoin\", g1.Bitcoin)\n",
    "    f(\"ethereum_3\", g1.Ethereum, h=3)\n",
    "    f(\"byzantium_3\", g1.Byzantium, h=3)\n",
    "    f(\"ghostdag_3\", g1.Ghostdag, k=3)\n",
    "    f(\"parallel_3\", g1.Parallel, k=3)\n",
    "\n",
    "\n",
    "add_problem(\"v1\")\n",
    "# add_problem(\"v1-gc\", collect_garbage=False)\n",
    "# add_problem(\"v1-tc\", truncate_common_chain=False)\n",
    "add_problem(\"v1+fc\", force_consider_own=True)\n",
    "add_problem(\"v1+n\", merge_isomorphic=True)\n",
    "add_problem(\"v1+fc+n\", force_consider_own=True, merge_isomorphic=True)\n",
    "\n",
    "\n",
    "add_model(\n",
    "    problem=\"v0+fc+n\",\n",
    "    model=\"generic-v0\",\n",
    "    force_consider_own=True,\n",
    "    merge_isomorphic=True,\n",
    "    truncate_common_chain=True,\n",
    "    collect_garbage=True,\n",
    "    reward_common_chain=True,\n",
    "    protocol=\"bitcoin\",\n",
    "    implicit_mdp=lambda c: G0Model(\n",
    "        G0Bitcoin(),\n",
    "        **network,\n",
    "        maximum_size=c,\n",
    "        force_consider_own=True,\n",
    "        merge_isomorphic=True,\n",
    "    ),\n",
    ")\n",
    "\n",
    "add_model(\n",
    "    problem=\"v0\",\n",
    "    model=\"generic-v0\",\n",
    "    force_consider_own=False,\n",
    "    merge_isomorphic=False,\n",
    "    truncate_common_chain=True,\n",
    "    collect_garbage=True,\n",
    "    reward_common_chain=True,\n",
    "    protocol=\"bitcoin\",\n",
    "    implicit_mdp=lambda c: G0Model(\n",
    "        G0Bitcoin(),\n",
    "        **network,\n",
    "        maximum_size=c,\n",
    "        force_consider_own=False,\n",
    "        merge_isomorphic=False,\n",
    "    ),\n",
    ")\n",
    "\n",
    "models = pandas.DataFrame(models)\n",
    "models"
   ]
  },
  {
   "cell_type": "code",
   "execution_count": 3,
   "id": "0eefcfab-91a2-4db9-b1fa-202fed55f287",
   "metadata": {
    "execution": {
     "iopub.execute_input": "2025-01-06T11:45:03.587060Z",
     "iopub.status.busy": "2025-01-06T11:45:03.586922Z",
     "iopub.status.idle": "2025-01-06T11:45:03.705045Z",
     "shell.execute_reply": "2025-01-06T11:45:03.703997Z"
    }
   },
   "outputs": [],
   "source": [
    "!mkdir -p 5-generated-mdps"
   ]
  },
  {
   "cell_type": "code",
   "execution_count": 4,
   "id": "800a7726-5461-416d-a07b-1b718a70a472",
   "metadata": {
    "execution": {
     "iopub.execute_input": "2025-01-06T11:45:03.709287Z",
     "iopub.status.busy": "2025-01-06T11:45:03.709054Z",
     "iopub.status.idle": "2025-01-06T11:45:03.718220Z",
     "shell.execute_reply": "2025-01-06T11:45:03.717552Z"
    }
   },
   "outputs": [],
   "source": [
    "from IPython.display import display, clear_output\n",
    "import gc\n",
    "import psutil\n",
    "import pickle\n",
    "import gzip\n",
    "\n",
    "max_size = 100000\n",
    "# max_size = 5000\n",
    "aborts = []\n",
    "size_log = []\n",
    "\n",
    "\n",
    "def get_rss():\n",
    "    gc.collect()\n",
    "    return psutil.Process().memory_info().rss / 1024**3  # GiB\n",
    "\n",
    "\n",
    "def explore(m):\n",
    "    c = Compiler(m)\n",
    "    while not_done := c.explore(steps=1000):\n",
    "        if c.n_states > max_size:\n",
    "            break\n",
    "    done = not not_done\n",
    "    return (done, c)\n",
    "\n",
    "\n",
    "def explore_row_limit(idx, row, dag_size_limit):\n",
    "    m = implicit_mdps[idx](dag_size_limit)\n",
    "    start_time = time.monotonic()\n",
    "    done, c = explore(m)\n",
    "\n",
    "    info = row.to_dict() | dict(\n",
    "        dag_size_limit=dag_size_limit,\n",
    "        size=c.n_states,\n",
    "        time_spent=time.monotonic() - start_time,\n",
    "        rss=get_rss(),\n",
    "    )\n",
    "\n",
    "    # report to stdout\n",
    "    print(\n",
    "        \"\\r\"\n",
    "        + \"\\t\".join(\n",
    "            [\n",
    "                f\"{k}: {info[k]}\"\n",
    "                for k in [\n",
    "                    \"problem\",\n",
    "                    \"protocol\",\n",
    "                    \"dag_size_limit\",\n",
    "                    \"size\",\n",
    "                    \"time_spent\",\n",
    "                    \"rss\",\n",
    "                ]\n",
    "            ]\n",
    "            + [f\"done: {done}                      \"]\n",
    "        ),\n",
    "        end=\"\",\n",
    "    )\n",
    "\n",
    "    if not done:\n",
    "        aborts.append(info)\n",
    "    else:\n",
    "        mdp_key = format(abs(hash(frozenset(info.items()))), \"08x\")[0:8]\n",
    "        size_log.append(info | dict(mdp=mdp_key))\n",
    "        with gzip.open(f\"5-generated-mdps/mdp-{mdp_key}.pkl.gz\", \"wb\") as f:\n",
    "            pickle.dump(c.mdp(finish_exploration=False), f)\n",
    "\n",
    "    return done"
   ]
  },
  {
   "cell_type": "code",
   "execution_count": 5,
   "id": "713d8cf0-1c0c-453f-ba9d-578b2b925a9e",
   "metadata": {
    "execution": {
     "iopub.execute_input": "2025-01-06T11:45:03.720661Z",
     "iopub.status.busy": "2025-01-06T11:45:03.720438Z",
     "iopub.status.idle": "2025-01-06T13:05:03.848975Z",
     "shell.execute_reply": "2025-01-06T13:05:03.848542Z"
    }
   },
   "outputs": [
    {
     "name": "stdout",
     "output_type": "stream",
     "text": [
      "\r",
      "problem: ref-fc16\tprotocol: bitcoin\tdag_size_limit: 2\tsize: 3\ttime_spent: 0.00023024399979476584\trss: 0.172882080078125\tdone: True                      "
     ]
    },
    {
     "name": "stdout",
     "output_type": "stream",
     "text": [
      "\r",
      "problem: ref-fc16\tprotocol: bitcoin\tdag_size_limit: 3\tsize: 9\ttime_spent: 0.0006520670003737905\trss: 0.173004150390625\tdone: True                      \r",
      "problem: ref-fc16\tprotocol: bitcoin\tdag_size_limit: 4\tsize: 18\ttime_spent: 0.0006074430002627196\trss: 0.173004150390625\tdone: True                      \r",
      "problem: ref-fc16\tprotocol: bitcoin\tdag_size_limit: 5\tsize: 31\ttime_spent: 0.0010280249998686486\trss: 0.173004150390625\tdone: True                      "
     ]
    },
    {
     "name": "stdout",
     "output_type": "stream",
     "text": [
      "\r",
      "problem: ref-fc16\tprotocol: bitcoin\tdag_size_limit: 6\tsize: 47\ttime_spent: 0.001537694000035117\trss: 0.173126220703125\tdone: True                      "
     ]
    },
    {
     "name": "stdout",
     "output_type": "stream",
     "text": [
      "\r",
      "problem: ref-fc16\tprotocol: bitcoin\tdag_size_limit: 7\tsize: 67\ttime_spent: 0.0021619889994326513\trss: 0.173126220703125\tdone: True                      \r",
      "problem: ref-fc16\tprotocol: bitcoin\tdag_size_limit: 8\tsize: 90\ttime_spent: 0.003061893000449345\trss: 0.173126220703125\tdone: True                      \r",
      "problem: ref-fc16\tprotocol: bitcoin\tdag_size_limit: 9\tsize: 117\ttime_spent: 0.003849495000395109\trss: 0.173126220703125\tdone: True                      "
     ]
    },
    {
     "name": "stdout",
     "output_type": "stream",
     "text": [
      "\r",
      "problem: ref-fc16\tprotocol: bitcoin\tdag_size_limit: 10\tsize: 147\ttime_spent: 0.004942290999679244\trss: 0.173248291015625\tdone: True                      "
     ]
    },
    {
     "name": "stdout",
     "output_type": "stream",
     "text": [
      "\r",
      "problem: ref-fc16\tprotocol: bitcoin\tdag_size_limit: 11\tsize: 181\ttime_spent: 0.005805736999718647\trss: 0.173248291015625\tdone: True                      \r",
      "problem: ref-fc16\tprotocol: bitcoin\tdag_size_limit: 12\tsize: 218\ttime_spent: 0.007435795000674261\trss: 0.173248291015625\tdone: True                      \r",
      "problem: ref-fc16\tprotocol: bitcoin\tdag_size_limit: 13\tsize: 259\ttime_spent: 0.00890535100006673\trss: 0.173370361328125\tdone: True                      "
     ]
    },
    {
     "name": "stdout",
     "output_type": "stream",
     "text": [
      "\r",
      "problem: ref-fc16\tprotocol: bitcoin\tdag_size_limit: 14\tsize: 303\ttime_spent: 0.01040690599984373\trss: 0.173492431640625\tdone: True                      "
     ]
    },
    {
     "name": "stdout",
     "output_type": "stream",
     "text": [
      "\r",
      "problem: ref-fc16\tprotocol: bitcoin\tdag_size_limit: 15\tsize: 351\ttime_spent: 0.01182823199997074\trss: 0.173614501953125\tdone: True                      \r",
      "problem: ref-aft20\tprotocol: bitcoin\tdag_size_limit: 2\tsize: 3\ttime_spent: 0.00012606699965544976\trss: 0.173614501953125\tdone: True                      \r",
      "problem: ref-aft20\tprotocol: bitcoin\tdag_size_limit: 3\tsize: 8\ttime_spent: 0.00022836999960418325\trss: 0.173614501953125\tdone: True                      "
     ]
    },
    {
     "name": "stdout",
     "output_type": "stream",
     "text": [
      "\r",
      "problem: ref-aft20\tprotocol: bitcoin\tdag_size_limit: 4\tsize: 15\ttime_spent: 0.00040631499996379716\trss: 0.173614501953125\tdone: True                      \r",
      "problem: ref-aft20\tprotocol: bitcoin\tdag_size_limit: 5\tsize: 25\ttime_spent: 0.0007243740001285914\trss: 0.173614501953125\tdone: True                      "
     ]
    },
    {
     "name": "stdout",
     "output_type": "stream",
     "text": [
      "\r",
      "problem: ref-aft20\tprotocol: bitcoin\tdag_size_limit: 6\tsize: 37\ttime_spent: 0.0009032489997480297\trss: 0.173614501953125\tdone: True                      \r",
      "problem: ref-aft20\tprotocol: bitcoin\tdag_size_limit: 7\tsize: 52\ttime_spent: 0.001264208999600669\trss: 0.173614501953125\tdone: True                      "
     ]
    },
    {
     "name": "stdout",
     "output_type": "stream",
     "text": [
      "\r",
      "problem: ref-aft20\tprotocol: bitcoin\tdag_size_limit: 8\tsize: 69\ttime_spent: 0.0017138459998022881\trss: 0.173614501953125\tdone: True                      \r",
      "problem: ref-aft20\tprotocol: bitcoin\tdag_size_limit: 9\tsize: 89\ttime_spent: 0.002175714000259177\trss: 0.173614501953125\tdone: True                      "
     ]
    },
    {
     "name": "stdout",
     "output_type": "stream",
     "text": [
      "\r",
      "problem: ref-aft20\tprotocol: bitcoin\tdag_size_limit: 10\tsize: 111\ttime_spent: 0.002739225000368606\trss: 0.173614501953125\tdone: True                      \r",
      "problem: ref-aft20\tprotocol: bitcoin\tdag_size_limit: 11\tsize: 136\ttime_spent: 0.003504244999930961\trss: 0.173614501953125\tdone: True                      "
     ]
    },
    {
     "name": "stdout",
     "output_type": "stream",
     "text": [
      "\r",
      "problem: ref-aft20\tprotocol: bitcoin\tdag_size_limit: 12\tsize: 163\ttime_spent: 0.004045364000376139\trss: 0.173614501953125\tdone: True                      \r",
      "problem: ref-aft20\tprotocol: bitcoin\tdag_size_limit: 13\tsize: 193\ttime_spent: 0.004718219999631401\trss: 0.173614501953125\tdone: True                      "
     ]
    },
    {
     "name": "stdout",
     "output_type": "stream",
     "text": [
      "\r",
      "problem: ref-aft20\tprotocol: bitcoin\tdag_size_limit: 14\tsize: 225\ttime_spent: 0.005533354000363033\trss: 0.173614501953125\tdone: True                      \r",
      "problem: ref-aft20\tprotocol: bitcoin\tdag_size_limit: 15\tsize: 260\ttime_spent: 0.006388642999809235\trss: 0.173614501953125\tdone: True                      "
     ]
    },
    {
     "name": "stdout",
     "output_type": "stream",
     "text": [
      "\r",
      "problem: v1\tprotocol: bitcoin\tdag_size_limit: 2\tsize: 6\ttime_spent: 0.0021289470005285693\trss: 0.173614501953125\tdone: True                      "
     ]
    },
    {
     "name": "stdout",
     "output_type": "stream",
     "text": [
      "\r",
      "problem: v1\tprotocol: bitcoin\tdag_size_limit: 3\tsize: 34\ttime_spent: 0.01023965100011992\trss: 0.173614501953125\tdone: True                      "
     ]
    },
    {
     "name": "stdout",
     "output_type": "stream",
     "text": [
      "\r",
      "problem: v1\tprotocol: bitcoin\tdag_size_limit: 4\tsize: 267\ttime_spent: 0.08647077200021158\trss: 0.175445556640625\tdone: True                      "
     ]
    },
    {
     "name": "stdout",
     "output_type": "stream",
     "text": [
      "\r",
      "problem: v1\tprotocol: bitcoin\tdag_size_limit: 5\tsize: 2332\ttime_spent: 1.1012501990007877\trss: 0.189849853515625\tdone: True                      "
     ]
    },
    {
     "name": "stdout",
     "output_type": "stream",
     "text": [
      "\r",
      "problem: v1\tprotocol: bitcoin\tdag_size_limit: 6\tsize: 21327\ttime_spent: 13.848766597000576\trss: 0.340728759765625\tdone: True                      "
     ]
    },
    {
     "name": "stdout",
     "output_type": "stream",
     "text": [
      "\r",
      "problem: v1\tprotocol: bitcoin\tdag_size_limit: 7\tsize: 100733\ttime_spent: 60.5480380049994\trss: 0.9820060729980469\tdone: False                      "
     ]
    },
    {
     "name": "stdout",
     "output_type": "stream",
     "text": [
      "\r",
      "problem: v1\tprotocol: ethereum_3\tdag_size_limit: 2\tsize: 6\ttime_spent: 0.0026108339998245356\trss: 0.22471237182617188\tdone: True                      \r",
      "problem: v1\tprotocol: ethereum_3\tdag_size_limit: 3\tsize: 45\ttime_spent: 0.017836048000390292\trss: 0.21934127807617188\tdone: True                      "
     ]
    },
    {
     "name": "stdout",
     "output_type": "stream",
     "text": [
      "\r",
      "problem: v1\tprotocol: ethereum_3\tdag_size_limit: 4\tsize: 327\ttime_spent: 0.12378197399993951\trss: 0.21909713745117188\tdone: True                      "
     ]
    },
    {
     "name": "stdout",
     "output_type": "stream",
     "text": [
      "\r",
      "problem: v1\tprotocol: ethereum_3\tdag_size_limit: 5\tsize: 2981\ttime_spent: 1.588771288999851\trss: 0.21885299682617188\tdone: True                      "
     ]
    },
    {
     "name": "stdout",
     "output_type": "stream",
     "text": [
      "\r",
      "problem: v1\tprotocol: ethereum_3\tdag_size_limit: 6\tsize: 32961\ttime_spent: 22.734242538000217\trss: 0.4399223327636719\tdone: True                      "
     ]
    },
    {
     "name": "stdout",
     "output_type": "stream",
     "text": [
      "\r",
      "problem: v1\tprotocol: ethereum_3\tdag_size_limit: 7\tsize: 100084\ttime_spent: 63.20851031100028\trss: 0.9644622802734375\tdone: False                      "
     ]
    },
    {
     "name": "stdout",
     "output_type": "stream",
     "text": [
      "\r",
      "problem: v1\tprotocol: byzantium_3\tdag_size_limit: 2\tsize: 6\ttime_spent: 0.002718146000006527\trss: 0.22503662109375\tdone: True                      \r",
      "problem: v1\tprotocol: byzantium_3\tdag_size_limit: 3\tsize: 45\ttime_spent: 0.018707498999901873\trss: 0.22039794921875\tdone: True                      "
     ]
    },
    {
     "name": "stdout",
     "output_type": "stream",
     "text": [
      "\r",
      "problem: v1\tprotocol: byzantium_3\tdag_size_limit: 4\tsize: 327\ttime_spent: 0.131112220000432\trss: 0.21990966796875\tdone: True                      "
     ]
    },
    {
     "name": "stdout",
     "output_type": "stream",
     "text": [
      "\r",
      "problem: v1\tprotocol: byzantium_3\tdag_size_limit: 5\tsize: 2981\ttime_spent: 1.6270551609995891\trss: 0.21990966796875\tdone: True                      "
     ]
    },
    {
     "name": "stdout",
     "output_type": "stream",
     "text": [
      "\r",
      "problem: v1\tprotocol: byzantium_3\tdag_size_limit: 6\tsize: 33016\ttime_spent: 23.47243778899974\trss: 0.44061279296875\tdone: True                      "
     ]
    },
    {
     "name": "stdout",
     "output_type": "stream",
     "text": [
      "\r",
      "problem: v1\tprotocol: byzantium_3\tdag_size_limit: 7\tsize: 100073\ttime_spent: 66.22179167099966\trss: 0.9642906188964844\tdone: False                      "
     ]
    },
    {
     "name": "stdout",
     "output_type": "stream",
     "text": [
      "\r",
      "problem: v1\tprotocol: ghostdag_3\tdag_size_limit: 2\tsize: 6\ttime_spent: 0.0023354949998974917\trss: 0.22806167602539062\tdone: True                      \r",
      "problem: v1\tprotocol: ghostdag_3\tdag_size_limit: 3\tsize: 45\ttime_spent: 0.018475050999768428\trss: 0.224945068359375\tdone: True                      "
     ]
    },
    {
     "name": "stdout",
     "output_type": "stream",
     "text": [
      "\r",
      "problem: v1\tprotocol: ghostdag_3\tdag_size_limit: 4\tsize: 352\ttime_spent: 0.15841436400023667\trss: 0.224700927734375\tdone: True                      "
     ]
    },
    {
     "name": "stdout",
     "output_type": "stream",
     "text": [
      "\r",
      "problem: v1\tprotocol: ghostdag_3\tdag_size_limit: 5\tsize: 3712\ttime_spent: 2.341345430999354\trss: 0.224578857421875\tdone: True                      "
     ]
    },
    {
     "name": "stdout",
     "output_type": "stream",
     "text": [
      "\r",
      "problem: v1\tprotocol: ghostdag_3\tdag_size_limit: 6\tsize: 46966\ttime_spent: 36.048499821000405\trss: 0.538665771484375\tdone: True                      "
     ]
    },
    {
     "name": "stdout",
     "output_type": "stream",
     "text": [
      "\r",
      "problem: v1\tprotocol: ghostdag_3\tdag_size_limit: 7\tsize: 100114\ttime_spent: 64.91680156800066\trss: 0.9342918395996094\tdone: False                      "
     ]
    },
    {
     "name": "stdout",
     "output_type": "stream",
     "text": [
      "\r",
      "problem: v1\tprotocol: parallel_3\tdag_size_limit: 2\tsize: 76\ttime_spent: 0.026845101999242615\trss: 0.443023681640625\tdone: True                      \r",
      "problem: v1\tprotocol: parallel_3\tdag_size_limit: 3\tsize: 90\ttime_spent: 0.030761252000047534\trss: 0.286285400390625\tdone: True                      "
     ]
    },
    {
     "name": "stdout",
     "output_type": "stream",
     "text": [
      "\r",
      "problem: v1\tprotocol: parallel_3\tdag_size_limit: 4\tsize: 206\ttime_spent: 0.07129171099950327\trss: 0.282135009765625\tdone: True                      "
     ]
    },
    {
     "name": "stdout",
     "output_type": "stream",
     "text": [
      "\r",
      "problem: v1\tprotocol: parallel_3\tdag_size_limit: 5\tsize: 1189\ttime_spent: 0.5703969420001158\trss: 0.2818946838378906\tdone: True                      "
     ]
    },
    {
     "name": "stdout",
     "output_type": "stream",
     "text": [
      "\r",
      "problem: v1\tprotocol: parallel_3\tdag_size_limit: 6\tsize: 9122\ttime_spent: 5.335933156000465\trss: 0.2779884338378906\tdone: True                      "
     ]
    },
    {
     "name": "stdout",
     "output_type": "stream",
     "text": [
      "\r",
      "problem: v1\tprotocol: parallel_3\tdag_size_limit: 7\tsize: 82753\ttime_spent: 58.426416858000266\trss: 0.9169044494628906\tdone: True                      "
     ]
    },
    {
     "name": "stdout",
     "output_type": "stream",
     "text": [
      "\r",
      "problem: v1\tprotocol: parallel_3\tdag_size_limit: 8\tsize: 100206\ttime_spent: 67.28746706499987\trss: 1.0665931701660156\tdone: False                      "
     ]
    },
    {
     "name": "stdout",
     "output_type": "stream",
     "text": [
      "\r",
      "problem: v1+fc\tprotocol: bitcoin\tdag_size_limit: 2\tsize: 5\ttime_spent: 0.0021508970003196737\trss: 0.23394012451171875\tdone: True                      \r",
      "problem: v1+fc\tprotocol: bitcoin\tdag_size_limit: 3\tsize: 21\ttime_spent: 0.00753153499954351\trss: 0.22617721557617188\tdone: True                      \r",
      "problem: v1+fc\tprotocol: bitcoin\tdag_size_limit: 4\tsize: 58\ttime_spent: 0.02027051300046878\trss: 0.22593307495117188\tdone: True                      "
     ]
    },
    {
     "name": "stdout",
     "output_type": "stream",
     "text": [
      "\r",
      "problem: v1+fc\tprotocol: bitcoin\tdag_size_limit: 5\tsize: 186\ttime_spent: 0.07746413499990012\trss: 0.22593307495117188\tdone: True                      "
     ]
    },
    {
     "name": "stdout",
     "output_type": "stream",
     "text": [
      "\r",
      "problem: v1+fc\tprotocol: bitcoin\tdag_size_limit: 6\tsize: 549\ttime_spent: 0.24624774800031446\trss: 0.22568893432617188\tdone: True                      "
     ]
    },
    {
     "name": "stdout",
     "output_type": "stream",
     "text": [
      "\r",
      "problem: v1+fc\tprotocol: bitcoin\tdag_size_limit: 7\tsize: 1650\ttime_spent: 0.9416160279997712\trss: 0.22544479370117188\tdone: True                      "
     ]
    },
    {
     "name": "stdout",
     "output_type": "stream",
     "text": [
      "\r",
      "problem: v1+fc\tprotocol: bitcoin\tdag_size_limit: 8\tsize: 4968\ttime_spent: 3.287593576999825\trss: 0.23093795776367188\tdone: True                      "
     ]
    },
    {
     "name": "stdout",
     "output_type": "stream",
     "text": [
      "\r",
      "problem: v1+fc\tprotocol: bitcoin\tdag_size_limit: 9\tsize: 15172\ttime_spent: 12.01616819299943\trss: 0.3317680358886719\tdone: True                      "
     ]
    },
    {
     "name": "stdout",
     "output_type": "stream",
     "text": [
      "\r",
      "problem: v1+fc\tprotocol: bitcoin\tdag_size_limit: 10\tsize: 46756\ttime_spent: 41.68892638199941\trss: 0.6686820983886719\tdone: True                      "
     ]
    },
    {
     "name": "stdout",
     "output_type": "stream",
     "text": [
      "\r",
      "problem: v1+fc\tprotocol: bitcoin\tdag_size_limit: 11\tsize: 100126\ttime_spent: 87.12275289399986\trss: 1.2576560974121094\tdone: False                      "
     ]
    },
    {
     "name": "stdout",
     "output_type": "stream",
     "text": [
      "\r",
      "problem: v1+fc\tprotocol: ethereum_3\tdag_size_limit: 2\tsize: 5\ttime_spent: 0.002339441000003717\trss: 0.23663711547851562\tdone: True                      \r",
      "problem: v1+fc\tprotocol: ethereum_3\tdag_size_limit: 3\tsize: 41\ttime_spent: 0.01973757299947465\trss: 0.23297500610351562\tdone: True                      \r",
      "problem: v1+fc\tprotocol: ethereum_3\tdag_size_limit: 4\tsize: 78\ttime_spent: 0.034412173999953666\trss: 0.23248672485351562\tdone: True                      "
     ]
    },
    {
     "name": "stdout",
     "output_type": "stream",
     "text": [
      "\r",
      "problem: v1+fc\tprotocol: ethereum_3\tdag_size_limit: 5\tsize: 290\ttime_spent: 0.1467963580007563\trss: 0.23248672485351562\tdone: True                      "
     ]
    },
    {
     "name": "stdout",
     "output_type": "stream",
     "text": [
      "\r",
      "problem: v1+fc\tprotocol: ethereum_3\tdag_size_limit: 6\tsize: 1179\ttime_spent: 0.7250956920006502\trss: 0.23224258422851562\tdone: True                      "
     ]
    },
    {
     "name": "stdout",
     "output_type": "stream",
     "text": [
      "\r",
      "problem: v1+fc\tprotocol: ethereum_3\tdag_size_limit: 7\tsize: 4123\ttime_spent: 2.8022302350000245\trss: 0.23077774047851562\tdone: True                      "
     ]
    },
    {
     "name": "stdout",
     "output_type": "stream",
     "text": [
      "\r",
      "problem: v1+fc\tprotocol: ethereum_3\tdag_size_limit: 8\tsize: 15257\ttime_spent: 11.617489101000501\trss: 0.3248939514160156\tdone: True                      "
     ]
    },
    {
     "name": "stdout",
     "output_type": "stream",
     "text": [
      "\r",
      "problem: v1+fc\tprotocol: ethereum_3\tdag_size_limit: 9\tsize: 57506\ttime_spent: 49.4537729499998\trss: 0.7517738342285156\tdone: True                      "
     ]
    },
    {
     "name": "stdout",
     "output_type": "stream",
     "text": [
      "\r",
      "problem: v1+fc\tprotocol: ethereum_3\tdag_size_limit: 10\tsize: 100450\ttime_spent: 82.92232901500029\trss: 1.1935195922851562\tdone: False                      "
     ]
    },
    {
     "name": "stdout",
     "output_type": "stream",
     "text": [
      "\r",
      "problem: v1+fc\tprotocol: byzantium_3\tdag_size_limit: 2\tsize: 5\ttime_spent: 0.0025327339999421383\trss: 0.24885177612304688\tdone: True                      \r",
      "problem: v1+fc\tprotocol: byzantium_3\tdag_size_limit: 3\tsize: 41\ttime_spent: 0.022180197999659867\trss: 0.23946762084960938\tdone: True                      \r",
      "problem: v1+fc\tprotocol: byzantium_3\tdag_size_limit: 4\tsize: 78\ttime_spent: 0.037134014000002935\trss: 0.23849105834960938\tdone: True                      "
     ]
    },
    {
     "name": "stdout",
     "output_type": "stream",
     "text": [
      "\r",
      "problem: v1+fc\tprotocol: byzantium_3\tdag_size_limit: 5\tsize: 290\ttime_spent: 0.16226472900052613\trss: 0.23849105834960938\tdone: True                      "
     ]
    },
    {
     "name": "stdout",
     "output_type": "stream",
     "text": [
      "\r",
      "problem: v1+fc\tprotocol: byzantium_3\tdag_size_limit: 6\tsize: 1109\ttime_spent: 0.7537971789997755\trss: 0.23849105834960938\tdone: True                      "
     ]
    },
    {
     "name": "stdout",
     "output_type": "stream",
     "text": [
      "\r",
      "problem: v1+fc\tprotocol: byzantium_3\tdag_size_limit: 7\tsize: 3952\ttime_spent: 3.015079300999787\trss: 0.23849105834960938\tdone: True                      "
     ]
    },
    {
     "name": "stdout",
     "output_type": "stream",
     "text": [
      "\r",
      "problem: v1+fc\tprotocol: byzantium_3\tdag_size_limit: 8\tsize: 15177\ttime_spent: 13.143079845000102\trss: 0.3241844177246094\tdone: True                      "
     ]
    },
    {
     "name": "stdout",
     "output_type": "stream",
     "text": [
      "\r",
      "problem: v1+fc\tprotocol: byzantium_3\tdag_size_limit: 9\tsize: 56770\ttime_spent: 55.52007611800036\trss: 0.7483787536621094\tdone: True                      "
     ]
    },
    {
     "name": "stdout",
     "output_type": "stream",
     "text": [
      "\r",
      "problem: v1+fc\tprotocol: byzantium_3\tdag_size_limit: 10\tsize: 100334\ttime_spent: 91.77336020499934\trss: 1.1921348571777344\tdone: False                      "
     ]
    },
    {
     "name": "stdout",
     "output_type": "stream",
     "text": [
      "\r",
      "problem: v1+fc\tprotocol: ghostdag_3\tdag_size_limit: 2\tsize: 5\ttime_spent: 0.002298405000146886\trss: 0.24723052978515625\tdone: True                      \r",
      "problem: v1+fc\tprotocol: ghostdag_3\tdag_size_limit: 3\tsize: 23\ttime_spent: 0.01197112299996661\trss: 0.24015045166015625\tdone: True                      \r",
      "problem: v1+fc\tprotocol: ghostdag_3\tdag_size_limit: 4\tsize: 84\ttime_spent: 0.0453231040000901\trss: 0.23892974853515625\tdone: True                      "
     ]
    },
    {
     "name": "stdout",
     "output_type": "stream",
     "text": [
      "\r",
      "problem: v1+fc\tprotocol: ghostdag_3\tdag_size_limit: 5\tsize: 350\ttime_spent: 0.24447031900035654\trss: 0.23868560791015625\tdone: True                      "
     ]
    },
    {
     "name": "stdout",
     "output_type": "stream",
     "text": [
      "\r",
      "problem: v1+fc\tprotocol: ghostdag_3\tdag_size_limit: 6\tsize: 1527\ttime_spent: 1.3312265860004118\trss: 0.23868560791015625\tdone: True                      "
     ]
    },
    {
     "name": "stdout",
     "output_type": "stream",
     "text": [
      "\r",
      "problem: v1+fc\tprotocol: ghostdag_3\tdag_size_limit: 7\tsize: 6739\ttime_spent: 7.7438552799994795\trss: 0.243011474609375\tdone: True                      "
     ]
    },
    {
     "name": "stdout",
     "output_type": "stream",
     "text": [
      "\r",
      "problem: v1+fc\tprotocol: ghostdag_3\tdag_size_limit: 8\tsize: 31192\ttime_spent: 43.11434466500032\trss: 0.4642906188964844\tdone: True                      "
     ]
    },
    {
     "name": "stdout",
     "output_type": "stream",
     "text": [
      "\r",
      "problem: v1+fc\tprotocol: ghostdag_3\tdag_size_limit: 9\tsize: 100585\ttime_spent: 105.93721826099863\trss: 1.1151962280273438\tdone: False                      "
     ]
    },
    {
     "name": "stdout",
     "output_type": "stream",
     "text": [
      "\r",
      "problem: v1+fc\tprotocol: parallel_3\tdag_size_limit: 2\tsize: 61\ttime_spent: 0.024938516999100102\trss: 0.4428558349609375\tdone: True                      \r",
      "problem: v1+fc\tprotocol: parallel_3\tdag_size_limit: 3\tsize: 69\ttime_spent: 0.027987881001536152\trss: 0.2909088134765625\tdone: True                      "
     ]
    },
    {
     "name": "stdout",
     "output_type": "stream",
     "text": [
      "\r",
      "problem: v1+fc\tprotocol: parallel_3\tdag_size_limit: 4\tsize: 119\ttime_spent: 0.046277916999315494\trss: 0.2830963134765625\tdone: True                      "
     ]
    },
    {
     "name": "stdout",
     "output_type": "stream",
     "text": [
      "\r",
      "problem: v1+fc\tprotocol: parallel_3\tdag_size_limit: 5\tsize: 470\ttime_spent: 0.18878830900030152\trss: 0.2828559875488281\tdone: True                      "
     ]
    },
    {
     "name": "stdout",
     "output_type": "stream",
     "text": [
      "\r",
      "problem: v1+fc\tprotocol: parallel_3\tdag_size_limit: 6\tsize: 2050\ttime_spent: 0.9883781129992713\trss: 0.28189849853515625\tdone: True                      "
     ]
    },
    {
     "name": "stdout",
     "output_type": "stream",
     "text": [
      "\r",
      "problem: v1+fc\tprotocol: parallel_3\tdag_size_limit: 7\tsize: 8674\ttime_spent: 5.1516504129995155\trss: 0.27652740478515625\tdone: True                      "
     ]
    },
    {
     "name": "stdout",
     "output_type": "stream",
     "text": [
      "\r",
      "problem: v1+fc\tprotocol: parallel_3\tdag_size_limit: 8\tsize: 31850\ttime_spent: 22.855503144000977\trss: 0.49088287353515625\tdone: True                      "
     ]
    },
    {
     "name": "stdout",
     "output_type": "stream",
     "text": [
      "\r",
      "problem: v1+fc\tprotocol: parallel_3\tdag_size_limit: 9\tsize: 96542\ttime_spent: 81.89636469200013\trss: 1.1671524047851562\tdone: True                      "
     ]
    },
    {
     "name": "stdout",
     "output_type": "stream",
     "text": [
      "\r",
      "problem: v1+fc\tprotocol: parallel_3\tdag_size_limit: 10\tsize: 101052\ttime_spent: 82.22353205699983\trss: 1.248809814453125\tdone: False                      "
     ]
    },
    {
     "name": "stdout",
     "output_type": "stream",
     "text": [
      "\r",
      "problem: v1+n\tprotocol: bitcoin\tdag_size_limit: 2\tsize: 6\ttime_spent: 0.0029130790007911855\trss: 0.2630271911621094\tdone: True                      \r",
      "problem: v1+n\tprotocol: bitcoin\tdag_size_limit: 3\tsize: 45\ttime_spent: 0.018510218998926575\trss: 0.2554588317871094\tdone: True                      "
     ]
    },
    {
     "name": "stdout",
     "output_type": "stream",
     "text": [
      "\r",
      "problem: v1+n\tprotocol: bitcoin\tdag_size_limit: 4\tsize: 198\ttime_spent: 0.0929740280007536\trss: 0.2549705505371094\tdone: True                      "
     ]
    },
    {
     "name": "stdout",
     "output_type": "stream",
     "text": [
      "\r",
      "problem: v1+n\tprotocol: bitcoin\tdag_size_limit: 5\tsize: 1090\ttime_spent: 0.7392543380010466\trss: 0.2549705505371094\tdone: True                      "
     ]
    },
    {
     "name": "stdout",
     "output_type": "stream",
     "text": [
      "\r",
      "problem: v1+n\tprotocol: bitcoin\tdag_size_limit: 6\tsize: 5724\ttime_spent: 5.106709878000402\trss: 0.2537498474121094\tdone: True                      "
     ]
    },
    {
     "name": "stdout",
     "output_type": "stream",
     "text": [
      "\r",
      "problem: v1+n\tprotocol: bitcoin\tdag_size_limit: 7\tsize: 31532\ttime_spent: 37.0403481430003\trss: 0.4568748474121094\tdone: True                      "
     ]
    },
    {
     "name": "stdout",
     "output_type": "stream",
     "text": [
      "\r",
      "problem: v1+n\tprotocol: bitcoin\tdag_size_limit: 8\tsize: 100188\ttime_spent: 113.34138653599985\trss: 1.0711593627929688\tdone: False                      "
     ]
    },
    {
     "name": "stdout",
     "output_type": "stream",
     "text": [
      "\r",
      "problem: v1+n\tprotocol: ethereum_3\tdag_size_limit: 2\tsize: 6\ttime_spent: 0.0032061259989859536\trss: 0.2613487243652344\tdone: True                      \r",
      "problem: v1+n\tprotocol: ethereum_3\tdag_size_limit: 3\tsize: 78\ttime_spent: 0.04081726199910918\trss: 0.2576866149902344\tdone: True                      "
     ]
    },
    {
     "name": "stdout",
     "output_type": "stream",
     "text": [
      "\r",
      "problem: v1+n\tprotocol: ethereum_3\tdag_size_limit: 4\tsize: 231\ttime_spent: 0.12366178999945987\trss: 0.2567100524902344\tdone: True                      "
     ]
    },
    {
     "name": "stdout",
     "output_type": "stream",
     "text": [
      "\r",
      "problem: v1+n\tprotocol: ethereum_3\tdag_size_limit: 5\tsize: 1480\ttime_spent: 1.0521223840005405\trss: 0.2562217712402344\tdone: True                      "
     ]
    },
    {
     "name": "stdout",
     "output_type": "stream",
     "text": [
      "\r",
      "problem: v1+n\tprotocol: ethereum_3\tdag_size_limit: 6\tsize: 10293\ttime_spent: 8.98915671100076\trss: 0.2670555114746094\tdone: True                      "
     ]
    },
    {
     "name": "stdout",
     "output_type": "stream",
     "text": [
      "\r",
      "problem: v1+n\tprotocol: ethereum_3\tdag_size_limit: 7\tsize: 77694\ttime_spent: 78.811966063\trss: 0.8525047302246094\tdone: True                      "
     ]
    },
    {
     "name": "stdout",
     "output_type": "stream",
     "text": [
      "\r",
      "problem: v1+n\tprotocol: ethereum_3\tdag_size_limit: 8\tsize: 100621\ttime_spent: 106.78993518300013\trss: 1.0306205749511719\tdone: False                      "
     ]
    },
    {
     "name": "stdout",
     "output_type": "stream",
     "text": [
      "\r",
      "problem: v1+n\tprotocol: byzantium_3\tdag_size_limit: 2\tsize: 6\ttime_spent: 0.003277551999417483\trss: 0.26612091064453125\tdone: True                      \r",
      "problem: v1+n\tprotocol: byzantium_3\tdag_size_limit: 3\tsize: 78\ttime_spent: 0.04563812800006417\trss: 0.26148223876953125\tdone: True                      "
     ]
    },
    {
     "name": "stdout",
     "output_type": "stream",
     "text": [
      "\r",
      "problem: v1+n\tprotocol: byzantium_3\tdag_size_limit: 4\tsize: 231\ttime_spent: 0.13804242500009423\trss: 0.26050567626953125\tdone: True                      "
     ]
    },
    {
     "name": "stdout",
     "output_type": "stream",
     "text": [
      "\r",
      "problem: v1+n\tprotocol: byzantium_3\tdag_size_limit: 5\tsize: 1480\ttime_spent: 1.134244127999409\trss: 0.26050567626953125\tdone: True                      "
     ]
    },
    {
     "name": "stdout",
     "output_type": "stream",
     "text": [
      "\r",
      "problem: v1+n\tprotocol: byzantium_3\tdag_size_limit: 6\tsize: 9879\ttime_spent: 9.486779382999885\trss: 0.26305389404296875\tdone: True                      "
     ]
    },
    {
     "name": "stdout",
     "output_type": "stream",
     "text": [
      "\r",
      "problem: v1+n\tprotocol: byzantium_3\tdag_size_limit: 7\tsize: 72927\ttime_spent: 86.13406276200112\trss: 0.8066329956054688\tdone: True                      "
     ]
    },
    {
     "name": "stdout",
     "output_type": "stream",
     "text": [
      "\r",
      "problem: v1+n\tprotocol: byzantium_3\tdag_size_limit: 8\tsize: 100279\ttime_spent: 113.62294669500079\trss: 1.0341453552246094\tdone: False                      "
     ]
    },
    {
     "name": "stdout",
     "output_type": "stream",
     "text": [
      "\r",
      "problem: v1+n\tprotocol: ghostdag_3\tdag_size_limit: 2\tsize: 6\ttime_spent: 0.003039537999939057\trss: 0.2702484130859375\tdone: True                      \r",
      "problem: v1+n\tprotocol: ghostdag_3\tdag_size_limit: 3\tsize: 41\ttime_spent: 0.019731339998543262\trss: 0.26258087158203125\tdone: True                      "
     ]
    },
    {
     "name": "stdout",
     "output_type": "stream",
     "text": [
      "\r",
      "problem: v1+n\tprotocol: ghostdag_3\tdag_size_limit: 4\tsize: 228\ttime_spent: 0.13272480700106826\trss: 0.26184844970703125\tdone: True                      "
     ]
    },
    {
     "name": "stdout",
     "output_type": "stream",
     "text": [
      "\r",
      "problem: v1+n\tprotocol: ghostdag_3\tdag_size_limit: 5\tsize: 1581\ttime_spent: 1.1913207079996937\trss: 0.26184844970703125\tdone: True                      "
     ]
    },
    {
     "name": "stdout",
     "output_type": "stream",
     "text": [
      "\r",
      "problem: v1+n\tprotocol: ghostdag_3\tdag_size_limit: 6\tsize: 12644\ttime_spent: 12.745359307999024\trss: 0.2823905944824219\tdone: True                      "
     ]
    },
    {
     "name": "stdout",
     "output_type": "stream",
     "text": [
      "\r",
      "problem: v1+n\tprotocol: ghostdag_3\tdag_size_limit: 7\tsize: 100085\ttime_spent: 103.15925359099856\trss: 0.9828300476074219\tdone: False                      "
     ]
    },
    {
     "name": "stdout",
     "output_type": "stream",
     "text": [
      "\r",
      "problem: v1+n\tprotocol: parallel_3\tdag_size_limit: 2\tsize: 51\ttime_spent: 0.024019480999413645\trss: 0.38744354248046875\tdone: True                      \r",
      "problem: v1+n\tprotocol: parallel_3\tdag_size_limit: 3\tsize: 68\ttime_spent: 0.03029774999959045\trss: 0.29613494873046875\tdone: True                      "
     ]
    },
    {
     "name": "stdout",
     "output_type": "stream",
     "text": [
      "\r",
      "problem: v1+n\tprotocol: parallel_3\tdag_size_limit: 4\tsize: 152\ttime_spent: 0.07809654900120222\trss: 0.29418182373046875\tdone: True                      "
     ]
    },
    {
     "name": "stdout",
     "output_type": "stream",
     "text": [
      "\r",
      "problem: v1+n\tprotocol: parallel_3\tdag_size_limit: 5\tsize: 473\ttime_spent: 0.32428583100045216\trss: 0.29393768310546875\tdone: True                      "
     ]
    },
    {
     "name": "stdout",
     "output_type": "stream",
     "text": [
      "\r",
      "problem: v1+n\tprotocol: parallel_3\tdag_size_limit: 6\tsize: 1654\ttime_spent: 1.4178815329996723\trss: 0.29320526123046875\tdone: True                      "
     ]
    },
    {
     "name": "stdout",
     "output_type": "stream",
     "text": [
      "\r",
      "problem: v1+n\tprotocol: parallel_3\tdag_size_limit: 7\tsize: 6386\ttime_spent: 6.486343624001165\trss: 0.29076385498046875\tdone: True                      "
     ]
    },
    {
     "name": "stdout",
     "output_type": "stream",
     "text": [
      "\r",
      "problem: v1+n\tprotocol: parallel_3\tdag_size_limit: 8\tsize: 29302\ttime_spent: 34.92775235499903\trss: 0.46373748779296875\tdone: True                      "
     ]
    },
    {
     "name": "stdout",
     "output_type": "stream",
     "text": [
      "\r",
      "problem: v1+n\tprotocol: parallel_3\tdag_size_limit: 9\tsize: 100159\ttime_spent: 132.90232571200067\trss: 1.1843299865722656\tdone: False                      "
     ]
    },
    {
     "name": "stdout",
     "output_type": "stream",
     "text": [
      "\r",
      "problem: v1+fc+n\tprotocol: bitcoin\tdag_size_limit: 2\tsize: 5\ttime_spent: 0.0027358359984646086\trss: 0.2692413330078125\tdone: True                      \r",
      "problem: v1+fc+n\tprotocol: bitcoin\tdag_size_limit: 3\tsize: 18\ttime_spent: 0.00892603899956157\trss: 0.2631378173828125\tdone: True                      \r",
      "problem: v1+fc+n\tprotocol: bitcoin\tdag_size_limit: 4\tsize: 45\ttime_spent: 0.02370939599859412\trss: 0.2626495361328125\tdone: True                      "
     ]
    },
    {
     "name": "stdout",
     "output_type": "stream",
     "text": [
      "\r",
      "problem: v1+fc+n\tprotocol: bitcoin\tdag_size_limit: 5\tsize: 120\ttime_spent: 0.07633033199999772\trss: 0.2616729736328125\tdone: True                      "
     ]
    },
    {
     "name": "stdout",
     "output_type": "stream",
     "text": [
      "\r",
      "problem: v1+fc+n\tprotocol: bitcoin\tdag_size_limit: 6\tsize: 300\ttime_spent: 0.21702537599958305\trss: 0.2611846923828125\tdone: True                      "
     ]
    },
    {
     "name": "stdout",
     "output_type": "stream",
     "text": [
      "\r",
      "problem: v1+fc+n\tprotocol: bitcoin\tdag_size_limit: 7\tsize: 760\ttime_spent: 0.6246927150004922\trss: 0.2609405517578125\tdone: True                      "
     ]
    },
    {
     "name": "stdout",
     "output_type": "stream",
     "text": [
      "\r",
      "problem: v1+fc+n\tprotocol: bitcoin\tdag_size_limit: 8\tsize: 1959\ttime_spent: 2.0719238330002554\trss: 0.2606964111328125\tdone: True                      "
     ]
    },
    {
     "name": "stdout",
     "output_type": "stream",
     "text": [
      "\r",
      "problem: v1+fc+n\tprotocol: bitcoin\tdag_size_limit: 9\tsize: 5153\ttime_spent: 6.106551231001504\trss: 0.2580108642578125\tdone: True                      "
     ]
    },
    {
     "name": "stdout",
     "output_type": "stream",
     "text": [
      "\r",
      "problem: v1+fc+n\tprotocol: bitcoin\tdag_size_limit: 10\tsize: 13794\ttime_spent: 18.48250472699874\trss: 0.3306427001953125\tdone: True                      "
     ]
    },
    {
     "name": "stdout",
     "output_type": "stream",
     "text": [
      "\r",
      "problem: v1+fc+n\tprotocol: bitcoin\tdag_size_limit: 11\tsize: 37322\ttime_spent: 56.229281285999605\trss: 0.6013946533203125\tdone: True                      "
     ]
    },
    {
     "name": "stdout",
     "output_type": "stream",
     "text": [
      "\r",
      "problem: v1+fc+n\tprotocol: bitcoin\tdag_size_limit: 12\tsize: 100344\ttime_spent: 166.69658919799986\trss: 1.326690673828125\tdone: False                      "
     ]
    },
    {
     "name": "stdout",
     "output_type": "stream",
     "text": [
      "\r",
      "problem: v1+fc+n\tprotocol: ethereum_3\tdag_size_limit: 2\tsize: 5\ttime_spent: 0.0031777549993421417\trss: 0.2802734375\tdone: True                      \r",
      "problem: v1+fc+n\tprotocol: ethereum_3\tdag_size_limit: 3\tsize: 29\ttime_spent: 0.018248480999318417\trss: 0.27490234375\tdone: True                      \r",
      "problem: v1+fc+n\tprotocol: ethereum_3\tdag_size_limit: 4\tsize: 56\ttime_spent: 0.034678492998864385\trss: 0.273681640625\tdone: True                      "
     ]
    },
    {
     "name": "stdout",
     "output_type": "stream",
     "text": [
      "\r",
      "problem: v1+fc+n\tprotocol: ethereum_3\tdag_size_limit: 5\tsize: 186\ttime_spent: 0.13102364000042144\trss: 0.273193359375\tdone: True                      "
     ]
    },
    {
     "name": "stdout",
     "output_type": "stream",
     "text": [
      "\r",
      "problem: v1+fc+n\tprotocol: ethereum_3\tdag_size_limit: 6\tsize: 596\ttime_spent: 0.46572399100114126\trss: 0.273193359375\tdone: True                      "
     ]
    },
    {
     "name": "stdout",
     "output_type": "stream",
     "text": [
      "\r",
      "problem: v1+fc+n\tprotocol: ethereum_3\tdag_size_limit: 7\tsize: 1794\ttime_spent: 1.6569329209996795\trss: 0.272705078125\tdone: True                      "
     ]
    },
    {
     "name": "stdout",
     "output_type": "stream",
     "text": [
      "\r",
      "problem: v1+fc+n\tprotocol: ethereum_3\tdag_size_limit: 8\tsize: 5535\ttime_spent: 5.87937489900105\trss: 0.2715911865234375\tdone: True                      "
     ]
    },
    {
     "name": "stdout",
     "output_type": "stream",
     "text": [
      "\r",
      "problem: v1+fc+n\tprotocol: ethereum_3\tdag_size_limit: 9\tsize: 17089\ttime_spent: 20.47565744200074\trss: 0.3603363037109375\tdone: True                      "
     ]
    },
    {
     "name": "stdout",
     "output_type": "stream",
     "text": [
      "\r",
      "problem: v1+fc+n\tprotocol: ethereum_3\tdag_size_limit: 10\tsize: 51668\ttime_spent: 69.0419898250002\trss: 0.7239837646484375\tdone: True                      "
     ]
    },
    {
     "name": "stdout",
     "output_type": "stream",
     "text": [
      "\r",
      "problem: v1+fc+n\tprotocol: ethereum_3\tdag_size_limit: 11\tsize: 100435\ttime_spent: 142.75658481100072\trss: 1.2507209777832031\tdone: False                      "
     ]
    },
    {
     "name": "stdout",
     "output_type": "stream",
     "text": [
      "\r",
      "problem: v1+fc+n\tprotocol: byzantium_3\tdag_size_limit: 2\tsize: 5\ttime_spent: 0.0035197479992348235\trss: 0.2910881042480469\tdone: True                      \r",
      "problem: v1+fc+n\tprotocol: byzantium_3\tdag_size_limit: 3\tsize: 29\ttime_spent: 0.019462592999843764\trss: 0.2818107604980469\tdone: True                      \r",
      "problem: v1+fc+n\tprotocol: byzantium_3\tdag_size_limit: 4\tsize: 56\ttime_spent: 0.0370833440010756\trss: 0.2805900573730469\tdone: True                      "
     ]
    },
    {
     "name": "stdout",
     "output_type": "stream",
     "text": [
      "\r",
      "problem: v1+fc+n\tprotocol: byzantium_3\tdag_size_limit: 5\tsize: 186\ttime_spent: 0.14375432500128227\trss: 0.2796134948730469\tdone: True                      "
     ]
    },
    {
     "name": "stdout",
     "output_type": "stream",
     "text": [
      "\r",
      "problem: v1+fc+n\tprotocol: byzantium_3\tdag_size_limit: 6\tsize: 572\ttime_spent: 0.48192443999869283\trss: 0.2793693542480469\tdone: True                      "
     ]
    },
    {
     "name": "stdout",
     "output_type": "stream",
     "text": [
      "\r",
      "problem: v1+fc+n\tprotocol: byzantium_3\tdag_size_limit: 7\tsize: 1739\ttime_spent: 1.7825071639999805\trss: 0.2793693542480469\tdone: True                      "
     ]
    },
    {
     "name": "stdout",
     "output_type": "stream",
     "text": [
      "\r",
      "problem: v1+fc+n\tprotocol: byzantium_3\tdag_size_limit: 8\tsize: 5354\ttime_spent: 6.54381832999934\trss: 0.2774162292480469\tdone: True                      "
     ]
    },
    {
     "name": "stdout",
     "output_type": "stream",
     "text": [
      "\r",
      "problem: v1+fc+n\tprotocol: byzantium_3\tdag_size_limit: 9\tsize: 16243\ttime_spent: 21.803747726000438\trss: 0.3512687683105469\tdone: True                      "
     ]
    },
    {
     "name": "stdout",
     "output_type": "stream",
     "text": [
      "\r",
      "problem: v1+fc+n\tprotocol: byzantium_3\tdag_size_limit: 10\tsize: 48864\ttime_spent: 73.52336437600025\trss: 0.6930656433105469\tdone: True                      "
     ]
    },
    {
     "name": "stdout",
     "output_type": "stream",
     "text": [
      "\r",
      "problem: v1+fc+n\tprotocol: byzantium_3\tdag_size_limit: 11\tsize: 100160\ttime_spent: 155.18265027800044\trss: 1.2534523010253906\tdone: False                      "
     ]
    },
    {
     "name": "stdout",
     "output_type": "stream",
     "text": [
      "\r",
      "problem: v1+fc+n\tprotocol: ghostdag_3\tdag_size_limit: 2\tsize: 5\ttime_spent: 0.0029421219987852965\trss: 0.2925758361816406\tdone: True                      \r",
      "problem: v1+fc+n\tprotocol: ghostdag_3\tdag_size_limit: 3\tsize: 19\ttime_spent: 0.011516626000229735\trss: 0.2845191955566406\tdone: True                      \r",
      "problem: v1+fc+n\tprotocol: ghostdag_3\tdag_size_limit: 4\tsize: 57\ttime_spent: 0.039252071001101285\trss: 0.2828102111816406\tdone: True                      "
     ]
    },
    {
     "name": "stdout",
     "output_type": "stream",
     "text": [
      "\r",
      "problem: v1+fc+n\tprotocol: ghostdag_3\tdag_size_limit: 5\tsize: 184\ttime_spent: 0.15515321500060963\trss: 0.2823219299316406\tdone: True                      "
     ]
    },
    {
     "name": "stdout",
     "output_type": "stream",
     "text": [
      "\r",
      "problem: v1+fc+n\tprotocol: ghostdag_3\tdag_size_limit: 6\tsize: 604\ttime_spent: 0.5990148150012828\trss: 0.2823219299316406\tdone: True                      "
     ]
    },
    {
     "name": "stdout",
     "output_type": "stream",
     "text": [
      "\r",
      "problem: v1+fc+n\tprotocol: ghostdag_3\tdag_size_limit: 7\tsize: 2026\ttime_spent: 2.6874720790001447\trss: 0.2823219299316406\tdone: True                      "
     ]
    },
    {
     "name": "stdout",
     "output_type": "stream",
     "text": [
      "\r",
      "problem: v1+fc+n\tprotocol: ghostdag_3\tdag_size_limit: 8\tsize: 6914\ttime_spent: 11.003704889999426\trss: 0.2815399169921875\tdone: True                      "
     ]
    },
    {
     "name": "stdout",
     "output_type": "stream",
     "text": [
      "\r",
      "problem: v1+fc+n\tprotocol: ghostdag_3\tdag_size_limit: 9\tsize: 23944\ttime_spent: 46.93642179899871\trss: 0.4164276123046875\tdone: True                      "
     ]
    },
    {
     "name": "stdout",
     "output_type": "stream",
     "text": [
      "\r",
      "problem: v1+fc+n\tprotocol: ghostdag_3\tdag_size_limit: 10\tsize: 83952\ttime_spent: 195.7555068870006\trss: 1.0444717407226562\tdone: True                      "
     ]
    },
    {
     "name": "stdout",
     "output_type": "stream",
     "text": [
      "\r",
      "problem: v1+fc+n\tprotocol: ghostdag_3\tdag_size_limit: 11\tsize: 100819\ttime_spent: 184.94166985399897\trss: 1.2083053588867188\tdone: False                      "
     ]
    },
    {
     "name": "stdout",
     "output_type": "stream",
     "text": [
      "\r",
      "problem: v1+fc+n\tprotocol: parallel_3\tdag_size_limit: 2\tsize: 41\ttime_spent: 0.022363019999829703\trss: 0.4352378845214844\tdone: True                      \r",
      "problem: v1+fc+n\tprotocol: parallel_3\tdag_size_limit: 3\tsize: 50\ttime_spent: 0.025840819000222837\trss: 0.3156089782714844\tdone: True                      "
     ]
    },
    {
     "name": "stdout",
     "output_type": "stream",
     "text": [
      "\r",
      "problem: v1+fc+n\tprotocol: parallel_3\tdag_size_limit: 4\tsize: 84\ttime_spent: 0.04610947099899931\trss: 0.309356689453125\tdone: True                      \r",
      "problem: v1+fc+n\tprotocol: parallel_3\tdag_size_limit: 5\tsize: 191\ttime_spent: 0.12366552200001024\trss: 0.308380126953125\tdone: True                      "
     ]
    },
    {
     "name": "stdout",
     "output_type": "stream",
     "text": [
      "\r",
      "problem: v1+fc+n\tprotocol: parallel_3\tdag_size_limit: 6\tsize: 462\ttime_spent: 0.33940541399897484\trss: 0.307891845703125\tdone: True                      "
     ]
    },
    {
     "name": "stdout",
     "output_type": "stream",
     "text": [
      "\r",
      "problem: v1+fc+n\tprotocol: parallel_3\tdag_size_limit: 7\tsize: 1047\ttime_spent: 0.9709984170003736\trss: 0.307647705078125\tdone: True                      "
     ]
    },
    {
     "name": "stdout",
     "output_type": "stream",
     "text": [
      "\r",
      "problem: v1+fc+n\tprotocol: parallel_3\tdag_size_limit: 8\tsize: 2320\ttime_spent: 2.418882026000574\trss: 0.307159423828125\tdone: True                      "
     ]
    },
    {
     "name": "stdout",
     "output_type": "stream",
     "text": [
      "\r",
      "problem: v1+fc+n\tprotocol: parallel_3\tdag_size_limit: 9\tsize: 4967\ttime_spent: 6.142256006000025\trss: 0.3033332824707031\tdone: True                      "
     ]
    },
    {
     "name": "stdout",
     "output_type": "stream",
     "text": [
      "\r",
      "problem: v1+fc+n\tprotocol: parallel_3\tdag_size_limit: 10\tsize: 10419\ttime_spent: 14.261315306001052\trss: 0.3016242980957031\tdone: True                      "
     ]
    },
    {
     "name": "stdout",
     "output_type": "stream",
     "text": [
      "\r",
      "problem: v1+fc+n\tprotocol: parallel_3\tdag_size_limit: 11\tsize: 22041\ttime_spent: 34.426938487998996\trss: 0.4293098449707031\tdone: True                      "
     ]
    },
    {
     "name": "stdout",
     "output_type": "stream",
     "text": [
      "\r",
      "problem: v1+fc+n\tprotocol: parallel_3\tdag_size_limit: 12\tsize: 48151\ttime_spent: 80.87966238800072\trss: 0.7408332824707031\tdone: True                      "
     ]
    },
    {
     "name": "stdout",
     "output_type": "stream",
     "text": [
      "\r",
      "problem: v1+fc+n\tprotocol: parallel_3\tdag_size_limit: 13\tsize: 100288\ttime_spent: 182.42859832700015\trss: 1.3994407653808594\tdone: False                      "
     ]
    },
    {
     "name": "stdout",
     "output_type": "stream",
     "text": [
      "\r",
      "problem: v0+fc+n\tprotocol: bitcoin\tdag_size_limit: 2\tsize: 12\ttime_spent: 0.00322019499981252\trss: 0.2874794006347656\tdone: True                      \r",
      "problem: v0+fc+n\tprotocol: bitcoin\tdag_size_limit: 3\tsize: 41\ttime_spent: 0.013892582001062692\trss: 0.2835731506347656\tdone: True                      \r",
      "problem: v0+fc+n\tprotocol: bitcoin\tdag_size_limit: 4\tsize: 104\ttime_spent: 0.045435473999532405\trss: 0.2825965881347656\tdone: True                      "
     ]
    },
    {
     "name": "stdout",
     "output_type": "stream",
     "text": [
      "\r",
      "problem: v0+fc+n\tprotocol: bitcoin\tdag_size_limit: 5\tsize: 248\ttime_spent: 0.1296398650010815\trss: 0.2816200256347656\tdone: True                      "
     ]
    },
    {
     "name": "stdout",
     "output_type": "stream",
     "text": [
      "\r",
      "problem: v0+fc+n\tprotocol: bitcoin\tdag_size_limit: 6\tsize: 501\ttime_spent: 0.30923049500052\trss: 0.2811470031738281\tdone: True                      "
     ]
    },
    {
     "name": "stdout",
     "output_type": "stream",
     "text": [
      "\r",
      "problem: v0+fc+n\tprotocol: bitcoin\tdag_size_limit: 7\tsize: 951\ttime_spent: 0.6627255519997561\trss: 0.2811470031738281\tdone: True                      "
     ]
    },
    {
     "name": "stdout",
     "output_type": "stream",
     "text": [
      "\r",
      "problem: v0+fc+n\tprotocol: bitcoin\tdag_size_limit: 8\tsize: 1652\ttime_spent: 1.2892204700001457\trss: 0.2811470031738281\tdone: True                      "
     ]
    },
    {
     "name": "stdout",
     "output_type": "stream",
     "text": [
      "\r",
      "problem: v0+fc+n\tprotocol: bitcoin\tdag_size_limit: 9\tsize: 2744\ttime_spent: 2.3026253250009177\trss: 0.2809257507324219\tdone: True                      "
     ]
    },
    {
     "name": "stdout",
     "output_type": "stream",
     "text": [
      "\r",
      "problem: v0+fc+n\tprotocol: bitcoin\tdag_size_limit: 10\tsize: 4315\ttime_spent: 4.067619655999806\trss: 0.2806816101074219\tdone: True                      "
     ]
    },
    {
     "name": "stdout",
     "output_type": "stream",
     "text": [
      "\r",
      "problem: v0+fc+n\tprotocol: bitcoin\tdag_size_limit: 11\tsize: 6569\ttime_spent: 6.8597425680000015\trss: 0.2804374694824219\tdone: True                      "
     ]
    },
    {
     "name": "stdout",
     "output_type": "stream",
     "text": [
      "\r",
      "problem: v0+fc+n\tprotocol: bitcoin\tdag_size_limit: 12\tsize: 9636\ttime_spent: 10.531323531000453\trss: 0.2804374694824219\tdone: True                      "
     ]
    },
    {
     "name": "stdout",
     "output_type": "stream",
     "text": [
      "\r",
      "problem: v0+fc+n\tprotocol: bitcoin\tdag_size_limit: 13\tsize: 13796\ttime_spent: 16.33048462700026\trss: 0.2925224304199219\tdone: True                      "
     ]
    },
    {
     "name": "stdout",
     "output_type": "stream",
     "text": [
      "\r",
      "problem: v0+fc+n\tprotocol: bitcoin\tdag_size_limit: 14\tsize: 19229\ttime_spent: 24.149702435001018\trss: 0.2945976257324219\tdone: True                      "
     ]
    },
    {
     "name": "stdout",
     "output_type": "stream",
     "text": [
      "\r",
      "problem: v0+fc+n\tprotocol: bitcoin\tdag_size_limit: 15\tsize: 26303\ttime_spent: 35.385506582000744\trss: 0.3247489929199219\tdone: True                      "
     ]
    },
    {
     "name": "stdout",
     "output_type": "stream",
     "text": [
      "\r",
      "problem: v0+fc+n\tprotocol: bitcoin\tdag_size_limit: 16\tsize: 35256\ttime_spent: 49.834365916000024\trss: 0.3400077819824219\tdone: True                      "
     ]
    },
    {
     "name": "stdout",
     "output_type": "stream",
     "text": [
      "\r",
      "problem: v0+fc+n\tprotocol: bitcoin\tdag_size_limit: 17\tsize: 46556\ttime_spent: 69.42990515600104\trss: 0.36644744873046875\tdone: True                      "
     ]
    },
    {
     "name": "stdout",
     "output_type": "stream",
     "text": [
      "\r",
      "problem: v0+fc+n\tprotocol: bitcoin\tdag_size_limit: 18\tsize: 60507\ttime_spent: 94.57693620900136\trss: 0.42954254150390625\tdone: True                      "
     ]
    },
    {
     "name": "stdout",
     "output_type": "stream",
     "text": [
      "\r",
      "problem: v0+fc+n\tprotocol: bitcoin\tdag_size_limit: 19\tsize: 77689\ttime_spent: 126.81686024200098\trss: 0.5090789794921875\tdone: True                      "
     ]
    },
    {
     "name": "stdout",
     "output_type": "stream",
     "text": [
      "\r",
      "problem: v0+fc+n\tprotocol: bitcoin\tdag_size_limit: 20\tsize: 98480\ttime_spent: 169.7307163229998\trss: 0.6114006042480469\tdone: True                      "
     ]
    },
    {
     "name": "stdout",
     "output_type": "stream",
     "text": [
      "\r",
      "problem: v0+fc+n\tprotocol: bitcoin\tdag_size_limit: 21\tsize: 100289\ttime_spent: 169.35310395300075\trss: 0.6251678466796875\tdone: False                      \r",
      "problem: v0\tprotocol: bitcoin\tdag_size_limit: 2\tsize: 18\ttime_spent: 0.003584230000342359\trss: 0.6238212585449219\tdone: True                      "
     ]
    },
    {
     "name": "stdout",
     "output_type": "stream",
     "text": [
      "\r",
      "problem: v0\tprotocol: bitcoin\tdag_size_limit: 3\tsize: 175\ttime_spent: 0.04796629199881863\trss: 0.6238212585449219\tdone: True                      "
     ]
    },
    {
     "name": "stdout",
     "output_type": "stream",
     "text": [
      "\r",
      "problem: v0\tprotocol: bitcoin\tdag_size_limit: 4\tsize: 1198\ttime_spent: 0.5129487630001677\trss: 0.6238212585449219\tdone: True                      "
     ]
    },
    {
     "name": "stdout",
     "output_type": "stream",
     "text": [
      "\r",
      "problem: v0\tprotocol: bitcoin\tdag_size_limit: 5\tsize: 7296\ttime_spent: 4.381968944999244\trss: 0.6238212585449219\tdone: True                      "
     ]
    },
    {
     "name": "stdout",
     "output_type": "stream",
     "text": [
      "\r",
      "problem: v0\tprotocol: bitcoin\tdag_size_limit: 6\tsize: 42041\ttime_spent: 30.574201432000336\trss: 0.6238212585449219\tdone: True                      "
     ]
    },
    {
     "name": "stdout",
     "output_type": "stream",
     "text": [
      "\r",
      "problem: v0\tprotocol: bitcoin\tdag_size_limit: 7\tsize: 101241\ttime_spent: 65.72457292000036\trss: 0.6260185241699219\tdone: False                      "
     ]
    }
   ],
   "source": [
    "for idx, row in models.iterrows():\n",
    "    dag_size_limit = 1\n",
    "    while True:\n",
    "        dag_size_limit += 1\n",
    "\n",
    "        if row[\"problem\"].startswith(\"ref\") and dag_size_limit >= 16:\n",
    "            break\n",
    "\n",
    "        done = explore_row_limit(idx, row, dag_size_limit)\n",
    "        if not done:\n",
    "            break"
   ]
  },
  {
   "cell_type": "code",
   "execution_count": 6,
   "id": "b77197c4-605b-4704-a218-33aac444120a",
   "metadata": {
    "execution": {
     "iopub.execute_input": "2025-01-06T13:05:03.851087Z",
     "iopub.status.busy": "2025-01-06T13:05:03.850940Z",
     "iopub.status.idle": "2025-01-06T13:06:53.323950Z",
     "shell.execute_reply": "2025-01-06T13:06:53.323464Z"
    }
   },
   "outputs": [
    {
     "name": "stdout",
     "output_type": "stream",
     "text": [
      "\r",
      "problem: ref-fc16\tprotocol: bitcoin\tdag_size_limit: 32\tsize: 1698\ttime_spent: 0.06439653000052203\trss: 0.624420166015625\tdone: True                      "
     ]
    },
    {
     "name": "stdout",
     "output_type": "stream",
     "text": [
      "\r",
      "problem: ref-fc16\tprotocol: bitcoin\tdag_size_limit: 64\tsize: 6978\ttime_spent: 0.26295488299911085\trss: 0.624420166015625\tdone: True                      "
     ]
    },
    {
     "name": "stdout",
     "output_type": "stream",
     "text": [
      "\r",
      "problem: ref-fc16\tprotocol: bitcoin\tdag_size_limit: 128\tsize: 28290\ttime_spent: 1.6029067070012388\trss: 0.624420166015625\tdone: True                      "
     ]
    },
    {
     "name": "stdout",
     "output_type": "stream",
     "text": [
      "\r",
      "problem: ref-fc16\tprotocol: bitcoin\tdag_size_limit: 256\tsize: 100166\ttime_spent: 5.780563258000257\trss: 0.624420166015625\tdone: False                      "
     ]
    },
    {
     "name": "stdout",
     "output_type": "stream",
     "text": [
      "\r",
      "problem: ref-fc16\tprotocol: bitcoin\tdag_size_limit: 192\tsize: 63938\ttime_spent: 2.9772050110004784\trss: 0.624420166015625\tdone: True                      "
     ]
    },
    {
     "name": "stdout",
     "output_type": "stream",
     "text": [
      "\r",
      "problem: ref-fc16\tprotocol: bitcoin\tdag_size_limit: 224\tsize: 87138\ttime_spent: 4.499282266000591\trss: 0.624420166015625\tdone: True                      "
     ]
    },
    {
     "name": "stdout",
     "output_type": "stream",
     "text": [
      "\r",
      "problem: ref-fc16\tprotocol: bitcoin\tdag_size_limit: 240\tsize: 100012\ttime_spent: 5.116297928998392\trss: 0.624420166015625\tdone: False                      "
     ]
    },
    {
     "name": "stdout",
     "output_type": "stream",
     "text": [
      "\r",
      "problem: ref-fc16\tprotocol: bitcoin\tdag_size_limit: 232\tsize: 93498\ttime_spent: 5.12070971600042\trss: 0.624420166015625\tdone: True                      "
     ]
    },
    {
     "name": "stdout",
     "output_type": "stream",
     "text": [
      "\r",
      "problem: ref-fc16\tprotocol: bitcoin\tdag_size_limit: 236\tsize: 96762\ttime_spent: 5.089399336999122\trss: 0.6244430541992188\tdone: True                      "
     ]
    },
    {
     "name": "stdout",
     "output_type": "stream",
     "text": [
      "\r",
      "problem: ref-fc16\tprotocol: bitcoin\tdag_size_limit: 238\tsize: 98415\ttime_spent: 5.260460281000633\trss: 0.6244430541992188\tdone: True                      "
     ]
    },
    {
     "name": "stdout",
     "output_type": "stream",
     "text": [
      "\r",
      "problem: ref-fc16\tprotocol: bitcoin\tdag_size_limit: 239\tsize: 99247\ttime_spent: 5.157364867000069\trss: 0.6244926452636719\tdone: True                      "
     ]
    },
    {
     "name": "stdout",
     "output_type": "stream",
     "text": [
      "\r",
      "problem: ref-aft20\tprotocol: bitcoin\tdag_size_limit: 32\tsize: 1233\ttime_spent: 0.03277576599975873\trss: 0.6244926452636719\tdone: True                      "
     ]
    },
    {
     "name": "stdout",
     "output_type": "stream",
     "text": [
      "\r",
      "problem: ref-aft20\tprotocol: bitcoin\tdag_size_limit: 64\tsize: 5025\ttime_spent: 0.13688573700164852\trss: 0.6244926452636719\tdone: True                      "
     ]
    },
    {
     "name": "stdout",
     "output_type": "stream",
     "text": [
      "\r",
      "problem: ref-aft20\tprotocol: bitcoin\tdag_size_limit: 128\tsize: 20289\ttime_spent: 0.8734015539994289\trss: 0.6244926452636719\tdone: True                      "
     ]
    },
    {
     "name": "stdout",
     "output_type": "stream",
     "text": [
      "\r",
      "problem: ref-aft20\tprotocol: bitcoin\tdag_size_limit: 256\tsize: 81537\ttime_spent: 3.5203089710012136\trss: 0.6244926452636719\tdone: True                      "
     ]
    },
    {
     "name": "stdout",
     "output_type": "stream",
     "text": [
      "\r",
      "problem: ref-aft20\tprotocol: bitcoin\tdag_size_limit: 512\tsize: 100709\ttime_spent: 4.158748734000255\trss: 0.6244926452636719\tdone: False                      "
     ]
    },
    {
     "name": "stdout",
     "output_type": "stream",
     "text": [
      "\r",
      "problem: ref-aft20\tprotocol: bitcoin\tdag_size_limit: 384\tsize: 100709\ttime_spent: 4.0958220989996335\trss: 0.6244926452636719\tdone: False                      "
     ]
    },
    {
     "name": "stdout",
     "output_type": "stream",
     "text": [
      "\r",
      "problem: ref-aft20\tprotocol: bitcoin\tdag_size_limit: 320\tsize: 100709\ttime_spent: 4.119283517999065\trss: 0.6244926452636719\tdone: False                      "
     ]
    },
    {
     "name": "stdout",
     "output_type": "stream",
     "text": [
      "\r",
      "problem: ref-aft20\tprotocol: bitcoin\tdag_size_limit: 288\tsize: 100709\ttime_spent: 4.101651110000603\trss: 0.6244926452636719\tdone: False                      "
     ]
    },
    {
     "name": "stdout",
     "output_type": "stream",
     "text": [
      "\r",
      "problem: ref-aft20\tprotocol: bitcoin\tdag_size_limit: 272\tsize: 92073\ttime_spent: 3.587528118998307\trss: 0.6244926452636719\tdone: True                      "
     ]
    },
    {
     "name": "stdout",
     "output_type": "stream",
     "text": [
      "\r",
      "problem: ref-aft20\tprotocol: bitcoin\tdag_size_limit: 280\tsize: 97581\ttime_spent: 3.9810432140002376\trss: 0.6244926452636719\tdone: True                      "
     ]
    },
    {
     "name": "stdout",
     "output_type": "stream",
     "text": [
      "\r",
      "problem: ref-aft20\tprotocol: bitcoin\tdag_size_limit: 284\tsize: 100395\ttime_spent: 4.109103995999249\trss: 0.6244926452636719\tdone: False                      "
     ]
    },
    {
     "name": "stdout",
     "output_type": "stream",
     "text": [
      "\r",
      "problem: ref-aft20\tprotocol: bitcoin\tdag_size_limit: 282\tsize: 98983\ttime_spent: 4.094084811000357\trss: 0.6244926452636719\tdone: True                      "
     ]
    },
    {
     "name": "stdout",
     "output_type": "stream",
     "text": [
      "\r",
      "problem: ref-aft20\tprotocol: bitcoin\tdag_size_limit: 283\tsize: 99688\ttime_spent: 4.119853640000656\trss: 0.6244926452636719\tdone: True                      "
     ]
    }
   ],
   "source": [
    "# locate the upper limit for exploring the non-generic reference models with binary search\n",
    "for idx, row in models.iterrows():\n",
    "    if not row[\"problem\"].startswith(\"ref\"):\n",
    "        continue\n",
    "\n",
    "    dag_size_limit = 16\n",
    "    while True:\n",
    "        dag_size_limit *= 2\n",
    "        done = explore_row_limit(idx, row, dag_size_limit)\n",
    "        if not done:\n",
    "            break\n",
    "\n",
    "    a = dag_size_limit / 2\n",
    "    b = dag_size_limit\n",
    "\n",
    "    while b - a > 1:\n",
    "        c = round((a + b) / 2)\n",
    "        done = explore_row_limit(idx, row, c)\n",
    "        if done:\n",
    "            a = c\n",
    "        else:\n",
    "            b = c"
   ]
  },
  {
   "cell_type": "code",
   "execution_count": 7,
   "id": "90ccf18c-5299-4f6c-9147-863133d4118a",
   "metadata": {
    "execution": {
     "iopub.execute_input": "2025-01-06T13:06:53.326609Z",
     "iopub.status.busy": "2025-01-06T13:06:53.326319Z",
     "iopub.status.idle": "2025-01-06T13:06:53.341294Z",
     "shell.execute_reply": "2025-01-06T13:06:53.340906Z"
    }
   },
   "outputs": [],
   "source": [
    "size_log = pandas.DataFrame(size_log)\n",
    "aborts = pandas.DataFrame(aborts)\n",
    "\n",
    "size_log.to_pickle(\"5-generated-mdps/success.pkl.gz\")\n",
    "aborts.to_pickle(\"5-generated-mdps/fail.pkl.gz\")"
   ]
  },
  {
   "cell_type": "code",
   "execution_count": 8,
   "id": "a5c7e143-a87b-46c3-9bb1-9939e860d968",
   "metadata": {
    "execution": {
     "iopub.execute_input": "2025-01-06T13:06:53.343411Z",
     "iopub.status.busy": "2025-01-06T13:06:53.343273Z",
     "iopub.status.idle": "2025-01-06T13:06:55.218648Z",
     "shell.execute_reply": "2025-01-06T13:06:55.218191Z"
    }
   },
   "outputs": [
    {
     "data": {
      "text/plain": [
       "<seaborn.axisgrid.FacetGrid at 0x7f6c4423b070>"
      ]
     },
     "execution_count": 8,
     "metadata": {},
     "output_type": "execute_result"
    },
    {
     "data": {
      "image/png": "[encoded data removed]",
      "text/plain": [
       "<Figure size 1611.75x1000 with 5 Axes>"
      ]
     },
     "metadata": {},
     "output_type": "display_data"
    }
   ],
   "source": [
    "seaborn.relplot(\n",
    "    data=size_log.query(\"dag_size_limit < 10\"),\n",
    "    kind=\"line\",\n",
    "    x=\"dag_size_limit\",\n",
    "    y=\"size\",\n",
    "    hue=\"problem\",\n",
    "    style=\"problem\",\n",
    "    markers=True,\n",
    "    col=\"protocol\",\n",
    "    col_wrap=3,\n",
    ").set(yscale=\"log\")"
   ]
  }
 ],
 "metadata": {
  "kernelspec": {
   "display_name": "Python 3 (ipykernel)",
   "language": "python",
   "name": "python3"
  },
  "language_info": {
   "codemirror_mode": {
    "name": "ipython",
    "version": 3
   },
   "file_extension": ".py",
   "mimetype": "text/x-python",
   "name": "python",
   "nbconvert_exporter": "python",
   "pygments_lexer": "ipython3",
   "version": "3.9.21"
  }
 },
 "nbformat": 4,
 "nbformat_minor": 5
}
