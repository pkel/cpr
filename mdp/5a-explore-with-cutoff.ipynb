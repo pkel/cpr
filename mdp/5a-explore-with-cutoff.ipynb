{
 "cells": [
  {
   "cell_type": "code",
   "execution_count": 1,
   "id": "829da242-e613-4808-841e-9921993ca24e",
   "metadata": {},
   "outputs": [],
   "source": [
    "import pandas\n",
    "import seaborn\n",
    "import time\n",
    "\n",
    "from lib.compiler import Compiler\n",
    "from lib.models.generic_v0.model import mappable_params\n",
    "\n",
    "from lib.models.aft20barzur import BitcoinSM as AFT20BarZur\n",
    "from lib.models.fc16sapirshtein import BitcoinSM as FC16Sapirshtein\n",
    "\n",
    "from lib.models.generic_v1 import protocols as g1\n",
    "from lib.models.generic_v1.model import SingleAgent as G1Model\n",
    "\n",
    "from lib.models.generic_v0.bitcoin import Bitcoin as G0Bitcoin\n",
    "from lib.models.generic_v0.model import SelfishMining as G0Model"
   ]
  },
  {
   "cell_type": "code",
   "execution_count": 2,
   "id": "09c0bd5a-eca0-4a38-9caf-b99660c8bef0",
   "metadata": {},
   "outputs": [
    {
     "data": {
      "text/html": [
       "<div>\n",
       "<style scoped>\n",
       "    .dataframe tbody tr th:only-of-type {\n",
       "        vertical-align: middle;\n",
       "    }\n",
       "\n",
       "    .dataframe tbody tr th {\n",
       "        vertical-align: top;\n",
       "    }\n",
       "\n",
       "    .dataframe thead th {\n",
       "        text-align: right;\n",
       "    }\n",
       "</style>\n",
       "<table border=\"1\" class=\"dataframe\">\n",
       "  <thead>\n",
       "    <tr style=\"text-align: right;\">\n",
       "      <th></th>\n",
       "      <th>problem</th>\n",
       "      <th>model</th>\n",
       "      <th>force_consider_own</th>\n",
       "      <th>merge_isomorphic</th>\n",
       "      <th>truncate_common_chain</th>\n",
       "      <th>collect_garbage</th>\n",
       "      <th>reward_common_chain</th>\n",
       "      <th>protocol</th>\n",
       "    </tr>\n",
       "  </thead>\n",
       "  <tbody>\n",
       "    <tr>\n",
       "      <th>0</th>\n",
       "      <td>ref-fc16</td>\n",
       "      <td>fc16sapirshtein</td>\n",
       "      <td>True</td>\n",
       "      <td>True</td>\n",
       "      <td>True</td>\n",
       "      <td>True</td>\n",
       "      <td>True</td>\n",
       "      <td>bitcoin</td>\n",
       "    </tr>\n",
       "    <tr>\n",
       "      <th>1</th>\n",
       "      <td>ref-aft20</td>\n",
       "      <td>aft20barzur</td>\n",
       "      <td>True</td>\n",
       "      <td>True</td>\n",
       "      <td>True</td>\n",
       "      <td>True</td>\n",
       "      <td>True</td>\n",
       "      <td>bitcoin</td>\n",
       "    </tr>\n",
       "    <tr>\n",
       "      <th>2</th>\n",
       "      <td>v1</td>\n",
       "      <td>generic-v1</td>\n",
       "      <td>False</td>\n",
       "      <td>False</td>\n",
       "      <td>True</td>\n",
       "      <td>True</td>\n",
       "      <td>True</td>\n",
       "      <td>bitcoin</td>\n",
       "    </tr>\n",
       "    <tr>\n",
       "      <th>3</th>\n",
       "      <td>v1</td>\n",
       "      <td>generic-v1</td>\n",
       "      <td>False</td>\n",
       "      <td>False</td>\n",
       "      <td>True</td>\n",
       "      <td>True</td>\n",
       "      <td>True</td>\n",
       "      <td>ethereum_3</td>\n",
       "    </tr>\n",
       "    <tr>\n",
       "      <th>4</th>\n",
       "      <td>v1</td>\n",
       "      <td>generic-v1</td>\n",
       "      <td>False</td>\n",
       "      <td>False</td>\n",
       "      <td>True</td>\n",
       "      <td>True</td>\n",
       "      <td>True</td>\n",
       "      <td>byzantium_3</td>\n",
       "    </tr>\n",
       "    <tr>\n",
       "      <th>5</th>\n",
       "      <td>v1</td>\n",
       "      <td>generic-v1</td>\n",
       "      <td>False</td>\n",
       "      <td>False</td>\n",
       "      <td>True</td>\n",
       "      <td>True</td>\n",
       "      <td>True</td>\n",
       "      <td>ghostdag_3</td>\n",
       "    </tr>\n",
       "    <tr>\n",
       "      <th>6</th>\n",
       "      <td>v1</td>\n",
       "      <td>generic-v1</td>\n",
       "      <td>False</td>\n",
       "      <td>False</td>\n",
       "      <td>True</td>\n",
       "      <td>True</td>\n",
       "      <td>True</td>\n",
       "      <td>parallel_3</td>\n",
       "    </tr>\n",
       "    <tr>\n",
       "      <th>7</th>\n",
       "      <td>v1+fc</td>\n",
       "      <td>generic-v1</td>\n",
       "      <td>True</td>\n",
       "      <td>False</td>\n",
       "      <td>True</td>\n",
       "      <td>True</td>\n",
       "      <td>True</td>\n",
       "      <td>bitcoin</td>\n",
       "    </tr>\n",
       "    <tr>\n",
       "      <th>8</th>\n",
       "      <td>v1+fc</td>\n",
       "      <td>generic-v1</td>\n",
       "      <td>True</td>\n",
       "      <td>False</td>\n",
       "      <td>True</td>\n",
       "      <td>True</td>\n",
       "      <td>True</td>\n",
       "      <td>ethereum_3</td>\n",
       "    </tr>\n",
       "    <tr>\n",
       "      <th>9</th>\n",
       "      <td>v1+fc</td>\n",
       "      <td>generic-v1</td>\n",
       "      <td>True</td>\n",
       "      <td>False</td>\n",
       "      <td>True</td>\n",
       "      <td>True</td>\n",
       "      <td>True</td>\n",
       "      <td>byzantium_3</td>\n",
       "    </tr>\n",
       "    <tr>\n",
       "      <th>10</th>\n",
       "      <td>v1+fc</td>\n",
       "      <td>generic-v1</td>\n",
       "      <td>True</td>\n",
       "      <td>False</td>\n",
       "      <td>True</td>\n",
       "      <td>True</td>\n",
       "      <td>True</td>\n",
       "      <td>ghostdag_3</td>\n",
       "    </tr>\n",
       "    <tr>\n",
       "      <th>11</th>\n",
       "      <td>v1+fc</td>\n",
       "      <td>generic-v1</td>\n",
       "      <td>True</td>\n",
       "      <td>False</td>\n",
       "      <td>True</td>\n",
       "      <td>True</td>\n",
       "      <td>True</td>\n",
       "      <td>parallel_3</td>\n",
       "    </tr>\n",
       "    <tr>\n",
       "      <th>12</th>\n",
       "      <td>v1+n</td>\n",
       "      <td>generic-v1</td>\n",
       "      <td>False</td>\n",
       "      <td>True</td>\n",
       "      <td>True</td>\n",
       "      <td>True</td>\n",
       "      <td>True</td>\n",
       "      <td>bitcoin</td>\n",
       "    </tr>\n",
       "    <tr>\n",
       "      <th>13</th>\n",
       "      <td>v1+n</td>\n",
       "      <td>generic-v1</td>\n",
       "      <td>False</td>\n",
       "      <td>True</td>\n",
       "      <td>True</td>\n",
       "      <td>True</td>\n",
       "      <td>True</td>\n",
       "      <td>ethereum_3</td>\n",
       "    </tr>\n",
       "    <tr>\n",
       "      <th>14</th>\n",
       "      <td>v1+n</td>\n",
       "      <td>generic-v1</td>\n",
       "      <td>False</td>\n",
       "      <td>True</td>\n",
       "      <td>True</td>\n",
       "      <td>True</td>\n",
       "      <td>True</td>\n",
       "      <td>byzantium_3</td>\n",
       "    </tr>\n",
       "    <tr>\n",
       "      <th>15</th>\n",
       "      <td>v1+n</td>\n",
       "      <td>generic-v1</td>\n",
       "      <td>False</td>\n",
       "      <td>True</td>\n",
       "      <td>True</td>\n",
       "      <td>True</td>\n",
       "      <td>True</td>\n",
       "      <td>ghostdag_3</td>\n",
       "    </tr>\n",
       "    <tr>\n",
       "      <th>16</th>\n",
       "      <td>v1+n</td>\n",
       "      <td>generic-v1</td>\n",
       "      <td>False</td>\n",
       "      <td>True</td>\n",
       "      <td>True</td>\n",
       "      <td>True</td>\n",
       "      <td>True</td>\n",
       "      <td>parallel_3</td>\n",
       "    </tr>\n",
       "    <tr>\n",
       "      <th>17</th>\n",
       "      <td>v1+fc+n</td>\n",
       "      <td>generic-v1</td>\n",
       "      <td>True</td>\n",
       "      <td>True</td>\n",
       "      <td>True</td>\n",
       "      <td>True</td>\n",
       "      <td>True</td>\n",
       "      <td>bitcoin</td>\n",
       "    </tr>\n",
       "    <tr>\n",
       "      <th>18</th>\n",
       "      <td>v1+fc+n</td>\n",
       "      <td>generic-v1</td>\n",
       "      <td>True</td>\n",
       "      <td>True</td>\n",
       "      <td>True</td>\n",
       "      <td>True</td>\n",
       "      <td>True</td>\n",
       "      <td>ethereum_3</td>\n",
       "    </tr>\n",
       "    <tr>\n",
       "      <th>19</th>\n",
       "      <td>v1+fc+n</td>\n",
       "      <td>generic-v1</td>\n",
       "      <td>True</td>\n",
       "      <td>True</td>\n",
       "      <td>True</td>\n",
       "      <td>True</td>\n",
       "      <td>True</td>\n",
       "      <td>byzantium_3</td>\n",
       "    </tr>\n",
       "    <tr>\n",
       "      <th>20</th>\n",
       "      <td>v1+fc+n</td>\n",
       "      <td>generic-v1</td>\n",
       "      <td>True</td>\n",
       "      <td>True</td>\n",
       "      <td>True</td>\n",
       "      <td>True</td>\n",
       "      <td>True</td>\n",
       "      <td>ghostdag_3</td>\n",
       "    </tr>\n",
       "    <tr>\n",
       "      <th>21</th>\n",
       "      <td>v1+fc+n</td>\n",
       "      <td>generic-v1</td>\n",
       "      <td>True</td>\n",
       "      <td>True</td>\n",
       "      <td>True</td>\n",
       "      <td>True</td>\n",
       "      <td>True</td>\n",
       "      <td>parallel_3</td>\n",
       "    </tr>\n",
       "    <tr>\n",
       "      <th>22</th>\n",
       "      <td>v0+fc+n</td>\n",
       "      <td>generic-v0</td>\n",
       "      <td>True</td>\n",
       "      <td>True</td>\n",
       "      <td>True</td>\n",
       "      <td>True</td>\n",
       "      <td>True</td>\n",
       "      <td>bitcoin</td>\n",
       "    </tr>\n",
       "    <tr>\n",
       "      <th>23</th>\n",
       "      <td>v0</td>\n",
       "      <td>generic-v0</td>\n",
       "      <td>False</td>\n",
       "      <td>False</td>\n",
       "      <td>True</td>\n",
       "      <td>True</td>\n",
       "      <td>True</td>\n",
       "      <td>bitcoin</td>\n",
       "    </tr>\n",
       "  </tbody>\n",
       "</table>\n",
       "</div>"
      ],
      "text/plain": [
       "      problem            model  force_consider_own  merge_isomorphic  \\\n",
       "0    ref-fc16  fc16sapirshtein                True              True   \n",
       "1   ref-aft20      aft20barzur                True              True   \n",
       "2          v1       generic-v1               False             False   \n",
       "3          v1       generic-v1               False             False   \n",
       "4          v1       generic-v1               False             False   \n",
       "5          v1       generic-v1               False             False   \n",
       "6          v1       generic-v1               False             False   \n",
       "7       v1+fc       generic-v1                True             False   \n",
       "8       v1+fc       generic-v1                True             False   \n",
       "9       v1+fc       generic-v1                True             False   \n",
       "10      v1+fc       generic-v1                True             False   \n",
       "11      v1+fc       generic-v1                True             False   \n",
       "12       v1+n       generic-v1               False              True   \n",
       "13       v1+n       generic-v1               False              True   \n",
       "14       v1+n       generic-v1               False              True   \n",
       "15       v1+n       generic-v1               False              True   \n",
       "16       v1+n       generic-v1               False              True   \n",
       "17    v1+fc+n       generic-v1                True              True   \n",
       "18    v1+fc+n       generic-v1                True              True   \n",
       "19    v1+fc+n       generic-v1                True              True   \n",
       "20    v1+fc+n       generic-v1                True              True   \n",
       "21    v1+fc+n       generic-v1                True              True   \n",
       "22    v0+fc+n       generic-v0                True              True   \n",
       "23         v0       generic-v0               False             False   \n",
       "\n",
       "    truncate_common_chain  collect_garbage  reward_common_chain     protocol  \n",
       "0                    True             True                 True      bitcoin  \n",
       "1                    True             True                 True      bitcoin  \n",
       "2                    True             True                 True      bitcoin  \n",
       "3                    True             True                 True   ethereum_3  \n",
       "4                    True             True                 True  byzantium_3  \n",
       "5                    True             True                 True   ghostdag_3  \n",
       "6                    True             True                 True   parallel_3  \n",
       "7                    True             True                 True      bitcoin  \n",
       "8                    True             True                 True   ethereum_3  \n",
       "9                    True             True                 True  byzantium_3  \n",
       "10                   True             True                 True   ghostdag_3  \n",
       "11                   True             True                 True   parallel_3  \n",
       "12                   True             True                 True      bitcoin  \n",
       "13                   True             True                 True   ethereum_3  \n",
       "14                   True             True                 True  byzantium_3  \n",
       "15                   True             True                 True   ghostdag_3  \n",
       "16                   True             True                 True   parallel_3  \n",
       "17                   True             True                 True      bitcoin  \n",
       "18                   True             True                 True   ethereum_3  \n",
       "19                   True             True                 True  byzantium_3  \n",
       "20                   True             True                 True   ghostdag_3  \n",
       "21                   True             True                 True   parallel_3  \n",
       "22                   True             True                 True      bitcoin  \n",
       "23                   True             True                 True      bitcoin  "
      ]
     },
     "execution_count": 2,
     "metadata": {},
     "output_type": "execute_result"
    }
   ],
   "source": [
    "network = mappable_params\n",
    "\n",
    "models = []\n",
    "implicit_mdps = []\n",
    "\n",
    "\n",
    "def add_model(*, implicit_mdp, **model):\n",
    "    models.append(model)\n",
    "    implicit_mdps.append(implicit_mdp)\n",
    "\n",
    "\n",
    "add_model(\n",
    "    problem=\"ref-fc16\",\n",
    "    model=\"fc16sapirshtein\",\n",
    "    force_consider_own=True,\n",
    "    merge_isomorphic=True,\n",
    "    truncate_common_chain=True,\n",
    "    collect_garbage=True,\n",
    "    reward_common_chain=True,\n",
    "    protocol=\"bitcoin\",\n",
    "    implicit_mdp=lambda c: FC16Sapirshtein(\n",
    "        **network,\n",
    "        maximum_dag_size=c,\n",
    "        maximum_fork_length=0,\n",
    "    ),\n",
    ")\n",
    "\n",
    "add_model(\n",
    "    problem=\"ref-aft20\",\n",
    "    model=\"aft20barzur\",\n",
    "    force_consider_own=True,\n",
    "    merge_isomorphic=True,\n",
    "    truncate_common_chain=True,\n",
    "    collect_garbage=True,\n",
    "    reward_common_chain=True,\n",
    "    protocol=\"bitcoin\",\n",
    "    implicit_mdp=lambda c: AFT20BarZur(\n",
    "        **network, maximum_dag_size=c, maximum_fork_length=0\n",
    "    ),\n",
    ")\n",
    "\n",
    "\n",
    "# our baseline: garbage collection + common chain truncation\n",
    "# we want to compare to:\n",
    "# - no common chain truncation (all infinite)\n",
    "# - no garbage collection (infinite for protocols that allow stale blocks)\n",
    "# - plus force-consider-own\n",
    "# - plus merge-isomorphic\n",
    "# - plus both\n",
    "\n",
    "\n",
    "def add_problem(\n",
    "    problem,\n",
    "    *,\n",
    "    collect_garbage=True,\n",
    "    truncate_common_chain=True,\n",
    "    force_consider_own=False,\n",
    "    merge_isomorphic=False,\n",
    "):\n",
    "    def f(protocol_s, protocol_C, **protocol_args):\n",
    "        model_args = dict(\n",
    "            force_consider_own=force_consider_own,\n",
    "            merge_isomorphic=merge_isomorphic,\n",
    "            truncate_common_chain=truncate_common_chain,\n",
    "            collect_garbage=collect_garbage,\n",
    "            reward_common_chain=True,\n",
    "        )\n",
    "        add_model(\n",
    "            problem=problem,\n",
    "            model=\"generic-v1\",\n",
    "            protocol=protocol_s,\n",
    "            **model_args,\n",
    "            implicit_mdp=lambda c: G1Model(\n",
    "                protocol_C,\n",
    "                **protocol_args,\n",
    "                **network,\n",
    "                **model_args,\n",
    "                dag_size_cutoff=c,\n",
    "            ),\n",
    "        )\n",
    "\n",
    "    f(\"bitcoin\", g1.Bitcoin)\n",
    "    f(\"ethereum_3\", g1.Ethereum, h=3)\n",
    "    f(\"byzantium_3\", g1.Byzantium, h=3)\n",
    "    f(\"ghostdag_3\", g1.Ghostdag, k=3)\n",
    "    f(\"parallel_3\", g1.Parallel, k=3)\n",
    "\n",
    "\n",
    "add_problem(\"v1\")\n",
    "# add_problem(\"v1-gc\", collect_garbage=False)\n",
    "# add_problem(\"v1-tc\", truncate_common_chain=False)\n",
    "add_problem(\"v1+fc\", force_consider_own=True)\n",
    "add_problem(\"v1+n\", merge_isomorphic=True)\n",
    "add_problem(\"v1+fc+n\", force_consider_own=True, merge_isomorphic=True)\n",
    "\n",
    "\n",
    "add_model(\n",
    "    problem=\"v0+fc+n\",\n",
    "    model=\"generic-v0\",\n",
    "    force_consider_own=True,\n",
    "    merge_isomorphic=True,\n",
    "    truncate_common_chain=True,\n",
    "    collect_garbage=True,\n",
    "    reward_common_chain=True,\n",
    "    protocol=\"bitcoin\",\n",
    "    implicit_mdp=lambda c: G0Model(\n",
    "        G0Bitcoin(),\n",
    "        **network,\n",
    "        maximum_size=c,\n",
    "        force_consider_own=True,\n",
    "        merge_isomorphic=True,\n",
    "    ),\n",
    ")\n",
    "\n",
    "add_model(\n",
    "    problem=\"v0\",\n",
    "    model=\"generic-v0\",\n",
    "    force_consider_own=False,\n",
    "    merge_isomorphic=False,\n",
    "    truncate_common_chain=True,\n",
    "    collect_garbage=True,\n",
    "    reward_common_chain=True,\n",
    "    protocol=\"bitcoin\",\n",
    "    implicit_mdp=lambda c: G0Model(\n",
    "        G0Bitcoin(),\n",
    "        **network,\n",
    "        maximum_size=c,\n",
    "        force_consider_own=False,\n",
    "        merge_isomorphic=False,\n",
    "    ),\n",
    ")\n",
    "\n",
    "models = pandas.DataFrame(models)\n",
    "models"
   ]
  },
  {
   "cell_type": "code",
   "execution_count": 3,
   "id": "0eefcfab-91a2-4db9-b1fa-202fed55f287",
   "metadata": {},
   "outputs": [],
   "source": [
    "!mkdir -p 5-generated-mdps"
   ]
  },
  {
   "cell_type": "code",
   "execution_count": 4,
   "id": "800a7726-5461-416d-a07b-1b718a70a472",
   "metadata": {},
   "outputs": [],
   "source": [
    "from IPython.display import display, clear_output\n",
    "import gc\n",
    "import psutil\n",
    "import pickle\n",
    "import gzip\n",
    "\n",
    "max_size = 100000\n",
    "max_size = 5000\n",
    "aborts = []\n",
    "size_log = []\n",
    "\n",
    "\n",
    "def get_rss():\n",
    "    gc.collect()\n",
    "    return psutil.Process().memory_info().rss / 1024**3  # GiB\n",
    "\n",
    "\n",
    "def explore(m):\n",
    "    c = Compiler(m)\n",
    "    while not_done := c.explore(steps=1000):\n",
    "        if c.n_states > max_size:\n",
    "            break\n",
    "    done = not not_done\n",
    "    return (done, c)\n",
    "\n",
    "\n",
    "def explore_row_limit(idx, row, dag_size_limit):\n",
    "    m = implicit_mdps[idx](dag_size_limit)\n",
    "    start_time = time.monotonic()\n",
    "    done, c = explore(m)\n",
    "\n",
    "    info = row.to_dict() | dict(\n",
    "        dag_size_limit=dag_size_limit,\n",
    "        size=c.n_states,\n",
    "        time_spent=time.monotonic() - start_time,\n",
    "        rss=get_rss(),\n",
    "    )\n",
    "\n",
    "    # report to stdout\n",
    "    print(\n",
    "        \"\\r\"\n",
    "        + \"\\t\".join(\n",
    "            [\n",
    "                f\"{k}: {info[k]}\"\n",
    "                for k in [\n",
    "                    \"problem\",\n",
    "                    \"protocol\",\n",
    "                    \"dag_size_limit\",\n",
    "                    \"size\",\n",
    "                    \"time_spent\",\n",
    "                    \"rss\",\n",
    "                ]\n",
    "            ]\n",
    "            + [f\"done: {done}                      \"]\n",
    "        ),\n",
    "        end=\"\",\n",
    "    )\n",
    "\n",
    "    if not done:\n",
    "        aborts.append(info)\n",
    "    else:\n",
    "        mdp_key = format(abs(hash(frozenset(info.items()))), \"08x\")[0:8]\n",
    "        size_log.append(info | dict(mdp=mdp_key))\n",
    "        with gzip.open(f\"5-generated-mdps/mdp-{mdp_key}.pkl.gz\", \"wb\") as f:\n",
    "            pickle.dump(c.mdp(finish_exploration=False), f)\n",
    "\n",
    "    return done"
   ]
  },
  {
   "cell_type": "code",
   "execution_count": 5,
   "id": "b77197c4-605b-4704-a218-33aac444120a",
   "metadata": {},
   "outputs": [
    {
     "name": "stdout",
     "output_type": "stream",
     "text": [
      "problem: v0\tprotocol: bitcoin\tdag_size_limit: 5\tsize: 5509\ttime_spent: 2.444127780996496\trss: 0.2647857666015625\tdone: False                                 "
     ]
    },
    {
     "name": "stdout",
     "output_type": "stream",
     "text": [
      "\r",
      "problem: ref-fc16\tprotocol: bitcoin\tdag_size_limit: 240\tsize: 100012\ttime_spent: 5.23328517399932\trss: 0.6247329711914062\tdone: False                      "
     ]
    },
    {
     "name": "stdout",
     "output_type": "stream",
     "text": [
      "\r",
      "problem: ref-fc16\tprotocol: bitcoin\tdag_size_limit: 232\tsize: 93498\ttime_spent: 4.882663786003832\trss: 0.6247329711914062\tdone: True                      "
     ]
    },
    {
     "name": "stdout",
     "output_type": "stream",
     "text": [
      "\r",
      "problem: ref-fc16\tprotocol: bitcoin\tdag_size_limit: 236\tsize: 96762\ttime_spent: 4.893160109000746\trss: 0.6247329711914062\tdone: True                      "
     ]
    },
    {
     "name": "stdout",
     "output_type": "stream",
     "text": [
      "\r",
      "problem: ref-fc16\tprotocol: bitcoin\tdag_size_limit: 238\tsize: 98415\ttime_spent: 5.192392958997516\trss: 0.6247329711914062\tdone: True                      "
     ]
    },
    {
     "name": "stdout",
     "output_type": "stream",
     "text": [
      "\r",
      "problem: ref-fc16\tprotocol: bitcoin\tdag_size_limit: 239\tsize: 99247\ttime_spent: 5.0611792400013655\trss: 0.6247329711914062\tdone: True                      "
     ]
    },
    {
     "name": "stdout",
     "output_type": "stream",
     "text": [
      "\r",
      "problem: ref-aft20\tprotocol: bitcoin\tdag_size_limit: 32\tsize: 1233\ttime_spent: 0.03148884800611995\trss: 0.6247329711914062\tdone: True                      "
     ]
    },
    {
     "name": "stdout",
     "output_type": "stream",
     "text": [
      "\r",
      "problem: ref-aft20\tprotocol: bitcoin\tdag_size_limit: 64\tsize: 5025\ttime_spent: 0.13204929899802664\trss: 0.6247329711914062\tdone: True                      "
     ]
    },
    {
     "name": "stdout",
     "output_type": "stream",
     "text": [
      "\r",
      "problem: ref-aft20\tprotocol: bitcoin\tdag_size_limit: 128\tsize: 20289\ttime_spent: 0.8561292180020246\trss: 0.6247329711914062\tdone: True                      "
     ]
    },
    {
     "name": "stdout",
     "output_type": "stream",
     "text": [
      "\r",
      "problem: ref-aft20\tprotocol: bitcoin\tdag_size_limit: 256\tsize: 81537\ttime_spent: 3.5936707469954854\trss: 0.6247329711914062\tdone: True                      "
     ]
    },
    {
     "name": "stdout",
     "output_type": "stream",
     "text": [
      "\r",
      "problem: ref-aft20\tprotocol: bitcoin\tdag_size_limit: 512\tsize: 100709\ttime_spent: 3.966582920998917\trss: 0.6247329711914062\tdone: False                      "
     ]
    },
    {
     "name": "stdout",
     "output_type": "stream",
     "text": [
      "\r",
      "problem: ref-aft20\tprotocol: bitcoin\tdag_size_limit: 384\tsize: 100709\ttime_spent: 4.0670842210020055\trss: 0.6247329711914062\tdone: False                      "
     ]
    },
    {
     "name": "stdout",
     "output_type": "stream",
     "text": [
      "\r",
      "problem: ref-aft20\tprotocol: bitcoin\tdag_size_limit: 320\tsize: 100709\ttime_spent: 4.067325344003621\trss: 0.6247329711914062\tdone: False                      "
     ]
    },
    {
     "name": "stdout",
     "output_type": "stream",
     "text": [
      "\r",
      "problem: ref-aft20\tprotocol: bitcoin\tdag_size_limit: 288\tsize: 100709\ttime_spent: 4.162391404999653\trss: 0.6247329711914062\tdone: False                      "
     ]
    },
    {
     "name": "stdout",
     "output_type": "stream",
     "text": [
      "\r",
      "problem: ref-aft20\tprotocol: bitcoin\tdag_size_limit: 272\tsize: 92073\ttime_spent: 3.4300812240035157\trss: 0.6247329711914062\tdone: True                      "
     ]
    },
    {
     "name": "stdout",
     "output_type": "stream",
     "text": [
      "\r",
      "problem: ref-aft20\tprotocol: bitcoin\tdag_size_limit: 280\tsize: 97581\ttime_spent: 3.907298758000252\trss: 0.6247329711914062\tdone: True                      "
     ]
    },
    {
     "name": "stdout",
     "output_type": "stream",
     "text": [
      "\r",
      "problem: ref-aft20\tprotocol: bitcoin\tdag_size_limit: 284\tsize: 100395\ttime_spent: 4.012732730996504\trss: 0.6247329711914062\tdone: False                      "
     ]
    },
    {
     "name": "stdout",
     "output_type": "stream",
     "text": [
      "\r",
      "problem: ref-aft20\tprotocol: bitcoin\tdag_size_limit: 282\tsize: 98983\ttime_spent: 4.227127667996683\trss: 0.6247329711914062\tdone: True                      "
     ]
    },
    {
     "name": "stdout",
     "output_type": "stream",
     "text": [
      "\r",
      "problem: ref-aft20\tprotocol: bitcoin\tdag_size_limit: 283\tsize: 99688\ttime_spent: 4.0150073369950405\trss: 0.6247329711914062\tdone: True                      "
     ]
    }
   ],
   "source": [
    "# locate the upper limit for exploring the non-generic reference models with binary search\n",
    "for idx, row in models.iterrows():\n",
    "    dag_size_limit = 1\n",
    "    while True:\n",
    "        dag_size_limit *= 2\n",
    "        done = explore_row_limit(idx, row, dag_size_limit)\n",
    "        if not done:\n",
    "            break\n",
    "\n",
    "    a = dag_size_limit / 2\n",
    "    b = dag_size_limit\n",
    "\n",
    "    while b - a > 1:\n",
    "        c = round((a + b) / 2)\n",
    "        done = explore_row_limit(idx, row, c)\n",
    "        if done:\n",
    "            a = c\n",
    "        else:\n",
    "            b = c"
   ]
  },
  {
   "cell_type": "code",
   "execution_count": 6,
   "id": "713d8cf0-1c0c-453f-ba9d-578b2b925a9e",
   "metadata": {},
   "outputs": [
    {
     "name": "stdout",
     "output_type": "stream",
     "text": [
      "problem: v0\tprotocol: bitcoin\tdag_size_limit: 5\tsize: 5509\ttime_spent: 2.501808611996239\trss: 0.2797508239746094\tdone: False                                "
     ]
    },
    {
     "name": "stdout",
     "output_type": "stream",
     "text": [
      "\r",
      "problem: ref-fc16\tprotocol: bitcoin\tdag_size_limit: 7\tsize: 67\ttime_spent: 0.0021344900014810264\trss: 0.17322540283203125\tdone: True                      \r",
      "problem: ref-fc16\tprotocol: bitcoin\tdag_size_limit: 8\tsize: 90\ttime_spent: 0.0028203679976286367\trss: 0.17322540283203125\tdone: True                      \r",
      "problem: ref-fc16\tprotocol: bitcoin\tdag_size_limit: 9\tsize: 117\ttime_spent: 0.0037831869994988665\trss: 0.17322540283203125\tdone: True                      "
     ]
    },
    {
     "name": "stdout",
     "output_type": "stream",
     "text": [
      "\r",
      "problem: ref-fc16\tprotocol: bitcoin\tdag_size_limit: 10\tsize: 147\ttime_spent: 0.004729615000542253\trss: 0.17346954345703125\tdone: True                      "
     ]
    },
    {
     "name": "stdout",
     "output_type": "stream",
     "text": [
      "\r",
      "problem: ref-fc16\tprotocol: bitcoin\tdag_size_limit: 11\tsize: 181\ttime_spent: 0.005981758004054427\trss: 0.17346954345703125\tdone: True                      \r",
      "problem: ref-fc16\tprotocol: bitcoin\tdag_size_limit: 12\tsize: 218\ttime_spent: 0.0073328559956280515\trss: 0.17359161376953125\tdone: True                      "
     ]
    },
    {
     "name": "stdout",
     "output_type": "stream",
     "text": [
      "\r",
      "problem: ref-fc16\tprotocol: bitcoin\tdag_size_limit: 13\tsize: 259\ttime_spent: 0.008394790995225776\trss: 0.17371368408203125\tdone: True                      "
     ]
    },
    {
     "name": "stdout",
     "output_type": "stream",
     "text": [
      "\r",
      "problem: ref-fc16\tprotocol: bitcoin\tdag_size_limit: 14\tsize: 303\ttime_spent: 0.010200333003012929\trss: 0.17383575439453125\tdone: True                      \r",
      "problem: ref-fc16\tprotocol: bitcoin\tdag_size_limit: 15\tsize: 351\ttime_spent: 0.01170126299984986\trss: 0.17395782470703125\tdone: True                      "
     ]
    },
    {
     "name": "stdout",
     "output_type": "stream",
     "text": [
      "\r",
      "problem: ref-aft20\tprotocol: bitcoin\tdag_size_limit: 2\tsize: 3\ttime_spent: 0.00014244799967855215\trss: 0.17395782470703125\tdone: True                      \r",
      "problem: ref-aft20\tprotocol: bitcoin\tdag_size_limit: 3\tsize: 8\ttime_spent: 0.0003314929999760352\trss: 0.17395782470703125\tdone: True                      "
     ]
    },
    {
     "name": "stdout",
     "output_type": "stream",
     "text": [
      "\r",
      "problem: ref-aft20\tprotocol: bitcoin\tdag_size_limit: 4\tsize: 15\ttime_spent: 0.00037436300044646487\trss: 0.17395782470703125\tdone: True                      \r",
      "problem: ref-aft20\tprotocol: bitcoin\tdag_size_limit: 5\tsize: 25\ttime_spent: 0.0005827450004289858\trss: 0.17395782470703125\tdone: True                      "
     ]
    },
    {
     "name": "stdout",
     "output_type": "stream",
     "text": [
      "\r",
      "problem: ref-aft20\tprotocol: bitcoin\tdag_size_limit: 6\tsize: 37\ttime_spent: 0.000877669001056347\trss: 0.17395782470703125\tdone: True                      \r",
      "problem: ref-aft20\tprotocol: bitcoin\tdag_size_limit: 7\tsize: 52\ttime_spent: 0.0012008159974357113\trss: 0.17395782470703125\tdone: True                      "
     ]
    },
    {
     "name": "stdout",
     "output_type": "stream",
     "text": [
      "\r",
      "problem: ref-aft20\tprotocol: bitcoin\tdag_size_limit: 8\tsize: 69\ttime_spent: 0.0016543880046810955\trss: 0.17395782470703125\tdone: True                      \r",
      "problem: ref-aft20\tprotocol: bitcoin\tdag_size_limit: 9\tsize: 89\ttime_spent: 0.0023705540006631054\trss: 0.17395782470703125\tdone: True                      "
     ]
    },
    {
     "name": "stdout",
     "output_type": "stream",
     "text": [
      "\r",
      "problem: ref-aft20\tprotocol: bitcoin\tdag_size_limit: 10\tsize: 111\ttime_spent: 0.002606517002277542\trss: 0.17395782470703125\tdone: True                      \r",
      "problem: ref-aft20\tprotocol: bitcoin\tdag_size_limit: 11\tsize: 136\ttime_spent: 0.0032380429984186776\trss: 0.17395782470703125\tdone: True                      "
     ]
    },
    {
     "name": "stdout",
     "output_type": "stream",
     "text": [
      "\r",
      "problem: ref-aft20\tprotocol: bitcoin\tdag_size_limit: 12\tsize: 163\ttime_spent: 0.003774441000132356\trss: 0.17395782470703125\tdone: True                      \r",
      "problem: ref-aft20\tprotocol: bitcoin\tdag_size_limit: 13\tsize: 193\ttime_spent: 0.004526584001723677\trss: 0.17395782470703125\tdone: True                      "
     ]
    },
    {
     "name": "stdout",
     "output_type": "stream",
     "text": [
      "\r",
      "problem: ref-aft20\tprotocol: bitcoin\tdag_size_limit: 14\tsize: 225\ttime_spent: 0.005351754000002984\trss: 0.17395782470703125\tdone: True                      \r",
      "problem: ref-aft20\tprotocol: bitcoin\tdag_size_limit: 15\tsize: 260\ttime_spent: 0.006304844995611347\trss: 0.17395782470703125\tdone: True                      "
     ]
    },
    {
     "name": "stdout",
     "output_type": "stream",
     "text": [
      "\r",
      "problem: v1\tprotocol: bitcoin\tdag_size_limit: 2\tsize: 6\ttime_spent: 0.002017109996813815\trss: 0.17395782470703125\tdone: True                      \r",
      "problem: v1\tprotocol: bitcoin\tdag_size_limit: 3\tsize: 34\ttime_spent: 0.010086900001624599\trss: 0.17395782470703125\tdone: True                      "
     ]
    },
    {
     "name": "stdout",
     "output_type": "stream",
     "text": [
      "\r",
      "problem: v1\tprotocol: bitcoin\tdag_size_limit: 4\tsize: 267\ttime_spent: 0.08467698899767129\trss: 0.17578887939453125\tdone: True                      "
     ]
    },
    {
     "name": "stdout",
     "output_type": "stream",
     "text": [
      "\r",
      "problem: v1\tprotocol: bitcoin\tdag_size_limit: 5\tsize: 2332\ttime_spent: 1.136931408997043\trss: 0.19019317626953125\tdone: True                      "
     ]
    },
    {
     "name": "stdout",
     "output_type": "stream",
     "text": [
      "\r",
      "problem: v1\tprotocol: bitcoin\tdag_size_limit: 6\tsize: 21327\ttime_spent: 14.225804828995024\trss: 0.34095001220703125\tdone: True                      "
     ]
    },
    {
     "name": "stdout",
     "output_type": "stream",
     "text": [
      "\r",
      "problem: v1\tprotocol: bitcoin\tdag_size_limit: 7\tsize: 100733\ttime_spent: 63.56608697900083\trss: 0.9826545715332031\tdone: False                      "
     ]
    },
    {
     "name": "stdout",
     "output_type": "stream",
     "text": [
      "\r",
      "problem: v1\tprotocol: ethereum_3\tdag_size_limit: 2\tsize: 6\ttime_spent: 0.0025097249963437207\trss: 0.22385025024414062\tdone: True                      \r",
      "problem: v1\tprotocol: ethereum_3\tdag_size_limit: 3\tsize: 45\ttime_spent: 0.017895329001476057\trss: 0.21872329711914062\tdone: True                      "
     ]
    },
    {
     "name": "stdout",
     "output_type": "stream",
     "text": [
      "\r",
      "problem: v1\tprotocol: ethereum_3\tdag_size_limit: 4\tsize: 327\ttime_spent: 0.1270621969961212\trss: 0.21872329711914062\tdone: True                      "
     ]
    },
    {
     "name": "stdout",
     "output_type": "stream",
     "text": [
      "\r",
      "problem: v1\tprotocol: ethereum_3\tdag_size_limit: 5\tsize: 2981\ttime_spent: 1.6136297640041448\trss: 0.21847915649414062\tdone: True                      "
     ]
    },
    {
     "name": "stdout",
     "output_type": "stream",
     "text": [
      "\r",
      "problem: v1\tprotocol: ethereum_3\tdag_size_limit: 6\tsize: 32961\ttime_spent: 23.782884405001823\trss: 0.4402809143066406\tdone: True                      "
     ]
    },
    {
     "name": "stdout",
     "output_type": "stream",
     "text": [
      "\r",
      "problem: v1\tprotocol: ethereum_3\tdag_size_limit: 7\tsize: 100084\ttime_spent: 67.87202280700149\trss: 0.9647789001464844\tdone: False                      "
     ]
    },
    {
     "name": "stdout",
     "output_type": "stream",
     "text": [
      "\r",
      "problem: v1\tprotocol: byzantium_3\tdag_size_limit: 2\tsize: 6\ttime_spent: 0.0025218679948011413\trss: 0.22554397583007812\tdone: True                      \r",
      "problem: v1\tprotocol: byzantium_3\tdag_size_limit: 3\tsize: 45\ttime_spent: 0.019624927001132164\trss: 0.22072982788085938\tdone: True                      "
     ]
    },
    {
     "name": "stdout",
     "output_type": "stream",
     "text": [
      "\r",
      "problem: v1\tprotocol: byzantium_3\tdag_size_limit: 4\tsize: 327\ttime_spent: 0.14158440100436565\trss: 0.22048568725585938\tdone: True                      "
     ]
    },
    {
     "name": "stdout",
     "output_type": "stream",
     "text": [
      "\r",
      "problem: v1\tprotocol: byzantium_3\tdag_size_limit: 5\tsize: 2981\ttime_spent: 1.7300516329996753\trss: 0.22024154663085938\tdone: True                      "
     ]
    },
    {
     "name": "stdout",
     "output_type": "stream",
     "text": [
      "\r",
      "problem: v1\tprotocol: byzantium_3\tdag_size_limit: 6\tsize: 33016\ttime_spent: 25.188464735998423\trss: 0.4409446716308594\tdone: True                      "
     ]
    },
    {
     "name": "stdout",
     "output_type": "stream",
     "text": [
      "\r",
      "problem: v1\tprotocol: byzantium_3\tdag_size_limit: 7\tsize: 100073\ttime_spent: 74.35557235200395\trss: 0.9648170471191406\tdone: False                      "
     ]
    },
    {
     "name": "stdout",
     "output_type": "stream",
     "text": [
      "\r",
      "problem: v1\tprotocol: ghostdag_3\tdag_size_limit: 2\tsize: 6\ttime_spent: 0.0023623179949936457\trss: 0.2301177978515625\tdone: True                      \r",
      "problem: v1\tprotocol: ghostdag_3\tdag_size_limit: 3\tsize: 45\ttime_spent: 0.021524926996789873\trss: 0.22673797607421875\tdone: True                      "
     ]
    },
    {
     "name": "stdout",
     "output_type": "stream",
     "text": [
      "\r",
      "problem: v1\tprotocol: ghostdag_3\tdag_size_limit: 4\tsize: 352\ttime_spent: 0.1698085230018478\trss: 0.22649383544921875\tdone: True                      "
     ]
    },
    {
     "name": "stdout",
     "output_type": "stream",
     "text": [
      "\r",
      "problem: v1\tprotocol: ghostdag_3\tdag_size_limit: 5\tsize: 3712\ttime_spent: 2.5124030820006737\trss: 0.22673797607421875\tdone: True                      "
     ]
    },
    {
     "name": "stdout",
     "output_type": "stream",
     "text": [
      "\r",
      "problem: v1\tprotocol: ghostdag_3\tdag_size_limit: 6\tsize: 46966\ttime_spent: 38.52699453999958\trss: 0.5397262573242188\tdone: True                      "
     ]
    },
    {
     "name": "stdout",
     "output_type": "stream",
     "text": [
      "\r",
      "problem: v1\tprotocol: ghostdag_3\tdag_size_limit: 7\tsize: 100114\ttime_spent: 73.03665558899957\trss: 0.9346351623535156\tdone: False                      "
     ]
    },
    {
     "name": "stdout",
     "output_type": "stream",
     "text": [
      "\r",
      "problem: v1\tprotocol: parallel_3\tdag_size_limit: 2\tsize: 76\ttime_spent: 0.028819370003475342\trss: 0.4522552490234375\tdone: True                      \r",
      "problem: v1\tprotocol: parallel_3\tdag_size_limit: 3\tsize: 90\ttime_spent: 0.03080511000007391\trss: 0.2879486083984375\tdone: True                      "
     ]
    },
    {
     "name": "stdout",
     "output_type": "stream",
     "text": [
      "\r",
      "problem: v1\tprotocol: parallel_3\tdag_size_limit: 4\tsize: 206\ttime_spent: 0.07331009100016672\trss: 0.2840423583984375\tdone: True                      "
     ]
    },
    {
     "name": "stdout",
     "output_type": "stream",
     "text": [
      "\r",
      "problem: v1\tprotocol: parallel_3\tdag_size_limit: 5\tsize: 1189\ttime_spent: 0.6037262629979523\trss: 0.2838020324707031\tdone: True                      "
     ]
    },
    {
     "name": "stdout",
     "output_type": "stream",
     "text": [
      "\r",
      "problem: v1\tprotocol: parallel_3\tdag_size_limit: 6\tsize: 9122\ttime_spent: 5.6355168289956055\trss: 0.2790946960449219\tdone: True                      "
     ]
    },
    {
     "name": "stdout",
     "output_type": "stream",
     "text": [
      "\r",
      "problem: v1\tprotocol: parallel_3\tdag_size_limit: 7\tsize: 82753\ttime_spent: 62.67495557100483\trss: 0.9176864624023438\tdone: True                      "
     ]
    },
    {
     "name": "stdout",
     "output_type": "stream",
     "text": [
      "\r",
      "problem: v1\tprotocol: parallel_3\tdag_size_limit: 8\tsize: 100206\ttime_spent: 70.0726896289998\trss: 1.0673141479492188\tdone: False                      "
     ]
    },
    {
     "name": "stdout",
     "output_type": "stream",
     "text": [
      "\r",
      "problem: v1+fc\tprotocol: bitcoin\tdag_size_limit: 2\tsize: 5\ttime_spent: 0.0021354119962779805\trss: 0.23717880249023438\tdone: True                      \r",
      "problem: v1+fc\tprotocol: bitcoin\tdag_size_limit: 3\tsize: 21\ttime_spent: 0.007384122000075877\trss: 0.23113250732421875\tdone: True                      \r",
      "problem: v1+fc\tprotocol: bitcoin\tdag_size_limit: 4\tsize: 58\ttime_spent: 0.02022744900023099\trss: 0.23064422607421875\tdone: True                      "
     ]
    },
    {
     "name": "stdout",
     "output_type": "stream",
     "text": [
      "\r",
      "problem: v1+fc\tprotocol: bitcoin\tdag_size_limit: 5\tsize: 186\ttime_spent: 0.0788943619991187\trss: 0.23040008544921875\tdone: True                      "
     ]
    },
    {
     "name": "stdout",
     "output_type": "stream",
     "text": [
      "\r",
      "problem: v1+fc\tprotocol: bitcoin\tdag_size_limit: 6\tsize: 549\ttime_spent: 0.2534191149970866\trss: 0.23040008544921875\tdone: True                      "
     ]
    },
    {
     "name": "stdout",
     "output_type": "stream",
     "text": [
      "\r",
      "problem: v1+fc\tprotocol: bitcoin\tdag_size_limit: 7\tsize: 1650\ttime_spent: 0.9832550869978149\trss: 0.23040008544921875\tdone: True                      "
     ]
    },
    {
     "name": "stdout",
     "output_type": "stream",
     "text": [
      "\r",
      "problem: v1+fc\tprotocol: bitcoin\tdag_size_limit: 8\tsize: 4968\ttime_spent: 3.390499137000006\trss: 0.23186492919921875\tdone: True                      "
     ]
    },
    {
     "name": "stdout",
     "output_type": "stream",
     "text": [
      "\r",
      "problem: v1+fc\tprotocol: bitcoin\tdag_size_limit: 9\tsize: 15172\ttime_spent: 12.705295286999899\trss: 0.33245086669921875\tdone: True                      "
     ]
    },
    {
     "name": "stdout",
     "output_type": "stream",
     "text": [
      "\r",
      "problem: v1+fc\tprotocol: bitcoin\tdag_size_limit: 10\tsize: 46756\ttime_spent: 43.4285926550001\trss: 0.6693649291992188\tdone: True                      "
     ]
    },
    {
     "name": "stdout",
     "output_type": "stream",
     "text": [
      "\r",
      "problem: v1+fc\tprotocol: bitcoin\tdag_size_limit: 11\tsize: 100126\ttime_spent: 90.44129400000384\trss: 1.2581367492675781\tdone: False                      "
     ]
    },
    {
     "name": "stdout",
     "output_type": "stream",
     "text": [
      "\r",
      "problem: v1+fc\tprotocol: ethereum_3\tdag_size_limit: 2\tsize: 5\ttime_spent: 0.0023049310038913973\trss: 0.24056625366210938\tdone: True                      \r",
      "problem: v1+fc\tprotocol: ethereum_3\tdag_size_limit: 3\tsize: 41\ttime_spent: 0.019246022005972918\trss: 0.23645401000976562\tdone: True                      \r",
      "problem: v1+fc\tprotocol: ethereum_3\tdag_size_limit: 4\tsize: 78\ttime_spent: 0.03377607199945487\trss: 0.23547744750976562\tdone: True                      "
     ]
    },
    {
     "name": "stdout",
     "output_type": "stream",
     "text": [
      "\r",
      "problem: v1+fc\tprotocol: ethereum_3\tdag_size_limit: 5\tsize: 290\ttime_spent: 0.14565271899482468\trss: 0.23499298095703125\tdone: True                      "
     ]
    },
    {
     "name": "stdout",
     "output_type": "stream",
     "text": [
      "\r",
      "problem: v1+fc\tprotocol: ethereum_3\tdag_size_limit: 6\tsize: 1179\ttime_spent: 0.7169681029990898\trss: 0.23499298095703125\tdone: True                      "
     ]
    },
    {
     "name": "stdout",
     "output_type": "stream",
     "text": [
      "\r",
      "problem: v1+fc\tprotocol: ethereum_3\tdag_size_limit: 7\tsize: 4123\ttime_spent: 2.842541367004742\trss: 0.23377227783203125\tdone: True                      "
     ]
    },
    {
     "name": "stdout",
     "output_type": "stream",
     "text": [
      "\r",
      "problem: v1+fc\tprotocol: ethereum_3\tdag_size_limit: 8\tsize: 15257\ttime_spent: 11.942598554000142\trss: 0.32544708251953125\tdone: True                      "
     ]
    },
    {
     "name": "stdout",
     "output_type": "stream",
     "text": [
      "\r",
      "problem: v1+fc\tprotocol: ethereum_3\tdag_size_limit: 9\tsize: 57506\ttime_spent: 50.55862273299863\trss: 0.7522048950195312\tdone: True                      "
     ]
    },
    {
     "name": "stdout",
     "output_type": "stream",
     "text": [
      "\r",
      "problem: v1+fc\tprotocol: ethereum_3\tdag_size_limit: 10\tsize: 100450\ttime_spent: 84.3133249349994\trss: 1.1939048767089844\tdone: False                      "
     ]
    },
    {
     "name": "stdout",
     "output_type": "stream",
     "text": [
      "\r",
      "problem: v1+fc\tprotocol: byzantium_3\tdag_size_limit: 2\tsize: 5\ttime_spent: 0.0024975229971460067\trss: 0.2519683837890625\tdone: True                      \r",
      "problem: v1+fc\tprotocol: byzantium_3\tdag_size_limit: 3\tsize: 41\ttime_spent: 0.021228997997241095\trss: 0.2439117431640625\tdone: True                      \r",
      "problem: v1+fc\tprotocol: byzantium_3\tdag_size_limit: 4\tsize: 78\ttime_spent: 0.036704204001580365\trss: 0.2424468994140625\tdone: True                      "
     ]
    },
    {
     "name": "stdout",
     "output_type": "stream",
     "text": [
      "\r",
      "problem: v1+fc\tprotocol: byzantium_3\tdag_size_limit: 5\tsize: 290\ttime_spent: 0.16099200100143207\trss: 0.2419586181640625\tdone: True                      "
     ]
    },
    {
     "name": "stdout",
     "output_type": "stream",
     "text": [
      "\r",
      "problem: v1+fc\tprotocol: byzantium_3\tdag_size_limit: 6\tsize: 1109\ttime_spent: 0.7457209569984116\trss: 0.24174118041992188\tdone: True                      "
     ]
    },
    {
     "name": "stdout",
     "output_type": "stream",
     "text": [
      "\r",
      "problem: v1+fc\tprotocol: byzantium_3\tdag_size_limit: 7\tsize: 3952\ttime_spent: 2.964501290000044\trss: 0.24149703979492188\tdone: True                      "
     ]
    },
    {
     "name": "stdout",
     "output_type": "stream",
     "text": [
      "\r",
      "problem: v1+fc\tprotocol: byzantium_3\tdag_size_limit: 8\tsize: 15177\ttime_spent: 13.232520999998087\trss: 0.3245048522949219\tdone: True                      "
     ]
    },
    {
     "name": "stdout",
     "output_type": "stream",
     "text": [
      "\r",
      "problem: v1+fc\tprotocol: byzantium_3\tdag_size_limit: 9\tsize: 56770\ttime_spent: 55.64756438900076\trss: 0.7486991882324219\tdone: True                      "
     ]
    },
    {
     "name": "stdout",
     "output_type": "stream",
     "text": [
      "\r",
      "problem: v1+fc\tprotocol: byzantium_3\tdag_size_limit: 10\tsize: 100334\ttime_spent: 92.43117878400517\trss: 1.1922149658203125\tdone: False                      "
     ]
    },
    {
     "name": "stdout",
     "output_type": "stream",
     "text": [
      "\r",
      "problem: v1+fc\tprotocol: ghostdag_3\tdag_size_limit: 2\tsize: 5\ttime_spent: 0.0023170030035544187\trss: 0.24925613403320312\tdone: True                      \r",
      "problem: v1+fc\tprotocol: ghostdag_3\tdag_size_limit: 3\tsize: 23\ttime_spent: 0.011379721996490844\trss: 0.24082183837890625\tdone: True                      \r",
      "problem: v1+fc\tprotocol: ghostdag_3\tdag_size_limit: 4\tsize: 84\ttime_spent: 0.045735594001598656\trss: 0.24008941650390625\tdone: True                      "
     ]
    },
    {
     "name": "stdout",
     "output_type": "stream",
     "text": [
      "\r",
      "problem: v1+fc\tprotocol: ghostdag_3\tdag_size_limit: 5\tsize: 350\ttime_spent: 0.24992531799944118\trss: 0.23984527587890625\tdone: True                      "
     ]
    },
    {
     "name": "stdout",
     "output_type": "stream",
     "text": [
      "\r",
      "problem: v1+fc\tprotocol: ghostdag_3\tdag_size_limit: 6\tsize: 1527\ttime_spent: 1.3780775830018683\trss: 0.23984527587890625\tdone: True                      "
     ]
    },
    {
     "name": "stdout",
     "output_type": "stream",
     "text": [
      "\r",
      "problem: v1+fc\tprotocol: ghostdag_3\tdag_size_limit: 7\tsize: 6739\ttime_spent: 8.127638452999236\trss: 0.24319839477539062\tdone: True                      "
     ]
    },
    {
     "name": "stdout",
     "output_type": "stream",
     "text": [
      "\r",
      "problem: v1+fc\tprotocol: ghostdag_3\tdag_size_limit: 8\tsize: 31192\ttime_spent: 44.48023953099619\trss: 0.4632301330566406\tdone: True                      "
     ]
    },
    {
     "name": "stdout",
     "output_type": "stream",
     "text": [
      "\r",
      "problem: v1+fc\tprotocol: ghostdag_3\tdag_size_limit: 9\tsize: 100585\ttime_spent: 109.78339087799395\trss: 1.1153297424316406\tdone: False                      "
     ]
    },
    {
     "name": "stdout",
     "output_type": "stream",
     "text": [
      "\r",
      "problem: v1+fc\tprotocol: parallel_3\tdag_size_limit: 2\tsize: 61\ttime_spent: 0.02531127799738897\trss: 0.441619873046875\tdone: True                      \r",
      "problem: v1+fc\tprotocol: parallel_3\tdag_size_limit: 3\tsize: 69\ttime_spent: 0.027277032000711188\trss: 0.2918853759765625\tdone: True                      "
     ]
    },
    {
     "name": "stdout",
     "output_type": "stream",
     "text": [
      "\r",
      "problem: v1+fc\tprotocol: parallel_3\tdag_size_limit: 4\tsize: 119\ttime_spent: 0.04418821100261994\trss: 0.2840728759765625\tdone: True                      "
     ]
    },
    {
     "name": "stdout",
     "output_type": "stream",
     "text": [
      "\r",
      "problem: v1+fc\tprotocol: parallel_3\tdag_size_limit: 5\tsize: 470\ttime_spent: 0.19105739999940852\trss: 0.2836189270019531\tdone: True                      "
     ]
    },
    {
     "name": "stdout",
     "output_type": "stream",
     "text": [
      "\r",
      "problem: v1+fc\tprotocol: parallel_3\tdag_size_limit: 6\tsize: 2050\ttime_spent: 0.9981596560028265\trss: 0.2836189270019531\tdone: True                      "
     ]
    },
    {
     "name": "stdout",
     "output_type": "stream",
     "text": [
      "\r",
      "problem: v1+fc\tprotocol: parallel_3\tdag_size_limit: 7\tsize: 8674\ttime_spent: 5.495970251002291\trss: 0.2797126770019531\tdone: True                      "
     ]
    },
    {
     "name": "stdout",
     "output_type": "stream",
     "text": [
      "\r",
      "problem: v1+fc\tprotocol: parallel_3\tdag_size_limit: 8\tsize: 31850\ttime_spent: 23.658638619999692\trss: 0.4913825988769531\tdone: True                      "
     ]
    },
    {
     "name": "stdout",
     "output_type": "stream",
     "text": [
      "\r",
      "problem: v1+fc\tprotocol: parallel_3\tdag_size_limit: 9\tsize: 96542\ttime_spent: 84.70313739799894\trss: 1.1676521301269531\tdone: True                      "
     ]
    },
    {
     "name": "stdout",
     "output_type": "stream",
     "text": [
      "\r",
      "problem: v1+fc\tprotocol: parallel_3\tdag_size_limit: 10\tsize: 101052\ttime_spent: 84.87401872299961\trss: 1.2492408752441406\tdone: False                      "
     ]
    },
    {
     "name": "stdout",
     "output_type": "stream",
     "text": [
      "\r",
      "problem: v1+n\tprotocol: bitcoin\tdag_size_limit: 2\tsize: 6\ttime_spent: 0.002912143994763028\trss: 0.2650718688964844\tdone: True                      \r",
      "problem: v1+n\tprotocol: bitcoin\tdag_size_limit: 3\tsize: 45\ttime_spent: 0.01896274500177242\trss: 0.2570152282714844\tdone: True                      "
     ]
    },
    {
     "name": "stdout",
     "output_type": "stream",
     "text": [
      "\r",
      "problem: v1+n\tprotocol: bitcoin\tdag_size_limit: 4\tsize: 198\ttime_spent: 0.09757754600286717\trss: 0.2565269470214844\tdone: True                      "
     ]
    },
    {
     "name": "stdout",
     "output_type": "stream",
     "text": [
      "\r",
      "problem: v1+n\tprotocol: bitcoin\tdag_size_limit: 5\tsize: 1090\ttime_spent: 0.7764090029959334\trss: 0.2565269470214844\tdone: True                      "
     ]
    },
    {
     "name": "stdout",
     "output_type": "stream",
     "text": [
      "\r",
      "problem: v1+n\tprotocol: bitcoin\tdag_size_limit: 6\tsize: 5724\ttime_spent: 5.262426109002263\trss: 0.2560386657714844\tdone: True                      "
     ]
    },
    {
     "name": "stdout",
     "output_type": "stream",
     "text": [
      "\r",
      "problem: v1+n\tprotocol: bitcoin\tdag_size_limit: 7\tsize: 31532\ttime_spent: 38.220784200995695\trss: 0.4573326110839844\tdone: True                      "
     ]
    },
    {
     "name": "stdout",
     "output_type": "stream",
     "text": [
      "\r",
      "problem: v1+n\tprotocol: bitcoin\tdag_size_limit: 8\tsize: 100188\ttime_spent: 117.19457081399742\trss: 1.0716896057128906\tdone: False                      "
     ]
    },
    {
     "name": "stdout",
     "output_type": "stream",
     "text": [
      "\r",
      "problem: v1+n\tprotocol: ethereum_3\tdag_size_limit: 2\tsize: 6\ttime_spent: 0.0032476449996465817\trss: 0.2617645263671875\tdone: True                      \r",
      "problem: v1+n\tprotocol: ethereum_3\tdag_size_limit: 3\tsize: 78\ttime_spent: 0.040722425997955725\trss: 0.2574882507324219\tdone: True                      "
     ]
    },
    {
     "name": "stdout",
     "output_type": "stream",
     "text": [
      "\r",
      "problem: v1+n\tprotocol: ethereum_3\tdag_size_limit: 4\tsize: 231\ttime_spent: 0.125995103000605\trss: 0.2565116882324219\tdone: True                      "
     ]
    },
    {
     "name": "stdout",
     "output_type": "stream",
     "text": [
      "\r",
      "problem: v1+n\tprotocol: ethereum_3\tdag_size_limit: 5\tsize: 1480\ttime_spent: 1.0685186400005477\trss: 0.2560234069824219\tdone: True                      "
     ]
    },
    {
     "name": "stdout",
     "output_type": "stream",
     "text": [
      "\r",
      "problem: v1+n\tprotocol: ethereum_3\tdag_size_limit: 6\tsize: 10293\ttime_spent: 9.095067679001659\trss: 0.26761627197265625\tdone: True                      "
     ]
    },
    {
     "name": "stdout",
     "output_type": "stream",
     "text": [
      "\r",
      "problem: v1+n\tprotocol: ethereum_3\tdag_size_limit: 7\tsize: 77694\ttime_spent: 81.4173516400042\trss: 0.8528213500976562\tdone: True                      "
     ]
    },
    {
     "name": "stdout",
     "output_type": "stream",
     "text": [
      "\r",
      "problem: v1+n\tprotocol: ethereum_3\tdag_size_limit: 8\tsize: 100621\ttime_spent: 107.72521230800339\trss: 1.0312385559082031\tdone: False                      "
     ]
    },
    {
     "name": "stdout",
     "output_type": "stream",
     "text": [
      "\r",
      "problem: v1+n\tprotocol: byzantium_3\tdag_size_limit: 2\tsize: 6\ttime_spent: 0.0034528180040069856\trss: 0.26711273193359375\tdone: True                      \r",
      "problem: v1+n\tprotocol: byzantium_3\tdag_size_limit: 3\tsize: 78\ttime_spent: 0.04314258399972459\trss: 0.26247406005859375\tdone: True                      "
     ]
    },
    {
     "name": "stdout",
     "output_type": "stream",
     "text": [
      "\r",
      "problem: v1+n\tprotocol: byzantium_3\tdag_size_limit: 4\tsize: 231\ttime_spent: 0.12920176899933722\trss: 0.26174163818359375\tdone: True                      "
     ]
    },
    {
     "name": "stdout",
     "output_type": "stream",
     "text": [
      "\r",
      "problem: v1+n\tprotocol: byzantium_3\tdag_size_limit: 5\tsize: 1480\ttime_spent: 1.104677745999652\trss: 0.26174163818359375\tdone: True                      "
     ]
    },
    {
     "name": "stdout",
     "output_type": "stream",
     "text": [
      "\r",
      "problem: v1+n\tprotocol: byzantium_3\tdag_size_limit: 6\tsize: 9879\ttime_spent: 9.239848076998896\trss: 0.2637176513671875\tdone: True                      "
     ]
    },
    {
     "name": "stdout",
     "output_type": "stream",
     "text": [
      "\r",
      "problem: v1+n\tprotocol: byzantium_3\tdag_size_limit: 7\tsize: 72927\ttime_spent: 81.87579668399849\trss: 0.8069305419921875\tdone: True                      "
     ]
    },
    {
     "name": "stdout",
     "output_type": "stream",
     "text": [
      "\r",
      "problem: v1+n\tprotocol: byzantium_3\tdag_size_limit: 8\tsize: 100279\ttime_spent: 110.6089962410042\trss: 1.0346832275390625\tdone: False                      "
     ]
    },
    {
     "name": "stdout",
     "output_type": "stream",
     "text": [
      "\r",
      "problem: v1+n\tprotocol: ghostdag_3\tdag_size_limit: 2\tsize: 6\ttime_spent: 0.003044140998099465\trss: 0.2760658264160156\tdone: True                      \r",
      "problem: v1+n\tprotocol: ghostdag_3\tdag_size_limit: 3\tsize: 41\ttime_spent: 0.020603037002729252\trss: 0.26519012451171875\tdone: True                      "
     ]
    },
    {
     "name": "stdout",
     "output_type": "stream",
     "text": [
      "\r",
      "problem: v1+n\tprotocol: ghostdag_3\tdag_size_limit: 4\tsize: 228\ttime_spent: 0.13323444800334983\trss: 0.26519012451171875\tdone: True                      "
     ]
    },
    {
     "name": "stdout",
     "output_type": "stream",
     "text": [
      "\r",
      "problem: v1+n\tprotocol: ghostdag_3\tdag_size_limit: 5\tsize: 1581\ttime_spent: 1.196971636993112\trss: 0.26519012451171875\tdone: True                      "
     ]
    },
    {
     "name": "stdout",
     "output_type": "stream",
     "text": [
      "\r",
      "problem: v1+n\tprotocol: ghostdag_3\tdag_size_limit: 6\tsize: 12644\ttime_spent: 12.460042152000824\trss: 0.28313446044921875\tdone: True                      "
     ]
    },
    {
     "name": "stdout",
     "output_type": "stream",
     "text": [
      "\r",
      "problem: v1+n\tprotocol: ghostdag_3\tdag_size_limit: 7\tsize: 100085\ttime_spent: 103.72310248899885\trss: 0.9836959838867188\tdone: False                      "
     ]
    },
    {
     "name": "stdout",
     "output_type": "stream",
     "text": [
      "\r",
      "problem: v1+n\tprotocol: parallel_3\tdag_size_limit: 2\tsize: 51\ttime_spent: 0.02479297199897701\trss: 0.39565277099609375\tdone: True                      \r",
      "problem: v1+n\tprotocol: parallel_3\tdag_size_limit: 3\tsize: 68\ttime_spent: 0.030335096998896915\trss: 0.30141448974609375\tdone: True                      "
     ]
    },
    {
     "name": "stdout",
     "output_type": "stream",
     "text": [
      "\r",
      "problem: v1+n\tprotocol: parallel_3\tdag_size_limit: 4\tsize: 152\ttime_spent: 0.07874038099544123\trss: 0.29897308349609375\tdone: True                      "
     ]
    },
    {
     "name": "stdout",
     "output_type": "stream",
     "text": [
      "\r",
      "problem: v1+n\tprotocol: parallel_3\tdag_size_limit: 5\tsize: 473\ttime_spent: 0.32938595899759093\trss: 0.29848480224609375\tdone: True                      "
     ]
    },
    {
     "name": "stdout",
     "output_type": "stream",
     "text": [
      "\r",
      "problem: v1+n\tprotocol: parallel_3\tdag_size_limit: 6\tsize: 1654\ttime_spent: 1.4436108369991416\trss: 0.2973289489746094\tdone: True                      "
     ]
    },
    {
     "name": "stdout",
     "output_type": "stream",
     "text": [
      "\r",
      "problem: v1+n\tprotocol: parallel_3\tdag_size_limit: 7\tsize: 6386\ttime_spent: 6.43337490799604\trss: 0.2939109802246094\tdone: True                      "
     ]
    },
    {
     "name": "stdout",
     "output_type": "stream",
     "text": [
      "\r",
      "problem: v1+n\tprotocol: parallel_3\tdag_size_limit: 8\tsize: 29302\ttime_spent: 35.61617095800466\trss: 0.4645652770996094\tdone: True                      "
     ]
    },
    {
     "name": "stdout",
     "output_type": "stream",
     "text": [
      "\r",
      "problem: v1+n\tprotocol: parallel_3\tdag_size_limit: 9\tsize: 100159\ttime_spent: 134.55770831900008\trss: 1.1850624084472656\tdone: False                      "
     ]
    },
    {
     "name": "stdout",
     "output_type": "stream",
     "text": [
      "\r",
      "problem: v1+fc+n\tprotocol: bitcoin\tdag_size_limit: 2\tsize: 5\ttime_spent: 0.0029500340024242178\trss: 0.2757415771484375\tdone: True                      \r",
      "problem: v1+fc+n\tprotocol: bitcoin\tdag_size_limit: 3\tsize: 18\ttime_spent: 0.008700771002622787\trss: 0.2674407958984375\tdone: True                      \r",
      "problem: v1+fc+n\tprotocol: bitcoin\tdag_size_limit: 4\tsize: 45\ttime_spent: 0.023442653997335583\trss: 0.2671966552734375\tdone: True                      "
     ]
    },
    {
     "name": "stdout",
     "output_type": "stream",
     "text": [
      "\r",
      "problem: v1+fc+n\tprotocol: bitcoin\tdag_size_limit: 5\tsize: 120\ttime_spent: 0.07541874900198309\trss: 0.2659759521484375\tdone: True                      "
     ]
    },
    {
     "name": "stdout",
     "output_type": "stream",
     "text": [
      "\r",
      "problem: v1+fc+n\tprotocol: bitcoin\tdag_size_limit: 6\tsize: 300\ttime_spent: 0.2143891050000093\trss: 0.2657318115234375\tdone: True                      "
     ]
    },
    {
     "name": "stdout",
     "output_type": "stream",
     "text": [
      "\r",
      "problem: v1+fc+n\tprotocol: bitcoin\tdag_size_limit: 7\tsize: 760\ttime_spent: 0.6267213789978996\trss: 0.2657318115234375\tdone: True                      "
     ]
    },
    {
     "name": "stdout",
     "output_type": "stream",
     "text": [
      "\r",
      "problem: v1+fc+n\tprotocol: bitcoin\tdag_size_limit: 8\tsize: 1959\ttime_spent: 2.034208712997497\trss: 0.2657318115234375\tdone: True                      "
     ]
    },
    {
     "name": "stdout",
     "output_type": "stream",
     "text": [
      "\r",
      "problem: v1+fc+n\tprotocol: bitcoin\tdag_size_limit: 9\tsize: 5153\ttime_spent: 5.962264146000962\trss: 0.2633399963378906\tdone: True                      "
     ]
    },
    {
     "name": "stdout",
     "output_type": "stream",
     "text": [
      "\r",
      "problem: v1+fc+n\tprotocol: bitcoin\tdag_size_limit: 10\tsize: 13794\ttime_spent: 18.45085978499992\trss: 0.3314552307128906\tdone: True                      "
     ]
    },
    {
     "name": "stdout",
     "output_type": "stream",
     "text": [
      "\r",
      "problem: v1+fc+n\tprotocol: bitcoin\tdag_size_limit: 11\tsize: 37322\ttime_spent: 55.90834796999843\trss: 0.6015968322753906\tdone: True                      "
     ]
    },
    {
     "name": "stdout",
     "output_type": "stream",
     "text": [
      "\r",
      "problem: v1+fc+n\tprotocol: bitcoin\tdag_size_limit: 12\tsize: 100344\ttime_spent: 166.936282390001\trss: 1.3274421691894531\tdone: False                      "
     ]
    },
    {
     "name": "stdout",
     "output_type": "stream",
     "text": [
      "\r",
      "problem: v1+fc+n\tprotocol: ethereum_3\tdag_size_limit: 2\tsize: 5\ttime_spent: 0.003040734001842793\trss: 0.2832374572753906\tdone: True                      \r",
      "problem: v1+fc+n\tprotocol: ethereum_3\tdag_size_limit: 3\tsize: 29\ttime_spent: 0.019454039000265766\trss: 0.27664947509765625\tdone: True                      \r",
      "problem: v1+fc+n\tprotocol: ethereum_3\tdag_size_limit: 4\tsize: 56\ttime_spent: 0.03586888499557972\trss: 0.27591705322265625\tdone: True                      "
     ]
    },
    {
     "name": "stdout",
     "output_type": "stream",
     "text": [
      "\r",
      "problem: v1+fc+n\tprotocol: ethereum_3\tdag_size_limit: 5\tsize: 186\ttime_spent: 0.13840079600049648\trss: 0.27469635009765625\tdone: True                      "
     ]
    },
    {
     "name": "stdout",
     "output_type": "stream",
     "text": [
      "\r",
      "problem: v1+fc+n\tprotocol: ethereum_3\tdag_size_limit: 6\tsize: 596\ttime_spent: 0.4835623909966671\trss: 0.27469635009765625\tdone: True                      "
     ]
    },
    {
     "name": "stdout",
     "output_type": "stream",
     "text": [
      "\r",
      "problem: v1+fc+n\tprotocol: ethereum_3\tdag_size_limit: 7\tsize: 1794\ttime_spent: 1.6334938299987698\trss: 0.27420806884765625\tdone: True                      "
     ]
    },
    {
     "name": "stdout",
     "output_type": "stream",
     "text": [
      "\r",
      "problem: v1+fc+n\tprotocol: ethereum_3\tdag_size_limit: 8\tsize: 5535\ttime_spent: 5.768310443003429\trss: 0.27249908447265625\tdone: True                      "
     ]
    },
    {
     "name": "stdout",
     "output_type": "stream",
     "text": [
      "\r",
      "problem: v1+fc+n\tprotocol: ethereum_3\tdag_size_limit: 9\tsize: 17089\ttime_spent: 19.924668211002427\trss: 0.36112213134765625\tdone: True                      "
     ]
    },
    {
     "name": "stdout",
     "output_type": "stream",
     "text": [
      "\r",
      "problem: v1+fc+n\tprotocol: ethereum_3\tdag_size_limit: 10\tsize: 51668\ttime_spent: 68.03465653699823\trss: 0.7242813110351562\tdone: True                      "
     ]
    },
    {
     "name": "stdout",
     "output_type": "stream",
     "text": [
      "\r",
      "problem: v1+fc+n\tprotocol: ethereum_3\tdag_size_limit: 11\tsize: 100435\ttime_spent: 139.3449647630041\trss: 1.2513313293457031\tdone: False                      "
     ]
    },
    {
     "name": "stdout",
     "output_type": "stream",
     "text": [
      "\r",
      "problem: v1+fc+n\tprotocol: byzantium_3\tdag_size_limit: 2\tsize: 5\ttime_spent: 0.0031500730037805624\trss: 0.2956390380859375\tdone: True                      \r",
      "problem: v1+fc+n\tprotocol: byzantium_3\tdag_size_limit: 3\tsize: 29\ttime_spent: 0.01855181300197728\trss: 0.287353515625\tdone: True                      \r",
      "problem: v1+fc+n\tprotocol: byzantium_3\tdag_size_limit: 4\tsize: 56\ttime_spent: 0.036799313995288685\trss: 0.2861328125\tdone: True                      "
     ]
    },
    {
     "name": "stdout",
     "output_type": "stream",
     "text": [
      "\r",
      "problem: v1+fc+n\tprotocol: byzantium_3\tdag_size_limit: 5\tsize: 186\ttime_spent: 0.13995047000207705\trss: 0.28466796875\tdone: True                      "
     ]
    },
    {
     "name": "stdout",
     "output_type": "stream",
     "text": [
      "\r",
      "problem: v1+fc+n\tprotocol: byzantium_3\tdag_size_limit: 6\tsize: 572\ttime_spent: 0.47365861300204415\trss: 0.28466796875\tdone: True                      "
     ]
    },
    {
     "name": "stdout",
     "output_type": "stream",
     "text": [
      "\r",
      "problem: v1+fc+n\tprotocol: byzantium_3\tdag_size_limit: 7\tsize: 1739\ttime_spent: 1.71615650899912\trss: 0.284423828125\tdone: True                      "
     ]
    },
    {
     "name": "stdout",
     "output_type": "stream",
     "text": [
      "\r",
      "problem: v1+fc+n\tprotocol: byzantium_3\tdag_size_limit: 8\tsize: 5354\ttime_spent: 6.075218177997158\trss: 0.281982421875\tdone: True                      "
     ]
    },
    {
     "name": "stdout",
     "output_type": "stream",
     "text": [
      "\r",
      "problem: v1+fc+n\tprotocol: byzantium_3\tdag_size_limit: 9\tsize: 16243\ttime_spent: 20.834824690995447\trss: 0.3519287109375\tdone: True                      "
     ]
    },
    {
     "name": "stdout",
     "output_type": "stream",
     "text": [
      "\r",
      "problem: v1+fc+n\tprotocol: byzantium_3\tdag_size_limit: 10\tsize: 48864\ttime_spent: 71.29616052299389\trss: 0.6939697265625\tdone: True                      "
     ]
    },
    {
     "name": "stdout",
     "output_type": "stream",
     "text": [
      "\r",
      "problem: v1+fc+n\tprotocol: byzantium_3\tdag_size_limit: 11\tsize: 100160\ttime_spent: 151.1678975620016\trss: 1.2548484802246094\tdone: False                      "
     ]
    },
    {
     "name": "stdout",
     "output_type": "stream",
     "text": [
      "\r",
      "problem: v1+fc+n\tprotocol: ghostdag_3\tdag_size_limit: 2\tsize: 5\ttime_spent: 0.002955285999632906\trss: 0.29569244384765625\tdone: True                      \r",
      "problem: v1+fc+n\tprotocol: ghostdag_3\tdag_size_limit: 3\tsize: 19\ttime_spent: 0.012921055000333581\trss: 0.28714752197265625\tdone: True                      \r",
      "problem: v1+fc+n\tprotocol: ghostdag_3\tdag_size_limit: 4\tsize: 57\ttime_spent: 0.04208982099953573\trss: 0.28568267822265625\tdone: True                      "
     ]
    },
    {
     "name": "stdout",
     "output_type": "stream",
     "text": [
      "\r",
      "problem: v1+fc+n\tprotocol: ghostdag_3\tdag_size_limit: 5\tsize: 184\ttime_spent: 0.1634420409973245\trss: 0.2842674255371094\tdone: True                      "
     ]
    },
    {
     "name": "stdout",
     "output_type": "stream",
     "text": [
      "\r",
      "problem: v1+fc+n\tprotocol: ghostdag_3\tdag_size_limit: 6\tsize: 604\ttime_spent: 0.6507210339987068\trss: 0.2840232849121094\tdone: True                      "
     ]
    },
    {
     "name": "stdout",
     "output_type": "stream",
     "text": [
      "\r",
      "problem: v1+fc+n\tprotocol: ghostdag_3\tdag_size_limit: 7\tsize: 2026\ttime_spent: 2.661539298002026\trss: 0.2837791442871094\tdone: True                      "
     ]
    },
    {
     "name": "stdout",
     "output_type": "stream",
     "text": [
      "\r",
      "problem: v1+fc+n\tprotocol: ghostdag_3\tdag_size_limit: 8\tsize: 6914\ttime_spent: 10.676796592000755\trss: 0.28290557861328125\tdone: True                      "
     ]
    },
    {
     "name": "stdout",
     "output_type": "stream",
     "text": [
      "\r",
      "problem: v1+fc+n\tprotocol: ghostdag_3\tdag_size_limit: 9\tsize: 23944\ttime_spent: 46.71004023900605\trss: 0.41767120361328125\tdone: True                      "
     ]
    },
    {
     "name": "stdout",
     "output_type": "stream",
     "text": [
      "\r",
      "problem: v1+fc+n\tprotocol: ghostdag_3\tdag_size_limit: 10\tsize: 83952\ttime_spent: 194.3667523680051\trss: 1.0453987121582031\tdone: True                      "
     ]
    },
    {
     "name": "stdout",
     "output_type": "stream",
     "text": [
      "\r",
      "problem: v1+fc+n\tprotocol: ghostdag_3\tdag_size_limit: 11\tsize: 100819\ttime_spent: 183.0814029989997\trss: 1.2086944580078125\tdone: False                      "
     ]
    },
    {
     "name": "stdout",
     "output_type": "stream",
     "text": [
      "\r",
      "problem: v1+fc+n\tprotocol: parallel_3\tdag_size_limit: 2\tsize: 41\ttime_spent: 0.02229524200083688\trss: 0.44327545166015625\tdone: True                      \r",
      "problem: v1+fc+n\tprotocol: parallel_3\tdag_size_limit: 3\tsize: 50\ttime_spent: 0.026401483002700843\trss: 0.31754302978515625\tdone: True                      "
     ]
    },
    {
     "name": "stdout",
     "output_type": "stream",
     "text": [
      "\r",
      "problem: v1+fc+n\tprotocol: parallel_3\tdag_size_limit: 4\tsize: 84\ttime_spent: 0.04583251000440214\trss: 0.31192779541015625\tdone: True                      \r",
      "problem: v1+fc+n\tprotocol: parallel_3\tdag_size_limit: 5\tsize: 191\ttime_spent: 0.12396674600313418\trss: 0.31119537353515625\tdone: True                      "
     ]
    },
    {
     "name": "stdout",
     "output_type": "stream",
     "text": [
      "\r",
      "problem: v1+fc+n\tprotocol: parallel_3\tdag_size_limit: 6\tsize: 462\ttime_spent: 0.3399698970024474\trss: 0.31070709228515625\tdone: True                      "
     ]
    },
    {
     "name": "stdout",
     "output_type": "stream",
     "text": [
      "\r",
      "problem: v1+fc+n\tprotocol: parallel_3\tdag_size_limit: 7\tsize: 1047\ttime_spent: 1.0234711390003213\trss: 0.31070709228515625\tdone: True                      "
     ]
    },
    {
     "name": "stdout",
     "output_type": "stream",
     "text": [
      "\r",
      "problem: v1+fc+n\tprotocol: parallel_3\tdag_size_limit: 8\tsize: 2320\ttime_spent: 2.5570078160017147\trss: 0.31070709228515625\tdone: True                      "
     ]
    },
    {
     "name": "stdout",
     "output_type": "stream",
     "text": [
      "\r",
      "problem: v1+fc+n\tprotocol: parallel_3\tdag_size_limit: 9\tsize: 4967\ttime_spent: 5.956580112004303\trss: 0.3056526184082031\tdone: True                      "
     ]
    },
    {
     "name": "stdout",
     "output_type": "stream",
     "text": [
      "\r",
      "problem: v1+fc+n\tprotocol: parallel_3\tdag_size_limit: 10\tsize: 10419\ttime_spent: 14.565637120998872\trss: 0.3046760559082031\tdone: True                      "
     ]
    },
    {
     "name": "stdout",
     "output_type": "stream",
     "text": [
      "\r",
      "problem: v1+fc+n\tprotocol: parallel_3\tdag_size_limit: 11\tsize: 22041\ttime_spent: 34.41364833199623\trss: 0.4299201965332031\tdone: True                      "
     ]
    },
    {
     "name": "stdout",
     "output_type": "stream",
     "text": [
      "\r",
      "problem: v1+fc+n\tprotocol: parallel_3\tdag_size_limit: 12\tsize: 48151\ttime_spent: 81.4718692259994\trss: 0.7415657043457031\tdone: True                      "
     ]
    },
    {
     "name": "stdout",
     "output_type": "stream",
     "text": [
      "\r",
      "problem: v1+fc+n\tprotocol: parallel_3\tdag_size_limit: 13\tsize: 100288\ttime_spent: 184.1548738499987\trss: 1.3998260498046875\tdone: False                      "
     ]
    },
    {
     "name": "stdout",
     "output_type": "stream",
     "text": [
      "\r",
      "problem: v0+fc+n\tprotocol: bitcoin\tdag_size_limit: 2\tsize: 12\ttime_spent: 0.0032053309987531975\trss: 0.29052734375\tdone: True                      \r",
      "problem: v0+fc+n\tprotocol: bitcoin\tdag_size_limit: 3\tsize: 41\ttime_spent: 0.013824444002239034\trss: 0.287109375\tdone: True                      \r",
      "problem: v0+fc+n\tprotocol: bitcoin\tdag_size_limit: 4\tsize: 104\ttime_spent: 0.04551498500222806\trss: 0.28662109375\tdone: True                      "
     ]
    },
    {
     "name": "stdout",
     "output_type": "stream",
     "text": [
      "\r",
      "problem: v0+fc+n\tprotocol: bitcoin\tdag_size_limit: 5\tsize: 248\ttime_spent: 0.12950258400087478\trss: 0.2858314514160156\tdone: True                      "
     ]
    },
    {
     "name": "stdout",
     "output_type": "stream",
     "text": [
      "\r",
      "problem: v0+fc+n\tprotocol: bitcoin\tdag_size_limit: 6\tsize: 501\ttime_spent: 0.3055230300014955\trss: 0.2858314514160156\tdone: True                      "
     ]
    },
    {
     "name": "stdout",
     "output_type": "stream",
     "text": [
      "\r",
      "problem: v0+fc+n\tprotocol: bitcoin\tdag_size_limit: 7\tsize: 951\ttime_spent: 0.6505225529981544\trss: 0.2858314514160156\tdone: True                      "
     ]
    },
    {
     "name": "stdout",
     "output_type": "stream",
     "text": [
      "\r",
      "problem: v0+fc+n\tprotocol: bitcoin\tdag_size_limit: 8\tsize: 1652\ttime_spent: 1.2588862669945229\trss: 0.2858314514160156\tdone: True                      "
     ]
    },
    {
     "name": "stdout",
     "output_type": "stream",
     "text": [
      "\r",
      "problem: v0+fc+n\tprotocol: bitcoin\tdag_size_limit: 9\tsize: 2744\ttime_spent: 2.387398751001456\trss: 0.2855873107910156\tdone: True                      "
     ]
    },
    {
     "name": "stdout",
     "output_type": "stream",
     "text": [
      "\r",
      "problem: v0+fc+n\tprotocol: bitcoin\tdag_size_limit: 10\tsize: 4315\ttime_spent: 4.152740992998588\trss: 0.2854576110839844\tdone: True                      "
     ]
    },
    {
     "name": "stdout",
     "output_type": "stream",
     "text": [
      "\r",
      "problem: v0+fc+n\tprotocol: bitcoin\tdag_size_limit: 11\tsize: 6569\ttime_spent: 6.508292908001749\trss: 0.2849693298339844\tdone: True                      "
     ]
    },
    {
     "name": "stdout",
     "output_type": "stream",
     "text": [
      "\r",
      "problem: v0+fc+n\tprotocol: bitcoin\tdag_size_limit: 12\tsize: 9636\ttime_spent: 10.816352734000247\trss: 0.2849693298339844\tdone: True                      "
     ]
    },
    {
     "name": "stdout",
     "output_type": "stream",
     "text": [
      "\r",
      "problem: v0+fc+n\tprotocol: bitcoin\tdag_size_limit: 13\tsize: 13796\ttime_spent: 16.1774750189943\trss: 0.2968101501464844\tdone: True                      "
     ]
    },
    {
     "name": "stdout",
     "output_type": "stream",
     "text": [
      "\r",
      "problem: v0+fc+n\tprotocol: bitcoin\tdag_size_limit: 14\tsize: 19229\ttime_spent: 24.13551925399952\trss: 0.29885101318359375\tdone: True                      "
     ]
    },
    {
     "name": "stdout",
     "output_type": "stream",
     "text": [
      "\r",
      "problem: v0+fc+n\tprotocol: bitcoin\tdag_size_limit: 15\tsize: 26303\ttime_spent: 35.02143287000217\trss: 0.3138580322265625\tdone: True                      "
     ]
    },
    {
     "name": "stdout",
     "output_type": "stream",
     "text": [
      "\r",
      "problem: v0+fc+n\tprotocol: bitcoin\tdag_size_limit: 16\tsize: 35256\ttime_spent: 49.0963826829975\trss: 0.3442535400390625\tdone: True                      "
     ]
    },
    {
     "name": "stdout",
     "output_type": "stream",
     "text": [
      "\r",
      "problem: v0+fc+n\tprotocol: bitcoin\tdag_size_limit: 17\tsize: 46556\ttime_spent: 68.9923705609981\trss: 0.36656951904296875\tdone: True                      "
     ]
    },
    {
     "name": "stdout",
     "output_type": "stream",
     "text": [
      "\r",
      "problem: v0+fc+n\tprotocol: bitcoin\tdag_size_limit: 18\tsize: 60507\ttime_spent: 93.88684665800247\trss: 0.42989349365234375\tdone: True                      "
     ]
    },
    {
     "name": "stdout",
     "output_type": "stream",
     "text": [
      "\r",
      "problem: v0+fc+n\tprotocol: bitcoin\tdag_size_limit: 19\tsize: 77689\ttime_spent: 126.47089662199869\trss: 0.509246826171875\tdone: True                      "
     ]
    },
    {
     "name": "stdout",
     "output_type": "stream",
     "text": [
      "\r",
      "problem: v0+fc+n\tprotocol: bitcoin\tdag_size_limit: 20\tsize: 98480\ttime_spent: 168.57832878300542\trss: 0.6118545532226562\tdone: True                      "
     ]
    },
    {
     "name": "stdout",
     "output_type": "stream",
     "text": [
      "\r",
      "problem: v0+fc+n\tprotocol: bitcoin\tdag_size_limit: 21\tsize: 100289\ttime_spent: 168.11763335699652\trss: 0.6255874633789062\tdone: False                      \r",
      "problem: v0\tprotocol: bitcoin\tdag_size_limit: 2\tsize: 18\ttime_spent: 0.003664136995212175\trss: 0.6241455078125\tdone: True                      "
     ]
    },
    {
     "name": "stdout",
     "output_type": "stream",
     "text": [
      "\r",
      "problem: v0\tprotocol: bitcoin\tdag_size_limit: 3\tsize: 175\ttime_spent: 0.04651686499710195\trss: 0.6241455078125\tdone: True                      "
     ]
    },
    {
     "name": "stdout",
     "output_type": "stream",
     "text": [
      "\r",
      "problem: v0\tprotocol: bitcoin\tdag_size_limit: 4\tsize: 1198\ttime_spent: 0.4769667950022267\trss: 0.6241455078125\tdone: True                      "
     ]
    },
    {
     "name": "stdout",
     "output_type": "stream",
     "text": [
      "\r",
      "problem: v0\tprotocol: bitcoin\tdag_size_limit: 5\tsize: 7296\ttime_spent: 3.975011568996706\trss: 0.6241455078125\tdone: True                      "
     ]
    },
    {
     "name": "stdout",
     "output_type": "stream",
     "text": [
      "\r",
      "problem: v0\tprotocol: bitcoin\tdag_size_limit: 6\tsize: 42041\ttime_spent: 30.546988691996376\trss: 0.6241455078125\tdone: True                      "
     ]
    },
    {
     "name": "stdout",
     "output_type": "stream",
     "text": [
      "\r",
      "problem: v0\tprotocol: bitcoin\tdag_size_limit: 7\tsize: 101241\ttime_spent: 65.36862922699947\trss: 0.6263427734375\tdone: False                      "
     ]
    }
   ],
   "source": [
    "for idx, row in models.iterrows():\n",
    "    dag_size_limit = 1\n",
    "    while True:\n",
    "        dag_size_limit += 1\n",
    "\n",
    "        if row[\"problem\"].startswith(\"ref\") and dag_size_limit >= 16:\n",
    "            break\n",
    "\n",
    "        done = explore_row_limit(idx, row, dag_size_limit)\n",
    "        if not done:\n",
    "            break"
   ]
  },
  {
   "cell_type": "code",
   "execution_count": 7,
   "id": "90ccf18c-5299-4f6c-9147-863133d4118a",
   "metadata": {},
   "outputs": [],
   "source": [
    "size_log = pandas.DataFrame(size_log)\n",
    "aborts = pandas.DataFrame(aborts)\n",
    "\n",
    "size_log.to_pickle(\"5-generated-mdps/success.pkl.gz\")\n",
    "aborts.to_pickle(\"5-generated-mdps/fail.pkl.gz\")"
   ]
  },
  {
   "cell_type": "code",
   "execution_count": 8,
   "id": "a5c7e143-a87b-46c3-9bb1-9939e860d968",
   "metadata": {},
   "outputs": [
    {
     "data": {
      "text/plain": [
       "<seaborn.axisgrid.FacetGrid at 0x7f9e91af96d0>"
      ]
     },
     "execution_count": 8,
     "metadata": {},
     "output_type": "execute_result"
    },
    {
     "data": {
      "image/png": "[encoded data removed]",
      "text/plain": [
       "<Figure size 1611.75x1000 with 5 Axes>"
      ]
     },
     "metadata": {},
     "output_type": "display_data"
    }
   ],
   "source": [
    "seaborn.relplot(\n",
    "    data=size_log.query(\"dag_size_limit < 10\"),\n",
    "    kind=\"line\",\n",
    "    x=\"dag_size_limit\",\n",
    "    y=\"size\",\n",
    "    hue=\"problem\",\n",
    "    style=\"problem\",\n",
    "    markers=True,\n",
    "    col=\"protocol\",\n",
    "    col_wrap=3,\n",
    ").set(yscale=\"log\")"
   ]
  }
 ],
 "metadata": {
  "kernelspec": {
   "display_name": "Python 3 (ipykernel)",
   "language": "python",
   "name": "python3"
  },
  "language_info": {
   "codemirror_mode": {
    "name": "ipython",
    "version": 3
   },
   "file_extension": ".py",
   "mimetype": "text/x-python",
   "name": "python",
   "nbconvert_exporter": "python",
   "pygments_lexer": "ipython3",
   "version": "3.9.21"
  }
 },
 "nbformat": 4,
 "nbformat_minor": 5
}
