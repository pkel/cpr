{
 "cells": [
  {
   "cell_type": "code",
   "execution_count": 1,
   "id": "829da242-e613-4808-841e-9921993ca24e",
   "metadata": {
    "execution": {
     "iopub.execute_input": "2025-06-15T14:00:46.836434Z",
     "iopub.status.busy": "2025-06-15T14:00:46.836240Z",
     "iopub.status.idle": "2025-06-15T14:00:47.699088Z",
     "shell.execute_reply": "2025-06-15T14:00:47.698613Z"
    }
   },
   "outputs": [],
   "source": [
    "import pandas\n",
    "import seaborn\n",
    "import time\n",
    "\n",
    "from lib.compiler import Compiler\n",
    "from lib.models.generic_v0.model import mappable_params\n",
    "\n",
    "from lib.models.aft20barzur import BitcoinSM as AFT20BarZur\n",
    "from lib.models.fc16sapirshtein import BitcoinSM as FC16Sapirshtein\n",
    "\n",
    "from lib.models.generic_v1 import protocols as g1\n",
    "from lib.models.generic_v1.model import SingleAgent as G1Model\n",
    "\n",
    "from lib.models.generic_v0.bitcoin import Bitcoin as G0Bitcoin\n",
    "from lib.models.generic_v0.model import SelfishMining as G0Model"
   ]
  },
  {
   "cell_type": "code",
   "execution_count": 2,
   "id": "09c0bd5a-eca0-4a38-9caf-b99660c8bef0",
   "metadata": {
    "execution": {
     "iopub.execute_input": "2025-06-15T14:00:47.701742Z",
     "iopub.status.busy": "2025-06-15T14:00:47.701498Z",
     "iopub.status.idle": "2025-06-15T14:00:47.719504Z",
     "shell.execute_reply": "2025-06-15T14:00:47.719169Z"
    }
   },
   "outputs": [
    {
     "data": {
      "text/html": [
       "<div>\n",
       "<style scoped>\n",
       "    .dataframe tbody tr th:only-of-type {\n",
       "        vertical-align: middle;\n",
       "    }\n",
       "\n",
       "    .dataframe tbody tr th {\n",
       "        vertical-align: top;\n",
       "    }\n",
       "\n",
       "    .dataframe thead th {\n",
       "        text-align: right;\n",
       "    }\n",
       "</style>\n",
       "<table border=\"1\" class=\"dataframe\">\n",
       "  <thead>\n",
       "    <tr style=\"text-align: right;\">\n",
       "      <th></th>\n",
       "      <th>problem</th>\n",
       "      <th>model</th>\n",
       "      <th>force_consider_own</th>\n",
       "      <th>merge_isomorphic</th>\n",
       "      <th>truncate_common_chain</th>\n",
       "      <th>collect_garbage</th>\n",
       "      <th>reward_common_chain</th>\n",
       "      <th>protocol</th>\n",
       "    </tr>\n",
       "  </thead>\n",
       "  <tbody>\n",
       "    <tr>\n",
       "      <th>0</th>\n",
       "      <td>ref-fc16</td>\n",
       "      <td>fc16sapirshtein</td>\n",
       "      <td>True</td>\n",
       "      <td>True</td>\n",
       "      <td>True</td>\n",
       "      <td>True</td>\n",
       "      <td>True</td>\n",
       "      <td>bitcoin</td>\n",
       "    </tr>\n",
       "    <tr>\n",
       "      <th>1</th>\n",
       "      <td>ref-aft20</td>\n",
       "      <td>aft20barzur</td>\n",
       "      <td>True</td>\n",
       "      <td>True</td>\n",
       "      <td>True</td>\n",
       "      <td>True</td>\n",
       "      <td>True</td>\n",
       "      <td>bitcoin</td>\n",
       "    </tr>\n",
       "    <tr>\n",
       "      <th>2</th>\n",
       "      <td>v1</td>\n",
       "      <td>generic-v1</td>\n",
       "      <td>False</td>\n",
       "      <td>False</td>\n",
       "      <td>True</td>\n",
       "      <td>True</td>\n",
       "      <td>True</td>\n",
       "      <td>bitcoin</td>\n",
       "    </tr>\n",
       "    <tr>\n",
       "      <th>3</th>\n",
       "      <td>v1</td>\n",
       "      <td>generic-v1</td>\n",
       "      <td>False</td>\n",
       "      <td>False</td>\n",
       "      <td>True</td>\n",
       "      <td>True</td>\n",
       "      <td>True</td>\n",
       "      <td>ethereum_3</td>\n",
       "    </tr>\n",
       "    <tr>\n",
       "      <th>4</th>\n",
       "      <td>v1</td>\n",
       "      <td>generic-v1</td>\n",
       "      <td>False</td>\n",
       "      <td>False</td>\n",
       "      <td>True</td>\n",
       "      <td>True</td>\n",
       "      <td>True</td>\n",
       "      <td>byzantium_3</td>\n",
       "    </tr>\n",
       "    <tr>\n",
       "      <th>5</th>\n",
       "      <td>v1</td>\n",
       "      <td>generic-v1</td>\n",
       "      <td>False</td>\n",
       "      <td>False</td>\n",
       "      <td>True</td>\n",
       "      <td>True</td>\n",
       "      <td>True</td>\n",
       "      <td>ghostdag_3</td>\n",
       "    </tr>\n",
       "    <tr>\n",
       "      <th>6</th>\n",
       "      <td>v1</td>\n",
       "      <td>generic-v1</td>\n",
       "      <td>False</td>\n",
       "      <td>False</td>\n",
       "      <td>True</td>\n",
       "      <td>True</td>\n",
       "      <td>True</td>\n",
       "      <td>parallel_3</td>\n",
       "    </tr>\n",
       "    <tr>\n",
       "      <th>7</th>\n",
       "      <td>v1+fc</td>\n",
       "      <td>generic-v1</td>\n",
       "      <td>True</td>\n",
       "      <td>False</td>\n",
       "      <td>True</td>\n",
       "      <td>True</td>\n",
       "      <td>True</td>\n",
       "      <td>bitcoin</td>\n",
       "    </tr>\n",
       "    <tr>\n",
       "      <th>8</th>\n",
       "      <td>v1+fc</td>\n",
       "      <td>generic-v1</td>\n",
       "      <td>True</td>\n",
       "      <td>False</td>\n",
       "      <td>True</td>\n",
       "      <td>True</td>\n",
       "      <td>True</td>\n",
       "      <td>ethereum_3</td>\n",
       "    </tr>\n",
       "    <tr>\n",
       "      <th>9</th>\n",
       "      <td>v1+fc</td>\n",
       "      <td>generic-v1</td>\n",
       "      <td>True</td>\n",
       "      <td>False</td>\n",
       "      <td>True</td>\n",
       "      <td>True</td>\n",
       "      <td>True</td>\n",
       "      <td>byzantium_3</td>\n",
       "    </tr>\n",
       "    <tr>\n",
       "      <th>10</th>\n",
       "      <td>v1+fc</td>\n",
       "      <td>generic-v1</td>\n",
       "      <td>True</td>\n",
       "      <td>False</td>\n",
       "      <td>True</td>\n",
       "      <td>True</td>\n",
       "      <td>True</td>\n",
       "      <td>ghostdag_3</td>\n",
       "    </tr>\n",
       "    <tr>\n",
       "      <th>11</th>\n",
       "      <td>v1+fc</td>\n",
       "      <td>generic-v1</td>\n",
       "      <td>True</td>\n",
       "      <td>False</td>\n",
       "      <td>True</td>\n",
       "      <td>True</td>\n",
       "      <td>True</td>\n",
       "      <td>parallel_3</td>\n",
       "    </tr>\n",
       "    <tr>\n",
       "      <th>12</th>\n",
       "      <td>v1+n</td>\n",
       "      <td>generic-v1</td>\n",
       "      <td>False</td>\n",
       "      <td>True</td>\n",
       "      <td>True</td>\n",
       "      <td>True</td>\n",
       "      <td>True</td>\n",
       "      <td>bitcoin</td>\n",
       "    </tr>\n",
       "    <tr>\n",
       "      <th>13</th>\n",
       "      <td>v1+n</td>\n",
       "      <td>generic-v1</td>\n",
       "      <td>False</td>\n",
       "      <td>True</td>\n",
       "      <td>True</td>\n",
       "      <td>True</td>\n",
       "      <td>True</td>\n",
       "      <td>ethereum_3</td>\n",
       "    </tr>\n",
       "    <tr>\n",
       "      <th>14</th>\n",
       "      <td>v1+n</td>\n",
       "      <td>generic-v1</td>\n",
       "      <td>False</td>\n",
       "      <td>True</td>\n",
       "      <td>True</td>\n",
       "      <td>True</td>\n",
       "      <td>True</td>\n",
       "      <td>byzantium_3</td>\n",
       "    </tr>\n",
       "    <tr>\n",
       "      <th>15</th>\n",
       "      <td>v1+n</td>\n",
       "      <td>generic-v1</td>\n",
       "      <td>False</td>\n",
       "      <td>True</td>\n",
       "      <td>True</td>\n",
       "      <td>True</td>\n",
       "      <td>True</td>\n",
       "      <td>ghostdag_3</td>\n",
       "    </tr>\n",
       "    <tr>\n",
       "      <th>16</th>\n",
       "      <td>v1+n</td>\n",
       "      <td>generic-v1</td>\n",
       "      <td>False</td>\n",
       "      <td>True</td>\n",
       "      <td>True</td>\n",
       "      <td>True</td>\n",
       "      <td>True</td>\n",
       "      <td>parallel_3</td>\n",
       "    </tr>\n",
       "    <tr>\n",
       "      <th>17</th>\n",
       "      <td>v1+fc+n</td>\n",
       "      <td>generic-v1</td>\n",
       "      <td>True</td>\n",
       "      <td>True</td>\n",
       "      <td>True</td>\n",
       "      <td>True</td>\n",
       "      <td>True</td>\n",
       "      <td>bitcoin</td>\n",
       "    </tr>\n",
       "    <tr>\n",
       "      <th>18</th>\n",
       "      <td>v1+fc+n</td>\n",
       "      <td>generic-v1</td>\n",
       "      <td>True</td>\n",
       "      <td>True</td>\n",
       "      <td>True</td>\n",
       "      <td>True</td>\n",
       "      <td>True</td>\n",
       "      <td>ethereum_3</td>\n",
       "    </tr>\n",
       "    <tr>\n",
       "      <th>19</th>\n",
       "      <td>v1+fc+n</td>\n",
       "      <td>generic-v1</td>\n",
       "      <td>True</td>\n",
       "      <td>True</td>\n",
       "      <td>True</td>\n",
       "      <td>True</td>\n",
       "      <td>True</td>\n",
       "      <td>byzantium_3</td>\n",
       "    </tr>\n",
       "    <tr>\n",
       "      <th>20</th>\n",
       "      <td>v1+fc+n</td>\n",
       "      <td>generic-v1</td>\n",
       "      <td>True</td>\n",
       "      <td>True</td>\n",
       "      <td>True</td>\n",
       "      <td>True</td>\n",
       "      <td>True</td>\n",
       "      <td>ghostdag_3</td>\n",
       "    </tr>\n",
       "    <tr>\n",
       "      <th>21</th>\n",
       "      <td>v1+fc+n</td>\n",
       "      <td>generic-v1</td>\n",
       "      <td>True</td>\n",
       "      <td>True</td>\n",
       "      <td>True</td>\n",
       "      <td>True</td>\n",
       "      <td>True</td>\n",
       "      <td>parallel_3</td>\n",
       "    </tr>\n",
       "    <tr>\n",
       "      <th>22</th>\n",
       "      <td>v0+fc+n</td>\n",
       "      <td>generic-v0</td>\n",
       "      <td>True</td>\n",
       "      <td>True</td>\n",
       "      <td>True</td>\n",
       "      <td>True</td>\n",
       "      <td>True</td>\n",
       "      <td>bitcoin</td>\n",
       "    </tr>\n",
       "    <tr>\n",
       "      <th>23</th>\n",
       "      <td>v0</td>\n",
       "      <td>generic-v0</td>\n",
       "      <td>False</td>\n",
       "      <td>False</td>\n",
       "      <td>True</td>\n",
       "      <td>True</td>\n",
       "      <td>True</td>\n",
       "      <td>bitcoin</td>\n",
       "    </tr>\n",
       "  </tbody>\n",
       "</table>\n",
       "</div>"
      ],
      "text/plain": [
       "      problem            model  force_consider_own  merge_isomorphic  \\\n",
       "0    ref-fc16  fc16sapirshtein                True              True   \n",
       "1   ref-aft20      aft20barzur                True              True   \n",
       "2          v1       generic-v1               False             False   \n",
       "3          v1       generic-v1               False             False   \n",
       "4          v1       generic-v1               False             False   \n",
       "5          v1       generic-v1               False             False   \n",
       "6          v1       generic-v1               False             False   \n",
       "7       v1+fc       generic-v1                True             False   \n",
       "8       v1+fc       generic-v1                True             False   \n",
       "9       v1+fc       generic-v1                True             False   \n",
       "10      v1+fc       generic-v1                True             False   \n",
       "11      v1+fc       generic-v1                True             False   \n",
       "12       v1+n       generic-v1               False              True   \n",
       "13       v1+n       generic-v1               False              True   \n",
       "14       v1+n       generic-v1               False              True   \n",
       "15       v1+n       generic-v1               False              True   \n",
       "16       v1+n       generic-v1               False              True   \n",
       "17    v1+fc+n       generic-v1                True              True   \n",
       "18    v1+fc+n       generic-v1                True              True   \n",
       "19    v1+fc+n       generic-v1                True              True   \n",
       "20    v1+fc+n       generic-v1                True              True   \n",
       "21    v1+fc+n       generic-v1                True              True   \n",
       "22    v0+fc+n       generic-v0                True              True   \n",
       "23         v0       generic-v0               False             False   \n",
       "\n",
       "    truncate_common_chain  collect_garbage  reward_common_chain     protocol  \n",
       "0                    True             True                 True      bitcoin  \n",
       "1                    True             True                 True      bitcoin  \n",
       "2                    True             True                 True      bitcoin  \n",
       "3                    True             True                 True   ethereum_3  \n",
       "4                    True             True                 True  byzantium_3  \n",
       "5                    True             True                 True   ghostdag_3  \n",
       "6                    True             True                 True   parallel_3  \n",
       "7                    True             True                 True      bitcoin  \n",
       "8                    True             True                 True   ethereum_3  \n",
       "9                    True             True                 True  byzantium_3  \n",
       "10                   True             True                 True   ghostdag_3  \n",
       "11                   True             True                 True   parallel_3  \n",
       "12                   True             True                 True      bitcoin  \n",
       "13                   True             True                 True   ethereum_3  \n",
       "14                   True             True                 True  byzantium_3  \n",
       "15                   True             True                 True   ghostdag_3  \n",
       "16                   True             True                 True   parallel_3  \n",
       "17                   True             True                 True      bitcoin  \n",
       "18                   True             True                 True   ethereum_3  \n",
       "19                   True             True                 True  byzantium_3  \n",
       "20                   True             True                 True   ghostdag_3  \n",
       "21                   True             True                 True   parallel_3  \n",
       "22                   True             True                 True      bitcoin  \n",
       "23                   True             True                 True      bitcoin  "
      ]
     },
     "execution_count": 2,
     "metadata": {},
     "output_type": "execute_result"
    }
   ],
   "source": [
    "network = mappable_params\n",
    "\n",
    "models = []\n",
    "implicit_mdps = []\n",
    "\n",
    "\n",
    "def add_model(*, implicit_mdp, **model):\n",
    "    models.append(model)\n",
    "    implicit_mdps.append(implicit_mdp)\n",
    "\n",
    "\n",
    "add_model(\n",
    "    problem=\"ref-fc16\",\n",
    "    model=\"fc16sapirshtein\",\n",
    "    force_consider_own=True,\n",
    "    merge_isomorphic=True,\n",
    "    truncate_common_chain=True,\n",
    "    collect_garbage=True,\n",
    "    reward_common_chain=True,\n",
    "    protocol=\"bitcoin\",\n",
    "    implicit_mdp=lambda c: FC16Sapirshtein(\n",
    "        **network,\n",
    "        maximum_dag_size=c,\n",
    "        maximum_fork_length=0,\n",
    "    ),\n",
    ")\n",
    "\n",
    "add_model(\n",
    "    problem=\"ref-aft20\",\n",
    "    model=\"aft20barzur\",\n",
    "    force_consider_own=True,\n",
    "    merge_isomorphic=True,\n",
    "    truncate_common_chain=True,\n",
    "    collect_garbage=True,\n",
    "    reward_common_chain=True,\n",
    "    protocol=\"bitcoin\",\n",
    "    implicit_mdp=lambda c: AFT20BarZur(\n",
    "        **network, maximum_dag_size=c, maximum_fork_length=0\n",
    "    ),\n",
    ")\n",
    "\n",
    "\n",
    "# our baseline: garbage collection + common chain truncation\n",
    "# we want to compare to:\n",
    "# - no common chain truncation (all infinite)\n",
    "# - no garbage collection (infinite for protocols that allow stale blocks)\n",
    "# - plus force-consider-own\n",
    "# - plus merge-isomorphic\n",
    "# - plus both\n",
    "\n",
    "\n",
    "def add_problem(\n",
    "    problem,\n",
    "    *,\n",
    "    collect_garbage=True,\n",
    "    truncate_common_chain=True,\n",
    "    force_consider_own=False,\n",
    "    merge_isomorphic=False,\n",
    "):\n",
    "    def f(protocol_s, protocol_C, **protocol_args):\n",
    "        model_args = dict(\n",
    "            force_consider_own=force_consider_own,\n",
    "            merge_isomorphic=merge_isomorphic,\n",
    "            truncate_common_chain=truncate_common_chain,\n",
    "            collect_garbage=collect_garbage,\n",
    "            reward_common_chain=True,\n",
    "        )\n",
    "        add_model(\n",
    "            problem=problem,\n",
    "            model=\"generic-v1\",\n",
    "            protocol=protocol_s,\n",
    "            **model_args,\n",
    "            implicit_mdp=lambda c: G1Model(\n",
    "                protocol_C,\n",
    "                **protocol_args,\n",
    "                **network,\n",
    "                **model_args,\n",
    "                dag_size_cutoff=c,\n",
    "            ),\n",
    "        )\n",
    "\n",
    "    f(\"bitcoin\", g1.Bitcoin)\n",
    "    f(\"ethereum_3\", g1.Ethereum, h=3)\n",
    "    f(\"byzantium_3\", g1.Byzantium, h=3)\n",
    "    f(\"ghostdag_3\", g1.Ghostdag, k=3)\n",
    "    f(\"parallel_3\", g1.Parallel, k=3)\n",
    "\n",
    "\n",
    "add_problem(\"v1\")\n",
    "# add_problem(\"v1-gc\", collect_garbage=False)\n",
    "# add_problem(\"v1-tc\", truncate_common_chain=False)\n",
    "add_problem(\"v1+fc\", force_consider_own=True)\n",
    "add_problem(\"v1+n\", merge_isomorphic=True)\n",
    "add_problem(\"v1+fc+n\", force_consider_own=True, merge_isomorphic=True)\n",
    "\n",
    "\n",
    "add_model(\n",
    "    problem=\"v0+fc+n\",\n",
    "    model=\"generic-v0\",\n",
    "    force_consider_own=True,\n",
    "    merge_isomorphic=True,\n",
    "    truncate_common_chain=True,\n",
    "    collect_garbage=True,\n",
    "    reward_common_chain=True,\n",
    "    protocol=\"bitcoin\",\n",
    "    implicit_mdp=lambda c: G0Model(\n",
    "        G0Bitcoin(),\n",
    "        **network,\n",
    "        maximum_size=c,\n",
    "        force_consider_own=True,\n",
    "        merge_isomorphic=True,\n",
    "    ),\n",
    ")\n",
    "\n",
    "add_model(\n",
    "    problem=\"v0\",\n",
    "    model=\"generic-v0\",\n",
    "    force_consider_own=False,\n",
    "    merge_isomorphic=False,\n",
    "    truncate_common_chain=True,\n",
    "    collect_garbage=True,\n",
    "    reward_common_chain=True,\n",
    "    protocol=\"bitcoin\",\n",
    "    implicit_mdp=lambda c: G0Model(\n",
    "        G0Bitcoin(),\n",
    "        **network,\n",
    "        maximum_size=c,\n",
    "        force_consider_own=False,\n",
    "        merge_isomorphic=False,\n",
    "    ),\n",
    ")\n",
    "\n",
    "models = pandas.DataFrame(models)\n",
    "models"
   ]
  },
  {
   "cell_type": "code",
   "execution_count": 3,
   "id": "0eefcfab-91a2-4db9-b1fa-202fed55f287",
   "metadata": {
    "execution": {
     "iopub.execute_input": "2025-06-15T14:00:47.721250Z",
     "iopub.status.busy": "2025-06-15T14:00:47.721112Z",
     "iopub.status.idle": "2025-06-15T14:00:47.838873Z",
     "shell.execute_reply": "2025-06-15T14:00:47.837969Z"
    }
   },
   "outputs": [],
   "source": [
    "!mkdir -p 5-generated-mdps"
   ]
  },
  {
   "cell_type": "code",
   "execution_count": 4,
   "id": "800a7726-5461-416d-a07b-1b718a70a472",
   "metadata": {
    "execution": {
     "iopub.execute_input": "2025-06-15T14:00:47.842440Z",
     "iopub.status.busy": "2025-06-15T14:00:47.842200Z",
     "iopub.status.idle": "2025-06-15T14:00:47.852101Z",
     "shell.execute_reply": "2025-06-15T14:00:47.851374Z"
    }
   },
   "outputs": [],
   "source": [
    "from IPython.display import display, clear_output\n",
    "import gc\n",
    "import psutil\n",
    "import pickle\n",
    "import gzip\n",
    "\n",
    "max_size = 100000\n",
    "max_size = 5000\n",
    "aborts = []\n",
    "size_log = []\n",
    "\n",
    "\n",
    "def get_rss():\n",
    "    gc.collect()\n",
    "    return psutil.Process().memory_info().rss / 1024**3  # GiB\n",
    "\n",
    "\n",
    "def explore(m):\n",
    "    c = Compiler(m)\n",
    "    while not_done := c.explore(steps=1000):\n",
    "        if c.n_states > max_size:\n",
    "            break\n",
    "    done = not not_done\n",
    "    return (done, c)\n",
    "\n",
    "\n",
    "def _explore_row_limit(idx, row, dag_size_limit):\n",
    "    m = implicit_mdps[idx](dag_size_limit)\n",
    "    start_time = time.monotonic()\n",
    "    done, c = explore(m)\n",
    "\n",
    "    info = row.to_dict() | dict(\n",
    "        dag_size_limit=dag_size_limit,\n",
    "        size=c.n_states,\n",
    "        time_spent=time.monotonic() - start_time,\n",
    "        rss=get_rss(),\n",
    "    )\n",
    "\n",
    "    # report to stdout\n",
    "    print(\n",
    "        \"\\r\"\n",
    "        + \"\\t\".join(\n",
    "            [\n",
    "                f\"{k}: {info[k]}\"\n",
    "                for k in [\n",
    "                    \"problem\",\n",
    "                    \"protocol\",\n",
    "                    \"dag_size_limit\",\n",
    "                    \"size\",\n",
    "                    \"time_spent\",\n",
    "                    \"rss\",\n",
    "                ]\n",
    "            ]\n",
    "            + [f\"done: {done}                      \"]\n",
    "        ),\n",
    "        end=\"\",\n",
    "    )\n",
    "\n",
    "    if not done:\n",
    "        aborts.append(info)\n",
    "    else:\n",
    "        mdp_key = format(abs(hash(frozenset(info.items()))), \"08x\")[0:8]\n",
    "        size_log.append(info | dict(mdp=mdp_key))\n",
    "        with gzip.open(f\"5-generated-mdps/mdp-{mdp_key}.pkl.gz\", \"wb\") as f:\n",
    "            pickle.dump(c.mdp(finish_exploration=False), f)\n",
    "\n",
    "    return done\n",
    "\n",
    "\n",
    "memo = dict()\n",
    "\n",
    "\n",
    "def explore_row_limit(idx, row, dag_size_limit):\n",
    "    key = (idx, dag_size_limit)\n",
    "    if key not in memo:\n",
    "        memo[key] = _explore_row_limit(idx, row, dag_size_limit)\n",
    "    return memo[key]"
   ]
  },
  {
   "cell_type": "code",
   "execution_count": 5,
   "id": "b77197c4-605b-4704-a218-33aac444120a",
   "metadata": {
    "execution": {
     "iopub.execute_input": "2025-06-15T14:00:47.854557Z",
     "iopub.status.busy": "2025-06-15T14:00:47.854391Z",
     "iopub.status.idle": "2025-06-15T14:05:16.479753Z",
     "shell.execute_reply": "2025-06-15T14:05:16.479268Z"
    }
   },
   "outputs": [
    {
     "name": "stdout",
     "output_type": "stream",
     "text": [
      "\r",
      "problem: ref-fc16\tprotocol: bitcoin\tdag_size_limit: 2\tsize: 3\ttime_spent: 0.00024906899852794595\trss: 0.17316818237304688\tdone: True                      "
     ]
    },
    {
     "name": "stdout",
     "output_type": "stream",
     "text": [
      "\r",
      "problem: ref-fc16\tprotocol: bitcoin\tdag_size_limit: 4\tsize: 18\ttime_spent: 0.001028203001624206\trss: 0.17329025268554688\tdone: True                      \r",
      "problem: ref-fc16\tprotocol: bitcoin\tdag_size_limit: 8\tsize: 90\ttime_spent: 0.0034076060001098085\trss: 0.17329025268554688\tdone: True                      \r",
      "problem: ref-fc16\tprotocol: bitcoin\tdag_size_limit: 16\tsize: 402\ttime_spent: 0.01366906899784226\trss: 0.17377853393554688\tdone: True                      "
     ]
    },
    {
     "name": "stdout",
     "output_type": "stream",
     "text": [
      "\r",
      "problem: ref-fc16\tprotocol: bitcoin\tdag_size_limit: 32\tsize: 1698\ttime_spent: 0.06016172999807168\trss: 0.17646408081054688\tdone: True                      "
     ]
    },
    {
     "name": "stdout",
     "output_type": "stream",
     "text": [
      "\r",
      "problem: ref-fc16\tprotocol: bitcoin\tdag_size_limit: 64\tsize: 5062\ttime_spent: 0.17959823199998937\trss: 0.181854248046875\tdone: False                      \r",
      "problem: ref-fc16\tprotocol: bitcoin\tdag_size_limit: 48\tsize: 3890\ttime_spent: 0.1373595499971998\trss: 0.17997360229492188\tdone: True                      "
     ]
    },
    {
     "name": "stdout",
     "output_type": "stream",
     "text": [
      "\r",
      "problem: ref-fc16\tprotocol: bitcoin\tdag_size_limit: 56\tsize: 5026\ttime_spent: 0.17466536800202448\trss: 0.18351364135742188\tdone: False                      "
     ]
    },
    {
     "name": "stdout",
     "output_type": "stream",
     "text": [
      "\r",
      "problem: ref-fc16\tprotocol: bitcoin\tdag_size_limit: 52\tsize: 4578\ttime_spent: 0.15806874400004745\trss: 0.183502197265625\tdone: True                      "
     ]
    },
    {
     "name": "stdout",
     "output_type": "stream",
     "text": [
      "\r",
      "problem: ref-fc16\tprotocol: bitcoin\tdag_size_limit: 54\tsize: 4943\ttime_spent: 0.17428032499810797\trss: 0.18349456787109375\tdone: True                      "
     ]
    },
    {
     "name": "stdout",
     "output_type": "stream",
     "text": [
      "\r",
      "problem: ref-fc16\tprotocol: bitcoin\tdag_size_limit: 55\tsize: 5015\ttime_spent: 0.17478770800153143\trss: 0.18398284912109375\tdone: False                      \r",
      "problem: ref-aft20\tprotocol: bitcoin\tdag_size_limit: 2\tsize: 3\ttime_spent: 0.0001480879982409533\trss: 0.18237686157226562\tdone: True                      \r",
      "problem: ref-aft20\tprotocol: bitcoin\tdag_size_limit: 4\tsize: 15\ttime_spent: 0.00038911099909455515\trss: 0.18237686157226562\tdone: True                      \r",
      "problem: ref-aft20\tprotocol: bitcoin\tdag_size_limit: 8\tsize: 69\ttime_spent: 0.0017000360021484084\trss: 0.18237686157226562\tdone: True                      \r",
      "problem: ref-aft20\tprotocol: bitcoin\tdag_size_limit: 16\tsize: 297\ttime_spent: 0.00739658599923132\trss: 0.18213272094726562\tdone: True                      "
     ]
    },
    {
     "name": "stdout",
     "output_type": "stream",
     "text": [
      "\r",
      "problem: ref-aft20\tprotocol: bitcoin\tdag_size_limit: 32\tsize: 1233\ttime_spent: 0.03125706599894329\trss: 0.18164443969726562\tdone: True                      \r",
      "problem: ref-aft20\tprotocol: bitcoin\tdag_size_limit: 64\tsize: 5025\ttime_spent: 0.13046451599802822\trss: 0.18237686157226562\tdone: False                      "
     ]
    },
    {
     "name": "stdout",
     "output_type": "stream",
     "text": [
      "\r",
      "problem: ref-aft20\tprotocol: bitcoin\tdag_size_limit: 48\tsize: 2809\ttime_spent: 0.07271819800007506\trss: 0.18219375610351562\tdone: True                      \r",
      "problem: ref-aft20\tprotocol: bitcoin\tdag_size_limit: 56\tsize: 3837\ttime_spent: 0.09851374599747942\trss: 0.18219375610351562\tdone: True                      "
     ]
    },
    {
     "name": "stdout",
     "output_type": "stream",
     "text": [
      "\r",
      "problem: ref-aft20\tprotocol: bitcoin\tdag_size_limit: 60\tsize: 4411\ttime_spent: 0.11380846099928021\trss: 0.18219375610351562\tdone: True                      "
     ]
    },
    {
     "name": "stdout",
     "output_type": "stream",
     "text": [
      "\r",
      "problem: ref-aft20\tprotocol: bitcoin\tdag_size_limit: 62\tsize: 4713\ttime_spent: 0.12156283999865991\trss: 0.18219375610351562\tdone: True                      "
     ]
    },
    {
     "name": "stdout",
     "output_type": "stream",
     "text": [
      "\r",
      "problem: ref-aft20\tprotocol: bitcoin\tdag_size_limit: 63\tsize: 4868\ttime_spent: 0.12448120699991705\trss: 0.18219375610351562\tdone: True                      \r",
      "problem: v1\tprotocol: bitcoin\tdag_size_limit: 2\tsize: 6\ttime_spent: 0.0020354659973236267\trss: 0.18219375610351562\tdone: True                      "
     ]
    },
    {
     "name": "stdout",
     "output_type": "stream",
     "text": [
      "\r",
      "problem: v1\tprotocol: bitcoin\tdag_size_limit: 4\tsize: 267\ttime_spent: 0.08192178099852754\trss: 0.18219375610351562\tdone: True                      "
     ]
    },
    {
     "name": "stdout",
     "output_type": "stream",
     "text": [
      "\r",
      "problem: v1\tprotocol: bitcoin\tdag_size_limit: 8\tsize: 7369\ttime_spent: 2.632267712000612\trss: 0.23065567016601562\tdone: False                      "
     ]
    },
    {
     "name": "stdout",
     "output_type": "stream",
     "text": [
      "\r",
      "problem: v1\tprotocol: bitcoin\tdag_size_limit: 6\tsize: 5364\ttime_spent: 2.130577814998105\trss: 0.23981094360351562\tdone: False                      "
     ]
    },
    {
     "name": "stdout",
     "output_type": "stream",
     "text": [
      "\r",
      "problem: v1\tprotocol: bitcoin\tdag_size_limit: 5\tsize: 2332\ttime_spent: 1.2268279980016814\trss: 0.23859024047851562\tdone: True                      \r",
      "problem: v1\tprotocol: ethereum_3\tdag_size_limit: 2\tsize: 6\ttime_spent: 0.0022669219979434274\trss: 0.20465469360351562\tdone: True                      "
     ]
    },
    {
     "name": "stdout",
     "output_type": "stream",
     "text": [
      "\r",
      "problem: v1\tprotocol: ethereum_3\tdag_size_limit: 4\tsize: 327\ttime_spent: 0.12119424699994852\trss: 0.20392227172851562\tdone: True                      "
     ]
    },
    {
     "name": "stdout",
     "output_type": "stream",
     "text": [
      "\r",
      "problem: v1\tprotocol: ethereum_3\tdag_size_limit: 8\tsize: 7442\ttime_spent: 2.819444493001356\trss: 0.23108291625976562\tdone: False                      "
     ]
    },
    {
     "name": "stdout",
     "output_type": "stream",
     "text": [
      "\r",
      "problem: v1\tprotocol: ethereum_3\tdag_size_limit: 6\tsize: 5424\ttime_spent: 2.396339150996937\trss: 0.24060440063476562\tdone: False                      "
     ]
    },
    {
     "name": "stdout",
     "output_type": "stream",
     "text": [
      "\r",
      "problem: v1\tprotocol: ethereum_3\tdag_size_limit: 5\tsize: 2981\ttime_spent: 1.637335855000856\trss: 0.24015426635742188\tdone: True                      \r",
      "problem: v1\tprotocol: byzantium_3\tdag_size_limit: 2\tsize: 6\ttime_spent: 0.002370083999267081\trss: 0.21038436889648438\tdone: True                      "
     ]
    },
    {
     "name": "stdout",
     "output_type": "stream",
     "text": [
      "\r",
      "problem: v1\tprotocol: byzantium_3\tdag_size_limit: 4\tsize: 327\ttime_spent: 0.12927752300311113\trss: 0.20950698852539062\tdone: True                      "
     ]
    },
    {
     "name": "stdout",
     "output_type": "stream",
     "text": [
      "\r",
      "problem: v1\tprotocol: byzantium_3\tdag_size_limit: 8\tsize: 7442\ttime_spent: 2.915163632002077\trss: 0.23123550415039062\tdone: False                      "
     ]
    },
    {
     "name": "stdout",
     "output_type": "stream",
     "text": [
      "\r",
      "problem: v1\tprotocol: byzantium_3\tdag_size_limit: 6\tsize: 5424\ttime_spent: 2.4463200789978146\trss: 0.24075698852539062\tdone: False                      "
     ]
    },
    {
     "name": "stdout",
     "output_type": "stream",
     "text": [
      "\r",
      "problem: v1\tprotocol: byzantium_3\tdag_size_limit: 5\tsize: 2981\ttime_spent: 1.7400343280023662\trss: 0.24052810668945312\tdone: True                      \r",
      "problem: v1\tprotocol: ghostdag_3\tdag_size_limit: 2\tsize: 6\ttime_spent: 0.002228187000582693\trss: 0.21100997924804688\tdone: True                      "
     ]
    },
    {
     "name": "stdout",
     "output_type": "stream",
     "text": [
      "\r",
      "problem: v1\tprotocol: ghostdag_3\tdag_size_limit: 4\tsize: 352\ttime_spent: 0.15671552699859603\trss: 0.21052169799804688\tdone: True                      "
     ]
    },
    {
     "name": "stdout",
     "output_type": "stream",
     "text": [
      "\r",
      "problem: v1\tprotocol: ghostdag_3\tdag_size_limit: 8\tsize: 7540\ttime_spent: 2.958075948001351\trss: 0.22980880737304688\tdone: False                      "
     ]
    },
    {
     "name": "stdout",
     "output_type": "stream",
     "text": [
      "\r",
      "problem: v1\tprotocol: ghostdag_3\tdag_size_limit: 6\tsize: 5299\ttime_spent: 2.42491097400125\trss: 0.23823165893554688\tdone: False                      "
     ]
    },
    {
     "name": "stdout",
     "output_type": "stream",
     "text": [
      "\r",
      "problem: v1\tprotocol: ghostdag_3\tdag_size_limit: 5\tsize: 3712\ttime_spent: 2.4419430929992814\trss: 0.23823165893554688\tdone: True                      "
     ]
    },
    {
     "name": "stdout",
     "output_type": "stream",
     "text": [
      "\r",
      "problem: v1\tprotocol: parallel_3\tdag_size_limit: 2\tsize: 76\ttime_spent: 0.02651658299873816\trss: 0.23102188110351562\tdone: True                      \r",
      "problem: v1\tprotocol: parallel_3\tdag_size_limit: 4\tsize: 206\ttime_spent: 0.07023943199965288\trss: 0.22198867797851562\tdone: True                      "
     ]
    },
    {
     "name": "stdout",
     "output_type": "stream",
     "text": [
      "\r",
      "problem: v1\tprotocol: parallel_3\tdag_size_limit: 8\tsize: 6718\ttime_spent: 2.822449813997082\trss: 0.23016738891601562\tdone: False                      "
     ]
    },
    {
     "name": "stdout",
     "output_type": "stream",
     "text": [
      "\r",
      "problem: v1\tprotocol: parallel_3\tdag_size_limit: 6\tsize: 5603\ttime_spent: 3.3600748099997872\trss: 0.23895645141601562\tdone: False                      "
     ]
    },
    {
     "name": "stdout",
     "output_type": "stream",
     "text": [
      "\r",
      "problem: v1\tprotocol: parallel_3\tdag_size_limit: 5\tsize: 1189\ttime_spent: 0.5074632309988374\trss: 0.23883056640625\tdone: True                      \r",
      "problem: v1+fc\tprotocol: bitcoin\tdag_size_limit: 2\tsize: 5\ttime_spent: 0.0019730579988390673\trss: 0.21270751953125\tdone: True                      \r",
      "problem: v1+fc\tprotocol: bitcoin\tdag_size_limit: 4\tsize: 58\ttime_spent: 0.020006288003060035\trss: 0.21075439453125\tdone: True                      "
     ]
    },
    {
     "name": "stdout",
     "output_type": "stream",
     "text": [
      "\r",
      "problem: v1+fc\tprotocol: bitcoin\tdag_size_limit: 8\tsize: 4968\ttime_spent: 3.3158340570007567\trss: 0.22161865234375\tdone: True                      "
     ]
    },
    {
     "name": "stdout",
     "output_type": "stream",
     "text": [
      "\r",
      "problem: v1+fc\tprotocol: bitcoin\tdag_size_limit: 16\tsize: 5911\ttime_spent: 3.5239889149997907\trss: 0.23297119140625\tdone: False                      "
     ]
    },
    {
     "name": "stdout",
     "output_type": "stream",
     "text": [
      "\r",
      "problem: v1+fc\tprotocol: bitcoin\tdag_size_limit: 12\tsize: 5911\ttime_spent: 3.6391719999992347\trss: 0.24273681640625\tdone: False                      "
     ]
    },
    {
     "name": "stdout",
     "output_type": "stream",
     "text": [
      "\r",
      "problem: v1+fc\tprotocol: bitcoin\tdag_size_limit: 10\tsize: 5542\ttime_spent: 3.54312934599875\trss: 0.24273681640625\tdone: False                      "
     ]
    },
    {
     "name": "stdout",
     "output_type": "stream",
     "text": [
      "\r",
      "problem: v1+fc\tprotocol: bitcoin\tdag_size_limit: 9\tsize: 5072\ttime_spent: 3.2650814879998507\trss: 0.24273681640625\tdone: False                      "
     ]
    },
    {
     "name": "stdout",
     "output_type": "stream",
     "text": [
      "\r",
      "problem: v1+fc\tprotocol: ethereum_3\tdag_size_limit: 2\tsize: 5\ttime_spent: 0.0022796750017732847\trss: 0.21745681762695312\tdone: True                      \r",
      "problem: v1+fc\tprotocol: ethereum_3\tdag_size_limit: 4\tsize: 78\ttime_spent: 0.03335270000025048\trss: 0.21477127075195312\tdone: True                      "
     ]
    },
    {
     "name": "stdout",
     "output_type": "stream",
     "text": [
      "\r",
      "problem: v1+fc\tprotocol: ethereum_3\tdag_size_limit: 8\tsize: 5061\ttime_spent: 2.8865987799981667\trss: 0.22014236450195312\tdone: False                      "
     ]
    },
    {
     "name": "stdout",
     "output_type": "stream",
     "text": [
      "\r",
      "problem: v1+fc\tprotocol: ethereum_3\tdag_size_limit: 6\tsize: 1179\ttime_spent: 0.6439555930010101\trss: 0.22404861450195312\tdone: True                      "
     ]
    },
    {
     "name": "stdout",
     "output_type": "stream",
     "text": [
      "\r",
      "problem: v1+fc\tprotocol: ethereum_3\tdag_size_limit: 7\tsize: 4123\ttime_spent: 2.7295403280004393\trss: 0.22365951538085938\tdone: True                      "
     ]
    },
    {
     "name": "stdout",
     "output_type": "stream",
     "text": [
      "\r",
      "problem: v1+fc\tprotocol: byzantium_3\tdag_size_limit: 2\tsize: 5\ttime_spent: 0.0023277239997696597\trss: 0.21525955200195312\tdone: True                      \r",
      "problem: v1+fc\tprotocol: byzantium_3\tdag_size_limit: 4\tsize: 78\ttime_spent: 0.03625386199928471\trss: 0.21403884887695312\tdone: True                      "
     ]
    },
    {
     "name": "stdout",
     "output_type": "stream",
     "text": [
      "\r",
      "problem: v1+fc\tprotocol: byzantium_3\tdag_size_limit: 8\tsize: 5022\ttime_spent: 3.151713473998825\trss: 0.21977615356445312\tdone: False                      "
     ]
    },
    {
     "name": "stdout",
     "output_type": "stream",
     "text": [
      "\r",
      "problem: v1+fc\tprotocol: byzantium_3\tdag_size_limit: 6\tsize: 1109\ttime_spent: 0.6765886510002019\trss: 0.22307205200195312\tdone: True                      "
     ]
    },
    {
     "name": "stdout",
     "output_type": "stream",
     "text": [
      "\r",
      "problem: v1+fc\tprotocol: byzantium_3\tdag_size_limit: 7\tsize: 3952\ttime_spent: 2.9477459240006283\trss: 0.2223663330078125\tdone: True                      "
     ]
    },
    {
     "name": "stdout",
     "output_type": "stream",
     "text": [
      "\r",
      "problem: v1+fc\tprotocol: ghostdag_3\tdag_size_limit: 2\tsize: 5\ttime_spent: 0.0021762300020782277\trss: 0.2144317626953125\tdone: True                      \r",
      "problem: v1+fc\tprotocol: ghostdag_3\tdag_size_limit: 4\tsize: 84\ttime_spent: 0.04636103699886007\trss: 0.2134552001953125\tdone: True                      "
     ]
    },
    {
     "name": "stdout",
     "output_type": "stream",
     "text": [
      "\r",
      "problem: v1+fc\tprotocol: ghostdag_3\tdag_size_limit: 8\tsize: 5802\ttime_spent: 3.8564108199971088\trss: 0.2241973876953125\tdone: False                      "
     ]
    },
    {
     "name": "stdout",
     "output_type": "stream",
     "text": [
      "\r",
      "problem: v1+fc\tprotocol: ghostdag_3\tdag_size_limit: 6\tsize: 1527\ttime_spent: 1.2827319169991824\trss: 0.2290802001953125\tdone: True                      "
     ]
    },
    {
     "name": "stdout",
     "output_type": "stream",
     "text": [
      "\r",
      "problem: v1+fc\tprotocol: ghostdag_3\tdag_size_limit: 7\tsize: 5775\ttime_spent: 4.549653772999591\trss: 0.2290802001953125\tdone: False                      "
     ]
    },
    {
     "name": "stdout",
     "output_type": "stream",
     "text": [
      "\r",
      "problem: v1+fc\tprotocol: parallel_3\tdag_size_limit: 2\tsize: 61\ttime_spent: 0.02422710699829622\trss: 0.22728347778320312\tdone: True                      \r",
      "problem: v1+fc\tprotocol: parallel_3\tdag_size_limit: 4\tsize: 119\ttime_spent: 0.04356150699823047\trss: 0.21995925903320312\tdone: True                      "
     ]
    },
    {
     "name": "stdout",
     "output_type": "stream",
     "text": [
      "\r",
      "problem: v1+fc\tprotocol: parallel_3\tdag_size_limit: 8\tsize: 5219\ttime_spent: 2.370721904000675\trss: 0.22069168090820312\tdone: False                      "
     ]
    },
    {
     "name": "stdout",
     "output_type": "stream",
     "text": [
      "\r",
      "problem: v1+fc\tprotocol: parallel_3\tdag_size_limit: 6\tsize: 2050\ttime_spent: 0.9317575929999293\trss: 0.23057937622070312\tdone: True                      "
     ]
    },
    {
     "name": "stdout",
     "output_type": "stream",
     "text": [
      "\r",
      "problem: v1+fc\tprotocol: parallel_3\tdag_size_limit: 7\tsize: 5614\ttime_spent: 2.8796404770000663\trss: 0.23070144653320312\tdone: False                      "
     ]
    },
    {
     "name": "stdout",
     "output_type": "stream",
     "text": [
      "\r",
      "problem: v1+n\tprotocol: bitcoin\tdag_size_limit: 2\tsize: 6\ttime_spent: 0.0027730570000130683\trss: 0.22104644775390625\tdone: True                      \r",
      "problem: v1+n\tprotocol: bitcoin\tdag_size_limit: 4\tsize: 198\ttime_spent: 0.09233329899871023\trss: 0.21982574462890625\tdone: True                      "
     ]
    },
    {
     "name": "stdout",
     "output_type": "stream",
     "text": [
      "\r",
      "problem: v1+n\tprotocol: bitcoin\tdag_size_limit: 8\tsize: 7452\ttime_spent: 5.542507050002314\trss: 0.23569488525390625\tdone: False                      "
     ]
    },
    {
     "name": "stdout",
     "output_type": "stream",
     "text": [
      "\r",
      "problem: v1+n\tprotocol: bitcoin\tdag_size_limit: 6\tsize: 5282\ttime_spent: 5.075027457998658\trss: 0.24350738525390625\tdone: False                      "
     ]
    },
    {
     "name": "stdout",
     "output_type": "stream",
     "text": [
      "\r",
      "problem: v1+n\tprotocol: bitcoin\tdag_size_limit: 5\tsize: 1090\ttime_spent: 0.6869071010005428\trss: 0.24350738525390625\tdone: True                      \r",
      "problem: v1+n\tprotocol: ethereum_3\tdag_size_limit: 2\tsize: 6\ttime_spent: 0.0029650680007762276\trss: 0.223846435546875\tdone: True                      "
     ]
    },
    {
     "name": "stdout",
     "output_type": "stream",
     "text": [
      "\r",
      "problem: v1+n\tprotocol: ethereum_3\tdag_size_limit: 4\tsize: 231\ttime_spent: 0.12194487799933995\trss: 0.22366714477539062\tdone: True                      "
     ]
    },
    {
     "name": "stdout",
     "output_type": "stream",
     "text": [
      "\r",
      "problem: v1+n\tprotocol: ethereum_3\tdag_size_limit: 8\tsize: 5193\ttime_spent: 3.8987251990001823\trss: 0.22366714477539062\tdone: False                      "
     ]
    },
    {
     "name": "stdout",
     "output_type": "stream",
     "text": [
      "\r",
      "problem: v1+n\tprotocol: ethereum_3\tdag_size_limit: 6\tsize: 5491\ttime_spent: 4.759749304997968\trss: 0.22464370727539062\tdone: False                      "
     ]
    },
    {
     "name": "stdout",
     "output_type": "stream",
     "text": [
      "\r",
      "problem: v1+n\tprotocol: ethereum_3\tdag_size_limit: 5\tsize: 1480\ttime_spent: 0.9879246630007401\trss: 0.22464370727539062\tdone: True                      \r",
      "problem: v1+n\tprotocol: byzantium_3\tdag_size_limit: 2\tsize: 6\ttime_spent: 0.003124737999314675\trss: 0.21886062622070312\tdone: True                      "
     ]
    },
    {
     "name": "stdout",
     "output_type": "stream",
     "text": [
      "\r",
      "problem: v1+n\tprotocol: byzantium_3\tdag_size_limit: 4\tsize: 231\ttime_spent: 0.12723327999992762\trss: 0.21861648559570312\tdone: True                      "
     ]
    },
    {
     "name": "stdout",
     "output_type": "stream",
     "text": [
      "\r",
      "problem: v1+n\tprotocol: byzantium_3\tdag_size_limit: 8\tsize: 5193\ttime_spent: 4.013702762000321\trss: 0.21873855590820312\tdone: False                      "
     ]
    },
    {
     "name": "stdout",
     "output_type": "stream",
     "text": [
      "\r",
      "problem: v1+n\tprotocol: byzantium_3\tdag_size_limit: 6\tsize: 5490\ttime_spent: 4.95889449400056\trss: 0.22472000122070312\tdone: False                      "
     ]
    },
    {
     "name": "stdout",
     "output_type": "stream",
     "text": [
      "\r",
      "problem: v1+n\tprotocol: byzantium_3\tdag_size_limit: 5\tsize: 1480\ttime_spent: 1.041455032001977\trss: 0.22472000122070312\tdone: True                      \r",
      "problem: v1+n\tprotocol: ghostdag_3\tdag_size_limit: 2\tsize: 6\ttime_spent: 0.0029149740003049374\trss: 0.21887588500976562\tdone: True                      "
     ]
    },
    {
     "name": "stdout",
     "output_type": "stream",
     "text": [
      "\r",
      "problem: v1+n\tprotocol: ghostdag_3\tdag_size_limit: 4\tsize: 228\ttime_spent: 0.13436652599921217\trss: 0.21863174438476562\tdone: True                      "
     ]
    },
    {
     "name": "stdout",
     "output_type": "stream",
     "text": [
      "\r",
      "problem: v1+n\tprotocol: ghostdag_3\tdag_size_limit: 8\tsize: 5545\ttime_spent: 4.038072348001151\trss: 0.21875381469726562\tdone: False                      "
     ]
    },
    {
     "name": "stdout",
     "output_type": "stream",
     "text": [
      "\r",
      "problem: v1+n\tprotocol: ghostdag_3\tdag_size_limit: 6\tsize: 5807\ttime_spent: 4.893851105000067\trss: 0.22510147094726562\tdone: False                      "
     ]
    },
    {
     "name": "stdout",
     "output_type": "stream",
     "text": [
      "\r",
      "problem: v1+n\tprotocol: ghostdag_3\tdag_size_limit: 5\tsize: 1581\ttime_spent: 1.1363816410012078\trss: 0.22510147094726562\tdone: True                      \r",
      "problem: v1+n\tprotocol: parallel_3\tdag_size_limit: 2\tsize: 51\ttime_spent: 0.023323249999521067\trss: 0.22202301025390625\tdone: True                      "
     ]
    },
    {
     "name": "stdout",
     "output_type": "stream",
     "text": [
      "\r",
      "problem: v1+n\tprotocol: parallel_3\tdag_size_limit: 4\tsize: 152\ttime_spent: 0.07933481800137088\trss: 0.22104644775390625\tdone: True                      "
     ]
    },
    {
     "name": "stdout",
     "output_type": "stream",
     "text": [
      "\r",
      "problem: v1+n\tprotocol: parallel_3\tdag_size_limit: 8\tsize: 5110\ttime_spent: 5.468507211000542\trss: 0.22336578369140625\tdone: False                      "
     ]
    },
    {
     "name": "stdout",
     "output_type": "stream",
     "text": [
      "\r",
      "problem: v1+n\tprotocol: parallel_3\tdag_size_limit: 6\tsize: 1654\ttime_spent: 1.3833158890010964\trss: 0.22763824462890625\tdone: True                      "
     ]
    },
    {
     "name": "stdout",
     "output_type": "stream",
     "text": [
      "\r",
      "problem: v1+n\tprotocol: parallel_3\tdag_size_limit: 7\tsize: 5492\ttime_spent: 5.54416680400027\trss: 0.2269439697265625\tdone: False                      "
     ]
    },
    {
     "name": "stdout",
     "output_type": "stream",
     "text": [
      "\r",
      "problem: v1+fc+n\tprotocol: bitcoin\tdag_size_limit: 2\tsize: 5\ttime_spent: 0.0026043220022984315\trss: 0.2213287353515625\tdone: True                      \r",
      "problem: v1+fc+n\tprotocol: bitcoin\tdag_size_limit: 4\tsize: 45\ttime_spent: 0.023147961001086514\trss: 0.2208404541015625\tdone: True                      "
     ]
    },
    {
     "name": "stdout",
     "output_type": "stream",
     "text": [
      "\r",
      "problem: v1+fc+n\tprotocol: bitcoin\tdag_size_limit: 8\tsize: 1959\ttime_spent: 1.948820555000566\trss: 0.2208404541015625\tdone: True                      "
     ]
    },
    {
     "name": "stdout",
     "output_type": "stream",
     "text": [
      "\r",
      "problem: v1+fc+n\tprotocol: bitcoin\tdag_size_limit: 16\tsize: 5261\ttime_spent: 5.267608526999538\trss: 0.2293853759765625\tdone: False                      "
     ]
    },
    {
     "name": "stdout",
     "output_type": "stream",
     "text": [
      "\r",
      "problem: v1+fc+n\tprotocol: bitcoin\tdag_size_limit: 12\tsize: 5200\ttime_spent: 5.410237922002125\trss: 0.2391510009765625\tdone: False                      "
     ]
    },
    {
     "name": "stdout",
     "output_type": "stream",
     "text": [
      "\r",
      "problem: v1+fc+n\tprotocol: bitcoin\tdag_size_limit: 10\tsize: 6203\ttime_spent: 6.803228375996696\trss: 0.2391510009765625\tdone: False                      "
     ]
    },
    {
     "name": "stdout",
     "output_type": "stream",
     "text": [
      "\r",
      "problem: v1+fc+n\tprotocol: bitcoin\tdag_size_limit: 9\tsize: 5152\ttime_spent: 6.022233455001697\trss: 0.2490386962890625\tdone: False                      "
     ]
    },
    {
     "name": "stdout",
     "output_type": "stream",
     "text": [
      "\r",
      "problem: v1+fc+n\tprotocol: ethereum_3\tdag_size_limit: 2\tsize: 5\ttime_spent: 0.0030551389972970355\trss: 0.22888565063476562\tdone: True                      \r",
      "problem: v1+fc+n\tprotocol: ethereum_3\tdag_size_limit: 4\tsize: 56\ttime_spent: 0.03419772699999157\trss: 0.22717666625976562\tdone: True                      "
     ]
    },
    {
     "name": "stdout",
     "output_type": "stream",
     "text": [
      "\r",
      "problem: v1+fc+n\tprotocol: ethereum_3\tdag_size_limit: 8\tsize: 5213\ttime_spent: 5.087534205002157\trss: 0.22668838500976562\tdone: False                      "
     ]
    },
    {
     "name": "stdout",
     "output_type": "stream",
     "text": [
      "\r",
      "problem: v1+fc+n\tprotocol: ethereum_3\tdag_size_limit: 6\tsize: 596\ttime_spent: 0.4643328929996642\trss: 0.22582244873046875\tdone: True                      "
     ]
    },
    {
     "name": "stdout",
     "output_type": "stream",
     "text": [
      "\r",
      "problem: v1+fc+n\tprotocol: ethereum_3\tdag_size_limit: 7\tsize: 1794\ttime_spent: 1.658651452002232\trss: 0.22491455078125\tdone: True                      \r",
      "problem: v1+fc+n\tprotocol: byzantium_3\tdag_size_limit: 2\tsize: 5\ttime_spent: 0.003153913999994984\trss: 0.22344970703125\tdone: True                      "
     ]
    },
    {
     "name": "stdout",
     "output_type": "stream",
     "text": [
      "\r",
      "problem: v1+fc+n\tprotocol: byzantium_3\tdag_size_limit: 4\tsize: 56\ttime_spent: 0.03772918100003153\trss: 0.22296142578125\tdone: True                      "
     ]
    },
    {
     "name": "stdout",
     "output_type": "stream",
     "text": [
      "\r",
      "problem: v1+fc+n\tprotocol: byzantium_3\tdag_size_limit: 8\tsize: 5169\ttime_spent: 5.555203344996698\trss: 0.22467041015625\tdone: False                      "
     ]
    },
    {
     "name": "stdout",
     "output_type": "stream",
     "text": [
      "\r",
      "problem: v1+fc+n\tprotocol: byzantium_3\tdag_size_limit: 6\tsize: 572\ttime_spent: 0.4928206949989544\trss: 0.22467041015625\tdone: True                      "
     ]
    },
    {
     "name": "stdout",
     "output_type": "stream",
     "text": [
      "\r",
      "problem: v1+fc+n\tprotocol: byzantium_3\tdag_size_limit: 7\tsize: 1739\ttime_spent: 1.740372586002195\trss: 0.22467041015625\tdone: True                      \r",
      "problem: v1+fc+n\tprotocol: ghostdag_3\tdag_size_limit: 2\tsize: 5\ttime_spent: 0.002760285002295859\trss: 0.22301101684570312\tdone: True                      "
     ]
    },
    {
     "name": "stdout",
     "output_type": "stream",
     "text": [
      "\r",
      "problem: v1+fc+n\tprotocol: ghostdag_3\tdag_size_limit: 4\tsize: 57\ttime_spent: 0.03908547799801454\trss: 0.22227859497070312\tdone: True                      "
     ]
    },
    {
     "name": "stdout",
     "output_type": "stream",
     "text": [
      "\r",
      "problem: v1+fc+n\tprotocol: ghostdag_3\tdag_size_limit: 8\tsize: 5865\ttime_spent: 6.527556033001019\trss: 0.22740554809570312\tdone: False                      "
     ]
    },
    {
     "name": "stdout",
     "output_type": "stream",
     "text": [
      "\r",
      "problem: v1+fc+n\tprotocol: ghostdag_3\tdag_size_limit: 6\tsize: 604\ttime_spent: 0.6468151680019218\trss: 0.22705078125\tdone: True                      "
     ]
    },
    {
     "name": "stdout",
     "output_type": "stream",
     "text": [
      "\r",
      "problem: v1+fc+n\tprotocol: ghostdag_3\tdag_size_limit: 7\tsize: 2026\ttime_spent: 2.830262244999176\trss: 0.226806640625\tdone: True                      \r",
      "problem: v1+fc+n\tprotocol: parallel_3\tdag_size_limit: 2\tsize: 41\ttime_spent: 0.02292398999998113\trss: 0.22513580322265625\tdone: True                      "
     ]
    },
    {
     "name": "stdout",
     "output_type": "stream",
     "text": [
      "\r",
      "problem: v1+fc+n\tprotocol: parallel_3\tdag_size_limit: 4\tsize: 84\ttime_spent: 0.051585588000307325\trss: 0.22343063354492188\tdone: True                      "
     ]
    },
    {
     "name": "stdout",
     "output_type": "stream",
     "text": [
      "\r",
      "problem: v1+fc+n\tprotocol: parallel_3\tdag_size_limit: 8\tsize: 2320\ttime_spent: 2.6956826509995153\trss: 0.22343063354492188\tdone: True                      "
     ]
    },
    {
     "name": "stdout",
     "output_type": "stream",
     "text": [
      "\r",
      "problem: v1+fc+n\tprotocol: parallel_3\tdag_size_limit: 16\tsize: 6369\ttime_spent: 8.019095946998277\trss: 0.24271774291992188\tdone: False                      "
     ]
    },
    {
     "name": "stdout",
     "output_type": "stream",
     "text": [
      "\r",
      "problem: v1+fc+n\tprotocol: parallel_3\tdag_size_limit: 12\tsize: 6232\ttime_spent: 7.899056299000222\trss: 0.2539482116699219\tdone: False                      "
     ]
    },
    {
     "name": "stdout",
     "output_type": "stream",
     "text": [
      "\r",
      "problem: v1+fc+n\tprotocol: parallel_3\tdag_size_limit: 10\tsize: 5565\ttime_spent: 6.850924760001362\trss: 0.2539482116699219\tdone: False                      "
     ]
    },
    {
     "name": "stdout",
     "output_type": "stream",
     "text": [
      "\r",
      "problem: v1+fc+n\tprotocol: parallel_3\tdag_size_limit: 9\tsize: 4967\ttime_spent: 6.127196654000727\trss: 0.2539482116699219\tdone: True                      "
     ]
    },
    {
     "name": "stdout",
     "output_type": "stream",
     "text": [
      "\r",
      "problem: v0+fc+n\tprotocol: bitcoin\tdag_size_limit: 2\tsize: 12\ttime_spent: 0.0031239919990184717\trss: 0.22946929931640625\tdone: True                      \r",
      "problem: v0+fc+n\tprotocol: bitcoin\tdag_size_limit: 4\tsize: 104\ttime_spent: 0.046696556000824785\trss: 0.22751617431640625\tdone: True                      "
     ]
    },
    {
     "name": "stdout",
     "output_type": "stream",
     "text": [
      "\r",
      "problem: v0+fc+n\tprotocol: bitcoin\tdag_size_limit: 8\tsize: 1652\ttime_spent: 1.2525368199967488\trss: 0.22751617431640625\tdone: True                      "
     ]
    },
    {
     "name": "stdout",
     "output_type": "stream",
     "text": [
      "\r",
      "problem: v0+fc+n\tprotocol: bitcoin\tdag_size_limit: 16\tsize: 5430\ttime_spent: 4.807191202999093\trss: 0.2303924560546875\tdone: False                      "
     ]
    },
    {
     "name": "stdout",
     "output_type": "stream",
     "text": [
      "\r",
      "problem: v0+fc+n\tprotocol: bitcoin\tdag_size_limit: 12\tsize: 5068\ttime_spent: 4.563729907997185\trss: 0.22989273071289062\tdone: False                      "
     ]
    },
    {
     "name": "stdout",
     "output_type": "stream",
     "text": [
      "\r",
      "problem: v0+fc+n\tprotocol: bitcoin\tdag_size_limit: 10\tsize: 4315\ttime_spent: 4.012433203002729\trss: 0.22835159301757812\tdone: True                      "
     ]
    },
    {
     "name": "stdout",
     "output_type": "stream",
     "text": [
      "\r",
      "problem: v0+fc+n\tprotocol: bitcoin\tdag_size_limit: 11\tsize: 5589\ttime_spent: 5.252837105999788\trss: 0.23133087158203125\tdone: False                      \r",
      "problem: v0\tprotocol: bitcoin\tdag_size_limit: 2\tsize: 18\ttime_spent: 0.003577643998141866\trss: 0.23133087158203125\tdone: True                      "
     ]
    },
    {
     "name": "stdout",
     "output_type": "stream",
     "text": [
      "\r",
      "problem: v0\tprotocol: bitcoin\tdag_size_limit: 4\tsize: 1198\ttime_spent: 0.4779084170004353\trss: 0.23133087158203125\tdone: True                      "
     ]
    },
    {
     "name": "stdout",
     "output_type": "stream",
     "text": [
      "\r",
      "problem: v0\tprotocol: bitcoin\tdag_size_limit: 8\tsize: 5909\ttime_spent: 2.087641120000626\trss: 0.23084259033203125\tdone: False                      "
     ]
    },
    {
     "name": "stdout",
     "output_type": "stream",
     "text": [
      "\r",
      "problem: v0\tprotocol: bitcoin\tdag_size_limit: 6\tsize: 6835\ttime_spent: 3.0407811329969263\trss: 0.23084259033203125\tdone: False                      "
     ]
    },
    {
     "name": "stdout",
     "output_type": "stream",
     "text": [
      "\r",
      "problem: v0\tprotocol: bitcoin\tdag_size_limit: 5\tsize: 5509\ttime_spent: 2.578263125000376\trss: 0.23084259033203125\tdone: False                      "
     ]
    }
   ],
   "source": [
    "# locate the upper limit for exploring the non-generic reference models with binary search\n",
    "for idx, row in models.iterrows():\n",
    "    dag_size_limit = 1\n",
    "    while True:\n",
    "        dag_size_limit *= 2\n",
    "        done = explore_row_limit(idx, row, dag_size_limit)\n",
    "        if not done:\n",
    "            break\n",
    "\n",
    "    a = dag_size_limit / 2\n",
    "    b = dag_size_limit\n",
    "\n",
    "    while b - a > 1:\n",
    "        c = round((a + b) / 2)\n",
    "        done = explore_row_limit(idx, row, c)\n",
    "        if done:\n",
    "            a = c\n",
    "        else:\n",
    "            b = c"
   ]
  },
  {
   "cell_type": "code",
   "execution_count": 6,
   "id": "713d8cf0-1c0c-453f-ba9d-578b2b925a9e",
   "metadata": {
    "execution": {
     "iopub.execute_input": "2025-06-15T14:05:16.481894Z",
     "iopub.status.busy": "2025-06-15T14:05:16.481719Z",
     "iopub.status.idle": "2025-06-15T14:05:29.890649Z",
     "shell.execute_reply": "2025-06-15T14:05:29.890141Z"
    }
   },
   "outputs": [
    {
     "name": "stdout",
     "output_type": "stream",
     "text": [
      "\r",
      "problem: ref-fc16\tprotocol: bitcoin\tdag_size_limit: 3\tsize: 9\ttime_spent: 0.0003552670023054816\trss: 0.23084259033203125\tdone: True                      \r",
      "problem: ref-fc16\tprotocol: bitcoin\tdag_size_limit: 5\tsize: 31\ttime_spent: 0.0009869450004771352\trss: 0.23084259033203125\tdone: True                      \r",
      "problem: ref-fc16\tprotocol: bitcoin\tdag_size_limit: 6\tsize: 47\ttime_spent: 0.0014768060027563479\trss: 0.23084259033203125\tdone: True                      "
     ]
    },
    {
     "name": "stdout",
     "output_type": "stream",
     "text": [
      "\r",
      "problem: ref-fc16\tprotocol: bitcoin\tdag_size_limit: 7\tsize: 67\ttime_spent: 0.002138099000148941\trss: 0.23084259033203125\tdone: True                      "
     ]
    },
    {
     "name": "stdout",
     "output_type": "stream",
     "text": [
      "\r",
      "problem: ref-fc16\tprotocol: bitcoin\tdag_size_limit: 9\tsize: 117\ttime_spent: 0.0038661970029352233\trss: 0.23084259033203125\tdone: True                      \r",
      "problem: ref-fc16\tprotocol: bitcoin\tdag_size_limit: 10\tsize: 147\ttime_spent: 0.004892906999884872\trss: 0.23084259033203125\tdone: True                      "
     ]
    },
    {
     "name": "stdout",
     "output_type": "stream",
     "text": [
      "\r",
      "problem: ref-fc16\tprotocol: bitcoin\tdag_size_limit: 11\tsize: 181\ttime_spent: 0.005981222999253077\trss: 0.23084259033203125\tdone: True                      "
     ]
    },
    {
     "name": "stdout",
     "output_type": "stream",
     "text": [
      "\r",
      "problem: ref-fc16\tprotocol: bitcoin\tdag_size_limit: 12\tsize: 218\ttime_spent: 0.006950825001695193\trss: 0.23084259033203125\tdone: True                      \r",
      "problem: ref-fc16\tprotocol: bitcoin\tdag_size_limit: 13\tsize: 259\ttime_spent: 0.008476001999952132\trss: 0.23084259033203125\tdone: True                      "
     ]
    },
    {
     "name": "stdout",
     "output_type": "stream",
     "text": [
      "\r",
      "problem: ref-fc16\tprotocol: bitcoin\tdag_size_limit: 14\tsize: 303\ttime_spent: 0.010039931999926921\trss: 0.23084259033203125\tdone: True                      "
     ]
    },
    {
     "name": "stdout",
     "output_type": "stream",
     "text": [
      "\r",
      "problem: ref-fc16\tprotocol: bitcoin\tdag_size_limit: 15\tsize: 351\ttime_spent: 0.011598591998335905\trss: 0.23084259033203125\tdone: True                      \r",
      "problem: ref-aft20\tprotocol: bitcoin\tdag_size_limit: 3\tsize: 8\ttime_spent: 0.00022585499755223282\trss: 0.23084259033203125\tdone: True                      "
     ]
    },
    {
     "name": "stdout",
     "output_type": "stream",
     "text": [
      "\r",
      "problem: ref-aft20\tprotocol: bitcoin\tdag_size_limit: 5\tsize: 25\ttime_spent: 0.0006241730006877333\trss: 0.23084259033203125\tdone: True                      "
     ]
    },
    {
     "name": "stdout",
     "output_type": "stream",
     "text": [
      "\r",
      "problem: ref-aft20\tprotocol: bitcoin\tdag_size_limit: 6\tsize: 37\ttime_spent: 0.0008957640020526014\trss: 0.23084259033203125\tdone: True                      \r",
      "problem: ref-aft20\tprotocol: bitcoin\tdag_size_limit: 7\tsize: 52\ttime_spent: 0.0012381679989630356\trss: 0.23084259033203125\tdone: True                      \r",
      "problem: ref-aft20\tprotocol: bitcoin\tdag_size_limit: 9\tsize: 89\ttime_spent: 0.002213630999904126\trss: 0.23084259033203125\tdone: True                      "
     ]
    },
    {
     "name": "stdout",
     "output_type": "stream",
     "text": [
      "\r",
      "problem: ref-aft20\tprotocol: bitcoin\tdag_size_limit: 10\tsize: 111\ttime_spent: 0.00271495299966773\trss: 0.23084259033203125\tdone: True                      "
     ]
    },
    {
     "name": "stdout",
     "output_type": "stream",
     "text": [
      "\r",
      "problem: ref-aft20\tprotocol: bitcoin\tdag_size_limit: 11\tsize: 136\ttime_spent: 0.003316914997412823\trss: 0.23084259033203125\tdone: True                      \r",
      "problem: ref-aft20\tprotocol: bitcoin\tdag_size_limit: 12\tsize: 163\ttime_spent: 0.004028412000479875\trss: 0.23084259033203125\tdone: True                      \r",
      "problem: ref-aft20\tprotocol: bitcoin\tdag_size_limit: 13\tsize: 193\ttime_spent: 0.0047395190013048705\trss: 0.23084259033203125\tdone: True                      "
     ]
    },
    {
     "name": "stdout",
     "output_type": "stream",
     "text": [
      "\r",
      "problem: ref-aft20\tprotocol: bitcoin\tdag_size_limit: 14\tsize: 225\ttime_spent: 0.005394420000811806\trss: 0.23084259033203125\tdone: True                      "
     ]
    },
    {
     "name": "stdout",
     "output_type": "stream",
     "text": [
      "\r",
      "problem: ref-aft20\tprotocol: bitcoin\tdag_size_limit: 15\tsize: 260\ttime_spent: 0.00606296600017231\trss: 0.23084259033203125\tdone: True                      \r",
      "problem: v1\tprotocol: bitcoin\tdag_size_limit: 3\tsize: 34\ttime_spent: 0.00968729899977916\trss: 0.23084259033203125\tdone: True                      \r",
      "problem: v1\tprotocol: ethereum_3\tdag_size_limit: 3\tsize: 45\ttime_spent: 0.016718987000786\trss: 0.23084259033203125\tdone: True                      "
     ]
    },
    {
     "name": "stdout",
     "output_type": "stream",
     "text": [
      "\r",
      "problem: v1\tprotocol: byzantium_3\tdag_size_limit: 3\tsize: 45\ttime_spent: 0.01814702100091381\trss: 0.23084259033203125\tdone: True                      \r",
      "problem: v1\tprotocol: ghostdag_3\tdag_size_limit: 3\tsize: 45\ttime_spent: 0.017825487000663998\trss: 0.23084259033203125\tdone: True                      \r",
      "problem: v1\tprotocol: parallel_3\tdag_size_limit: 3\tsize: 90\ttime_spent: 0.029634284001076594\trss: 0.23084259033203125\tdone: True                      "
     ]
    },
    {
     "name": "stdout",
     "output_type": "stream",
     "text": [
      "\r",
      "problem: v1+fc\tprotocol: bitcoin\tdag_size_limit: 3\tsize: 21\ttime_spent: 0.006901071999891428\trss: 0.23084259033203125\tdone: True                      \r",
      "problem: v1+fc\tprotocol: bitcoin\tdag_size_limit: 5\tsize: 186\ttime_spent: 0.07535188899782952\trss: 0.23084259033203125\tdone: True                      "
     ]
    },
    {
     "name": "stdout",
     "output_type": "stream",
     "text": [
      "\r",
      "problem: v1+fc\tprotocol: bitcoin\tdag_size_limit: 6\tsize: 549\ttime_spent: 0.24517077899872675\trss: 0.23084259033203125\tdone: True                      "
     ]
    },
    {
     "name": "stdout",
     "output_type": "stream",
     "text": [
      "\r",
      "problem: v1+fc\tprotocol: bitcoin\tdag_size_limit: 7\tsize: 1650\ttime_spent: 0.9869492239995452\trss: 0.23084259033203125\tdone: True                      \r",
      "problem: v1+fc\tprotocol: ethereum_3\tdag_size_limit: 3\tsize: 41\ttime_spent: 0.01920657299706363\trss: 0.23084259033203125\tdone: True                      "
     ]
    },
    {
     "name": "stdout",
     "output_type": "stream",
     "text": [
      "\r",
      "problem: v1+fc\tprotocol: ethereum_3\tdag_size_limit: 5\tsize: 290\ttime_spent: 0.1420246039997437\trss: 0.23084259033203125\tdone: True                      \r",
      "problem: v1+fc\tprotocol: byzantium_3\tdag_size_limit: 3\tsize: 41\ttime_spent: 0.02047923499776516\trss: 0.23084259033203125\tdone: True                      "
     ]
    },
    {
     "name": "stdout",
     "output_type": "stream",
     "text": [
      "\r",
      "problem: v1+fc\tprotocol: byzantium_3\tdag_size_limit: 5\tsize: 290\ttime_spent: 0.16549878899968462\trss: 0.23084259033203125\tdone: True                      \r",
      "problem: v1+fc\tprotocol: ghostdag_3\tdag_size_limit: 3\tsize: 23\ttime_spent: 0.011219810003240127\trss: 0.23084259033203125\tdone: True                      "
     ]
    },
    {
     "name": "stdout",
     "output_type": "stream",
     "text": [
      "\r",
      "problem: v1+fc\tprotocol: ghostdag_3\tdag_size_limit: 5\tsize: 350\ttime_spent: 0.24771320799845853\trss: 0.23084259033203125\tdone: True                      \r",
      "problem: v1+fc\tprotocol: parallel_3\tdag_size_limit: 3\tsize: 69\ttime_spent: 0.026347015002102125\trss: 0.23084259033203125\tdone: True                      "
     ]
    },
    {
     "name": "stdout",
     "output_type": "stream",
     "text": [
      "\r",
      "problem: v1+fc\tprotocol: parallel_3\tdag_size_limit: 5\tsize: 470\ttime_spent: 0.18650211899876012\trss: 0.23084259033203125\tdone: True                      \r",
      "problem: v1+n\tprotocol: bitcoin\tdag_size_limit: 3\tsize: 45\ttime_spent: 0.01752406999730738\trss: 0.23084259033203125\tdone: True                      \r",
      "problem: v1+n\tprotocol: ethereum_3\tdag_size_limit: 3\tsize: 78\ttime_spent: 0.038768231999711134\trss: 0.23084259033203125\tdone: True                      "
     ]
    },
    {
     "name": "stdout",
     "output_type": "stream",
     "text": [
      "\r",
      "problem: v1+n\tprotocol: byzantium_3\tdag_size_limit: 3\tsize: 78\ttime_spent: 0.04242334299851791\trss: 0.23084259033203125\tdone: True                      \r",
      "problem: v1+n\tprotocol: ghostdag_3\tdag_size_limit: 3\tsize: 41\ttime_spent: 0.019820746998448158\trss: 0.23084259033203125\tdone: True                      \r",
      "problem: v1+n\tprotocol: parallel_3\tdag_size_limit: 3\tsize: 68\ttime_spent: 0.029334350001590792\trss: 0.23084259033203125\tdone: True                      "
     ]
    },
    {
     "name": "stdout",
     "output_type": "stream",
     "text": [
      "\r",
      "problem: v1+n\tprotocol: parallel_3\tdag_size_limit: 5\tsize: 473\ttime_spent: 0.325021184002253\trss: 0.23084259033203125\tdone: True                      \r",
      "problem: v1+fc+n\tprotocol: bitcoin\tdag_size_limit: 3\tsize: 18\ttime_spent: 0.008448440003121505\trss: 0.23084259033203125\tdone: True                      \r",
      "problem: v1+fc+n\tprotocol: bitcoin\tdag_size_limit: 5\tsize: 120\ttime_spent: 0.07341857600113144\trss: 0.23084259033203125\tdone: True                      "
     ]
    },
    {
     "name": "stdout",
     "output_type": "stream",
     "text": [
      "\r",
      "problem: v1+fc+n\tprotocol: bitcoin\tdag_size_limit: 6\tsize: 300\ttime_spent: 0.22276281800077413\trss: 0.23084259033203125\tdone: True                      "
     ]
    },
    {
     "name": "stdout",
     "output_type": "stream",
     "text": [
      "\r",
      "problem: v1+fc+n\tprotocol: bitcoin\tdag_size_limit: 7\tsize: 760\ttime_spent: 0.6413650030008284\trss: 0.23084259033203125\tdone: True                      \r",
      "problem: v1+fc+n\tprotocol: ethereum_3\tdag_size_limit: 3\tsize: 29\ttime_spent: 0.01745618499990087\trss: 0.23084259033203125\tdone: True                      "
     ]
    },
    {
     "name": "stdout",
     "output_type": "stream",
     "text": [
      "\r",
      "problem: v1+fc+n\tprotocol: ethereum_3\tdag_size_limit: 5\tsize: 186\ttime_spent: 0.1322705530001258\trss: 0.23084259033203125\tdone: True                      \r",
      "problem: v1+fc+n\tprotocol: byzantium_3\tdag_size_limit: 3\tsize: 29\ttime_spent: 0.01928742800009786\trss: 0.23084259033203125\tdone: True                      "
     ]
    },
    {
     "name": "stdout",
     "output_type": "stream",
     "text": [
      "\r",
      "problem: v1+fc+n\tprotocol: byzantium_3\tdag_size_limit: 5\tsize: 186\ttime_spent: 0.14094368200312601\trss: 0.23084259033203125\tdone: True                      \r",
      "problem: v1+fc+n\tprotocol: ghostdag_3\tdag_size_limit: 3\tsize: 19\ttime_spent: 0.011113818000012543\trss: 0.23084259033203125\tdone: True                      "
     ]
    },
    {
     "name": "stdout",
     "output_type": "stream",
     "text": [
      "\r",
      "problem: v1+fc+n\tprotocol: ghostdag_3\tdag_size_limit: 5\tsize: 184\ttime_spent: 0.1516185360014788\trss: 0.23084259033203125\tdone: True                      \r",
      "problem: v1+fc+n\tprotocol: parallel_3\tdag_size_limit: 3\tsize: 50\ttime_spent: 0.025433045000681886\trss: 0.23084259033203125\tdone: True                      "
     ]
    },
    {
     "name": "stdout",
     "output_type": "stream",
     "text": [
      "\r",
      "problem: v1+fc+n\tprotocol: parallel_3\tdag_size_limit: 5\tsize: 191\ttime_spent: 0.13304154200159246\trss: 0.23084259033203125\tdone: True                      "
     ]
    },
    {
     "name": "stdout",
     "output_type": "stream",
     "text": [
      "\r",
      "problem: v1+fc+n\tprotocol: parallel_3\tdag_size_limit: 6\tsize: 462\ttime_spent: 0.3658797649986809\trss: 0.23084259033203125\tdone: True                      "
     ]
    },
    {
     "name": "stdout",
     "output_type": "stream",
     "text": [
      "\r",
      "problem: v1+fc+n\tprotocol: parallel_3\tdag_size_limit: 7\tsize: 1047\ttime_spent: 1.0063080530017032\trss: 0.23084259033203125\tdone: True                      \r",
      "problem: v0+fc+n\tprotocol: bitcoin\tdag_size_limit: 3\tsize: 41\ttime_spent: 0.013422108997474425\trss: 0.23084259033203125\tdone: True                      "
     ]
    },
    {
     "name": "stdout",
     "output_type": "stream",
     "text": [
      "\r",
      "problem: v0+fc+n\tprotocol: bitcoin\tdag_size_limit: 5\tsize: 248\ttime_spent: 0.12621217099876958\trss: 0.23084259033203125\tdone: True                      "
     ]
    },
    {
     "name": "stdout",
     "output_type": "stream",
     "text": [
      "\r",
      "problem: v0+fc+n\tprotocol: bitcoin\tdag_size_limit: 6\tsize: 501\ttime_spent: 0.3126000970005407\trss: 0.23084259033203125\tdone: True                      "
     ]
    },
    {
     "name": "stdout",
     "output_type": "stream",
     "text": [
      "\r",
      "problem: v0+fc+n\tprotocol: bitcoin\tdag_size_limit: 7\tsize: 951\ttime_spent: 0.6582143230007205\trss: 0.23084259033203125\tdone: True                      "
     ]
    },
    {
     "name": "stdout",
     "output_type": "stream",
     "text": [
      "\r",
      "problem: v0+fc+n\tprotocol: bitcoin\tdag_size_limit: 9\tsize: 2744\ttime_spent: 2.3256369340015226\trss: 0.23084259033203125\tdone: True                      \r",
      "problem: v0\tprotocol: bitcoin\tdag_size_limit: 3\tsize: 175\ttime_spent: 0.04668937599853962\trss: 0.23084259033203125\tdone: True                      "
     ]
    }
   ],
   "source": [
    "for idx, row in models.iterrows():\n",
    "    dag_size_limit = 1\n",
    "    while True:\n",
    "        dag_size_limit += 1\n",
    "\n",
    "        if row[\"problem\"].startswith(\"ref\") and dag_size_limit >= 16:\n",
    "            break\n",
    "\n",
    "        done = explore_row_limit(idx, row, dag_size_limit)\n",
    "        if not done:\n",
    "            break"
   ]
  },
  {
   "cell_type": "code",
   "execution_count": 7,
   "id": "90ccf18c-5299-4f6c-9147-863133d4118a",
   "metadata": {
    "execution": {
     "iopub.execute_input": "2025-06-15T14:05:29.892708Z",
     "iopub.status.busy": "2025-06-15T14:05:29.892501Z",
     "iopub.status.idle": "2025-06-15T14:05:29.899350Z",
     "shell.execute_reply": "2025-06-15T14:05:29.898937Z"
    }
   },
   "outputs": [],
   "source": [
    "size_log = pandas.DataFrame(size_log)\n",
    "aborts = pandas.DataFrame(aborts)\n",
    "\n",
    "size_log.to_pickle(\"5-generated-mdps/success.pkl.gz\")\n",
    "aborts.to_pickle(\"5-generated-mdps/fail.pkl.gz\")"
   ]
  },
  {
   "cell_type": "code",
   "execution_count": 8,
   "id": "a5c7e143-a87b-46c3-9bb1-9939e860d968",
   "metadata": {
    "execution": {
     "iopub.execute_input": "2025-06-15T14:05:29.901384Z",
     "iopub.status.busy": "2025-06-15T14:05:29.901163Z",
     "iopub.status.idle": "2025-06-15T14:05:31.847919Z",
     "shell.execute_reply": "2025-06-15T14:05:31.847389Z"
    }
   },
   "outputs": [
    {
     "data": {
      "text/plain": [
       "<seaborn.axisgrid.FacetGrid at 0x7f9dce8d5490>"
      ]
     },
     "execution_count": 8,
     "metadata": {},
     "output_type": "execute_result"
    },
    {
     "data": {
      "image/png": "[encoded data removed]",
      "text/plain": [
       "<Figure size 1611.75x1000 with 5 Axes>"
      ]
     },
     "metadata": {},
     "output_type": "display_data"
    }
   ],
   "source": [
    "seaborn.relplot(\n",
    "    data=size_log.query(\"dag_size_limit < 10\"),\n",
    "    kind=\"line\",\n",
    "    x=\"dag_size_limit\",\n",
    "    y=\"size\",\n",
    "    hue=\"problem\",\n",
    "    style=\"problem\",\n",
    "    markers=True,\n",
    "    col=\"protocol\",\n",
    "    col_wrap=3,\n",
    ").set(yscale=\"log\")"
   ]
  }
 ],
 "metadata": {
  "kernelspec": {
   "display_name": "Python 3 (ipykernel)",
   "language": "python",
   "name": "python3"
  },
  "language_info": {
   "codemirror_mode": {
    "name": "ipython",
    "version": 3
   },
   "file_extension": ".py",
   "mimetype": "text/x-python",
   "name": "python",
   "nbconvert_exporter": "python",
   "pygments_lexer": "ipython3",
   "version": "3.9.23"
  }
 },
 "nbformat": 4,
 "nbformat_minor": 5
}
