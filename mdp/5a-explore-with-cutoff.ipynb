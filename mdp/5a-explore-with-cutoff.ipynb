{
 "cells": [
  {
   "cell_type": "code",
   "execution_count": 1,
   "id": "829da242-e613-4808-841e-9921993ca24e",
   "metadata": {
    "execution": {
     "iopub.execute_input": "2025-01-02T15:31:35.764583Z",
     "iopub.status.busy": "2025-01-02T15:31:35.764412Z",
     "iopub.status.idle": "2025-01-02T15:31:36.716439Z",
     "shell.execute_reply": "2025-01-02T15:31:36.715983Z"
    }
   },
   "outputs": [],
   "source": [
    "import pandas\n",
    "import seaborn\n",
    "import time\n",
    "\n",
    "from lib.compiler import Compiler\n",
    "from lib.models.generic_v0.model import mappable_params\n",
    "\n",
    "from lib.models.aft20barzur import BitcoinSM as AFT20BarZur\n",
    "from lib.models.fc16sapirshtein import BitcoinSM as FC16Sapirshtein\n",
    "\n",
    "from lib.models.generic_v1 import protocols as g1\n",
    "from lib.models.generic_v1.model import SingleAgent as G1Model\n",
    "\n",
    "from lib.models.generic_v0.bitcoin import Bitcoin as G0Bitcoin\n",
    "from lib.models.generic_v0.model import SelfishMining as G0Model"
   ]
  },
  {
   "cell_type": "code",
   "execution_count": 2,
   "id": "09c0bd5a-eca0-4a38-9caf-b99660c8bef0",
   "metadata": {
    "execution": {
     "iopub.execute_input": "2025-01-02T15:31:36.718812Z",
     "iopub.status.busy": "2025-01-02T15:31:36.718574Z",
     "iopub.status.idle": "2025-01-02T15:31:36.736896Z",
     "shell.execute_reply": "2025-01-02T15:31:36.736392Z"
    }
   },
   "outputs": [
    {
     "data": {
      "text/html": [
       "<div>\n",
       "<style scoped>\n",
       "    .dataframe tbody tr th:only-of-type {\n",
       "        vertical-align: middle;\n",
       "    }\n",
       "\n",
       "    .dataframe tbody tr th {\n",
       "        vertical-align: top;\n",
       "    }\n",
       "\n",
       "    .dataframe thead th {\n",
       "        text-align: right;\n",
       "    }\n",
       "</style>\n",
       "<table border=\"1\" class=\"dataframe\">\n",
       "  <thead>\n",
       "    <tr style=\"text-align: right;\">\n",
       "      <th></th>\n",
       "      <th>scenario</th>\n",
       "      <th>model</th>\n",
       "      <th>force_consider_own</th>\n",
       "      <th>merge_isomorphic</th>\n",
       "      <th>truncate_common_chain</th>\n",
       "      <th>collect_garbage</th>\n",
       "      <th>reward_common_chain</th>\n",
       "      <th>protocol</th>\n",
       "    </tr>\n",
       "  </thead>\n",
       "  <tbody>\n",
       "    <tr>\n",
       "      <th>0</th>\n",
       "      <td>reference</td>\n",
       "      <td>fc16sapirshtein</td>\n",
       "      <td>True</td>\n",
       "      <td>True</td>\n",
       "      <td>True</td>\n",
       "      <td>True</td>\n",
       "      <td>True</td>\n",
       "      <td>bitcoin</td>\n",
       "    </tr>\n",
       "    <tr>\n",
       "      <th>1</th>\n",
       "      <td>reference-aft20</td>\n",
       "      <td>aft20barzur</td>\n",
       "      <td>True</td>\n",
       "      <td>True</td>\n",
       "      <td>True</td>\n",
       "      <td>True</td>\n",
       "      <td>True</td>\n",
       "      <td>bitcoin</td>\n",
       "    </tr>\n",
       "    <tr>\n",
       "      <th>2</th>\n",
       "      <td>baseline</td>\n",
       "      <td>generic_1</td>\n",
       "      <td>False</td>\n",
       "      <td>False</td>\n",
       "      <td>True</td>\n",
       "      <td>True</td>\n",
       "      <td>False</td>\n",
       "      <td>bitcoin</td>\n",
       "    </tr>\n",
       "    <tr>\n",
       "      <th>3</th>\n",
       "      <td>baseline</td>\n",
       "      <td>generic_1</td>\n",
       "      <td>False</td>\n",
       "      <td>False</td>\n",
       "      <td>True</td>\n",
       "      <td>True</td>\n",
       "      <td>False</td>\n",
       "      <td>ethereum_3</td>\n",
       "    </tr>\n",
       "    <tr>\n",
       "      <th>4</th>\n",
       "      <td>baseline</td>\n",
       "      <td>generic_1</td>\n",
       "      <td>False</td>\n",
       "      <td>False</td>\n",
       "      <td>True</td>\n",
       "      <td>True</td>\n",
       "      <td>False</td>\n",
       "      <td>byzantium_3</td>\n",
       "    </tr>\n",
       "    <tr>\n",
       "      <th>5</th>\n",
       "      <td>baseline</td>\n",
       "      <td>generic_1</td>\n",
       "      <td>False</td>\n",
       "      <td>False</td>\n",
       "      <td>True</td>\n",
       "      <td>True</td>\n",
       "      <td>False</td>\n",
       "      <td>ghostdag_3</td>\n",
       "    </tr>\n",
       "    <tr>\n",
       "      <th>6</th>\n",
       "      <td>baseline</td>\n",
       "      <td>generic_1</td>\n",
       "      <td>False</td>\n",
       "      <td>False</td>\n",
       "      <td>True</td>\n",
       "      <td>True</td>\n",
       "      <td>False</td>\n",
       "      <td>parallel_3</td>\n",
       "    </tr>\n",
       "    <tr>\n",
       "      <th>7</th>\n",
       "      <td>w/ force consider</td>\n",
       "      <td>generic_1</td>\n",
       "      <td>True</td>\n",
       "      <td>False</td>\n",
       "      <td>True</td>\n",
       "      <td>True</td>\n",
       "      <td>False</td>\n",
       "      <td>bitcoin</td>\n",
       "    </tr>\n",
       "    <tr>\n",
       "      <th>8</th>\n",
       "      <td>w/ force consider</td>\n",
       "      <td>generic_1</td>\n",
       "      <td>True</td>\n",
       "      <td>False</td>\n",
       "      <td>True</td>\n",
       "      <td>True</td>\n",
       "      <td>False</td>\n",
       "      <td>ethereum_3</td>\n",
       "    </tr>\n",
       "    <tr>\n",
       "      <th>9</th>\n",
       "      <td>w/ force consider</td>\n",
       "      <td>generic_1</td>\n",
       "      <td>True</td>\n",
       "      <td>False</td>\n",
       "      <td>True</td>\n",
       "      <td>True</td>\n",
       "      <td>False</td>\n",
       "      <td>byzantium_3</td>\n",
       "    </tr>\n",
       "    <tr>\n",
       "      <th>10</th>\n",
       "      <td>w/ force consider</td>\n",
       "      <td>generic_1</td>\n",
       "      <td>True</td>\n",
       "      <td>False</td>\n",
       "      <td>True</td>\n",
       "      <td>True</td>\n",
       "      <td>False</td>\n",
       "      <td>ghostdag_3</td>\n",
       "    </tr>\n",
       "    <tr>\n",
       "      <th>11</th>\n",
       "      <td>w/ force consider</td>\n",
       "      <td>generic_1</td>\n",
       "      <td>True</td>\n",
       "      <td>False</td>\n",
       "      <td>True</td>\n",
       "      <td>True</td>\n",
       "      <td>False</td>\n",
       "      <td>parallel_3</td>\n",
       "    </tr>\n",
       "    <tr>\n",
       "      <th>12</th>\n",
       "      <td>w/ normalization</td>\n",
       "      <td>generic_1</td>\n",
       "      <td>False</td>\n",
       "      <td>True</td>\n",
       "      <td>True</td>\n",
       "      <td>True</td>\n",
       "      <td>False</td>\n",
       "      <td>bitcoin</td>\n",
       "    </tr>\n",
       "    <tr>\n",
       "      <th>13</th>\n",
       "      <td>w/ normalization</td>\n",
       "      <td>generic_1</td>\n",
       "      <td>False</td>\n",
       "      <td>True</td>\n",
       "      <td>True</td>\n",
       "      <td>True</td>\n",
       "      <td>False</td>\n",
       "      <td>ethereum_3</td>\n",
       "    </tr>\n",
       "    <tr>\n",
       "      <th>14</th>\n",
       "      <td>w/ normalization</td>\n",
       "      <td>generic_1</td>\n",
       "      <td>False</td>\n",
       "      <td>True</td>\n",
       "      <td>True</td>\n",
       "      <td>True</td>\n",
       "      <td>False</td>\n",
       "      <td>byzantium_3</td>\n",
       "    </tr>\n",
       "    <tr>\n",
       "      <th>15</th>\n",
       "      <td>w/ normalization</td>\n",
       "      <td>generic_1</td>\n",
       "      <td>False</td>\n",
       "      <td>True</td>\n",
       "      <td>True</td>\n",
       "      <td>True</td>\n",
       "      <td>False</td>\n",
       "      <td>ghostdag_3</td>\n",
       "    </tr>\n",
       "    <tr>\n",
       "      <th>16</th>\n",
       "      <td>w/ normalization</td>\n",
       "      <td>generic_1</td>\n",
       "      <td>False</td>\n",
       "      <td>True</td>\n",
       "      <td>True</td>\n",
       "      <td>True</td>\n",
       "      <td>False</td>\n",
       "      <td>parallel_3</td>\n",
       "    </tr>\n",
       "    <tr>\n",
       "      <th>17</th>\n",
       "      <td>w/ both</td>\n",
       "      <td>generic_1</td>\n",
       "      <td>True</td>\n",
       "      <td>True</td>\n",
       "      <td>True</td>\n",
       "      <td>True</td>\n",
       "      <td>False</td>\n",
       "      <td>bitcoin</td>\n",
       "    </tr>\n",
       "    <tr>\n",
       "      <th>18</th>\n",
       "      <td>w/ both</td>\n",
       "      <td>generic_1</td>\n",
       "      <td>True</td>\n",
       "      <td>True</td>\n",
       "      <td>True</td>\n",
       "      <td>True</td>\n",
       "      <td>False</td>\n",
       "      <td>ethereum_3</td>\n",
       "    </tr>\n",
       "    <tr>\n",
       "      <th>19</th>\n",
       "      <td>w/ both</td>\n",
       "      <td>generic_1</td>\n",
       "      <td>True</td>\n",
       "      <td>True</td>\n",
       "      <td>True</td>\n",
       "      <td>True</td>\n",
       "      <td>False</td>\n",
       "      <td>byzantium_3</td>\n",
       "    </tr>\n",
       "    <tr>\n",
       "      <th>20</th>\n",
       "      <td>w/ both</td>\n",
       "      <td>generic_1</td>\n",
       "      <td>True</td>\n",
       "      <td>True</td>\n",
       "      <td>True</td>\n",
       "      <td>True</td>\n",
       "      <td>False</td>\n",
       "      <td>ghostdag_3</td>\n",
       "    </tr>\n",
       "    <tr>\n",
       "      <th>21</th>\n",
       "      <td>w/ both</td>\n",
       "      <td>generic_1</td>\n",
       "      <td>True</td>\n",
       "      <td>True</td>\n",
       "      <td>True</td>\n",
       "      <td>True</td>\n",
       "      <td>False</td>\n",
       "      <td>parallel_3</td>\n",
       "    </tr>\n",
       "  </tbody>\n",
       "</table>\n",
       "</div>"
      ],
      "text/plain": [
       "             scenario            model  force_consider_own  merge_isomorphic  \\\n",
       "0           reference  fc16sapirshtein                True              True   \n",
       "1     reference-aft20      aft20barzur                True              True   \n",
       "2            baseline        generic_1               False             False   \n",
       "3            baseline        generic_1               False             False   \n",
       "4            baseline        generic_1               False             False   \n",
       "5            baseline        generic_1               False             False   \n",
       "6            baseline        generic_1               False             False   \n",
       "7   w/ force consider        generic_1                True             False   \n",
       "8   w/ force consider        generic_1                True             False   \n",
       "9   w/ force consider        generic_1                True             False   \n",
       "10  w/ force consider        generic_1                True             False   \n",
       "11  w/ force consider        generic_1                True             False   \n",
       "12   w/ normalization        generic_1               False              True   \n",
       "13   w/ normalization        generic_1               False              True   \n",
       "14   w/ normalization        generic_1               False              True   \n",
       "15   w/ normalization        generic_1               False              True   \n",
       "16   w/ normalization        generic_1               False              True   \n",
       "17            w/ both        generic_1                True              True   \n",
       "18            w/ both        generic_1                True              True   \n",
       "19            w/ both        generic_1                True              True   \n",
       "20            w/ both        generic_1                True              True   \n",
       "21            w/ both        generic_1                True              True   \n",
       "\n",
       "    truncate_common_chain  collect_garbage  reward_common_chain     protocol  \n",
       "0                    True             True                 True      bitcoin  \n",
       "1                    True             True                 True      bitcoin  \n",
       "2                    True             True                False      bitcoin  \n",
       "3                    True             True                False   ethereum_3  \n",
       "4                    True             True                False  byzantium_3  \n",
       "5                    True             True                False   ghostdag_3  \n",
       "6                    True             True                False   parallel_3  \n",
       "7                    True             True                False      bitcoin  \n",
       "8                    True             True                False   ethereum_3  \n",
       "9                    True             True                False  byzantium_3  \n",
       "10                   True             True                False   ghostdag_3  \n",
       "11                   True             True                False   parallel_3  \n",
       "12                   True             True                False      bitcoin  \n",
       "13                   True             True                False   ethereum_3  \n",
       "14                   True             True                False  byzantium_3  \n",
       "15                   True             True                False   ghostdag_3  \n",
       "16                   True             True                False   parallel_3  \n",
       "17                   True             True                False      bitcoin  \n",
       "18                   True             True                False   ethereum_3  \n",
       "19                   True             True                False  byzantium_3  \n",
       "20                   True             True                False   ghostdag_3  \n",
       "21                   True             True                False   parallel_3  "
      ]
     },
     "execution_count": 2,
     "metadata": {},
     "output_type": "execute_result"
    }
   ],
   "source": [
    "network = mappable_params\n",
    "\n",
    "models = []\n",
    "implicit_mdps = []\n",
    "\n",
    "\n",
    "def add_model(*, implicit_mdp, **model):\n",
    "    models.append(model)\n",
    "    implicit_mdps.append(implicit_mdp)\n",
    "\n",
    "\n",
    "# related work comparison\n",
    "add_model(\n",
    "    scenario=\"reference\",\n",
    "    model=\"fc16sapirshtein\",\n",
    "    force_consider_own=True,\n",
    "    merge_isomorphic=True,\n",
    "    truncate_common_chain=True,\n",
    "    collect_garbage=True,\n",
    "    reward_common_chain=True,\n",
    "    protocol=\"bitcoin\",\n",
    "    implicit_mdp=lambda c: FC16Sapirshtein(\n",
    "        **network,\n",
    "        maximum_dag_size=c,\n",
    "        maximum_fork_length=0,\n",
    "    ),\n",
    ")\n",
    "\n",
    "add_model(\n",
    "    scenario=\"reference-aft20\",\n",
    "    model=\"aft20barzur\",\n",
    "    force_consider_own=True,\n",
    "    merge_isomorphic=True,\n",
    "    truncate_common_chain=True,\n",
    "    collect_garbage=True,\n",
    "    reward_common_chain=True,\n",
    "    protocol=\"bitcoin\",\n",
    "    implicit_mdp=lambda c: AFT20BarZur(\n",
    "        **network, maximum_dag_size=c, maximum_fork_length=0\n",
    "    ),\n",
    ")\n",
    "\n",
    "\n",
    "def _():\n",
    "    pass\n",
    "\n",
    "    add_model(\n",
    "        scenario=\"reference-v0\",\n",
    "        model=\"generic_0\",\n",
    "        force_consider_own=True,\n",
    "        merge_isomorphic=True,\n",
    "        truncate_common_chain=True,\n",
    "        collect_garbage=True,\n",
    "        reward_common_chain=True,\n",
    "        protocol=\"bitcoin\",\n",
    "        implicit_mdp=lambda c: G0Model(\n",
    "            G0Bitcoin(),\n",
    "            **network,\n",
    "            maximum_size=c,\n",
    "            force_consider_own=True,\n",
    "            merge_isomorphic=True,\n",
    "        ),\n",
    "    )\n",
    "\n",
    "\n",
    "# our baseline: garbage collection + common chain truncation\n",
    "# we want to compare to:\n",
    "# - no common chain truncation (all infinite)\n",
    "# - no garbage collection (infinite for protocols that allow stale blocks)\n",
    "# - plus force-consider-own\n",
    "# - plus merge-isomorphic\n",
    "# - plus both\n",
    "\n",
    "\n",
    "def add_scenario(\n",
    "    scenario,\n",
    "    *,\n",
    "    collect_garbage=True,\n",
    "    truncate_common_chain=True,\n",
    "    force_consider_own=False,\n",
    "    merge_isomorphic=False,\n",
    "):\n",
    "    def f(protocol_s, protocol_C, **protocol_args):\n",
    "        model_args = dict(\n",
    "            force_consider_own=force_consider_own,\n",
    "            merge_isomorphic=merge_isomorphic,\n",
    "            truncate_common_chain=truncate_common_chain,\n",
    "            collect_garbage=collect_garbage,\n",
    "            reward_common_chain=False,\n",
    "        )\n",
    "        add_model(\n",
    "            scenario=scenario,\n",
    "            model=\"generic_1\",\n",
    "            protocol=protocol_s,\n",
    "            **model_args,\n",
    "            implicit_mdp=lambda c: G1Model(\n",
    "                protocol_C,\n",
    "                **protocol_args,\n",
    "                **network,\n",
    "                **model_args,\n",
    "                dag_size_cutoff=c,\n",
    "            ),\n",
    "        )\n",
    "\n",
    "    f(\"bitcoin\", g1.Bitcoin)\n",
    "    f(\"ethereum_3\", g1.Ethereum, h=3)\n",
    "    f(\"byzantium_3\", g1.Byzantium, h=3)\n",
    "    f(\"ghostdag_3\", g1.Ghostdag, k=3)\n",
    "    f(\"parallel_3\", g1.Parallel, k=3)\n",
    "\n",
    "\n",
    "add_scenario(\"baseline\")\n",
    "# add_scenario(\"w/o collect garbage\", collect_garbage=False)\n",
    "# add_scenario(\"w/o truncate\", truncate_common_chain=False)\n",
    "add_scenario(\"w/ force consider\", force_consider_own=True)\n",
    "add_scenario(\"w/ normalization\", merge_isomorphic=True)\n",
    "add_scenario(\"w/ both\", force_consider_own=True, merge_isomorphic=True)\n",
    "\n",
    "models = pandas.DataFrame(models)\n",
    "models"
   ]
  },
  {
   "cell_type": "code",
   "execution_count": 3,
   "id": "0eefcfab-91a2-4db9-b1fa-202fed55f287",
   "metadata": {
    "execution": {
     "iopub.execute_input": "2025-01-02T15:31:36.738834Z",
     "iopub.status.busy": "2025-01-02T15:31:36.738656Z",
     "iopub.status.idle": "2025-01-02T15:31:36.855607Z",
     "shell.execute_reply": "2025-01-02T15:31:36.854967Z"
    }
   },
   "outputs": [],
   "source": [
    "!mkdir -p 5-generated-mdps"
   ]
  },
  {
   "cell_type": "code",
   "execution_count": 4,
   "id": "800a7726-5461-416d-a07b-1b718a70a472",
   "metadata": {
    "execution": {
     "iopub.execute_input": "2025-01-02T15:31:36.858154Z",
     "iopub.status.busy": "2025-01-02T15:31:36.857997Z",
     "iopub.status.idle": "2025-01-02T15:31:36.864259Z",
     "shell.execute_reply": "2025-01-02T15:31:36.863801Z"
    }
   },
   "outputs": [],
   "source": [
    "from IPython.display import display, clear_output\n",
    "import gc\n",
    "import psutil\n",
    "import pickle\n",
    "import gzip\n",
    "\n",
    "max_size = 100000\n",
    "# max_size = 10000\n",
    "aborts = []\n",
    "size_log = []\n",
    "\n",
    "\n",
    "def get_rss():\n",
    "    gc.collect()\n",
    "    return psutil.Process().memory_info().rss / 1024**3  # GiB\n",
    "\n",
    "\n",
    "def explore(m):\n",
    "    c = Compiler(m)\n",
    "    while not_done := c.explore(steps=1000):\n",
    "        if c.n_states > max_size:\n",
    "            break\n",
    "    done = not not_done\n",
    "    return (done, c)\n",
    "\n",
    "\n",
    "def explore_row_limit(idx, row, dag_size_limit):\n",
    "    m = implicit_mdps[idx](dag_size_limit)\n",
    "    start_time = time.monotonic()\n",
    "    done, c = explore(m)\n",
    "\n",
    "    info = row.to_dict() | dict(\n",
    "        dag_size_limit=dag_size_limit,\n",
    "        size=c.n_states,\n",
    "        time_spent=time.monotonic() - start_time,\n",
    "        rss=get_rss(),\n",
    "    )\n",
    "\n",
    "    # report to stdout\n",
    "    print(\n",
    "        \"\\r\"\n",
    "        + \"\\t\".join(\n",
    "            [\n",
    "                f\"{k}: {info[k]}\"\n",
    "                for k in [\n",
    "                    \"scenario\",\n",
    "                    \"protocol\",\n",
    "                    \"dag_size_limit\",\n",
    "                    \"size\",\n",
    "                    \"time_spent\",\n",
    "                    \"rss\",\n",
    "                ]\n",
    "            ]\n",
    "            + [f\"done: {done}                      \"]\n",
    "        ),\n",
    "        end=\"\",\n",
    "    )\n",
    "\n",
    "    if not done:\n",
    "        aborts.append(info)\n",
    "    else:\n",
    "        mdp_key = format(abs(hash(frozenset(info.items()))), \"08x\")[0:8]\n",
    "        size_log.append(info | dict(mdp=mdp_key))\n",
    "        with gzip.open(f\"5-generated-mdps/mdp-{mdp_key}.pkl.gz\", \"wb\") as f:\n",
    "            pickle.dump(c.mdp(finish_exploration=False), f)\n",
    "\n",
    "    return done"
   ]
  },
  {
   "cell_type": "code",
   "execution_count": 5,
   "id": "713d8cf0-1c0c-453f-ba9d-578b2b925a9e",
   "metadata": {
    "execution": {
     "iopub.execute_input": "2025-01-02T15:31:36.866336Z",
     "iopub.status.busy": "2025-01-02T15:31:36.866166Z",
     "iopub.status.idle": "2025-01-02T16:40:21.185850Z",
     "shell.execute_reply": "2025-01-02T16:40:21.185410Z"
    }
   },
   "outputs": [
    {
     "name": "stdout",
     "output_type": "stream",
     "text": [
      "\r",
      "scenario: reference\tprotocol: bitcoin\tdag_size_limit: 2\tsize: 3\ttime_spent: 0.00022458300009020604\trss: 0.1729888916015625\tdone: True                      "
     ]
    },
    {
     "name": "stdout",
     "output_type": "stream",
     "text": [
      "\r",
      "scenario: reference\tprotocol: bitcoin\tdag_size_limit: 3\tsize: 9\ttime_spent: 0.00035453700002108235\trss: 0.1731109619140625\tdone: True                      \r",
      "scenario: reference\tprotocol: bitcoin\tdag_size_limit: 4\tsize: 18\ttime_spent: 0.0006181530006870162\trss: 0.1731109619140625\tdone: True                      \r",
      "scenario: reference\tprotocol: bitcoin\tdag_size_limit: 5\tsize: 31\ttime_spent: 0.0010449250003148336\trss: 0.1731109619140625\tdone: True                      "
     ]
    },
    {
     "name": "stdout",
     "output_type": "stream",
     "text": [
      "\r",
      "scenario: reference\tprotocol: bitcoin\tdag_size_limit: 6\tsize: 47\ttime_spent: 0.001619716000277549\trss: 0.1732330322265625\tdone: True                      "
     ]
    },
    {
     "name": "stdout",
     "output_type": "stream",
     "text": [
      "\r",
      "scenario: reference\tprotocol: bitcoin\tdag_size_limit: 7\tsize: 67\ttime_spent: 0.0024110439990181476\trss: 0.1733551025390625\tdone: True                      \r",
      "scenario: reference\tprotocol: bitcoin\tdag_size_limit: 8\tsize: 90\ttime_spent: 0.003221729000870255\trss: 0.1733551025390625\tdone: True                      "
     ]
    },
    {
     "name": "stdout",
     "output_type": "stream",
     "text": [
      "\r",
      "scenario: reference\tprotocol: bitcoin\tdag_size_limit: 9\tsize: 117\ttime_spent: 0.004092746999958763\trss: 0.1733551025390625\tdone: True                      "
     ]
    },
    {
     "name": "stdout",
     "output_type": "stream",
     "text": [
      "\r",
      "scenario: reference\tprotocol: bitcoin\tdag_size_limit: 10\tsize: 147\ttime_spent: 0.00497036799970374\trss: 0.1734771728515625\tdone: True                      \r",
      "scenario: reference\tprotocol: bitcoin\tdag_size_limit: 11\tsize: 181\ttime_spent: 0.006142711999927997\trss: 0.1735992431640625\tdone: True                      "
     ]
    },
    {
     "name": "stdout",
     "output_type": "stream",
     "text": [
      "\r",
      "scenario: reference\tprotocol: bitcoin\tdag_size_limit: 12\tsize: 218\ttime_spent: 0.0074398010001459625\trss: 0.1737213134765625\tdone: True                      "
     ]
    },
    {
     "name": "stdout",
     "output_type": "stream",
     "text": [
      "\r",
      "scenario: reference\tprotocol: bitcoin\tdag_size_limit: 13\tsize: 259\ttime_spent: 0.008787906999714323\trss: 0.1737213134765625\tdone: True                      \r",
      "scenario: reference\tprotocol: bitcoin\tdag_size_limit: 14\tsize: 303\ttime_spent: 0.010305691001121886\trss: 0.1739654541015625\tdone: True                      "
     ]
    },
    {
     "name": "stdout",
     "output_type": "stream",
     "text": [
      "\r",
      "scenario: reference\tprotocol: bitcoin\tdag_size_limit: 15\tsize: 351\ttime_spent: 0.012210763999974006\trss: 0.1739654541015625\tdone: True                      "
     ]
    },
    {
     "name": "stdout",
     "output_type": "stream",
     "text": [
      "\r",
      "scenario: reference\tprotocol: bitcoin\tdag_size_limit: 16\tsize: 402\ttime_spent: 0.013835029001711519\trss: 0.1740875244140625\tdone: True                      \r",
      "scenario: reference\tprotocol: bitcoin\tdag_size_limit: 17\tsize: 457\ttime_spent: 0.016528775000551832\trss: 0.1746978759765625\tdone: True                      "
     ]
    },
    {
     "name": "stdout",
     "output_type": "stream",
     "text": [
      "\r",
      "scenario: reference\tprotocol: bitcoin\tdag_size_limit: 18\tsize: 515\ttime_spent: 0.018471538000085275\trss: 0.1746978759765625\tdone: True                      "
     ]
    },
    {
     "name": "stdout",
     "output_type": "stream",
     "text": [
      "\r",
      "scenario: reference\tprotocol: bitcoin\tdag_size_limit: 19\tsize: 577\ttime_spent: 0.020278836998841143\trss: 0.1748199462890625\tdone: True                      \r",
      "scenario: reference-aft20\tprotocol: bitcoin\tdag_size_limit: 2\tsize: 3\ttime_spent: 0.00014265900063037407\trss: 0.1748199462890625\tdone: True                      "
     ]
    },
    {
     "name": "stdout",
     "output_type": "stream",
     "text": [
      "\r",
      "scenario: reference-aft20\tprotocol: bitcoin\tdag_size_limit: 3\tsize: 8\ttime_spent: 0.0002476149984431686\trss: 0.1748199462890625\tdone: True                      "
     ]
    },
    {
     "name": "stdout",
     "output_type": "stream",
     "text": [
      "\r",
      "scenario: reference-aft20\tprotocol: bitcoin\tdag_size_limit: 4\tsize: 15\ttime_spent: 0.0004165230002399767\trss: 0.1748199462890625\tdone: True                      \r",
      "scenario: reference-aft20\tprotocol: bitcoin\tdag_size_limit: 5\tsize: 25\ttime_spent: 0.0006905379996169358\trss: 0.1748199462890625\tdone: True                      \r",
      "scenario: reference-aft20\tprotocol: bitcoin\tdag_size_limit: 6\tsize: 37\ttime_spent: 0.0009268529993278207\trss: 0.1748199462890625\tdone: True                      "
     ]
    },
    {
     "name": "stdout",
     "output_type": "stream",
     "text": [
      "\r",
      "scenario: reference-aft20\tprotocol: bitcoin\tdag_size_limit: 7\tsize: 52\ttime_spent: 0.001315845000135596\trss: 0.1748199462890625\tdone: True                      "
     ]
    },
    {
     "name": "stdout",
     "output_type": "stream",
     "text": [
      "\r",
      "scenario: reference-aft20\tprotocol: bitcoin\tdag_size_limit: 8\tsize: 69\ttime_spent: 0.0017382389996782877\trss: 0.1748199462890625\tdone: True                      \r",
      "scenario: reference-aft20\tprotocol: bitcoin\tdag_size_limit: 9\tsize: 89\ttime_spent: 0.0022269780001806794\trss: 0.1748199462890625\tdone: True                      "
     ]
    },
    {
     "name": "stdout",
     "output_type": "stream",
     "text": [
      "\r",
      "scenario: reference-aft20\tprotocol: bitcoin\tdag_size_limit: 10\tsize: 111\ttime_spent: 0.0028155550007795682\trss: 0.1748199462890625\tdone: True                      "
     ]
    },
    {
     "name": "stdout",
     "output_type": "stream",
     "text": [
      "\r",
      "scenario: reference-aft20\tprotocol: bitcoin\tdag_size_limit: 11\tsize: 136\ttime_spent: 0.0033176100005221087\trss: 0.1748199462890625\tdone: True                      \r",
      "scenario: reference-aft20\tprotocol: bitcoin\tdag_size_limit: 12\tsize: 163\ttime_spent: 0.004016434000732261\trss: 0.1748199462890625\tdone: True                      "
     ]
    },
    {
     "name": "stdout",
     "output_type": "stream",
     "text": [
      "\r",
      "scenario: reference-aft20\tprotocol: bitcoin\tdag_size_limit: 13\tsize: 193\ttime_spent: 0.004775581001013052\trss: 0.1748199462890625\tdone: True                      "
     ]
    },
    {
     "name": "stdout",
     "output_type": "stream",
     "text": [
      "\r",
      "scenario: reference-aft20\tprotocol: bitcoin\tdag_size_limit: 14\tsize: 225\ttime_spent: 0.005354088998501538\trss: 0.1748199462890625\tdone: True                      \r",
      "scenario: reference-aft20\tprotocol: bitcoin\tdag_size_limit: 15\tsize: 260\ttime_spent: 0.006632132999584428\trss: 0.1748199462890625\tdone: True                      "
     ]
    },
    {
     "name": "stdout",
     "output_type": "stream",
     "text": [
      "\r",
      "scenario: reference-aft20\tprotocol: bitcoin\tdag_size_limit: 16\tsize: 297\ttime_spent: 0.007510194000133197\trss: 0.1748199462890625\tdone: True                      "
     ]
    },
    {
     "name": "stdout",
     "output_type": "stream",
     "text": [
      "\r",
      "scenario: reference-aft20\tprotocol: bitcoin\tdag_size_limit: 17\tsize: 337\ttime_spent: 0.00832746100059012\trss: 0.1748199462890625\tdone: True                      \r",
      "scenario: reference-aft20\tprotocol: bitcoin\tdag_size_limit: 18\tsize: 379\ttime_spent: 0.012406363000991405\trss: 0.1748199462890625\tdone: True                      "
     ]
    },
    {
     "name": "stdout",
     "output_type": "stream",
     "text": [
      "\r",
      "scenario: reference-aft20\tprotocol: bitcoin\tdag_size_limit: 19\tsize: 424\ttime_spent: 0.012715713999568834\trss: 0.1748199462890625\tdone: True                      "
     ]
    },
    {
     "name": "stdout",
     "output_type": "stream",
     "text": [
      "\r",
      "scenario: baseline\tprotocol: bitcoin\tdag_size_limit: 2\tsize: 6\ttime_spent: 0.0028264249995118007\trss: 0.1748199462890625\tdone: True                      \r",
      "scenario: baseline\tprotocol: bitcoin\tdag_size_limit: 3\tsize: 34\ttime_spent: 0.010298918999978923\trss: 0.1748199462890625\tdone: True                      "
     ]
    },
    {
     "name": "stdout",
     "output_type": "stream",
     "text": [
      "\r",
      "scenario: baseline\tprotocol: bitcoin\tdag_size_limit: 4\tsize: 267\ttime_spent: 0.09439484500035178\trss: 0.1762847900390625\tdone: True                      "
     ]
    },
    {
     "name": "stdout",
     "output_type": "stream",
     "text": [
      "\r",
      "scenario: baseline\tprotocol: bitcoin\tdag_size_limit: 5\tsize: 2332\ttime_spent: 1.2796306870004628\trss: 0.1909332275390625\tdone: True                      "
     ]
    },
    {
     "name": "stdout",
     "output_type": "stream",
     "text": [
      "\r",
      "scenario: baseline\tprotocol: bitcoin\tdag_size_limit: 6\tsize: 21327\ttime_spent: 17.42204475700055\trss: 0.3449859619140625\tdone: True                      "
     ]
    },
    {
     "name": "stdout",
     "output_type": "stream",
     "text": [
      "\r",
      "scenario: baseline\tprotocol: bitcoin\tdag_size_limit: 7\tsize: 100733\ttime_spent: 69.70458537300146\trss: 0.9971237182617188\tdone: False                      "
     ]
    },
    {
     "name": "stdout",
     "output_type": "stream",
     "text": [
      "\r",
      "scenario: baseline\tprotocol: ethereum_3\tdag_size_limit: 2\tsize: 6\ttime_spent: 0.0026791489999595797\trss: 0.21912002563476562\tdone: True                      \r",
      "scenario: baseline\tprotocol: ethereum_3\tdag_size_limit: 3\tsize: 45\ttime_spent: 0.01898057600010361\trss: 0.21545791625976562\tdone: True                      "
     ]
    },
    {
     "name": "stdout",
     "output_type": "stream",
     "text": [
      "\r",
      "scenario: baseline\tprotocol: ethereum_3\tdag_size_limit: 4\tsize: 327\ttime_spent: 0.13758057300037763\trss: 0.21521377563476562\tdone: True                      "
     ]
    },
    {
     "name": "stdout",
     "output_type": "stream",
     "text": [
      "\r",
      "scenario: baseline\tprotocol: ethereum_3\tdag_size_limit: 5\tsize: 2981\ttime_spent: 1.7230636160002177\trss: 0.21502304077148438\tdone: True                      "
     ]
    },
    {
     "name": "stdout",
     "output_type": "stream",
     "text": [
      "\r",
      "scenario: baseline\tprotocol: ethereum_3\tdag_size_limit: 6\tsize: 32961\ttime_spent: 24.555597983999178\trss: 0.4440269470214844\tdone: True                      "
     ]
    },
    {
     "name": "stdout",
     "output_type": "stream",
     "text": [
      "\r",
      "scenario: baseline\tprotocol: ethereum_3\tdag_size_limit: 7\tsize: 100084\ttime_spent: 71.2953923590012\trss: 0.9771614074707031\tdone: False                      "
     ]
    },
    {
     "name": "stdout",
     "output_type": "stream",
     "text": [
      "\r",
      "scenario: baseline\tprotocol: byzantium_3\tdag_size_limit: 2\tsize: 6\ttime_spent: 0.0025093200001720106\trss: 0.22635269165039062\tdone: True                      \r",
      "scenario: baseline\tprotocol: byzantium_3\tdag_size_limit: 3\tsize: 45\ttime_spent: 0.019702438001331757\trss: 0.22317886352539062\tdone: True                      "
     ]
    },
    {
     "name": "stdout",
     "output_type": "stream",
     "text": [
      "\r",
      "scenario: baseline\tprotocol: byzantium_3\tdag_size_limit: 4\tsize: 327\ttime_spent: 0.1410338440000487\trss: 0.22269058227539062\tdone: True                      "
     ]
    },
    {
     "name": "stdout",
     "output_type": "stream",
     "text": [
      "\r",
      "scenario: baseline\tprotocol: byzantium_3\tdag_size_limit: 5\tsize: 2981\ttime_spent: 1.7770291969991376\trss: 0.22208404541015625\tdone: True                      "
     ]
    },
    {
     "name": "stdout",
     "output_type": "stream",
     "text": [
      "\r",
      "scenario: baseline\tprotocol: byzantium_3\tdag_size_limit: 6\tsize: 33016\ttime_spent: 25.58739658200102\trss: 0.44510650634765625\tdone: True                      "
     ]
    },
    {
     "name": "stdout",
     "output_type": "stream",
     "text": [
      "\r",
      "scenario: baseline\tprotocol: byzantium_3\tdag_size_limit: 7\tsize: 100073\ttime_spent: 72.87999800299986\trss: 0.9772567749023438\tdone: False                      "
     ]
    },
    {
     "name": "stdout",
     "output_type": "stream",
     "text": [
      "\r",
      "scenario: baseline\tprotocol: ghostdag_3\tdag_size_limit: 2\tsize: 6\ttime_spent: 0.0023759709984005895\trss: 0.2286834716796875\tdone: True                      \r",
      "scenario: baseline\tprotocol: ghostdag_3\tdag_size_limit: 3\tsize: 45\ttime_spent: 0.0218271059984545\trss: 0.22361373901367188\tdone: True                      "
     ]
    },
    {
     "name": "stdout",
     "output_type": "stream",
     "text": [
      "\r",
      "scenario: baseline\tprotocol: ghostdag_3\tdag_size_limit: 4\tsize: 352\ttime_spent: 0.16983917099969403\trss: 0.22361373901367188\tdone: True                      "
     ]
    },
    {
     "name": "stdout",
     "output_type": "stream",
     "text": [
      "\r",
      "scenario: baseline\tprotocol: ghostdag_3\tdag_size_limit: 5\tsize: 3712\ttime_spent: 2.638316501999725\trss: 0.22336959838867188\tdone: True                      "
     ]
    },
    {
     "name": "stdout",
     "output_type": "stream",
     "text": [
      "\r",
      "scenario: baseline\tprotocol: ghostdag_3\tdag_size_limit: 6\tsize: 46966\ttime_spent: 42.34511794299942\trss: 0.5433158874511719\tdone: True                      "
     ]
    },
    {
     "name": "stdout",
     "output_type": "stream",
     "text": [
      "\r",
      "scenario: baseline\tprotocol: ghostdag_3\tdag_size_limit: 7\tsize: 100114\ttime_spent: 78.30811002100018\trss: 0.9423675537109375\tdone: False                      "
     ]
    },
    {
     "name": "stdout",
     "output_type": "stream",
     "text": [
      "\r",
      "scenario: baseline\tprotocol: parallel_3\tdag_size_limit: 2\tsize: 76\ttime_spent: 0.027900457000214374\trss: 0.4270172119140625\tdone: True                      \r",
      "scenario: baseline\tprotocol: parallel_3\tdag_size_limit: 3\tsize: 90\ttime_spent: 0.031276101999537786\trss: 0.2798004150390625\tdone: True                      "
     ]
    },
    {
     "name": "stdout",
     "output_type": "stream",
     "text": [
      "\r",
      "scenario: baseline\tprotocol: parallel_3\tdag_size_limit: 4\tsize: 206\ttime_spent: 0.07267849999880127\trss: 0.2756500244140625\tdone: True                      "
     ]
    },
    {
     "name": "stdout",
     "output_type": "stream",
     "text": [
      "\r",
      "scenario: baseline\tprotocol: parallel_3\tdag_size_limit: 5\tsize: 1189\ttime_spent: 0.59945236600106\trss: 0.2754364013671875\tdone: True                      "
     ]
    },
    {
     "name": "stdout",
     "output_type": "stream",
     "text": [
      "\r",
      "scenario: baseline\tprotocol: parallel_3\tdag_size_limit: 6\tsize: 9122\ttime_spent: 5.5488764239999\trss: 0.2727508544921875\tdone: True                      "
     ]
    },
    {
     "name": "stdout",
     "output_type": "stream",
     "text": [
      "\r",
      "scenario: baseline\tprotocol: parallel_3\tdag_size_limit: 7\tsize: 83355\ttime_spent: 61.97225921599966\trss: 0.9352264404296875\tdone: True                      "
     ]
    },
    {
     "name": "stdout",
     "output_type": "stream",
     "text": [
      "\r",
      "scenario: baseline\tprotocol: parallel_3\tdag_size_limit: 8\tsize: 100730\ttime_spent: 76.17689350500041\trss: 1.0866966247558594\tdone: False                      "
     ]
    },
    {
     "name": "stdout",
     "output_type": "stream",
     "text": [
      "\r",
      "scenario: w/ force consider\tprotocol: bitcoin\tdag_size_limit: 2\tsize: 5\ttime_spent: 0.0021747489990957547\trss: 0.23354339599609375\tdone: True                      \r",
      "scenario: w/ force consider\tprotocol: bitcoin\tdag_size_limit: 3\tsize: 21\ttime_spent: 0.00849038199885399\trss: 0.22621917724609375\tdone: True                      \r",
      "scenario: w/ force consider\tprotocol: bitcoin\tdag_size_limit: 4\tsize: 58\ttime_spent: 0.023400344000037876\trss: 0.22573089599609375\tdone: True                      "
     ]
    },
    {
     "name": "stdout",
     "output_type": "stream",
     "text": [
      "\r",
      "scenario: w/ force consider\tprotocol: bitcoin\tdag_size_limit: 5\tsize: 186\ttime_spent: 0.10543943099946773\trss: 0.22548675537109375\tdone: True                      "
     ]
    },
    {
     "name": "stdout",
     "output_type": "stream",
     "text": [
      "\r",
      "scenario: w/ force consider\tprotocol: bitcoin\tdag_size_limit: 6\tsize: 549\ttime_spent: 0.3111482149997755\trss: 0.22499847412109375\tdone: True                      "
     ]
    },
    {
     "name": "stdout",
     "output_type": "stream",
     "text": [
      "\r",
      "scenario: w/ force consider\tprotocol: bitcoin\tdag_size_limit: 7\tsize: 1650\ttime_spent: 1.1939946029997373\trss: 0.22487640380859375\tdone: True                      "
     ]
    },
    {
     "name": "stdout",
     "output_type": "stream",
     "text": [
      "\r",
      "scenario: w/ force consider\tprotocol: bitcoin\tdag_size_limit: 8\tsize: 4968\ttime_spent: 4.134301557000072\trss: 0.23195648193359375\tdone: True                      "
     ]
    },
    {
     "name": "stdout",
     "output_type": "stream",
     "text": [
      "\r",
      "scenario: w/ force consider\tprotocol: bitcoin\tdag_size_limit: 9\tsize: 15172\ttime_spent: 15.111234525000327\trss: 0.33400726318359375\tdone: True                      "
     ]
    },
    {
     "name": "stdout",
     "output_type": "stream",
     "text": [
      "\r",
      "scenario: w/ force consider\tprotocol: bitcoin\tdag_size_limit: 10\tsize: 46756\ttime_spent: 50.69779289899998\trss: 0.6748275756835938\tdone: True                      "
     ]
    },
    {
     "name": "stdout",
     "output_type": "stream",
     "text": [
      "\r",
      "scenario: w/ force consider\tprotocol: bitcoin\tdag_size_limit: 11\tsize: 100126\ttime_spent: 100.8684796890011\trss: 1.2706832885742188\tdone: False                      "
     ]
    },
    {
     "name": "stdout",
     "output_type": "stream",
     "text": [
      "\r",
      "scenario: w/ force consider\tprotocol: ethereum_3\tdag_size_limit: 2\tsize: 5\ttime_spent: 0.002402277999863145\trss: 0.23875045776367188\tdone: True                      \r",
      "scenario: w/ force consider\tprotocol: ethereum_3\tdag_size_limit: 3\tsize: 41\ttime_spent: 0.020398172999193775\trss: 0.23533248901367188\tdone: True                      \r",
      "scenario: w/ force consider\tprotocol: ethereum_3\tdag_size_limit: 4\tsize: 78\ttime_spent: 0.03515464600059204\trss: 0.23386764526367188\tdone: True                      "
     ]
    },
    {
     "name": "stdout",
     "output_type": "stream",
     "text": [
      "\r",
      "scenario: w/ force consider\tprotocol: ethereum_3\tdag_size_limit: 5\tsize: 290\ttime_spent: 0.1528525850008009\trss: 0.23386764526367188\tdone: True                      "
     ]
    },
    {
     "name": "stdout",
     "output_type": "stream",
     "text": [
      "\r",
      "scenario: w/ force consider\tprotocol: ethereum_3\tdag_size_limit: 6\tsize: 1179\ttime_spent: 0.761512262000906\trss: 0.23386764526367188\tdone: True                      "
     ]
    },
    {
     "name": "stdout",
     "output_type": "stream",
     "text": [
      "\r",
      "scenario: w/ force consider\tprotocol: ethereum_3\tdag_size_limit: 7\tsize: 4123\ttime_spent: 3.055986800998653\trss: 0.23145294189453125\tdone: True                      "
     ]
    },
    {
     "name": "stdout",
     "output_type": "stream",
     "text": [
      "\r",
      "scenario: w/ force consider\tprotocol: ethereum_3\tdag_size_limit: 8\tsize: 15257\ttime_spent: 12.685577215999729\trss: 0.32630157470703125\tdone: True                      "
     ]
    },
    {
     "name": "stdout",
     "output_type": "stream",
     "text": [
      "\r",
      "scenario: w/ force consider\tprotocol: ethereum_3\tdag_size_limit: 9\tsize: 57506\ttime_spent: 53.55633097300051\trss: 0.7574539184570312\tdone: True                      "
     ]
    },
    {
     "name": "stdout",
     "output_type": "stream",
     "text": [
      "\r",
      "scenario: w/ force consider\tprotocol: ethereum_3\tdag_size_limit: 10\tsize: 100450\ttime_spent: 91.61354734299857\trss: 1.2050323486328125\tdone: False                      "
     ]
    },
    {
     "name": "stdout",
     "output_type": "stream",
     "text": [
      "\r",
      "scenario: w/ force consider\tprotocol: byzantium_3\tdag_size_limit: 2\tsize: 5\ttime_spent: 0.002521232001527096\trss: 0.24853134155273438\tdone: True                      \r",
      "scenario: w/ force consider\tprotocol: byzantium_3\tdag_size_limit: 3\tsize: 41\ttime_spent: 0.02336123599889106\trss: 0.23974227905273438\tdone: True                      \r",
      "scenario: w/ force consider\tprotocol: byzantium_3\tdag_size_limit: 4\tsize: 78\ttime_spent: 0.03942403600012767\trss: 0.23778915405273438\tdone: True                      "
     ]
    },
    {
     "name": "stdout",
     "output_type": "stream",
     "text": [
      "\r",
      "scenario: w/ force consider\tprotocol: byzantium_3\tdag_size_limit: 5\tsize: 290\ttime_spent: 0.1711047030003101\trss: 0.23778915405273438\tdone: True                      "
     ]
    },
    {
     "name": "stdout",
     "output_type": "stream",
     "text": [
      "\r",
      "scenario: w/ force consider\tprotocol: byzantium_3\tdag_size_limit: 6\tsize: 1109\ttime_spent: 0.8083084829995641\trss: 0.23778915405273438\tdone: True                      "
     ]
    },
    {
     "name": "stdout",
     "output_type": "stream",
     "text": [
      "\r",
      "scenario: w/ force consider\tprotocol: byzantium_3\tdag_size_limit: 7\tsize: 3850\ttime_spent: 3.1644527270000253\trss: 0.23778915405273438\tdone: True                      "
     ]
    },
    {
     "name": "stdout",
     "output_type": "stream",
     "text": [
      "\r",
      "scenario: w/ force consider\tprotocol: byzantium_3\tdag_size_limit: 8\tsize: 14595\ttime_spent: 13.575193224000031\trss: 0.3223724365234375\tdone: True                      "
     ]
    },
    {
     "name": "stdout",
     "output_type": "stream",
     "text": [
      "\r",
      "scenario: w/ force consider\tprotocol: byzantium_3\tdag_size_limit: 9\tsize: 54285\ttime_spent: 56.11958820200016\trss: 0.7277679443359375\tdone: True                      "
     ]
    },
    {
     "name": "stdout",
     "output_type": "stream",
     "text": [
      "\r",
      "scenario: w/ force consider\tprotocol: byzantium_3\tdag_size_limit: 10\tsize: 100686\ttime_spent: 100.61917326500043\trss: 1.2091865539550781\tdone: False                      "
     ]
    },
    {
     "name": "stdout",
     "output_type": "stream",
     "text": [
      "\r",
      "scenario: w/ force consider\tprotocol: ghostdag_3\tdag_size_limit: 2\tsize: 5\ttime_spent: 0.0022503660002257675\trss: 0.2486724853515625\tdone: True                      \r",
      "scenario: w/ force consider\tprotocol: ghostdag_3\tdag_size_limit: 3\tsize: 23\ttime_spent: 0.011916027999177459\trss: 0.2421417236328125\tdone: True                      \r",
      "scenario: w/ force consider\tprotocol: ghostdag_3\tdag_size_limit: 4\tsize: 84\ttime_spent: 0.04754234299980453\trss: 0.2406768798828125\tdone: True                      "
     ]
    },
    {
     "name": "stdout",
     "output_type": "stream",
     "text": [
      "\r",
      "scenario: w/ force consider\tprotocol: ghostdag_3\tdag_size_limit: 5\tsize: 350\ttime_spent: 0.2636143149993586\trss: 0.2404327392578125\tdone: True                      "
     ]
    },
    {
     "name": "stdout",
     "output_type": "stream",
     "text": [
      "\r",
      "scenario: w/ force consider\tprotocol: ghostdag_3\tdag_size_limit: 6\tsize: 1527\ttime_spent: 1.4823224709998613\trss: 0.2401885986328125\tdone: True                      "
     ]
    },
    {
     "name": "stdout",
     "output_type": "stream",
     "text": [
      "\r",
      "scenario: w/ force consider\tprotocol: ghostdag_3\tdag_size_limit: 7\tsize: 6739\ttime_spent: 8.63039996200132\trss: 0.2434844970703125\tdone: True                      "
     ]
    },
    {
     "name": "stdout",
     "output_type": "stream",
     "text": [
      "\r",
      "scenario: w/ force consider\tprotocol: ghostdag_3\tdag_size_limit: 8\tsize: 31192\ttime_spent: 50.23718070799987\trss: 0.4640655517578125\tdone: True                      "
     ]
    },
    {
     "name": "stdout",
     "output_type": "stream",
     "text": [
      "\r",
      "scenario: w/ force consider\tprotocol: ghostdag_3\tdag_size_limit: 9\tsize: 100585\ttime_spent: 138.50444113999947\trss: 1.123565673828125\tdone: False                      "
     ]
    },
    {
     "name": "stdout",
     "output_type": "stream",
     "text": [
      "\r",
      "scenario: w/ force consider\tprotocol: parallel_3\tdag_size_limit: 2\tsize: 61\ttime_spent: 0.02488888000152656\trss: 0.42896270751953125\tdone: True                      \r",
      "scenario: w/ force consider\tprotocol: parallel_3\tdag_size_limit: 3\tsize: 69\ttime_spent: 0.027339297001162777\trss: 0.29224395751953125\tdone: True                      "
     ]
    },
    {
     "name": "stdout",
     "output_type": "stream",
     "text": [
      "\r",
      "scenario: w/ force consider\tprotocol: parallel_3\tdag_size_limit: 4\tsize: 119\ttime_spent: 0.04445079200013424\trss: 0.28516387939453125\tdone: True                      "
     ]
    },
    {
     "name": "stdout",
     "output_type": "stream",
     "text": [
      "\r",
      "scenario: w/ force consider\tprotocol: parallel_3\tdag_size_limit: 5\tsize: 470\ttime_spent: 0.1880797129997518\trss: 0.2844429016113281\tdone: True                      "
     ]
    },
    {
     "name": "stdout",
     "output_type": "stream",
     "text": [
      "\r",
      "scenario: w/ force consider\tprotocol: parallel_3\tdag_size_limit: 6\tsize: 2175\ttime_spent: 1.1420618339998327\trss: 0.2844429016113281\tdone: True                      "
     ]
    },
    {
     "name": "stdout",
     "output_type": "stream",
     "text": [
      "\r",
      "scenario: w/ force consider\tprotocol: parallel_3\tdag_size_limit: 7\tsize: 10337\ttime_spent: 5.937187796000217\trss: 0.28458404541015625\tdone: True                      "
     ]
    },
    {
     "name": "stdout",
     "output_type": "stream",
     "text": [
      "\r",
      "scenario: w/ force consider\tprotocol: parallel_3\tdag_size_limit: 8\tsize: 43562\ttime_spent: 30.525345818999995\trss: 0.6078262329101562\tdone: True                      "
     ]
    },
    {
     "name": "stdout",
     "output_type": "stream",
     "text": [
      "\r",
      "scenario: w/ force consider\tprotocol: parallel_3\tdag_size_limit: 9\tsize: 100662\ttime_spent: 75.61486281700127\trss: 1.1965446472167969\tdone: False                      "
     ]
    },
    {
     "name": "stdout",
     "output_type": "stream",
     "text": [
      "\r",
      "scenario: w/ normalization\tprotocol: bitcoin\tdag_size_limit: 2\tsize: 6\ttime_spent: 0.002955119000034756\trss: 0.2569389343261719\tdone: True                      \r",
      "scenario: w/ normalization\tprotocol: bitcoin\tdag_size_limit: 3\tsize: 45\ttime_spent: 0.01868195399947581\trss: 0.2508354187011719\tdone: True                      "
     ]
    },
    {
     "name": "stdout",
     "output_type": "stream",
     "text": [
      "\r",
      "scenario: w/ normalization\tprotocol: bitcoin\tdag_size_limit: 4\tsize: 198\ttime_spent: 0.09498594899923773\trss: 0.2503471374511719\tdone: True                      "
     ]
    },
    {
     "name": "stdout",
     "output_type": "stream",
     "text": [
      "\r",
      "scenario: w/ normalization\tprotocol: bitcoin\tdag_size_limit: 5\tsize: 1090\ttime_spent: 0.7591084760006197\trss: 0.2503471374511719\tdone: True                      "
     ]
    },
    {
     "name": "stdout",
     "output_type": "stream",
     "text": [
      "\r",
      "scenario: w/ normalization\tprotocol: bitcoin\tdag_size_limit: 6\tsize: 5724\ttime_spent: 5.274852418999217\trss: 0.24985885620117188\tdone: True                      "
     ]
    },
    {
     "name": "stdout",
     "output_type": "stream",
     "text": [
      "\r",
      "scenario: w/ normalization\tprotocol: bitcoin\tdag_size_limit: 7\tsize: 31532\ttime_spent: 38.39610923700093\trss: 0.4640998840332031\tdone: True                      "
     ]
    },
    {
     "name": "stdout",
     "output_type": "stream",
     "text": [
      "\r",
      "scenario: w/ normalization\tprotocol: bitcoin\tdag_size_limit: 8\tsize: 100188\ttime_spent: 139.29914170200027\trss: 1.0938987731933594\tdone: False                      "
     ]
    },
    {
     "name": "stdout",
     "output_type": "stream",
     "text": [
      "\r",
      "scenario: w/ normalization\tprotocol: ethereum_3\tdag_size_limit: 2\tsize: 6\ttime_spent: 0.0032399960000475403\trss: 0.26104736328125\tdone: True                      \r",
      "scenario: w/ normalization\tprotocol: ethereum_3\tdag_size_limit: 3\tsize: 78\ttime_spent: 0.04204756999934034\trss: 0.25640869140625\tdone: True                      "
     ]
    },
    {
     "name": "stdout",
     "output_type": "stream",
     "text": [
      "\r",
      "scenario: w/ normalization\tprotocol: ethereum_3\tdag_size_limit: 4\tsize: 231\ttime_spent: 0.133701643000677\trss: 0.25543212890625\tdone: True                      "
     ]
    },
    {
     "name": "stdout",
     "output_type": "stream",
     "text": [
      "\r",
      "scenario: w/ normalization\tprotocol: ethereum_3\tdag_size_limit: 5\tsize: 1480\ttime_spent: 1.1661041309998836\trss: 0.25518798828125\tdone: True                      "
     ]
    },
    {
     "name": "stdout",
     "output_type": "stream",
     "text": [
      "\r",
      "scenario: w/ normalization\tprotocol: ethereum_3\tdag_size_limit: 6\tsize: 10293\ttime_spent: 9.956226436999714\trss: 0.268951416015625\tdone: True                      "
     ]
    },
    {
     "name": "stdout",
     "output_type": "stream",
     "text": [
      "\r",
      "scenario: w/ normalization\tprotocol: ethereum_3\tdag_size_limit: 7\tsize: 77694\ttime_spent: 89.26413010400029\trss: 0.863067626953125\tdone: True                      "
     ]
    },
    {
     "name": "stdout",
     "output_type": "stream",
     "text": [
      "\r",
      "scenario: w/ normalization\tprotocol: ethereum_3\tdag_size_limit: 8\tsize: 100621\ttime_spent: 113.90966789999948\trss: 1.0466766357421875\tdone: False                      "
     ]
    },
    {
     "name": "stdout",
     "output_type": "stream",
     "text": [
      "\r",
      "scenario: w/ normalization\tprotocol: byzantium_3\tdag_size_limit: 2\tsize: 6\ttime_spent: 0.0032746459983172826\trss: 0.2657928466796875\tdone: True                      \r",
      "scenario: w/ normalization\tprotocol: byzantium_3\tdag_size_limit: 3\tsize: 78\ttime_spent: 0.04474949900031788\trss: 0.2616424560546875\tdone: True                      "
     ]
    },
    {
     "name": "stdout",
     "output_type": "stream",
     "text": [
      "\r",
      "scenario: w/ normalization\tprotocol: byzantium_3\tdag_size_limit: 4\tsize: 231\ttime_spent: 0.13307460800024273\trss: 0.2609100341796875\tdone: True                      "
     ]
    },
    {
     "name": "stdout",
     "output_type": "stream",
     "text": [
      "\r",
      "scenario: w/ normalization\tprotocol: byzantium_3\tdag_size_limit: 5\tsize: 1480\ttime_spent: 1.1422206700008246\trss: 0.2606658935546875\tdone: True                      "
     ]
    },
    {
     "name": "stdout",
     "output_type": "stream",
     "text": [
      "\r",
      "scenario: w/ normalization\tprotocol: byzantium_3\tdag_size_limit: 6\tsize: 9879\ttime_spent: 9.911419978001504\trss: 0.2649383544921875\tdone: True                      "
     ]
    },
    {
     "name": "stdout",
     "output_type": "stream",
     "text": [
      "\r",
      "scenario: w/ normalization\tprotocol: byzantium_3\tdag_size_limit: 7\tsize: 72420\ttime_spent: 88.13920327800042\trss: 0.8114471435546875\tdone: True                      "
     ]
    },
    {
     "name": "stdout",
     "output_type": "stream",
     "text": [
      "\r",
      "scenario: w/ normalization\tprotocol: byzantium_3\tdag_size_limit: 8\tsize: 100298\ttime_spent: 115.61322106700027\trss: 1.0496864318847656\tdone: False                      "
     ]
    },
    {
     "name": "stdout",
     "output_type": "stream",
     "text": [
      "\r",
      "scenario: w/ normalization\tprotocol: ghostdag_3\tdag_size_limit: 2\tsize: 6\ttime_spent: 0.002979404000143404\trss: 0.2673912048339844\tdone: True                      \r",
      "scenario: w/ normalization\tprotocol: ghostdag_3\tdag_size_limit: 3\tsize: 41\ttime_spent: 0.021061034000013024\trss: 0.2632408142089844\tdone: True                      "
     ]
    },
    {
     "name": "stdout",
     "output_type": "stream",
     "text": [
      "\r",
      "scenario: w/ normalization\tprotocol: ghostdag_3\tdag_size_limit: 4\tsize: 228\ttime_spent: 0.13991755600000033\trss: 0.2625083923339844\tdone: True                      "
     ]
    },
    {
     "name": "stdout",
     "output_type": "stream",
     "text": [
      "\r",
      "scenario: w/ normalization\tprotocol: ghostdag_3\tdag_size_limit: 5\tsize: 1581\ttime_spent: 1.3014938779997465\trss: 0.2617759704589844\tdone: True                      "
     ]
    },
    {
     "name": "stdout",
     "output_type": "stream",
     "text": [
      "\r",
      "scenario: w/ normalization\tprotocol: ghostdag_3\tdag_size_limit: 6\tsize: 12644\ttime_spent: 13.794406573000742\trss: 0.2830162048339844\tdone: True                      "
     ]
    },
    {
     "name": "stdout",
     "output_type": "stream",
     "text": [
      "\r",
      "scenario: w/ normalization\tprotocol: ghostdag_3\tdag_size_limit: 7\tsize: 100085\ttime_spent: 117.60944292400018\trss: 0.9944419860839844\tdone: False                      "
     ]
    },
    {
     "name": "stdout",
     "output_type": "stream",
     "text": [
      "\r",
      "scenario: w/ normalization\tprotocol: parallel_3\tdag_size_limit: 2\tsize: 51\ttime_spent: 0.024180129999876954\trss: 0.3754119873046875\tdone: True                      \r",
      "scenario: w/ normalization\tprotocol: parallel_3\tdag_size_limit: 3\tsize: 68\ttime_spent: 0.030615362999014906\trss: 0.2927818298339844\tdone: True                      "
     ]
    },
    {
     "name": "stdout",
     "output_type": "stream",
     "text": [
      "\r",
      "scenario: w/ normalization\tprotocol: parallel_3\tdag_size_limit: 4\tsize: 152\ttime_spent: 0.07958401600080833\trss: 0.2920494079589844\tdone: True                      "
     ]
    },
    {
     "name": "stdout",
     "output_type": "stream",
     "text": [
      "\r",
      "scenario: w/ normalization\tprotocol: parallel_3\tdag_size_limit: 5\tsize: 478\ttime_spent: 0.33197181899959105\trss: 0.2918052673339844\tdone: True                      "
     ]
    },
    {
     "name": "stdout",
     "output_type": "stream",
     "text": [
      "\r",
      "scenario: w/ normalization\tprotocol: parallel_3\tdag_size_limit: 6\tsize: 1677\ttime_spent: 1.4531784239989065\trss: 0.2913169860839844\tdone: True                      "
     ]
    },
    {
     "name": "stdout",
     "output_type": "stream",
     "text": [
      "\r",
      "scenario: w/ normalization\tprotocol: parallel_3\tdag_size_limit: 7\tsize: 6618\ttime_spent: 6.706488080000781\trss: 0.2883872985839844\tdone: True                      "
     ]
    },
    {
     "name": "stdout",
     "output_type": "stream",
     "text": [
      "\r",
      "scenario: w/ normalization\tprotocol: parallel_3\tdag_size_limit: 8\tsize: 31452\ttime_spent: 36.25193501499962\trss: 0.4915122985839844\tdone: True                      "
     ]
    },
    {
     "name": "stdout",
     "output_type": "stream",
     "text": [
      "\r",
      "scenario: w/ normalization\tprotocol: parallel_3\tdag_size_limit: 9\tsize: 100258\ttime_spent: 127.75700430799952\trss: 1.1934700012207031\tdone: False                      "
     ]
    },
    {
     "name": "stdout",
     "output_type": "stream",
     "text": [
      "\r",
      "scenario: w/ both\tprotocol: bitcoin\tdag_size_limit: 2\tsize: 5\ttime_spent: 0.0029822550004610093\trss: 0.2724456787109375\tdone: True                      \r",
      "scenario: w/ both\tprotocol: bitcoin\tdag_size_limit: 3\tsize: 18\ttime_spent: 0.009007226999528939\trss: 0.2656097412109375\tdone: True                      \r",
      "scenario: w/ both\tprotocol: bitcoin\tdag_size_limit: 4\tsize: 45\ttime_spent: 0.02425458000107028\trss: 0.2648773193359375\tdone: True                      "
     ]
    },
    {
     "name": "stdout",
     "output_type": "stream",
     "text": [
      "\r",
      "scenario: w/ both\tprotocol: bitcoin\tdag_size_limit: 5\tsize: 120\ttime_spent: 0.07754827100143302\trss: 0.2639007568359375\tdone: True                      "
     ]
    },
    {
     "name": "stdout",
     "output_type": "stream",
     "text": [
      "\r",
      "scenario: w/ both\tprotocol: bitcoin\tdag_size_limit: 6\tsize: 300\ttime_spent: 0.21766980000029434\trss: 0.2634124755859375\tdone: True                      "
     ]
    },
    {
     "name": "stdout",
     "output_type": "stream",
     "text": [
      "\r",
      "scenario: w/ both\tprotocol: bitcoin\tdag_size_limit: 7\tsize: 760\ttime_spent: 0.6315359670006728\trss: 0.2631683349609375\tdone: True                      "
     ]
    },
    {
     "name": "stdout",
     "output_type": "stream",
     "text": [
      "\r",
      "scenario: w/ both\tprotocol: bitcoin\tdag_size_limit: 8\tsize: 1959\ttime_spent: 2.0474748389988235\trss: 0.2631683349609375\tdone: True                      "
     ]
    },
    {
     "name": "stdout",
     "output_type": "stream",
     "text": [
      "\r",
      "scenario: w/ both\tprotocol: bitcoin\tdag_size_limit: 9\tsize: 5153\ttime_spent: 6.068134502998873\trss: 0.2614593505859375\tdone: True                      "
     ]
    },
    {
     "name": "stdout",
     "output_type": "stream",
     "text": [
      "\r",
      "scenario: w/ both\tprotocol: bitcoin\tdag_size_limit: 10\tsize: 13794\ttime_spent: 18.4906100219996\trss: 0.3332366943359375\tdone: True                      "
     ]
    },
    {
     "name": "stdout",
     "output_type": "stream",
     "text": [
      "\r",
      "scenario: w/ both\tprotocol: bitcoin\tdag_size_limit: 11\tsize: 37322\ttime_spent: 57.17061522199947\trss: 0.6064300537109375\tdone: True                      "
     ]
    },
    {
     "name": "stdout",
     "output_type": "stream",
     "text": [
      "\r",
      "scenario: w/ both\tprotocol: bitcoin\tdag_size_limit: 12\tsize: 100344\ttime_spent: 167.30746003600143\trss: 1.3441505432128906\tdone: False                      "
     ]
    },
    {
     "name": "stdout",
     "output_type": "stream",
     "text": [
      "\r",
      "scenario: w/ both\tprotocol: ethereum_3\tdag_size_limit: 2\tsize: 5\ttime_spent: 0.0031048460004967637\trss: 0.2786598205566406\tdone: True                      \r",
      "scenario: w/ both\tprotocol: ethereum_3\tdag_size_limit: 3\tsize: 29\ttime_spent: 0.018260890999954427\trss: 0.2749977111816406\tdone: True                      \r",
      "scenario: w/ both\tprotocol: ethereum_3\tdag_size_limit: 4\tsize: 56\ttime_spent: 0.03549692599881382\trss: 0.2740211486816406\tdone: True                      "
     ]
    },
    {
     "name": "stdout",
     "output_type": "stream",
     "text": [
      "\r",
      "scenario: w/ both\tprotocol: ethereum_3\tdag_size_limit: 5\tsize: 186\ttime_spent: 0.13424598399979004\trss: 0.2735328674316406\tdone: True                      "
     ]
    },
    {
     "name": "stdout",
     "output_type": "stream",
     "text": [
      "\r",
      "scenario: w/ both\tprotocol: ethereum_3\tdag_size_limit: 6\tsize: 596\ttime_spent: 0.47072782699979143\trss: 0.2732887268066406\tdone: True                      "
     ]
    },
    {
     "name": "stdout",
     "output_type": "stream",
     "text": [
      "\r",
      "scenario: w/ both\tprotocol: ethereum_3\tdag_size_limit: 7\tsize: 1794\ttime_spent: 1.673981066000124\trss: 0.2728004455566406\tdone: True                      "
     ]
    },
    {
     "name": "stdout",
     "output_type": "stream",
     "text": [
      "\r",
      "scenario: w/ both\tprotocol: ethereum_3\tdag_size_limit: 8\tsize: 5535\ttime_spent: 5.98101909900106\trss: 0.2711029052734375\tdone: True                      "
     ]
    },
    {
     "name": "stdout",
     "output_type": "stream",
     "text": [
      "\r",
      "scenario: w/ both\tprotocol: ethereum_3\tdag_size_limit: 9\tsize: 17089\ttime_spent: 21.30088967300071\trss: 0.3620452880859375\tdone: True                      "
     ]
    },
    {
     "name": "stdout",
     "output_type": "stream",
     "text": [
      "\r",
      "scenario: w/ both\tprotocol: ethereum_3\tdag_size_limit: 10\tsize: 51668\ttime_spent: 70.4302908640002\trss: 0.7292327880859375\tdone: True                      "
     ]
    },
    {
     "name": "stdout",
     "output_type": "stream",
     "text": [
      "\r",
      "scenario: w/ both\tprotocol: ethereum_3\tdag_size_limit: 11\tsize: 100435\ttime_spent: 146.60971268100002\trss: 1.2637100219726562\tdone: False                      "
     ]
    },
    {
     "name": "stdout",
     "output_type": "stream",
     "text": [
      "\r",
      "scenario: w/ both\tprotocol: byzantium_3\tdag_size_limit: 2\tsize: 5\ttime_spent: 0.0032338740002160193\trss: 0.28937530517578125\tdone: True                      \r",
      "scenario: w/ both\tprotocol: byzantium_3\tdag_size_limit: 3\tsize: 29\ttime_spent: 0.01959527200051525\trss: 0.281341552734375\tdone: True                      \r",
      "scenario: w/ both\tprotocol: byzantium_3\tdag_size_limit: 4\tsize: 56\ttime_spent: 0.03716978800002835\trss: 0.280364990234375\tdone: True                      "
     ]
    },
    {
     "name": "stdout",
     "output_type": "stream",
     "text": [
      "\r",
      "scenario: w/ both\tprotocol: byzantium_3\tdag_size_limit: 5\tsize: 186\ttime_spent: 0.14235022799948638\trss: 0.280120849609375\tdone: True                      "
     ]
    },
    {
     "name": "stdout",
     "output_type": "stream",
     "text": [
      "\r",
      "scenario: w/ both\tprotocol: byzantium_3\tdag_size_limit: 6\tsize: 572\ttime_spent: 0.48975584099935077\trss: 0.280120849609375\tdone: True                      "
     ]
    },
    {
     "name": "stdout",
     "output_type": "stream",
     "text": [
      "\r",
      "scenario: w/ both\tprotocol: byzantium_3\tdag_size_limit: 7\tsize: 1705\ttime_spent: 1.7441422449992388\trss: 0.279876708984375\tdone: True                      "
     ]
    },
    {
     "name": "stdout",
     "output_type": "stream",
     "text": [
      "\r",
      "scenario: w/ both\tprotocol: byzantium_3\tdag_size_limit: 8\tsize: 5187\ttime_spent: 6.216727711000203\trss: 0.278900146484375\tdone: True                      "
     ]
    },
    {
     "name": "stdout",
     "output_type": "stream",
     "text": [
      "\r",
      "scenario: w/ both\tprotocol: byzantium_3\tdag_size_limit: 9\tsize: 15630\ttime_spent: 21.039702350999505\trss: 0.346649169921875\tdone: True                      "
     ]
    },
    {
     "name": "stdout",
     "output_type": "stream",
     "text": [
      "\r",
      "scenario: w/ both\tprotocol: byzantium_3\tdag_size_limit: 10\tsize: 47341\ttime_spent: 71.9436405739998\trss: 0.681243896484375\tdone: True                      "
     ]
    },
    {
     "name": "stdout",
     "output_type": "stream",
     "text": [
      "\r",
      "scenario: w/ both\tprotocol: byzantium_3\tdag_size_limit: 11\tsize: 100638\ttime_spent: 158.73936281500028\trss: 1.2755508422851562\tdone: False                      "
     ]
    },
    {
     "name": "stdout",
     "output_type": "stream",
     "text": [
      "\r",
      "scenario: w/ both\tprotocol: ghostdag_3\tdag_size_limit: 2\tsize: 5\ttime_spent: 0.002917960999184288\trss: 0.29067230224609375\tdone: True                      \r",
      "scenario: w/ both\tprotocol: ghostdag_3\tdag_size_limit: 3\tsize: 19\ttime_spent: 0.01170781899963913\trss: 0.28359222412109375\tdone: True                      \r",
      "scenario: w/ both\tprotocol: ghostdag_3\tdag_size_limit: 4\tsize: 57\ttime_spent: 0.04003296699920611\trss: 0.28310394287109375\tdone: True                      "
     ]
    },
    {
     "name": "stdout",
     "output_type": "stream",
     "text": [
      "\r",
      "scenario: w/ both\tprotocol: ghostdag_3\tdag_size_limit: 5\tsize: 184\ttime_spent: 0.16062526399946364\trss: 0.28237152099609375\tdone: True                      "
     ]
    },
    {
     "name": "stdout",
     "output_type": "stream",
     "text": [
      "\r",
      "scenario: w/ both\tprotocol: ghostdag_3\tdag_size_limit: 6\tsize: 604\ttime_spent: 0.6574420649994863\trss: 0.28212738037109375\tdone: True                      "
     ]
    },
    {
     "name": "stdout",
     "output_type": "stream",
     "text": [
      "\r",
      "scenario: w/ both\tprotocol: ghostdag_3\tdag_size_limit: 7\tsize: 2026\ttime_spent: 2.9306098750003002\trss: 0.28212738037109375\tdone: True                      "
     ]
    },
    {
     "name": "stdout",
     "output_type": "stream",
     "text": [
      "\r",
      "scenario: w/ both\tprotocol: ghostdag_3\tdag_size_limit: 8\tsize: 6914\ttime_spent: 12.351482369000223\trss: 0.2800254821777344\tdone: True                      "
     ]
    },
    {
     "name": "stdout",
     "output_type": "stream",
     "text": [
      "\r",
      "scenario: w/ both\tprotocol: ghostdag_3\tdag_size_limit: 9\tsize: 23944\ttime_spent: 53.00748274599937\trss: 0.4196739196777344\tdone: True                      "
     ]
    },
    {
     "name": "stdout",
     "output_type": "stream",
     "text": [
      "\r",
      "scenario: w/ both\tprotocol: ghostdag_3\tdag_size_limit: 10\tsize: 83952\ttime_spent: 227.87273215999994\trss: 1.0650634765625\tdone: True                      "
     ]
    },
    {
     "name": "stdout",
     "output_type": "stream",
     "text": [
      "\r",
      "scenario: w/ both\tprotocol: ghostdag_3\tdag_size_limit: 11\tsize: 100819\ttime_spent: 230.61344153500067\trss: 1.2069778442382812\tdone: False                      "
     ]
    },
    {
     "name": "stdout",
     "output_type": "stream",
     "text": [
      "\r",
      "scenario: w/ both\tprotocol: parallel_3\tdag_size_limit: 2\tsize: 41\ttime_spent: 0.022676024000247708\trss: 0.42022705078125\tdone: True                      \r",
      "scenario: w/ both\tprotocol: parallel_3\tdag_size_limit: 3\tsize: 50\ttime_spent: 0.026110434999282006\trss: 0.31549072265625\tdone: True                      \r",
      "scenario: w/ both\tprotocol: parallel_3\tdag_size_limit: 4\tsize: 84\ttime_spent: 0.045803045000866405\trss: 0.3096961975097656\tdone: True                      "
     ]
    },
    {
     "name": "stdout",
     "output_type": "stream",
     "text": [
      "\r",
      "scenario: w/ both\tprotocol: parallel_3\tdag_size_limit: 5\tsize: 195\ttime_spent: 0.1268376009993517\trss: 0.3084754943847656\tdone: True                      "
     ]
    },
    {
     "name": "stdout",
     "output_type": "stream",
     "text": [
      "\r",
      "scenario: w/ both\tprotocol: parallel_3\tdag_size_limit: 6\tsize: 492\ttime_spent: 0.35508443499929854\trss: 0.3082313537597656\tdone: True                      "
     ]
    },
    {
     "name": "stdout",
     "output_type": "stream",
     "text": [
      "\r",
      "scenario: w/ both\tprotocol: parallel_3\tdag_size_limit: 7\tsize: 1330\ttime_spent: 1.1265461289985979\trss: 0.3077430725097656\tdone: True                      "
     ]
    },
    {
     "name": "stdout",
     "output_type": "stream",
     "text": [
      "\r",
      "scenario: w/ both\tprotocol: parallel_3\tdag_size_limit: 8\tsize: 3670\ttime_spent: 3.5590779340000154\trss: 0.3028602600097656\tdone: True                      "
     ]
    },
    {
     "name": "stdout",
     "output_type": "stream",
     "text": [
      "\r",
      "scenario: w/ both\tprotocol: parallel_3\tdag_size_limit: 9\tsize: 9792\ttime_spent: 11.21346181500121\trss: 0.2996864318847656\tdone: True                      "
     ]
    },
    {
     "name": "stdout",
     "output_type": "stream",
     "text": [
      "\r",
      "scenario: w/ both\tprotocol: parallel_3\tdag_size_limit: 10\tsize: 24547\ttime_spent: 33.97734205899906\trss: 0.4487342834472656\tdone: True                      "
     ]
    },
    {
     "name": "stdout",
     "output_type": "stream",
     "text": [
      "\r",
      "scenario: w/ both\tprotocol: parallel_3\tdag_size_limit: 11\tsize: 59002\ttime_spent: 93.49982065699987\trss: 0.8647499084472656\tdone: True                      "
     ]
    },
    {
     "name": "stdout",
     "output_type": "stream",
     "text": [
      "\r",
      "scenario: w/ both\tprotocol: parallel_3\tdag_size_limit: 12\tsize: 100259\ttime_spent: 171.52522367999882\trss: 1.3650588989257812\tdone: False                      "
     ]
    }
   ],
   "source": [
    "for idx, row in models.iterrows():\n",
    "    dag_size_limit = 1\n",
    "    while True:\n",
    "        dag_size_limit += 1\n",
    "\n",
    "        if row[\"scenario\"].startswith(\"reference\") and dag_size_limit >= 20:\n",
    "            # otherwise we'd spend to much time on the reference models\n",
    "            break\n",
    "\n",
    "        done = explore_row_limit(idx, row, dag_size_limit)\n",
    "        if not done:\n",
    "            break"
   ]
  },
  {
   "cell_type": "code",
   "execution_count": 6,
   "id": "b77197c4-605b-4704-a218-33aac444120a",
   "metadata": {
    "execution": {
     "iopub.execute_input": "2025-01-02T16:40:21.187908Z",
     "iopub.status.busy": "2025-01-02T16:40:21.187722Z",
     "iopub.status.idle": "2025-01-02T16:42:03.055589Z",
     "shell.execute_reply": "2025-01-02T16:42:03.055087Z"
    }
   },
   "outputs": [
    {
     "name": "stdout",
     "output_type": "stream",
     "text": [
      "\r",
      "scenario: reference\tprotocol: bitcoin\tdag_size_limit: 32\tsize: 1698\ttime_spent: 0.06459968099989055\trss: 0.560394287109375\tdone: True                      "
     ]
    },
    {
     "name": "stdout",
     "output_type": "stream",
     "text": [
      "\r",
      "scenario: reference\tprotocol: bitcoin\tdag_size_limit: 64\tsize: 6978\ttime_spent: 0.32271082399893203\trss: 0.312347412109375\tdone: True                      "
     ]
    },
    {
     "name": "stdout",
     "output_type": "stream",
     "text": [
      "\r",
      "scenario: reference\tprotocol: bitcoin\tdag_size_limit: 128\tsize: 28290\ttime_spent: 1.2831687789985153\trss: 0.2963218688964844\tdone: True                      "
     ]
    },
    {
     "name": "stdout",
     "output_type": "stream",
     "text": [
      "\r",
      "scenario: reference\tprotocol: bitcoin\tdag_size_limit: 256\tsize: 100166\ttime_spent: 5.05124356899978\trss: 0.3409996032714844\tdone: False                      "
     ]
    },
    {
     "name": "stdout",
     "output_type": "stream",
     "text": [
      "\r",
      "scenario: reference\tprotocol: bitcoin\tdag_size_limit: 192\tsize: 63938\ttime_spent: 3.0659316210003453\trss: 0.2953147888183594\tdone: True                      "
     ]
    },
    {
     "name": "stdout",
     "output_type": "stream",
     "text": [
      "\r",
      "scenario: reference\tprotocol: bitcoin\tdag_size_limit: 224\tsize: 87138\ttime_spent: 4.200527289998718\trss: 0.3156852722167969\tdone: True                      "
     ]
    },
    {
     "name": "stdout",
     "output_type": "stream",
     "text": [
      "\r",
      "scenario: reference\tprotocol: bitcoin\tdag_size_limit: 240\tsize: 100012\ttime_spent: 4.784680644999753\trss: 0.33979034423828125\tdone: False                      "
     ]
    },
    {
     "name": "stdout",
     "output_type": "stream",
     "text": [
      "\r",
      "scenario: reference\tprotocol: bitcoin\tdag_size_limit: 232\tsize: 93498\ttime_spent: 4.281842337999478\trss: 0.3299980163574219\tdone: True                      "
     ]
    },
    {
     "name": "stdout",
     "output_type": "stream",
     "text": [
      "\r",
      "scenario: reference\tprotocol: bitcoin\tdag_size_limit: 236\tsize: 96762\ttime_spent: 4.70776993400068\trss: 0.3349151611328125\tdone: True                      "
     ]
    },
    {
     "name": "stdout",
     "output_type": "stream",
     "text": [
      "\r",
      "scenario: reference\tprotocol: bitcoin\tdag_size_limit: 238\tsize: 98415\ttime_spent: 4.404343959000471\trss: 0.3373603820800781\tdone: True                      "
     ]
    },
    {
     "name": "stdout",
     "output_type": "stream",
     "text": [
      "\r",
      "scenario: reference\tprotocol: bitcoin\tdag_size_limit: 239\tsize: 99247\ttime_spent: 4.911670049999884\trss: 0.33861541748046875\tdone: True                      "
     ]
    },
    {
     "name": "stdout",
     "output_type": "stream",
     "text": [
      "\r",
      "scenario: reference-aft20\tprotocol: bitcoin\tdag_size_limit: 32\tsize: 1233\ttime_spent: 0.03301399900010438\trss: 0.2958030700683594\tdone: True                      "
     ]
    },
    {
     "name": "stdout",
     "output_type": "stream",
     "text": [
      "\r",
      "scenario: reference-aft20\tprotocol: bitcoin\tdag_size_limit: 64\tsize: 5025\ttime_spent: 0.13656544999867037\trss: 0.292938232421875\tdone: True                      "
     ]
    },
    {
     "name": "stdout",
     "output_type": "stream",
     "text": [
      "\r",
      "scenario: reference-aft20\tprotocol: bitcoin\tdag_size_limit: 128\tsize: 20289\ttime_spent: 0.7358247829997708\trss: 0.2920188903808594\tdone: True                      "
     ]
    },
    {
     "name": "stdout",
     "output_type": "stream",
     "text": [
      "\r",
      "scenario: reference-aft20\tprotocol: bitcoin\tdag_size_limit: 256\tsize: 81537\ttime_spent: 3.183140937000644\trss: 0.2980003356933594\tdone: True                      "
     ]
    },
    {
     "name": "stdout",
     "output_type": "stream",
     "text": [
      "\r",
      "scenario: reference-aft20\tprotocol: bitcoin\tdag_size_limit: 512\tsize: 100709\ttime_spent: 3.75153499299995\trss: 0.3070945739746094\tdone: False                      "
     ]
    },
    {
     "name": "stdout",
     "output_type": "stream",
     "text": [
      "\r",
      "scenario: reference-aft20\tprotocol: bitcoin\tdag_size_limit: 384\tsize: 100709\ttime_spent: 3.4622216900006606\trss: 0.3071861267089844\tdone: False                      "
     ]
    },
    {
     "name": "stdout",
     "output_type": "stream",
     "text": [
      "\r",
      "scenario: reference-aft20\tprotocol: bitcoin\tdag_size_limit: 320\tsize: 100709\ttime_spent: 3.5110014290003164\trss: 0.30718994140625\tdone: False                      "
     ]
    },
    {
     "name": "stdout",
     "output_type": "stream",
     "text": [
      "\r",
      "scenario: reference-aft20\tprotocol: bitcoin\tdag_size_limit: 288\tsize: 100709\ttime_spent: 3.586033215999123\trss: 0.307098388671875\tdone: False                      "
     ]
    },
    {
     "name": "stdout",
     "output_type": "stream",
     "text": [
      "\r",
      "scenario: reference-aft20\tprotocol: bitcoin\tdag_size_limit: 272\tsize: 92073\ttime_spent: 3.2316498999989562\trss: 0.2986640930175781\tdone: True                      "
     ]
    },
    {
     "name": "stdout",
     "output_type": "stream",
     "text": [
      "\r",
      "scenario: reference-aft20\tprotocol: bitcoin\tdag_size_limit: 280\tsize: 97581\ttime_spent: 3.4299932699996134\trss: 0.3038825988769531\tdone: True                      "
     ]
    },
    {
     "name": "stdout",
     "output_type": "stream",
     "text": [
      "\r",
      "scenario: reference-aft20\tprotocol: bitcoin\tdag_size_limit: 284\tsize: 100395\ttime_spent: 3.4647137749998365\trss: 0.3069572448730469\tdone: False                      "
     ]
    },
    {
     "name": "stdout",
     "output_type": "stream",
     "text": [
      "\r",
      "scenario: reference-aft20\tprotocol: bitcoin\tdag_size_limit: 282\tsize: 98983\ttime_spent: 3.4813294369996584\trss: 0.3054389953613281\tdone: True                      "
     ]
    },
    {
     "name": "stdout",
     "output_type": "stream",
     "text": [
      "\r",
      "scenario: reference-aft20\tprotocol: bitcoin\tdag_size_limit: 283\tsize: 99688\ttime_spent: 3.4730242719997477\trss: 0.3062705993652344\tdone: True                      "
     ]
    }
   ],
   "source": [
    "# locate the upper limit for exploring the reference models with binary search\n",
    "for idx, row in models.iterrows():\n",
    "    if not row[\"scenario\"].startswith(\"reference\"):\n",
    "        continue\n",
    "\n",
    "    dag_size_limit = 16\n",
    "    while True:\n",
    "        dag_size_limit *= 2\n",
    "        done = explore_row_limit(idx, row, dag_size_limit)\n",
    "        if not done:\n",
    "            break\n",
    "\n",
    "    a = dag_size_limit / 2\n",
    "    b = dag_size_limit\n",
    "\n",
    "    while b - a > 1:\n",
    "        c = round((a + b) / 2)\n",
    "        done = explore_row_limit(idx, row, c)\n",
    "        if done:\n",
    "            a = c\n",
    "        else:\n",
    "            b = c"
   ]
  },
  {
   "cell_type": "code",
   "execution_count": 7,
   "id": "90ccf18c-5299-4f6c-9147-863133d4118a",
   "metadata": {
    "execution": {
     "iopub.execute_input": "2025-01-02T16:42:03.058429Z",
     "iopub.status.busy": "2025-01-02T16:42:03.058224Z",
     "iopub.status.idle": "2025-01-02T16:42:03.068105Z",
     "shell.execute_reply": "2025-01-02T16:42:03.067664Z"
    }
   },
   "outputs": [],
   "source": [
    "size_log = pandas.DataFrame(size_log)\n",
    "aborts = pandas.DataFrame(aborts)\n",
    "\n",
    "size_log.to_pickle(\"5-generated-mdps/success.pkl.gz\")\n",
    "aborts.to_pickle(\"5-generated-mdps/fail.pkl.gz\")"
   ]
  },
  {
   "cell_type": "code",
   "execution_count": 8,
   "id": "a5c7e143-a87b-46c3-9bb1-9939e860d968",
   "metadata": {
    "execution": {
     "iopub.execute_input": "2025-01-02T16:42:03.069988Z",
     "iopub.status.busy": "2025-01-02T16:42:03.069854Z",
     "iopub.status.idle": "2025-01-02T16:42:04.843074Z",
     "shell.execute_reply": "2025-01-02T16:42:04.842656Z"
    }
   },
   "outputs": [
    {
     "data": {
      "text/plain": [
       "<seaborn.axisgrid.FacetGrid at 0x7f7a03946310>"
      ]
     },
     "execution_count": 8,
     "metadata": {},
     "output_type": "execute_result"
    },
    {
     "data": {
      "image/png": "[encoded data removed]",
      "text/plain": [
       "<Figure size 1668.88x1000 with 5 Axes>"
      ]
     },
     "metadata": {},
     "output_type": "display_data"
    }
   ],
   "source": [
    "seaborn.relplot(\n",
    "    data=size_log.query(\"dag_size_limit < 10\"),\n",
    "    kind=\"line\",\n",
    "    x=\"dag_size_limit\",\n",
    "    y=\"size\",\n",
    "    hue=\"scenario\",\n",
    "    col=\"protocol\",\n",
    "    col_wrap=3,\n",
    ").set(yscale=\"log\")"
   ]
  }
 ],
 "metadata": {
  "kernelspec": {
   "display_name": "Python 3 (ipykernel)",
   "language": "python",
   "name": "python3"
  },
  "language_info": {
   "codemirror_mode": {
    "name": "ipython",
    "version": 3
   },
   "file_extension": ".py",
   "mimetype": "text/x-python",
   "name": "python",
   "nbconvert_exporter": "python",
   "pygments_lexer": "ipython3",
   "version": "3.9.21"
  }
 },
 "nbformat": 4,
 "nbformat_minor": 5
}
