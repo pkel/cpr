{
 "cells": [
  {
   "cell_type": "code",
   "execution_count": 1,
   "id": "44cdfe1f-0659-4b24-9df6-bcbfa9267e83",
   "metadata": {
    "execution": {
     "iopub.execute_input": "2024-12-23T19:52:56.442343Z",
     "iopub.status.busy": "2024-12-23T19:52:56.442088Z",
     "iopub.status.idle": "2024-12-23T19:52:56.722708Z",
     "shell.execute_reply": "2024-12-23T19:52:56.722240Z"
    }
   },
   "outputs": [],
   "source": [
    "import pandas\n",
    "import time\n",
    "\n",
    "from lib.policy_guided_explorer import Explorer\n",
    "from lib.models.generic_v0.model import mappable_params\n",
    "\n",
    "from lib.models.aft20barzur import BitcoinSM as AFT20BarZur\n",
    "from lib.models.fc16sapirshtein import BitcoinSM as FC16Sapirshtein\n",
    "\n",
    "from lib.models.generic_v1 import protocols as g1\n",
    "from lib.models.generic_v1.model import SingleAgent as G1Model\n",
    "\n",
    "from lib.models.generic_v0.bitcoin import Bitcoin as G0Bitcoin\n",
    "from lib.models.generic_v0.model import SelfishMining as G0Model"
   ]
  },
  {
   "cell_type": "code",
   "execution_count": 2,
   "id": "42143478-6b79-4832-bbcd-01607352c08c",
   "metadata": {
    "execution": {
     "iopub.execute_input": "2024-12-23T19:52:56.725334Z",
     "iopub.status.busy": "2024-12-23T19:52:56.725117Z",
     "iopub.status.idle": "2024-12-23T19:52:56.742445Z",
     "shell.execute_reply": "2024-12-23T19:52:56.742014Z"
    }
   },
   "outputs": [
    {
     "data": {
      "text/html": [
       "<div>\n",
       "<style scoped>\n",
       "    .dataframe tbody tr th:only-of-type {\n",
       "        vertical-align: middle;\n",
       "    }\n",
       "\n",
       "    .dataframe tbody tr th {\n",
       "        vertical-align: top;\n",
       "    }\n",
       "\n",
       "    .dataframe thead th {\n",
       "        text-align: right;\n",
       "    }\n",
       "</style>\n",
       "<table border=\"1\" class=\"dataframe\">\n",
       "  <thead>\n",
       "    <tr style=\"text-align: right;\">\n",
       "      <th></th>\n",
       "      <th>scenario</th>\n",
       "      <th>model</th>\n",
       "      <th>force_consider_own</th>\n",
       "      <th>merge_isomorphic</th>\n",
       "      <th>truncate_common_chain</th>\n",
       "      <th>collect_garbage</th>\n",
       "      <th>reward_common_chain</th>\n",
       "      <th>protocol</th>\n",
       "    </tr>\n",
       "  </thead>\n",
       "  <tbody>\n",
       "    <tr>\n",
       "      <th>0</th>\n",
       "      <td>reference</td>\n",
       "      <td>fc16sapirshtein</td>\n",
       "      <td>True</td>\n",
       "      <td>True</td>\n",
       "      <td>True</td>\n",
       "      <td>True</td>\n",
       "      <td>True</td>\n",
       "      <td>bitcoin</td>\n",
       "    </tr>\n",
       "    <tr>\n",
       "      <th>1</th>\n",
       "      <td>reference-v0</td>\n",
       "      <td>generic_0</td>\n",
       "      <td>True</td>\n",
       "      <td>True</td>\n",
       "      <td>True</td>\n",
       "      <td>True</td>\n",
       "      <td>True</td>\n",
       "      <td>bitcoin</td>\n",
       "    </tr>\n",
       "    <tr>\n",
       "      <th>2</th>\n",
       "      <td>baseline</td>\n",
       "      <td>generic_1</td>\n",
       "      <td>False</td>\n",
       "      <td>False</td>\n",
       "      <td>True</td>\n",
       "      <td>True</td>\n",
       "      <td>False</td>\n",
       "      <td>bitcoin</td>\n",
       "    </tr>\n",
       "    <tr>\n",
       "      <th>3</th>\n",
       "      <td>baseline</td>\n",
       "      <td>generic_1</td>\n",
       "      <td>False</td>\n",
       "      <td>False</td>\n",
       "      <td>True</td>\n",
       "      <td>True</td>\n",
       "      <td>False</td>\n",
       "      <td>ethereum_3</td>\n",
       "    </tr>\n",
       "    <tr>\n",
       "      <th>4</th>\n",
       "      <td>baseline</td>\n",
       "      <td>generic_1</td>\n",
       "      <td>False</td>\n",
       "      <td>False</td>\n",
       "      <td>True</td>\n",
       "      <td>True</td>\n",
       "      <td>False</td>\n",
       "      <td>byzantium_3</td>\n",
       "    </tr>\n",
       "    <tr>\n",
       "      <th>5</th>\n",
       "      <td>baseline</td>\n",
       "      <td>generic_1</td>\n",
       "      <td>False</td>\n",
       "      <td>False</td>\n",
       "      <td>True</td>\n",
       "      <td>True</td>\n",
       "      <td>False</td>\n",
       "      <td>ghostdag_3</td>\n",
       "    </tr>\n",
       "    <tr>\n",
       "      <th>6</th>\n",
       "      <td>baseline</td>\n",
       "      <td>generic_1</td>\n",
       "      <td>False</td>\n",
       "      <td>False</td>\n",
       "      <td>True</td>\n",
       "      <td>True</td>\n",
       "      <td>False</td>\n",
       "      <td>parallel_3</td>\n",
       "    </tr>\n",
       "    <tr>\n",
       "      <th>7</th>\n",
       "      <td>w/ force consider</td>\n",
       "      <td>generic_1</td>\n",
       "      <td>True</td>\n",
       "      <td>False</td>\n",
       "      <td>True</td>\n",
       "      <td>True</td>\n",
       "      <td>False</td>\n",
       "      <td>bitcoin</td>\n",
       "    </tr>\n",
       "    <tr>\n",
       "      <th>8</th>\n",
       "      <td>w/ force consider</td>\n",
       "      <td>generic_1</td>\n",
       "      <td>True</td>\n",
       "      <td>False</td>\n",
       "      <td>True</td>\n",
       "      <td>True</td>\n",
       "      <td>False</td>\n",
       "      <td>ethereum_3</td>\n",
       "    </tr>\n",
       "    <tr>\n",
       "      <th>9</th>\n",
       "      <td>w/ force consider</td>\n",
       "      <td>generic_1</td>\n",
       "      <td>True</td>\n",
       "      <td>False</td>\n",
       "      <td>True</td>\n",
       "      <td>True</td>\n",
       "      <td>False</td>\n",
       "      <td>byzantium_3</td>\n",
       "    </tr>\n",
       "    <tr>\n",
       "      <th>10</th>\n",
       "      <td>w/ force consider</td>\n",
       "      <td>generic_1</td>\n",
       "      <td>True</td>\n",
       "      <td>False</td>\n",
       "      <td>True</td>\n",
       "      <td>True</td>\n",
       "      <td>False</td>\n",
       "      <td>ghostdag_3</td>\n",
       "    </tr>\n",
       "    <tr>\n",
       "      <th>11</th>\n",
       "      <td>w/ force consider</td>\n",
       "      <td>generic_1</td>\n",
       "      <td>True</td>\n",
       "      <td>False</td>\n",
       "      <td>True</td>\n",
       "      <td>True</td>\n",
       "      <td>False</td>\n",
       "      <td>parallel_3</td>\n",
       "    </tr>\n",
       "    <tr>\n",
       "      <th>12</th>\n",
       "      <td>w/ normalization</td>\n",
       "      <td>generic_1</td>\n",
       "      <td>False</td>\n",
       "      <td>True</td>\n",
       "      <td>True</td>\n",
       "      <td>True</td>\n",
       "      <td>False</td>\n",
       "      <td>bitcoin</td>\n",
       "    </tr>\n",
       "    <tr>\n",
       "      <th>13</th>\n",
       "      <td>w/ normalization</td>\n",
       "      <td>generic_1</td>\n",
       "      <td>False</td>\n",
       "      <td>True</td>\n",
       "      <td>True</td>\n",
       "      <td>True</td>\n",
       "      <td>False</td>\n",
       "      <td>ethereum_3</td>\n",
       "    </tr>\n",
       "    <tr>\n",
       "      <th>14</th>\n",
       "      <td>w/ normalization</td>\n",
       "      <td>generic_1</td>\n",
       "      <td>False</td>\n",
       "      <td>True</td>\n",
       "      <td>True</td>\n",
       "      <td>True</td>\n",
       "      <td>False</td>\n",
       "      <td>byzantium_3</td>\n",
       "    </tr>\n",
       "    <tr>\n",
       "      <th>15</th>\n",
       "      <td>w/ normalization</td>\n",
       "      <td>generic_1</td>\n",
       "      <td>False</td>\n",
       "      <td>True</td>\n",
       "      <td>True</td>\n",
       "      <td>True</td>\n",
       "      <td>False</td>\n",
       "      <td>ghostdag_3</td>\n",
       "    </tr>\n",
       "    <tr>\n",
       "      <th>16</th>\n",
       "      <td>w/ normalization</td>\n",
       "      <td>generic_1</td>\n",
       "      <td>False</td>\n",
       "      <td>True</td>\n",
       "      <td>True</td>\n",
       "      <td>True</td>\n",
       "      <td>False</td>\n",
       "      <td>parallel_3</td>\n",
       "    </tr>\n",
       "    <tr>\n",
       "      <th>17</th>\n",
       "      <td>w/ both</td>\n",
       "      <td>generic_1</td>\n",
       "      <td>True</td>\n",
       "      <td>True</td>\n",
       "      <td>True</td>\n",
       "      <td>True</td>\n",
       "      <td>False</td>\n",
       "      <td>bitcoin</td>\n",
       "    </tr>\n",
       "    <tr>\n",
       "      <th>18</th>\n",
       "      <td>w/ both</td>\n",
       "      <td>generic_1</td>\n",
       "      <td>True</td>\n",
       "      <td>True</td>\n",
       "      <td>True</td>\n",
       "      <td>True</td>\n",
       "      <td>False</td>\n",
       "      <td>ethereum_3</td>\n",
       "    </tr>\n",
       "    <tr>\n",
       "      <th>19</th>\n",
       "      <td>w/ both</td>\n",
       "      <td>generic_1</td>\n",
       "      <td>True</td>\n",
       "      <td>True</td>\n",
       "      <td>True</td>\n",
       "      <td>True</td>\n",
       "      <td>False</td>\n",
       "      <td>byzantium_3</td>\n",
       "    </tr>\n",
       "    <tr>\n",
       "      <th>20</th>\n",
       "      <td>w/ both</td>\n",
       "      <td>generic_1</td>\n",
       "      <td>True</td>\n",
       "      <td>True</td>\n",
       "      <td>True</td>\n",
       "      <td>True</td>\n",
       "      <td>False</td>\n",
       "      <td>ghostdag_3</td>\n",
       "    </tr>\n",
       "    <tr>\n",
       "      <th>21</th>\n",
       "      <td>w/ both</td>\n",
       "      <td>generic_1</td>\n",
       "      <td>True</td>\n",
       "      <td>True</td>\n",
       "      <td>True</td>\n",
       "      <td>True</td>\n",
       "      <td>False</td>\n",
       "      <td>parallel_3</td>\n",
       "    </tr>\n",
       "  </tbody>\n",
       "</table>\n",
       "</div>"
      ],
      "text/plain": [
       "             scenario            model  force_consider_own  merge_isomorphic  \\\n",
       "0           reference  fc16sapirshtein                True              True   \n",
       "1        reference-v0        generic_0                True              True   \n",
       "2            baseline        generic_1               False             False   \n",
       "3            baseline        generic_1               False             False   \n",
       "4            baseline        generic_1               False             False   \n",
       "5            baseline        generic_1               False             False   \n",
       "6            baseline        generic_1               False             False   \n",
       "7   w/ force consider        generic_1                True             False   \n",
       "8   w/ force consider        generic_1                True             False   \n",
       "9   w/ force consider        generic_1                True             False   \n",
       "10  w/ force consider        generic_1                True             False   \n",
       "11  w/ force consider        generic_1                True             False   \n",
       "12   w/ normalization        generic_1               False              True   \n",
       "13   w/ normalization        generic_1               False              True   \n",
       "14   w/ normalization        generic_1               False              True   \n",
       "15   w/ normalization        generic_1               False              True   \n",
       "16   w/ normalization        generic_1               False              True   \n",
       "17            w/ both        generic_1                True              True   \n",
       "18            w/ both        generic_1                True              True   \n",
       "19            w/ both        generic_1                True              True   \n",
       "20            w/ both        generic_1                True              True   \n",
       "21            w/ both        generic_1                True              True   \n",
       "\n",
       "    truncate_common_chain  collect_garbage  reward_common_chain     protocol  \n",
       "0                    True             True                 True      bitcoin  \n",
       "1                    True             True                 True      bitcoin  \n",
       "2                    True             True                False      bitcoin  \n",
       "3                    True             True                False   ethereum_3  \n",
       "4                    True             True                False  byzantium_3  \n",
       "5                    True             True                False   ghostdag_3  \n",
       "6                    True             True                False   parallel_3  \n",
       "7                    True             True                False      bitcoin  \n",
       "8                    True             True                False   ethereum_3  \n",
       "9                    True             True                False  byzantium_3  \n",
       "10                   True             True                False   ghostdag_3  \n",
       "11                   True             True                False   parallel_3  \n",
       "12                   True             True                False      bitcoin  \n",
       "13                   True             True                False   ethereum_3  \n",
       "14                   True             True                False  byzantium_3  \n",
       "15                   True             True                False   ghostdag_3  \n",
       "16                   True             True                False   parallel_3  \n",
       "17                   True             True                False      bitcoin  \n",
       "18                   True             True                False   ethereum_3  \n",
       "19                   True             True                False  byzantium_3  \n",
       "20                   True             True                False   ghostdag_3  \n",
       "21                   True             True                False   parallel_3  "
      ]
     },
     "execution_count": 2,
     "metadata": {},
     "output_type": "execute_result"
    }
   ],
   "source": [
    "network = mappable_params\n",
    "\n",
    "models = []\n",
    "implicit_mdps = []\n",
    "\n",
    "\n",
    "def add_model(*, implicit_mdp, **model):\n",
    "    models.append(model)\n",
    "    implicit_mdps.append(implicit_mdp)\n",
    "\n",
    "\n",
    "# related work baseline\n",
    "\n",
    "add_model(\n",
    "    scenario=\"reference\",\n",
    "    model=\"fc16sapirshtein\",\n",
    "    force_consider_own=True,\n",
    "    merge_isomorphic=True,\n",
    "    truncate_common_chain=True,\n",
    "    collect_garbage=True,\n",
    "    reward_common_chain=True,\n",
    "    protocol=\"bitcoin\",\n",
    "    implicit_mdp=FC16Sapirshtein(**network, maximum_fork_length=999999),\n",
    ")\n",
    "\n",
    "add_model(\n",
    "    scenario=\"reference-v0\",\n",
    "    model=\"generic_0\",\n",
    "    force_consider_own=True,\n",
    "    merge_isomorphic=True,\n",
    "    truncate_common_chain=True,\n",
    "    collect_garbage=True,\n",
    "    reward_common_chain=True,\n",
    "    protocol=\"bitcoin\",\n",
    "    implicit_mdp=G0Model(\n",
    "        G0Bitcoin(),\n",
    "        **network,\n",
    "        maximum_size=999999,\n",
    "        force_consider_own=True,\n",
    "        merge_isomorphic=True,\n",
    "    ),\n",
    ")\n",
    "\n",
    "# our baseline: garbage collection + common chain truncation\n",
    "# we want to compare to:\n",
    "# - no common chain truncation (all infinite)\n",
    "# - no garbage collection (infinite for protocols that allow stale blocks)\n",
    "# - plus force-consider-own\n",
    "# - plus merge-isomorphic\n",
    "# - plus both\n",
    "\n",
    "\n",
    "def add_scenario(\n",
    "    scenario,\n",
    "    *,\n",
    "    force_consider_own=False,\n",
    "    merge_isomorphic=False,\n",
    "):\n",
    "    def f(protocol_s, protocol_C, **protocol_args):\n",
    "        model_args = dict(\n",
    "            force_consider_own=force_consider_own,\n",
    "            merge_isomorphic=merge_isomorphic,\n",
    "            truncate_common_chain=True,\n",
    "            collect_garbage=True,\n",
    "            reward_common_chain=False,\n",
    "        )\n",
    "        add_model(\n",
    "            scenario=scenario,\n",
    "            model=\"generic_1\",\n",
    "            protocol=protocol_s,\n",
    "            **model_args,\n",
    "            implicit_mdp=G1Model(\n",
    "                protocol_C,\n",
    "                **protocol_args,\n",
    "                **network,\n",
    "                **model_args,\n",
    "            ),\n",
    "        )\n",
    "\n",
    "    f(\"bitcoin\", g1.Bitcoin)\n",
    "    f(\"ethereum_3\", g1.Ethereum, h=3)\n",
    "    f(\"byzantium_3\", g1.Byzantium, h=3)\n",
    "    f(\"ghostdag_3\", g1.Ghostdag, k=3)\n",
    "    f(\"parallel_3\", g1.Parallel, k=3)\n",
    "\n",
    "\n",
    "add_scenario(\"baseline\")\n",
    "add_scenario(\"w/ force consider\", force_consider_own=True)\n",
    "add_scenario(\"w/ normalization\", merge_isomorphic=True)\n",
    "add_scenario(\"w/ both\", force_consider_own=True, merge_isomorphic=True)\n",
    "\n",
    "models = pandas.DataFrame(models)\n",
    "models"
   ]
  },
  {
   "cell_type": "code",
   "execution_count": 3,
   "id": "115d2e86-73ee-4e81-8ffa-6cbdc726305e",
   "metadata": {
    "execution": {
     "iopub.execute_input": "2024-12-23T19:52:56.744328Z",
     "iopub.status.busy": "2024-12-23T19:52:56.744179Z",
     "iopub.status.idle": "2024-12-23T19:52:56.858721Z",
     "shell.execute_reply": "2024-12-23T19:52:56.857707Z"
    }
   },
   "outputs": [],
   "source": [
    "!mkdir -p 4-generated-mdps"
   ]
  },
  {
   "cell_type": "code",
   "execution_count": 4,
   "id": "28d4f21f-a0e7-44b1-804a-f33138dd91f4",
   "metadata": {
    "execution": {
     "iopub.execute_input": "2024-12-23T19:52:56.862853Z",
     "iopub.status.busy": "2024-12-23T19:52:56.862640Z",
     "iopub.status.idle": "2024-12-23T20:55:46.024757Z",
     "shell.execute_reply": "2024-12-23T20:55:46.024253Z"
    }
   },
   "outputs": [
    {
     "name": "stdout",
     "output_type": "stream",
     "text": [
      "\r",
      "scenario: reference\tprotocol: bitcoin\tdepth: 0\tsize: 3\ttime_spent: 0.0001710720025585033\trss: 0.10791397094726562\r",
      "scenario: reference\tprotocol: bitcoin\tdepth: 1\tsize: 7\ttime_spent: 0.03902010100136977\trss: 0.10803604125976562"
     ]
    },
    {
     "name": "stdout",
     "output_type": "stream",
     "text": [
      "\r",
      "scenario: reference\tprotocol: bitcoin\tdepth: 2\tsize: 14\ttime_spent: 0.06980977800412802\trss: 0.10803604125976562\r",
      "scenario: reference\tprotocol: bitcoin\tdepth: 3\tsize: 23\ttime_spent: 0.1004791480008862\trss: 0.10803604125976562\r",
      "scenario: reference\tprotocol: bitcoin\tdepth: 4\tsize: 35\ttime_spent: 0.1299764170034905\trss: 0.10815811157226562\r",
      "scenario: reference\tprotocol: bitcoin\tdepth: 5\tsize: 49\ttime_spent: 0.15797331900103018\trss: 0.10815811157226562\r",
      "scenario: reference\tprotocol: bitcoin\tdepth: 6\tsize: 66\ttime_spent: 0.18970390200411202\trss: 0.10828018188476562\r",
      "scenario: reference\tprotocol: bitcoin\tdepth: 7\tsize: 85\ttime_spent: 0.21978045900323195\trss: 0.10828018188476562"
     ]
    },
    {
     "name": "stdout",
     "output_type": "stream",
     "text": [
      "\r",
      "scenario: reference\tprotocol: bitcoin\tdepth: 8\tsize: 107\ttime_spent: 0.25000633600575384\trss: 0.10840225219726562\r",
      "scenario: reference\tprotocol: bitcoin\tdepth: 9\tsize: 131\ttime_spent: 0.28482348500256194\trss: 0.10864639282226562"
     ]
    },
    {
     "name": "stdout",
     "output_type": "stream",
     "text": [
      "\r",
      "scenario: reference\tprotocol: bitcoin\tdepth: 10\tsize: 158\ttime_spent: 0.3186597720050486\trss: 0.10876846313476562\r",
      "scenario: reference\tprotocol: bitcoin\tdepth: 11\tsize: 187\ttime_spent: 0.35696987000119407\trss: 0.10889053344726562\r",
      "scenario: reference\tprotocol: bitcoin\tdepth: 12\tsize: 219\ttime_spent: 0.39522734899946954\trss: 0.10901260375976562\r",
      "scenario: reference\tprotocol: bitcoin\tdepth: 13\tsize: 253\ttime_spent: 0.4359795220007072\trss: 0.10925674438476562"
     ]
    },
    {
     "name": "stdout",
     "output_type": "stream",
     "text": [
      "\r",
      "scenario: reference\tprotocol: bitcoin\tdepth: 14\tsize: 290\ttime_spent: 0.47609679300512653\trss: 0.10937881469726562\r",
      "scenario: reference\tprotocol: bitcoin\tdepth: 15\tsize: 329\ttime_spent: 0.5211747089997516\trss: 0.10962295532226562"
     ]
    },
    {
     "name": "stdout",
     "output_type": "stream",
     "text": [
      "\r",
      "scenario: reference\tprotocol: bitcoin\tdepth: 16\tsize: 371\ttime_spent: 0.5663159350006026\trss: 0.10974502563476562\r",
      "scenario: reference\tprotocol: bitcoin\tdepth: 17\tsize: 415\ttime_spent: 0.6152147050015628\trss: 0.10998916625976562\r",
      "scenario: reference\tprotocol: bitcoin\tdepth: 18\tsize: 462\ttime_spent: 0.6649437750020297\trss: 0.11059951782226562"
     ]
    },
    {
     "name": "stdout",
     "output_type": "stream",
     "text": [
      "\r",
      "scenario: reference\tprotocol: bitcoin\tdepth: 19\tsize: 511\ttime_spent: 0.7190955200057942\trss: 0.11084365844726562\r",
      "scenario: reference\tprotocol: bitcoin\tdepth: 20\tsize: 563\ttime_spent: 0.7767877630030853\trss: 0.11096572875976562"
     ]
    },
    {
     "name": "stdout",
     "output_type": "stream",
     "text": [
      "\r",
      "scenario: reference\tprotocol: bitcoin\tdepth: 21\tsize: 617\ttime_spent: 0.8375493500061566\trss: 0.11120986938476562\r",
      "scenario: reference\tprotocol: bitcoin\tdepth: 22\tsize: 674\ttime_spent: 0.8994636610004818\trss: 0.11145401000976562"
     ]
    },
    {
     "name": "stdout",
     "output_type": "stream",
     "text": [
      "\r",
      "scenario: reference\tprotocol: bitcoin\tdepth: 23\tsize: 733\ttime_spent: 0.9647876050003106\trss: 0.11169815063476562\r",
      "scenario: reference\tprotocol: bitcoin\tdepth: 24\tsize: 795\ttime_spent: 1.0332671639989712\trss: 0.11194229125976562"
     ]
    },
    {
     "name": "stdout",
     "output_type": "stream",
     "text": [
      "\r",
      "scenario: reference\tprotocol: bitcoin\tdepth: 25\tsize: 859\ttime_spent: 1.106560542000807\trss: 0.11255264282226562"
     ]
    },
    {
     "name": "stdout",
     "output_type": "stream",
     "text": [
      "\r",
      "scenario: reference\tprotocol: bitcoin\tdepth: 26\tsize: 926\ttime_spent: 1.1940612090038485\trss: 0.11291885375976562\r",
      "scenario: reference\tprotocol: bitcoin\tdepth: 27\tsize: 995\ttime_spent: 1.274479767002049\trss: 0.11328506469726562"
     ]
    },
    {
     "name": "stdout",
     "output_type": "stream",
     "text": [
      "\r",
      "scenario: reference\tprotocol: bitcoin\tdepth: 28\tsize: 1067\ttime_spent: 1.3568563420049031\trss: 0.11352920532226562"
     ]
    },
    {
     "name": "stdout",
     "output_type": "stream",
     "text": [
      "\r",
      "scenario: reference\tprotocol: bitcoin\tdepth: 29\tsize: 1141\ttime_spent: 1.4420256100056577\trss: 0.11377334594726562\r",
      "scenario: reference\tprotocol: bitcoin\tdepth: 30\tsize: 1218\ttime_spent: 1.5325658150031813\trss: 0.11413955688476562"
     ]
    },
    {
     "name": "stdout",
     "output_type": "stream",
     "text": [
      "\r",
      "scenario: reference\tprotocol: bitcoin\tdepth: 31\tsize: 1297\ttime_spent: 1.627645182001288\trss: 0.11450576782226562"
     ]
    },
    {
     "name": "stdout",
     "output_type": "stream",
     "text": [
      "\r",
      "scenario: reference\tprotocol: bitcoin\tdepth: 32\tsize: 1379\ttime_spent: 1.727612308000971\trss: 0.11487197875976562\r",
      "scenario: reference\tprotocol: bitcoin\tdepth: 33\tsize: 1463\ttime_spent: 1.8322216610031319\trss: 0.11523818969726562"
     ]
    },
    {
     "name": "stdout",
     "output_type": "stream",
     "text": [
      "\r",
      "scenario: reference\tprotocol: bitcoin\tdepth: 34\tsize: 1550\ttime_spent: 1.9424106709993794\trss: 0.1169891357421875"
     ]
    },
    {
     "name": "stdout",
     "output_type": "stream",
     "text": [
      "\r",
      "scenario: reference\tprotocol: bitcoin\tdepth: 35\tsize: 1639\ttime_spent: 2.057592356002715\trss: 0.1174774169921875"
     ]
    },
    {
     "name": "stdout",
     "output_type": "stream",
     "text": [
      "\r",
      "scenario: reference\tprotocol: bitcoin\tdepth: 36\tsize: 1731\ttime_spent: 2.1779216280046967\trss: 0.11765670776367188"
     ]
    },
    {
     "name": "stdout",
     "output_type": "stream",
     "text": [
      "\r",
      "scenario: reference\tprotocol: bitcoin\tdepth: 37\tsize: 1825\ttime_spent: 2.3037474299999303\trss: 0.118072509765625"
     ]
    },
    {
     "name": "stdout",
     "output_type": "stream",
     "text": [
      "\r",
      "scenario: reference\tprotocol: bitcoin\tdepth: 38\tsize: 1922\ttime_spent: 2.43377633500495\trss: 0.11828994750976562"
     ]
    },
    {
     "name": "stdout",
     "output_type": "stream",
     "text": [
      "\r",
      "scenario: reference\tprotocol: bitcoin\tdepth: 39\tsize: 2021\ttime_spent: 2.570729413004301\trss: 0.1189727783203125"
     ]
    },
    {
     "name": "stdout",
     "output_type": "stream",
     "text": [
      "\r",
      "scenario: reference\tprotocol: bitcoin\tdepth: 40\tsize: 2123\ttime_spent: 2.7119749400008004\trss: 0.11973953247070312"
     ]
    },
    {
     "name": "stdout",
     "output_type": "stream",
     "text": [
      "\r",
      "scenario: reference\tprotocol: bitcoin\tdepth: 41\tsize: 2227\ttime_spent: 2.8592430760036223\trss: 0.11995697021484375"
     ]
    },
    {
     "name": "stdout",
     "output_type": "stream",
     "text": [
      "\r",
      "scenario: reference\tprotocol: bitcoin\tdepth: 42\tsize: 2334\ttime_spent: 3.0114056330057792\trss: 0.12043380737304688"
     ]
    },
    {
     "name": "stdout",
     "output_type": "stream",
     "text": [
      "\r",
      "scenario: reference\tprotocol: bitcoin\tdepth: 43\tsize: 2443\ttime_spent: 3.171242742006143\trss: 0.12067413330078125"
     ]
    },
    {
     "name": "stdout",
     "output_type": "stream",
     "text": [
      "\r",
      "scenario: reference\tprotocol: bitcoin\tdepth: 44\tsize: 2555\ttime_spent: 3.336657302999811\trss: 0.12117385864257812"
     ]
    },
    {
     "name": "stdout",
     "output_type": "stream",
     "text": [
      "\r",
      "scenario: reference\tprotocol: bitcoin\tdepth: 45\tsize: 2669\ttime_spent: 3.5080612910023774\trss: 0.12168121337890625"
     ]
    },
    {
     "name": "stdout",
     "output_type": "stream",
     "text": [
      "\r",
      "scenario: reference\tprotocol: bitcoin\tdepth: 46\tsize: 2786\ttime_spent: 3.687407502999122\trss: 0.12195968627929688"
     ]
    },
    {
     "name": "stdout",
     "output_type": "stream",
     "text": [
      "\r",
      "scenario: reference\tprotocol: bitcoin\tdepth: 47\tsize: 2905\ttime_spent: 3.870771660003811\trss: 0.12225723266601562"
     ]
    },
    {
     "name": "stdout",
     "output_type": "stream",
     "text": [
      "\r",
      "scenario: reference\tprotocol: bitcoin\tdepth: 48\tsize: 3027\ttime_spent: 4.065952295000898\trss: 0.1225738525390625"
     ]
    },
    {
     "name": "stdout",
     "output_type": "stream",
     "text": [
      "\r",
      "scenario: reference\tprotocol: bitcoin\tdepth: 49\tsize: 3151\ttime_spent: 4.267761497001629\trss: 0.12017440795898438"
     ]
    },
    {
     "name": "stdout",
     "output_type": "stream",
     "text": [
      "\r",
      "scenario: reference\tprotocol: bitcoin\tdepth: 50\tsize: 3278\ttime_spent: 4.4781999430051656\trss: 0.120391845703125"
     ]
    },
    {
     "name": "stdout",
     "output_type": "stream",
     "text": [
      "\r",
      "scenario: reference\tprotocol: bitcoin\tdepth: 51\tsize: 3407\ttime_spent: 4.696037023000827\trss: 0.1207275390625"
     ]
    },
    {
     "name": "stdout",
     "output_type": "stream",
     "text": [
      "\r",
      "scenario: reference\tprotocol: bitcoin\tdepth: 52\tsize: 3539\ttime_spent: 4.918581701000221\trss: 0.12107086181640625"
     ]
    },
    {
     "name": "stdout",
     "output_type": "stream",
     "text": [
      "\r",
      "scenario: reference\tprotocol: bitcoin\tdepth: 53\tsize: 3673\ttime_spent: 5.150102145002165\trss: 0.12160873413085938"
     ]
    },
    {
     "name": "stdout",
     "output_type": "stream",
     "text": [
      "\r",
      "scenario: reference\tprotocol: bitcoin\tdepth: 54\tsize: 3810\ttime_spent: 5.388779858003545\trss: 0.122039794921875"
     ]
    },
    {
     "name": "stdout",
     "output_type": "stream",
     "text": [
      "\r",
      "scenario: reference\tprotocol: bitcoin\tdepth: 55\tsize: 3949\ttime_spent: 5.6299087240040535\trss: 0.12253189086914062"
     ]
    },
    {
     "name": "stdout",
     "output_type": "stream",
     "text": [
      "\r",
      "scenario: reference\tprotocol: bitcoin\tdepth: 56\tsize: 4091\ttime_spent: 5.878019360003236\trss: 0.12267303466796875"
     ]
    },
    {
     "name": "stdout",
     "output_type": "stream",
     "text": [
      "\r",
      "scenario: reference\tprotocol: bitcoin\tdepth: 57\tsize: 4235\ttime_spent: 6.140534493999439\trss: 0.12308120727539062"
     ]
    },
    {
     "name": "stdout",
     "output_type": "stream",
     "text": [
      "\r",
      "scenario: reference\tprotocol: bitcoin\tdepth: 58\tsize: 4382\ttime_spent: 6.411874860001262\trss: 0.12316131591796875"
     ]
    },
    {
     "name": "stdout",
     "output_type": "stream",
     "text": [
      "\r",
      "scenario: reference\tprotocol: bitcoin\tdepth: 59\tsize: 4531\ttime_spent: 6.752944953004771\trss: 0.1235504150390625"
     ]
    },
    {
     "name": "stdout",
     "output_type": "stream",
     "text": [
      "\r",
      "scenario: reference\tprotocol: bitcoin\tdepth: 60\tsize: 4683\ttime_spent: 7.043939736002358\trss: 0.123779296875"
     ]
    },
    {
     "name": "stdout",
     "output_type": "stream",
     "text": [
      "\r",
      "scenario: reference\tprotocol: bitcoin\tdepth: 61\tsize: 4837\ttime_spent: 7.388826967006025\trss: 0.12451553344726562"
     ]
    },
    {
     "name": "stdout",
     "output_type": "stream",
     "text": [
      "\r",
      "scenario: reference\tprotocol: bitcoin\tdepth: 62\tsize: 4994\ttime_spent: 7.761924220001674\trss: 0.12520599365234375"
     ]
    },
    {
     "name": "stdout",
     "output_type": "stream",
     "text": [
      "\r",
      "scenario: reference\tprotocol: bitcoin\tdepth: 63\tsize: 5153\ttime_spent: 8.161996145005105\trss: 0.12598419189453125"
     ]
    },
    {
     "name": "stdout",
     "output_type": "stream",
     "text": [
      "\r",
      "scenario: reference\tprotocol: bitcoin\tdepth: 64\tsize: 5315\ttime_spent: 8.573389629003941\trss: 0.1266632080078125"
     ]
    },
    {
     "name": "stdout",
     "output_type": "stream",
     "text": [
      "\r",
      "scenario: reference\tprotocol: bitcoin\tdepth: 65\tsize: 5479\ttime_spent: 8.995683142005873\trss: 0.12767791748046875"
     ]
    },
    {
     "name": "stdout",
     "output_type": "stream",
     "text": [
      "\r",
      "scenario: reference\tprotocol: bitcoin\tdepth: 66\tsize: 5646\ttime_spent: 9.42903177300468\trss: 0.1285400390625"
     ]
    },
    {
     "name": "stdout",
     "output_type": "stream",
     "text": [
      "\r",
      "scenario: reference\tprotocol: bitcoin\tdepth: 67\tsize: 5815\ttime_spent: 9.888138612004695\trss: 0.129302978515625"
     ]
    },
    {
     "name": "stdout",
     "output_type": "stream",
     "text": [
      "\r",
      "scenario: reference\tprotocol: bitcoin\tdepth: 68\tsize: 5987\ttime_spent: 10.385619650005538\trss: 0.13695526123046875"
     ]
    },
    {
     "name": "stdout",
     "output_type": "stream",
     "text": [
      "\r",
      "scenario: reference\tprotocol: bitcoin\tdepth: 69\tsize: 6161\ttime_spent: 10.900514026005112\trss: 0.13140869140625"
     ]
    },
    {
     "name": "stdout",
     "output_type": "stream",
     "text": [
      "\r",
      "scenario: reference\tprotocol: bitcoin\tdepth: 70\tsize: 6338\ttime_spent: 11.426788361000945\trss: 0.13233566284179688"
     ]
    },
    {
     "name": "stdout",
     "output_type": "stream",
     "text": [
      "\r",
      "scenario: reference\tprotocol: bitcoin\tdepth: 71\tsize: 6517\ttime_spent: 11.947093016002327\trss: 0.13299942016601562"
     ]
    },
    {
     "name": "stdout",
     "output_type": "stream",
     "text": [
      "\r",
      "scenario: reference\tprotocol: bitcoin\tdepth: 72\tsize: 6699\ttime_spent: 12.454187766001269\trss: 0.13359451293945312"
     ]
    },
    {
     "name": "stdout",
     "output_type": "stream",
     "text": [
      "\r",
      "scenario: reference\tprotocol: bitcoin\tdepth: 73\tsize: 6883\ttime_spent: 13.06222173700371\trss: 0.13492202758789062"
     ]
    },
    {
     "name": "stdout",
     "output_type": "stream",
     "text": [
      "\r",
      "scenario: reference\tprotocol: bitcoin\tdepth: 74\tsize: 7070\ttime_spent: 13.602414007000334\trss: 0.13552093505859375"
     ]
    },
    {
     "name": "stdout",
     "output_type": "stream",
     "text": [
      "\r",
      "scenario: reference\tprotocol: bitcoin\tdepth: 75\tsize: 7259\ttime_spent: 14.151538279002125\trss: 0.13640594482421875"
     ]
    },
    {
     "name": "stdout",
     "output_type": "stream",
     "text": [
      "\r",
      "scenario: reference\tprotocol: bitcoin\tdepth: 76\tsize: 7451\ttime_spent: 14.704785873000219\trss: 0.13709640502929688"
     ]
    },
    {
     "name": "stdout",
     "output_type": "stream",
     "text": [
      "\r",
      "scenario: reference\tprotocol: bitcoin\tdepth: 77\tsize: 7645\ttime_spent: 15.255769677001808\trss: 0.13773727416992188"
     ]
    },
    {
     "name": "stdout",
     "output_type": "stream",
     "text": [
      "\r",
      "scenario: reference\tprotocol: bitcoin\tdepth: 78\tsize: 7842\ttime_spent: 15.811111815004551\trss: 0.13816452026367188"
     ]
    },
    {
     "name": "stdout",
     "output_type": "stream",
     "text": [
      "\r",
      "scenario: reference\tprotocol: bitcoin\tdepth: 79\tsize: 8041\ttime_spent: 16.381327101000352\trss: 0.13856887817382812"
     ]
    },
    {
     "name": "stdout",
     "output_type": "stream",
     "text": [
      "\r",
      "scenario: reference\tprotocol: bitcoin\tdepth: 80\tsize: 8243\ttime_spent: 16.960702337004477\trss: 0.13924789428710938"
     ]
    },
    {
     "name": "stdout",
     "output_type": "stream",
     "text": [
      "\r",
      "scenario: reference\tprotocol: bitcoin\tdepth: 81\tsize: 8447\ttime_spent: 17.562657113005116\trss: 0.13967514038085938"
     ]
    },
    {
     "name": "stdout",
     "output_type": "stream",
     "text": [
      "\r",
      "scenario: reference\tprotocol: bitcoin\tdepth: 82\tsize: 8654\ttime_spent: 18.200308389001293\trss: 0.139892578125"
     ]
    },
    {
     "name": "stdout",
     "output_type": "stream",
     "text": [
      "\r",
      "scenario: reference\tprotocol: bitcoin\tdepth: 83\tsize: 8863\ttime_spent: 18.842903217999265\trss: 0.14010238647460938"
     ]
    },
    {
     "name": "stdout",
     "output_type": "stream",
     "text": [
      "\r",
      "scenario: reference\tprotocol: bitcoin\tdepth: 84\tsize: 9075\ttime_spent: 19.49373550400196\trss: 0.14105987548828125"
     ]
    },
    {
     "name": "stdout",
     "output_type": "stream",
     "text": [
      "\r",
      "scenario: reference\tprotocol: bitcoin\tdepth: 85\tsize: 9289\ttime_spent: 20.161134319001576\trss: 0.14129638671875"
     ]
    },
    {
     "name": "stdout",
     "output_type": "stream",
     "text": [
      "\r",
      "scenario: reference\tprotocol: bitcoin\tdepth: 86\tsize: 9506\ttime_spent: 20.82523858800414\trss: 0.14178466796875"
     ]
    },
    {
     "name": "stdout",
     "output_type": "stream",
     "text": [
      "\r",
      "scenario: reference\tprotocol: bitcoin\tdepth: 87\tsize: 9725\ttime_spent: 21.51234159299929\trss: 0.14224624633789062"
     ]
    },
    {
     "name": "stdout",
     "output_type": "stream",
     "text": [
      "\r",
      "scenario: reference\tprotocol: bitcoin\tdepth: 88\tsize: 9947\ttime_spent: 22.2017316019992\trss: 0.14276504516601562"
     ]
    },
    {
     "name": "stdout",
     "output_type": "stream",
     "text": [
      "\r",
      "scenario: reference\tprotocol: bitcoin\tdepth: 89\tsize: 10171\ttime_spent: 22.9057056580059\trss: 0.14329147338867188"
     ]
    },
    {
     "name": "stdout",
     "output_type": "stream",
     "text": [
      "\r",
      "scenario: reference\tprotocol: bitcoin\tdepth: 90\tsize: 10398\ttime_spent: 23.62577332300134\trss: 0.144073486328125"
     ]
    },
    {
     "name": "stdout",
     "output_type": "stream",
     "text": [
      "\r",
      "scenario: reference\tprotocol: bitcoin\tdepth: 91\tsize: 10627\ttime_spent: 24.35426103899954\trss: 0.14463043212890625"
     ]
    },
    {
     "name": "stdout",
     "output_type": "stream",
     "text": [
      "\r",
      "scenario: reference\tprotocol: bitcoin\tdepth: 92\tsize: 10859\ttime_spent: 25.102790048003953\trss: 0.1451873779296875"
     ]
    },
    {
     "name": "stdout",
     "output_type": "stream",
     "text": [
      "\r",
      "scenario: reference\tprotocol: bitcoin\tdepth: 93\tsize: 11093\ttime_spent: 25.8675073350023\trss: 0.14622879028320312"
     ]
    },
    {
     "name": "stdout",
     "output_type": "stream",
     "text": [
      "\r",
      "scenario: reference\tprotocol: bitcoin\tdepth: 94\tsize: 11330\ttime_spent: 26.650257344001147\trss: 0.15607833862304688"
     ]
    },
    {
     "name": "stdout",
     "output_type": "stream",
     "text": [
      "\r",
      "scenario: reference\tprotocol: bitcoin\tdepth: 95\tsize: 11569\ttime_spent: 27.513862921005057\trss: 0.1623077392578125"
     ]
    },
    {
     "name": "stdout",
     "output_type": "stream",
     "text": [
      "\r",
      "scenario: reference\tprotocol: bitcoin\tdepth: 96\tsize: 11811\ttime_spent: 28.423359181004344\trss: 0.16741180419921875"
     ]
    },
    {
     "name": "stdout",
     "output_type": "stream",
     "text": [
      "\r",
      "scenario: reference\tprotocol: bitcoin\tdepth: 97\tsize: 12055\ttime_spent: 29.361503725005605\trss: 0.16804885864257812"
     ]
    },
    {
     "name": "stdout",
     "output_type": "stream",
     "text": [
      "\r",
      "scenario: reference\tprotocol: bitcoin\tdepth: 98\tsize: 12302\ttime_spent: 30.34240292300092\trss: 0.1685333251953125"
     ]
    },
    {
     "name": "stdout",
     "output_type": "stream",
     "text": [
      "\r",
      "scenario: reference\tprotocol: bitcoin\tdepth: 99\tsize: 12551\ttime_spent: 31.251080175003153\trss: 0.16911697387695312"
     ]
    },
    {
     "name": "stdout",
     "output_type": "stream",
     "text": [
      "\r",
      "scenario: reference\tprotocol: bitcoin\tdepth: 100\tsize: 12803\ttime_spent: 32.133127502005664\trss: 0.16928863525390625"
     ]
    },
    {
     "name": "stdout",
     "output_type": "stream",
     "text": [
      "\r",
      "scenario: reference\tprotocol: bitcoin\tdepth: 101\tsize: 13057\ttime_spent: 33.05418525099958\trss: 0.169769287109375"
     ]
    },
    {
     "name": "stdout",
     "output_type": "stream",
     "text": [
      "\r",
      "scenario: reference\tprotocol: bitcoin\tdepth: 102\tsize: 13314\ttime_spent: 33.99704090200248\trss: 0.170623779296875"
     ]
    },
    {
     "name": "stdout",
     "output_type": "stream",
     "text": [
      "\r",
      "scenario: reference\tprotocol: bitcoin\tdepth: 103\tsize: 13573\ttime_spent: 34.9521168900028\trss: 0.1713104248046875"
     ]
    },
    {
     "name": "stdout",
     "output_type": "stream",
     "text": [
      "\r",
      "scenario: reference\tprotocol: bitcoin\tdepth: 104\tsize: 13835\ttime_spent: 35.91348602500511\trss: 0.17183303833007812"
     ]
    },
    {
     "name": "stdout",
     "output_type": "stream",
     "text": [
      "\r",
      "scenario: reference\tprotocol: bitcoin\tdepth: 105\tsize: 14099\ttime_spent: 36.89304474700475\trss: 0.17230606079101562"
     ]
    },
    {
     "name": "stdout",
     "output_type": "stream",
     "text": [
      "\r",
      "scenario: reference\tprotocol: bitcoin\tdepth: 106\tsize: 14366\ttime_spent: 37.91361715200037\trss: 0.1727752685546875"
     ]
    },
    {
     "name": "stdout",
     "output_type": "stream",
     "text": [
      "\r",
      "scenario: reference\tprotocol: bitcoin\tdepth: 107\tsize: 14635\ttime_spent: 38.95353692800563\trss: 0.17360305786132812"
     ]
    },
    {
     "name": "stdout",
     "output_type": "stream",
     "text": [
      "\r",
      "scenario: reference\tprotocol: bitcoin\tdepth: 108\tsize: 14907\ttime_spent: 39.98540555500222\trss: 0.17435455322265625"
     ]
    },
    {
     "name": "stdout",
     "output_type": "stream",
     "text": [
      "\r",
      "scenario: reference\tprotocol: bitcoin\tdepth: 109\tsize: 15181\ttime_spent: 41.02315147899935\trss: 0.17486572265625"
     ]
    },
    {
     "name": "stdout",
     "output_type": "stream",
     "text": [
      "\r",
      "scenario: reference\tprotocol: bitcoin\tdepth: 110\tsize: 15458\ttime_spent: 42.096366044002934\trss: 0.17527389526367188"
     ]
    },
    {
     "name": "stdout",
     "output_type": "stream",
     "text": [
      "\r",
      "scenario: reference\tprotocol: bitcoin\tdepth: 111\tsize: 15737\ttime_spent: 43.1717722060057\trss: 0.17580795288085938"
     ]
    },
    {
     "name": "stdout",
     "output_type": "stream",
     "text": [
      "\r",
      "scenario: reference\tprotocol: bitcoin\tdepth: 112\tsize: 16019\ttime_spent: 44.26656919800007\trss: 0.17636489868164062"
     ]
    },
    {
     "name": "stdout",
     "output_type": "stream",
     "text": [
      "\r",
      "scenario: reference\tprotocol: bitcoin\tdepth: 113\tsize: 16303\ttime_spent: 45.383486578000884\trss: 0.17716217041015625"
     ]
    },
    {
     "name": "stdout",
     "output_type": "stream",
     "text": [
      "\r",
      "scenario: reference\tprotocol: bitcoin\tdepth: 114\tsize: 16590\ttime_spent: 46.53894612099975\trss: 0.17800521850585938"
     ]
    },
    {
     "name": "stdout",
     "output_type": "stream",
     "text": [
      "\r",
      "scenario: reference\tprotocol: bitcoin\tdepth: 115\tsize: 16879\ttime_spent: 47.81786226800614\trss: 0.17833709716796875"
     ]
    },
    {
     "name": "stdout",
     "output_type": "stream",
     "text": [
      "\r",
      "scenario: reference\tprotocol: bitcoin\tdepth: 116\tsize: 17171\ttime_spent: 49.1641550839995\trss: 0.17894363403320312"
     ]
    },
    {
     "name": "stdout",
     "output_type": "stream",
     "text": [
      "\r",
      "scenario: reference\tprotocol: bitcoin\tdepth: 117\tsize: 17465\ttime_spent: 50.55624389400327\trss: 0.17926788330078125"
     ]
    },
    {
     "name": "stdout",
     "output_type": "stream",
     "text": [
      "\r",
      "scenario: reference\tprotocol: bitcoin\tdepth: 118\tsize: 17762\ttime_spent: 51.813392676005606\trss: 0.18048095703125"
     ]
    },
    {
     "name": "stdout",
     "output_type": "stream",
     "text": [
      "\r",
      "scenario: reference\tprotocol: bitcoin\tdepth: 119\tsize: 18061\ttime_spent: 53.058194274002744\trss: 0.18109130859375"
     ]
    },
    {
     "name": "stdout",
     "output_type": "stream",
     "text": [
      "\r",
      "scenario: reference\tprotocol: bitcoin\tdepth: 120\tsize: 18363\ttime_spent: 54.33556694300205\trss: 0.18164443969726562"
     ]
    },
    {
     "name": "stdout",
     "output_type": "stream",
     "text": [
      "\r",
      "scenario: reference\tprotocol: bitcoin\tdepth: 121\tsize: 18667\ttime_spent: 55.63289064499986\trss: 0.18245315551757812"
     ]
    },
    {
     "name": "stdout",
     "output_type": "stream",
     "text": [
      "\r",
      "scenario: reference\tprotocol: bitcoin\tdepth: 122\tsize: 18974\ttime_spent: 56.947877614999015\trss: 0.18306350708007812"
     ]
    },
    {
     "name": "stdout",
     "output_type": "stream",
     "text": [
      "\r",
      "scenario: reference\tprotocol: bitcoin\tdepth: 123\tsize: 19283\ttime_spent: 58.29534069800138\trss: 0.18373489379882812"
     ]
    },
    {
     "name": "stdout",
     "output_type": "stream",
     "text": [
      "\r",
      "scenario: reference\tprotocol: bitcoin\tdepth: 124\tsize: 19595\ttime_spent: 59.856946792999224\trss: 0.18514251708984375"
     ]
    },
    {
     "name": "stdout",
     "output_type": "stream",
     "text": [
      "\r",
      "scenario: reference\tprotocol: bitcoin\tdepth: 125\tsize: 19909\ttime_spent: 61.403806116999476\trss: 0.18584823608398438"
     ]
    },
    {
     "name": "stdout",
     "output_type": "stream",
     "text": [
      "\r",
      "scenario: reference\tprotocol: bitcoin\tdepth: 126\tsize: 20226\ttime_spent: 63.01869428400096\trss: 0.186614990234375"
     ]
    },
    {
     "name": "stdout",
     "output_type": "stream",
     "text": [
      "\r",
      "scenario: reference\tprotocol: bitcoin\tdepth: 127\tsize: 20545\ttime_spent: 64.62152712399984\trss: 0.18670654296875"
     ]
    },
    {
     "name": "stdout",
     "output_type": "stream",
     "text": [
      "\r",
      "scenario: reference\tprotocol: bitcoin\tdepth: 128\tsize: 20867\ttime_spent: 66.25305687000218\trss: 0.18724441528320312"
     ]
    },
    {
     "name": "stdout",
     "output_type": "stream",
     "text": [
      "\r",
      "scenario: reference\tprotocol: bitcoin\tdepth: 129\tsize: 21191\ttime_spent: 68.00420504300564\trss: 0.18790817260742188"
     ]
    },
    {
     "name": "stdout",
     "output_type": "stream",
     "text": [
      "\r",
      "scenario: reference\tprotocol: bitcoin\tdepth: 130\tsize: 21518\ttime_spent: 69.88411934000032\trss: 0.18871307373046875"
     ]
    },
    {
     "name": "stdout",
     "output_type": "stream",
     "text": [
      "\r",
      "scenario: reference\tprotocol: bitcoin\tdepth: 131\tsize: 21847\ttime_spent: 71.73056496999925\trss: 0.18955612182617188"
     ]
    },
    {
     "name": "stdout",
     "output_type": "stream",
     "text": [
      "\r",
      "scenario: reference\tprotocol: bitcoin\tdepth: 132\tsize: 22179\ttime_spent: 73.45478541800549\trss: 0.19162368774414062"
     ]
    },
    {
     "name": "stdout",
     "output_type": "stream",
     "text": [
      "\r",
      "scenario: reference\tprotocol: bitcoin\tdepth: 133\tsize: 22513\ttime_spent: 75.20918838200305\trss: 0.19264984130859375"
     ]
    },
    {
     "name": "stdout",
     "output_type": "stream",
     "text": [
      "\r",
      "scenario: reference\tprotocol: bitcoin\tdepth: 134\tsize: 22850\ttime_spent: 77.01347109999915\trss: 0.2039642333984375"
     ]
    },
    {
     "name": "stdout",
     "output_type": "stream",
     "text": [
      "\r",
      "scenario: reference\tprotocol: bitcoin\tdepth: 135\tsize: 23189\ttime_spent: 78.7947353740019\trss: 0.21358108520507812"
     ]
    },
    {
     "name": "stdout",
     "output_type": "stream",
     "text": [
      "\r",
      "scenario: reference\tprotocol: bitcoin\tdepth: 136\tsize: 23531\ttime_spent: 80.6347659680032\trss: 0.21445083618164062"
     ]
    },
    {
     "name": "stdout",
     "output_type": "stream",
     "text": [
      "\r",
      "scenario: reference\tprotocol: bitcoin\tdepth: 137\tsize: 23875\ttime_spent: 82.50378741000168\trss: 0.21508026123046875"
     ]
    },
    {
     "name": "stdout",
     "output_type": "stream",
     "text": [
      "\r",
      "scenario: reference\tprotocol: bitcoin\tdepth: 138\tsize: 24222\ttime_spent: 84.36640177100344\trss: 0.21617507934570312"
     ]
    },
    {
     "name": "stdout",
     "output_type": "stream",
     "text": [
      "\r",
      "scenario: reference\tprotocol: bitcoin\tdepth: 139\tsize: 24571\ttime_spent: 86.24617474300612\trss: 0.21701431274414062"
     ]
    },
    {
     "name": "stdout",
     "output_type": "stream",
     "text": [
      "\r",
      "scenario: reference\tprotocol: bitcoin\tdepth: 140\tsize: 24923\ttime_spent: 88.27269268800592\trss: 0.21758651733398438"
     ]
    },
    {
     "name": "stdout",
     "output_type": "stream",
     "text": [
      "\r",
      "scenario: reference\tprotocol: bitcoin\tdepth: 141\tsize: 25277\ttime_spent: 90.4664075010005\trss: 0.21828842163085938"
     ]
    },
    {
     "name": "stdout",
     "output_type": "stream",
     "text": [
      "\r",
      "scenario: reference\tprotocol: bitcoin\tdepth: 142\tsize: 25634\ttime_spent: 92.50831970300351\trss: 0.21894073486328125"
     ]
    },
    {
     "name": "stdout",
     "output_type": "stream",
     "text": [
      "\r",
      "scenario: reference\tprotocol: bitcoin\tdepth: 143\tsize: 25993\ttime_spent: 94.49655547300063\trss: 0.21960067749023438"
     ]
    },
    {
     "name": "stdout",
     "output_type": "stream",
     "text": [
      "\r",
      "scenario: reference\tprotocol: bitcoin\tdepth: 144\tsize: 26355\ttime_spent: 96.55451896600425\trss: 0.220306396484375"
     ]
    },
    {
     "name": "stdout",
     "output_type": "stream",
     "text": [
      "\r",
      "scenario: reference\tprotocol: bitcoin\tdepth: 145\tsize: 26719\ttime_spent: 98.57801076900068\trss: 0.2207489013671875"
     ]
    },
    {
     "name": "stdout",
     "output_type": "stream",
     "text": [
      "\r",
      "scenario: reference\tprotocol: bitcoin\tdepth: 146\tsize: 27086\ttime_spent: 100.64583379599935\trss: 0.22189712524414062"
     ]
    },
    {
     "name": "stdout",
     "output_type": "stream",
     "text": [
      "\r",
      "scenario: reference\tprotocol: bitcoin\tdepth: 147\tsize: 27455\ttime_spent: 102.79782503200113\trss: 0.22253799438476562"
     ]
    },
    {
     "name": "stdout",
     "output_type": "stream",
     "text": [
      "\r",
      "scenario: reference\tprotocol: bitcoin\tdepth: 148\tsize: 27827\ttime_spent: 104.96645162500499\trss: 0.22332763671875"
     ]
    },
    {
     "name": "stdout",
     "output_type": "stream",
     "text": [
      "\r",
      "scenario: reference\tprotocol: bitcoin\tdepth: 149\tsize: 28201\ttime_spent: 107.21210764200077\trss: 0.22420883178710938"
     ]
    },
    {
     "name": "stdout",
     "output_type": "stream",
     "text": [
      "\r",
      "scenario: reference\tprotocol: bitcoin\tdepth: 150\tsize: 28578\ttime_spent: 109.65627009000309\trss: 0.22517013549804688"
     ]
    },
    {
     "name": "stdout",
     "output_type": "stream",
     "text": [
      "\r",
      "scenario: reference\tprotocol: bitcoin\tdepth: 151\tsize: 28957\ttime_spent: 112.07279338700027\trss: 0.22574996948242188"
     ]
    },
    {
     "name": "stdout",
     "output_type": "stream",
     "text": [
      "\r",
      "scenario: reference\tprotocol: bitcoin\tdepth: 152\tsize: 29339\ttime_spent: 114.36033352400409\trss: 0.22623825073242188"
     ]
    },
    {
     "name": "stdout",
     "output_type": "stream",
     "text": [
      "\r",
      "scenario: reference\tprotocol: bitcoin\tdepth: 153\tsize: 29723\ttime_spent: 116.7259443389994\trss: 0.22659683227539062"
     ]
    },
    {
     "name": "stdout",
     "output_type": "stream",
     "text": [
      "\r",
      "scenario: reference\tprotocol: bitcoin\tdepth: 154\tsize: 30110\ttime_spent: 119.11124884500168\trss: 0.22714614868164062"
     ]
    },
    {
     "name": "stdout",
     "output_type": "stream",
     "text": [
      "\r",
      "scenario: reference\tprotocol: bitcoin\tdepth: 155\tsize: 30499\ttime_spent: 121.44221329200082\trss: 0.22778701782226562"
     ]
    },
    {
     "name": "stdout",
     "output_type": "stream",
     "text": [
      "\r",
      "scenario: reference\tprotocol: bitcoin\tdepth: 156\tsize: 30891\ttime_spent: 123.79605427700153\trss: 0.22835922241210938"
     ]
    },
    {
     "name": "stdout",
     "output_type": "stream",
     "text": [
      "\r",
      "scenario: reference\tprotocol: bitcoin\tdepth: 157\tsize: 31285\ttime_spent: 126.17193799200322\trss: 0.22913360595703125"
     ]
    },
    {
     "name": "stdout",
     "output_type": "stream",
     "text": [
      "\r",
      "scenario: reference\tprotocol: bitcoin\tdepth: 158\tsize: 31682\ttime_spent: 128.76502812300168\trss: 0.22953414916992188"
     ]
    },
    {
     "name": "stdout",
     "output_type": "stream",
     "text": [
      "\r",
      "scenario: reference\tprotocol: bitcoin\tdepth: 159\tsize: 32081\ttime_spent: 131.503779743005\trss: 0.23015975952148438"
     ]
    },
    {
     "name": "stdout",
     "output_type": "stream",
     "text": [
      "\r",
      "scenario: reference\tprotocol: bitcoin\tdepth: 160\tsize: 32483\ttime_spent: 134.01052309300576\trss: 0.23046112060546875"
     ]
    },
    {
     "name": "stdout",
     "output_type": "stream",
     "text": [
      "\r",
      "scenario: reference\tprotocol: bitcoin\tdepth: 161\tsize: 32887\ttime_spent: 136.5560245029992\trss: 0.23108673095703125"
     ]
    },
    {
     "name": "stdout",
     "output_type": "stream",
     "text": [
      "\r",
      "scenario: reference\tprotocol: bitcoin\tdepth: 162\tsize: 33294\ttime_spent: 139.16354453900567\trss: 0.2320098876953125"
     ]
    },
    {
     "name": "stdout",
     "output_type": "stream",
     "text": [
      "\r",
      "scenario: reference\tprotocol: bitcoin\tdepth: 163\tsize: 33703\ttime_spent: 141.7883717549994\trss: 0.23314666748046875"
     ]
    },
    {
     "name": "stdout",
     "output_type": "stream",
     "text": [
      "\r",
      "scenario: reference\tprotocol: bitcoin\tdepth: 164\tsize: 34115\ttime_spent: 144.41002934900462\trss: 0.23447799682617188"
     ]
    },
    {
     "name": "stdout",
     "output_type": "stream",
     "text": [
      "\r",
      "scenario: reference\tprotocol: bitcoin\tdepth: 165\tsize: 34529\ttime_spent: 147.0799751070008\trss: 0.23574447631835938"
     ]
    },
    {
     "name": "stdout",
     "output_type": "stream",
     "text": [
      "\r",
      "scenario: reference\tprotocol: bitcoin\tdepth: 166\tsize: 34946\ttime_spent: 149.96723232700606\trss: 0.2367095947265625"
     ]
    },
    {
     "name": "stdout",
     "output_type": "stream",
     "text": [
      "\r",
      "scenario: reference\tprotocol: bitcoin\tdepth: 167\tsize: 35365\ttime_spent: 152.73555781000323\trss: 0.23788070678710938"
     ]
    },
    {
     "name": "stdout",
     "output_type": "stream",
     "text": [
      "\r",
      "scenario: reference\tprotocol: bitcoin\tdepth: 168\tsize: 35787\ttime_spent: 155.46659027500573\trss: 0.23907470703125"
     ]
    },
    {
     "name": "stdout",
     "output_type": "stream",
     "text": [
      "\r",
      "scenario: reference\tprotocol: bitcoin\tdepth: 169\tsize: 36211\ttime_spent: 158.2998388490014\trss: 0.24044418334960938"
     ]
    },
    {
     "name": "stdout",
     "output_type": "stream",
     "text": [
      "\r",
      "scenario: reference\tprotocol: bitcoin\tdepth: 170\tsize: 36638\ttime_spent: 161.145607794002\trss: 0.2421112060546875"
     ]
    },
    {
     "name": "stdout",
     "output_type": "stream",
     "text": [
      "\r",
      "scenario: reference\tprotocol: bitcoin\tdepth: 171\tsize: 37067\ttime_spent: 164.03721387000405\trss: 0.24340438842773438"
     ]
    },
    {
     "name": "stdout",
     "output_type": "stream",
     "text": [
      "\r",
      "scenario: reference\tprotocol: bitcoin\tdepth: 172\tsize: 37499\ttime_spent: 166.95533328199963\trss: 0.24437713623046875"
     ]
    },
    {
     "name": "stdout",
     "output_type": "stream",
     "text": [
      "\r",
      "scenario: reference\tprotocol: bitcoin\tdepth: 173\tsize: 37933\ttime_spent: 170.1757940440002\trss: 0.24556732177734375"
     ]
    },
    {
     "name": "stdout",
     "output_type": "stream",
     "text": [
      "\r",
      "scenario: reference\tprotocol: bitcoin\tdepth: 174\tsize: 38370\ttime_spent: 173.12849517300492\trss: 0.24669647216796875"
     ]
    },
    {
     "name": "stdout",
     "output_type": "stream",
     "text": [
      "\r",
      "scenario: reference\tprotocol: bitcoin\tdepth: 175\tsize: 38809\ttime_spent: 176.10737874700135\trss: 0.24824142456054688"
     ]
    },
    {
     "name": "stdout",
     "output_type": "stream",
     "text": [
      "\r",
      "scenario: reference\tprotocol: bitcoin\tdepth: 176\tsize: 39251\ttime_spent: 179.14061355000013\trss: 0.24942398071289062"
     ]
    },
    {
     "name": "stdout",
     "output_type": "stream",
     "text": [
      "\r",
      "scenario: reference\tprotocol: bitcoin\tdepth: 177\tsize: 39695\ttime_spent: 182.1642982600024\trss: 0.250762939453125"
     ]
    },
    {
     "name": "stdout",
     "output_type": "stream",
     "text": [
      "\r",
      "scenario: reference\tprotocol: bitcoin\tdepth: 178\tsize: 40142\ttime_spent: 185.20386943199992\trss: 0.2519378662109375"
     ]
    },
    {
     "name": "stdout",
     "output_type": "stream",
     "text": [
      "\r",
      "scenario: reference\tprotocol: bitcoin\tdepth: 179\tsize: 40591\ttime_spent: 188.4790856719992\trss: 0.25310516357421875"
     ]
    },
    {
     "name": "stdout",
     "output_type": "stream",
     "text": [
      "\r",
      "scenario: reference\tprotocol: bitcoin\tdepth: 180\tsize: 41043\ttime_spent: 191.86160357000335\trss: 0.2550239562988281"
     ]
    },
    {
     "name": "stdout",
     "output_type": "stream",
     "text": [
      "\r",
      "scenario: reference\tprotocol: bitcoin\tdepth: 181\tsize: 41497\ttime_spent: 195.11777659100335\trss: 0.256195068359375"
     ]
    },
    {
     "name": "stdout",
     "output_type": "stream",
     "text": [
      "\r",
      "scenario: reference\tprotocol: bitcoin\tdepth: 182\tsize: 41954\ttime_spent: 198.34192976600025\trss: 0.25778961181640625"
     ]
    },
    {
     "name": "stdout",
     "output_type": "stream",
     "text": [
      "\r",
      "scenario: reference\tprotocol: bitcoin\tdepth: 183\tsize: 42413\ttime_spent: 201.57562095100002\trss: 0.25940704345703125"
     ]
    },
    {
     "name": "stdout",
     "output_type": "stream",
     "text": [
      "\r",
      "scenario: reference\tprotocol: bitcoin\tdepth: 184\tsize: 42875\ttime_spent: 204.83039358300448\trss: 0.26067352294921875"
     ]
    },
    {
     "name": "stdout",
     "output_type": "stream",
     "text": [
      "\r",
      "scenario: reference\tprotocol: bitcoin\tdepth: 185\tsize: 43339\ttime_spent: 208.28572232399893\trss: 0.2618827819824219"
     ]
    },
    {
     "name": "stdout",
     "output_type": "stream",
     "text": [
      "\r",
      "scenario: reference\tprotocol: bitcoin\tdepth: 186\tsize: 43806\ttime_spent: 211.8766812169997\trss: 0.2631645202636719"
     ]
    },
    {
     "name": "stdout",
     "output_type": "stream",
     "text": [
      "\r",
      "scenario: reference\tprotocol: bitcoin\tdepth: 187\tsize: 44275\ttime_spent: 215.1962952660033\trss: 0.2662811279296875"
     ]
    },
    {
     "name": "stdout",
     "output_type": "stream",
     "text": [
      "\r",
      "scenario: reference\tprotocol: bitcoin\tdepth: 188\tsize: 44747\ttime_spent: 218.54986091900355\trss: 0.26763916015625"
     ]
    },
    {
     "name": "stdout",
     "output_type": "stream",
     "text": [
      "\r",
      "scenario: reference\tprotocol: bitcoin\tdepth: 189\tsize: 45221\ttime_spent: 222.10892185500416\trss: 0.2687950134277344"
     ]
    },
    {
     "name": "stdout",
     "output_type": "stream",
     "text": [
      "\r",
      "scenario: reference\tprotocol: bitcoin\tdepth: 190\tsize: 45698\ttime_spent: 225.67058025900042\trss: 0.26999664306640625"
     ]
    },
    {
     "name": "stdout",
     "output_type": "stream",
     "text": [
      "\r",
      "scenario: reference\tprotocol: bitcoin\tdepth: 191\tsize: 46177\ttime_spent: 229.4811155780044\trss: 0.2707939147949219"
     ]
    },
    {
     "name": "stdout",
     "output_type": "stream",
     "text": [
      "\r",
      "scenario: reference\tprotocol: bitcoin\tdepth: 192\tsize: 46659\ttime_spent: 233.2302235810057\trss: 0.2721366882324219"
     ]
    },
    {
     "name": "stdout",
     "output_type": "stream",
     "text": [
      "\r",
      "scenario: reference\tprotocol: bitcoin\tdepth: 193\tsize: 47143\ttime_spent: 236.93496457100264\trss: 0.2731285095214844"
     ]
    },
    {
     "name": "stdout",
     "output_type": "stream",
     "text": [
      "\r",
      "scenario: reference\tprotocol: bitcoin\tdepth: 194\tsize: 47630\ttime_spent: 240.667085977002\trss: 0.2746925354003906"
     ]
    },
    {
     "name": "stdout",
     "output_type": "stream",
     "text": [
      "\r",
      "scenario: reference\tprotocol: bitcoin\tdepth: 195\tsize: 48119\ttime_spent: 244.4646452990055\trss: 0.2757072448730469"
     ]
    },
    {
     "name": "stdout",
     "output_type": "stream",
     "text": [
      "\r",
      "scenario: reference\tprotocol: bitcoin\tdepth: 196\tsize: 48611\ttime_spent: 248.4043434769992\trss: 0.2768058776855469"
     ]
    },
    {
     "name": "stdout",
     "output_type": "stream",
     "text": [
      "\r",
      "scenario: reference\tprotocol: bitcoin\tdepth: 197\tsize: 49105\ttime_spent: 252.44176054900163\trss: 0.2783317565917969"
     ]
    },
    {
     "name": "stdout",
     "output_type": "stream",
     "text": [
      "\r",
      "scenario: reference\tprotocol: bitcoin\tdepth: 198\tsize: 49602\ttime_spent: 256.27762805599923\trss: 0.27941131591796875"
     ]
    },
    {
     "name": "stdout",
     "output_type": "stream",
     "text": [
      "\r",
      "scenario: reference\tprotocol: bitcoin\tdepth: 199\tsize: 50101\ttime_spent: 260.1627353139993\trss: 0.28047943115234375"
     ]
    },
    {
     "name": "stdout",
     "output_type": "stream",
     "text": [
      "\r",
      "scenario: reference\tprotocol: bitcoin\tdepth: 200\tsize: 50603\ttime_spent: 264.157571609001\trss: 0.2818031311035156"
     ]
    },
    {
     "name": "stdout",
     "output_type": "stream",
     "text": [
      "\r",
      "scenario: reference\tprotocol: bitcoin\tdepth: 201\tsize: 51107\ttime_spent: 268.3574539840047\trss: 0.2825202941894531"
     ]
    },
    {
     "name": "stdout",
     "output_type": "stream",
     "text": [
      "\r",
      "scenario: reference\tprotocol: bitcoin\tdepth: 202\tsize: 51614\ttime_spent: 272.58042916200066\trss: 0.2844276428222656"
     ]
    },
    {
     "name": "stdout",
     "output_type": "stream",
     "text": [
      "\r",
      "scenario: reference\tprotocol: bitcoin\tdepth: 203\tsize: 52123\ttime_spent: 276.5986783410044\trss: 0.2852516174316406"
     ]
    },
    {
     "name": "stdout",
     "output_type": "stream",
     "text": [
      "\r",
      "scenario: reference\tprotocol: bitcoin\tdepth: 204\tsize: 52635\ttime_spent: 280.64088952500606\trss: 0.286834716796875"
     ]
    },
    {
     "name": "stdout",
     "output_type": "stream",
     "text": [
      "\r",
      "scenario: reference\tprotocol: bitcoin\tdepth: 205\tsize: 53149\ttime_spent: 284.8534496659995\trss: 0.2881507873535156"
     ]
    },
    {
     "name": "stdout",
     "output_type": "stream",
     "text": [
      "\r",
      "scenario: reference\tprotocol: bitcoin\tdepth: 206\tsize: 53666\ttime_spent: 289.2303692780042\trss: 0.28896331787109375"
     ]
    },
    {
     "name": "stdout",
     "output_type": "stream",
     "text": [
      "\r",
      "scenario: reference\tprotocol: bitcoin\tdepth: 207\tsize: 54185\ttime_spent: 293.6447193350032\trss: 0.2896728515625"
     ]
    },
    {
     "name": "stdout",
     "output_type": "stream",
     "text": [
      "\r",
      "scenario: reference\tprotocol: bitcoin\tdepth: 208\tsize: 54707\ttime_spent: 297.87478445700253\trss: 0.29134368896484375"
     ]
    },
    {
     "name": "stdout",
     "output_type": "stream",
     "text": [
      "\r",
      "scenario: reference\tprotocol: bitcoin\tdepth: 209\tsize: 55231\ttime_spent: 302.10679346800316\trss: 0.29267120361328125"
     ]
    },
    {
     "name": "stdout",
     "output_type": "stream",
     "text": [
      "\r",
      "scenario: reference\tprotocol: bitcoin\tdepth: 210\tsize: 55758\ttime_spent: 306.3695901120009\trss: 0.29323577880859375"
     ]
    },
    {
     "name": "stdout",
     "output_type": "stream",
     "text": [
      "\r",
      "scenario: reference\tprotocol: bitcoin\tdepth: 211\tsize: 56287\ttime_spent: 311.00582695300545\trss: 0.29534912109375"
     ]
    },
    {
     "name": "stdout",
     "output_type": "stream",
     "text": [
      "\r",
      "scenario: reference\tprotocol: bitcoin\tdepth: 212\tsize: 56819\ttime_spent: 315.3612899639993\trss: 0.2970428466796875"
     ]
    },
    {
     "name": "stdout",
     "output_type": "stream",
     "text": [
      "\r",
      "scenario: reference\tprotocol: bitcoin\tdepth: 213\tsize: 57353\ttime_spent: 319.83018149800046\trss: 0.2990074157714844"
     ]
    },
    {
     "name": "stdout",
     "output_type": "stream",
     "text": [
      "\r",
      "scenario: reference\tprotocol: bitcoin\tdepth: 214\tsize: 57890\ttime_spent: 324.40292650500487\trss: 0.2997589111328125"
     ]
    },
    {
     "name": "stdout",
     "output_type": "stream",
     "text": [
      "\r",
      "scenario: reference\tprotocol: bitcoin\tdepth: 215\tsize: 58429\ttime_spent: 329.08427296100126\trss: 0.3007545471191406"
     ]
    },
    {
     "name": "stdout",
     "output_type": "stream",
     "text": [
      "\r",
      "scenario: reference\tprotocol: bitcoin\tdepth: 216\tsize: 58971\ttime_spent: 333.8112826130018\trss: 0.30274200439453125"
     ]
    },
    {
     "name": "stdout",
     "output_type": "stream",
     "text": [
      "\r",
      "scenario: reference\tprotocol: bitcoin\tdepth: 217\tsize: 59515\ttime_spent: 338.390603028005\trss: 0.3035316467285156"
     ]
    },
    {
     "name": "stdout",
     "output_type": "stream",
     "text": [
      "\r",
      "scenario: reference\tprotocol: bitcoin\tdepth: 218\tsize: 60062\ttime_spent: 342.92430984000384\trss: 0.30462646484375"
     ]
    },
    {
     "name": "stdout",
     "output_type": "stream",
     "text": [
      "\r",
      "scenario: reference\tprotocol: bitcoin\tdepth: 219\tsize: 60611\ttime_spent: 347.6963945530006\trss: 0.3061485290527344"
     ]
    },
    {
     "name": "stdout",
     "output_type": "stream",
     "text": [
      "\r",
      "scenario: reference\tprotocol: bitcoin\tdepth: 220\tsize: 61163\ttime_spent: 352.63731925900356\trss: 0.3071937561035156"
     ]
    },
    {
     "name": "stdout",
     "output_type": "stream",
     "text": [
      "\r",
      "scenario: reference\tprotocol: bitcoin\tdepth: 221\tsize: 61717\ttime_spent: 357.3760178500015\trss: 0.30902099609375"
     ]
    },
    {
     "name": "stdout",
     "output_type": "stream",
     "text": [
      "\r",
      "scenario: reference\tprotocol: bitcoin\tdepth: 222\tsize: 62274\ttime_spent: 362.19644579000305\trss: 0.3101768493652344"
     ]
    },
    {
     "name": "stdout",
     "output_type": "stream",
     "text": [
      "\r",
      "scenario: reference\tprotocol: bitcoin\tdepth: 223\tsize: 62833\ttime_spent: 367.0511058100019\trss: 0.31103515625"
     ]
    },
    {
     "name": "stdout",
     "output_type": "stream",
     "text": [
      "\r",
      "scenario: reference\tprotocol: bitcoin\tdepth: 224\tsize: 63395\ttime_spent: 372.1489049610027\trss: 0.31261444091796875"
     ]
    },
    {
     "name": "stdout",
     "output_type": "stream",
     "text": [
      "\r",
      "scenario: reference\tprotocol: bitcoin\tdepth: 225\tsize: 63959\ttime_spent: 376.9716268590055\trss: 0.3138160705566406"
     ]
    },
    {
     "name": "stdout",
     "output_type": "stream",
     "text": [
      "\r",
      "scenario: reference\tprotocol: bitcoin\tdepth: 226\tsize: 64526\ttime_spent: 381.84432175500115\trss: 0.31514739990234375"
     ]
    },
    {
     "name": "stdout",
     "output_type": "stream",
     "text": [
      "\r",
      "scenario: reference\tprotocol: bitcoin\tdepth: 227\tsize: 65095\ttime_spent: 386.84957635799947\trss: 0.3167610168457031"
     ]
    },
    {
     "name": "stdout",
     "output_type": "stream",
     "text": [
      "\r",
      "scenario: reference\tprotocol: bitcoin\tdepth: 228\tsize: 65667\ttime_spent: 392.1596032150046\trss: 0.31769561767578125"
     ]
    },
    {
     "name": "stdout",
     "output_type": "stream",
     "text": [
      "\r",
      "scenario: reference\tprotocol: bitcoin\tdepth: 229\tsize: 66241\ttime_spent: 397.2945409430031\trss: 0.319366455078125"
     ]
    },
    {
     "name": "stdout",
     "output_type": "stream",
     "text": [
      "\r",
      "scenario: reference\tprotocol: bitcoin\tdepth: 230\tsize: 66818\ttime_spent: 402.5501129460026\trss: 0.3206596374511719"
     ]
    },
    {
     "name": "stdout",
     "output_type": "stream",
     "text": [
      "\r",
      "scenario: reference\tprotocol: bitcoin\tdepth: 231\tsize: 67397\ttime_spent: 408.0477433310007\trss: 0.3223419189453125"
     ]
    },
    {
     "name": "stdout",
     "output_type": "stream",
     "text": [
      "\r",
      "scenario: reference\tprotocol: bitcoin\tdepth: 232\tsize: 67979\ttime_spent: 413.562680603005\trss: 0.3237648010253906"
     ]
    },
    {
     "name": "stdout",
     "output_type": "stream",
     "text": [
      "\r",
      "scenario: reference\tprotocol: bitcoin\tdepth: 233\tsize: 68563\ttime_spent: 418.8693798520035\trss: 0.324249267578125"
     ]
    },
    {
     "name": "stdout",
     "output_type": "stream",
     "text": [
      "\r",
      "scenario: reference\tprotocol: bitcoin\tdepth: 234\tsize: 69150\ttime_spent: 424.15258114600147\trss: 0.3262062072753906"
     ]
    },
    {
     "name": "stdout",
     "output_type": "stream",
     "text": [
      "\r",
      "scenario: reference\tprotocol: bitcoin\tdepth: 235\tsize: 69739\ttime_spent: 429.8894172950022\trss: 0.32767486572265625"
     ]
    },
    {
     "name": "stdout",
     "output_type": "stream",
     "text": [
      "\r",
      "scenario: reference\tprotocol: bitcoin\tdepth: 236\tsize: 70331\ttime_spent: 435.3941629710025\trss: 0.3294105529785156"
     ]
    },
    {
     "name": "stdout",
     "output_type": "stream",
     "text": [
      "\r",
      "scenario: reference\tprotocol: bitcoin\tdepth: 237\tsize: 70925\ttime_spent: 441.00848844199936\trss: 0.33062744140625"
     ]
    },
    {
     "name": "stdout",
     "output_type": "stream",
     "text": [
      "\r",
      "scenario: reference\tprotocol: bitcoin\tdepth: 238\tsize: 71522\ttime_spent: 446.6474227630024\trss: 0.3324737548828125"
     ]
    },
    {
     "name": "stdout",
     "output_type": "stream",
     "text": [
      "\r",
      "scenario: reference\tprotocol: bitcoin\tdepth: 239\tsize: 72121\ttime_spent: 452.6299147690006\trss: 0.3333625793457031"
     ]
    },
    {
     "name": "stdout",
     "output_type": "stream",
     "text": [
      "\r",
      "scenario: reference\tprotocol: bitcoin\tdepth: 240\tsize: 72723\ttime_spent: 458.37799036300567\trss: 0.33447265625"
     ]
    },
    {
     "name": "stdout",
     "output_type": "stream",
     "text": [
      "\r",
      "scenario: reference\tprotocol: bitcoin\tdepth: 241\tsize: 73327\ttime_spent: 464.081252587006\trss: 0.3365821838378906"
     ]
    },
    {
     "name": "stdout",
     "output_type": "stream",
     "text": [
      "\r",
      "scenario: reference\tprotocol: bitcoin\tdepth: 242\tsize: 73934\ttime_spent: 470.13599636500294\trss: 0.3373870849609375"
     ]
    },
    {
     "name": "stdout",
     "output_type": "stream",
     "text": [
      "\r",
      "scenario: reference\tprotocol: bitcoin\tdepth: 243\tsize: 74543\ttime_spent: 475.95468248000543\trss: 0.3394126892089844"
     ]
    },
    {
     "name": "stdout",
     "output_type": "stream",
     "text": [
      "\r",
      "scenario: reference\tprotocol: bitcoin\tdepth: 244\tsize: 75155\ttime_spent: 481.82212004900066\trss: 0.3403129577636719"
     ]
    },
    {
     "name": "stdout",
     "output_type": "stream",
     "text": [
      "\r",
      "scenario: reference\tprotocol: bitcoin\tdepth: 245\tsize: 75769\ttime_spent: 487.8108983790007\trss: 0.342254638671875"
     ]
    },
    {
     "name": "stdout",
     "output_type": "stream",
     "text": [
      "\r",
      "scenario: reference\tprotocol: bitcoin\tdepth: 246\tsize: 76386\ttime_spent: 493.86598796600447\trss: 0.3438072204589844"
     ]
    },
    {
     "name": "stdout",
     "output_type": "stream",
     "text": [
      "\r",
      "scenario: reference\tprotocol: bitcoin\tdepth: 247\tsize: 77005\ttime_spent: 499.91136063700105\trss: 0.34477996826171875"
     ]
    },
    {
     "name": "stdout",
     "output_type": "stream",
     "text": [
      "\r",
      "scenario: reference\tprotocol: bitcoin\tdepth: 248\tsize: 77627\ttime_spent: 505.9834414200013\trss: 0.34641265869140625"
     ]
    },
    {
     "name": "stdout",
     "output_type": "stream",
     "text": [
      "\r",
      "scenario: reference\tprotocol: bitcoin\tdepth: 249\tsize: 78251\ttime_spent: 512.4068552370009\trss: 0.3477210998535156"
     ]
    },
    {
     "name": "stdout",
     "output_type": "stream",
     "text": [
      "\r",
      "scenario: reference\tprotocol: bitcoin\tdepth: 250\tsize: 78878\ttime_spent: 518.6319598250047\trss: 0.3493385314941406"
     ]
    },
    {
     "name": "stdout",
     "output_type": "stream",
     "text": [
      "\r",
      "scenario: reference\tprotocol: bitcoin\tdepth: 251\tsize: 79507\ttime_spent: 524.8167896150044\trss: 0.3507957458496094"
     ]
    },
    {
     "name": "stdout",
     "output_type": "stream",
     "text": [
      "\r",
      "scenario: reference\tprotocol: bitcoin\tdepth: 252\tsize: 80139\ttime_spent: 531.6333619460056\trss: 0.3526649475097656"
     ]
    },
    {
     "name": "stdout",
     "output_type": "stream",
     "text": [
      "\r",
      "scenario: reference\tprotocol: bitcoin\tdepth: 253\tsize: 80773\ttime_spent: 538.0631369780021\trss: 0.35399627685546875"
     ]
    },
    {
     "name": "stdout",
     "output_type": "stream",
     "text": [
      "\r",
      "scenario: reference\tprotocol: bitcoin\tdepth: 254\tsize: 81410\ttime_spent: 544.9370630859994\trss: 0.356414794921875"
     ]
    },
    {
     "name": "stdout",
     "output_type": "stream",
     "text": [
      "\r",
      "scenario: reference\tprotocol: bitcoin\tdepth: 255\tsize: 82049\ttime_spent: 552.3540869200006\trss: 0.357147216796875"
     ]
    },
    {
     "name": "stdout",
     "output_type": "stream",
     "text": [
      "\r",
      "scenario: reference\tprotocol: bitcoin\tdepth: 256\tsize: 82691\ttime_spent: 559.5248832340003\trss: 0.3581733703613281"
     ]
    },
    {
     "name": "stdout",
     "output_type": "stream",
     "text": [
      "\r",
      "scenario: reference\tprotocol: bitcoin\tdepth: 257\tsize: 83335\ttime_spent: 566.0755062419994\trss: 0.3602104187011719"
     ]
    },
    {
     "name": "stdout",
     "output_type": "stream",
     "text": [
      "\r",
      "scenario: reference\tprotocol: bitcoin\tdepth: 258\tsize: 83982\ttime_spent: 572.7812561430037\trss: 0.3613433837890625"
     ]
    },
    {
     "name": "stdout",
     "output_type": "stream",
     "text": [
      "\r",
      "scenario: reference\tprotocol: bitcoin\tdepth: 259\tsize: 84631\ttime_spent: 579.1985493669999\trss: 0.36334228515625"
     ]
    },
    {
     "name": "stdout",
     "output_type": "stream",
     "text": [
      "\r",
      "scenario: reference\tprotocol: bitcoin\tdepth: 260\tsize: 85283\ttime_spent: 585.6139351400052\trss: 0.36428070068359375"
     ]
    },
    {
     "name": "stdout",
     "output_type": "stream",
     "text": [
      "\r",
      "scenario: reference\tprotocol: bitcoin\tdepth: 261\tsize: 85937\ttime_spent: 592.4511573760028\trss: 0.3662147521972656"
     ]
    },
    {
     "name": "stdout",
     "output_type": "stream",
     "text": [
      "\r",
      "scenario: reference\tprotocol: bitcoin\tdepth: 262\tsize: 86594\ttime_spent: 599.2256273880048\trss: 0.3670234680175781"
     ]
    },
    {
     "name": "stdout",
     "output_type": "stream",
     "text": [
      "\r",
      "scenario: reference\tprotocol: bitcoin\tdepth: 263\tsize: 87253\ttime_spent: 606.1329351400054\trss: 0.3690910339355469"
     ]
    },
    {
     "name": "stdout",
     "output_type": "stream",
     "text": [
      "\r",
      "scenario: reference\tprotocol: bitcoin\tdepth: 264\tsize: 87915\ttime_spent: 613.4704539510058\trss: 0.3708915710449219"
     ]
    },
    {
     "name": "stdout",
     "output_type": "stream",
     "text": [
      "\r",
      "scenario: reference\tprotocol: bitcoin\tdepth: 265\tsize: 88579\ttime_spent: 620.4603955400016\trss: 0.3758735656738281"
     ]
    },
    {
     "name": "stdout",
     "output_type": "stream",
     "text": [
      "\r",
      "scenario: reference\tprotocol: bitcoin\tdepth: 266\tsize: 89246\ttime_spent: 627.6542681560022\trss: 0.3771171569824219"
     ]
    },
    {
     "name": "stdout",
     "output_type": "stream",
     "text": [
      "\r",
      "scenario: reference\tprotocol: bitcoin\tdepth: 267\tsize: 89915\ttime_spent: 634.7327116820015\trss: 0.3797798156738281"
     ]
    },
    {
     "name": "stdout",
     "output_type": "stream",
     "text": [
      "\r",
      "scenario: reference\tprotocol: bitcoin\tdepth: 268\tsize: 90587\ttime_spent: 641.7402295159991\trss: 0.3804664611816406"
     ]
    },
    {
     "name": "stdout",
     "output_type": "stream",
     "text": [
      "\r",
      "scenario: reference\tprotocol: bitcoin\tdepth: 269\tsize: 91261\ttime_spent: 649.094985224001\trss: 0.3814582824707031"
     ]
    },
    {
     "name": "stdout",
     "output_type": "stream",
     "text": [
      "\r",
      "scenario: reference\tprotocol: bitcoin\tdepth: 270\tsize: 91938\ttime_spent: 656.2794281430033\trss: 0.3837318420410156"
     ]
    },
    {
     "name": "stdout",
     "output_type": "stream",
     "text": [
      "\r",
      "scenario: reference\tprotocol: bitcoin\tdepth: 271\tsize: 92617\ttime_spent: 663.4239175780021\trss: 0.38541412353515625"
     ]
    },
    {
     "name": "stdout",
     "output_type": "stream",
     "text": [
      "\r",
      "scenario: reference\tprotocol: bitcoin\tdepth: 272\tsize: 93299\ttime_spent: 670.9901313480004\trss: 0.3871269226074219"
     ]
    },
    {
     "name": "stdout",
     "output_type": "stream",
     "text": [
      "\r",
      "scenario: reference\tprotocol: bitcoin\tdepth: 273\tsize: 93983\ttime_spent: 678.3047460900052\trss: 0.3882408142089844"
     ]
    },
    {
     "name": "stdout",
     "output_type": "stream",
     "text": [
      "\r",
      "scenario: reference\tprotocol: bitcoin\tdepth: 274\tsize: 94670\ttime_spent: 685.7127265630043\trss: 0.3907623291015625"
     ]
    },
    {
     "name": "stdout",
     "output_type": "stream",
     "text": [
      "\r",
      "scenario: reference\tprotocol: bitcoin\tdepth: 275\tsize: 95359\ttime_spent: 693.1933913300018\trss: 0.3916969299316406"
     ]
    },
    {
     "name": "stdout",
     "output_type": "stream",
     "text": [
      "\r",
      "scenario: reference\tprotocol: bitcoin\tdepth: 276\tsize: 96051\ttime_spent: 700.5261385110061\trss: 0.3940620422363281"
     ]
    },
    {
     "name": "stdout",
     "output_type": "stream",
     "text": [
      "\r",
      "scenario: reference\tprotocol: bitcoin\tdepth: 277\tsize: 96745\ttime_spent: 708.2740936390037\trss: 0.3947944641113281"
     ]
    },
    {
     "name": "stdout",
     "output_type": "stream",
     "text": [
      "\r",
      "scenario: reference\tprotocol: bitcoin\tdepth: 278\tsize: 97442\ttime_spent: 715.7590878160045\trss: 0.3973388671875"
     ]
    },
    {
     "name": "stdout",
     "output_type": "stream",
     "text": [
      "\r",
      "scenario: reference\tprotocol: bitcoin\tdepth: 279\tsize: 98141\ttime_spent: 723.5006829710037\trss: 0.3986167907714844"
     ]
    },
    {
     "name": "stdout",
     "output_type": "stream",
     "text": [
      "\r",
      "scenario: reference\tprotocol: bitcoin\tdepth: 280\tsize: 98843\ttime_spent: 731.2698091240018\trss: 0.4002494812011719"
     ]
    },
    {
     "name": "stdout",
     "output_type": "stream",
     "text": [
      "\r",
      "scenario: reference\tprotocol: bitcoin\tdepth: 281\tsize: 99547\ttime_spent: 738.8547541160005\trss: 0.40161895751953125"
     ]
    },
    {
     "name": "stdout",
     "output_type": "stream",
     "text": [
      "\r",
      "scenario: reference-v0\tprotocol: bitcoin\tdepth: 0\tsize: 10\ttime_spent: 0.0038865179958520457\trss: 0.23444747924804688\r",
      "scenario: reference-v0\tprotocol: bitcoin\tdepth: 1\tsize: 36\ttime_spent: 0.048744390995125286\trss: 0.23444747924804688\r",
      "scenario: reference-v0\tprotocol: bitcoin\tdepth: 2\tsize: 110\ttime_spent: 0.1086679340005503\trss: 0.23444747924804688"
     ]
    },
    {
     "name": "stdout",
     "output_type": "stream",
     "text": [
      "\r",
      "scenario: reference-v0\tprotocol: bitcoin\tdepth: 3\tsize: 278\ttime_spent: 0.23726072299905354\trss: 0.23429107666015625"
     ]
    },
    {
     "name": "stdout",
     "output_type": "stream",
     "text": [
      "\r",
      "scenario: reference-v0\tprotocol: bitcoin\tdepth: 4\tsize: 600\ttime_spent: 0.48492102299496764\trss: 0.23429107666015625"
     ]
    },
    {
     "name": "stdout",
     "output_type": "stream",
     "text": [
      "\r",
      "scenario: reference-v0\tprotocol: bitcoin\tdepth: 5\tsize: 1165\ttime_spent: 0.944843844998104\trss: 0.23429107666015625"
     ]
    },
    {
     "name": "stdout",
     "output_type": "stream",
     "text": [
      "\r",
      "scenario: reference-v0\tprotocol: bitcoin\tdepth: 6\tsize: 2091\ttime_spent: 1.7638956500013592\trss: 0.23429107666015625"
     ]
    },
    {
     "name": "stdout",
     "output_type": "stream",
     "text": [
      "\r",
      "scenario: reference-v0\tprotocol: bitcoin\tdepth: 7\tsize: 3521\ttime_spent: 3.1744896480013267\trss: 0.23636627197265625"
     ]
    },
    {
     "name": "stdout",
     "output_type": "stream",
     "text": [
      "\r",
      "scenario: reference-v0\tprotocol: bitcoin\tdepth: 8\tsize: 5640\ttime_spent: 5.533166203000292\trss: 0.23880767822265625"
     ]
    },
    {
     "name": "stdout",
     "output_type": "stream",
     "text": [
      "\r",
      "scenario: reference-v0\tprotocol: bitcoin\tdepth: 9\tsize: 8672\ttime_spent: 9.31670198199572\trss: 0.24454498291015625"
     ]
    },
    {
     "name": "stdout",
     "output_type": "stream",
     "text": [
      "\r",
      "scenario: reference-v0\tprotocol: bitcoin\tdepth: 10\tsize: 12876\ttime_spent: 15.281122052998398\trss: 0.24600982666015625"
     ]
    },
    {
     "name": "stdout",
     "output_type": "stream",
     "text": [
      "\r",
      "scenario: reference-v0\tprotocol: bitcoin\tdepth: 11\tsize: 18567\ttime_spent: 24.16074094099895\trss: 0.25797271728515625"
     ]
    },
    {
     "name": "stdout",
     "output_type": "stream",
     "text": [
      "\r",
      "scenario: reference-v0\tprotocol: bitcoin\tdepth: 12\tsize: 26109\ttime_spent: 36.86729827999807\trss: 0.2457122802734375"
     ]
    },
    {
     "name": "stdout",
     "output_type": "stream",
     "text": [
      "\r",
      "scenario: reference-v0\tprotocol: bitcoin\tdepth: 13\tsize: 35911\ttime_spent: 54.42635180599609\trss: 0.2527618408203125"
     ]
    },
    {
     "name": "stdout",
     "output_type": "stream",
     "text": [
      "\r",
      "scenario: reference-v0\tprotocol: bitcoin\tdepth: 14\tsize: 48452\ttime_spent: 79.11327429799712\trss: 0.2640342712402344"
     ]
    },
    {
     "name": "stdout",
     "output_type": "stream",
     "text": [
      "\r",
      "scenario: reference-v0\tprotocol: bitcoin\tdepth: 15\tsize: 64270\ttime_spent: 112.21732486499968\trss: 0.28034210205078125"
     ]
    },
    {
     "name": "stdout",
     "output_type": "stream",
     "text": [
      "\r",
      "scenario: reference-v0\tprotocol: bitcoin\tdepth: 16\tsize: 83958\ttime_spent: 156.77069464899978\trss: 0.3362083435058594"
     ]
    },
    {
     "name": "stdout",
     "output_type": "stream",
     "text": [
      "\r",
      "scenario: baseline\tprotocol: bitcoin\tdepth: 0\tsize: 6\ttime_spent: 0.0025696550001157448\trss: 0.3375358581542969\r",
      "scenario: baseline\tprotocol: bitcoin\tdepth: 1\tsize: 29\ttime_spent: 0.05915177400311222\trss: 0.3370933532714844\r",
      "scenario: baseline\tprotocol: bitcoin\tdepth: 2\tsize: 170\ttime_spent: 0.16007485499721952\trss: 0.3370933532714844"
     ]
    },
    {
     "name": "stdout",
     "output_type": "stream",
     "text": [
      "\r",
      "scenario: baseline\tprotocol: bitcoin\tdepth: 3\tsize: 875\ttime_spent: 0.4868762539990712\trss: 0.3368492126464844"
     ]
    },
    {
     "name": "stdout",
     "output_type": "stream",
     "text": [
      "\r",
      "scenario: baseline\tprotocol: bitcoin\tdepth: 4\tsize: 4135\ttime_spent: 2.4878715540035046\trss: 0.3368492126464844"
     ]
    },
    {
     "name": "stdout",
     "output_type": "stream",
     "text": [
      "\r",
      "scenario: baseline\tprotocol: bitcoin\tdepth: 5\tsize: 18385\ttime_spent: 10.000554151003598\trss: 0.336639404296875"
     ]
    },
    {
     "name": "stdout",
     "output_type": "stream",
     "text": [
      "\r",
      "scenario: baseline\tprotocol: bitcoin\tdepth: 6\tsize: 78072\ttime_spent: 44.10054111500358\trss: 0.8479042053222656"
     ]
    },
    {
     "name": "stdout",
     "output_type": "stream",
     "text": [
      "\r",
      "scenario: baseline\tprotocol: ethereum_3\tdepth: 0\tsize: 6\ttime_spent: 0.0034721699994406663\trss: 0.3648681640625\r",
      "scenario: baseline\tprotocol: ethereum_3\tdepth: 1\tsize: 40\ttime_spent: 4.5319269449973945\trss: 0.36443328857421875"
     ]
    },
    {
     "name": "stdout",
     "output_type": "stream",
     "text": [
      "\r",
      "scenario: baseline\tprotocol: ethereum_3\tdepth: 2\tsize: 292\ttime_spent: 4.701097338998807\trss: 0.3637733459472656"
     ]
    },
    {
     "name": "stdout",
     "output_type": "stream",
     "text": [
      "\r",
      "scenario: baseline\tprotocol: ethereum_3\tdepth: 3\tsize: 1954\ttime_spent: 5.807816114996967\trss: 0.3637733459472656"
     ]
    },
    {
     "name": "stdout",
     "output_type": "stream",
     "text": [
      "\r",
      "scenario: baseline\tprotocol: ethereum_3\tdepth: 4\tsize: 12625\ttime_spent: 13.329757975996472\trss: 0.3637733459472656"
     ]
    },
    {
     "name": "stdout",
     "output_type": "stream",
     "text": [
      "\r",
      "scenario: baseline\tprotocol: ethereum_3\tdepth: 5\tsize: 79457\ttime_spent: 65.01787515899923\trss: 0.9373817443847656"
     ]
    },
    {
     "name": "stdout",
     "output_type": "stream",
     "text": [
      "\r",
      "scenario: baseline\tprotocol: byzantium_3\tdepth: 0\tsize: 6\ttime_spent: 0.0027608750024228357\trss: 0.36589813232421875\r",
      "scenario: baseline\tprotocol: byzantium_3\tdepth: 1\tsize: 40\ttime_spent: 4.501707808005449\trss: 0.36551666259765625"
     ]
    },
    {
     "name": "stdout",
     "output_type": "stream",
     "text": [
      "\r",
      "scenario: baseline\tprotocol: byzantium_3\tdepth: 2\tsize: 292\ttime_spent: 4.665361573002883\trss: 0.36527252197265625"
     ]
    },
    {
     "name": "stdout",
     "output_type": "stream",
     "text": [
      "\r",
      "scenario: baseline\tprotocol: byzantium_3\tdepth: 3\tsize: 1954\ttime_spent: 5.721506760004559\trss: 0.36527252197265625"
     ]
    },
    {
     "name": "stdout",
     "output_type": "stream",
     "text": [
      "\r",
      "scenario: baseline\tprotocol: byzantium_3\tdepth: 4\tsize: 12627\ttime_spent: 13.081303109000146\trss: 0.36527252197265625"
     ]
    },
    {
     "name": "stdout",
     "output_type": "stream",
     "text": [
      "\r",
      "scenario: baseline\tprotocol: byzantium_3\tdepth: 5\tsize: 79170\ttime_spent: 67.60281677500461\trss: 0.9349746704101562"
     ]
    },
    {
     "name": "stdout",
     "output_type": "stream",
     "text": [
      "\r",
      "scenario: baseline\tprotocol: ghostdag_3\tdepth: 0\tsize: 6\ttime_spent: 0.002386311003647279\trss: 0.3701438903808594\r",
      "scenario: baseline\tprotocol: ghostdag_3\tdepth: 1\tsize: 40\ttime_spent: 4.534040584003378\trss: 0.3695030212402344"
     ]
    },
    {
     "name": "stdout",
     "output_type": "stream",
     "text": [
      "\r",
      "scenario: baseline\tprotocol: ghostdag_3\tdepth: 2\tsize: 304\ttime_spent: 4.742458478001936\trss: 0.3685264587402344"
     ]
    },
    {
     "name": "stdout",
     "output_type": "stream",
     "text": [
      "\r",
      "scenario: baseline\tprotocol: ghostdag_3\tdepth: 3\tsize: 2340\ttime_spent: 6.791673147003166\trss: 0.3685264587402344"
     ]
    },
    {
     "name": "stdout",
     "output_type": "stream",
     "text": [
      "\r",
      "scenario: baseline\tprotocol: ghostdag_3\tdepth: 4\tsize: 18128\ttime_spent: 29.605227182997623\trss: 0.3685264587402344"
     ]
    },
    {
     "name": "stdout",
     "output_type": "stream",
     "text": [
      "\r",
      "scenario: baseline\tprotocol: parallel_3\tdepth: 0\tsize: 76\ttime_spent: 0.02604030899965437\trss: 0.4540214538574219"
     ]
    },
    {
     "name": "stdout",
     "output_type": "stream",
     "text": [
      "\r",
      "scenario: baseline\tprotocol: parallel_3\tdepth: 1\tsize: 432\ttime_spent: 4.648823215997254\trss: 0.4536590576171875"
     ]
    },
    {
     "name": "stdout",
     "output_type": "stream",
     "text": [
      "\r",
      "scenario: baseline\tprotocol: parallel_3\tdepth: 2\tsize: 2310\ttime_spent: 5.651998394001566\trss: 0.4536590576171875"
     ]
    },
    {
     "name": "stdout",
     "output_type": "stream",
     "text": [
      "\r",
      "scenario: baseline\tprotocol: parallel_3\tdepth: 3\tsize: 10638\ttime_spent: 10.128287680003268\trss: 0.4537811279296875"
     ]
    },
    {
     "name": "stdout",
     "output_type": "stream",
     "text": [
      "\r",
      "scenario: baseline\tprotocol: parallel_3\tdepth: 4\tsize: 44955\ttime_spent: 30.925288200996874\trss: 0.6006317138671875"
     ]
    },
    {
     "name": "stdout",
     "output_type": "stream",
     "text": [
      "\r",
      "scenario: w/ force consider\tprotocol: bitcoin\tdepth: 0\tsize: 5\ttime_spent: 0.0020742250053444877\trss: 0.37514495849609375\r",
      "scenario: w/ force consider\tprotocol: bitcoin\tdepth: 1\tsize: 21\ttime_spent: 4.544527536003443\trss: 0.37416839599609375\r",
      "scenario: w/ force consider\tprotocol: bitcoin\tdepth: 2\tsize: 84\ttime_spent: 4.621955243004777\trss: 0.37416839599609375"
     ]
    },
    {
     "name": "stdout",
     "output_type": "stream",
     "text": [
      "\r",
      "scenario: w/ force consider\tprotocol: bitcoin\tdepth: 3\tsize: 287\ttime_spent: 4.767763877003745\trss: 0.37343597412109375"
     ]
    },
    {
     "name": "stdout",
     "output_type": "stream",
     "text": [
      "\r",
      "scenario: w/ force consider\tprotocol: bitcoin\tdepth: 4\tsize: 879\ttime_spent: 5.12683089600614\trss: 0.37343597412109375"
     ]
    },
    {
     "name": "stdout",
     "output_type": "stream",
     "text": [
      "\r",
      "scenario: w/ force consider\tprotocol: bitcoin\tdepth: 5\tsize: 2494\ttime_spent: 6.221437568005058\trss: 0.37343597412109375"
     ]
    },
    {
     "name": "stdout",
     "output_type": "stream",
     "text": [
      "\r",
      "scenario: w/ force consider\tprotocol: bitcoin\tdepth: 6\tsize: 6773\ttime_spent: 9.478742000006605\trss: 0.37343597412109375"
     ]
    },
    {
     "name": "stdout",
     "output_type": "stream",
     "text": [
      "\r",
      "scenario: w/ force consider\tprotocol: bitcoin\tdepth: 7\tsize: 17815\ttime_spent: 18.546285798001918\trss: 0.37339019775390625"
     ]
    },
    {
     "name": "stdout",
     "output_type": "stream",
     "text": [
      "\r",
      "scenario: w/ force consider\tprotocol: bitcoin\tdepth: 8\tsize: 45873\ttime_spent: 43.20283563800331\trss: 0.6982345581054688"
     ]
    },
    {
     "name": "stdout",
     "output_type": "stream",
     "text": [
      "\r",
      "scenario: w/ force consider\tprotocol: ethereum_3\tdepth: 0\tsize: 5\ttime_spent: 0.0024566430001868866\trss: 0.37537384033203125\r",
      "scenario: w/ force consider\tprotocol: ethereum_3\tdepth: 1\tsize: 41\ttime_spent: 5.219146278999688\trss: 0.3752174377441406"
     ]
    },
    {
     "name": "stdout",
     "output_type": "stream",
     "text": [
      "\r",
      "scenario: w/ force consider\tprotocol: ethereum_3\tdepth: 2\tsize: 268\ttime_spent: 5.411989216998336\trss: 0.3744850158691406"
     ]
    },
    {
     "name": "stdout",
     "output_type": "stream",
     "text": [
      "\r",
      "scenario: w/ force consider\tprotocol: ethereum_3\tdepth: 3\tsize: 1540\ttime_spent: 6.501085550997232\trss: 0.3744850158691406"
     ]
    },
    {
     "name": "stdout",
     "output_type": "stream",
     "text": [
      "\r",
      "scenario: w/ force consider\tprotocol: ethereum_3\tdepth: 4\tsize: 8437\ttime_spent: 13.27480913099862\trss: 0.3744850158691406"
     ]
    },
    {
     "name": "stdout",
     "output_type": "stream",
     "text": [
      "\r",
      "scenario: w/ force consider\tprotocol: ethereum_3\tdepth: 5\tsize: 44638\ttime_spent: 54.6149001599988\trss: 0.7018775939941406"
     ]
    },
    {
     "name": "stdout",
     "output_type": "stream",
     "text": [
      "\r",
      "scenario: w/ force consider\tprotocol: byzantium_3\tdepth: 0\tsize: 5\ttime_spent: 0.0025088809998123907\trss: 0.378814697265625\r",
      "scenario: w/ force consider\tprotocol: byzantium_3\tdepth: 1\tsize: 41\ttime_spent: 5.196121783003036\trss: 0.378143310546875"
     ]
    },
    {
     "name": "stdout",
     "output_type": "stream",
     "text": [
      "\r",
      "scenario: w/ force consider\tprotocol: byzantium_3\tdepth: 2\tsize: 268\ttime_spent: 5.393102080000972\trss: 0.377655029296875"
     ]
    },
    {
     "name": "stdout",
     "output_type": "stream",
     "text": [
      "\r",
      "scenario: w/ force consider\tprotocol: byzantium_3\tdepth: 3\tsize: 1540\ttime_spent: 6.536236457999621\trss: 0.377655029296875"
     ]
    },
    {
     "name": "stdout",
     "output_type": "stream",
     "text": [
      "\r",
      "scenario: w/ force consider\tprotocol: byzantium_3\tdepth: 4\tsize: 8341\ttime_spent: 14.462210936006159\trss: 0.377777099609375"
     ]
    },
    {
     "name": "stdout",
     "output_type": "stream",
     "text": [
      "\r",
      "scenario: w/ force consider\tprotocol: byzantium_3\tdepth: 5\tsize: 43471\ttime_spent: 61.324030245006725\trss: 0.688201904296875"
     ]
    },
    {
     "name": "stdout",
     "output_type": "stream",
     "text": [
      "\r",
      "scenario: w/ force consider\tprotocol: ghostdag_3\tdepth: 0\tsize: 5\ttime_spent: 0.0023739680036669597\trss: 0.37763214111328125\r",
      "scenario: w/ force consider\tprotocol: ghostdag_3\tdepth: 1\tsize: 23\ttime_spent: 5.275678347003122\trss: 0.37747955322265625\r",
      "scenario: w/ force consider\tprotocol: ghostdag_3\tdepth: 2\tsize: 112\ttime_spent: 5.38699956000346\trss: 0.37747955322265625"
     ]
    },
    {
     "name": "stdout",
     "output_type": "stream",
     "text": [
      "\r",
      "scenario: w/ force consider\tprotocol: ghostdag_3\tdepth: 3\tsize: 541\ttime_spent: 5.8978468970017275\trss: 0.37679290771484375"
     ]
    },
    {
     "name": "stdout",
     "output_type": "stream",
     "text": [
      "\r",
      "scenario: w/ force consider\tprotocol: ghostdag_3\tdepth: 4\tsize: 2671\ttime_spent: 9.667219258997648\trss: 0.37679290771484375"
     ]
    },
    {
     "name": "stdout",
     "output_type": "stream",
     "text": [
      "\r",
      "scenario: w/ force consider\tprotocol: ghostdag_3\tdepth: 5\tsize: 13203\ttime_spent: 38.67961209700297\trss: 0.37679290771484375"
     ]
    },
    {
     "name": "stdout",
     "output_type": "stream",
     "text": [
      "\r",
      "scenario: w/ force consider\tprotocol: ghostdag_3\tdepth: 6\tsize: 65922\ttime_spent: 245.48154505399725\trss: 0.8437118530273438"
     ]
    },
    {
     "name": "stdout",
     "output_type": "stream",
     "text": [
      "\r",
      "scenario: w/ force consider\tprotocol: parallel_3\tdepth: 0\tsize: 61\ttime_spent: 0.02597374000470154\trss: 0.44759368896484375\r",
      "scenario: w/ force consider\tprotocol: parallel_3\tdepth: 1\tsize: 285\ttime_spent: 5.183309083004133\trss: 0.4472236633300781"
     ]
    },
    {
     "name": "stdout",
     "output_type": "stream",
     "text": [
      "\r",
      "scenario: w/ force consider\tprotocol: parallel_3\tdepth: 2\tsize: 1081\ttime_spent: 5.664815018004447\trss: 0.4467353820800781"
     ]
    },
    {
     "name": "stdout",
     "output_type": "stream",
     "text": [
      "\r",
      "scenario: w/ force consider\tprotocol: parallel_3\tdepth: 3\tsize: 3652\ttime_spent: 7.2574113750015385\trss: 0.4467353820800781"
     ]
    },
    {
     "name": "stdout",
     "output_type": "stream",
     "text": [
      "\r",
      "scenario: w/ force consider\tprotocol: parallel_3\tdepth: 4\tsize: 11872\ttime_spent: 12.895903617005388\trss: 0.4468574523925781"
     ]
    },
    {
     "name": "stdout",
     "output_type": "stream",
     "text": [
      "\r",
      "scenario: w/ force consider\tprotocol: parallel_3\tdepth: 5\tsize: 38751\ttime_spent: 32.75710202200571\trss: 0.5844306945800781"
     ]
    },
    {
     "name": "stdout",
     "output_type": "stream",
     "text": [
      "\r",
      "scenario: w/ normalization\tprotocol: bitcoin\tdepth: 0\tsize: 6\ttime_spent: 0.003594622998207342\trss: 0.3921089172363281\r",
      "scenario: w/ normalization\tprotocol: bitcoin\tdepth: 1\tsize: 40\ttime_spent: 4.964489309000783\trss: 0.3916206359863281\r",
      "scenario: w/ normalization\tprotocol: bitcoin\tdepth: 2\tsize: 226\ttime_spent: 5.096111993996601\trss: 0.3916206359863281"
     ]
    },
    {
     "name": "stdout",
     "output_type": "stream",
     "text": [
      "\r",
      "scenario: w/ normalization\tprotocol: bitcoin\tdepth: 3\tsize: 1054\ttime_spent: 5.652948992996244\trss: 0.3911323547363281"
     ]
    },
    {
     "name": "stdout",
     "output_type": "stream",
     "text": [
      "\r",
      "scenario: w/ normalization\tprotocol: bitcoin\tdepth: 4\tsize: 4315\ttime_spent: 8.079763748995902\trss: 0.3911323547363281"
     ]
    },
    {
     "name": "stdout",
     "output_type": "stream",
     "text": [
      "\r",
      "scenario: w/ normalization\tprotocol: bitcoin\tdepth: 5\tsize: 16128\ttime_spent: 18.255136658000993\trss: 0.3911323547363281"
     ]
    },
    {
     "name": "stdout",
     "output_type": "stream",
     "text": [
      "\r",
      "scenario: w/ normalization\tprotocol: bitcoin\tdepth: 6\tsize: 56659\ttime_spent: 56.637394764999044\trss: 0.7151069641113281"
     ]
    },
    {
     "name": "stdout",
     "output_type": "stream",
     "text": [
      "\r",
      "scenario: w/ normalization\tprotocol: ethereum_3\tdepth: 0\tsize: 6\ttime_spent: 0.003494074997433927\trss: 0.39583587646484375\r",
      "scenario: w/ normalization\tprotocol: ethereum_3\tdepth: 1\tsize: 73\ttime_spent: 5.1588088819989935\trss: 0.39534759521484375"
     ]
    },
    {
     "name": "stdout",
     "output_type": "stream",
     "text": [
      "\r",
      "scenario: w/ normalization\tprotocol: ethereum_3\tdepth: 2\tsize: 706\ttime_spent: 5.723578733995964\trss: 0.3946800231933594"
     ]
    },
    {
     "name": "stdout",
     "output_type": "stream",
     "text": [
      "\r",
      "scenario: w/ normalization\tprotocol: ethereum_3\tdepth: 3\tsize: 6062\ttime_spent: 10.7411272620011\trss: 0.3946800231933594"
     ]
    },
    {
     "name": "stdout",
     "output_type": "stream",
     "text": [
      "\r",
      "scenario: w/ normalization\tprotocol: ethereum_3\tdepth: 4\tsize: 49240\ttime_spent: 60.93111984699499\trss: 0.7027854919433594"
     ]
    },
    {
     "name": "stdout",
     "output_type": "stream",
     "text": [
      "\r",
      "scenario: w/ normalization\tprotocol: byzantium_3\tdepth: 0\tsize: 6\ttime_spent: 0.004091085997060873\trss: 0.3960914611816406\r",
      "scenario: w/ normalization\tprotocol: byzantium_3\tdepth: 1\tsize: 73\ttime_spent: 6.474441152000509\trss: 0.3951416015625"
     ]
    },
    {
     "name": "stdout",
     "output_type": "stream",
     "text": [
      "\r",
      "scenario: w/ normalization\tprotocol: byzantium_3\tdepth: 2\tsize: 706\ttime_spent: 7.208999185997527\trss: 0.3944091796875"
     ]
    },
    {
     "name": "stdout",
     "output_type": "stream",
     "text": [
      "\r",
      "scenario: w/ normalization\tprotocol: byzantium_3\tdepth: 3\tsize: 6062\ttime_spent: 14.326678478995746\trss: 0.3941650390625"
     ]
    },
    {
     "name": "stdout",
     "output_type": "stream",
     "text": [
      "\r",
      "scenario: w/ normalization\tprotocol: byzantium_3\tdepth: 4\tsize: 48925\ttime_spent: 72.39553951699781\trss: 0.6998291015625"
     ]
    },
    {
     "name": "stdout",
     "output_type": "stream",
     "text": [
      "\r",
      "scenario: w/ normalization\tprotocol: ghostdag_3\tdepth: 0\tsize: 6\ttime_spent: 0.0030931820001569577\trss: 0.39897918701171875\r",
      "scenario: w/ normalization\tprotocol: ghostdag_3\tdepth: 1\tsize: 36\ttime_spent: 5.449004107002111\trss: 0.3982887268066406"
     ]
    },
    {
     "name": "stdout",
     "output_type": "stream",
     "text": [
      "\r",
      "scenario: w/ normalization\tprotocol: ghostdag_3\tdepth: 2\tsize: 229\ttime_spent: 5.625992908004264\trss: 0.3978004455566406"
     ]
    },
    {
     "name": "stdout",
     "output_type": "stream",
     "text": [
      "\r",
      "scenario: w/ normalization\tprotocol: ghostdag_3\tdepth: 3\tsize: 1461\ttime_spent: 6.892864396002551\trss: 0.3978004455566406"
     ]
    },
    {
     "name": "stdout",
     "output_type": "stream",
     "text": [
      "\r",
      "scenario: w/ normalization\tprotocol: ghostdag_3\tdepth: 4\tsize: 9478\ttime_spent: 18.277847318997374\trss: 0.3975563049316406"
     ]
    },
    {
     "name": "stdout",
     "output_type": "stream",
     "text": [
      "\r",
      "scenario: w/ normalization\tprotocol: ghostdag_3\tdepth: 5\tsize: 62398\ttime_spent: 122.66945135199785\trss: 0.7404518127441406"
     ]
    },
    {
     "name": "stdout",
     "output_type": "stream",
     "text": [
      "\r",
      "scenario: w/ normalization\tprotocol: parallel_3\tdepth: 0\tsize: 51\ttime_spent: 0.02382379000482615\trss: 0.4280967712402344\r",
      "scenario: w/ normalization\tprotocol: parallel_3\tdepth: 1\tsize: 314\ttime_spent: 5.281011598002806\trss: 0.4276084899902344"
     ]
    },
    {
     "name": "stdout",
     "output_type": "stream",
     "text": [
      "\r",
      "scenario: w/ normalization\tprotocol: parallel_3\tdepth: 2\tsize: 1497\ttime_spent: 6.069769094006915\trss: 0.4268760681152344"
     ]
    },
    {
     "name": "stdout",
     "output_type": "stream",
     "text": [
      "\r",
      "scenario: w/ normalization\tprotocol: parallel_3\tdepth: 3\tsize: 5855\ttime_spent: 9.42361136200634\trss: 0.4268760681152344"
     ]
    },
    {
     "name": "stdout",
     "output_type": "stream",
     "text": [
      "\r",
      "scenario: w/ normalization\tprotocol: parallel_3\tdepth: 4\tsize: 20896\ttime_spent: 23.06551645300351\trss: 0.4268760681152344"
     ]
    },
    {
     "name": "stdout",
     "output_type": "stream",
     "text": [
      "\r",
      "scenario: w/ normalization\tprotocol: parallel_3\tdepth: 5\tsize: 70009\ttime_spent: 73.96409792200575\trss: 0.8953819274902344"
     ]
    },
    {
     "name": "stdout",
     "output_type": "stream",
     "text": [
      "\r",
      "scenario: w/ both\tprotocol: bitcoin\tdepth: 0\tsize: 5\ttime_spent: 0.0029165300002205186\trss: 0.3968238830566406\r",
      "scenario: w/ both\tprotocol: bitcoin\tdepth: 1\tsize: 18\ttime_spent: 5.377117755000654\trss: 0.3961029052734375\r",
      "scenario: w/ both\tprotocol: bitcoin\tdepth: 2\tsize: 54\ttime_spent: 5.448853734000295\trss: 0.3961029052734375"
     ]
    },
    {
     "name": "stdout",
     "output_type": "stream",
     "text": [
      "\r",
      "scenario: w/ both\tprotocol: bitcoin\tdepth: 3\tsize: 139\ttime_spent: 5.555095063005865\trss: 0.3953704833984375"
     ]
    },
    {
     "name": "stdout",
     "output_type": "stream",
     "text": [
      "\r",
      "scenario: w/ both\tprotocol: bitcoin\tdepth: 4\tsize: 320\ttime_spent: 5.751349991005554\trss: 0.3953704833984375"
     ]
    },
    {
     "name": "stdout",
     "output_type": "stream",
     "text": [
      "\r",
      "scenario: w/ both\tprotocol: bitcoin\tdepth: 5\tsize: 687\ttime_spent: 6.140976791000867\trss: 0.3953704833984375"
     ]
    },
    {
     "name": "stdout",
     "output_type": "stream",
     "text": [
      "\r",
      "scenario: w/ both\tprotocol: bitcoin\tdepth: 6\tsize: 1427\ttime_spent: 6.996451327002433\trss: 0.3953704833984375"
     ]
    },
    {
     "name": "stdout",
     "output_type": "stream",
     "text": [
      "\r",
      "scenario: w/ both\tprotocol: bitcoin\tdepth: 7\tsize: 2918\ttime_spent: 8.650991055001214\trss: 0.3953704833984375"
     ]
    },
    {
     "name": "stdout",
     "output_type": "stream",
     "text": [
      "\r",
      "scenario: w/ both\tprotocol: bitcoin\tdepth: 8\tsize: 5933\ttime_spent: 12.259581730002537\trss: 0.3953704833984375"
     ]
    },
    {
     "name": "stdout",
     "output_type": "stream",
     "text": [
      "\r",
      "scenario: w/ both\tprotocol: bitcoin\tdepth: 9\tsize: 12073\ttime_spent: 20.25114079800551\trss: 0.3953704833984375"
     ]
    },
    {
     "name": "stdout",
     "output_type": "stream",
     "text": [
      "\r",
      "scenario: w/ both\tprotocol: bitcoin\tdepth: 10\tsize: 24635\ttime_spent: 37.55657430300198\trss: 0.4564056396484375"
     ]
    },
    {
     "name": "stdout",
     "output_type": "stream",
     "text": [
      "\r",
      "scenario: w/ both\tprotocol: bitcoin\tdepth: 11\tsize: 50394\ttime_spent: 74.8276219410036\trss: 0.7688217163085938"
     ]
    },
    {
     "name": "stdout",
     "output_type": "stream",
     "text": [
      "\r",
      "scenario: w/ both\tprotocol: ethereum_3\tdepth: 0\tsize: 5\ttime_spent: 0.0032076959978439845\trss: 0.39402008056640625\r",
      "scenario: w/ both\tprotocol: ethereum_3\tdepth: 1\tsize: 29\ttime_spent: 6.018905190001533\trss: 0.39279937744140625\r",
      "scenario: w/ both\tprotocol: ethereum_3\tdepth: 2\tsize: 133\ttime_spent: 6.143780528000207\trss: 0.39279937744140625"
     ]
    },
    {
     "name": "stdout",
     "output_type": "stream",
     "text": [
      "\r",
      "scenario: w/ both\tprotocol: ethereum_3\tdepth: 3\tsize: 539\ttime_spent: 6.541108468001767\trss: 0.39206695556640625"
     ]
    },
    {
     "name": "stdout",
     "output_type": "stream",
     "text": [
      "\r",
      "scenario: w/ both\tprotocol: ethereum_3\tdepth: 4\tsize: 2112\ttime_spent: 8.318001336003363\trss: 0.39206695556640625"
     ]
    },
    {
     "name": "stdout",
     "output_type": "stream",
     "text": [
      "\r",
      "scenario: w/ both\tprotocol: ethereum_3\tdepth: 5\tsize: 8053\ttime_spent: 16.347019884000474\trss: 0.39206695556640625"
     ]
    },
    {
     "name": "stdout",
     "output_type": "stream",
     "text": [
      "\r",
      "scenario: w/ both\tprotocol: ethereum_3\tdepth: 6\tsize: 30011\ttime_spent: 49.735858507003286\trss: 0.5325698852539062"
     ]
    },
    {
     "name": "stdout",
     "output_type": "stream",
     "text": [
      "\r",
      "scenario: w/ both\tprotocol: byzantium_3\tdepth: 0\tsize: 5\ttime_spent: 0.0034903760024462827\trss: 0.401123046875\r",
      "scenario: w/ both\tprotocol: byzantium_3\tdepth: 1\tsize: 29\ttime_spent: 6.137696322999545\trss: 0.4006195068359375"
     ]
    },
    {
     "name": "stdout",
     "output_type": "stream",
     "text": [
      "\r",
      "scenario: w/ both\tprotocol: byzantium_3\tdepth: 2\tsize: 133\ttime_spent: 6.2739672110037645\trss: 0.4001312255859375"
     ]
    },
    {
     "name": "stdout",
     "output_type": "stream",
     "text": [
      "\r",
      "scenario: w/ both\tprotocol: byzantium_3\tdepth: 3\tsize: 539\ttime_spent: 6.7489732620015275\trss: 0.4001312255859375"
     ]
    },
    {
     "name": "stdout",
     "output_type": "stream",
     "text": [
      "\r",
      "scenario: w/ both\tprotocol: byzantium_3\tdepth: 4\tsize: 2082\ttime_spent: 8.913711077002517\trss: 0.3998870849609375"
     ]
    },
    {
     "name": "stdout",
     "output_type": "stream",
     "text": [
      "\r",
      "scenario: w/ both\tprotocol: byzantium_3\tdepth: 5\tsize: 7765\ttime_spent: 17.385692709001887\trss: 0.3996429443359375"
     ]
    },
    {
     "name": "stdout",
     "output_type": "stream",
     "text": [
      "\r",
      "scenario: w/ both\tprotocol: byzantium_3\tdepth: 6\tsize: 28232\ttime_spent: 53.172042639998836\trss: 0.5145111083984375"
     ]
    },
    {
     "name": "stdout",
     "output_type": "stream",
     "text": [
      "\r",
      "scenario: w/ both\tprotocol: ghostdag_3\tdepth: 0\tsize: 5\ttime_spent: 0.0029735029966104776\trss: 0.3987998962402344\r",
      "scenario: w/ both\tprotocol: ghostdag_3\tdepth: 1\tsize: 19\ttime_spent: 6.204361144998984\trss: 0.3980903625488281\r",
      "scenario: w/ both\tprotocol: ghostdag_3\tdepth: 2\tsize: 67\ttime_spent: 6.300296549001359\trss: 0.3980903625488281"
     ]
    },
    {
     "name": "stdout",
     "output_type": "stream",
     "text": [
      "\r",
      "scenario: w/ both\tprotocol: ghostdag_3\tdepth: 3\tsize: 234\ttime_spent: 6.5314202239969745\trss: 0.3973579406738281"
     ]
    },
    {
     "name": "stdout",
     "output_type": "stream",
     "text": [
      "\r",
      "scenario: w/ both\tprotocol: ghostdag_3\tdepth: 4\tsize: 828\ttime_spent: 7.498642248996475\trss: 0.3973579406738281"
     ]
    },
    {
     "name": "stdout",
     "output_type": "stream",
     "text": [
      "\r",
      "scenario: w/ both\tprotocol: ghostdag_3\tdepth: 5\tsize: 2978\ttime_spent: 12.149633249995532\trss: 0.3973579406738281"
     ]
    },
    {
     "name": "stdout",
     "output_type": "stream",
     "text": [
      "\r",
      "scenario: w/ both\tprotocol: ghostdag_3\tdepth: 6\tsize: 10873\ttime_spent: 35.56029674399906\trss: 0.3973579406738281"
     ]
    },
    {
     "name": "stdout",
     "output_type": "stream",
     "text": [
      "\r",
      "scenario: w/ both\tprotocol: ghostdag_3\tdepth: 7\tsize: 40198\ttime_spent: 152.5091241889968\trss: 0.5931587219238281"
     ]
    },
    {
     "name": "stdout",
     "output_type": "stream",
     "text": [
      "\r",
      "scenario: w/ both\tprotocol: parallel_3\tdepth: 0\tsize: 41\ttime_spent: 0.021975388001010288\trss: 0.4618492126464844\r",
      "scenario: w/ both\tprotocol: parallel_3\tdepth: 1\tsize: 166\ttime_spent: 5.959800894001091\trss: 0.4618492126464844"
     ]
    },
    {
     "name": "stdout",
     "output_type": "stream",
     "text": [
      "\r",
      "scenario: w/ both\tprotocol: parallel_3\tdepth: 2\tsize: 477\ttime_spent: 6.223853121002321\trss: 0.460968017578125"
     ]
    },
    {
     "name": "stdout",
     "output_type": "stream",
     "text": [
      "\r",
      "scenario: w/ both\tprotocol: parallel_3\tdepth: 3\tsize: 1246\ttime_spent: 6.946988736999629\trss: 0.460968017578125"
     ]
    },
    {
     "name": "stdout",
     "output_type": "stream",
     "text": [
      "\r",
      "scenario: w/ both\tprotocol: parallel_3\tdepth: 4\tsize: 2976\ttime_spent: 8.726018489003764\trss: 0.460968017578125"
     ]
    },
    {
     "name": "stdout",
     "output_type": "stream",
     "text": [
      "\r",
      "scenario: w/ both\tprotocol: parallel_3\tdepth: 5\tsize: 6712\ttime_spent: 12.812980718998006\trss: 0.461090087890625"
     ]
    },
    {
     "name": "stdout",
     "output_type": "stream",
     "text": [
      "\r",
      "scenario: w/ both\tprotocol: parallel_3\tdepth: 6\tsize: 14291\ttime_spent: 22.684086193999974\trss: 0.461090087890625"
     ]
    },
    {
     "name": "stdout",
     "output_type": "stream",
     "text": [
      "\r",
      "scenario: w/ both\tprotocol: parallel_3\tdepth: 7\tsize: 29464\ttime_spent: 43.499570122003206\trss: 0.506011962890625"
     ]
    },
    {
     "name": "stdout",
     "output_type": "stream",
     "text": [
      "\r",
      "scenario: w/ both\tprotocol: parallel_3\tdepth: 8\tsize: 59252\ttime_spent: 87.58072489900223\trss: 0.8639144897460938"
     ]
    }
   ],
   "source": [
    "from IPython.display import display, clear_output\n",
    "import gc\n",
    "import psutil\n",
    "import pickle\n",
    "import gzip\n",
    "\n",
    "max_size = 100000\n",
    "# max_size = 10000\n",
    "aborts = []\n",
    "size_log = []\n",
    "\n",
    "\n",
    "def get_rss():\n",
    "    gc.collect()\n",
    "    return psutil.Process().memory_info().rss / 1024**3  # GiB\n",
    "\n",
    "\n",
    "for idx, row in models.iterrows():\n",
    "    m = implicit_mdps[idx]\n",
    "    explorer = Explorer(m, m.honest)\n",
    "    start_time = time.monotonic()\n",
    "    depth = 0\n",
    "\n",
    "    def log():\n",
    "        info = row.to_dict() | dict(\n",
    "            depth=depth,\n",
    "            size=explorer.n_states,\n",
    "            time_spent=time.monotonic() - start_time,\n",
    "            rss=get_rss(),\n",
    "        )\n",
    "        mdp_key = format(abs(hash(frozenset(info.items()))), \"08x\")[0:8]\n",
    "        size_log.append(row.to_dict() | info | dict(mdp=mdp_key))\n",
    "        with gzip.open(f\"4-generated-mdps/mdp-{mdp_key}.pkl.gz\", \"wb\") as f:\n",
    "            pickle.dump(explorer.mdp(), f)\n",
    "\n",
    "        # report to stdout\n",
    "        d = size_log[-1]\n",
    "        print(\n",
    "            \"\\r\"\n",
    "            + \"\\t\".join(\n",
    "                [\n",
    "                    f\"{k}: {d[k]}\"\n",
    "                    for k in [\n",
    "                        \"scenario\",\n",
    "                        \"protocol\",\n",
    "                        \"depth\",\n",
    "                        \"size\",\n",
    "                        \"time_spent\",\n",
    "                        \"rss\",\n",
    "                    ]\n",
    "                ]\n",
    "            ),\n",
    "            end=\"\",\n",
    "        )\n",
    "\n",
    "    try:\n",
    "        explorer.explore_along_policy(max_states=max_size)\n",
    "    except RuntimeError as e:\n",
    "        if e.args == (\"state size limit exceeded\",):\n",
    "            gc.collect()\n",
    "            aborts.append(\n",
    "                row.to_dict()\n",
    "                | dict(\n",
    "                    reason=\"state size limit exceeded\",\n",
    "                    depth=0,\n",
    "                    time_spent=time.monotonic() - start_time,\n",
    "                    rss=get_rss(),\n",
    "                )\n",
    "            )\n",
    "            continue\n",
    "        else:\n",
    "            raise e\n",
    "\n",
    "    log()\n",
    "\n",
    "    while True:\n",
    "        # increase depth by one\n",
    "        try:\n",
    "            explorer.explore_aside_policy(max_states=max_size)\n",
    "            explorer.explore_along_policy(max_states=max_size)\n",
    "        except RuntimeError as e:\n",
    "            if e.args == (\"state size limit exceeded\",):\n",
    "                aborts.append(\n",
    "                    row.to_dict()\n",
    "                    | dict(\n",
    "                        reason=\"state size limit exceeded\",\n",
    "                        depth=depth + 1,\n",
    "                        time_spent=time.monotonic() - start_time,\n",
    "                        rss=get_rss(),\n",
    "                    )\n",
    "                )\n",
    "                break\n",
    "            else:\n",
    "                raise e\n",
    "\n",
    "        depth += 1\n",
    "        log()\n",
    "\n",
    "\n",
    "size_log = pandas.DataFrame(size_log)\n",
    "aborts = pandas.DataFrame(aborts)\n",
    "\n",
    "size_log.to_pickle(\"4-generated-mdps/success.pkl.gz\")\n",
    "aborts.to_pickle(\"4-generated-mdps/fail.pkl.gz\")"
   ]
  },
  {
   "cell_type": "code",
   "execution_count": 5,
   "id": "3d098de2-e8a9-4cf5-ba61-3dd2247a87c5",
   "metadata": {
    "execution": {
     "iopub.execute_input": "2024-12-23T20:55:46.027600Z",
     "iopub.status.busy": "2024-12-23T20:55:46.027433Z",
     "iopub.status.idle": "2024-12-23T20:55:48.226588Z",
     "shell.execute_reply": "2024-12-23T20:55:48.226116Z"
    }
   },
   "outputs": [
    {
     "data": {
      "text/plain": [
       "<seaborn.axisgrid.FacetGrid at 0x7f7cac8286d0>"
      ]
     },
     "execution_count": 5,
     "metadata": {},
     "output_type": "execute_result"
    },
    {
     "data": {
      "image/png": "[encoded data removed]",
      "text/plain": [
       "<Figure size 1668.88x1000 with 5 Axes>"
      ]
     },
     "metadata": {},
     "output_type": "display_data"
    }
   ],
   "source": [
    "import seaborn\n",
    "\n",
    "seaborn.relplot(\n",
    "    data=size_log.query(\"depth < 10\"),\n",
    "    kind=\"line\",\n",
    "    x=\"depth\",\n",
    "    y=\"size\",\n",
    "    hue=\"scenario\",\n",
    "    col=\"protocol\",\n",
    "    col_wrap=3,\n",
    ").set(yscale=\"log\")"
   ]
  },
  {
   "cell_type": "code",
   "execution_count": 6,
   "id": "a3baa2f8-f895-4541-94f0-39f795b65469",
   "metadata": {
    "execution": {
     "iopub.execute_input": "2024-12-23T20:55:48.229001Z",
     "iopub.status.busy": "2024-12-23T20:55:48.228742Z",
     "iopub.status.idle": "2024-12-23T20:55:50.003325Z",
     "shell.execute_reply": "2024-12-23T20:55:50.002756Z"
    }
   },
   "outputs": [
    {
     "data": {
      "text/plain": [
       "<seaborn.axisgrid.FacetGrid at 0x7f7ca4688a30>"
      ]
     },
     "execution_count": 6,
     "metadata": {},
     "output_type": "execute_result"
    },
    {
     "data": {
      "image/png": "[encoded data removed]",
      "text/plain": [
       "<Figure size 1668.88x1000 with 5 Axes>"
      ]
     },
     "metadata": {},
     "output_type": "display_data"
    }
   ],
   "source": [
    "seaborn.relplot(\n",
    "    data=size_log.query(\"depth < 10\"),\n",
    "    kind=\"line\",\n",
    "    x=\"depth\",\n",
    "    y=\"time_spent\",\n",
    "    hue=\"scenario\",\n",
    "    col=\"protocol\",\n",
    "    col_wrap=3,\n",
    ").set(yscale=\"log\")"
   ]
  },
  {
   "cell_type": "code",
   "execution_count": 7,
   "id": "608020c1-d5f9-40b4-8c0f-d07cd0898fa8",
   "metadata": {
    "execution": {
     "iopub.execute_input": "2024-12-23T20:55:50.005465Z",
     "iopub.status.busy": "2024-12-23T20:55:50.005259Z",
     "iopub.status.idle": "2024-12-23T20:55:51.216315Z",
     "shell.execute_reply": "2024-12-23T20:55:51.215865Z"
    }
   },
   "outputs": [
    {
     "data": {
      "text/plain": [
       "<seaborn.axisgrid.FacetGrid at 0x7f7ca254dee0>"
      ]
     },
     "execution_count": 7,
     "metadata": {},
     "output_type": "execute_result"
    },
    {
     "data": {
      "image/png": "[encoded data removed]",
      "text/plain": [
       "<Figure size 1668.88x1000 with 5 Axes>"
      ]
     },
     "metadata": {},
     "output_type": "display_data"
    }
   ],
   "source": [
    "seaborn.relplot(\n",
    "    data=size_log.query(\"depth < 10\"),\n",
    "    kind=\"line\",\n",
    "    x=\"depth\",\n",
    "    y=\"rss\",\n",
    "    hue=\"scenario\",\n",
    "    col=\"protocol\",\n",
    "    col_wrap=3,\n",
    ").set(yscale=\"log\")"
   ]
  },
  {
   "cell_type": "code",
   "execution_count": 8,
   "id": "df63d12b-794c-459b-8407-7e64bd39b314",
   "metadata": {
    "execution": {
     "iopub.execute_input": "2024-12-23T20:55:51.218421Z",
     "iopub.status.busy": "2024-12-23T20:55:51.218253Z",
     "iopub.status.idle": "2024-12-23T20:55:51.221869Z",
     "shell.execute_reply": "2024-12-23T20:55:51.221526Z"
    }
   },
   "outputs": [
    {
     "data": {
      "text/plain": [
       "61.87719633091668"
      ]
     },
     "execution_count": 8,
     "metadata": {},
     "output_type": "execute_result"
    }
   ],
   "source": [
    "sum(aborts.time_spent) / 60  # minutes"
   ]
  }
 ],
 "metadata": {
  "kernelspec": {
   "display_name": "Python 3 (ipykernel)",
   "language": "python",
   "name": "python3"
  },
  "language_info": {
   "codemirror_mode": {
    "name": "ipython",
    "version": 3
   },
   "file_extension": ".py",
   "mimetype": "text/x-python",
   "name": "python",
   "nbconvert_exporter": "python",
   "pygments_lexer": "ipython3",
   "version": "3.9.21"
  }
 },
 "nbformat": 4,
 "nbformat_minor": 5
}
